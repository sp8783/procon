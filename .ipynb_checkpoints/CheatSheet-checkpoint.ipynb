{
 "cells": [
  {
   "cell_type": "markdown",
   "metadata": {},
   "source": [
    "# open(0), input()をテキストボックスから取得"
   ]
  },
  {
   "cell_type": "markdown",
   "metadata": {},
   "source": [
    "inputを削除したい場合は、`del input`を実行する  \n",
    "参考URL：https://qiita.com/noca/items/00646efd9d4a7302f522"
   ]
  },
  {
   "cell_type": "code",
   "execution_count": null,
   "metadata": {},
   "outputs": [],
   "source": [
    "from ipywidgets import Textarea\n",
    "import io\n",
    "\n",
    "if 'open' in globals():\n",
    "    del open\n",
    "if 'input' in globals():\n",
    "    del input\n",
    "\n",
    "original_open = open\n",
    "\n",
    "class custom_open():\n",
    "    def __init__(self):\n",
    "        self.text = ''\n",
    "\n",
    "    def __call__(self, file, *args, **kwargs):\n",
    "        if file == 0:\n",
    "            return io.StringIO(self.text)\n",
    "        return original_open(file, *args, **kwargs)\n",
    "\n",
    "    def updater(self, change):\n",
    "        self.text = change[\"new\"]\n",
    "\n",
    "class custom_input():\n",
    "    def __init__(self):\n",
    "        self.__sio = io.StringIO('')\n",
    "        self.shell = get_ipython()\n",
    "        if self.shell.events.callbacks['pre_run_cell'] != []:\n",
    "            self.shell.events.callbacks['pre_run_cell'] = []\n",
    "        self.shell.events.register('pre_run_cell', self.pre_run_cell)\n",
    "\n",
    "    def __call__(self):\n",
    "        return self.__sio.readline().strip()\n",
    "\n",
    "    def pre_run_cell(self, info):\n",
    "        text = self.shell.user_ns.get('text_area', None).value\n",
    "        self.__sio = io.StringIO(text)\n",
    "\n",
    "open = custom_open()\n",
    "input = custom_input()\n",
    "\n",
    "text_area = Textarea()\n",
    "text_area.observe(open.updater, names='value')\n",
    "display(text_area)"
   ]
  },
  {
   "cell_type": "markdown",
   "metadata": {},
   "source": [
    "# 標準入力"
   ]
  },
  {
   "cell_type": "markdown",
   "metadata": {},
   "source": [
    "## 一列"
   ]
  },
  {
   "cell_type": "markdown",
   "metadata": {},
   "source": [
    "### 単体"
   ]
  },
  {
   "cell_type": "code",
   "execution_count": 8,
   "metadata": {},
   "outputs": [
    {
     "name": "stdin",
     "output_type": "stream",
     "text": [
      " 10\n"
     ]
    },
    {
     "name": "stdout",
     "output_type": "stream",
     "text": [
      "10\n"
     ]
    }
   ],
   "source": [
    "a = int(input()) # 1 -> a = 1\n",
    "print(a)"
   ]
  },
  {
   "cell_type": "markdown",
   "metadata": {},
   "source": [
    "### 複数"
   ]
  },
  {
   "cell_type": "code",
   "execution_count": 7,
   "metadata": {},
   "outputs": [
    {
     "name": "stdin",
     "output_type": "stream",
     "text": [
      " 1 3\n"
     ]
    },
    {
     "name": "stdout",
     "output_type": "stream",
     "text": [
      "1\n",
      "3\n"
     ]
    }
   ],
   "source": [
    "n,y = map(int,input().split()) # 1 3 -> n=1, y=3\n",
    "print(n)\n",
    "print(y)"
   ]
  },
  {
   "cell_type": "code",
   "execution_count": 6,
   "metadata": {},
   "outputs": [
    {
     "name": "stdin",
     "output_type": "stream",
     "text": [
      " 1 2 3\n"
     ]
    },
    {
     "name": "stdout",
     "output_type": "stream",
     "text": [
      "[1, 2, 3]\n"
     ]
    }
   ],
   "source": [
    "lst = list(map(int,input().split()))\n",
    "print(lst)"
   ]
  },
  {
   "cell_type": "markdown",
   "metadata": {},
   "source": [
    "### 文字列を数値に分解"
   ]
  },
  {
   "cell_type": "code",
   "execution_count": 5,
   "metadata": {},
   "outputs": [
    {
     "name": "stdin",
     "output_type": "stream",
     "text": [
      " 101\n"
     ]
    },
    {
     "name": "stdout",
     "output_type": "stream",
     "text": [
      "[1, 0, 1]\n"
     ]
    }
   ],
   "source": [
    "s = list(map(int, input())) # 101 -> [1, 0, 1]\n",
    "print(s)"
   ]
  },
  {
   "cell_type": "markdown",
   "metadata": {},
   "source": [
    "## 複数列"
   ]
  },
  {
   "cell_type": "markdown",
   "metadata": {},
   "source": [
    "### 行数指定する"
   ]
  },
  {
   "cell_type": "code",
   "execution_count": 3,
   "metadata": {},
   "outputs": [
    {
     "name": "stdin",
     "output_type": "stream",
     "text": [
      " 3\n",
      " hoge\n",
      " foo\n",
      " bar\n"
     ]
    },
    {
     "name": "stdout",
     "output_type": "stream",
     "text": [
      "['hoge', 'foo', 'bar']\n"
     ]
    }
   ],
   "source": [
    "n=int(input())\n",
    "string_list=[input() for i in range(n)]\n",
    "print(string_list)"
   ]
  },
  {
   "cell_type": "code",
   "execution_count": 4,
   "metadata": {},
   "outputs": [
    {
     "name": "stdin",
     "output_type": "stream",
     "text": [
      " 3 2 2 4 1\n",
      " 1 2 2 2 1\n"
     ]
    },
    {
     "name": "stdout",
     "output_type": "stream",
     "text": [
      "[[3, 2, 2, 4, 1], [1, 2, 2, 2, 1]]\n"
     ]
    }
   ],
   "source": [
    "lst =[list(map(int,input().split())) for i in range(2)]\n",
    "print(lst)"
   ]
  },
  {
   "cell_type": "markdown",
   "metadata": {},
   "source": [
    "### 行数指定しない"
   ]
  },
  {
   "cell_type": "code",
   "execution_count": 3,
   "metadata": {},
   "outputs": [
    {
     "name": "stdout",
     "output_type": "stream",
     "text": [
      "1 2 2 3 1\n",
      "4 5 3 4 1 2 3 4\n",
      "2 3 5 6 0 2\n",
      "\n",
      "\n",
      "\n",
      "\n",
      "\n",
      "\n",
      "\n",
      "d\n"
     ]
    }
   ],
   "source": [
    "listA=[] #appendのために宣言が必要\n",
    "while True:\n",
    "    try:\n",
    "        listA.append(list(map(int,input().split())))\n",
    "    except:\n",
    "        break;\n",
    "        #または、quit(),os.exit()をして止める。"
   ]
  },
  {
   "cell_type": "code",
   "execution_count": 4,
   "metadata": {},
   "outputs": [
    {
     "data": {
      "text/plain": [
       "[[1, 2, 2, 3, 1],\n",
       " [4, 5, 3, 4, 1, 2, 3, 4],\n",
       " [2, 3, 5, 6, 0, 2],\n",
       " [],\n",
       " [],\n",
       " [],\n",
       " [],\n",
       " [],\n",
       " [],\n",
       " []]"
      ]
     },
     "execution_count": 4,
     "metadata": {},
     "output_type": "execute_result"
    }
   ],
   "source": [
    "listA"
   ]
  },
  {
   "cell_type": "markdown",
   "metadata": {},
   "source": [
    "# 標準出力"
   ]
  },
  {
   "cell_type": "markdown",
   "metadata": {},
   "source": [
    "## 2次元配列の出力"
   ]
  },
  {
   "cell_type": "code",
   "execution_count": 6,
   "metadata": {},
   "outputs": [],
   "source": [
    "ans = [['.', '.', '.', '.', '.'], ['.', '#', '.', '#', '.'], ['.', '.', '.', '.', '.']]"
   ]
  },
  {
   "cell_type": "code",
   "execution_count": 7,
   "metadata": {},
   "outputs": [
    {
     "name": "stdout",
     "output_type": "stream",
     "text": [
      ".....\n",
      ".#.#.\n",
      ".....\n"
     ]
    }
   ],
   "source": [
    "for row in ans:\n",
    "    print(\"\".join(list(map(str, row)))) # 1行ずつ出力、joinで各行(row)内の要素（文字列）を結合"
   ]
  },
  {
   "cell_type": "markdown",
   "metadata": {},
   "source": [
    "## listを無空白で結合・表示"
   ]
  },
  {
   "cell_type": "code",
   "execution_count": 1,
   "metadata": {},
   "outputs": [
    {
     "name": "stdout",
     "output_type": "stream",
     "text": [
      "pythonlistexchange\n"
     ]
    }
   ],
   "source": [
    "str_list = ['python', 'list', 'exchange']\n",
    "mojiretu = ''.join(str_list)\n",
    "print(mojiretu)"
   ]
  },
  {
   "cell_type": "markdown",
   "metadata": {},
   "source": [
    "## listを半角スペース区切りで表示"
   ]
  },
  {
   "cell_type": "code",
   "execution_count": 1,
   "metadata": {},
   "outputs": [
    {
     "name": "stdout",
     "output_type": "stream",
     "text": [
      ". . . . .\n"
     ]
    }
   ],
   "source": [
    "ans = ['.', '.', '.', '.', '.']\n",
    "print(*ans) # 変数名に*を付ける"
   ]
  },
  {
   "cell_type": "markdown",
   "metadata": {},
   "source": [
    "# 数値処理"
   ]
  },
  {
   "cell_type": "markdown",
   "metadata": {},
   "source": [
    "## 切り捨て、切り上げ"
   ]
  },
  {
   "cell_type": "code",
   "execution_count": 4,
   "metadata": {},
   "outputs": [
    {
     "name": "stdout",
     "output_type": "stream",
     "text": [
      "2\n",
      "3\n"
     ]
    }
   ],
   "source": [
    "import math\n",
    "dis = 2.5\n",
    "\n",
    "# 切り捨て\n",
    "print(math.floor(dis))\n",
    "# 切り上げ\n",
    "print(math.ceil(dis))"
   ]
  },
  {
   "cell_type": "markdown",
   "metadata": {},
   "source": [
    "## 最大公約数、最小公倍数"
   ]
  },
  {
   "cell_type": "code",
   "execution_count": 4,
   "metadata": {},
   "outputs": [
    {
     "name": "stdout",
     "output_type": "stream",
     "text": [
      "2\n",
      "12\n"
     ]
    }
   ],
   "source": [
    "import math\n",
    "\n",
    "# 最大公約数\n",
    "print(math.gcd(6,4))\n",
    "\n",
    "# 最小公倍数\n",
    "def lcm(a,b):\n",
    "    lcm = a*b//math.gcd(a,b)\n",
    "    return lcm\n",
    "print(lcm(6,4))"
   ]
  },
  {
   "cell_type": "markdown",
   "metadata": {},
   "source": [
    "※最小公倍数に関して、上記コードはPython3.8以前を想定。  \n",
    "　Python3.9ではmathモジュールにlcm()関数が追加されている。"
   ]
  },
  {
   "cell_type": "markdown",
   "metadata": {},
   "source": [
    "## 累積和を計算する"
   ]
  },
  {
   "cell_type": "code",
   "execution_count": 1,
   "metadata": {
    "scrolled": true
   },
   "outputs": [
    {
     "name": "stdout",
     "output_type": "stream",
     "text": [
      "[0, 1, 3, 6, 10, 15, 21, 28, 36, 45]\n"
     ]
    }
   ],
   "source": [
    "from itertools import accumulate\n",
    "\n",
    "lst = [0,1,2,3,4,5,6,7,8,9]\n",
    "sum_lst = list(accumulate(lst))\n",
    "print(sum_lst)"
   ]
  },
  {
   "cell_type": "markdown",
   "metadata": {},
   "source": [
    "## 行列演算"
   ]
  },
  {
   "cell_type": "markdown",
   "metadata": {},
   "source": [
    "### 内積"
   ]
  },
  {
   "cell_type": "code",
   "execution_count": 10,
   "metadata": {},
   "outputs": [
    {
     "data": {
      "text/plain": [
       "array([[14, 14, 14],\n",
       "       [32, 32, 32],\n",
       "       [50, 50, 50]])"
      ]
     },
     "execution_count": 10,
     "metadata": {},
     "output_type": "execute_result"
    }
   ],
   "source": [
    "import numpy as np\n",
    "\n",
    "a = np.array([[1,2,3],\n",
    "              [4,5,6],\n",
    "              [7,8,9]])\n",
    "b = np.array([[1,1,1],\n",
    "              [2,2,2],\n",
    "              [3,3,3]])\n",
    "np.dot(a,b)"
   ]
  },
  {
   "cell_type": "markdown",
   "metadata": {},
   "source": [
    "### アフィン変換"
   ]
  },
  {
   "cell_type": "code",
   "execution_count": 14,
   "metadata": {},
   "outputs": [
    {
     "name": "stdout",
     "output_type": "stream",
     "text": [
      "[ 0 -1]\n",
      "[0 1]\n",
      "[3 0]\n",
      "[1 4]\n"
     ]
    }
   ],
   "source": [
    "import numpy as np\n",
    "\n",
    "arr = np.array([1,0] + [1])\n",
    "\n",
    "# 時計回りに90度(-90)\n",
    "arr_1 = np.array([[0,1,0],\n",
    "                  [-1,0,0],\n",
    "                  [0,0,1]])\n",
    "print(np.dot(arr_1, arr)[:2])\n",
    "\n",
    "# 反時計回りに90度(-90)\n",
    "arr_2 = np.array([[0,-1,0],\n",
    "                  [1,0,0],\n",
    "                  [0,0,1]])\n",
    "print(np.dot(arr_2, arr)[:2])\n",
    "\n",
    "p = 2\n",
    "# 直線x = pに対称\n",
    "arr_3 = np.array([[-1,0,2*p],\n",
    "                  [0,1,0],\n",
    "                  [0,0,1]])\n",
    "print(np.dot(arr_3, arr)[:2])\n",
    "\n",
    "# 直線y = pに対称\n",
    "arr_4 = np.array([[1,0,0],\n",
    "                  [0,-1,2*p],\n",
    "                  [0,0,1]])\n",
    "print(np.dot(arr_4, arr)[:2])"
   ]
  },
  {
   "cell_type": "markdown",
   "metadata": {},
   "source": [
    "# 文字列処理"
   ]
  },
  {
   "cell_type": "markdown",
   "metadata": {},
   "source": [
    "## 正規表現"
   ]
  },
  {
   "cell_type": "code",
   "execution_count": 29,
   "metadata": {},
   "outputs": [
    {
     "name": "stdout",
     "output_type": "stream",
     "text": [
      "dream\n"
     ]
    }
   ],
   "source": [
    "import re\n",
    "\n",
    "content = input()\n",
    "pattern = '^(dream|dreamer|erase|eraser)*$'\n",
    "flag = re.match(pattern,content)"
   ]
  },
  {
   "cell_type": "markdown",
   "metadata": {},
   "source": [
    "## 文字列を式として認識"
   ]
  },
  {
   "cell_type": "code",
   "execution_count": 36,
   "metadata": {
    "scrolled": true
   },
   "outputs": [
    {
     "data": {
      "text/plain": [
       "True"
      ]
     },
     "execution_count": 36,
     "metadata": {},
     "output_type": "execute_result"
    }
   ],
   "source": [
    "eval(\"1+2\") == 3 # True"
   ]
  },
  {
   "cell_type": "markdown",
   "metadata": {},
   "source": [
    "## 大文字・小文字を操作する"
   ]
  },
  {
   "cell_type": "code",
   "execution_count": 1,
   "metadata": {},
   "outputs": [
    {
     "name": "stdout",
     "output_type": "stream",
     "text": [
      "PYTHON PROGRAMMING LANGUAGE\n",
      "python programming language\n",
      "pYThon proGramminG laNguAge\n"
     ]
    }
   ],
   "source": [
    "s_org = 'pYThon proGramminG laNguAge'\n",
    "\n",
    "print(s_org.upper())\n",
    "# PYTHON PROGRAMMING LANGUAGE\n",
    "\n",
    "print(s_org.lower())\n",
    "# python programming language\n",
    "\n",
    "print(s_org)\n",
    "# pYThon proGramminG laNguAge\n",
    "# 元の文字列が書き換えられるわけではない"
   ]
  },
  {
   "cell_type": "markdown",
   "metadata": {},
   "source": [
    "## 文字列を指定して置換"
   ]
  },
  {
   "cell_type": "code",
   "execution_count": 1,
   "metadata": {},
   "outputs": [
    {
     "name": "stdout",
     "output_type": "stream",
     "text": [
      "one-two-one-two-one\n"
     ]
    }
   ],
   "source": [
    "s = 'one two one two one'\n",
    "\n",
    "print(s.replace(' ', '-'))"
   ]
  },
  {
   "cell_type": "markdown",
   "metadata": {},
   "source": [
    "# list操作"
   ]
  },
  {
   "cell_type": "markdown",
   "metadata": {},
   "source": [
    "## 指定した値が存在するindexを出力する"
   ]
  },
  {
   "cell_type": "code",
   "execution_count": 11,
   "metadata": {},
   "outputs": [
    {
     "name": "stdout",
     "output_type": "stream",
     "text": [
      "1 3 4\n"
     ]
    }
   ],
   "source": [
    "ans = [1, 0, 1, 1]\n",
    "\n",
    "x = [i+1 for i, x in enumerate(ans) if x == 1]\n",
    "print(*x)"
   ]
  },
  {
   "cell_type": "markdown",
   "metadata": {},
   "source": [
    "## listから重複を除く"
   ]
  },
  {
   "cell_type": "code",
   "execution_count": 15,
   "metadata": {},
   "outputs": [
    {
     "name": "stdout",
     "output_type": "stream",
     "text": [
      "3\n",
      "1\n",
      "2\n",
      "2\n"
     ]
    },
    {
     "data": {
      "text/plain": [
       "[1, 2]"
      ]
     },
     "execution_count": 15,
     "metadata": {},
     "output_type": "execute_result"
    }
   ],
   "source": [
    "n=int(input())\n",
    "lst=[int(input()) for i in range(n)]\n",
    "list(set(lst))"
   ]
  },
  {
   "cell_type": "markdown",
   "metadata": {},
   "source": [
    "## スライシング"
   ]
  },
  {
   "cell_type": "code",
   "execution_count": 20,
   "metadata": {},
   "outputs": [
    {
     "name": "stdout",
     "output_type": "stream",
     "text": [
      "[1, 3, 5]\n",
      "[2, 4]\n",
      "[4]\n",
      "[5, 4, 3, 2, 1]\n",
      "[2, 1]\n"
     ]
    }
   ],
   "source": [
    "a = [1, 2, 3, 4, 5]\n",
    "print(a[:: 2]) # 奇数番のみ\n",
    "\n",
    "print(a[1:: 2]) # 偶数番のみ\n",
    "\n",
    "i = 3\n",
    "print(a[i::i+1]) # iの倍数番のみ\n",
    "\n",
    "print(a[::-1]) # 逆順\n",
    "\n",
    "i = 1\n",
    "print(a[i::-1]) # 元のリストからi+1個目までを逆順"
   ]
  },
  {
   "cell_type": "markdown",
   "metadata": {},
   "source": [
    "## list内の各要素に同じ処理"
   ]
  },
  {
   "cell_type": "code",
   "execution_count": 23,
   "metadata": {},
   "outputs": [
    {
     "name": "stdout",
     "output_type": "stream",
     "text": [
      "[2.0, 1.0, 4.0]\n"
     ]
    }
   ],
   "source": [
    "s = [4,2,8]\n",
    "tmp = list(map(lambda x: x / 2, s))\n",
    "\n",
    "print(tmp)"
   ]
  },
  {
   "cell_type": "markdown",
   "metadata": {},
   "source": [
    "## listのある要素を抜く"
   ]
  },
  {
   "cell_type": "code",
   "execution_count": 25,
   "metadata": {},
   "outputs": [
    {
     "data": {
      "text/plain": [
       "5"
      ]
     },
     "execution_count": 25,
     "metadata": {},
     "output_type": "execute_result"
    }
   ],
   "source": [
    "lst = [1, 2, 3, 4, 5]\n",
    "lst.pop(lst.index(max(lst))) # 最大値をとる要素を抜く"
   ]
  },
  {
   "cell_type": "markdown",
   "metadata": {},
   "source": [
    "## 条件を満たす要素のみ取り出す"
   ]
  },
  {
   "cell_type": "code",
   "execution_count": 1,
   "metadata": {},
   "outputs": [
    {
     "name": "stdout",
     "output_type": "stream",
     "text": [
      "[0, 2, 4, 6, 8]\n"
     ]
    }
   ],
   "source": [
    "lst = list(range(10))\n",
    "lst_even = [x for x in lst if x % 2 == 0]\n",
    "\n",
    "print(lst_even)"
   ]
  },
  {
   "cell_type": "markdown",
   "metadata": {},
   "source": [
    "## list内の要素数をカウント"
   ]
  },
  {
   "cell_type": "code",
   "execution_count": 1,
   "metadata": {},
   "outputs": [
    {
     "name": "stdout",
     "output_type": "stream",
     "text": [
      "4\n"
     ]
    }
   ],
   "source": [
    "l = ['a', 'a', 'a', 'a', 'b', 'c', 'c']\n",
    "\n",
    "print(l.count('a'))"
   ]
  },
  {
   "cell_type": "markdown",
   "metadata": {},
   "source": [
    "## list内の要素数をカウント(counter)"
   ]
  },
  {
   "cell_type": "code",
   "execution_count": null,
   "metadata": {},
   "outputs": [],
   "source": [
    "from collections import Counter\n",
    "a = ['a', 'b', 'c', 'd', 'a', 'a', 'b']\n",
    "c = Counter(a)  # Counter({'a': 3, 'b': 2, 'c': 1, 'd': 1})\n",
    "\n",
    "print(c.keys())  # keyを取り出す\n",
    "dict_keys(['a', 'b', 'c', 'd'])\n",
    "\n",
    "print(list(c.keys()))  # keyをリストに格納\n",
    "['a', 'b', 'c', 'd']\n",
    "\n",
    "print(c.values())  # valueを取り出す\n",
    "dict_values([3, 2, 1, 1])\n",
    "\n",
    "print(list(c.values()))  # valueをリストに格納\n",
    "[3, 2, 1, 1]\n",
    "\n",
    "print(c.items())  # keyとvalueを取り出す\n",
    "dict_items([('a', 3), ('b', 2), ('c', 1), ('d', 1)])\n",
    "\n",
    "print(list(c.items()))  # keyとvalueをリストに格納\n",
    "[('a', 3), ('b', 2), ('c', 1), ('d', 1)]\n",
    "\n",
    "for key, value in counter.items(): # for文でkeyとvalueを順にセットで取り出す\n",
    "    print(key)\n",
    "    print(value)"
   ]
  },
  {
   "cell_type": "markdown",
   "metadata": {},
   "source": [
    "## リストのindexと要素を同時に列挙する（enumerate()）"
   ]
  },
  {
   "cell_type": "code",
   "execution_count": 1,
   "metadata": {},
   "outputs": [
    {
     "name": "stdout",
     "output_type": "stream",
     "text": [
      "[0, 3]\n",
      "[1, 6]\n",
      "[2, 10]\n",
      "[3, 4]\n",
      "[4, 1]\n"
     ]
    }
   ],
   "source": [
    "lst = [3,6,10,4,1]\n",
    "for i, l in enumerate(lst):\n",
    "    print([i,l])"
   ]
  },
  {
   "cell_type": "markdown",
   "metadata": {},
   "source": [
    "# numpy配列（ndarray）操作"
   ]
  },
  {
   "cell_type": "markdown",
   "metadata": {},
   "source": [
    "## リスト⇔ndarray"
   ]
  },
  {
   "cell_type": "code",
   "execution_count": 4,
   "metadata": {},
   "outputs": [
    {
     "name": "stdout",
     "output_type": "stream",
     "text": [
      "<class 'numpy.ndarray'>\n",
      "<class 'list'>\n"
     ]
    }
   ],
   "source": [
    "import numpy as np\n",
    "\n",
    "lst = [1,2,3]\n",
    "\n",
    "# リストからndarray\n",
    "lst = np.array(lst)\n",
    "print(type(lst))\n",
    "\n",
    "# ndarrayからリスト\n",
    "lst = list(lst)\n",
    "print(type(lst))"
   ]
  },
  {
   "cell_type": "markdown",
   "metadata": {},
   "source": [
    "## 列,行ごとの合計"
   ]
  },
  {
   "cell_type": "code",
   "execution_count": 6,
   "metadata": {},
   "outputs": [
    {
     "name": "stdout",
     "output_type": "stream",
     "text": [
      "[ 7  9 11 13 15]\n",
      "[15 40]\n"
     ]
    }
   ],
   "source": [
    "import numpy as np\n",
    "\n",
    "arr = np.array([[1,2,3,4,5],\n",
    "                [6,7,8,9,10]])\n",
    "\n",
    "# 列ごとの合計\n",
    "print(np.sum(arr, axis=0))\n",
    "\n",
    "# 行ごとの合計\n",
    "print(np.sum(arr, axis=1))"
   ]
  },
  {
   "cell_type": "markdown",
   "metadata": {},
   "source": [
    "## 0,1-配列を反転させる"
   ]
  },
  {
   "cell_type": "code",
   "execution_count": 9,
   "metadata": {},
   "outputs": [
    {
     "name": "stdout",
     "output_type": "stream",
     "text": [
      "[1 0 1 0 1]\n"
     ]
    },
    {
     "data": {
      "text/plain": [
       "numpy.ndarray"
      ]
     },
     "execution_count": 9,
     "metadata": {},
     "output_type": "execute_result"
    }
   ],
   "source": [
    "import numpy as np\n",
    "\n",
    "arr = np.array([0,1,0,1,0])\n",
    "print(np.logical_not(arr) & [1]*len(arr))\n",
    "type(np.logical_not(arr) & [1]*len(arr))"
   ]
  },
  {
   "cell_type": "markdown",
   "metadata": {},
   "source": [
    "# 繰り返し処理"
   ]
  },
  {
   "cell_type": "markdown",
   "metadata": {},
   "source": [
    "## 複数のネストを脱出"
   ]
  },
  {
   "cell_type": "code",
   "execution_count": 32,
   "metadata": {},
   "outputs": [
    {
     "name": "stdout",
     "output_type": "stream",
     "text": [
      "-1 -1 -1\n"
     ]
    }
   ],
   "source": [
    "flag = False\n",
    "y = 26000\n",
    "\n",
    "for i in range(n+1):\n",
    "    for j in range(n-i+1):\n",
    "        total = 10000 * i + 5000 * j + 1000 * (n-i-j)\n",
    "        if y == total:\n",
    "            flag = True # 用済みフラグを立てる\n",
    "            print(\"{} {} {}\".format(i,j,(n-i-j)))\n",
    "            break\n",
    "    if flag:\n",
    "        break\n",
    "if flag == False:\n",
    "    print(\"-1 -1 -1\")"
   ]
  },
  {
   "cell_type": "markdown",
   "metadata": {},
   "source": [
    "## zipを使ったfor文"
   ]
  },
  {
   "cell_type": "code",
   "execution_count": 37,
   "metadata": {},
   "outputs": [
    {
     "ename": "NameError",
     "evalue": "name 'op' is not defined",
     "output_type": "error",
     "traceback": [
      "\u001b[1;31m---------------------------------------------------------------------------\u001b[0m",
      "\u001b[1;31mNameError\u001b[0m                                 Traceback (most recent call last)",
      "\u001b[1;32m<ipython-input-37-a6edcd732174>\u001b[0m in \u001b[0;36m<module>\u001b[1;34m()\u001b[0m\n\u001b[1;32m----> 1\u001b[1;33m \u001b[1;32mfor\u001b[0m \u001b[0mnum\u001b[0m\u001b[1;33m,\u001b[0m\u001b[0mopp\u001b[0m \u001b[1;32min\u001b[0m \u001b[0mzip\u001b[0m\u001b[1;33m(\u001b[0m\u001b[0mlst\u001b[0m\u001b[1;33m,\u001b[0m \u001b[0mop\u001b[0m \u001b[1;33m+\u001b[0m \u001b[1;33m[\u001b[0m\u001b[1;34m\"\"\u001b[0m\u001b[1;33m]\u001b[0m\u001b[1;33m)\u001b[0m\u001b[1;33m:\u001b[0m\u001b[1;33m\u001b[0m\u001b[0m\n\u001b[0m\u001b[0;32m      2\u001b[0m     \u001b[0mformula\u001b[0m \u001b[1;33m+=\u001b[0m \u001b[1;33m(\u001b[0m\u001b[0mnum\u001b[0m \u001b[1;33m+\u001b[0m \u001b[0mopp\u001b[0m\u001b[1;33m)\u001b[0m\u001b[1;33m\u001b[0m\u001b[0m\n",
      "\u001b[1;31mNameError\u001b[0m: name 'op' is not defined"
     ]
    }
   ],
   "source": [
    "for num,opp in zip(lst, op + [\"\"]):\n",
    "    formula += (num + opp)"
   ]
  },
  {
   "cell_type": "markdown",
   "metadata": {},
   "source": [
    "## 全順列・組み合わせに対するfor文"
   ]
  },
  {
   "cell_type": "code",
   "execution_count": 1,
   "metadata": {},
   "outputs": [
    {
     "name": "stdout",
     "output_type": "stream",
     "text": [
      "[1, 2, 3]\n",
      "[1, 2, 4]\n",
      "[1, 2, 5]\n",
      "[1, 3, 4]\n",
      "[1, 3, 5]\n",
      "[1, 4, 5]\n",
      "[2, 3, 4]\n",
      "[2, 3, 5]\n",
      "[2, 4, 5]\n",
      "[3, 4, 5]\n"
     ]
    }
   ],
   "source": [
    "import itertools\n",
    "\n",
    "L = [1,2,3,4,5]\n",
    "L_comb = itertools.combinations(L,3) # 組み合わせ\n",
    "L_perm = itertools.permutations(L,3) # 順列\n",
    "\n",
    "for a,b,c in L_comb:\n",
    "    print([a,b,c])"
   ]
  },
  {
   "cell_type": "markdown",
   "metadata": {},
   "source": [
    "## 直積に対するfor文"
   ]
  },
  {
   "cell_type": "code",
   "execution_count": 2,
   "metadata": {},
   "outputs": [
    {
     "name": "stdout",
     "output_type": "stream",
     "text": [
      "[1, 4, 6]\n",
      "[1, 4, 7]\n",
      "[1, 5, 6]\n",
      "[1, 5, 7]\n",
      "[2, 4, 6]\n",
      "[2, 4, 7]\n",
      "[2, 5, 6]\n",
      "[2, 5, 7]\n",
      "[3, 4, 6]\n",
      "[3, 4, 7]\n",
      "[3, 5, 6]\n",
      "[3, 5, 7]\n"
     ]
    }
   ],
   "source": [
    "import itertools\n",
    "\n",
    "A = [1,2,3]\n",
    "B = [4,5]\n",
    "C = [6,7]\n",
    "\n",
    "L_prod = itertools.product(A,B,C)\n",
    "for a,b,c in L_prod:\n",
    "    print([a,b,c])"
   ]
  },
  {
   "cell_type": "markdown",
   "metadata": {},
   "source": [
    "## 再起処理の上限設定"
   ]
  },
  {
   "cell_type": "code",
   "execution_count": null,
   "metadata": {},
   "outputs": [],
   "source": [
    "import sys\n",
    "sys.setrecursionlimit(10 ** 6)  # 再帰数上限の引き上げ"
   ]
  },
  {
   "cell_type": "markdown",
   "metadata": {},
   "source": [
    "# ソート"
   ]
  },
  {
   "cell_type": "markdown",
   "metadata": {},
   "source": [
    "## 逆順"
   ]
  },
  {
   "cell_type": "code",
   "execution_count": 5,
   "metadata": {},
   "outputs": [
    {
     "name": "stdout",
     "output_type": "stream",
     "text": [
      "[9, 8, 7, 6, 5, 4, 3, 2, 1, 0]\n",
      "[9, 8, 7, 6, 5, 4, 3, 2, 1, 0]\n"
     ]
    }
   ],
   "source": [
    "lst = list(range(10))\n",
    "print(sorted(lst, reverse=True)) # optionを指定\n",
    "print(sorted(lst, key=lambda x: -x)) # lambda式を利用"
   ]
  },
  {
   "cell_type": "markdown",
   "metadata": {},
   "source": [
    "## リスト群を各リスト内のi番目の要素でソート"
   ]
  },
  {
   "cell_type": "code",
   "execution_count": 1,
   "metadata": {},
   "outputs": [
    {
     "name": "stdout",
     "output_type": "stream",
     "text": [
      "[[1, 100], [2, 10], [3, 9]]\n"
     ]
    }
   ],
   "source": [
    "lst = [[2,10], [3,9], [1,100]]\n",
    "lst = sorted(lst, key=lambda x: x[0])\n",
    "print(lst)"
   ]
  },
  {
   "cell_type": "markdown",
   "metadata": {},
   "source": [
    "# 優先度付きキュー（heapq）\n",
    "\n",
    "※参考URL：https://qiita.com/ell/items/fe52a9eb9499b7060ed6  \n",
    " \n",
    "優先度付きキュー (Priority queue) はデータ型の一つで、具体的には以下のことが出来る。\n",
    "- 最小値（最大値）を O(logN)で取り出す\n",
    "- 要素をO(log⁡N)で挿入する  \n",
    "\n",
    "優先度付きキューは、**「リストの要素の挿入」** と **「最小値（最大値）を取り出す」** ことを繰り返すような時に使う。  "
   ]
  },
  {
   "cell_type": "markdown",
   "metadata": {},
   "source": [
    "## 主要メソッド（heapqに変換、最小値取り出し、挿入）\n",
    "頻繁に使うメソッドは3つ。\n",
    "- `heapq.heapify(リスト)`：リストを優先度付きキューに変換\n",
    "- `heapq.heappop(優先度付きキュー (=リスト) )`：優先度付きキューから最小値を取り出す\n",
    "- `heapq.heappush(優先度付きキュー (=リスト) , 挿入したい要素)`：優先度付きキューに要素を挿入"
   ]
  },
  {
   "cell_type": "code",
   "execution_count": 3,
   "metadata": {},
   "outputs": [
    {
     "name": "stdout",
     "output_type": "stream",
     "text": [
      "[-1, 0, 8, 1, 6]\n",
      "-1\n",
      "[0, 1, 8, 6]\n",
      "[-2, 0, 8, 6, 1]\n"
     ]
    }
   ],
   "source": [
    "import heapq  # heapqライブラリのimport\n",
    "\n",
    "a = [1, 6, 8, 0, -1]\n",
    "heapq.heapify(a)  # リストを優先度付きキューへ\n",
    "print(a)\n",
    "# 出力: [-1, 0, 8, 1, 6] (優先度付きキューとなった a)\n",
    "\n",
    "print(heapq.heappop(a))  # 最小値の取り出し\n",
    "# 出力: -1 (a の最小値)\n",
    "## 最初にheapify(a)を実行せずlistの状態でheappopを実行した場合、先頭の要素(1)が取り出されるので注意\n",
    "\n",
    "print(a)\n",
    "# 出力: [0, 1, 8, 6] (最小値を取り出した後の a)\n",
    "\n",
    "heapq.heappush(a, -2)  # 要素の挿入\n",
    "print(a)\n",
    "# 出力: [-2, 0, 1, 8, 6]  (-2 を挿入後の a)"
   ]
  },
  {
   "cell_type": "markdown",
   "metadata": {},
   "source": [
    "## 最大値の取り出し"
   ]
  },
  {
   "cell_type": "code",
   "execution_count": 4,
   "metadata": {},
   "outputs": [
    {
     "name": "stdout",
     "output_type": "stream",
     "text": [
      "1\n",
      "[0, 1, 8, 6]\n"
     ]
    }
   ],
   "source": [
    "import heapq\n",
    "\n",
    "a = [1, 6, 8, 0, -1]\n",
    "heapq.heapify(a)\n",
    "print(heapq.heappop(a)*(-1))  # heappopでは最小値しか取り出せないので、-1をかけて最大値を取り出す\n",
    "print(a)"
   ]
  },
  {
   "cell_type": "markdown",
   "metadata": {},
   "source": [
    "# 座標圧縮\n",
    "※参考：ABC188-D  "
   ]
  },
  {
   "cell_type": "code",
   "execution_count": 4,
   "metadata": {},
   "outputs": [
    {
     "name": "stdout",
     "output_type": "stream",
     "text": [
      "{0: 0, 1: 1, 4: 2, 6: 3}\n"
     ]
    }
   ],
   "source": [
    "service = [(1, 4, 4), (0, 6, 4)]\n",
    "\n",
    "day = set()\n",
    "for a, b, c in service:\n",
    "    day.add(a)\n",
    "    day.add(b)\n",
    "day = sorted(day)\n",
    "D = {}\n",
    "for i, d in enumerate(day):\n",
    "    D[d] = i\n",
    "    \n",
    "print(D)"
   ]
  },
  {
   "cell_type": "markdown",
   "metadata": {},
   "source": [
    "# グリッド関連"
   ]
  },
  {
   "cell_type": "markdown",
   "metadata": {},
   "source": [
    "## dxy移動用"
   ]
  },
  {
   "cell_type": "code",
   "execution_count": 35,
   "metadata": {
    "scrolled": true
   },
   "outputs": [
    {
     "ename": "TypeError",
     "evalue": "'int' object is not subscriptable",
     "output_type": "error",
     "traceback": [
      "\u001b[1;31m---------------------------------------------------------------------------\u001b[0m",
      "\u001b[1;31mTypeError\u001b[0m                                 Traceback (most recent call last)",
      "\u001b[1;32m<ipython-input-35-e62e5ed988ce>\u001b[0m in \u001b[0;36m<module>\u001b[1;34m()\u001b[0m\n\u001b[0;32m      5\u001b[0m \u001b[1;32mfor\u001b[0m \u001b[0my\u001b[0m \u001b[1;32min\u001b[0m \u001b[0mrange\u001b[0m\u001b[1;33m(\u001b[0m\u001b[0mh\u001b[0m\u001b[1;33m)\u001b[0m\u001b[1;33m:\u001b[0m\u001b[1;33m\u001b[0m\u001b[0m\n\u001b[0;32m      6\u001b[0m     \u001b[1;32mfor\u001b[0m \u001b[0mx\u001b[0m \u001b[1;32min\u001b[0m \u001b[0mrange\u001b[0m\u001b[1;33m(\u001b[0m\u001b[0mw\u001b[0m\u001b[1;33m)\u001b[0m\u001b[1;33m:\u001b[0m\u001b[1;33m\u001b[0m\u001b[0m\n\u001b[1;32m----> 7\u001b[1;33m         \u001b[1;32mif\u001b[0m \u001b[0mlst\u001b[0m\u001b[1;33m[\u001b[0m\u001b[0my\u001b[0m\u001b[1;33m]\u001b[0m\u001b[1;33m[\u001b[0m\u001b[0mx\u001b[0m\u001b[1;33m]\u001b[0m \u001b[1;33m==\u001b[0m \u001b[1;34m\"#\"\u001b[0m\u001b[1;33m:\u001b[0m\u001b[1;33m\u001b[0m\u001b[0m\n\u001b[0m\u001b[0;32m      8\u001b[0m             \u001b[1;32mcontinue\u001b[0m\u001b[1;33m\u001b[0m\u001b[0m\n\u001b[0;32m      9\u001b[0m         \u001b[0mc\u001b[0m \u001b[1;33m=\u001b[0m \u001b[1;36m0\u001b[0m\u001b[1;33m\u001b[0m\u001b[0m\n",
      "\u001b[1;31mTypeError\u001b[0m: 'int' object is not subscriptable"
     ]
    }
   ],
   "source": [
    "dxy = [(1,1),(1,0),(1,-1),(0,1),(0,-1),(-1,1),(-1,0),(-1,-1)]\n",
    "\n",
    "for y in range(h):\n",
    "    for x in range(w):\n",
    "        if lst[y][x] == \"#\":\n",
    "            continue\n",
    "        c = 0\n",
    "        for dx, dy in dxy:\n",
    "            if x+dx < 0 or x+dx > w-1 or y+dy < 0 or y+dy > h-1:\n",
    "                continue\n",
    "            if lst[y+dy][x+dx] == \"#\":\n",
    "                c += 1\n",
    "        ans[y][x] = c"
   ]
  },
  {
   "cell_type": "markdown",
   "metadata": {},
   "source": [
    "## パリティ"
   ]
  },
  {
   "cell_type": "code",
   "execution_count": 3,
   "metadata": {
    "scrolled": true
   },
   "outputs": [
    {
     "name": "stdout",
     "output_type": "stream",
     "text": [
      "同一パリティ\n",
      "同一パリティ\n"
     ]
    }
   ],
   "source": [
    "# 同一パリティの条件文\n",
    "r1,c1 = [1,2]\n",
    "r2,c2 = [3,4]\n",
    "\n",
    "r = r1-r2\n",
    "c = c1-c2\n",
    "\n",
    "if(r^c^1)&1:\n",
    "    print(\"同一パリティ\")\n",
    "\n",
    "if (r1+r2+c1+c2)%2 == 0:\n",
    "    print(\"同一パリティ\")"
   ]
  },
  {
   "cell_type": "markdown",
   "metadata": {},
   "source": [
    "詳しくは「ABC184 C - Super Ryuma」のコード参照"
   ]
  },
  {
   "cell_type": "markdown",
   "metadata": {},
   "source": [
    "# bit全探索"
   ]
  },
  {
   "cell_type": "code",
   "execution_count": null,
   "metadata": {},
   "outputs": [],
   "source": [
    "for i in range(2**n):\n",
    "    op = [\"-\"] * 3\n",
    "    for j in range(n):\n",
    "        if ((i >> j) & 1):\n",
    "            op[n-j-1] = op_lst[0]"
   ]
  },
  {
   "cell_type": "markdown",
   "metadata": {},
   "source": [
    "## bitの1の数を数える"
   ]
  },
  {
   "cell_type": "code",
   "execution_count": null,
   "metadata": {},
   "outputs": [],
   "source": [
    "def count_ones_by_bin(num):\n",
    "    bin_num = bin(num)[2:]\n",
    "    count = 0\n",
    "    for i in bin_num:\n",
    "            count += int(i)\n",
    "    return count"
   ]
  },
  {
   "cell_type": "markdown",
   "metadata": {},
   "source": [
    "# 順列・組み合わせ"
   ]
  },
  {
   "cell_type": "markdown",
   "metadata": {},
   "source": [
    "## 組み合わせ"
   ]
  },
  {
   "cell_type": "markdown",
   "metadata": {},
   "source": [
    "### 「逆元」を使用しない"
   ]
  },
  {
   "cell_type": "code",
   "execution_count": null,
   "metadata": {},
   "outputs": [],
   "source": [
    "import math\n",
    "\n",
    "def comb(n, r, mod=10**9+7):\n",
    "    nf = math.factorial(n)\n",
    "    rf = math.factorial(r)\n",
    "    nf_rf = math.factorial(n-r)\n",
    "    return (nf // (nf_rf * rf)) % mod"
   ]
  },
  {
   "cell_type": "markdown",
   "metadata": {},
   "source": [
    "### 「逆元」を使用する"
   ]
  },
  {
   "cell_type": "code",
   "execution_count": null,
   "metadata": {},
   "outputs": [],
   "source": [
    "def inv(n, MOD=10**9+7):  # MODを法とした逆元\n",
    "    return pow(n, MOD-2, MOD)\n",
    "\n",
    "def comb(n, r, MOD=10**9+7, mx=10**6): # mx:求めておきたい階乗の最大値\n",
    "    fact = [1] * (mx+1) # 階乗を格納するリスト\n",
    "    for i in range(mx):\n",
    "        fact[i+1] = fact[i] * (i+1) % MOD # 階乗を計算\n",
    "    return (fact[n] * inv(fact[n-r]) * inv(fact[r])) % MOD"
   ]
  },
  {
   "cell_type": "markdown",
   "metadata": {},
   "source": [
    "# 10進法⇒K進法"
   ]
  },
  {
   "cell_type": "code",
   "execution_count": null,
   "metadata": {},
   "outputs": [],
   "source": [
    "N=int(input())#変換したい10進数の値\n",
    "K=int(input())#進数\n",
    "\n",
    "def change(N,shinsu):\n",
    "    keta=0\n",
    "    for i in range(10**9):\n",
    "        if N<shinsu**i:\n",
    "             keta+=i\n",
    "             break\n",
    "    ans=[0]*keta\n",
    "    check=0\n",
    "    for i in range(1,keta+1):\n",
    "        j=N//(shinsu**(keta-i))\n",
    "        ans[check]=j\n",
    "        check+=1\n",
    "        N-=(j)*(shinsu**(keta-i))\n",
    "    return ans\n",
    "\n",
    "print(change(N,K))"
   ]
  },
  {
   "cell_type": "markdown",
   "metadata": {},
   "source": [
    "# 約数列挙"
   ]
  },
  {
   "cell_type": "code",
   "execution_count": null,
   "metadata": {},
   "outputs": [],
   "source": [
    "def divisor(n): \n",
    "    i = 1\n",
    "    table = []\n",
    "    while i * i <= n:\n",
    "        if n%i == 0:\n",
    "            table.append(i)\n",
    "            table.append(n//i)\n",
    "        i += 1\n",
    "    table = list(set(table))\n",
    "    return table"
   ]
  },
  {
   "cell_type": "markdown",
   "metadata": {},
   "source": [
    "# 素因数分解"
   ]
  },
  {
   "cell_type": "code",
   "execution_count": null,
   "metadata": {},
   "outputs": [],
   "source": [
    "def prime_factorize(n):\n",
    "    a = []\n",
    "    while n % 2 == 0:\n",
    "        a.append(2)\n",
    "        n //= 2\n",
    "    f = 3\n",
    "    while f * f <= n:\n",
    "        if n % f == 0:\n",
    "            a.append(f)\n",
    "            n //= f\n",
    "        else:\n",
    "            f += 2\n",
    "    if n != 1:\n",
    "        a.append(n)\n",
    "    return a"
   ]
  },
  {
   "cell_type": "markdown",
   "metadata": {},
   "source": [
    "# 二分探索"
   ]
  },
  {
   "cell_type": "markdown",
   "metadata": {},
   "source": [
    "## 自作ver"
   ]
  },
  {
   "cell_type": "code",
   "execution_count": 2,
   "metadata": {},
   "outputs": [],
   "source": [
    "def binary_search(lst, item): # lst:探索対象の配列、item:indexが知りたい要素\n",
    "    low = 0\n",
    "    high = len(lst) - 1\n",
    "    while low <= high:\n",
    "        mid = (low + high) // 2\n",
    "        guess = lst[mid]\n",
    "        if guess == item:\n",
    "            return mid\n",
    "        elif guess > item:\n",
    "            high = mid - 1\n",
    "        else:\n",
    "            low = mid + 1\n",
    "    return None"
   ]
  },
  {
   "cell_type": "code",
   "execution_count": 15,
   "metadata": {},
   "outputs": [
    {
     "name": "stdout",
     "output_type": "stream",
     "text": [
      "7\n",
      "None\n"
     ]
    }
   ],
   "source": [
    "arr = [1,3,5,5,5,6,6,6,6,7] # 昇順にソートされている必要がある\n",
    "print(binary_search(arr, 6)) # 存在する要素のいずれかのindex\n",
    "print(binary_search(arr, 2)) # 存在しない要素はNoneを返す"
   ]
  },
  {
   "cell_type": "markdown",
   "metadata": {},
   "source": [
    "## bisectモジュールver"
   ]
  },
  {
   "cell_type": "markdown",
   "metadata": {},
   "source": [
    "### 挿入箇所の探索"
   ]
  },
  {
   "cell_type": "code",
   "execution_count": 1,
   "metadata": {},
   "outputs": [
    {
     "name": "stdout",
     "output_type": "stream",
     "text": [
      "2 5\n",
      "5 6\n"
     ]
    }
   ],
   "source": [
    "from bisect import bisect_left, bisect_right\n",
    " \n",
    "arr = [1,3,5,5,5,6,7] # 昇順にソートされている必要がある\n",
    "l = bisect_left(arr, 5)  # 5が入るべき境目のうち最も左側の境目を返す\n",
    "r = bisect_right(arr, 5) # 5が入るべき境目のうち最も右側の境目を返す\n",
    "print(l,r) # \"2 5\" が出力される\n",
    "print(arr[l], arr[r])"
   ]
  },
  {
   "cell_type": "markdown",
   "metadata": {},
   "source": [
    "### 挿入箇所の探索＆挿入"
   ]
  },
  {
   "cell_type": "code",
   "execution_count": 10,
   "metadata": {},
   "outputs": [
    {
     "name": "stdout",
     "output_type": "stream",
     "text": [
      "[1, 3, 3, 3, 5, 5, 5, 6, 7]\n"
     ]
    }
   ],
   "source": [
    "import bisect \n",
    "\n",
    "arr = [1,3,5,5,5,6,7] \n",
    "bisect.insort_left(arr, 3) # 左から挿入\n",
    "bisect.insort_right(arr, 3) # 右から挿入\n",
    "print(arr)"
   ]
  },
  {
   "cell_type": "markdown",
   "metadata": {},
   "source": [
    "# DFS（深さ優先探索）\n",
    "python,pypy(特にpypy)は再帰関数の実行時間が長いため、**「スタックでの実装」** を優先する。\n",
    "※アルゴリズムの解説：https://www.slideshare.net/chokudai/dfs-49066641"
   ]
  },
  {
   "cell_type": "markdown",
   "metadata": {},
   "source": [
    "## スタックでの実装"
   ]
  },
  {
   "cell_type": "code",
   "execution_count": null,
   "metadata": {},
   "outputs": [],
   "source": [
    "from collections import deque\n",
    "\n",
    "q = deque()\n",
    "q.append(0)\n",
    "check = [False] * N\n",
    " \n",
    "while q:\n",
    "    v = q.pop() # 末尾（右側）から要素を取る\n",
    "    check[v] = True\n",
    "    for u in edge[v]:\n",
    "        if check[u] == True:\n",
    "            continue\n",
    "\n",
    "        ######################\n",
    "        # ここに何らかの処理 #\n",
    "        ######################\n",
    "        \n",
    "        q.append(u)"
   ]
  },
  {
   "cell_type": "markdown",
   "metadata": {},
   "source": [
    "※例（ALDS1_11_B）"
   ]
  },
  {
   "cell_type": "code",
   "execution_count": null,
   "metadata": {},
   "outputs": [],
   "source": [
    "from collections import deque\n",
    "\n",
    "N = int(input())\n",
    "graph = [deque([]) for _ in range(N+1)]\n",
    "for _ in range(N):\n",
    "    u, k, *v = list(map(int, input().split()))\n",
    "    v.sort()\n",
    "    for i in v:\n",
    "        graph[u].append(i)\n",
    "\n",
    "time = 0\n",
    "start = [-1] * (N+1)\n",
    "end = [-1] * (N+1)\n",
    "\n",
    "def dfs(v):\n",
    "    global time\n",
    "    time += 1\n",
    "    stack = [v]\n",
    "    start[v] = time\n",
    "    while stack:\n",
    "        v = stack[-1]\n",
    "        if graph[v]:\n",
    "            w = graph[v].popleft()\n",
    "            if start[w] == -1:\n",
    "                time += 1\n",
    "                start[w] = time\n",
    "                stack.append(w)\n",
    "        else:\n",
    "            time += 1\n",
    "            end[v] = time\n",
    "            stack.pop()\n",
    "    return [start, end]\n",
    "\n",
    "for i in range(N):\n",
    "    if start[i + 1] == -1:\n",
    "        ans = dfs(i+1)\n",
    "\n",
    "for j in range(N):\n",
    "    tmp = [j+1, ans[0][j+1], ans[1][j+1]]\n",
    "    print(*tmp)"
   ]
  },
  {
   "cell_type": "markdown",
   "metadata": {},
   "source": [
    "## 再帰関数での実装"
   ]
  },
  {
   "cell_type": "code",
   "execution_count": null,
   "metadata": {},
   "outputs": [],
   "source": [
    "def dfs(v, p): # p : parent of v\n",
    "    # c : children of v\n",
    "    for c in edge[v]:\n",
    "        # parent のインデックスの場合はスキップ\n",
    "        if c == p: continue\n",
    "            \n",
    "        ######################\n",
    "        # ここに何らかの処理 #\n",
    "        ######################\n",
    "        \n",
    "        # 再帰的に探索\n",
    "        dfs(c, v)"
   ]
  },
  {
   "cell_type": "markdown",
   "metadata": {},
   "source": [
    "# BFS（幅優先探索）"
   ]
  },
  {
   "cell_type": "markdown",
   "metadata": {},
   "source": [
    "## BFS"
   ]
  },
  {
   "cell_type": "markdown",
   "metadata": {},
   "source": [
    "ex)根付き木の隣接リスト作成"
   ]
  },
  {
   "cell_type": "code",
   "execution_count": null,
   "metadata": {},
   "outputs": [],
   "source": [
    "from collections import deque\n",
    "\n",
    "N = int(input())\n",
    "E = [list(map(lambda x: int(x) - 1, input().split())) for _ in range(N-1)]\n",
    "edge = [[] for _ in range(N)] # edge[v]:頂点vに隣接している頂点群\n",
    "for a, b in E:\n",
    "    edge[a].append(b) # 頂点bを頂点aに隣接している頂点群に加える\n",
    "    edge[b].append(a) # 頂点aを頂点bに隣接している頂点群に加える\n",
    "Q = int(input())\n",
    "query = [list(map(int, input().split())) for _ in range(Q)]\n",
    "\n",
    "parent = [-1] * N # 頂点iの親\n",
    "q = deque() # 調べる頂点群\n",
    "q.append(0) # 頂点0を根としてBFSを実行\n",
    "while q:\n",
    "    v = q.popleft() # v:調べる頂点\n",
    "    for nv in edge[v]: # nv:頂点vに隣接している頂点群の内の1つ\n",
    "        if nv != parent[v]:  # nvがvの親ではない => nvはvの子\n",
    "            parent[nv] = v # nvはvの子\n",
    "            q.append(nv) # 子であるnvをqueに入れる"
   ]
  },
  {
   "cell_type": "markdown",
   "metadata": {},
   "source": [
    "## 01-BFS"
   ]
  },
  {
   "cell_type": "markdown",
   "metadata": {},
   "source": [
    "※参考URL：https://betrue12.hateblo.jp/entry/2018/12/08/000020"
   ]
  },
  {
   "cell_type": "code",
   "execution_count": null,
   "metadata": {},
   "outputs": [],
   "source": [
    "from collections import deque\n",
    "\n",
    "# 頂点数N、始点の頂点番号s\n",
    "N, s = map(int, input().split())\n",
    "# 隣接リスト。\n",
    "# edges[i]の要素に(j, c)が含まれる時、iからjにコストcの辺が存在\n",
    "edges = [[] for i in range(N)]\n",
    "\n",
    "dist = [10**9]*N\n",
    "dist[s] = 0\n",
    "que = deque()\n",
    "que.append(s)\n",
    "\n",
    "while len(que) > 0:\n",
    "    i = que.popleft()\n",
    "    for j, c in edges[i]:\n",
    "        d = dist[i] + c\n",
    "        if d < dist[j]:\n",
    "            dist[j] = d\n",
    "            if c == 1:\n",
    "                que.append(j)\n",
    "            else:\n",
    "                que.appendleft(j)"
   ]
  },
  {
   "cell_type": "markdown",
   "metadata": {},
   "source": [
    "# LIS（最長増加部分列）"
   ]
  },
  {
   "cell_type": "code",
   "execution_count": 1,
   "metadata": {},
   "outputs": [
    {
     "name": "stdout",
     "output_type": "stream",
     "text": [
      "2 4 3 5 6\n",
      "4\n"
     ]
    }
   ],
   "source": [
    "import bisect\n",
    "\n",
    "seq = list(map(int,input().split()))\n",
    "LIS = [seq[0]]\n",
    "for i in range(len(seq)):\n",
    "    if seq[i] > LIS[-1]:\n",
    "        LIS.append(seq[i])\n",
    "    else:\n",
    "        LIS[bisect.bisect_left(LIS, seq[i])] = seq[i]\n",
    "\n",
    "print(len(LIS))"
   ]
  },
  {
   "cell_type": "markdown",
   "metadata": {},
   "source": [
    "# 尺取り法（two pointers）\n",
    "※参考URL：https://qiita.com/drken/items/ecd1a472d3a0e7db8dce  "
   ]
  },
  {
   "cell_type": "markdown",
   "metadata": {},
   "source": [
    "## 区間の数え上げ"
   ]
  },
  {
   "cell_type": "markdown",
   "metadata": {},
   "source": [
    "※例題：ABC130 D - Enough Array"
   ]
  },
  {
   "cell_type": "code",
   "execution_count": null,
   "metadata": {},
   "outputs": [],
   "source": [
    "from itertools import accumulate\n",
    "\n",
    "N, K = map(int, input().split())\n",
    "A = list(map(int, input().split()))\n",
    "\n",
    "left = 0\n",
    "total = 0\n",
    "ans = 0\n",
    "\n",
    "for right in range(N):\n",
    "    total += A[right]\n",
    "    while total >= K:\n",
    "        ans += N-right\n",
    "        total -= A[left]\n",
    "        left += 1\n",
    "\n",
    "print(ans)"
   ]
  },
  {
   "cell_type": "markdown",
   "metadata": {},
   "source": [
    "# UnionFind"
   ]
  },
  {
   "cell_type": "markdown",
   "metadata": {},
   "source": [
    "※参考URL：https://note.nkmk.me/python-union-find/"
   ]
  },
  {
   "cell_type": "code",
   "execution_count": null,
   "metadata": {},
   "outputs": [],
   "source": [
    "from collections import defaultdict\n",
    "\n",
    "class UnionFind():\n",
    "    def __init__(self, n):\n",
    "        self.n = n\n",
    "        self.parents = [-1] * n\n",
    "        # parents:\n",
    "        # 各要素の親要素の番号を格納するリスト\n",
    "        # 要素が根（ルート）の場合は-(そのグループの要素数)を格納する\n",
    "\n",
    "    # 要素xが属するグループの根を返す    \n",
    "    def find(self, x):        \n",
    "        if self.parents[x] < 0:\n",
    "            return x\n",
    "        else:\n",
    "            self.parents[x] = self.find(self.parents[x])\n",
    "            return self.parents[x]\n",
    "\n",
    "    # 要素xが属するグループと要素yが属するグループとを併合する\n",
    "    def union(self, x, y):\n",
    "        x = self.find(x)\n",
    "        y = self.find(y)\n",
    "\n",
    "        if x == y:\n",
    "            return\n",
    "\n",
    "        if self.parents[x] > self.parents[y]:\n",
    "            x, y = y, x\n",
    "\n",
    "        self.parents[x] += self.parents[y]\n",
    "        self.parents[y] = x\n",
    "\n",
    "    # 要素xが属するグループのサイズ（要素数）を返す\n",
    "    def size(self, x):\n",
    "        return -self.parents[self.find(x)]\n",
    "\n",
    "    # 要素x, yが同じグループに属するかどうかを返す\n",
    "    def same(self, x, y):\n",
    "        return self.find(x) == self.find(y)\n",
    "\n",
    "    # 要素xが属するグループに属する要素をリストで返す\n",
    "    def members(self, x):\n",
    "        root = self.find(x)\n",
    "        return [i for i in range(self.n) if self.find(i) == root]\n",
    "\n",
    "    # すべての根の要素をリストで返す\n",
    "    def roots(self):\n",
    "        return [i for i, x in enumerate(self.parents) if x < 0]\n",
    "\n",
    "    # グループの数を返す\n",
    "    def group_count(self):\n",
    "        return len(self.roots())\n",
    "\n",
    "    # {ルート要素: [そのグループに含まれる要素のリスト], ...}のdefaultdictを返す\n",
    "    # defaultdictは辞書dictのサブクラス\n",
    "    def all_group_members(self):\n",
    "        group_members = defaultdict(list)\n",
    "        for member in range(self.n):\n",
    "            group_members[self.find(member)].append(member)\n",
    "        return group_members\n",
    "\n",
    "    # print()での表示用\n",
    "    # ルート要素: [そのグループに含まれる要素のリスト]を文字列で返す\n",
    "    def __str__(self):\n",
    "        return '\\n'.join(f'{r}: {m}' for r, m in self.all_group_members().items())"
   ]
  }
 ],
 "metadata": {
  "kernelspec": {
   "display_name": "Python 3",
   "language": "python",
   "name": "python3"
  },
  "language_info": {
   "codemirror_mode": {
    "name": "ipython",
    "version": 3
   },
   "file_extension": ".py",
   "mimetype": "text/x-python",
   "name": "python",
   "nbconvert_exporter": "python",
   "pygments_lexer": "ipython3",
   "version": "3.6.5"
  },
  "toc": {
   "base_numbering": 1,
   "nav_menu": {},
   "number_sections": true,
   "sideBar": true,
   "skip_h1_title": false,
   "title_cell": "Table of Contents",
   "title_sidebar": "Contents",
   "toc_cell": false,
   "toc_position": {
    "height": "calc(100% - 180px)",
    "left": "10px",
    "top": "150px",
    "width": "384px"
   },
   "toc_section_display": true,
   "toc_window_display": true
  },
  "toc-autonumbering": true,
  "toc-showcode": false,
  "toc-showmarkdowntxt": false,
  "toc-showtags": false
 },
 "nbformat": 4,
 "nbformat_minor": 4
}

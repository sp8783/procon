{
 "cells": [
  {
   "cell_type": "markdown",
   "metadata": {},
   "source": [
    "# librarylist"
   ]
  },
  {
   "cell_type": "code",
   "execution_count": null,
   "metadata": {},
   "outputs": [],
   "source": []
  },
  {
   "cell_type": "markdown",
   "metadata": {},
   "source": [
    "# A問題"
   ]
  },
  {
   "cell_type": "code",
   "execution_count": 3,
   "metadata": {},
   "outputs": [
    {
     "name": "stdout",
     "output_type": "stream",
     "text": [
      "100\n",
      "50\n"
     ]
    }
   ],
   "source": [
    "n = int(input())\n",
    "\n",
    "print(n//2+n%2)"
   ]
  },
  {
   "cell_type": "markdown",
   "metadata": {},
   "source": [
    "# B問題"
   ]
  },
  {
   "cell_type": "code",
   "execution_count": 9,
   "metadata": {},
   "outputs": [
    {
     "name": "stdout",
     "output_type": "stream",
     "text": [
      "84 97 66\n",
      "79 89 11\n",
      "61 59 7\n",
      "7\n",
      "89\n",
      "7\n",
      "87\n",
      "79\n",
      "24\n",
      "84\n",
      "30\n",
      "Yes\n"
     ]
    }
   ],
   "source": [
    "lst = [list(map(int, input().split())) for i in range(3)]\n",
    "n = int(input())\n",
    "b_lst = [int(input()) for i in range(n)]\n",
    "\n",
    "for l in b_lst:\n",
    "    for i in range(3):\n",
    "        lst[i] = [0 if l == j else j for j in lst[i]]\n",
    "\n",
    "f1 = lst[0][0] == lst[0][1] == lst[0][2]\n",
    "f2 = lst[1][0] == lst[1][1] == lst[1][2]\n",
    "f3 = lst[2][0] == lst[2][1] == lst[2][2]\n",
    "f4 = lst[0][0] == lst[1][0] == lst[2][0]\n",
    "f5 = lst[0][1] == lst[1][1] == lst[2][1]\n",
    "f6 = lst[0][2] == lst[1][2] == lst[2][2]\n",
    "f7 = lst[0][0] == lst[1][1] == lst[2][2]\n",
    "f8 = lst[2][0] == lst[1][1] == lst[0][2]\n",
    "\n",
    "if f1 or f2 or f3 or f4 or f5 or f6 or f7 or f8:\n",
    "    ans = \"Yes\"\n",
    "else:\n",
    "    ans = \"No\"\n",
    "\n",
    "print(ans)"
   ]
  },
  {
   "cell_type": "code",
   "execution_count": 8,
   "metadata": {},
   "outputs": [
    {
     "data": {
      "text/plain": [
       "[84, 97, 66]"
      ]
     },
     "execution_count": 8,
     "metadata": {},
     "output_type": "execute_result"
    }
   ],
   "source": [
    "lst"
   ]
  },
  {
   "cell_type": "markdown",
   "metadata": {},
   "source": [
    "# C問題"
   ]
  },
  {
   "cell_type": "code",
   "execution_count": 13,
   "metadata": {},
   "outputs": [
    {
     "name": "stdout",
     "output_type": "stream",
     "text": [
      "1 0\n",
      "0\n"
     ]
    }
   ],
   "source": [
    "import itertools\n",
    "\n",
    "n,m = map(int, input().split())\n",
    "lst = [list(map(int, input().split())) for i in range(m)]\n",
    "\n",
    "x = list(map(str, str(10**(n-1))))\n",
    "\n",
    "for l in lst:\n",
    "    x[l[0]-1] = str(l[1])\n",
    "ans = ''.join(x)\n",
    "\n",
    "if n == 1 and m == 0:\n",
    "    ans = 0\n",
    "\n",
    "if x[0] == \"0\" and n!=1:\n",
    "    ans = -1\n",
    "    \n",
    "for com in itertools.combinations(list(range(m)), 2):\n",
    "    if lst[com[0]][0] == lst[com[1]][0] and lst[com[0]][1] != lst[com[1]][1]:\n",
    "        ans = -1\n",
    "\n",
    "print(int(ans))"
   ]
  }
 ],
 "metadata": {
  "kernelspec": {
   "display_name": "Python 3",
   "language": "python",
   "name": "python3"
  },
  "language_info": {
   "codemirror_mode": {
    "name": "ipython",
    "version": 3
   },
   "file_extension": ".py",
   "mimetype": "text/x-python",
   "name": "python",
   "nbconvert_exporter": "python",
   "pygments_lexer": "ipython3",
   "version": "3.6.5"
  },
  "toc": {
   "base_numbering": 1,
   "nav_menu": {},
   "number_sections": true,
   "sideBar": true,
   "skip_h1_title": false,
   "title_cell": "Table of Contents",
   "title_sidebar": "Contents",
   "toc_cell": false,
   "toc_position": {},
   "toc_section_display": true,
   "toc_window_display": false
  }
 },
 "nbformat": 4,
 "nbformat_minor": 1
}

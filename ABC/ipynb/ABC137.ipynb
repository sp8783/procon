{
 "cells": [
  {
   "cell_type": "markdown",
   "metadata": {},
   "source": [
    "# A問題"
   ]
  },
  {
   "cell_type": "code",
   "execution_count": 1,
   "metadata": {},
   "outputs": [
    {
     "name": "stdin",
     "output_type": "stream",
     "text": [
      " -13 3\n"
     ]
    },
    {
     "name": "stdout",
     "output_type": "stream",
     "text": [
      "-10\n"
     ]
    }
   ],
   "source": [
    "A, B = map(int,input().split())\n",
    "\n",
    "ans = max(A+B, A-B, A*B)\n",
    "\n",
    "print(ans)"
   ]
  },
  {
   "cell_type": "markdown",
   "metadata": {},
   "source": [
    "# B問題"
   ]
  },
  {
   "cell_type": "code",
   "execution_count": 8,
   "metadata": {},
   "outputs": [
    {
     "name": "stdin",
     "output_type": "stream",
     "text": [
      " 4 0\n"
     ]
    },
    {
     "name": "stdout",
     "output_type": "stream",
     "text": [
      "-3 -2 -1 0 1 2 3\n"
     ]
    }
   ],
   "source": [
    "K, X = map(int,input().split())\n",
    "\n",
    "ans = list(range(X-K+1,X+K))\n",
    "\n",
    "print(*ans)"
   ]
  },
  {
   "cell_type": "markdown",
   "metadata": {},
   "source": [
    "# C問題"
   ]
  },
  {
   "cell_type": "code",
   "execution_count": 27,
   "metadata": {},
   "outputs": [
    {
     "name": "stdin",
     "output_type": "stream",
     "text": [
      " 3\n",
      " acornistnt\n",
      " peanutbomb\n",
      " constraint\n"
     ]
    },
    {
     "name": "stdout",
     "output_type": "stream",
     "text": [
      "1\n"
     ]
    }
   ],
   "source": [
    "import math\n",
    "\n",
    "def combinations_count(n, r):\n",
    "    return math.factorial(n) // (math.factorial(n - r) * math.factorial(r))\n",
    "\n",
    "N = int(input())\n",
    "S = {}\n",
    "for i in range(N):\n",
    "    s = input()\n",
    "    s = ''.join(sorted(s))\n",
    "    if s in S.keys():\n",
    "        S[s] += 1\n",
    "    else:\n",
    "        S[s] = 1\n",
    "\n",
    "ans = 0\n",
    "for count in S.values():\n",
    "    if count >= 2:\n",
    "        ans += combinations_count(count, 2)\n",
    "print(ans)"
   ]
  },
  {
   "cell_type": "markdown",
   "metadata": {},
   "source": [
    "# D問題"
   ]
  },
  {
   "cell_type": "code",
   "execution_count": 38,
   "metadata": {},
   "outputs": [
    {
     "name": "stdin",
     "output_type": "stream",
     "text": [
      " 3 4\n",
      " 4 3\n",
      " 4 1\n",
      " 2 2\n"
     ]
    },
    {
     "name": "stdout",
     "output_type": "stream",
     "text": [
      "5\n"
     ]
    }
   ],
   "source": [
    "import heapq\n",
    "\n",
    "N, M = map(int, input().split())\n",
    "work = [[] for _ in range(M)]\n",
    "\n",
    "for i in range(N):\n",
    "    day, money = list(map(int, input().split()))\n",
    "    if day-1 < M:\n",
    "        work[day-1].append(-money)\n",
    "        \n",
    "ans = 0\n",
    "heap = []\n",
    "\n",
    "for i in range(M):\n",
    "    for rewords in work[i]:\n",
    "        heapq.heappush(heap, rewords)\n",
    "    if len(heap) > 0:\n",
    "        reword = heapq.heappop(heap)\n",
    "        ans += -reword\n",
    "\n",
    "print(ans)"
   ]
  }
 ],
 "metadata": {
  "kernelspec": {
   "display_name": "Python 3",
   "language": "python",
   "name": "python3"
  },
  "language_info": {
   "codemirror_mode": {
    "name": "ipython",
    "version": 3
   },
   "file_extension": ".py",
   "mimetype": "text/x-python",
   "name": "python",
   "nbconvert_exporter": "python",
   "pygments_lexer": "ipython3",
   "version": "3.6.5"
  },
  "toc": {
   "base_numbering": 1,
   "nav_menu": {},
   "number_sections": true,
   "sideBar": true,
   "skip_h1_title": false,
   "title_cell": "Table of Contents",
   "title_sidebar": "Contents",
   "toc_cell": false,
   "toc_position": {},
   "toc_section_display": true,
   "toc_window_display": false
  }
 },
 "nbformat": 4,
 "nbformat_minor": 4
}

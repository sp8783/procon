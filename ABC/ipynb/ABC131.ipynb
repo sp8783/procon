{
 "cells": [
  {
   "cell_type": "markdown",
   "metadata": {},
   "source": [
    "# A問題"
   ]
  },
  {
   "cell_type": "code",
   "execution_count": 13,
   "metadata": {},
   "outputs": [
    {
     "name": "stdin",
     "output_type": "stream",
     "text": [
      " 1231\n"
     ]
    },
    {
     "name": "stdout",
     "output_type": "stream",
     "text": [
      "Good\n"
     ]
    }
   ],
   "source": [
    "S = list(input())\n",
    "\n",
    "ans = \"Good\"\n",
    "for i in range(len(S)-1):\n",
    "    if S[i] == S[i+1]:\n",
    "        ans = \"Bad\"\n",
    "        break\n",
    "\n",
    "print(ans)"
   ]
  },
  {
   "cell_type": "markdown",
   "metadata": {},
   "source": [
    "# B問題"
   ]
  },
  {
   "cell_type": "code",
   "execution_count": 19,
   "metadata": {},
   "outputs": [
    {
     "name": "stdin",
     "output_type": "stream",
     "text": [
      " 30 -50\n"
     ]
    },
    {
     "name": "stdout",
     "output_type": "stream",
     "text": [
      "-1044\n"
     ]
    }
   ],
   "source": [
    "N, L = map(int,input().split())\n",
    "\n",
    "seq = list(range(L,L+N))\n",
    "seq = sorted(seq, key=lambda x: abs(x))\n",
    "ans = sum(seq[1:])\n",
    "\n",
    "print(ans)"
   ]
  },
  {
   "cell_type": "markdown",
   "metadata": {},
   "source": [
    "# C問題"
   ]
  },
  {
   "cell_type": "code",
   "execution_count": 27,
   "metadata": {},
   "outputs": [
    {
     "name": "stdin",
     "output_type": "stream",
     "text": [
      " 314159265358979323 846264338327950288 419716939 937510582\n"
     ]
    },
    {
     "name": "stdout",
     "output_type": "stream",
     "text": [
      "532105071133627368\n"
     ]
    }
   ],
   "source": [
    "import math\n",
    "\n",
    "def count_num(x, a, b):\n",
    "    lcm = a * b // math.gcd(a,b)\n",
    "    cnt = x - x//a - x//b + x//lcm\n",
    "    return cnt\n",
    "\n",
    "A, B, C, D = map(int,input().split())\n",
    "\n",
    "ans = count_num(B,C,D) - count_num(A-1,C,D)\n",
    "\n",
    "print(ans)"
   ]
  },
  {
   "cell_type": "markdown",
   "metadata": {},
   "source": [
    "# D問題"
   ]
  },
  {
   "cell_type": "code",
   "execution_count": 31,
   "metadata": {},
   "outputs": [
    {
     "name": "stdin",
     "output_type": "stream",
     "text": [
      " 5\n",
      " 2 4\n",
      " 1 9\n",
      " 1 8\n",
      " 4 9\n",
      " 3 12\n"
     ]
    },
    {
     "name": "stdout",
     "output_type": "stream",
     "text": [
      "Yes\n"
     ]
    }
   ],
   "source": [
    "N = int(input())\n",
    "work = [list(map(int, input().split())) for _ in range(N)]\n",
    "\n",
    "work = sorted(work, key=lambda x: x[1])\n",
    "time = 0\n",
    "ans = \"Yes\"\n",
    "\n",
    "for a, b in work:\n",
    "    time += a\n",
    "    if time > b:\n",
    "        ans = \"No\"\n",
    "        break\n",
    "\n",
    "print(ans)"
   ]
  }
 ],
 "metadata": {
  "kernelspec": {
   "display_name": "Python 3",
   "language": "python",
   "name": "python3"
  },
  "language_info": {
   "codemirror_mode": {
    "name": "ipython",
    "version": 3
   },
   "file_extension": ".py",
   "mimetype": "text/x-python",
   "name": "python",
   "nbconvert_exporter": "python",
   "pygments_lexer": "ipython3",
   "version": "3.6.5"
  },
  "toc": {
   "base_numbering": 1,
   "nav_menu": {},
   "number_sections": true,
   "sideBar": true,
   "skip_h1_title": false,
   "title_cell": "Table of Contents",
   "title_sidebar": "Contents",
   "toc_cell": false,
   "toc_position": {},
   "toc_section_display": true,
   "toc_window_display": false
  }
 },
 "nbformat": 4,
 "nbformat_minor": 4
}

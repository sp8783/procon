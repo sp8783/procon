{
 "cells": [
  {
   "cell_type": "markdown",
   "metadata": {},
   "source": [
    "# librarylist"
   ]
  },
  {
   "cell_type": "code",
   "execution_count": 8,
   "metadata": {},
   "outputs": [],
   "source": [
    "import numpy as np"
   ]
  },
  {
   "cell_type": "markdown",
   "metadata": {},
   "source": [
    "# A問題"
   ]
  },
  {
   "cell_type": "code",
   "execution_count": 1,
   "metadata": {},
   "outputs": [
    {
     "name": "stdout",
     "output_type": "stream",
     "text": [
      "3 5 8 4\n",
      "3\n"
     ]
    }
   ],
   "source": [
    "lst = list(map(int,input().split()))\n",
    "\n",
    "print(min(lst))"
   ]
  },
  {
   "cell_type": "markdown",
   "metadata": {},
   "source": [
    "# B問題"
   ]
  },
  {
   "cell_type": "code",
   "execution_count": 18,
   "metadata": {},
   "outputs": [
    {
     "name": "stdout",
     "output_type": "stream",
     "text": [
      "20 1 30\n",
      "1 10\n",
      "No\n"
     ]
    }
   ],
   "source": [
    "n, m, t = map(int,input().split())\n",
    "lst =[list(map(int,input().split())) for i in range(m)]\n",
    "\n",
    "b = n\n",
    "ans = \"Yes\"\n",
    "\n",
    "for i in range(m):\n",
    "    if i == 0:\n",
    "        b = b - lst[i][0]\n",
    "    else:\n",
    "        b = b - (lst[i][0] - lst[i-1][1])\n",
    "    if b <= 0:\n",
    "        ans = \"No\"\n",
    "        break\n",
    "    b = min((b + (lst[i][1] - lst[i][0])), n)\n",
    "    \n",
    "b = b - (t - lst[m-1][1])\n",
    "if b <= 0:\n",
    "    ans = \"No\"\n",
    "\n",
    "print(ans)"
   ]
  },
  {
   "cell_type": "markdown",
   "metadata": {},
   "source": [
    "# C問題"
   ]
  },
  {
   "cell_type": "code",
   "execution_count": 21,
   "metadata": {},
   "outputs": [
    {
     "name": "stdout",
     "output_type": "stream",
     "text": [
      "17\n",
      "4368\n"
     ]
    }
   ],
   "source": [
    "import math\n",
    "\n",
    "def combinations_count(n, r):\n",
    "    return math.factorial(n) // (math.factorial(n - r) * math.factorial(r))\n",
    "\n",
    "\n",
    "l = int(input())\n",
    "ans = combinations_count(l-1, 11)\n",
    "print(ans)"
   ]
  },
  {
   "cell_type": "code",
   "execution_count": 1,
   "metadata": {},
   "outputs": [
    {
     "name": "stdout",
     "output_type": "stream",
     "text": [
      "4\n",
      "100000 100000 100000 100000\n",
      "499999583\n"
     ]
    }
   ],
   "source": [
    "###ボツ\n",
    "\n",
    "n = int(input())\n",
    "lst = list(map(int,input().split()))\n",
    "\n",
    "# A_i^2の総和のmod(10^9+7)を計算する\n",
    "tmp = sum(list(map(lambda x: (x**2)%(10**9+7), lst)))\n",
    "\n",
    "# A_iの総和の2乗のmod(10^9+7)を計算する\n",
    "tmp2 = ((sum(lst)%(10**9+7))**2)\n",
    "\n",
    "ans = (tmp2 - tmp)%(10**9+7)//2\n",
    "\n",
    "print(ans)"
   ]
  },
  {
   "cell_type": "markdown",
   "metadata": {},
   "source": [
    "# D問題"
   ]
  },
  {
   "cell_type": "code",
   "execution_count": 1,
   "metadata": {},
   "outputs": [
    {
     "name": "stdout",
     "output_type": "stream",
     "text": [
      "5 2\n",
      "1 3\n",
      "3\n"
     ]
    }
   ],
   "source": [
    "N, M = map(int, input().split())\n",
    "A = [0] + list(map(int, input().split())) + [N + 1]\n",
    "M += 2\n",
    "\n",
    "A.sort()\n",
    "stamp_len = 10 ** 18\n",
    "between = []\n",
    "for i in range(1, M):\n",
    "    res = A[i] - A[i - 1] - 1\n",
    "    if res <= 0:\n",
    "        continue\n",
    "    stamp_len = min(stamp_len, res)\n",
    "    between.append(res)\n",
    "\n",
    "ans = 0\n",
    "for B in between:\n",
    "    ans += -(-B // stamp_len)\n",
    "\n",
    "print(ans)"
   ]
  },
  {
   "cell_type": "code",
   "execution_count": null,
   "metadata": {},
   "outputs": [],
   "source": []
  }
 ],
 "metadata": {
  "kernelspec": {
   "display_name": "Python 3",
   "language": "python",
   "name": "python3"
  },
  "language_info": {
   "codemirror_mode": {
    "name": "ipython",
    "version": 3
   },
   "file_extension": ".py",
   "mimetype": "text/x-python",
   "name": "python",
   "nbconvert_exporter": "python",
   "pygments_lexer": "ipython3",
   "version": "3.6.5"
  },
  "toc": {
   "base_numbering": 1,
   "nav_menu": {},
   "number_sections": true,
   "sideBar": true,
   "skip_h1_title": false,
   "title_cell": "Table of Contents",
   "title_sidebar": "Contents",
   "toc_cell": false,
   "toc_position": {},
   "toc_section_display": true,
   "toc_window_display": false
  }
 },
 "nbformat": 4,
 "nbformat_minor": 1
}

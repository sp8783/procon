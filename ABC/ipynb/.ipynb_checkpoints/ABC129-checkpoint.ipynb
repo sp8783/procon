{
 "cells": [
  {
   "cell_type": "markdown",
   "metadata": {},
   "source": [
    "# A問題"
   ]
  },
  {
   "cell_type": "code",
   "execution_count": 1,
   "metadata": {},
   "outputs": [
    {
     "name": "stdin",
     "output_type": "stream",
     "text": [
      " 1 3 4\n"
     ]
    },
    {
     "name": "stdout",
     "output_type": "stream",
     "text": [
      "4\n"
     ]
    }
   ],
   "source": [
    "P, Q, R = map(int,input().split())\n",
    " \n",
    "ans = P + Q + R - max(P, Q, R)\n",
    " \n",
    "print(ans)"
   ]
  },
  {
   "cell_type": "markdown",
   "metadata": {},
   "source": [
    "# B問題"
   ]
  },
  {
   "cell_type": "code",
   "execution_count": 2,
   "metadata": {},
   "outputs": [
    {
     "name": "stdin",
     "output_type": "stream",
     "text": [
      " 3\n",
      " 1 2 3\n"
     ]
    },
    {
     "name": "stdout",
     "output_type": "stream",
     "text": [
      "0\n"
     ]
    }
   ],
   "source": [
    "N = int(input())\n",
    "W = list(map(int, input().split()))\n",
    "\n",
    "ans = sum(W)\n",
    "\n",
    "for i in range(1,N):\n",
    "    ans = min(ans, abs(sum(W[:i]) - sum(W[i:])))\n",
    "\n",
    "print(ans)"
   ]
  },
  {
   "cell_type": "markdown",
   "metadata": {},
   "source": [
    "# C問題"
   ]
  },
  {
   "cell_type": "code",
   "execution_count": 12,
   "metadata": {},
   "outputs": [
    {
     "name": "stdout",
     "output_type": "stream",
     "text": [
      "100 5\n",
      "1\n",
      "23\n",
      "45\n",
      "67\n",
      "89\n",
      "608200469\n"
     ]
    }
   ],
   "source": [
    "N, M = map(int,input().split())\n",
    "\n",
    "lst = [True]*(N+1)\n",
    "for i in range(M):\n",
    "    j = int(input())\n",
    "    lst[j] = False\n",
    "\n",
    "dp = [0]*(N+1)\n",
    "dp[0] = 1\n",
    "\n",
    "for i in range(1,N+1):\n",
    "    if lst[i]:\n",
    "        if i == 1:\n",
    "            dp[i] += dp[i-1]\n",
    "        else:\n",
    "            dp[i] += dp[i-1] + dp[i-2]\n",
    "\n",
    "ans = dp[N]%(10**9+7)\n",
    "print(ans)"
   ]
  },
  {
   "cell_type": "markdown",
   "metadata": {},
   "source": [
    "# D問題"
   ]
  },
  {
   "cell_type": "code",
   "execution_count": 9,
   "metadata": {},
   "outputs": [
    {
     "name": "stdin",
     "output_type": "stream",
     "text": [
      " 4 6\n",
      " #..#..\n",
      " .....#\n",
      " ....#.\n",
      " #.#...\n"
     ]
    },
    {
     "name": "stdout",
     "output_type": "stream",
     "text": [
      "8\n"
     ]
    }
   ],
   "source": [
    "H, W = map(int, input().split())\n",
    "S = [list(input()) for _ in range(H)]\n",
    "\n",
    "\n",
    "L = [[0]*W for _ in range(H)]\n",
    "R = [[0]*W for _ in range(H)]\n",
    "U = [[0]*W for _ in range(H)]\n",
    "D = [[0]*W for _ in range(H)]\n",
    "total = [[0]*W for _ in range(H)]\n",
    "\n",
    "ans = 0\n",
    "\n",
    "for h in range(H):\n",
    "    for w in range(W):\n",
    "        if S[h][w] == \".\":\n",
    "            if w == 0:\n",
    "                L[h][w] = 1\n",
    "            else:\n",
    "                L[h][w] = L[h][w-1] + 1\n",
    "            total[h][w] += L[h][w]\n",
    "\n",
    "for h in range(H):\n",
    "    for w in reversed(range(W)):\n",
    "        if S[h][w] == \".\":\n",
    "            if w == W-1:\n",
    "                R[h][w] = 1\n",
    "            else:\n",
    "                R[h][w] = R[h][w+1] + 1\n",
    "            total[h][w] += R[h][w]\n",
    "\n",
    "for h in range(H):\n",
    "    for w in range(W):\n",
    "        if S[h][w] == \".\":\n",
    "            if h == 0:\n",
    "                U[h][w] = 1\n",
    "            else:\n",
    "                U[h][w] = U[h-1][w] + 1\n",
    "            total[h][w] += U[h][w]\n",
    "\n",
    "for h in reversed(range(H)):\n",
    "    for w in range(W):\n",
    "        if S[h][w] == \".\":\n",
    "            if h == H-1:\n",
    "                D[h][w] = 1\n",
    "            else:\n",
    "                D[h][w] = D[h+1][w] + 1\n",
    "            total[h][w] += D[h][w]\n",
    "            \n",
    "        ans = max(total[h][w], ans)\n",
    "\n",
    "print(ans-3)"
   ]
  }
 ],
 "metadata": {
  "kernelspec": {
   "display_name": "Python 3",
   "language": "python",
   "name": "python3"
  },
  "language_info": {
   "codemirror_mode": {
    "name": "ipython",
    "version": 3
   },
   "file_extension": ".py",
   "mimetype": "text/x-python",
   "name": "python",
   "nbconvert_exporter": "python",
   "pygments_lexer": "ipython3",
   "version": "3.6.5"
  },
  "toc": {
   "base_numbering": 1,
   "nav_menu": {},
   "number_sections": true,
   "sideBar": true,
   "skip_h1_title": false,
   "title_cell": "Table of Contents",
   "title_sidebar": "Contents",
   "toc_cell": false,
   "toc_position": {},
   "toc_section_display": true,
   "toc_window_display": false
  }
 },
 "nbformat": 4,
 "nbformat_minor": 4
}

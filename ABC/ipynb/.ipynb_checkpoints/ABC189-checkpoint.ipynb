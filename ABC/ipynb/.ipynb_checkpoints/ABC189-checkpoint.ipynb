{
 "cells": [
  {
   "cell_type": "markdown",
   "metadata": {},
   "source": [
    "# A問題"
   ]
  },
  {
   "cell_type": "code",
   "execution_count": 2,
   "metadata": {},
   "outputs": [
    {
     "name": "stdin",
     "output_type": "stream",
     "text": [
      " WVW\n"
     ]
    },
    {
     "name": "stdout",
     "output_type": "stream",
     "text": [
      "Lost\n"
     ]
    }
   ],
   "source": [
    "C = list(input())\n",
    "\n",
    "if C[0] == C[1] and C[1] == C[2]:\n",
    "    ans = \"Won\"\n",
    "else:\n",
    "    ans = \"Lost\"\n",
    "    \n",
    "print(ans)"
   ]
  },
  {
   "cell_type": "markdown",
   "metadata": {},
   "source": [
    "# B問題"
   ]
  },
  {
   "cell_type": "code",
   "execution_count": 4,
   "metadata": {},
   "outputs": [
    {
     "name": "stdin",
     "output_type": "stream",
     "text": [
      " 3 1000000\n",
      " 1000 100\n",
      " 1000 100\n",
      " 1000 100\n"
     ]
    },
    {
     "name": "stdout",
     "output_type": "stream",
     "text": [
      "-1\n"
     ]
    }
   ],
   "source": [
    "N, X = map(int, input().split())\n",
    "\n",
    "total = 0\n",
    "ans = -1\n",
    "\n",
    "\n",
    "for i in range(N):\n",
    "    V, P = map(int, input().split())\n",
    "    total += V*P\n",
    "    if total > X*100:\n",
    "        ans = i+1\n",
    "        break\n",
    "    \n",
    "print(ans)"
   ]
  },
  {
   "cell_type": "markdown",
   "metadata": {},
   "source": [
    "# C問題"
   ]
  },
  {
   "cell_type": "code",
   "execution_count": 31,
   "metadata": {},
   "outputs": [
    {
     "name": "stdin",
     "output_type": "stream",
     "text": [
      " 6\n",
      " 200 4 4 9 4 9 \n"
     ]
    },
    {
     "name": "stdout",
     "output_type": "stream",
     "text": [
      "200\n"
     ]
    }
   ],
   "source": [
    "from itertools import accumulate\n",
    "\n",
    "N = int(input())\n",
    "A = list(map(int, input().split()))\n",
    "\n",
    "ans = 0\n",
    "for i in range(N):\n",
    "    A_min = list(accumulate(A[i:], func=min))\n",
    "    for j in range(i+1,N+1):\n",
    "        min_num = A_min[j-i-1]\n",
    "        total = min_num * (j-i)\n",
    "        ans = max(total, ans)\n",
    "\n",
    "print(ans)"
   ]
  },
  {
   "cell_type": "markdown",
   "metadata": {},
   "source": [
    "# D問題"
   ]
  },
  {
   "cell_type": "code",
   "execution_count": 26,
   "metadata": {},
   "outputs": [
    {
     "name": "stdin",
     "output_type": "stream",
     "text": [
      " 5\n",
      " OR\n",
      " OR\n",
      " OR\n",
      " OR\n",
      " OR\n"
     ]
    },
    {
     "name": "stdout",
     "output_type": "stream",
     "text": [
      "63\n"
     ]
    }
   ],
   "source": [
    "N = int(input())\n",
    "S = [input() for i in range(N)]\n",
    "\n",
    "S = S[::-1]\n",
    "ans = 1\n",
    "\n",
    "for i in range(N):\n",
    "    if S[i] == \"OR\":\n",
    "        ans += 2**(N-i)\n",
    "    elif S[i] == \"AND\":\n",
    "        continue\n",
    "    \n",
    "print(ans)"
   ]
  },
  {
   "cell_type": "markdown",
   "metadata": {},
   "source": [
    "# E問題"
   ]
  },
  {
   "cell_type": "code",
   "execution_count": 6,
   "metadata": {},
   "outputs": [
    {
     "name": "stdin",
     "output_type": "stream",
     "text": [
      " 1\n",
      " 1 2\n",
      " 4\n",
      " 1\n",
      " 3 3\n",
      " 2\n",
      " 4 2\n",
      " 5\n",
      " 0 1\n"
     ]
    },
    {
     "name": "stdout",
     "output_type": "stream",
     "text": [
      "1 2\n"
     ]
    },
    {
     "name": "stdin",
     "output_type": "stream",
     "text": [
      " 1 1\n"
     ]
    },
    {
     "name": "stdout",
     "output_type": "stream",
     "text": [
      "2 -1\n"
     ]
    },
    {
     "name": "stdin",
     "output_type": "stream",
     "text": [
      " 2 1\n"
     ]
    },
    {
     "name": "stdout",
     "output_type": "stream",
     "text": [
      "4 -1\n"
     ]
    },
    {
     "name": "stdin",
     "output_type": "stream",
     "text": [
      " 3 1\n"
     ]
    },
    {
     "name": "stdout",
     "output_type": "stream",
     "text": [
      "1 4\n"
     ]
    },
    {
     "name": "stdin",
     "output_type": "stream",
     "text": [
      " 4 1\n"
     ]
    },
    {
     "name": "stdout",
     "output_type": "stream",
     "text": [
      "1 0\n"
     ]
    }
   ],
   "source": [
    "import numpy as np\n",
    "import sys\n",
    "\n",
    "input = sys.stdin.readline\n",
    "\n",
    "N = int(input())\n",
    "piece = [np.array(list(map(int, input().split())) + [1], dtype=np.int64).T for _ in range(N)]\n",
    "\n",
    "arr_lst = [np.array([[0,1,0],\n",
    "                    [-1,0,0],\n",
    "                    [0,0,1]]),\n",
    "           np.array([[0,-1,0],\n",
    "                    [1,0,0],\n",
    "                    [0,0,1]]),\n",
    "           np.array([[-1,0,0],\n",
    "                    [0,1,0],\n",
    "                    [0,0,1]]),\n",
    "           np.array([[1,0,0],\n",
    "                    [0,-1,0],\n",
    "                    [0,0,1]])]\n",
    "\n",
    "M = int(input())\n",
    "M_lst = [None]*(M+1)\n",
    "M_lst[0] = np.array([[1,0,0],\n",
    "                [0,1,0],\n",
    "                [0,0,1]])\n",
    "\n",
    "for i in range(M):\n",
    "    op = list(map(int, input().split()))\n",
    "    if op[0] == 1:\n",
    "        arr = arr_lst[0]\n",
    "    elif op[0] == 2:\n",
    "        arr = arr_lst[1]\n",
    "    elif op[0] == 3:\n",
    "        arr = arr_lst[2]\n",
    "        arr[0,2] = op[1]*2\n",
    "    elif op[0] == 4:\n",
    "        arr = arr_lst[3]\n",
    "        arr[1,2] = op[1]*2\n",
    "    \n",
    "    M_lst[i+1] = np.dot(arr, M_lst[i])\n",
    "\n",
    "Q = int(input())\n",
    "for i in range(Q):\n",
    "    a, b = map(int, input().split())\n",
    "#     p = piece[b-1] # 余計な変数を置くと遅くなる\n",
    "    ans = np.dot(M_lst[a],piece[b-1])\n",
    "#     print(*ans[:2]) # リスト参照よりもformatの方が速い\n",
    "    print(f'{ans[0]} {ans[1]}')"
   ]
  }
 ],
 "metadata": {
  "kernelspec": {
   "display_name": "Python 3",
   "language": "python",
   "name": "python3"
  },
  "language_info": {
   "codemirror_mode": {
    "name": "ipython",
    "version": 3
   },
   "file_extension": ".py",
   "mimetype": "text/x-python",
   "name": "python",
   "nbconvert_exporter": "python",
   "pygments_lexer": "ipython3",
   "version": "3.6.5"
  },
  "toc": {
   "base_numbering": 1,
   "nav_menu": {},
   "number_sections": true,
   "sideBar": true,
   "skip_h1_title": false,
   "title_cell": "Table of Contents",
   "title_sidebar": "Contents",
   "toc_cell": false,
   "toc_position": {},
   "toc_section_display": true,
   "toc_window_display": false
  }
 },
 "nbformat": 4,
 "nbformat_minor": 4
}

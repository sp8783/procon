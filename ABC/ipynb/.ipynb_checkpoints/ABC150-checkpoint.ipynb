{
 "cells": [
  {
   "cell_type": "markdown",
   "metadata": {},
   "source": [
    "# A問題"
   ]
  },
  {
   "cell_type": "code",
   "execution_count": 3,
   "metadata": {},
   "outputs": [
    {
     "name": "stdout",
     "output_type": "stream",
     "text": [
      "4 2000\n",
      "Yes\n"
     ]
    }
   ],
   "source": [
    "k,x = map(int,input().split())\n",
    "if k*500 >= x:\n",
    "    print(\"Yes\")\n",
    "else:\n",
    "    print(\"No\")"
   ]
  },
  {
   "cell_type": "markdown",
   "metadata": {},
   "source": [
    "# B問題"
   ]
  },
  {
   "cell_type": "code",
   "execution_count": 7,
   "metadata": {},
   "outputs": [
    {
     "name": "stdout",
     "output_type": "stream",
     "text": [
      "33\n",
      "ABCCABCBABCCABACBCBBABCBCBCBCABCB\n",
      "5\n"
     ]
    }
   ],
   "source": [
    "n = int(input())\n",
    "s = input()\n",
    "\n",
    "print(s.count(\"ABC\"))"
   ]
  },
  {
   "cell_type": "markdown",
   "metadata": {},
   "source": [
    "# C問題"
   ]
  },
  {
   "cell_type": "code",
   "execution_count": 24,
   "metadata": {},
   "outputs": [
    {
     "name": "stdin",
     "output_type": "stream",
     "text": [
      " 8\n",
      " 7 3 5 4 2 1 6 8\n",
      " 3 8 2 5 4 6 7 1\n"
     ]
    },
    {
     "name": "stdout",
     "output_type": "stream",
     "text": [
      "17517\n"
     ]
    }
   ],
   "source": [
    "import itertools\n",
    "\n",
    "N = int(input())\n",
    "P = tuple(map(int, input().split()))\n",
    "Q = tuple(map(int, input().split()))\n",
    "\n",
    "L_perm = itertools.permutations(list(range(1,N+1)), N)\n",
    "\n",
    "flag_P = False\n",
    "flag_Q = False\n",
    "for i, L in enumerate(L_perm):\n",
    "    if L == P:\n",
    "        a = i + 1\n",
    "        flag_P = True\n",
    "    if L == Q:\n",
    "        b = i + 1\n",
    "        flag_Q = True\n",
    "    if flag_P and flag_Q:\n",
    "        break\n",
    "\n",
    "ans = abs(a-b)\n",
    "print(ans)"
   ]
  },
  {
   "cell_type": "markdown",
   "metadata": {},
   "source": [
    "# D問題"
   ]
  },
  {
   "cell_type": "code",
   "execution_count": 15,
   "metadata": {},
   "outputs": [
    {
     "name": "stdin",
     "output_type": "stream",
     "text": [
      " 5 1000000000\n",
      " 6 2 6 2 2\n"
     ]
    },
    {
     "name": "stdout",
     "output_type": "stream",
     "text": [
      "166666667\n"
     ]
    }
   ],
   "source": [
    "import math\n",
    "N, M = map(int, input().split())\n",
    "A = list(map(int, input().split()))\n",
    "\n",
    "A = [a // 2 for a in A]\n",
    "max_cnt = None\n",
    "flag = True\n",
    "\n",
    "def lcm(a,b):\n",
    "    lcm = a*b//math.gcd(a,b)\n",
    "    return lcm\n",
    "\n",
    "for a in A:\n",
    "    cnt = 0\n",
    "    while a % 2 == 0:\n",
    "        cnt += 1\n",
    "        a //= 2\n",
    "        \n",
    "    if max_cnt == None:\n",
    "        max_cnt = cnt\n",
    "    else:\n",
    "        if max_cnt != cnt:\n",
    "            ans = 0\n",
    "            flag = False\n",
    "            break\n",
    "    \n",
    "while len(A) > 1:\n",
    "    a, b = A.pop(), A.pop()\n",
    "    lc = lcm(a, b)\n",
    "    if lc > M:\n",
    "        ans = 0\n",
    "        flag = False\n",
    "        break\n",
    "    A.append(lc)\n",
    "    \n",
    "if flag:\n",
    "    ans = math.ceil((M//A[0]/2))\n",
    "                \n",
    "print(ans)"
   ]
  }
 ],
 "metadata": {
  "kernelspec": {
   "display_name": "Python 3",
   "language": "python",
   "name": "python3"
  },
  "language_info": {
   "codemirror_mode": {
    "name": "ipython",
    "version": 3
   },
   "file_extension": ".py",
   "mimetype": "text/x-python",
   "name": "python",
   "nbconvert_exporter": "python",
   "pygments_lexer": "ipython3",
   "version": "3.6.5"
  }
 },
 "nbformat": 4,
 "nbformat_minor": 4
}

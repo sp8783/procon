{
 "cells": [
  {
   "cell_type": "markdown",
   "metadata": {},
   "source": [
    "# librarylist"
   ]
  },
  {
   "cell_type": "code",
   "execution_count": 8,
   "metadata": {},
   "outputs": [],
   "source": [
    "import numpy as np"
   ]
  },
  {
   "cell_type": "markdown",
   "metadata": {},
   "source": [
    "# A問題"
   ]
  },
  {
   "cell_type": "code",
   "execution_count": 8,
   "metadata": {},
   "outputs": [
    {
     "name": "stdout",
     "output_type": "stream",
     "text": [
      "RSR\n",
      "1\n"
     ]
    }
   ],
   "source": [
    "lst = list(input())\n",
    "\n",
    "tmp = 0\n",
    "ans = 0\n",
    "\n",
    "for i in lst:\n",
    "    if i == \"R\":\n",
    "        tmp = tmp + 1\n",
    "        ans = max(ans, tmp)\n",
    "    else:\n",
    "        tmp = 0\n",
    "\n",
    "print(ans)"
   ]
  },
  {
   "cell_type": "markdown",
   "metadata": {},
   "source": [
    "# B問題"
   ]
  },
  {
   "cell_type": "code",
   "execution_count": 18,
   "metadata": {
    "scrolled": true
   },
   "outputs": [
    {
     "name": "stdout",
     "output_type": "stream",
     "text": [
      "5\n",
      "4 4 9 7 5\n",
      "0\n",
      "1\n",
      "2\n",
      "0\n",
      "1\n",
      "3\n",
      "0\n",
      "2\n",
      "3\n"
     ]
    }
   ],
   "source": [
    "from itertools import combinations\n",
    "\n",
    "N = int(input())\n",
    "L = list(map(int, input().split()))\n",
    "\n",
    "count = 0\n",
    "for C in combinations(L, 3):\n",
    "    l_list = list(C)\n",
    "    l_list.sort()\n",
    "\n",
    "    if l_list[2] > l_list[1] and l_list[1] > l_list[0]:\n",
    "        if l_list[2] < l_list[1] + l_list[0]:\n",
    "            count += 1\n",
    "\n",
    "print(count)"
   ]
  },
  {
   "cell_type": "markdown",
   "metadata": {},
   "source": [
    "# C問題"
   ]
  },
  {
   "cell_type": "code",
   "execution_count": 24,
   "metadata": {},
   "outputs": [
    {
     "name": "stdout",
     "output_type": "stream",
     "text": [
      "1000000000000000 1000000000000000 1000000000000000\n",
      "1000000000000000\n"
     ]
    }
   ],
   "source": [
    "X, K, D = map(int, input().split())\n",
    "\n",
    "ans = 0\n",
    "\n",
    "if abs(X) > K*D:\n",
    "    ans = abs(X) - K*D\n",
    "else:\n",
    "    k = abs(X)//D\n",
    "    if (K-k)%2 == 0:\n",
    "        ans = abs(X) - D*k\n",
    "    else:\n",
    "        ans = D - (abs(X) - D*k)\n",
    "\n",
    "print(ans)"
   ]
  },
  {
   "cell_type": "code",
   "execution_count": null,
   "metadata": {},
   "outputs": [],
   "source": []
  },
  {
   "cell_type": "markdown",
   "metadata": {},
   "source": [
    "# D問題"
   ]
  },
  {
   "cell_type": "code",
   "execution_count": null,
   "metadata": {},
   "outputs": [],
   "source": []
  }
 ],
 "metadata": {
  "kernelspec": {
   "display_name": "Python 3",
   "language": "python",
   "name": "python3"
  },
  "language_info": {
   "codemirror_mode": {
    "name": "ipython",
    "version": 3
   },
   "file_extension": ".py",
   "mimetype": "text/x-python",
   "name": "python",
   "nbconvert_exporter": "python",
   "pygments_lexer": "ipython3",
   "version": "3.6.5"
  },
  "toc": {
   "base_numbering": 1,
   "nav_menu": {},
   "number_sections": true,
   "sideBar": true,
   "skip_h1_title": false,
   "title_cell": "Table of Contents",
   "title_sidebar": "Contents",
   "toc_cell": false,
   "toc_position": {},
   "toc_section_display": true,
   "toc_window_display": false
  }
 },
 "nbformat": 4,
 "nbformat_minor": 1
}

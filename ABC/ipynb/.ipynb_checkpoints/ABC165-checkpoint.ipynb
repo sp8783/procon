{
 "cells": [
  {
   "cell_type": "markdown",
   "metadata": {},
   "source": [
    "# A問題"
   ]
  },
  {
   "cell_type": "code",
   "execution_count": 4,
   "metadata": {},
   "outputs": [
    {
     "name": "stdout",
     "output_type": "stream",
     "text": [
      "4\n",
      "5 7\n",
      "NG\n"
     ]
    }
   ],
   "source": [
    "k = int(input())\n",
    "a,b = map(int,input().split())\n",
    "\n",
    "flag = False\n",
    "\n",
    "for i in range(a,b+1):\n",
    "    if i%k == 0:\n",
    "        flag = True\n",
    "        break\n",
    "\n",
    "if flag:\n",
    "    ans = \"OK\"\n",
    "else:\n",
    "    ans = \"NG\"\n",
    "    \n",
    "print(ans)"
   ]
  },
  {
   "cell_type": "markdown",
   "metadata": {},
   "source": [
    "# B問題"
   ]
  },
  {
   "cell_type": "code",
   "execution_count": 13,
   "metadata": {},
   "outputs": [
    {
     "name": "stdout",
     "output_type": "stream",
     "text": [
      "103\n",
      "3\n"
     ]
    }
   ],
   "source": [
    "import math\n",
    "\n",
    "x = int(input())\n",
    "\n",
    "i = 0\n",
    "money = 100\n",
    "\n",
    "while money < x:\n",
    "    money = money * 101 // 100\n",
    "    i += 1\n",
    "\n",
    "print(i)"
   ]
  },
  {
   "cell_type": "markdown",
   "metadata": {},
   "source": [
    "# C問題"
   ]
  },
  {
   "cell_type": "code",
   "execution_count": 40,
   "metadata": {},
   "outputs": [
    {
     "name": "stdout",
     "output_type": "stream",
     "text": [
      "4 6 10\n",
      "2 4 1 86568\n",
      "1 4 0 90629\n",
      "2 3 0 90310\n",
      "3 4 1 29211\n",
      "3 4 3 78537\n",
      "3 4 2 8580\n",
      "1 2 1 96263\n",
      "1 4 2 2156\n",
      "1 2 0 94325\n",
      "1 4 3 94328\n",
      "357500\n"
     ]
    }
   ],
   "source": [
    "import itertools\n",
    "\n",
    "n, m, q = map(int,input().split())\n",
    "lst = [list(map(int,input().split())) for i in range(q)]\n",
    "\n",
    "seq = list(range(m))\n",
    "com = list(itertools.combinations_with_replacement(seq,n))\n",
    "ans = 0\n",
    "\n",
    "for i in range(len(com)):\n",
    "    total = 0\n",
    "    for j in range(q):\n",
    "        if com[i][lst[j][1]-1]  - com[i][lst[j][0]-1] == lst[j][2]:\n",
    "            total += lst[j][3]\n",
    "    ans = max(ans, total)\n",
    "\n",
    "print (ans)"
   ]
  }
 ],
 "metadata": {
  "kernelspec": {
   "display_name": "Python 3",
   "language": "python",
   "name": "python3"
  },
  "language_info": {
   "codemirror_mode": {
    "name": "ipython",
    "version": 3
   },
   "file_extension": ".py",
   "mimetype": "text/x-python",
   "name": "python",
   "nbconvert_exporter": "python",
   "pygments_lexer": "ipython3",
   "version": "3.6.5"
  },
  "toc": {
   "base_numbering": 1,
   "nav_menu": {},
   "number_sections": true,
   "sideBar": true,
   "skip_h1_title": false,
   "title_cell": "Table of Contents",
   "title_sidebar": "Contents",
   "toc_cell": false,
   "toc_position": {},
   "toc_section_display": true,
   "toc_window_display": false
  }
 },
 "nbformat": 4,
 "nbformat_minor": 4
}

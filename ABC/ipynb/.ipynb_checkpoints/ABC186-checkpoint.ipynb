{
 "cells": [
  {
   "cell_type": "markdown",
   "metadata": {},
   "source": [
    "# A問題"
   ]
  },
  {
   "cell_type": "code",
   "execution_count": 2,
   "metadata": {},
   "outputs": [
    {
     "name": "stdout",
     "output_type": "stream",
     "text": [
      "1000 1\n",
      "1000\n"
     ]
    }
   ],
   "source": [
    "n, w = map(int,input().split())\n",
    "\n",
    "print(n//w)"
   ]
  },
  {
   "cell_type": "markdown",
   "metadata": {},
   "source": [
    "# B問題"
   ]
  },
  {
   "cell_type": "code",
   "execution_count": 8,
   "metadata": {},
   "outputs": [
    {
     "name": "stdout",
     "output_type": "stream",
     "text": [
      "3 2\n",
      "4 4\n",
      "4 4\n",
      "4 4\n",
      "0\n"
     ]
    }
   ],
   "source": [
    "h, w = map(int,input().split())\n",
    "lst = []\n",
    "\n",
    "for i in range(h):\n",
    "    lst.extend(list(map(int,input().split())))\n",
    "    \n",
    "tmp = list(map(lambda x: x - min(lst), lst))\n",
    "\n",
    "print(sum(tmp))"
   ]
  },
  {
   "cell_type": "markdown",
   "metadata": {},
   "source": [
    "# C問題"
   ]
  },
  {
   "cell_type": "code",
   "execution_count": 12,
   "metadata": {},
   "outputs": [
    {
     "name": "stdout",
     "output_type": "stream",
     "text": [
      "100000\n",
      "30555\n"
     ]
    }
   ],
   "source": [
    "n = int(input())\n",
    "\n",
    "def change(N,shinsu):\n",
    "    keta=0\n",
    "    for i in range(10**9):\n",
    "        if N<shinsu**i:\n",
    "             keta+=i\n",
    "             break\n",
    "    ans=[0]*keta\n",
    "    check=0\n",
    "    for i in range(1,keta+1):\n",
    "        j=N//(shinsu**(keta-i))\n",
    "        ans[check]=j\n",
    "        check+=1\n",
    "        N-=(j)*(shinsu**(keta-i))\n",
    "    return ans\n",
    "\n",
    "ans = 0\n",
    "\n",
    "for i in range(1,n+1):\n",
    "    i_10 = str(i)\n",
    "    i_8 = str(change(i,8))   \n",
    "    if not(\"7\" in str(i_10)) and not(\"7\" in str(i_8)):\n",
    "        ans += 1\n",
    "        \n",
    "print(ans)"
   ]
  },
  {
   "cell_type": "markdown",
   "metadata": {},
   "source": [
    "# D問題"
   ]
  },
  {
   "cell_type": "code",
   "execution_count": 27,
   "metadata": {},
   "outputs": [
    {
     "name": "stdout",
     "output_type": "stream",
     "text": [
      "3\n",
      "5 1 2\n",
      "8\n"
     ]
    }
   ],
   "source": [
    "from itertools import accumulate\n",
    "\n",
    "n = int(input())\n",
    "lst = list(map(int,input().split()))\n",
    "\n",
    "ans = 0\n",
    "lst = sorted(lst)\n",
    "sum_lst = list(accumulate(lst))\n",
    "\n",
    "for i in range(n):\n",
    "    ans += sum_lst[-1] - sum_lst[i] - (n - i - 1)*lst[i]\n",
    "    \n",
    "print(ans)"
   ]
  }
 ],
 "metadata": {
  "kernelspec": {
   "display_name": "Python 3",
   "language": "python",
   "name": "python3"
  },
  "language_info": {
   "codemirror_mode": {
    "name": "ipython",
    "version": 3
   },
   "file_extension": ".py",
   "mimetype": "text/x-python",
   "name": "python",
   "nbconvert_exporter": "python",
   "pygments_lexer": "ipython3",
   "version": "3.6.5"
  },
  "toc": {
   "base_numbering": 1,
   "nav_menu": {},
   "number_sections": true,
   "sideBar": true,
   "skip_h1_title": false,
   "title_cell": "Table of Contents",
   "title_sidebar": "Contents",
   "toc_cell": false,
   "toc_position": {},
   "toc_section_display": true,
   "toc_window_display": false
  }
 },
 "nbformat": 4,
 "nbformat_minor": 1
}

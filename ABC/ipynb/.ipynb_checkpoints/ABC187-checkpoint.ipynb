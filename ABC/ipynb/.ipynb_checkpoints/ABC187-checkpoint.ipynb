{
 "cells": [
  {
   "cell_type": "markdown",
   "metadata": {},
   "source": [
    "# A問題"
   ]
  },
  {
   "cell_type": "code",
   "execution_count": 6,
   "metadata": {},
   "outputs": [
    {
     "name": "stdout",
     "output_type": "stream",
     "text": [
      "100 999\n",
      "27\n"
     ]
    }
   ],
   "source": [
    "def digitSum(n):\n",
    "    # 数値を文字列に変換\n",
    "    s = str(n)\n",
    "    # １文字ずつ数値化し配列にする。\n",
    "    array = list(map(int, s))\n",
    "    # 合計値を返す\n",
    "    return sum(array)\n",
    "\n",
    "a, b = map(int,input().split())\n",
    "\n",
    "ans = 0\n",
    "\n",
    "if digitSum(a) >= digitSum(b):\n",
    "    ans = digitSum(a)\n",
    "else:\n",
    "    ans = digitSum(b)\n",
    "\n",
    "print(ans)"
   ]
  },
  {
   "cell_type": "markdown",
   "metadata": {},
   "source": [
    "# B問題"
   ]
  },
  {
   "cell_type": "code",
   "execution_count": 11,
   "metadata": {},
   "outputs": [
    {
     "name": "stdout",
     "output_type": "stream",
     "text": [
      "10\n",
      "-31 -35\n",
      "8 -36\n",
      "22 64\n",
      "5 73\n",
      "-14 8\n",
      "18 -58\n",
      "-41 -85\n",
      "1 -88\n",
      "-21 -85\n",
      "-11 82\n",
      "11\n"
     ]
    }
   ],
   "source": [
    "n = int(input())\n",
    "lst =[list(map(int,input().split())) for i in range(n)]\n",
    "\n",
    "ans = 0\n",
    "\n",
    "for i in range(n-1):\n",
    "    for j in range(i+1, n):\n",
    "        tmp = (lst[i][1]-lst[j][1]) / (lst[i][0] - lst[j][0])\n",
    "        if tmp <= 1 and tmp >= -1:\n",
    "            ans += 1\n",
    "    \n",
    "print(ans)"
   ]
  },
  {
   "cell_type": "markdown",
   "metadata": {},
   "source": [
    "# C問題"
   ]
  },
  {
   "cell_type": "code",
   "execution_count": 19,
   "metadata": {},
   "outputs": [
    {
     "name": "stdout",
     "output_type": "stream",
     "text": [
      "10\n",
      "red\n",
      "red\n",
      "red\n",
      "!orange\n",
      "yellow\n",
      "!blue\n",
      "cyan\n",
      "!green\n",
      "brown\n",
      "!gray\n",
      "satisfiable\n"
     ]
    }
   ],
   "source": [
    "n = int(input())\n",
    "\n",
    "S_0 = set()\n",
    "S_1 = set()\n",
    "\n",
    "for i in range(n):\n",
    "    s = input()\n",
    "    if s[0] == \"!\":\n",
    "        s = s[1:]\n",
    "        S_1.add(s)\n",
    "    else:\n",
    "        S_0.add(s)\n",
    "\n",
    "S = S_0 & S_1\n",
    "\n",
    "if len(S) == 0:\n",
    "    print(\"satisfiable\")\n",
    "else:\n",
    "    print(S.pop())"
   ]
  },
  {
   "cell_type": "markdown",
   "metadata": {},
   "source": [
    "# D問題"
   ]
  },
  {
   "cell_type": "code",
   "execution_count": 27,
   "metadata": {
    "scrolled": true
   },
   "outputs": [
    {
     "name": "stdout",
     "output_type": "stream",
     "text": [
      "1\n",
      "293 691\n",
      "1\n"
     ]
    }
   ],
   "source": [
    "from itertools import accumulate\n",
    "\n",
    "n = int(input())\n",
    "\n",
    "A_sum = 0\n",
    "S = []\n",
    "\n",
    "for i in range(n):\n",
    "    a, b = map(int,input().split())\n",
    "    A_sum += a\n",
    "    S.append(2*a+b)\n",
    "\n",
    "S.sort(reverse=True)\n",
    "S_sum = list(accumulate(S))\n",
    "\n",
    "ans = 0\n",
    "    \n",
    "for i in range(n):\n",
    "    ans += 1\n",
    "    if S_sum[i] > A_sum:\n",
    "        break\n",
    "        \n",
    "print(ans)"
   ]
  }
 ],
 "metadata": {
  "kernelspec": {
   "display_name": "Python 3",
   "language": "python",
   "name": "python3"
  },
  "language_info": {
   "codemirror_mode": {
    "name": "ipython",
    "version": 3
   },
   "file_extension": ".py",
   "mimetype": "text/x-python",
   "name": "python",
   "nbconvert_exporter": "python",
   "pygments_lexer": "ipython3",
   "version": "3.6.5"
  },
  "toc": {
   "base_numbering": 1,
   "nav_menu": {},
   "number_sections": true,
   "sideBar": true,
   "skip_h1_title": false,
   "title_cell": "Table of Contents",
   "title_sidebar": "Contents",
   "toc_cell": false,
   "toc_position": {},
   "toc_section_display": true,
   "toc_window_display": false
  }
 },
 "nbformat": 4,
 "nbformat_minor": 4
}

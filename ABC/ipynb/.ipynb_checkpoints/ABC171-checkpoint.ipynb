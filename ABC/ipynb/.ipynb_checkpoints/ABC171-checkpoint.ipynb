{
 "cells": [
  {
   "cell_type": "markdown",
   "metadata": {},
   "source": [
    "# A問題"
   ]
  },
  {
   "cell_type": "code",
   "execution_count": 3,
   "metadata": {},
   "outputs": [
    {
     "name": "stdout",
     "output_type": "stream",
     "text": [
      "b\n",
      "a\n"
     ]
    }
   ],
   "source": [
    "a = input()\n",
    "\n",
    "if a.islower():\n",
    "    ans = \"a\"\n",
    "else:\n",
    "    ans = \"A\"\n",
    "\n",
    "print(ans)"
   ]
  },
  {
   "cell_type": "markdown",
   "metadata": {},
   "source": [
    "# B問題"
   ]
  },
  {
   "cell_type": "code",
   "execution_count": 4,
   "metadata": {},
   "outputs": [
    {
     "name": "stdout",
     "output_type": "stream",
     "text": [
      "5 3\n",
      "50 100 80 120 80\n",
      "210\n"
     ]
    }
   ],
   "source": [
    "n,k = map(int,input().split())\n",
    "lst = list(map(int, input().split()))\n",
    "\n",
    "lst = sorted(lst)\n",
    "ans = sum(lst[:k])\n",
    "\n",
    "print(ans)"
   ]
  },
  {
   "cell_type": "markdown",
   "metadata": {},
   "source": [
    "# C問題"
   ]
  },
  {
   "cell_type": "code",
   "execution_count": 6,
   "metadata": {},
   "outputs": [
    {
     "name": "stdout",
     "output_type": "stream",
     "text": [
      "123456789\n",
      "jjddja\n"
     ]
    }
   ],
   "source": [
    "n = int(input())\n",
    "\n",
    "import sys\n",
    "import math\n",
    "\n",
    "ALPHABET = [\"a\",\"b\",\"c\",\"d\",\"e\",\"f\",\"g\",\"h\",\"i\",\"j\",\"k\",\"l\",\"m\",\"n\",\"o\",\"p\",\"q\",\"r\",\"s\",\"t\",\"u\",\"v\",\"w\",\"x\",\"y\",\"z\"]\n",
    "result = []\n",
    "\n",
    "def alphabet_decimal(v):\n",
    "    quotient = math.floor(v / len(ALPHABET))\n",
    "    surplus = v % len(ALPHABET)\n",
    "    quotient -= 1 if surplus == 0 else 0\n",
    "    surplus = len(ALPHABET) if surplus == 0 else surplus\n",
    "    result.append(surplus)\n",
    "    if len(ALPHABET) < quotient:\n",
    "        alphabet_decimal(quotient)\n",
    "    elif len(ALPHABET) < v:\n",
    "        result.append(quotient)\n",
    "    return \"\".join([ALPHABET[i - 1] for i in reversed(result)])\n",
    "\n",
    "print(alphabet_decimal(n))"
   ]
  },
  {
   "cell_type": "markdown",
   "metadata": {},
   "source": [
    "# D問題"
   ]
  },
  {
   "cell_type": "code",
   "execution_count": 8,
   "metadata": {},
   "outputs": [
    {
     "name": "stdout",
     "output_type": "stream",
     "text": [
      "4\n",
      "1 1 1 1\n",
      "3\n",
      "1 2\n",
      "2 1\n",
      "3 5\n",
      "8\n",
      "4\n",
      "4\n"
     ]
    }
   ],
   "source": [
    "from collections import Counter\n",
    "\n",
    "N = int(input())\n",
    "A = list(map(int,input().split()))\n",
    "Q = int(input())\n",
    "lst = [list(map(int,input().split())) for i in range(Q)]\n",
    "\n",
    "A_cnt = Counter(A)\n",
    "Key = A_cnt.keys()\n",
    "sum_A = [0]*(Q+1)\n",
    "sum_A[0] = sum(A)\n",
    "\n",
    "for i in range(Q):\n",
    "    sum_A[i+1] = sum_A[i] + (lst[i][1] - lst[i][0]) * A_cnt[lst[i][0]]\n",
    "    A_cnt[lst[i][1]] += A_cnt[lst[i][0]]\n",
    "    A_cnt[lst[i][0]] = 0\n",
    "    print(sum_A[i+1])"
   ]
  }
 ],
 "metadata": {
  "kernelspec": {
   "display_name": "Python 3",
   "language": "python",
   "name": "python3"
  },
  "language_info": {
   "codemirror_mode": {
    "name": "ipython",
    "version": 3
   },
   "file_extension": ".py",
   "mimetype": "text/x-python",
   "name": "python",
   "nbconvert_exporter": "python",
   "pygments_lexer": "ipython3",
   "version": "3.6.5"
  },
  "toc": {
   "base_numbering": 1,
   "nav_menu": {},
   "number_sections": true,
   "sideBar": true,
   "skip_h1_title": false,
   "title_cell": "Table of Contents",
   "title_sidebar": "Contents",
   "toc_cell": false,
   "toc_position": {},
   "toc_section_display": true,
   "toc_window_display": false
  }
 },
 "nbformat": 4,
 "nbformat_minor": 4
}

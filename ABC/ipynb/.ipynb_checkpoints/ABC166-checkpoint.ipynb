{
 "cells": [
  {
   "cell_type": "markdown",
   "metadata": {},
   "source": [
    "# A問題"
   ]
  },
  {
   "cell_type": "code",
   "execution_count": 1,
   "metadata": {},
   "outputs": [
    {
     "name": "stdout",
     "output_type": "stream",
     "text": [
      "ABC\n",
      "ARC\n"
     ]
    }
   ],
   "source": [
    "s = input()\n",
    "\n",
    "if s == \"ABC\":\n",
    "    ans = \"ARC\"\n",
    "else:\n",
    "    ans = \"ABC\"\n",
    "\n",
    "print(ans)"
   ]
  },
  {
   "cell_type": "markdown",
   "metadata": {},
   "source": [
    "# B問題"
   ]
  },
  {
   "cell_type": "code",
   "execution_count": 13,
   "metadata": {},
   "outputs": [
    {
     "name": "stdout",
     "output_type": "stream",
     "text": [
      "3 3\n",
      "1\n",
      "3\n",
      "1\n",
      "3\n",
      "1\n",
      "3\n",
      "2\n"
     ]
    }
   ],
   "source": [
    "n,k =map(int,input().split())\n",
    "lst = [0]*k\n",
    "for i in range(k):\n",
    "    d = int(input())\n",
    "    lst[i] = list(map(int,input().split()))\n",
    "\n",
    "S = set(range(1,n+1))\n",
    "for i in range(k):\n",
    "    S = S - set(lst[i])\n",
    "\n",
    "print(len(S))"
   ]
  },
  {
   "cell_type": "markdown",
   "metadata": {},
   "source": [
    "# C問題"
   ]
  },
  {
   "cell_type": "code",
   "execution_count": 1,
   "metadata": {},
   "outputs": [
    {
     "name": "stdin",
     "output_type": "stream",
     "text": [
      " 4 3\n",
      " 1 2 3 4\n",
      " 1 3\n",
      " 2 3\n",
      " 2 4\n"
     ]
    },
    {
     "name": "stdout",
     "output_type": "stream",
     "text": [
      "2\n"
     ]
    }
   ],
   "source": [
    "N, M = map(int,input().split())\n",
    "ok = [1] * N\n",
    "H = list(map(int,input().split()))\n",
    "for m in range(M):\n",
    "    a, b = map(int,input().split())\n",
    "    a-=1\n",
    "    b-=1\n",
    "    if H[a] < H[b]:\n",
    "        ok[a] = 0\n",
    "    elif H[a] > H[b]:\n",
    "        ok[b] = 0\n",
    "    else:\n",
    "        ok[a] = ok[b] = 0\n",
    "print (sum(ok))"
   ]
  }
 ],
 "metadata": {
  "kernelspec": {
   "display_name": "Python 3",
   "language": "python",
   "name": "python3"
  },
  "language_info": {
   "codemirror_mode": {
    "name": "ipython",
    "version": 3
   },
   "file_extension": ".py",
   "mimetype": "text/x-python",
   "name": "python",
   "nbconvert_exporter": "python",
   "pygments_lexer": "ipython3",
   "version": "3.6.5"
  },
  "toc": {
   "base_numbering": 1,
   "nav_menu": {},
   "number_sections": true,
   "sideBar": true,
   "skip_h1_title": false,
   "title_cell": "Table of Contents",
   "title_sidebar": "Contents",
   "toc_cell": false,
   "toc_position": {},
   "toc_section_display": true,
   "toc_window_display": false
  }
 },
 "nbformat": 4,
 "nbformat_minor": 4
}

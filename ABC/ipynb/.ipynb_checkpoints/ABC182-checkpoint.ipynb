{
 "cells": [
  {
   "cell_type": "markdown",
   "metadata": {},
   "source": [
    "# A問題"
   ]
  },
  {
   "cell_type": "code",
   "execution_count": 3,
   "metadata": {},
   "outputs": [
    {
     "name": "stdout",
     "output_type": "stream",
     "text": [
      "10000 0\n",
      "20100\n"
     ]
    }
   ],
   "source": [
    "a,b = map(int,input().split())\n",
    "\n",
    "ans = (2 * a + 100) - b\n",
    "\n",
    "print(ans)"
   ]
  },
  {
   "cell_type": "markdown",
   "metadata": {},
   "source": [
    "# B問題"
   ]
  },
  {
   "cell_type": "code",
   "execution_count": 14,
   "metadata": {},
   "outputs": [
    {
     "name": "stdout",
     "output_type": "stream",
     "text": [
      "5\n",
      "8 9 18 90 72\n",
      "9\n"
     ]
    }
   ],
   "source": [
    "n = int(input())\n",
    "lst = list(map(int,input().split()))\n",
    "\n",
    "gcd_max = 0\n",
    "\n",
    "for i in range(2,max(lst)+1):\n",
    "    tmp = list(map(lambda x: x % i, lst))\n",
    "    if tmp.count(0) >= gcd_max:\n",
    "        gcd_max = tmp.count(0)\n",
    "        gcd_max_i = i\n",
    "\n",
    "print(gcd_max_i)"
   ]
  },
  {
   "cell_type": "markdown",
   "metadata": {},
   "source": [
    "# C問題"
   ]
  },
  {
   "cell_type": "code",
   "execution_count": 20,
   "metadata": {
    "scrolled": true
   },
   "outputs": [
    {
     "name": "stdout",
     "output_type": "stream",
     "text": [
      "11\n",
      "-1\n"
     ]
    }
   ],
   "source": [
    "s = list(map(int, input()))\n",
    "\n",
    "tmp = list(map(lambda x: x % 3, s))\n",
    "ans = 0\n",
    "\n",
    "if sum(s) % 3 == 0:\n",
    "    ans = 0\n",
    "\n",
    "elif sum(s) % 3 == 1:\n",
    "    if tmp.count(1) >= 1 and tmp.count(1) < len(s):\n",
    "        ans = 1\n",
    "    else:\n",
    "        if tmp.count(2) >= 2 and tmp.count(2) < len(s):\n",
    "            ans = 2\n",
    "        else:\n",
    "            ans = -1\n",
    "else:\n",
    "    if tmp.count(2) >= 1 and tmp.count(2) < len(s):\n",
    "        ans = 1\n",
    "    else:\n",
    "        if tmp.count(1) >= 2 and tmp.count(1) < len(s):\n",
    "            ans = 2\n",
    "        else:\n",
    "            ans = -1   \n",
    "            \n",
    "print(ans)"
   ]
  },
  {
   "cell_type": "markdown",
   "metadata": {},
   "source": [
    "# D問題"
   ]
  },
  {
   "cell_type": "code",
   "execution_count": 17,
   "metadata": {},
   "outputs": [
    {
     "name": "stdin",
     "output_type": "stream",
     "text": [
      " 3\n",
      " 2 -1 -2\n"
     ]
    },
    {
     "name": "stdout",
     "output_type": "stream",
     "text": [
      "5\n"
     ]
    }
   ],
   "source": [
    "from itertools import accumulate\n",
    "\n",
    "n = int(input())\n",
    "lst = list(map(int,input().split()))\n",
    "\n",
    "S = list(accumulate(lst))\n",
    "S_sum = [0] + list(accumulate(S))\n",
    "S_sum_max = list(accumulate(S, func=max))\n",
    "\n",
    "ans = 0\n",
    "\n",
    "for i in range(n):    \n",
    "    ans = max(ans, S_sum[i] + S_sum_max[i])\n",
    "\n",
    "print(ans)"
   ]
  }
 ],
 "metadata": {
  "kernelspec": {
   "display_name": "Python 3",
   "language": "python",
   "name": "python3"
  },
  "language_info": {
   "codemirror_mode": {
    "name": "ipython",
    "version": 3
   },
   "file_extension": ".py",
   "mimetype": "text/x-python",
   "name": "python",
   "nbconvert_exporter": "python",
   "pygments_lexer": "ipython3",
   "version": "3.6.5"
  },
  "toc": {
   "base_numbering": 1,
   "nav_menu": {},
   "number_sections": true,
   "sideBar": true,
   "skip_h1_title": false,
   "title_cell": "Table of Contents",
   "title_sidebar": "Contents",
   "toc_cell": false,
   "toc_position": {},
   "toc_section_display": true,
   "toc_window_display": false
  }
 },
 "nbformat": 4,
 "nbformat_minor": 4
}

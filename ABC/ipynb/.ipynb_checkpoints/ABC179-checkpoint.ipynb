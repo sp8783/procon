{
 "cells": [
  {
   "cell_type": "markdown",
   "metadata": {},
   "source": [
    "# A問題"
   ]
  },
  {
   "cell_type": "code",
   "execution_count": 4,
   "metadata": {},
   "outputs": [
    {
     "name": "stdout",
     "output_type": "stream",
     "text": [
      "bus\n",
      "buses\n"
     ]
    }
   ],
   "source": [
    "s = input()\n",
    "\n",
    "if s[-1] == \"s\":\n",
    "    ans = s + \"es\"\n",
    "else:\n",
    "    ans = s + \"s\"\n",
    "    \n",
    "print(ans)"
   ]
  },
  {
   "cell_type": "markdown",
   "metadata": {},
   "source": [
    "# B問題"
   ]
  },
  {
   "cell_type": "code",
   "execution_count": 7,
   "metadata": {},
   "outputs": [
    {
     "name": "stdout",
     "output_type": "stream",
     "text": [
      "5\n",
      "1 1\n",
      "2 2\n",
      "3 4\n",
      "5 5\n",
      "6 6\n",
      "No\n"
     ]
    }
   ],
   "source": [
    "n = int(input())\n",
    "lst = [list(map(int,input().split())) for i in range(n)]\n",
    "\n",
    "count = 0\n",
    "flag = False\n",
    "\n",
    "for i in range(n):\n",
    "    if lst[i][0] == lst[i][1]:\n",
    "        count += 1\n",
    "        if count == 3:\n",
    "            flag = True\n",
    "            break\n",
    "    else:\n",
    "        count = 0\n",
    "\n",
    "if flag:\n",
    "    ans = \"Yes\"\n",
    "else:\n",
    "    ans = \"No\"\n",
    "\n",
    "print(ans)"
   ]
  },
  {
   "cell_type": "markdown",
   "metadata": {},
   "source": [
    "# C問題"
   ]
  },
  {
   "cell_type": "code",
   "execution_count": 22,
   "metadata": {
    "scrolled": true
   },
   "outputs": [
    {
     "name": "stdout",
     "output_type": "stream",
     "text": [
      "1000000\n",
      "13969985\n"
     ]
    }
   ],
   "source": [
    "n = int(input())\n",
    "\n",
    "ans = 0\n",
    "\n",
    "for a in range(1,n):\n",
    "    ans += (n-1)//a\n",
    "    \n",
    "print(ans)"
   ]
  },
  {
   "cell_type": "markdown",
   "metadata": {},
   "source": [
    "# D問題"
   ]
  },
  {
   "cell_type": "code",
   "execution_count": 17,
   "metadata": {},
   "outputs": [
    {
     "name": "stdout",
     "output_type": "stream",
     "text": [
      "60 3\n",
      "5 8\n",
      "1 3\n",
      "10 15\n",
      "221823067\n"
     ]
    }
   ],
   "source": [
    "n,k = map(int,input().split())\n",
    "lst = [list(map(int,input().split())) for i in range(k)]\n",
    "\n",
    "mod = 998244353\n",
    "dp = [0]*(2*(10**5)+10)\n",
    "sdp = [0]*(2*(10**5)+10)\n",
    "dp[0] = 1\n",
    "sdp[0] = 1\n",
    "\n",
    "for i in range(1,n):\n",
    "    for l, r in lst:\n",
    "        if i - l >= 0:\n",
    "            dp[i] += sdp[i - l]\n",
    "        if i - r -1 >= 0:\n",
    "            dp[i] -= sdp[i - r - 1]\n",
    "        dp[i] %= mod\n",
    "    sdp[i] = sdp[i-1] + dp[i]\n",
    "\n",
    "ans = dp[n-1]\n",
    "print(ans)"
   ]
  }
 ],
 "metadata": {
  "kernelspec": {
   "display_name": "Python 3",
   "language": "python",
   "name": "python3"
  },
  "language_info": {
   "codemirror_mode": {
    "name": "ipython",
    "version": 3
   },
   "file_extension": ".py",
   "mimetype": "text/x-python",
   "name": "python",
   "nbconvert_exporter": "python",
   "pygments_lexer": "ipython3",
   "version": "3.6.5"
  },
  "toc": {
   "base_numbering": 1,
   "nav_menu": {},
   "number_sections": true,
   "sideBar": true,
   "skip_h1_title": false,
   "title_cell": "Table of Contents",
   "title_sidebar": "Contents",
   "toc_cell": false,
   "toc_position": {},
   "toc_section_display": true,
   "toc_window_display": false
  }
 },
 "nbformat": 4,
 "nbformat_minor": 4
}

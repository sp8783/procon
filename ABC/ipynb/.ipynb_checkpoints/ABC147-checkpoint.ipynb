{
 "cells": [
  {
   "cell_type": "markdown",
   "metadata": {},
   "source": [
    "# A問題"
   ]
  },
  {
   "cell_type": "code",
   "execution_count": null,
   "metadata": {},
   "outputs": [],
   "source": [
    "A = map(int,input().split())\n",
    "\n",
    "if sum(A) >= 22:\n",
    "    print(\"bust\")\n",
    "else:\n",
    "    print(\"win\")"
   ]
  },
  {
   "cell_type": "markdown",
   "metadata": {},
   "source": [
    "# B問題"
   ]
  },
  {
   "cell_type": "code",
   "execution_count": 9,
   "metadata": {},
   "outputs": [
    {
     "name": "stdin",
     "output_type": "stream",
     "text": [
      " abcdabc\n"
     ]
    },
    {
     "name": "stdout",
     "output_type": "stream",
     "text": [
      "2\n"
     ]
    }
   ],
   "source": [
    "import math\n",
    "\n",
    "S = list(input())\n",
    "\n",
    "n = len(S)\n",
    "S_1 = S[:n//2]\n",
    "S_2 = S[math.ceil(n/2):][::-1]\n",
    "ans = 0\n",
    "\n",
    "for a, b in zip(S_1, S_2):\n",
    "    if a != b:\n",
    "        ans += 1\n",
    "\n",
    "print(ans)"
   ]
  },
  {
   "cell_type": "markdown",
   "metadata": {},
   "source": [
    "# C問題"
   ]
  },
  {
   "cell_type": "code",
   "execution_count": 5,
   "metadata": {},
   "outputs": [
    {
     "name": "stdin",
     "output_type": "stream",
     "text": [
      " 2\n",
      " 1\n",
      " 2 0\n",
      " 1\n",
      " 1 0\n"
     ]
    },
    {
     "name": "stdout",
     "output_type": "stream",
     "text": [
      "1\n"
     ]
    }
   ],
   "source": [
    "N = int(input())\n",
    "A = [[] for _ in range(N)]\n",
    "for i in range(N):\n",
    "    a = int(input())\n",
    "    for _ in range(a):\n",
    "        x, y = map(int, input().split())\n",
    "        A[i].append([x-1, y])\n",
    "\n",
    "ans = 0\n",
    "\n",
    "for i in range(1, 2**N):\n",
    "    flag = True\n",
    "    for j in range(N):\n",
    "        if ((i >> j) & 1) == 0:\n",
    "            continue\n",
    "        for x, y in A[j]:\n",
    "            if ((i >> x) & 1) != y:\n",
    "                flag = False\n",
    "                break\n",
    "        if not flag:\n",
    "            break\n",
    "    if flag:\n",
    "        ans = max(ans, bin(i)[2:].count(\"1\"))\n",
    "\n",
    "print(ans)"
   ]
  },
  {
   "cell_type": "markdown",
   "metadata": {},
   "source": [
    "# D問題"
   ]
  },
  {
   "cell_type": "code",
   "execution_count": 1,
   "metadata": {},
   "outputs": [
    {
     "name": "stdin",
     "output_type": "stream",
     "text": [
      " 10\n",
      " 3 1 4 1 5 9 2 6 5 3\n"
     ]
    },
    {
     "name": "stdout",
     "output_type": "stream",
     "text": [
      "39\n"
     ]
    }
   ],
   "source": [
    "import numpy as np\n",
    "\n",
    "N = int(input())\n",
    "A = np.array(input().split(), np.int64)\n",
    "MOD = 10**9 + 7\n",
    "ans = 0\n",
    "\n",
    "for n in range(63):\n",
    "    B = (A >> n) & 1\n",
    "    x = np.count_nonzero(B)\n",
    "    y = N - x\n",
    "    x *= y\n",
    "    for _ in range(n):\n",
    "        x *= 2\n",
    "        x % MOD\n",
    "    ans += x\n",
    "ans %= MOD\n",
    "print(ans)"
   ]
  }
 ],
 "metadata": {
  "kernelspec": {
   "display_name": "Python 3",
   "language": "python",
   "name": "python3"
  },
  "language_info": {
   "codemirror_mode": {
    "name": "ipython",
    "version": 3
   },
   "file_extension": ".py",
   "mimetype": "text/x-python",
   "name": "python",
   "nbconvert_exporter": "python",
   "pygments_lexer": "ipython3",
   "version": "3.6.5"
  }
 },
 "nbformat": 4,
 "nbformat_minor": 4
}

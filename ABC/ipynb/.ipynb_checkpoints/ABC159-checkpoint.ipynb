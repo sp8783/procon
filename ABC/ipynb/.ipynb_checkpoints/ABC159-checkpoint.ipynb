{
 "cells": [
  {
   "cell_type": "markdown",
   "metadata": {},
   "source": [
    "# A問題"
   ]
  },
  {
   "cell_type": "code",
   "execution_count": 5,
   "metadata": {},
   "outputs": [
    {
     "name": "stdout",
     "output_type": "stream",
     "text": [
      "13 3\n",
      "81\n"
     ]
    }
   ],
   "source": [
    "import math\n",
    "\n",
    "def combinations_count(n, r):\n",
    "    return math.factorial(n) // (math.factorial(n - r) * math.factorial(r))\n",
    "\n",
    "\n",
    "n,m = map(int,input().split())\n",
    "\n",
    "ans = 0\n",
    "\n",
    "if n >= 2:\n",
    "    ans += combinations_count(n,2)\n",
    "if m >= 2:\n",
    "    ans += combinations_count(m,2)\n",
    "\n",
    "print(ans)"
   ]
  },
  {
   "cell_type": "markdown",
   "metadata": {},
   "source": [
    "# B問題"
   ]
  },
  {
   "cell_type": "code",
   "execution_count": 34,
   "metadata": {},
   "outputs": [
    {
     "name": "stdout",
     "output_type": "stream",
     "text": [
      "akkakakka\n",
      "Yes\n"
     ]
    }
   ],
   "source": [
    "s = input()\n",
    "n = len(s)\n",
    "\n",
    "def is_kaibun(s):\n",
    "    n = len(s)\n",
    "    if n%2 == 1:\n",
    "        if s[:(n-1)//2] == s[(n+3)//2-1:][::-1]:\n",
    "            return True\n",
    "        else:\n",
    "            return False\n",
    "    if n%2 == 0:\n",
    "        if s[:n//2] == s[n//2:][::-1]:\n",
    "            return True\n",
    "        else:\n",
    "            return False\n",
    "    \n",
    "s1 = s[:(n-1)//2]\n",
    "s2 = s[(n+3)//2-1:]\n",
    "\n",
    "if is_kaibun(s) and is_kaibun(s1) and is_kaibun(s2):\n",
    "    ans = \"Yes\"\n",
    "else:\n",
    "    ans = \"No\"\n",
    "    \n",
    "print(ans)"
   ]
  },
  {
   "cell_type": "markdown",
   "metadata": {},
   "source": [
    "# C問題"
   ]
  },
  {
   "cell_type": "code",
   "execution_count": 35,
   "metadata": {},
   "outputs": [
    {
     "name": "stdout",
     "output_type": "stream",
     "text": [
      "999\n",
      "36926037.0\n"
     ]
    }
   ],
   "source": [
    "l = int(input())\n",
    "\n",
    "print((l/3)**3)"
   ]
  }
 ],
 "metadata": {
  "kernelspec": {
   "display_name": "Python 3",
   "language": "python",
   "name": "python3"
  },
  "language_info": {
   "codemirror_mode": {
    "name": "ipython",
    "version": 3
   },
   "file_extension": ".py",
   "mimetype": "text/x-python",
   "name": "python",
   "nbconvert_exporter": "python",
   "pygments_lexer": "ipython3",
   "version": "3.6.5"
  },
  "toc": {
   "base_numbering": 1,
   "nav_menu": {},
   "number_sections": true,
   "sideBar": true,
   "skip_h1_title": false,
   "title_cell": "Table of Contents",
   "title_sidebar": "Contents",
   "toc_cell": false,
   "toc_position": {},
   "toc_section_display": true,
   "toc_window_display": false
  }
 },
 "nbformat": 4,
 "nbformat_minor": 4
}

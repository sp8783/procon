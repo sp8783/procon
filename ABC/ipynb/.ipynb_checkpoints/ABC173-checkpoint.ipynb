{
 "cells": [
  {
   "cell_type": "markdown",
   "metadata": {},
   "source": [
    "# A問題"
   ]
  },
  {
   "cell_type": "code",
   "execution_count": 4,
   "metadata": {},
   "outputs": [
    {
     "name": "stdout",
     "output_type": "stream",
     "text": [
      "2000\n"
     ]
    }
   ],
   "source": [
    "n = int(input())\n",
    "\n",
    "tmp = n%1000\n",
    "if tmp == 0:\n",
    "    ans = 0\n",
    "else:\n",
    "    ans = 1000 - tmp\n",
    "print(ans)"
   ]
  },
  {
   "cell_type": "markdown",
   "metadata": {},
   "source": [
    "# B問題"
   ]
  },
  {
   "cell_type": "code",
   "execution_count": 7,
   "metadata": {},
   "outputs": [
    {
     "name": "stdout",
     "output_type": "stream",
     "text": [
      "6\n",
      "AC\n",
      "TLE\n",
      "AC\n",
      "AC\n",
      "WA\n",
      "TLE\n",
      "AC x 3\n",
      "WA x 1\n",
      "TLE x 2\n",
      "RE x 0\n"
     ]
    }
   ],
   "source": [
    "n=int(input())\n",
    "lst=[input() for i in range(n)]\n",
    "\n",
    "print(\"AC x \"+str(lst.count('AC')))\n",
    "print(\"WA x \"+str(lst.count('WA')))\n",
    "print(\"TLE x \"+str(lst.count('TLE')))\n",
    "print(\"RE x \"+str(lst.count('RE')))"
   ]
  },
  {
   "cell_type": "markdown",
   "metadata": {},
   "source": [
    "# C問題"
   ]
  },
  {
   "cell_type": "code",
   "execution_count": 21,
   "metadata": {},
   "outputs": [
    {
     "name": "stdout",
     "output_type": "stream",
     "text": [
      "2 3 2\n",
      "..#\n",
      "###\n",
      "5\n"
     ]
    }
   ],
   "source": [
    "h, w, k = map(int,input().split())\n",
    "lst =[list(input()) for i in range(h)]\n",
    "    \n",
    "ans = 0\n",
    "for i in range(2**h):\n",
    "    for j in range(2**w):\n",
    "        sum_count = 0\n",
    "        for x in range(h):\n",
    "            for y in range(w):\n",
    "                if ((i >> x) & 1) and ((j >> y) & 1) and lst[x][y] == \"#\":\n",
    "                    sum_count += 1\n",
    "        if k == sum_count:\n",
    "            ans += 1\n",
    "\n",
    "print(ans)\n",
    "    "
   ]
  }
 ],
 "metadata": {
  "kernelspec": {
   "display_name": "Python 3",
   "language": "python",
   "name": "python3"
  },
  "language_info": {
   "codemirror_mode": {
    "name": "ipython",
    "version": 3
   },
   "file_extension": ".py",
   "mimetype": "text/x-python",
   "name": "python",
   "nbconvert_exporter": "python",
   "pygments_lexer": "ipython3",
   "version": "3.6.5"
  },
  "toc": {
   "base_numbering": 1,
   "nav_menu": {},
   "number_sections": true,
   "sideBar": true,
   "skip_h1_title": false,
   "title_cell": "Table of Contents",
   "title_sidebar": "Contents",
   "toc_cell": false,
   "toc_position": {},
   "toc_section_display": true,
   "toc_window_display": false
  }
 },
 "nbformat": 4,
 "nbformat_minor": 4
}

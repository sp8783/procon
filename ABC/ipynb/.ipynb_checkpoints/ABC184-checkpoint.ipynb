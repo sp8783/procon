{
 "cells": [
  {
   "cell_type": "markdown",
   "metadata": {},
   "source": [
    "# A問題"
   ]
  },
  {
   "cell_type": "code",
   "execution_count": 1,
   "metadata": {},
   "outputs": [
    {
     "name": "stdout",
     "output_type": "stream",
     "text": [
      "1 2\n",
      "3 4\n",
      "-2\n"
     ]
    }
   ],
   "source": [
    "a, b = map(int,input().split())\n",
    "c, d = map(int,input().split())\n",
    "\n",
    "print(a*d-b*c)"
   ]
  },
  {
   "cell_type": "markdown",
   "metadata": {},
   "source": [
    "# B問題"
   ]
  },
  {
   "cell_type": "code",
   "execution_count": 4,
   "metadata": {},
   "outputs": [
    {
     "name": "stdout",
     "output_type": "stream",
     "text": [
      "20 10\n",
      "xxxxxxxxxxxxxxxxxxxx\n",
      "0\n"
     ]
    }
   ],
   "source": [
    "n, x = map(int,input().split())\n",
    "lst = list(map(str, input()))\n",
    "\n",
    "pt = x\n",
    "\n",
    "for i in range(n):\n",
    "    if lst[i] == \"o\":\n",
    "        pt += 1\n",
    "    else:\n",
    "        pt = max(pt-1, 0)\n",
    "\n",
    "print(pt)"
   ]
  },
  {
   "cell_type": "markdown",
   "metadata": {},
   "source": [
    "# C問題"
   ]
  },
  {
   "cell_type": "code",
   "execution_count": 9,
   "metadata": {},
   "outputs": [
    {
     "name": "stdout",
     "output_type": "stream",
     "text": [
      "242790881 9676858\n",
      "242790886 9676856\n",
      "2\n"
     ]
    }
   ],
   "source": [
    "r1,c1 = map(int,input().split())\n",
    "r2,c2 = map(int,input().split())\n",
    "\n",
    "# 0手\n",
    "if r1==r2 and c1==c2:\n",
    "    ans = 0\n",
    "\n",
    "# 1手\n",
    "elif r1+c1==r2+c2 or r1-c1==r2-c2 or abs(r1-r2)+abs(c1-c2) <= 3:\n",
    "    ans = 1\n",
    "\n",
    "# 2手\n",
    "elif (r1+c1+r2+c2)%2 == 0 or abs(r1-c1-r2+c2) <= 3 or abs(r1+c1-r2-c2) <= 3 or abs(r1-r2)+abs(c1-c2) <= 6:\n",
    "    ans = 2\n",
    "\n",
    "# 3手\n",
    "else:\n",
    "    ans = 3\n",
    "\n",
    "print(ans)"
   ]
  },
  {
   "cell_type": "markdown",
   "metadata": {},
   "source": [
    "# D問題"
   ]
  },
  {
   "cell_type": "code",
   "execution_count": 28,
   "metadata": {},
   "outputs": [
    {
     "name": "stdout",
     "output_type": "stream",
     "text": [
      "31 41 59\n",
      "91.83500820215886\n"
     ]
    }
   ],
   "source": [
    "import sys\n",
    "sys.setrecursionlimit(10 ** 6)  # 再帰数上限の引き上げ\n",
    "\n",
    "def dfs(x, y, z):\n",
    "    if dp[x][y][z] >= 0:\n",
    "        ret = dp[x][y][z]\n",
    "    else:\n",
    "        ret = 0\n",
    "        S = x + y + z\n",
    "        ret += x/S * (dfs(x+1,y,z) + 1)\n",
    "        ret += y/S * (dfs(x,y+1,z) + 1)\n",
    "        ret += z/S * (dfs(x,y,z+1) + 1)\n",
    "        dp[x][y][z] = ret\n",
    "    return ret\n",
    "\n",
    "X, Y, Z = map(int,input().split())\n",
    "M = 100\n",
    "dp = [[[-1]*(M+1) for i in range(M+1)] for i in range(M+1)]\n",
    "\n",
    "for i in range(X, M+1):\n",
    "    for j in range(Y, M+1):\n",
    "        for k in range(Z, M+1):\n",
    "            if i == M or j == M or k == M:\n",
    "                dp[i][j][k] = 0\n",
    "\n",
    "print(dfs(X,Y,Z))"
   ]
  }
 ],
 "metadata": {
  "kernelspec": {
   "display_name": "Python 3",
   "language": "python",
   "name": "python3"
  },
  "language_info": {
   "codemirror_mode": {
    "name": "ipython",
    "version": 3
   },
   "file_extension": ".py",
   "mimetype": "text/x-python",
   "name": "python",
   "nbconvert_exporter": "python",
   "pygments_lexer": "ipython3",
   "version": "3.6.5"
  },
  "toc": {
   "base_numbering": 1,
   "nav_menu": {},
   "number_sections": true,
   "sideBar": true,
   "skip_h1_title": false,
   "title_cell": "Table of Contents",
   "title_sidebar": "Contents",
   "toc_cell": false,
   "toc_position": {},
   "toc_section_display": true,
   "toc_window_display": false
  }
 },
 "nbformat": 4,
 "nbformat_minor": 4
}

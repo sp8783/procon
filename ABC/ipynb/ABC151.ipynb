{
 "cells": [
  {
   "cell_type": "markdown",
   "metadata": {},
   "source": [
    "# librarylist"
   ]
  },
  {
   "cell_type": "code",
   "execution_count": null,
   "metadata": {},
   "outputs": [],
   "source": []
  },
  {
   "cell_type": "markdown",
   "metadata": {},
   "source": [
    "# A問題"
   ]
  },
  {
   "cell_type": "code",
   "execution_count": 3,
   "metadata": {},
   "outputs": [
    {
     "name": "stdout",
     "output_type": "stream",
     "text": [
      "z\n",
      "{\n"
     ]
    }
   ],
   "source": [
    "c = input()\n",
    "print(chr(ord(c)+1))"
   ]
  },
  {
   "cell_type": "markdown",
   "metadata": {},
   "source": [
    "# B問題"
   ]
  },
  {
   "cell_type": "code",
   "execution_count": 6,
   "metadata": {},
   "outputs": [
    {
     "name": "stdout",
     "output_type": "stream",
     "text": [
      "4 100 60\n",
      "0 0 0\n",
      "-1\n"
     ]
    }
   ],
   "source": [
    "n,k,m = map(int,input().split())\n",
    "lst = list(map(int,input().split()))\n",
    "ans = 0\n",
    "tmp = n*m-sum(lst)\n",
    "if tmp>k:\n",
    "    ans = -1\n",
    "else:\n",
    "    ans = max(0,tmp)\n",
    "print(ans)"
   ]
  },
  {
   "cell_type": "markdown",
   "metadata": {},
   "source": [
    "# C問題"
   ]
  },
  {
   "cell_type": "code",
   "execution_count": 36,
   "metadata": {},
   "outputs": [
    {
     "name": "stdout",
     "output_type": "stream",
     "text": [
      "3 10\n",
      "1 AC\n",
      "1 AC\n",
      "1 WA\n",
      "2 AC\n",
      "2 AC\n",
      "2 WA\n",
      "2 WA\n",
      "3 AC\n",
      "3 AC\n",
      "3 WA\n",
      "1 0\n"
     ]
    }
   ],
   "source": [
    "n,m = map(int,input().split())\n",
    "lst =[list(map(str,input().split())) for i in range(m)]\n",
    " \n",
    "ans = [0,0]\n",
    "flag = False\n",
    "for i in range(m):\n",
    "    if flag and i >= 1:\n",
    "        if lst[i][0] == lst[i-1][0]:\n",
    "            break\n",
    "        else:\n",
    "            flag = False\n",
    "    if lst[i][1] == \"AC\":\n",
    "        ans[0] += 1\n",
    "        flag = True\n",
    "    else:\n",
    "        ans[1] += 1\n",
    "        \n",
    "print(str(ans[0])+\" \"+str(ans[1]))"
   ]
  },
  {
   "cell_type": "code",
   "execution_count": null,
   "metadata": {},
   "outputs": [],
   "source": []
  }
 ],
 "metadata": {
  "kernelspec": {
   "display_name": "Python 3",
   "language": "python",
   "name": "python3"
  },
  "language_info": {
   "codemirror_mode": {
    "name": "ipython",
    "version": 3
   },
   "file_extension": ".py",
   "mimetype": "text/x-python",
   "name": "python",
   "nbconvert_exporter": "python",
   "pygments_lexer": "ipython3",
   "version": "3.6.5"
  }
 },
 "nbformat": 4,
 "nbformat_minor": 1
}

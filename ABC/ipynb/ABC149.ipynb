{
 "cells": [
  {
   "cell_type": "markdown",
   "metadata": {},
   "source": [
    "# A問題"
   ]
  },
  {
   "cell_type": "code",
   "execution_count": 3,
   "metadata": {},
   "outputs": [
    {
     "name": "stdout",
     "output_type": "stream",
     "text": [
      "oder atc\n",
      "atcoder\n"
     ]
    }
   ],
   "source": [
    "x,y = map(str,input().split())\n",
    "print(y+x)"
   ]
  },
  {
   "cell_type": "markdown",
   "metadata": {},
   "source": [
    "# B問題"
   ]
  },
  {
   "cell_type": "code",
   "execution_count": 6,
   "metadata": {},
   "outputs": [
    {
     "name": "stdout",
     "output_type": "stream",
     "text": [
      "0 1\n"
     ]
    }
   ],
   "source": [
    "lst = list(map(int,input().split()))\n",
    "\n",
    "a = lst[0]-lst[2]\n",
    "ans1 = max(a, 0)\n",
    "b = lst[1] + min(0, a)\n",
    "ans2 = max(b, 0)\n",
    "\n",
    "print(str(ans1) + \" \" + str(ans2))"
   ]
  },
  {
   "cell_type": "markdown",
   "metadata": {},
   "source": [
    "# C問題"
   ]
  },
  {
   "cell_type": "code",
   "execution_count": 17,
   "metadata": {},
   "outputs": [
    {
     "name": "stdout",
     "output_type": "stream",
     "text": [
      "100\n",
      "101\n"
     ]
    }
   ],
   "source": [
    "def is_prime(x):\n",
    "    n = math.floor(math.sqrt(x))\n",
    "    for i in range(2,n+1):\n",
    "        if x % i == 0:\n",
    "            return False\n",
    "    return True    \n",
    "\n",
    "a = int(input())\n",
    "\n",
    "while not(is_prime(a)):\n",
    "    a += 1    \n",
    "print(a)"
   ]
  },
  {
   "cell_type": "markdown",
   "metadata": {},
   "source": [
    "# D問題"
   ]
  },
  {
   "cell_type": "code",
   "execution_count": 9,
   "metadata": {},
   "outputs": [
    {
     "name": "stdin",
     "output_type": "stream",
     "text": [
      " 7 1\n",
      " 100 10 1\n",
      " ssssppr\n"
     ]
    },
    {
     "name": "stdout",
     "output_type": "stream",
     "text": [
      "211\n"
     ]
    }
   ],
   "source": [
    "N, K = map(int, input().split())\n",
    "R, S, P = map(int, input().split())\n",
    "T = input()\n",
    "    \n",
    "def solve(A):\n",
    "    r, s, p = [0,0,0]\n",
    "    for i in A:\n",
    "        if i == \"r\":\n",
    "            r, s, p = max(s, p), max(p, r), max(r, s) + P\n",
    "        elif i == \"s\":\n",
    "            r, s, p = max(s, p) + R, max(p, r), max(r, s)\n",
    "        elif i == \"p\":\n",
    "            r, s, p = max(s, p), max(p, r) + S, max(r, s)\n",
    "    return max(r,s,p)\n",
    "\n",
    "total = [0]*K\n",
    "\n",
    "for i in range(K):\n",
    "    total[i] = solve(T[i::K])\n",
    "\n",
    "ans = sum(total)\n",
    "print(ans)"
   ]
  }
 ],
 "metadata": {
  "kernelspec": {
   "display_name": "Python 3",
   "language": "python",
   "name": "python3"
  },
  "language_info": {
   "codemirror_mode": {
    "name": "ipython",
    "version": 3
   },
   "file_extension": ".py",
   "mimetype": "text/x-python",
   "name": "python",
   "nbconvert_exporter": "python",
   "pygments_lexer": "ipython3",
   "version": "3.6.5"
  }
 },
 "nbformat": 4,
 "nbformat_minor": 4
}

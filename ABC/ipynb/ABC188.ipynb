{
 "cells": [
  {
   "cell_type": "markdown",
   "metadata": {},
   "source": [
    "# A問題"
   ]
  },
  {
   "cell_type": "code",
   "execution_count": 6,
   "metadata": {},
   "outputs": [
    {
     "name": "stdout",
     "output_type": "stream",
     "text": [
      "100 999\n",
      "27\n"
     ]
    }
   ],
   "source": [
    "X, Y = map(int,input().split())\n",
    "\n",
    "if max(X,Y)-min(X,Y) <= 2:\n",
    "    ans = \"Yes\"\n",
    "else:\n",
    "    ans = \"No\"\n",
    "    \n",
    "print(ans)"
   ]
  },
  {
   "cell_type": "markdown",
   "metadata": {},
   "source": [
    "# B問題"
   ]
  },
  {
   "cell_type": "code",
   "execution_count": 11,
   "metadata": {},
   "outputs": [
    {
     "name": "stdout",
     "output_type": "stream",
     "text": [
      "10\n",
      "-31 -35\n",
      "8 -36\n",
      "22 64\n",
      "5 73\n",
      "-14 8\n",
      "18 -58\n",
      "-41 -85\n",
      "1 -88\n",
      "-21 -85\n",
      "-11 82\n",
      "11\n"
     ]
    }
   ],
   "source": [
    "N = int(input())\n",
    "A = list(map(int, input().split()))\n",
    "B = list(map(int, input().split()))\n",
    "\n",
    "score = 0\n",
    "\n",
    "for i in range(N):\n",
    "    score += A[i]*B[i]\n",
    "\n",
    "if score == 0:\n",
    "    ans = \"Yes\"\n",
    "else:\n",
    "    ans = \"No\"\n",
    "    \n",
    "print(ans)"
   ]
  },
  {
   "cell_type": "markdown",
   "metadata": {},
   "source": [
    "# C問題"
   ]
  },
  {
   "cell_type": "code",
   "execution_count": 12,
   "metadata": {},
   "outputs": [
    {
     "name": "stdin",
     "output_type": "stream",
     "text": [
      " 2\n",
      " 3 1 5 4\n"
     ]
    },
    {
     "name": "stdout",
     "output_type": "stream",
     "text": [
      "1\n"
     ]
    }
   ],
   "source": [
    "N = int(input())\n",
    "rate = list(map(int, input().split()))\n",
    "\n",
    "num = list(range(1,2**N+1))\n",
    "A_dict = dict(zip(rate, num))\n",
    "\n",
    "half = 2**N//2\n",
    "first = rate[:half]\n",
    "latter = rate[half:]\n",
    "\n",
    "ans = A_dict[min(max(first), max(latter))]\n",
    "\n",
    "print(ans)"
   ]
  },
  {
   "cell_type": "markdown",
   "metadata": {},
   "source": [
    "## D問題"
   ]
  },
  {
   "cell_type": "code",
   "execution_count": 36,
   "metadata": {},
   "outputs": [
    {
     "name": "stdin",
     "output_type": "stream",
     "text": [
      " 2 6\n",
      " 1 2 4\n",
      " 2 2 4\n"
     ]
    },
    {
     "name": "stdout",
     "output_type": "stream",
     "text": [
      "10\n"
     ]
    }
   ],
   "source": [
    "from itertools import accumulate\n",
    "\n",
    "N, C = map(int,input().split())\n",
    "service = [None]*N\n",
    "\n",
    "for i in range(N):\n",
    "    a, b, c = map(int,input().split())\n",
    "    a -= 1\n",
    "    b -= 1\n",
    "    service[i] = (a, b+1, c)\n",
    "    \n",
    "day = set()\n",
    "for a, b, c in service:\n",
    "    day.add(a)\n",
    "    day.add(b)\n",
    "day = sorted(day)\n",
    "D = {}\n",
    "for i, d in enumerate(day):\n",
    "    D[d] = i\n",
    "L = len(day)\n",
    "\n",
    "service.sort()\n",
    "S = [0]*L\n",
    "for a, b, c in service:\n",
    "    S[D[a]] += c\n",
    "    S[D[b]] -= c\n",
    "T = list(accumulate(S))\n",
    "    \n",
    "ans = 0\n",
    "for i in range(L-1):\n",
    "    cost = min(T[i], C)\n",
    "    days = day[i+1] - day[i]\n",
    "    ans += cost * days    \n",
    "print(ans)"
   ]
  }
 ],
 "metadata": {
  "kernelspec": {
   "display_name": "Python 3",
   "language": "python",
   "name": "python3"
  },
  "language_info": {
   "codemirror_mode": {
    "name": "ipython",
    "version": 3
   },
   "file_extension": ".py",
   "mimetype": "text/x-python",
   "name": "python",
   "nbconvert_exporter": "python",
   "pygments_lexer": "ipython3",
   "version": "3.6.5"
  },
  "toc": {
   "base_numbering": 1,
   "nav_menu": {},
   "number_sections": true,
   "sideBar": true,
   "skip_h1_title": false,
   "title_cell": "Table of Contents",
   "title_sidebar": "Contents",
   "toc_cell": false,
   "toc_position": {},
   "toc_section_display": true,
   "toc_window_display": false
  }
 },
 "nbformat": 4,
 "nbformat_minor": 4
}

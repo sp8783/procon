{
 "cells": [
  {
   "cell_type": "markdown",
   "metadata": {},
   "source": [
    "# A問題"
   ]
  },
  {
   "cell_type": "code",
   "execution_count": 2,
   "metadata": {},
   "outputs": [
    {
     "name": "stdin",
     "output_type": "stream",
     "text": [
      " 5 10\n"
     ]
    },
    {
     "name": "stdout",
     "output_type": "stream",
     "text": [
      "-1\n"
     ]
    }
   ],
   "source": [
    "r = int(input())\n",
    "\n",
    "print(r**2)"
   ]
  },
  {
   "cell_type": "markdown",
   "metadata": {},
   "source": [
    "# B問題"
   ]
  },
  {
   "cell_type": "code",
   "execution_count": 3,
   "metadata": {},
   "outputs": [
    {
     "name": "stdin",
     "output_type": "stream",
     "text": [
      " 6\n",
      " asdf\n"
     ]
    },
    {
     "name": "stdout",
     "output_type": "stream",
     "text": [
      "No\n"
     ]
    }
   ],
   "source": [
    "N = int(input())\n",
    "S = input()\n",
    "\n",
    "ans = \"No\"\n",
    "if N%2 == 0 and S[:N//2] == S[N//2:]:\n",
    "    ans = \"Yes\"\n",
    "\n",
    "print(ans)"
   ]
  },
  {
   "cell_type": "markdown",
   "metadata": {},
   "source": [
    "# C問題"
   ]
  },
  {
   "cell_type": "code",
   "execution_count": 9,
   "metadata": {},
   "outputs": [
    {
     "name": "stdin",
     "output_type": "stream",
     "text": [
      " 2\n",
      " -879 981\n",
      " -866 890\n"
     ]
    },
    {
     "name": "stdout",
     "output_type": "stream",
     "text": [
      "91.92388155425118\n"
     ]
    }
   ],
   "source": [
    "import math\n",
    "import itertools\n",
    "\n",
    "N = int(input())\n",
    "lst = [list(map(int, input().split())) for _ in range(N)]\n",
    "\n",
    "route_list = itertools.permutations(list(range(N)))\n",
    "total = []\n",
    "\n",
    "for route in route_list:\n",
    "    dis = 0\n",
    "    for i in range(N-1):\n",
    "        x1, y1 = lst[route[i]]\n",
    "        x2, y2 = lst[route[i+1]]\n",
    "        dis += math.sqrt((x2-x1)**2 + (y2-y1)**2)\n",
    "    total.append(dis)\n",
    "\n",
    "ans = sum(total)/len(total)    \n",
    "print(ans)"
   ]
  },
  {
   "cell_type": "markdown",
   "metadata": {},
   "source": [
    "# D問題"
   ]
  },
  {
   "cell_type": "code",
   "execution_count": 17,
   "metadata": {},
   "outputs": [
    {
     "name": "stdin",
     "output_type": "stream",
     "text": [
      " 999999 999999\n"
     ]
    },
    {
     "name": "stdout",
     "output_type": "stream",
     "text": [
      "151840682\n"
     ]
    }
   ],
   "source": [
    "import math\n",
    "\n",
    "def inv(n, MOD=10**9+7):\n",
    "    return pow(n, MOD-2, MOD)\n",
    "\n",
    "def comb(n, r, MOD=10**9+7, mx=10**6):\n",
    "    fact = [1] * (mx+1)\n",
    "    for i in range(mx):\n",
    "        fact[i+1] = fact[i] * (i+1) % MOD\n",
    "    return (fact[n] * inv(fact[n-r]) * inv(fact[r])) % MOD\n",
    "\n",
    "x, y = map(int, input().split())\n",
    "\n",
    "if (x+y)%3 == 0 and 1/2 <= y/x <= 2:\n",
    "    ans = comb((x+y)//3, x-(x+y)//3)\n",
    "else:\n",
    "    ans = 0\n",
    "\n",
    "print(ans)"
   ]
  }
 ],
 "metadata": {
  "kernelspec": {
   "display_name": "Python 3",
   "language": "python",
   "name": "python3"
  },
  "language_info": {
   "codemirror_mode": {
    "name": "ipython",
    "version": 3
   },
   "file_extension": ".py",
   "mimetype": "text/x-python",
   "name": "python",
   "nbconvert_exporter": "python",
   "pygments_lexer": "ipython3",
   "version": "3.6.5"
  },
  "toc": {
   "base_numbering": 1,
   "nav_menu": {},
   "number_sections": true,
   "sideBar": true,
   "skip_h1_title": false,
   "title_cell": "Table of Contents",
   "title_sidebar": "Contents",
   "toc_cell": false,
   "toc_position": {},
   "toc_section_display": true,
   "toc_window_display": false
  }
 },
 "nbformat": 4,
 "nbformat_minor": 4
}

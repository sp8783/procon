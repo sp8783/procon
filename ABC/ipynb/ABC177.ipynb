{
 "cells": [
  {
   "cell_type": "markdown",
   "metadata": {},
   "source": [
    "# librarylist"
   ]
  },
  {
   "cell_type": "code",
   "execution_count": 8,
   "metadata": {},
   "outputs": [],
   "source": [
    "import numpy as np"
   ]
  },
  {
   "cell_type": "markdown",
   "metadata": {},
   "source": [
    "# A問題"
   ]
  },
  {
   "cell_type": "code",
   "execution_count": 3,
   "metadata": {},
   "outputs": [
    {
     "name": "stdout",
     "output_type": "stream",
     "text": [
      "10000 1 1\n",
      "No\n"
     ]
    }
   ],
   "source": [
    "d, t, s = map(int,input().split())\n",
    "\n",
    "if d <= t*s:\n",
    "    print(\"Yes\")\n",
    "else:\n",
    "    print(\"No\")"
   ]
  },
  {
   "cell_type": "markdown",
   "metadata": {},
   "source": [
    "# B問題"
   ]
  },
  {
   "cell_type": "code",
   "execution_count": 32,
   "metadata": {},
   "outputs": [
    {
     "name": "stdout",
     "output_type": "stream",
     "text": [
      "codeforce\n",
      "atcoder\n",
      "6\n"
     ]
    }
   ],
   "source": [
    "import numpy as np\n",
    "\n",
    "s=np.array(list(input()))\n",
    "t=np.array(list(input()))\n",
    "\n",
    "ans = len(t)\n",
    "\n",
    "for i in range(len(s)-len(t)+1):\n",
    "    tmp = sum(s[i:i+len(t)] == t)\n",
    "    if ans > len(t) - tmp:\n",
    "        ans = len(t) - tmp\n",
    "\n",
    "print(ans)"
   ]
  },
  {
   "cell_type": "markdown",
   "metadata": {},
   "source": [
    "# C問題"
   ]
  },
  {
   "cell_type": "code",
   "execution_count": 3,
   "metadata": {},
   "outputs": [
    {
     "name": "stdout",
     "output_type": "stream",
     "text": [
      "4\n",
      "141421356 17320508 22360679 244949\n",
      "437235829\n"
     ]
    }
   ],
   "source": [
    "n = int(input())\n",
    "lst = list(map(int,input().split()))\n",
    "mod = 10 ** 9 + 7\n",
    "\n",
    "ans = 0\n",
    "S = sum(lst)\n",
    "\n",
    "for i in range(n-1):\n",
    "    S = S - lst[i]\n",
    "    tmp = lst[i] * S\n",
    "    ans = (ans + tmp) % mod\n",
    "\n",
    "print(ans)"
   ]
  },
  {
   "cell_type": "code",
   "execution_count": 1,
   "metadata": {},
   "outputs": [
    {
     "name": "stdout",
     "output_type": "stream",
     "text": [
      "4\n",
      "100000 100000 100000 100000\n",
      "499999583\n"
     ]
    }
   ],
   "source": [
    "###ボツ\n",
    "\n",
    "n = int(input())\n",
    "lst = list(map(int,input().split()))\n",
    "\n",
    "# A_i^2の総和のmod(10^9+7)を計算する\n",
    "tmp = sum(list(map(lambda x: (x**2)%(10**9+7), lst)))\n",
    "\n",
    "# A_iの総和の2乗のmod(10^9+7)を計算する\n",
    "tmp2 = ((sum(lst)%(10**9+7))**2)\n",
    "\n",
    "ans = (tmp2 - tmp)%(10**9+7)//2\n",
    "\n",
    "print(ans)"
   ]
  },
  {
   "cell_type": "markdown",
   "metadata": {},
   "source": [
    "# D問題"
   ]
  },
  {
   "cell_type": "code",
   "execution_count": null,
   "metadata": {},
   "outputs": [],
   "source": []
  }
 ],
 "metadata": {
  "kernelspec": {
   "display_name": "Python 3",
   "language": "python",
   "name": "python3"
  },
  "language_info": {
   "codemirror_mode": {
    "name": "ipython",
    "version": 3
   },
   "file_extension": ".py",
   "mimetype": "text/x-python",
   "name": "python",
   "nbconvert_exporter": "python",
   "pygments_lexer": "ipython3",
   "version": "3.6.5"
  },
  "toc": {
   "base_numbering": 1,
   "nav_menu": {},
   "number_sections": true,
   "sideBar": true,
   "skip_h1_title": false,
   "title_cell": "Table of Contents",
   "title_sidebar": "Contents",
   "toc_cell": false,
   "toc_position": {},
   "toc_section_display": true,
   "toc_window_display": false
  }
 },
 "nbformat": 4,
 "nbformat_minor": 1
}

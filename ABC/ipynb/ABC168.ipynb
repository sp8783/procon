{
 "cells": [
  {
   "cell_type": "markdown",
   "metadata": {},
   "source": [
    "# librarylist"
   ]
  },
  {
   "cell_type": "code",
   "execution_count": null,
   "metadata": {},
   "outputs": [],
   "source": []
  },
  {
   "cell_type": "markdown",
   "metadata": {},
   "source": [
    "# A問題"
   ]
  },
  {
   "cell_type": "code",
   "execution_count": 5,
   "metadata": {},
   "outputs": [
    {
     "name": "stdout",
     "output_type": "stream",
     "text": [
      "183\n",
      "bon\n"
     ]
    }
   ],
   "source": [
    "N = input()\n",
    "\n",
    "ans = \"\"\n",
    "\n",
    "if N[-1] in [\"2\",\"4\",\"5\",\"7\",\"9\"]:\n",
    "    ans = \"hon\"\n",
    "elif N[-1] in [\"3\"]:\n",
    "    ans = \"bon\"\n",
    "else:\n",
    "    ans = \"pon\"\n",
    "\n",
    "print(ans)"
   ]
  },
  {
   "cell_type": "markdown",
   "metadata": {},
   "source": [
    "# B問題"
   ]
  },
  {
   "cell_type": "code",
   "execution_count": 7,
   "metadata": {},
   "outputs": [
    {
     "name": "stdout",
     "output_type": "stream",
     "text": [
      "40\n",
      "ferelibenterhominesidquodvoluntcredunt\n",
      "ferelibenterhominesidquodvoluntcredunt\n"
     ]
    }
   ],
   "source": [
    "k = int(input())\n",
    "s = input()\n",
    "\n",
    "ans = \"\"\n",
    "\n",
    "if len(s) <= k:\n",
    "    ans = s\n",
    "else:\n",
    "    ans = s[:k] + \"...\"\n",
    "\n",
    "print(ans)"
   ]
  },
  {
   "cell_type": "markdown",
   "metadata": {},
   "source": [
    "# C問題"
   ]
  },
  {
   "cell_type": "code",
   "execution_count": 22,
   "metadata": {},
   "outputs": [
    {
     "name": "stdout",
     "output_type": "stream",
     "text": [
      "3 4 10 40\n",
      "4.564257194330056\n"
     ]
    }
   ],
   "source": [
    "import math\n",
    "\n",
    "a,b,h,m =map(int,input().split())\n",
    "\n",
    "def sin(x):\n",
    "    return math.sin(math.radians(x))\n",
    "def cos(x):\n",
    "    return math.cos(math.radians(x))\n",
    "\n",
    "hx = a*cos(90-(30*h+0.5*m))\n",
    "hy = a*sin(90-(30*h+0.5*m))\n",
    "mx = b*cos(90-(6*m))\n",
    "my = b*sin(90-(6*m))\n",
    "\n",
    "ans = math.sqrt((hx-mx)**2 + (hy-my)**2)\n",
    "\n",
    "print(ans)"
   ]
  }
 ],
 "metadata": {
  "kernelspec": {
   "display_name": "Python 3",
   "language": "python",
   "name": "python3"
  },
  "language_info": {
   "codemirror_mode": {
    "name": "ipython",
    "version": 3
   },
   "file_extension": ".py",
   "mimetype": "text/x-python",
   "name": "python",
   "nbconvert_exporter": "python",
   "pygments_lexer": "ipython3",
   "version": "3.6.5"
  },
  "toc": {
   "base_numbering": 1,
   "nav_menu": {},
   "number_sections": true,
   "sideBar": true,
   "skip_h1_title": false,
   "title_cell": "Table of Contents",
   "title_sidebar": "Contents",
   "toc_cell": false,
   "toc_position": {},
   "toc_section_display": true,
   "toc_window_display": false
  }
 },
 "nbformat": 4,
 "nbformat_minor": 1
}

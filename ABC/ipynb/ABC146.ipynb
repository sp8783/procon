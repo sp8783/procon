{
 "cells": [
  {
   "cell_type": "markdown",
   "metadata": {},
   "source": [
    "# librarylist"
   ]
  },
  {
   "cell_type": "code",
   "execution_count": null,
   "metadata": {},
   "outputs": [],
   "source": []
  },
  {
   "cell_type": "markdown",
   "metadata": {},
   "source": [
    "# A問題"
   ]
  },
  {
   "cell_type": "code",
   "execution_count": null,
   "metadata": {},
   "outputs": [],
   "source": [
    "a = input()\n",
    "b = {\n",
    "    \"SUN\":7,\n",
    "    \"MON\":6,\n",
    "    \"TUE\":5,\n",
    "    \"WED\":4,\n",
    "    \"THU\":3,\n",
    "    \"FRI\":2,\n",
    "    \"SAT\":1\n",
    "    }\n",
    "print(b[a]"
   ]
  },
  {
   "cell_type": "markdown",
   "metadata": {},
   "source": [
    "# B問題"
   ]
  },
  {
   "cell_type": "code",
   "execution_count": null,
   "metadata": {},
   "outputs": [],
   "source": [
    "n = int(input())\n",
    "s = input()\n",
    "list = []\n",
    "\n",
    "for i in s:\n",
    "    if ord(i)+n > 90:\n",
    "        list.append(chr(ord(i)+n-26))\n",
    "    else:\n",
    "        list.append(chr(ord(i)+n))\n",
    "        \n",
    "ans = \"\".join(list)\n",
    "print(ans)"
   ]
  },
  {
   "cell_type": "markdown",
   "metadata": {},
   "source": [
    "# C問題"
   ]
  },
  {
   "cell_type": "code",
   "execution_count": null,
   "metadata": {},
   "outputs": [],
   "source": [
    "a,b,x = map(int,input().split())"
   ]
  },
  {
   "cell_type": "code",
   "execution_count": null,
   "metadata": {},
   "outputs": [],
   "source": [
    "n = 10**9\n",
    "flag = True\n",
    "if x > n*a+len(str(x))*b:\n",
    "    ans = n\n",
    "else:\n",
    "    low = 0\n",
    "    high = n\n",
    "    while low <= high:\n",
    "        mid = (low + high) //2\n",
    "        ans = mid\n",
    "        if x == mid*a+len(str(mid))*b:\n",
    "            break\n",
    "        if x > mid*a+len(str(mid))*b:\n",
    "            low = mid\n",
    "        else:\n",
    "            high = mid\n",
    "print(ans)"
   ]
  }
 ],
 "metadata": {
  "kernelspec": {
   "display_name": "Python 3",
   "language": "python",
   "name": "python3"
  },
  "language_info": {
   "codemirror_mode": {
    "name": "ipython",
    "version": 3
   },
   "file_extension": ".py",
   "mimetype": "text/x-python",
   "name": "python",
   "nbconvert_exporter": "python",
   "pygments_lexer": "ipython3",
   "version": "3.6.5"
  }
 },
 "nbformat": 4,
 "nbformat_minor": 1
}

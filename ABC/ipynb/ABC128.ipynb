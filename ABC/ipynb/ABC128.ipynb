{
 "cells": [
  {
   "cell_type": "markdown",
   "metadata": {},
   "source": [
    "# A問題"
   ]
  },
  {
   "cell_type": "code",
   "execution_count": 3,
   "metadata": {},
   "outputs": [
    {
     "name": "stdin",
     "output_type": "stream",
     "text": [
      " 32 21\n"
     ]
    },
    {
     "name": "stdout",
     "output_type": "stream",
     "text": [
      "58\n"
     ]
    }
   ],
   "source": [
    "A, P = map(int,input().split())\n",
    "\n",
    "ans = (A*3+P)//2\n",
    "\n",
    "print(ans)"
   ]
  },
  {
   "cell_type": "markdown",
   "metadata": {},
   "source": [
    "# B問題"
   ]
  },
  {
   "cell_type": "code",
   "execution_count": 8,
   "metadata": {},
   "outputs": [
    {
     "name": "stdin",
     "output_type": "stream",
     "text": [
      " 6\n",
      " khabarovsk 20\n",
      " moscow 10\n",
      " kazan 50\n",
      " kazan 35\n",
      " moscow 60\n",
      " khabarovsk 40\n"
     ]
    },
    {
     "name": "stdout",
     "output_type": "stream",
     "text": [
      "4\n",
      "3\n",
      "1\n",
      "6\n",
      "2\n",
      "5\n"
     ]
    }
   ],
   "source": [
    "N = int(input())\n",
    "lst = []*N\n",
    "\n",
    "for i in range(N):\n",
    "    s, p = map(str, input().split())\n",
    "    p = int(p)\n",
    "    lst.append([i+1, s, p])\n",
    "\n",
    "lst = sorted(lst, key=lambda x: -x[2])\n",
    "lst = sorted(lst, key=lambda x: x[1])\n",
    "\n",
    "for i in range(N):\n",
    "    print(lst[i][0])"
   ]
  },
  {
   "cell_type": "markdown",
   "metadata": {},
   "source": [
    "# C問題"
   ]
  },
  {
   "cell_type": "code",
   "execution_count": 11,
   "metadata": {},
   "outputs": [
    {
     "name": "stdin",
     "output_type": "stream",
     "text": [
      " 2 2\n",
      " 2 1 2\n",
      " 1 2\n",
      " 0 1\n"
     ]
    },
    {
     "name": "stdout",
     "output_type": "stream",
     "text": [
      "1\n"
     ]
    }
   ],
   "source": [
    "N, M = map(int, input().split())\n",
    "S = []\n",
    "for i in range(M):\n",
    "    seq = list(map(int, input().split()))\n",
    "    S.append(seq[1:])    \n",
    "P = list(map(int, input().split()))\n",
    "\n",
    "ans = 0\n",
    "\n",
    "for i in range(2**N):\n",
    "    check = [False]*M\n",
    "    for j, s in enumerate(S):\n",
    "        cnt = 0\n",
    "        for l in s:\n",
    "            if i >> (l-1) & 1:\n",
    "                cnt += 1\n",
    "        \n",
    "        if cnt % 2 == P[j]:\n",
    "            check[j] = True\n",
    "    \n",
    "    if all(check):\n",
    "        ans += 1\n",
    "\n",
    "print(ans)          "
   ]
  }
 ],
 "metadata": {
  "kernelspec": {
   "display_name": "Python 3",
   "language": "python",
   "name": "python3"
  },
  "language_info": {
   "codemirror_mode": {
    "name": "ipython",
    "version": 3
   },
   "file_extension": ".py",
   "mimetype": "text/x-python",
   "name": "python",
   "nbconvert_exporter": "python",
   "pygments_lexer": "ipython3",
   "version": "3.6.5"
  },
  "toc": {
   "base_numbering": 1,
   "nav_menu": {},
   "number_sections": true,
   "sideBar": true,
   "skip_h1_title": false,
   "title_cell": "Table of Contents",
   "title_sidebar": "Contents",
   "toc_cell": false,
   "toc_position": {},
   "toc_section_display": true,
   "toc_window_display": false
  }
 },
 "nbformat": 4,
 "nbformat_minor": 4
}

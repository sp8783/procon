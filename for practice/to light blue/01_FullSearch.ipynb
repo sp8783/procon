{
 "cells": [
  {
   "cell_type": "markdown",
   "metadata": {},
   "source": [
    "# 全探索"
   ]
  },
  {
   "cell_type": "markdown",
   "metadata": {},
   "source": [
    "## 全列挙"
   ]
  },
  {
   "cell_type": "markdown",
   "metadata": {},
   "source": [
    "### 【001】 ITP1_7_B - How Many Ways?\n",
    "https://judge.u-aizu.ac.jp/onlinejudge/description.jsp?id=ITP1_7_B&lang=ja"
   ]
  },
  {
   "cell_type": "code",
   "execution_count": 3,
   "metadata": {},
   "outputs": [
    {
     "name": "stdin",
     "output_type": "stream",
     "text": [
      " 5 9\n"
     ]
    },
    {
     "name": "stdout",
     "output_type": "stream",
     "text": [
      "2\n"
     ]
    },
    {
     "name": "stdin",
     "output_type": "stream",
     "text": [
      " 0 0\n"
     ]
    }
   ],
   "source": [
    "import itertools\n",
    "\n",
    "while True:\n",
    "    n, x = map(int, input().split())\n",
    "    if [n,x] == [0,0]:\n",
    "        break\n",
    "    ans = 0\n",
    "    L = list(range(1,n+1))\n",
    "    for l in itertools.combinations(L,3):\n",
    "        if sum(l) == x:\n",
    "            ans += 1\n",
    "    print(ans)"
   ]
  },
  {
   "cell_type": "markdown",
   "metadata": {},
   "source": [
    "### 【002】 AtCoder Beginner Contest 106 B - 105\n",
    "https://atcoder.jp/contests/abc106/tasks/abc106_b"
   ]
  },
  {
   "cell_type": "code",
   "execution_count": 11,
   "metadata": {},
   "outputs": [
    {
     "name": "stdin",
     "output_type": "stream",
     "text": [
      " 105\n"
     ]
    },
    {
     "name": "stdout",
     "output_type": "stream",
     "text": [
      "1\n"
     ]
    }
   ],
   "source": [
    "n = int(input())\n",
    "\n",
    "def divisor(n): \n",
    "    i = 1\n",
    "    table = []\n",
    "    while i * i <= n:\n",
    "        if n%i == 0:\n",
    "            table.append(i)\n",
    "            table.append(n//i)\n",
    "        i += 1\n",
    "    table = list(set(table))\n",
    "    return table\n",
    "\n",
    "ans = 0\n",
    "for i in range(1,n+1,2):\n",
    "    if len(divisor(i)) == 8:\n",
    "        ans += 1\n",
    "    \n",
    "print(ans)"
   ]
  },
  {
   "cell_type": "markdown",
   "metadata": {},
   "source": [
    "### 【003】AtCoder Beginner Contest 122 B - ATCoder\n",
    "https://atcoder.jp/contests/abc122/tasks/abc122_b"
   ]
  },
  {
   "cell_type": "code",
   "execution_count": 18,
   "metadata": {},
   "outputs": [
    {
     "name": "stdin",
     "output_type": "stream",
     "text": [
      " ATCD\n"
     ]
    },
    {
     "name": "stdout",
     "output_type": "stream",
     "text": [
      "3\n"
     ]
    }
   ],
   "source": [
    "S = list(input())\n",
    "ans = 0\n",
    "tot = 0\n",
    "for s in S:\n",
    "    if s in [\"A\",\"C\",\"G\",\"T\"]:\n",
    "        tot += 1\n",
    "    else:\n",
    "        ans = max(ans, tot)\n",
    "        tot = 0\n",
    "ans = max(ans, tot)\n",
    "print(ans)"
   ]
  },
  {
   "cell_type": "markdown",
   "metadata": {},
   "source": [
    "### 【004】パ研杯2019 C - カラオケ\n",
    "https://atcoder.jp/contests/pakencamp-2019-day3/tasks/pakencamp_2019_day3_c"
   ]
  },
  {
   "cell_type": "code",
   "execution_count": 21,
   "metadata": {},
   "outputs": [
    {
     "name": "stdin",
     "output_type": "stream",
     "text": [
      " 3 4\n",
      " 37 29 70 41\n",
      " 85 69 76 50\n",
      " 53 10 95 100\n"
     ]
    },
    {
     "name": "stdout",
     "output_type": "stream",
     "text": [
      "250\n"
     ]
    }
   ],
   "source": [
    "import itertools\n",
    "\n",
    "N, M = map(int, input().split())\n",
    "A = [list(map(int, input().split())) for _ in range(N)]\n",
    "\n",
    "ans = 0\n",
    "for t1, t2 in itertools.combinations(range(M),2):\n",
    "    tot = 0\n",
    "    for i in range(N):\n",
    "        tot += max(A[i][t1], A[i][t2])\n",
    "    ans = max(ans, tot)\n",
    "\n",
    "print(ans)"
   ]
  },
  {
   "cell_type": "markdown",
   "metadata": {},
   "source": [
    "## 工夫して通り数を減らす全列挙"
   ]
  },
  {
   "cell_type": "markdown",
   "metadata": {},
   "source": [
    "### 【005】AtCoder Beginner Contest 095 C - Half and Half\n",
    "https://atcoder.jp/contests/abc095/tasks/arc096_a"
   ]
  },
  {
   "cell_type": "code",
   "execution_count": 27,
   "metadata": {},
   "outputs": [
    {
     "name": "stdin",
     "output_type": "stream",
     "text": [
      " 1500 2000 500 90000 100000\n"
     ]
    },
    {
     "name": "stdout",
     "output_type": "stream",
     "text": [
      "100000000\n"
     ]
    }
   ],
   "source": [
    "A, B, C, X, Y = map(int, input().split())\n",
    "\n",
    "tot = X*A+Y*B\n",
    "if X >= Y:\n",
    "    ans = min(tot, Y*C*2 + (X-Y)*A, X*C*2)\n",
    "else:\n",
    "    ans = min(tot, X*C*2 + (Y-X)*B, Y*C*2)\n",
    "\n",
    "print(ans)"
   ]
  },
  {
   "cell_type": "markdown",
   "metadata": {},
   "source": [
    "### 【006】三井住友信託銀行プログラミングコンテスト 2019 D - Lucky PIN\n",
    "https://atcoder.jp/contests/sumitrust2019/tasks/sumitb2019_d"
   ]
  },
  {
   "cell_type": "code",
   "execution_count": 31,
   "metadata": {},
   "outputs": [
    {
     "name": "stdin",
     "output_type": "stream",
     "text": [
      " 19\n",
      " 3141592653589793238\n"
     ]
    },
    {
     "name": "stdout",
     "output_type": "stream",
     "text": [
      "329\n"
     ]
    }
   ],
   "source": [
    "N = int(input())\n",
    "S = list(input())\n",
    "\n",
    "ans = 0\n",
    "for i in range(1000):\n",
    "    i = str(i).zfill(3)\n",
    "    idx = 0\n",
    "    for s in S:\n",
    "        if i[idx] == s:\n",
    "            idx += 1\n",
    "            if idx == 3:\n",
    "                ans += 1\n",
    "                break\n",
    "                \n",
    "print(ans)"
   ]
  },
  {
   "cell_type": "markdown",
   "metadata": {},
   "source": [
    "### 【007】JOI 2007 本選 3 - 最古の遺跡\n",
    "https://atcoder.jp/contests/joi2007ho/tasks/joi2007ho_c"
   ]
  },
  {
   "cell_type": "code",
   "execution_count": 48,
   "metadata": {},
   "outputs": [
    {
     "name": "stdout",
     "output_type": "stream",
     "text": [
      "10\n"
     ]
    }
   ],
   "source": [
    "import itertools\n",
    "\n",
    "N = int(input())\n",
    "S = set()\n",
    "for i in range(N):\n",
    "    S.add(tuple(map(int,input().split())))\n",
    "\n",
    "ans = 0\n",
    "for s1, s2 in itertools.combinations(S,2):\n",
    "    x0, y0 = s1\n",
    "    x1, y1 = s2\n",
    "    s3 = (x0+y0-y1, -x0+x1+y0)\n",
    "    s4 = (x1+y0-y1, -x0+x1+y1)\n",
    "    if s3 in S and s4 in S:\n",
    "        ans = max(ans, ((s4[0]-s1[0])**2 + (s4[1]-s1[1])**2)/2)\n",
    "\n",
    "if ans%1 == 0:\n",
    "    ans = int(ans)\n",
    "\n",
    "print(ans)"
   ]
  },
  {
   "cell_type": "markdown",
   "metadata": {},
   "source": [
    "### 【008】Square869120Contest #6 B - AtCoder Markets\n",
    "https://atcoder.jp/contests/s8pc-6/tasks/s8pc_6_b"
   ]
  },
  {
   "cell_type": "code",
   "execution_count": 50,
   "metadata": {},
   "outputs": [
    {
     "name": "stdout",
     "output_type": "stream",
     "text": [
      "18\n"
     ]
    }
   ],
   "source": [
    "import itertools\n",
    "\n",
    "N = int(input())\n",
    "A = []\n",
    "B = []\n",
    "for _ in range(N):\n",
    "    a,b = map(int, input().split())\n",
    "    A.append(a)\n",
    "    B.append(b)\n",
    "a_c = sorted(A)[N//2]\n",
    "b_c = sorted(B)[N//2]\n",
    "\n",
    "ans = 0\n",
    "for a,b in zip(A,B):\n",
    "    ans += abs(a - a_c) + b - a + abs(b - b_c)\n",
    "\n",
    "print(ans)"
   ]
  },
  {
   "cell_type": "markdown",
   "metadata": {},
   "source": [
    "### 【009】JOI 2008 予選 4 - 星座探し\n",
    "https://atcoder.jp/contests/joi2008yo/tasks/joi2008yo_d"
   ]
  },
  {
   "cell_type": "code",
   "execution_count": 55,
   "metadata": {},
   "outputs": [
    {
     "name": "stdout",
     "output_type": "stream",
     "text": [
      "-384281 179674\n"
     ]
    }
   ],
   "source": [
    "M = int(input())\n",
    "lst = []\n",
    "for i in range(M):\n",
    "    x, y = map(int, input().split())\n",
    "    lst.append([x, y])\n",
    "    \n",
    "N = int(input())\n",
    "S = []\n",
    "for i in range(N):\n",
    "    x, y = map(int, input().split())\n",
    "    S.append((x, y))\n",
    "\n",
    "S_set = set(S)\n",
    "for x, y in S:\n",
    "    cnt = 0\n",
    "    for i in range(M):\n",
    "        if i == 0:\n",
    "            vec_x = x - lst[i][0]\n",
    "            vec_y = y - lst[i][1]\n",
    "        else:\n",
    "            if (lst[i][0] + vec_x, lst[i][1] + vec_y) in S_set:\n",
    "                cnt += 1\n",
    "    if cnt == M-1:\n",
    "        ans = [vec_x, vec_y]\n",
    "        break\n",
    "        \n",
    "print(*ans)"
   ]
  },
  {
   "cell_type": "markdown",
   "metadata": {},
   "source": [
    "## bit全探索"
   ]
  },
  {
   "cell_type": "markdown",
   "metadata": {},
   "source": [
    "### 【010】ALDS_5_A - 総当たり\n",
    "https://judge.u-aizu.ac.jp/onlinejudge/description.jsp?id=ALDS1_5_A&lang=ja"
   ]
  },
  {
   "cell_type": "code",
   "execution_count": 6,
   "metadata": {},
   "outputs": [
    {
     "name": "stdin",
     "output_type": "stream",
     "text": [
      " 5\n",
      " 1 5 7 10 21\n",
      " 4\n",
      " 2 4 17 8\n"
     ]
    },
    {
     "name": "stdout",
     "output_type": "stream",
     "text": [
      "no\n",
      "no\n",
      "yes\n",
      "yes\n"
     ]
    }
   ],
   "source": [
    "N = int(input())\n",
    "A = list(map(int, input().split()))\n",
    "S = set()\n",
    "\n",
    "for i in range(2**N):\n",
    "    tot = 0\n",
    "    for j in range(N):\n",
    "        if (i >> j) & 1:\n",
    "            tot += A[j]\n",
    "    S.add(tot)\n",
    "\n",
    "Q = int(input())\n",
    "query = list(map(int, input().split()))\n",
    "\n",
    "for q in query:\n",
    "    if q in S:\n",
    "        ans = \"yes\"\n",
    "    else:\n",
    "        ans = \"no\"\n",
    "    print(ans)"
   ]
  },
  {
   "cell_type": "markdown",
   "metadata": {},
   "source": [
    "### 【011】AtCoder Beginner Contest 128 C - Switches\n",
    "https://atcoder.jp/contests/abc128/tasks/abc128_c"
   ]
  },
  {
   "cell_type": "code",
   "execution_count": 10,
   "metadata": {},
   "outputs": [
    {
     "name": "stdin",
     "output_type": "stream",
     "text": [
      " 5 2\n",
      " 3 1 2 5\n",
      " 2 2 3\n",
      " 1 0\n"
     ]
    },
    {
     "name": "stdout",
     "output_type": "stream",
     "text": [
      "8\n"
     ]
    }
   ],
   "source": [
    "N, M = map(int, input().split())\n",
    "lst = [list(map(int, input().split())) for _ in range(M)]\n",
    "P = list(map(int, input().split()))\n",
    "\n",
    "ans = 0\n",
    "for i in range(2**N):\n",
    "    S = set()\n",
    "    for j in range(N):\n",
    "        if i >> j & 1:\n",
    "            S.add(j+1)\n",
    "    cnt = 0\n",
    "    for i in range(M):\n",
    "        k = lst[i][0]\n",
    "        l = lst[i][1:]\n",
    "        tmp = 0\n",
    "        for s in l:\n",
    "            if s in S:\n",
    "                tmp += 1\n",
    "        if tmp%2 == P[i]:\n",
    "            cnt += 1\n",
    "    if cnt == M:\n",
    "        ans += 1\n",
    "\n",
    "print(ans)  "
   ]
  },
  {
   "cell_type": "markdown",
   "metadata": {},
   "source": [
    "### 【012】AtCoder Beginner Contest 002 D - 派閥\n",
    "https://atcoder.jp/contests/abc002/tasks/abc002_4"
   ]
  },
  {
   "cell_type": "code",
   "execution_count": 22,
   "metadata": {},
   "outputs": [
    {
     "name": "stdin",
     "output_type": "stream",
     "text": [
      " 10 1\n",
      " 1 2\n"
     ]
    },
    {
     "name": "stdout",
     "output_type": "stream",
     "text": [
      "2\n"
     ]
    }
   ],
   "source": [
    "import itertools\n",
    "\n",
    "N, M = map(int, input().split())\n",
    "\n",
    "XY = set()\n",
    "for i in range(M):\n",
    "    XY.add(tuple(map(int, input().split())))\n",
    "\n",
    "ans = 1\n",
    "for i in range(2**N):\n",
    "    S = []\n",
    "    for j in range(N):\n",
    "        if (i>>j) & 1:\n",
    "            S.append(j+1)\n",
    "    flag = True\n",
    "    for pair in itertools.combinations(S, 2):\n",
    "        if not(pair in XY):\n",
    "            flag = False\n",
    "            break\n",
    "    if flag:\n",
    "        ans = max(ans, len(S))\n",
    "\n",
    "print(ans)  "
   ]
  },
  {
   "cell_type": "markdown",
   "metadata": {},
   "source": [
    "### 【013】JOI 2008 予選 5 - おせんべい\n",
    "https://atcoder.jp/contests/joi2008yo/tasks/joi2008yo_e"
   ]
  },
  {
   "cell_type": "code",
   "execution_count": 28,
   "metadata": {},
   "outputs": [
    {
     "name": "stdin",
     "output_type": "stream",
     "text": [
      " 3 6\n",
      " 1 0 0 0 1 0\n",
      " 1 1 1 0 1 0\n",
      " 1 0 1 1 0 1\n"
     ]
    },
    {
     "name": "stdout",
     "output_type": "stream",
     "text": [
      "15\n"
     ]
    }
   ],
   "source": [
    "import copy\n",
    "import numpy as np\n",
    "\n",
    "R, C = map(int, input().split())\n",
    "Lst = [np.array(list(map(int, input().split()))) for _ in range(R)]\n",
    "\n",
    "ans = 0\n",
    "for i in range(2**R):\n",
    "    lst = [[] for _ in range(R)]\n",
    "    for j in range(R):\n",
    "        if (i >> j) & 1:\n",
    "            lst[j] = np.logical_not(Lst[j]) & [1]*C\n",
    "        else:\n",
    "            lst[j] = Lst[j]\n",
    "    \n",
    "    S_sum = np.sum(lst, axis=0)\n",
    "    tot = sum(list(map(lambda s: max(s, R-s), S_sum)))\n",
    "    ans = max(ans, tot)\n",
    "\n",
    "print(ans)  "
   ]
  },
  {
   "cell_type": "markdown",
   "metadata": {},
   "source": [
    "### 【014】Square869120Contest #4 B - Buildings are Colorful!\n",
    "https://atcoder.jp/contests/s8pc-4/tasks/s8pc_4_b"
   ]
  },
  {
   "cell_type": "code",
   "execution_count": 28,
   "metadata": {},
   "outputs": [
    {
     "name": "stdin",
     "output_type": "stream",
     "text": [
      " 3 6\n",
      " 1 0 0 0 1 0\n",
      " 1 1 1 0 1 0\n",
      " 1 0 1 1 0 1\n"
     ]
    },
    {
     "name": "stdout",
     "output_type": "stream",
     "text": [
      "15\n"
     ]
    }
   ],
   "source": [
    "N, K = map(int, input().split())\n",
    "A = list(map(int, input().split()))\n",
    "\n",
    "# bit列に含まれる\"1\"の数をカウントする\n",
    "def count_ones_by_bin(num):\n",
    "    bin_num = bin(num)[2:]\n",
    "    count = 0\n",
    "    for i in bin_num:\n",
    "            count += int(i)\n",
    "    return count\n",
    " \n",
    "ans = float(\"inf\")\n",
    "# 一番左のbitが\"1\"のbit列に対して全探索する\n",
    "for i in range(2**(N-1),2**N):\n",
    "    # bit列に含まれる\"1\"がK個である場合のみ調べる\n",
    "    if count_ones_by_bin(i) == K:\n",
    "        cost = 0\n",
    "        for j in range(N):\n",
    "            # bit列の左から調べていく\n",
    "            if (i >> (N - j - 1)) & 1:\n",
    "                # 建物1は必ず見えるので初期値に設定\n",
    "                if j == 0:\n",
    "                    h = A[j]\n",
    "                else:\n",
    "                    # 高さを増やさずに見える場合\n",
    "                    if h + 1 <= A[j]:\n",
    "                        h = A[j]\n",
    "                    # 高さを増やさないといけない場合\n",
    "                    else:\n",
    "                        cost += h + 1 - A[j]\n",
    "                        h += 1\n",
    "            # 「見える建物」として対象外の建物に対し、高さを更新しておく\n",
    "            else:\n",
    "                h = max(h, A[j])\n",
    "        ans = min(cost, ans)\n",
    "\n",
    "print(ans)"
   ]
  }
 ],
 "metadata": {
  "kernelspec": {
   "display_name": "Python 3",
   "language": "python",
   "name": "python3"
  },
  "language_info": {
   "codemirror_mode": {
    "name": "ipython",
    "version": 3
   },
   "file_extension": ".py",
   "mimetype": "text/x-python",
   "name": "python",
   "nbconvert_exporter": "python",
   "pygments_lexer": "ipython3",
   "version": "3.6.5"
  },
  "toc-autonumbering": false,
  "toc-showcode": false,
  "toc-showmarkdowntxt": false
 },
 "nbformat": 4,
 "nbformat_minor": 4
}

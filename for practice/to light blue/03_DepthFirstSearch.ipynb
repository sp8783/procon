{
 "cells": [
  {
   "cell_type": "markdown",
   "metadata": {},
   "source": [
    "# 深さ優先探索（DFS）"
   ]
  },
  {
   "cell_type": "markdown",
   "metadata": {},
   "source": [
    "## 【024】 ALDS_11_B - 深さ優先探索\n",
    "https://judge.u-aizu.ac.jp/onlinejudge/description.jsp?id=ALDS1_11_B&lang=ja"
   ]
  },
  {
   "cell_type": "code",
   "execution_count": 2,
   "metadata": {},
   "outputs": [
    {
     "name": "stdin",
     "output_type": "stream",
     "text": [
      " 15\n",
      " 0 0 1 1 2 2 3 3 3 5 6 6 8 9 9\n",
      " 10\n",
      " 8 4 6 5 0 2 1 7 9 3\n"
     ]
    },
    {
     "name": "stdout",
     "output_type": "stream",
     "text": [
      "15\n"
     ]
    }
   ],
   "source": [
    "from collections import deque\n",
    "\n",
    "N = int(input())\n",
    "graph = [deque([]) for _ in range(N+1)]\n",
    "for _ in range(N):\n",
    "    u, k, *v = list(map(int, input().split()))\n",
    "    v.sort()\n",
    "    for i in v:\n",
    "        graph[u].append(i)\n",
    "\n",
    "time = 0\n",
    "start = [-1] * (N+1)\n",
    "end = [-1] * (N+1)\n",
    "\n",
    "def dfs(v):\n",
    "    global time\n",
    "    time += 1\n",
    "    stack = [v]\n",
    "    start[v] = time\n",
    "    while stack:\n",
    "        v = stack[-1]\n",
    "        if graph[v]:\n",
    "            w = graph[v].popleft()\n",
    "            if start[w] == -1:\n",
    "                time += 1\n",
    "                start[w] = time\n",
    "                stack.append(w)\n",
    "        else:\n",
    "            time += 1\n",
    "            end[v] = time\n",
    "            stack.pop()\n",
    "    return [start, end]\n",
    "\n",
    "for i in range(N):\n",
    "    if start[i + 1] == -1:\n",
    "        ans = dfs(i+1)\n",
    "\n",
    "for j in range(N):\n",
    "    tmp = [j+1, ans[0][j+1], ans[1][j+1]]\n",
    "    print(*tmp)"
   ]
  }
 ],
 "metadata": {
  "kernelspec": {
   "display_name": "Python 3",
   "language": "python",
   "name": "python3"
  },
  "language_info": {
   "codemirror_mode": {
    "name": "ipython",
    "version": 3
   },
   "file_extension": ".py",
   "mimetype": "text/x-python",
   "name": "python",
   "nbconvert_exporter": "python",
   "pygments_lexer": "ipython3",
   "version": "3.6.5"
  },
  "toc-autonumbering": false,
  "toc-showcode": false,
  "toc-showmarkdowntxt": false
 },
 "nbformat": 4,
 "nbformat_minor": 4
}

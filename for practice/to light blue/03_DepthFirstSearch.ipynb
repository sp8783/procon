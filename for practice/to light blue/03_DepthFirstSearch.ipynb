{
 "cells": [
  {
   "cell_type": "markdown",
   "metadata": {},
   "source": [
    "# 深さ優先探索（DFS）"
   ]
  },
  {
   "cell_type": "markdown",
   "metadata": {},
   "source": [
    "## 【024】 ALDS_11_B - 深さ優先探索\n",
    "https://judge.u-aizu.ac.jp/onlinejudge/description.jsp?id=ALDS1_11_B&lang=ja"
   ]
  },
  {
   "cell_type": "code",
   "execution_count": 2,
   "metadata": {},
   "outputs": [
    {
     "name": "stdin",
     "output_type": "stream",
     "text": [
      " 15\n",
      " 0 0 1 1 2 2 3 3 3 5 6 6 8 9 9\n",
      " 10\n",
      " 8 4 6 5 0 2 1 7 9 3\n"
     ]
    },
    {
     "name": "stdout",
     "output_type": "stream",
     "text": [
      "15\n"
     ]
    }
   ],
   "source": [
    "from collections import deque\n",
    "\n",
    "N = int(input())\n",
    "graph = [deque([]) for _ in range(N+1)]\n",
    "for _ in range(N):\n",
    "    u, k, *v = list(map(int, input().split()))\n",
    "    v.sort()\n",
    "    for i in v:\n",
    "        graph[u].append(i)\n",
    "\n",
    "time = 0\n",
    "start = [-1] * (N+1)\n",
    "end = [-1] * (N+1)\n",
    "\n",
    "def dfs(v):\n",
    "    global time\n",
    "    time += 1\n",
    "    stack = [v]\n",
    "    start[v] = time\n",
    "    while stack:\n",
    "        v = stack[-1]\n",
    "        if graph[v]:\n",
    "            w = graph[v].popleft()\n",
    "            if start[w] == -1:\n",
    "                time += 1\n",
    "                start[w] = time\n",
    "                stack.append(w)\n",
    "        else:\n",
    "            time += 1\n",
    "            end[v] = time\n",
    "            stack.pop()\n",
    "    return [start, end]\n",
    "\n",
    "for i in range(N):\n",
    "    if start[i + 1] == -1:\n",
    "        ans = dfs(i+1)\n",
    "\n",
    "for j in range(N):\n",
    "    tmp = [j+1, ans[0][j+1], ans[1][j+1]]\n",
    "    print(*tmp)"
   ]
  },
  {
   "cell_type": "markdown",
   "metadata": {},
   "source": [
    "## 【025】 AOJ 1160 - 島はいくつある？\n",
    "https://judge.u-aizu.ac.jp/onlinejudge/description.jsp?id=ALDS1_11_B&lang=ja"
   ]
  },
  {
   "cell_type": "code",
   "execution_count": 4,
   "metadata": {},
   "outputs": [
    {
     "name": "stdout",
     "output_type": "stream",
     "text": [
      "0\n",
      "1\n",
      "1\n",
      "3\n",
      "1\n",
      "9\n"
     ]
    }
   ],
   "source": [
    "from collections import deque\n",
    "\n",
    "while True:\n",
    "    w, h = map(int, input().split())\n",
    "    if [w,h] == [0,0]:\n",
    "        break\n",
    "    lst = [list(map(int, input().split())) for _ in range(h)]\n",
    "    \n",
    "    ans = 0\n",
    "    check = [[False]*w for _ in range(h)]\n",
    "    dxy = [(1,0),(0,1),(-1,0),(0,-1),(1,1),(1,-1),(-1,1),(-1,-1)]\n",
    "    \n",
    "    def dfs(x,y):\n",
    "        q = deque()\n",
    "        q.append([x,y])\n",
    "        \n",
    "        if lst[y][x] == 0:\n",
    "            return 0\n",
    "        \n",
    "        while q:\n",
    "            x, y = q.pop()\n",
    "            check[y][x] = True\n",
    "            for dx, dy in dxy:\n",
    "                nx = x + dx\n",
    "                ny = y + dy\n",
    "                if 0 <= nx <= w-1 and 0 <= ny <= h-1:                \n",
    "                    if check[ny][nx] == False and lst[ny][nx] == 1:\n",
    "                        q.append([nx,ny])                \n",
    "        return 1\n",
    "    \n",
    "    for i in range(w):\n",
    "        for j in range(h):\n",
    "            if check[j][i] == False:\n",
    "                ans += dfs(i,j)\n",
    "    \n",
    "    print(ans)"
   ]
  },
  {
   "cell_type": "markdown",
   "metadata": {},
   "source": [
    "## 【026】 AtCoder Beginner Contest 138 D - Ki\n",
    "https://atcoder.jp/contests/abc138/tasks/abc138_d"
   ]
  },
  {
   "cell_type": "code",
   "execution_count": 3,
   "metadata": {},
   "outputs": [
    {
     "name": "stdin",
     "output_type": "stream",
     "text": [
      " 4 3\n",
      " 1 2\n",
      " 2 3\n",
      " 2 4\n",
      " 2 10\n",
      "  1 100\n",
      " 3 1\n"
     ]
    },
    {
     "name": "stdout",
     "output_type": "stream",
     "text": [
      "100 110 111 110\n"
     ]
    }
   ],
   "source": [
    "from collections import deque\n",
    "\n",
    "N, Q = map(int, input().split())\n",
    "adj = [[] for _ in range(N)]\n",
    "for i in range(N-1):\n",
    "    a, b = map(int, input().split())\n",
    "    adj[a-1].append(b-1)\n",
    "    adj[b-1].append(a-1)\n",
    "P = [0]*N\n",
    "for j in range(Q):\n",
    "    p, x = map(int, input().split())\n",
    "    P[p-1] += x\n",
    "\n",
    "check = [False]*N\n",
    "q = deque()\n",
    "q.append(0)\n",
    "\n",
    "while q:\n",
    "    v = q.pop()\n",
    "    check[v] = True\n",
    "    for nv in adj[v]:\n",
    "        if check[nv] == False:\n",
    "            P[nv] += P[v]\n",
    "            q.append(nv)\n",
    "            \n",
    "print(*P)"
   ]
  }
 ],
 "metadata": {
  "kernelspec": {
   "display_name": "Python 3",
   "language": "python",
   "name": "python3"
  },
  "language_info": {
   "codemirror_mode": {
    "name": "ipython",
    "version": 3
   },
   "file_extension": ".py",
   "mimetype": "text/x-python",
   "name": "python",
   "nbconvert_exporter": "python",
   "pygments_lexer": "ipython3",
   "version": "3.6.5"
  },
  "toc-autonumbering": false,
  "toc-showcode": false,
  "toc-showmarkdowntxt": false
 },
 "nbformat": 4,
 "nbformat_minor": 4
}

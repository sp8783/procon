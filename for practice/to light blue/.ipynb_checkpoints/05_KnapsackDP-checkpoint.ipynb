{
 "cells": [
  {
   "cell_type": "markdown",
   "metadata": {},
   "source": [
    "# ナップザックDP"
   ]
  },
  {
   "cell_type": "markdown",
   "metadata": {},
   "source": [
    "## 【034】 ALDS_10_A - フィボナッチ数\n",
    "https://judge.u-aizu.ac.jp/onlinejudge/description.jsp?id=ALDS1_10_A&lang=ja"
   ]
  },
  {
   "cell_type": "code",
   "execution_count": 2,
   "metadata": {},
   "outputs": [
    {
     "name": "stdin",
     "output_type": "stream",
     "text": [
      " 44\n"
     ]
    },
    {
     "name": "stdout",
     "output_type": "stream",
     "text": [
      "1134903170\n"
     ]
    }
   ],
   "source": [
    "N = int(input())\n",
    "dp = [0]*50\n",
    "\n",
    "dp[0] = 1\n",
    "dp[1] = 1\n",
    "\n",
    "for i in range(48):\n",
    "    dp[i+2] = dp[i] + dp[i+1]\n",
    "\n",
    "ans = dp[N]\n",
    "print(ans)"
   ]
  },
  {
   "cell_type": "markdown",
   "metadata": {},
   "source": [
    "## 【035】 DPL_1_B - 0,1ナップザック問題\n",
    "https://judge.u-aizu.ac.jp/onlinejudge/description.jsp?id=DPL_1_B&lang=ja"
   ]
  },
  {
   "cell_type": "code",
   "execution_count": 12,
   "metadata": {},
   "outputs": [
    {
     "name": "stdin",
     "output_type": "stream",
     "text": [
      " 4 5\n",
      " 4 2\n",
      " 5 2\n",
      " 2 1\n",
      " 8 3\n"
     ]
    },
    {
     "name": "stdout",
     "output_type": "stream",
     "text": [
      "13\n"
     ]
    }
   ],
   "source": [
    "N, W = map(int, input().split())\n",
    "item = [list(map(int, input().split())) for _ in range(N)]\n",
    "\n",
    "dp = [[0]*(W+1) for _ in range(N+1)]\n",
    "\n",
    "for i in range(1,N+1):\n",
    "    for j in range(1,W+1):\n",
    "        if j - item[i-1][1] >= 0:\n",
    "            dp[i][j] = max(dp[i-1][j], dp[i-1][j-item[i-1][1]] + item[i-1][0])\n",
    "        else:\n",
    "            dp[i][j] = dp[i-1][j]\n",
    "ans = dp[-1][-1]\n",
    "print(ans)"
   ]
  },
  {
   "cell_type": "markdown",
   "metadata": {},
   "source": [
    "## 【036】 DPL_1_C - ナップザック問題\n",
    "https://judge.u-aizu.ac.jp/onlinejudge/description.jsp?id=DPL_1_C&lang=ja"
   ]
  },
  {
   "cell_type": "code",
   "execution_count": 1,
   "metadata": {},
   "outputs": [
    {
     "name": "stdin",
     "output_type": "stream",
     "text": [
      " 4 8\n",
      " 4 2\n",
      " 5 2\n",
      " 2 1\n",
      " 8 3\n"
     ]
    },
    {
     "name": "stdout",
     "output_type": "stream",
     "text": [
      "21\n"
     ]
    }
   ],
   "source": [
    "N, W = map(int, input().split())\n",
    "item = [list(map(int, input().split())) for _ in range(N)]\n",
    "\n",
    "dp = [[0]*(W+1) for _ in range(N+1)]\n",
    "\n",
    "for i in range(1,N+1):\n",
    "    for j in range(1,W+1):\n",
    "        if j - item[i-1][1] >= 0:\n",
    "            dp[i][j] = max(dp[i-1][j], dp[i-1][j-item[i-1][1]] + item[i-1][0], dp[i][j-item[i-1][1]] + item[i-1][0])\n",
    "        else:\n",
    "            dp[i][j] = dp[i-1][j]\n",
    "ans = dp[-1][-1]\n",
    "print(ans)"
   ]
  },
  {
   "cell_type": "markdown",
   "metadata": {},
   "source": [
    "## 【037】 DPL_1_A - コイン問題\n",
    "https://judge.u-aizu.ac.jp/onlinejudge/description.jsp?id=DPL_1_A&lang=ja"
   ]
  },
  {
   "cell_type": "code",
   "execution_count": 5,
   "metadata": {},
   "outputs": [
    {
     "name": "stdin",
     "output_type": "stream",
     "text": [
      " 65 6\n",
      " 1 2 7 8 12 50\n"
     ]
    },
    {
     "name": "stdout",
     "output_type": "stream",
     "text": [
      "3\n"
     ]
    }
   ],
   "source": [
    "N, M = map(int, input().split())\n",
    "C = list(map(int, input().split()))\n",
    "\n",
    "inf = float(\"inf\")\n",
    "dp = [inf]*(N+1)\n",
    "dp[0] = 0\n",
    "\n",
    "for i in range(1,N+1):\n",
    "    for c in C:\n",
    "        if i - c >= 0:\n",
    "            dp[i] = min(dp[i-c] + 1, dp[i])\n",
    "ans = dp[-1]\n",
    "print(ans)"
   ]
  },
  {
   "cell_type": "markdown",
   "metadata": {},
   "source": [
    "## 【038】 ALDS_10_C - 最長共通部分列\n",
    "https://judge.u-aizu.ac.jp/onlinejudge/description.jsp?id=ALDS1_10_C&lang=ja"
   ]
  },
  {
   "cell_type": "markdown",
   "metadata": {},
   "source": [
    "①高速化アルゴリズム（これじゃないとACにならない） <br>\n",
    "※参考URL：https://ikatakos.com/pot/programming_algorithm/dynamic_programming/longest_common_subsequence"
   ]
  },
  {
   "cell_type": "code",
   "execution_count": null,
   "metadata": {},
   "outputs": [],
   "source": [
    "def lcs(s1, s2):\n",
    "    dp = []\n",
    "    for s2_k in s2:\n",
    "        bgn_idx = 0\n",
    "        for i, cur_idx in enumerate(dp):\n",
    "            chr_idx = s1.find(s2_k, bgn_idx) + 1\n",
    "            if not chr_idx:\n",
    "                break\n",
    "            dp[i] = min(cur_idx, chr_idx)\n",
    "            bgn_idx = cur_idx\n",
    "        else:\n",
    "            chr_idx = s1.find(s2_k, bgn_idx) + 1\n",
    "            if chr_idx:\n",
    "                dp.append(chr_idx)\n",
    "    return len(dp)\n",
    "\n",
    "N = int(input())\n",
    "for _ in range(N):\n",
    "    x = input()\n",
    "    y = input()\n",
    "    print(lcs(x, y))"
   ]
  },
  {
   "cell_type": "markdown",
   "metadata": {},
   "source": [
    "②ボツコード（想定解法だが本問ではTLEとなる）\n",
    "※参考URL：https://qiita.com/_rdtr/items/c49aa20f8d48fbea8bd2"
   ]
  },
  {
   "cell_type": "code",
   "execution_count": 12,
   "metadata": {},
   "outputs": [
    {
     "name": "stdout",
     "output_type": "stream",
     "text": [
      "7\n"
     ]
    }
   ],
   "source": [
    "N = int(input())\n",
    "for _ in range(N):\n",
    "    X = input()\n",
    "    Y = input()\n",
    "    \n",
    "    inf = float(\"inf\")\n",
    "    dp = [[0]*(len(Y)+1) for _ in range(len(X)+1)]\n",
    "    \n",
    "    for i in range(1,len(X)+1):\n",
    "        for j in range(1,len(Y)+1):\n",
    "            if X[i-1] == Y[j-1]:\n",
    "                dp[i][j] = dp[i-1][j-1] + 1\n",
    "            else:\n",
    "                dp[i][j] = max(dp[i-1][j], dp[i][j-1])\n",
    "    print(dp[-1][-1])"
   ]
  },
  {
   "cell_type": "markdown",
   "metadata": {},
   "source": [
    "## 【039】 JOI 2011 予選 4 - 1 年生\n",
    "https://atcoder.jp/contests/joi2011yo/tasks/joi2011yo_d"
   ]
  },
  {
   "cell_type": "code",
   "execution_count": 17,
   "metadata": {},
   "outputs": [
    {
     "name": "stdin",
     "output_type": "stream",
     "text": [
      " 11\n",
      " 8 3 2 4 8 7 2 4 0 8 8\n"
     ]
    },
    {
     "name": "stdout",
     "output_type": "stream",
     "text": [
      "10\n"
     ]
    }
   ],
   "source": [
    "N = int(input())\n",
    "*A, S = list(map(int, input().split()))\n",
    "\n",
    "dp = [[0]*21 for _ in range(N)]\n",
    "dp[0][0] = 1\n",
    "\n",
    "for i in range(1,N):\n",
    "    for j in range(21):\n",
    "        if 0 <= j - A[i-1]:\n",
    "            dp[i][j] += dp[i-1][j - A[i-1]]\n",
    "        if j + A[i-1] <= 20 and i != 1:\n",
    "            dp[i][j] += dp[i-1][j + A[i-1]]\n",
    "            \n",
    "ans = dp[-1][S]\n",
    "print(ans)"
   ]
  },
  {
   "cell_type": "markdown",
   "metadata": {},
   "source": [
    "## 【040】 JOI 2012 予選 4 - パスタ\n",
    "https://atcoder.jp/contests/joi2012yo/tasks/joi2012yo_d"
   ]
  },
  {
   "cell_type": "code",
   "execution_count": 22,
   "metadata": {},
   "outputs": [
    {
     "name": "stdin",
     "output_type": "stream",
     "text": [
      " 20 5\n",
      " 10 2\n",
      " 4 3\n",
      " 12 1\n",
      " 13 2\n",
      " 9 1\n"
     ]
    },
    {
     "name": "stdout",
     "output_type": "stream",
     "text": [
      "2640\n"
     ]
    }
   ],
   "source": [
    "N, K = map(int, input().split())\n",
    "key = list(range(N))\n",
    "value = [-1]*N\n",
    "dic = dict(zip(key, value))\n",
    "for _ in range(K):\n",
    "    a, b = map(int, input().split())\n",
    "    dic[a-1] = b-1\n",
    "    \n",
    "dp = [[[0 for _ in range(3)] for _ in range(3)] for _ in range(N)]\n",
    "# dp[i][j][k] : 前々日にk,前日にjのパスタを選んだ場合の、i日目時点での場合の数\n",
    "MOD = 10**4\n",
    "\n",
    "for i in range(N):\n",
    "    if i == 0:\n",
    "        dp[i] = [[1, 0, 0] for _ in range(3)]\n",
    "        if dic[i] != -1:\n",
    "            for j in range(3):\n",
    "                if j != dic[i]:\n",
    "                    dp[i][j] = [0]*3\n",
    "    else:\n",
    "        for j in range(3): # 当日に選ぶパスタ\n",
    "            if dic[i] != -1 and j != dic[i]:\n",
    "                continue\n",
    "            else:\n",
    "                for k in range(3): # 前日\n",
    "                    for l in range(3): # 前々日\n",
    "                        if j == k and k == l and i != 1:\n",
    "                            continue\n",
    "                        else:\n",
    "                            dp[i][j][k] += dp[i-1][k][l]\n",
    "                            dp[i][j][k] %= MOD\n",
    "\n",
    "ans = 0\n",
    "for i in range(3):\n",
    "    ans += sum(dp[-1][i])\n",
    "    ans %= MOD\n",
    "print(ans)"
   ]
  },
  {
   "cell_type": "markdown",
   "metadata": {},
   "source": [
    "## 【041】 JOI 2013 予選 4 - 暑い日々\n",
    "https://atcoder.jp/contests/joi2013yo/tasks/joi2013yo_d"
   ]
  },
  {
   "cell_type": "code",
   "execution_count": 5,
   "metadata": {},
   "outputs": [
    {
     "name": "stdin",
     "output_type": "stream",
     "text": [
      " 5 2\n",
      " 26\n",
      " 28\n",
      " 32\n",
      " 29\n",
      " 34\n",
      " 30 35 0\n",
      " 25 30 100\n"
     ]
    },
    {
     "name": "stdout",
     "output_type": "stream",
     "text": [
      "300\n"
     ]
    }
   ],
   "source": [
    "D, N = map(int, input().split())\n",
    "T = [int(input()) for _ in range(D)]\n",
    "lst = [list(map(int, input().split())) for _ in range(N)]\n",
    "\n",
    "dp = [[0]*N for _ in range(D)]\n",
    "\n",
    "for i in range(D): # i:日程\n",
    "    for j in range(N): # j:当日着る服\n",
    "        if T[i] < lst[j][0] or lst[j][1] < T[i]:\n",
    "            dp[i][j] = -1\n",
    "        else:\n",
    "            if i != 0:\n",
    "                for k in range(N): # k:前日きた服\n",
    "                    if dp[i-1][k] == -1: # 前日着ることができない服はスルー\n",
    "                        continue\n",
    "                    else:\n",
    "                        dp[i][j] = max(dp[i][j], dp[i-1][k] + abs(lst[j][2] - lst[k][2]))\n",
    "\n",
    "                                       \n",
    "ans = max(dp[-1])\n",
    "print(ans)"
   ]
  },
  {
   "cell_type": "markdown",
   "metadata": {},
   "source": [
    "## 【042】 JOI 2015 予選 4 - シルクロード\n",
    "https://atcoder.jp/contests/joi2015yo/tasks/joi2015yo_d"
   ]
  },
  {
   "cell_type": "code",
   "execution_count": 30,
   "metadata": {},
   "outputs": [
    {
     "name": "stdout",
     "output_type": "stream",
     "text": [
      "31589\n"
     ]
    }
   ],
   "source": [
    "N, M = map(int, input().split())\n",
    "D = [0]+[int(input()) for _ in range(N)]\n",
    "C = [0]+[int(input()) for _ in range(M)]\n",
    "\n",
    "inf = float(\"inf\")\n",
    "dp = [[inf]*(M+1) for _ in range(N+1)]\n",
    "dp[0][0] = 0\n",
    "\n",
    "for i in range(N+1):\n",
    "    for j in range(1,M+1):\n",
    "        if i == 0:\n",
    "            if N <= M - j:\n",
    "                dp[i][j] = 0\n",
    "        else:\n",
    "            if M-j >= N-i:\n",
    "                dp[i][j] = min(dp[i-1][j-1] + D[i]*C[j], dp[i][j-1])\n",
    "                \n",
    "ans = dp[-1][-1]\n",
    "print(ans)"
   ]
  },
  {
   "cell_type": "markdown",
   "metadata": {},
   "source": [
    "## 【043】 パ研杯2019 D - パ研軍旗\n",
    "https://atcoder.jp/contests/pakencamp-2019-day3/tasks/pakencamp_2019_day3_d"
   ]
  },
  {
   "cell_type": "code",
   "execution_count": 24,
   "metadata": {},
   "outputs": [
    {
     "name": "stdout",
     "output_type": "stream",
     "text": [
      "21\n"
     ]
    }
   ],
   "source": [
    "N = int(input())\n",
    "S = [list(input()) for _ in range(5)]\n",
    "\n",
    "inf = float(\"inf\")\n",
    "dp = [[inf]*3 for _ in range(N)]\n",
    "col = {\"R\":0,\"B\":1,\"W\":2,\"#\":3}\n",
    "\n",
    "for i in range(N):\n",
    "    cnt = [0]*4\n",
    "    for j in range(5):\n",
    "        cnt[col[S[j][i]]] += 1\n",
    "    for k in range(3): # 塗る色\n",
    "        if i == 0:\n",
    "            dp[i][k] = 5 - cnt[k]\n",
    "        else:\n",
    "            for l in range(3): \n",
    "                if k != l:\n",
    "                    dp[i][k] = min(dp[i][k], dp[i-1][l] + 5 - cnt[k])\n",
    "\n",
    "ans = min(dp[-1])\n",
    "print(ans)"
   ]
  },
  {
   "cell_type": "markdown",
   "metadata": {},
   "source": [
    "## 【044】 AOJ 1167 - ポロック予想\n",
    "https://judge.u-aizu.ac.jp/onlinejudge/description.jsp?id=1167&lang=jp"
   ]
  },
  {
   "cell_type": "code",
   "execution_count": 43,
   "metadata": {},
   "outputs": [
    {
     "name": "stdout",
     "output_type": "stream",
     "text": [
      "2 6\n",
      "2 14\n",
      "2 5\n",
      "1 1\n",
      "1 18\n",
      "5 35\n",
      "4 4\n",
      "3 37\n"
     ]
    }
   ],
   "source": [
    "# 正四面体数を計算する\n",
    "def main():\n",
    "\n",
    "    N = 10**6\n",
    "    dp = [10**10]*(N+1)\n",
    "    dp_odd = [10**10]*(N+1)\n",
    "    dp[0] = 0\n",
    "    dp_odd[0] = 0\n",
    "\n",
    "    for i in range(1,180):\n",
    "        n = i*(i+1)*(i+2)//6\n",
    "\n",
    "        for j in range(N-n):\n",
    "            new = dp[j] + 1\n",
    "            if new < dp[j+n]:\n",
    "                dp[j+n] = new\n",
    "\n",
    "            if n%2 == 1:\n",
    "                new = dp_odd[j] + 1\n",
    "                if new < dp_odd[j+n]:\n",
    "                    dp_odd[j+n] = new\n",
    "\n",
    "    ans = []\n",
    "    while True:\n",
    "        num = int(input())\n",
    "        if num == 0:\n",
    "            break\n",
    "        ans.append([dp[num], dp_odd[num]])\n",
    "    for a,b in ans:\n",
    "        print(a,b)\n",
    "        \n",
    "if __name__ == \"__main__\":\n",
    "    main()"
   ]
  }
 ],
 "metadata": {
  "kernelspec": {
   "display_name": "Python 3",
   "language": "python",
   "name": "python3"
  },
  "language_info": {
   "codemirror_mode": {
    "name": "ipython",
    "version": 3
   },
   "file_extension": ".py",
   "mimetype": "text/x-python",
   "name": "python",
   "nbconvert_exporter": "python",
   "pygments_lexer": "ipython3",
   "version": "3.6.5"
  },
  "toc-autonumbering": false,
  "toc-showcode": false,
  "toc-showmarkdowntxt": false
 },
 "nbformat": 4,
 "nbformat_minor": 4
}

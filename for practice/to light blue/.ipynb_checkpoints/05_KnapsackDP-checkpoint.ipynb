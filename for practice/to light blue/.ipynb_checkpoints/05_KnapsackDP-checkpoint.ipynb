{
 "cells": [
  {
   "cell_type": "markdown",
   "metadata": {},
   "source": [
    "# 幅優先探索（BFS）"
   ]
  },
  {
   "cell_type": "markdown",
   "metadata": {},
   "source": [
    "## 【028】 ALDS_11_C - 幅優先探索\n",
    "https://judge.u-aizu.ac.jp/onlinejudge/description.jsp?id=ALDS1_11_C&lang=ja"
   ]
  },
  {
   "cell_type": "code",
   "execution_count": 16,
   "metadata": {},
   "outputs": [
    {
     "name": "stdout",
     "output_type": "stream",
     "text": [
      "1 0\n",
      "2 1\n",
      "3 2\n",
      "4 1\n"
     ]
    }
   ],
   "source": [
    "from collections import deque\n",
    "\n",
    "N = int(input())\n",
    "adj = [[] for _ in range(N)]\n",
    "for _ in range(N):\n",
    "    u, k, *v = list(map(int, input().split()))\n",
    "    v.sort()\n",
    "    for i in v:\n",
    "        adj[u-1].append(i-1)\n",
    "\n",
    "ans = [-1]*N\n",
    "ans[0] = 0\n",
    "\n",
    "q = deque()\n",
    "q.append(0)\n",
    "\n",
    "while q:\n",
    "    v = q.popleft()\n",
    "    for nv in adj[v]:\n",
    "        if ans[nv] == -1:\n",
    "            ans[nv] = ans[v] + 1\n",
    "            q.append(nv)\n",
    "        \n",
    "for i in range(N):\n",
    "    print(\"{} {}\".format(i+1, ans[i]))"
   ]
  },
  {
   "cell_type": "markdown",
   "metadata": {},
   "source": [
    "## 【029】 AtCoder Beginner Contest 007 C - 幅優先探索\n",
    "https://atcoder.jp/contests/abc007/tasks/abc007_3"
   ]
  },
  {
   "cell_type": "code",
   "execution_count": 3,
   "metadata": {},
   "outputs": [
    {
     "name": "stdout",
     "output_type": "stream",
     "text": [
      "10\n"
     ]
    }
   ],
   "source": [
    "from collections import deque\n",
    "\n",
    "R, C = map(int, input().split())\n",
    "sy, sx = map(lambda x:int(x)-1, input().split())\n",
    "gy, gx = map(lambda x:int(x)-1, input().split())\n",
    "maze = [list(input()) for _ in range(R)]\n",
    "\n",
    "cnt = [[-1]*C for _ in range(R)]\n",
    "cnt[sy][sx] = 0\n",
    "dxy = [(1,0), (0,1), (-1,0), (0,-1)]\n",
    "\n",
    "q = deque()\n",
    "q.append([sx, sy])\n",
    "\n",
    "while q:\n",
    "    x, y = q.popleft()\n",
    "    for dx, dy in dxy:\n",
    "        nx = x + dx\n",
    "        ny = y + dy\n",
    "        if maze[ny][nx] == \"#\":\n",
    "            continue\n",
    "        if cnt[ny][nx] != -1:\n",
    "            continue\n",
    "        cnt[ny][nx] = cnt[y][x] + 1\n",
    "        q.append([nx, ny])\n",
    "        \n",
    "print(cnt[gy][gx])"
   ]
  },
  {
   "cell_type": "markdown",
   "metadata": {},
   "source": [
    "## 【030】 JOI 2011 予選 5 - チーズ\n",
    "https://atcoder.jp/contests/joi2011yo/tasks/joi2011yo_e"
   ]
  },
  {
   "cell_type": "code",
   "execution_count": 32,
   "metadata": {},
   "outputs": [
    {
     "name": "stdout",
     "output_type": "stream",
     "text": [
      "91\n"
     ]
    }
   ],
   "source": [
    "from collections import deque\n",
    "\n",
    "H, W, N = map(int, input().split())\n",
    "town = [list(input()) for _ in range(H)]\n",
    "\n",
    "P = [None]*(N+1)\n",
    "for i in range(W):\n",
    "    for j in range(H):\n",
    "        if town[j][i] != \".\" and town[j][i] != \"X\":\n",
    "            if town[j][i] == \"S\":\n",
    "                P[0] = [i,j]\n",
    "            else:\n",
    "                P[int(town[j][i])] = [i,j]\n",
    "\n",
    "ans = []\n",
    "dxy = [(1,0), (0,1), (-1,0), (0,-1)]\n",
    "\n",
    "for n in range(N):\n",
    "    sx, sy = P[n]\n",
    "    gx, gy = P[n+1]\n",
    "    cnt = [[-1]*W for _ in range(H)]\n",
    "    cnt[sy][sx] = 0\n",
    "    \n",
    "    q = deque()\n",
    "    q.append([sx, sy])\n",
    "    \n",
    "    while q:\n",
    "        x, y = q.popleft()\n",
    "#         print(\"▼[x,y]:{}\".format([x,y]))\n",
    "        for dx, dy in dxy:\n",
    "            nx = x + dx\n",
    "            ny = y + dy\n",
    "            if nx < 0 or nx >= W or ny < 0 or ny >= H:\n",
    "                continue\n",
    "            if cnt[ny][nx] != -1:\n",
    "                continue\n",
    "            if town[ny][nx] == \"X\":\n",
    "                continue\n",
    "            cnt[ny][nx] = cnt[y][x] + 1\n",
    "#             print(\" ▼[nx,ny]:{}\".format([nx,ny]))\n",
    "            q.append([nx, ny])\n",
    "    \n",
    "    ans.append(cnt[gy][gx])\n",
    "        \n",
    "print(sum(ans))"
   ]
  },
  {
   "cell_type": "markdown",
   "metadata": {},
   "source": [
    "## 【031】 JOI 2012 予選 5 - イルミネーション\n",
    "https://atcoder.jp/contests/joi2012yo/tasks/joi2012yo_e"
   ]
  },
  {
   "cell_type": "code",
   "execution_count": 15,
   "metadata": {},
   "outputs": [
    {
     "name": "stdout",
     "output_type": "stream",
     "text": [
      "56\n"
     ]
    }
   ],
   "source": [
    "from collections import deque\n",
    "\n",
    "W, H = map(int, input().split())\n",
    "build = [[0]*(W+2)] + [[0] + list(map(int, input().split())) + [0] for _ in range(H)] + [[0]*(W+2)]\n",
    "\n",
    "dxy_odd = [(0, -1), (1, -1), (1,0), (-1,0), (0, 1), (1, 1)]\n",
    "dxy_even = [(-1, -1), (0, -1), (1,0), (-1,0), (-1, 1), (0, 1)]\n",
    "\n",
    "ans = 0\n",
    "check = [[False]*(W+2) for _ in range(H+2)]\n",
    "q = deque()\n",
    "q.append([0, 0])\n",
    "\n",
    "while q:\n",
    "    x, y = q.popleft()\n",
    "#     print(\"▼[x,y]:{}\".format([x,y]))\n",
    "    if check[y][x] == True:\n",
    "        continue\n",
    "    check[y][x] = True\n",
    "    if y%2 == 0:\n",
    "        dxy = dxy_even\n",
    "    else:\n",
    "        dxy = dxy_odd\n",
    "    for dx, dy in dxy:\n",
    "        nx = x + dx\n",
    "        ny = y + dy\n",
    "        if nx < 0 or nx >= W+2 or ny < 0 or ny >= H+2:\n",
    "            continue\n",
    "        if check[ny][nx] == True:\n",
    "            continue\n",
    "#         print(\" ▼[nx,ny]:{}\".format([nx,ny]))\n",
    "        if build[ny][nx] == 1:\n",
    "            ans += 1\n",
    "        else:\n",
    "            q.append([nx, ny])\n",
    "\n",
    "print(ans)"
   ]
  },
  {
   "cell_type": "markdown",
   "metadata": {},
   "source": [
    "## 【032】 AOJ 1166 - 迷図と命ず\n",
    "https://judge.u-aizu.ac.jp/onlinejudge/description.jsp?id=1166&lang=jp"
   ]
  },
  {
   "cell_type": "code",
   "execution_count": 11,
   "metadata": {},
   "outputs": [
    {
     "name": "stdin",
     "output_type": "stream",
     "text": [
      " 9 4\n",
      "  1 0 1 0 0 0 0 0\n",
      " 0 1 1 0 1 1 0 0 0\n",
      "  1 0 1 1 0 0 0 0\n",
      " 0 0 0 0 0 0 0 1 1\n",
      "  0 0 0 1 0 0 1 1\n",
      " 0 0 0 0 1 1 0 0 0\n",
      "  0 0 0 0 0 0 1 0\n"
     ]
    },
    {
     "name": "stdout",
     "output_type": "stream",
     "text": [
      "-1\n"
     ]
    },
    {
     "name": "stdin",
     "output_type": "stream",
     "text": [
      " 0 0\n"
     ]
    }
   ],
   "source": [
    "from collections import deque\n",
    "\n",
    "while True:\n",
    "    W, H = map(int, input().split())\n",
    "    if [W, H] == [0, 0]:\n",
    "        break\n",
    "    wall = []\n",
    "    for i in range(2*H-1):\n",
    "        if i%2 == 0:\n",
    "            wall.append(list(input())+[\" \"])\n",
    "        else:\n",
    "            wall.append(list(input()))\n",
    "    dxy = [(-1, 0), (1, 0), (0, 1), (0, -1)]\n",
    "    cnt = [[0]*(2*W-1) for _ in range(2*H-1)]\n",
    "    cnt[0][0] = 1\n",
    "    q = deque()\n",
    "    q.append([0, 0])\n",
    "    \n",
    "    while q:\n",
    "        x, y = q.popleft()\n",
    "#         print(\"▼[x,y]:{}\".format([x,y]))\n",
    "        for dx, dy in dxy:\n",
    "            nx = x + dx\n",
    "            ny = y + dy\n",
    "            nx2 = x + 2*dx\n",
    "            ny2 = y + 2*dy\n",
    "\n",
    "            if nx < 0 or nx >= 2*W-1 or ny < 0 or ny >= 2*H-1:\n",
    "                continue\n",
    "            if cnt[ny2][nx2] != 0:\n",
    "                continue\n",
    "#             print(\" ▼[nx,ny]:{}\".format([nx,ny]))\n",
    "            if wall[ny][nx] == \"0\":\n",
    "                q.append([nx2, ny2])\n",
    "                cnt[ny2][nx2] = cnt[y][x] + 1\n",
    "      \n",
    "    print(cnt[-1][-1])"
   ]
  },
  {
   "cell_type": "markdown",
   "metadata": {},
   "source": [
    "## 【033】 AtCoder Beginner Contest 088 D - Grid Repainting\n",
    "https://atcoder.jp/contests/abc088/tasks/abc088_d"
   ]
  },
  {
   "cell_type": "code",
   "execution_count": 15,
   "metadata": {},
   "outputs": [
    {
     "name": "stdout",
     "output_type": "stream",
     "text": [
      "209\n"
     ]
    }
   ],
   "source": [
    "from collections import deque\n",
    "\n",
    "H, W = map(int, input().split())\n",
    "maze = []\n",
    "wall_cnt = 0\n",
    "for i in range(H):\n",
    "    tmp = list(input())\n",
    "    wall_cnt += tmp.count(\"#\")\n",
    "    maze.append(tmp)\n",
    "\n",
    "dxy = [(-1, 0), (1, 0), (0, 1), (0, -1)]\n",
    "cnt = [[0]*W for _ in range(H)]\n",
    "cnt[0][0] = 1\n",
    "q = deque()\n",
    "q.append([0, 0])\n",
    "\n",
    "while q:\n",
    "    x, y = q.popleft()\n",
    "#         print(\"▼[x,y]:{}\".format([x,y]))\n",
    "    for dx, dy in dxy:\n",
    "        nx = x + dx\n",
    "        ny = y + dy\n",
    "        if nx < 0 or nx >= W or ny < 0 or ny >= H:\n",
    "            continue\n",
    "        if cnt[ny][nx] != 0:\n",
    "            continue\n",
    "#             print(\" ▼[nx,ny]:{}\".format([nx,ny]))\n",
    "        if maze[ny][nx] == \".\":\n",
    "            q.append([nx, ny])\n",
    "            cnt[ny][nx] = cnt[y][x] + 1\n",
    "\n",
    "if cnt[-1][-1] == 0:\n",
    "    ans = -1\n",
    "else:\n",
    "    ans = H*W - wall_cnt - cnt[-1][-1]            \n",
    "print(ans)"
   ]
  }
 ],
 "metadata": {
  "kernelspec": {
   "display_name": "Python 3",
   "language": "python",
   "name": "python3"
  },
  "language_info": {
   "codemirror_mode": {
    "name": "ipython",
    "version": 3
   },
   "file_extension": ".py",
   "mimetype": "text/x-python",
   "name": "python",
   "nbconvert_exporter": "python",
   "pygments_lexer": "ipython3",
   "version": "3.6.5"
  },
  "toc-autonumbering": false,
  "toc-showcode": false,
  "toc-showmarkdowntxt": false
 },
 "nbformat": 4,
 "nbformat_minor": 4
}

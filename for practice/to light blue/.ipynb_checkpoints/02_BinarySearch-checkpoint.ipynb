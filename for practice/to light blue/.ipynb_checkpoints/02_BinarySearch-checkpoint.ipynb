{
 "cells": [
  {
   "cell_type": "markdown",
   "metadata": {},
   "source": [
    "# 二分探索"
   ]
  },
  {
   "cell_type": "markdown",
   "metadata": {},
   "source": [
    "## 【018】 ALDS_4_B - 二分探索\n",
    "https://judge.u-aizu.ac.jp/onlinejudge/description.jsp?id=ALDS1_4_B&lang=ja"
   ]
  },
  {
   "cell_type": "code",
   "execution_count": 2,
   "metadata": {},
   "outputs": [
    {
     "name": "stdin",
     "output_type": "stream",
     "text": [
      " 15\n",
      " 0 0 1 1 2 2 3 3 3 5 6 6 8 9 9\n",
      " 10\n",
      " 8 4 6 5 0 2 1 7 9 3\n"
     ]
    },
    {
     "name": "stdout",
     "output_type": "stream",
     "text": [
      "15\n"
     ]
    }
   ],
   "source": [
    "from bisect import bisect_left, bisect_right\n",
    "\n",
    "N = int(input())\n",
    "S = list(map(int, input().split()))\n",
    "Q = int(input())\n",
    "T = list(map(int, input().split()))\n",
    "\n",
    "ans = 0\n",
    "for t in T:\n",
    "    ans += min(bisect_right(S, t) - bisect_left(S, t), 1)\n",
    "\n",
    "print(ans)"
   ]
  },
  {
   "cell_type": "markdown",
   "metadata": {},
   "source": [
    "## 【019】 JOI 2009 本選 2 - ピザ\n",
    "https://atcoder.jp/contests/joi2009ho/tasks/joi2009ho_b"
   ]
  },
  {
   "cell_type": "code",
   "execution_count": 10,
   "metadata": {},
   "outputs": [
    {
     "name": "stdin",
     "output_type": "stream",
     "text": [
      " 8\n",
      " 3\n",
      " 2\n",
      " 3\n",
      " 1\n",
      " 4\n",
      " 6\n"
     ]
    },
    {
     "name": "stdout",
     "output_type": "stream",
     "text": [
      "3\n"
     ]
    }
   ],
   "source": [
    "from bisect import bisect_left, bisect_right\n",
    "\n",
    "d = int(input())\n",
    "n = int(input())\n",
    "m = int(input())\n",
    "D = [int(input()) for _ in range(n-1)]\n",
    "D = [0] + sorted(D) + [d]\n",
    "\n",
    "ans = 0\n",
    "for _ in range(m):\n",
    "    k = int(input())\n",
    "    ans += min(D[bisect_right(D,k)]-k, k - D[bisect_right(D,k)-1])\n",
    "\n",
    "print(ans)"
   ]
  },
  {
   "cell_type": "markdown",
   "metadata": {},
   "source": [
    "## 【020】 AtCoder Beginner Contest 077 C - Snuke Festival\n",
    "https://atcoder.jp/contests/abc077/tasks/arc084_a"
   ]
  },
  {
   "cell_type": "code",
   "execution_count": 15,
   "metadata": {},
   "outputs": [
    {
     "name": "stdin",
     "output_type": "stream",
     "text": [
      " 2\n",
      " 1 5\n",
      " 2 4\n",
      " 3 6\n"
     ]
    },
    {
     "name": "stdout",
     "output_type": "stream",
     "text": [
      "3\n"
     ]
    }
   ],
   "source": [
    "from bisect import bisect_left, bisect_right\n",
    "\n",
    "N = int(input())\n",
    "A = sorted(list(map(int, input().split())))\n",
    "B = sorted(list(map(int, input().split())))\n",
    "C = sorted(list(map(int, input().split())))\n",
    "\n",
    "lst = [0]*N\n",
    "ans = 0\n",
    "for i in range(N):\n",
    "    lst[i] = bisect_left(A, B[i])\n",
    "    if i != 0:\n",
    "        lst[i] += lst[i-1]\n",
    "lst = [0] + lst\n",
    "for i in range(N):\n",
    "    ans += lst[bisect_left(B, C[i])]\n",
    "\n",
    "print(ans)"
   ]
  }
 ],
 "metadata": {
  "kernelspec": {
   "display_name": "Python 3",
   "language": "python",
   "name": "python3"
  },
  "language_info": {
   "codemirror_mode": {
    "name": "ipython",
    "version": 3
   },
   "file_extension": ".py",
   "mimetype": "text/x-python",
   "name": "python",
   "nbconvert_exporter": "python",
   "pygments_lexer": "ipython3",
   "version": "3.6.5"
  },
  "toc-autonumbering": false,
  "toc-showcode": false,
  "toc-showmarkdowntxt": false
 },
 "nbformat": 4,
 "nbformat_minor": 4
}

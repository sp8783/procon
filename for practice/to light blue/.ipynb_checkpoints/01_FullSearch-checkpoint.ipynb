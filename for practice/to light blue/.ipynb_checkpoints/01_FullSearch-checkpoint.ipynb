{
 "cells": [
  {
   "cell_type": "markdown",
   "metadata": {},
   "source": [
    "# 【001】 ITP1_7_B - How Many Ways?\n",
    "https://judge.u-aizu.ac.jp/onlinejudge/description.jsp?id=ITP1_7_B&lang=ja"
   ]
  },
  {
   "cell_type": "code",
   "execution_count": 3,
   "metadata": {},
   "outputs": [
    {
     "name": "stdin",
     "output_type": "stream",
     "text": [
      " 5 9\n"
     ]
    },
    {
     "name": "stdout",
     "output_type": "stream",
     "text": [
      "2\n"
     ]
    },
    {
     "name": "stdin",
     "output_type": "stream",
     "text": [
      " 0 0\n"
     ]
    }
   ],
   "source": [
    "import itertools\n",
    "\n",
    "while True:\n",
    "    n, x = map(int, input().split())\n",
    "    if [n,x] == [0,0]:\n",
    "        break\n",
    "    ans = 0\n",
    "    L = list(range(1,n+1))\n",
    "    for l in itertools.combinations(L,3):\n",
    "        if sum(l) == x:\n",
    "            ans += 1\n",
    "    print(ans)"
   ]
  },
  {
   "cell_type": "markdown",
   "metadata": {},
   "source": [
    "# 【002】 AtCoder Beginner Contest 106 B - 105\n",
    "https://atcoder.jp/contests/abc106/tasks/abc106_b"
   ]
  },
  {
   "cell_type": "code",
   "execution_count": 11,
   "metadata": {},
   "outputs": [
    {
     "name": "stdin",
     "output_type": "stream",
     "text": [
      " 105\n"
     ]
    },
    {
     "name": "stdout",
     "output_type": "stream",
     "text": [
      "1\n"
     ]
    }
   ],
   "source": [
    "n = int(input())\n",
    "\n",
    "def divisor(n): \n",
    "    i = 1\n",
    "    table = []\n",
    "    while i * i <= n:\n",
    "        if n%i == 0:\n",
    "            table.append(i)\n",
    "            table.append(n//i)\n",
    "        i += 1\n",
    "    table = list(set(table))\n",
    "    return table\n",
    "\n",
    "ans = 0\n",
    "for i in range(1,n+1,2):\n",
    "    if len(divisor(i)) == 8:\n",
    "        ans += 1\n",
    "    \n",
    "print(ans)"
   ]
  },
  {
   "cell_type": "markdown",
   "metadata": {},
   "source": [
    "# 【003】AtCoder Beginner Contest 122 B - ATCoder\n",
    "https://atcoder.jp/contests/abc122/tasks/abc122_b"
   ]
  },
  {
   "cell_type": "code",
   "execution_count": 18,
   "metadata": {},
   "outputs": [
    {
     "name": "stdin",
     "output_type": "stream",
     "text": [
      " ATCD\n"
     ]
    },
    {
     "name": "stdout",
     "output_type": "stream",
     "text": [
      "3\n"
     ]
    }
   ],
   "source": [
    "S = list(input())\n",
    "ans = 0\n",
    "tot = 0\n",
    "for s in S:\n",
    "    if s in [\"A\",\"C\",\"G\",\"T\"]:\n",
    "        tot += 1\n",
    "    else:\n",
    "        ans = max(ans, tot)\n",
    "        tot = 0\n",
    "ans = max(ans, tot)\n",
    "print(ans)"
   ]
  }
 ],
 "metadata": {
  "kernelspec": {
   "display_name": "Python 3",
   "language": "python",
   "name": "python3"
  },
  "language_info": {
   "codemirror_mode": {
    "name": "ipython",
    "version": 3
   },
   "file_extension": ".py",
   "mimetype": "text/x-python",
   "name": "python",
   "nbconvert_exporter": "python",
   "pygments_lexer": "ipython3",
   "version": "3.6.5"
  }
 },
 "nbformat": 4,
 "nbformat_minor": 4
}

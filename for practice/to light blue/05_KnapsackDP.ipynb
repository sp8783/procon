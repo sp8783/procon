{
 "cells": [
  {
   "cell_type": "markdown",
   "metadata": {},
   "source": [
    "# ナップザックDP"
   ]
  },
  {
   "cell_type": "markdown",
   "metadata": {},
   "source": [
    "## 【034】 ALDS_10_A - フィボナッチ数\n",
    "https://judge.u-aizu.ac.jp/onlinejudge/description.jsp?id=ALDS1_10_A&lang=ja"
   ]
  },
  {
   "cell_type": "code",
   "execution_count": 2,
   "metadata": {},
   "outputs": [
    {
     "name": "stdin",
     "output_type": "stream",
     "text": [
      " 44\n"
     ]
    },
    {
     "name": "stdout",
     "output_type": "stream",
     "text": [
      "1134903170\n"
     ]
    }
   ],
   "source": [
    "N = int(input())\n",
    "dp = [0]*50\n",
    "\n",
    "dp[0] = 1\n",
    "dp[1] = 1\n",
    "\n",
    "for i in range(48):\n",
    "    dp[i+2] = dp[i] + dp[i+1]\n",
    "\n",
    "ans = dp[N]\n",
    "print(ans)"
   ]
  },
  {
   "cell_type": "markdown",
   "metadata": {},
   "source": [
    "## 【035】 DPL_1_B - 0,1ナップザック問題\n",
    "https://judge.u-aizu.ac.jp/onlinejudge/description.jsp?id=DPL_1_B&lang=ja"
   ]
  },
  {
   "cell_type": "code",
   "execution_count": 12,
   "metadata": {},
   "outputs": [
    {
     "name": "stdin",
     "output_type": "stream",
     "text": [
      " 4 5\n",
      " 4 2\n",
      " 5 2\n",
      " 2 1\n",
      " 8 3\n"
     ]
    },
    {
     "name": "stdout",
     "output_type": "stream",
     "text": [
      "13\n"
     ]
    }
   ],
   "source": [
    "N, W = map(int, input().split())\n",
    "item = [list(map(int, input().split())) for _ in range(N)]\n",
    "\n",
    "dp = [[0]*(W+1) for _ in range(N+1)]\n",
    "\n",
    "for i in range(1,N+1):\n",
    "    for j in range(1,W+1):\n",
    "        if j - item[i-1][1] >= 0:\n",
    "            dp[i][j] = max(dp[i-1][j], dp[i-1][j-item[i-1][1]] + item[i-1][0])\n",
    "        else:\n",
    "            dp[i][j] = dp[i-1][j]\n",
    "ans = dp[-1][-1]\n",
    "print(ans)"
   ]
  },
  {
   "cell_type": "markdown",
   "metadata": {},
   "source": [
    "## 【036】 DPL_1_C - ナップザック問題\n",
    "https://judge.u-aizu.ac.jp/onlinejudge/description.jsp?id=DPL_1_C&lang=ja"
   ]
  },
  {
   "cell_type": "code",
   "execution_count": 1,
   "metadata": {},
   "outputs": [
    {
     "name": "stdin",
     "output_type": "stream",
     "text": [
      " 4 8\n",
      " 4 2\n",
      " 5 2\n",
      " 2 1\n",
      " 8 3\n"
     ]
    },
    {
     "name": "stdout",
     "output_type": "stream",
     "text": [
      "21\n"
     ]
    }
   ],
   "source": [
    "N, W = map(int, input().split())\n",
    "item = [list(map(int, input().split())) for _ in range(N)]\n",
    "\n",
    "dp = [[0]*(W+1) for _ in range(N+1)]\n",
    "\n",
    "for i in range(1,N+1):\n",
    "    for j in range(1,W+1):\n",
    "        if j - item[i-1][1] >= 0:\n",
    "            dp[i][j] = max(dp[i-1][j], dp[i-1][j-item[i-1][1]] + item[i-1][0], dp[i][j-item[i-1][1]] + item[i-1][0])\n",
    "        else:\n",
    "            dp[i][j] = dp[i-1][j]\n",
    "ans = dp[-1][-1]\n",
    "print(ans)"
   ]
  },
  {
   "cell_type": "code",
   "execution_count": null,
   "metadata": {},
   "outputs": [],
   "source": []
  }
 ],
 "metadata": {
  "kernelspec": {
   "display_name": "Python 3",
   "language": "python",
   "name": "python3"
  },
  "language_info": {
   "codemirror_mode": {
    "name": "ipython",
    "version": 3
   },
   "file_extension": ".py",
   "mimetype": "text/x-python",
   "name": "python",
   "nbconvert_exporter": "python",
   "pygments_lexer": "ipython3",
   "version": "3.6.5"
  },
  "toc-autonumbering": false,
  "toc-showcode": false,
  "toc-showmarkdowntxt": false
 },
 "nbformat": 4,
 "nbformat_minor": 4
}

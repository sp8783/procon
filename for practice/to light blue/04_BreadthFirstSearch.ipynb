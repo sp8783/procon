{
 "cells": [
  {
   "cell_type": "markdown",
   "metadata": {},
   "source": [
    "# 幅優先探索（BFS）"
   ]
  },
  {
   "cell_type": "markdown",
   "metadata": {},
   "source": [
    "## 【028】 ALDS_11_C - 幅優先探索\n",
    "https://judge.u-aizu.ac.jp/onlinejudge/description.jsp?id=ALDS1_11_C&lang=ja"
   ]
  },
  {
   "cell_type": "code",
   "execution_count": 16,
   "metadata": {},
   "outputs": [
    {
     "name": "stdout",
     "output_type": "stream",
     "text": [
      "1 0\n",
      "2 1\n",
      "3 2\n",
      "4 1\n"
     ]
    }
   ],
   "source": [
    "from collections import deque\n",
    "\n",
    "N = int(input())\n",
    "adj = [[] for _ in range(N)]\n",
    "for _ in range(N):\n",
    "    u, k, *v = list(map(int, input().split()))\n",
    "    v.sort()\n",
    "    for i in v:\n",
    "        adj[u-1].append(i-1)\n",
    "\n",
    "ans = [-1]*N\n",
    "ans[0] = 0\n",
    "\n",
    "q = deque()\n",
    "q.append(0)\n",
    "\n",
    "while q:\n",
    "    v = q.popleft()\n",
    "    for nv in adj[v]:\n",
    "        if ans[nv] == -1:\n",
    "            ans[nv] = ans[v] + 1\n",
    "            q.append(nv)\n",
    "        \n",
    "for i in range(N):\n",
    "    print(\"{} {}\".format(i+1, ans[i]))"
   ]
  },
  {
   "cell_type": "markdown",
   "metadata": {},
   "source": [
    "## 【029】 AtCoder Beginner Contest 007 C - 幅優先探索\n",
    "https://atcoder.jp/contests/abc007/tasks/abc007_3"
   ]
  },
  {
   "cell_type": "code",
   "execution_count": 3,
   "metadata": {},
   "outputs": [
    {
     "name": "stdout",
     "output_type": "stream",
     "text": [
      "10\n"
     ]
    }
   ],
   "source": [
    "from collections import deque\n",
    "\n",
    "R, C = map(int, input().split())\n",
    "sy, sx = map(lambda x:int(x)-1, input().split())\n",
    "gy, gx = map(lambda x:int(x)-1, input().split())\n",
    "maze = [list(input()) for _ in range(R)]\n",
    "\n",
    "cnt = [[-1]*C for _ in range(R)]\n",
    "cnt[sy][sx] = 0\n",
    "dxy = [(1,0), (0,1), (-1,0), (0,-1)]\n",
    "\n",
    "q = deque()\n",
    "q.append([sx, sy])\n",
    "\n",
    "while q:\n",
    "    x, y = q.popleft()\n",
    "    for dx, dy in dxy:\n",
    "        nx = x + dx\n",
    "        ny = y + dy\n",
    "        if maze[ny][nx] == \"#\":\n",
    "            continue\n",
    "        if cnt[ny][nx] != -1:\n",
    "            continue\n",
    "        cnt[ny][nx] = cnt[y][x] + 1\n",
    "        q.append([nx, ny])\n",
    "        \n",
    "print(cnt[gy][gx])"
   ]
  }
 ],
 "metadata": {
  "kernelspec": {
   "display_name": "Python 3",
   "language": "python",
   "name": "python3"
  },
  "language_info": {
   "codemirror_mode": {
    "name": "ipython",
    "version": 3
   },
   "file_extension": ".py",
   "mimetype": "text/x-python",
   "name": "python",
   "nbconvert_exporter": "python",
   "pygments_lexer": "ipython3",
   "version": "3.6.5"
  },
  "toc-autonumbering": false,
  "toc-showcode": false,
  "toc-showmarkdowntxt": false
 },
 "nbformat": 4,
 "nbformat_minor": 4
}

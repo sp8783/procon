{
 "cells": [
  {
   "cell_type": "markdown",
   "metadata": {},
   "source": [
    "# B問題"
   ]
  },
  {
   "cell_type": "code",
   "execution_count": null,
   "metadata": {},
   "outputs": [],
   "source": [
    "import itertools\n",
    "\n",
    "lst = []\n",
    "while True:\n",
    "    try:\n",
    "        lst.append(list(map(int, input().split())))\n",
    "    except:\n",
    "        break;\n",
    "\n",
    "for n, x in lst:\n",
    "    if n == 0 and x == 0:\n",
    "        exit()\n",
    "    else:\n",
    "        L_comb = itertools.combinations(list(range(1,n+1)),3)\n",
    "        ans = 0\n",
    "        for a,b,c in L_comb:\n",
    "            if a + b + c == x:\n",
    "                ans += 1\n",
    "        print(ans)"
   ]
  }
 ],
 "metadata": {
  "kernelspec": {
   "display_name": "Python 3",
   "language": "python",
   "name": "python3"
  },
  "language_info": {
   "codemirror_mode": {
    "name": "ipython",
    "version": 3
   },
   "file_extension": ".py",
   "mimetype": "text/x-python",
   "name": "python",
   "nbconvert_exporter": "python",
   "pygments_lexer": "ipython3",
   "version": "3.6.5"
  }
 },
 "nbformat": 4,
 "nbformat_minor": 4
}

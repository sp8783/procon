{
 "cells": [
  {
   "cell_type": "markdown",
   "metadata": {},
   "source": [
    "# A問題"
   ]
  },
  {
   "cell_type": "code",
   "execution_count": 42,
   "metadata": {},
   "outputs": [
    {
     "name": "stdin",
     "output_type": "stream",
     "text": [
      " 65 6\n",
      " 1 2 7 8 12 50\n"
     ]
    },
    {
     "name": "stdout",
     "output_type": "stream",
     "text": [
      "3\n"
     ]
    }
   ],
   "source": [
    "n, m = map(int, input().split())\n",
    "C = list(map(int, input().split()))\n",
    "\n",
    "inf = float(\"inf\")\n",
    "dp = [0] + [inf]*n\n",
    "\n",
    "for i in range(1,n+1):\n",
    "    for c in C:\n",
    "        if i - c >= 0:\n",
    "            dp[i] = min(dp[i-1] + 1, dp[i-c] + 1, dp[i])\n",
    "\n",
    "print(dp[n])"
   ]
  },
  {
   "cell_type": "markdown",
   "metadata": {},
   "source": [
    "# B問題"
   ]
  },
  {
   "cell_type": "code",
   "execution_count": 24,
   "metadata": {},
   "outputs": [
    {
     "name": "stdin",
     "output_type": "stream",
     "text": [
      " 4 5\n",
      " 4 2\n",
      " 5 2\n",
      " 2 1\n",
      " 8 3\n"
     ]
    },
    {
     "name": "stdout",
     "output_type": "stream",
     "text": [
      "13\n"
     ]
    }
   ],
   "source": [
    "n, w = map(int, input().split())\n",
    "lst = [list(map(int, input().split())) for _ in range(n)]\n",
    "\n",
    "inf = float(\"inf\")\n",
    "\n",
    "dp = [[0] + [inf]*w for _ in range(n+1)]\n",
    "dp[0] = [0]*(w+1)\n",
    "\n",
    "for i in range(1,n+1):\n",
    "    for j in range(1,w+1):\n",
    "        if j - lst[i-1][1] >= 0:\n",
    "            dp[i][j] = max(dp[i-1][j], dp[i-1][j-lst[i-1][1]] + lst[i-1][0])\n",
    "        else:\n",
    "            dp[i][j] = dp[i-1][j]\n",
    "    \n",
    "print(dp[n][w])   "
   ]
  },
  {
   "cell_type": "markdown",
   "metadata": {},
   "source": [
    "# C問題"
   ]
  },
  {
   "cell_type": "code",
   "execution_count": 17,
   "metadata": {},
   "outputs": [
    {
     "name": "stdout",
     "output_type": "stream",
     "text": [
      "1251\n"
     ]
    }
   ],
   "source": [
    "n, w = map(int, input().split())\n",
    "lst = [list(map(int, input().split())) for _ in range(n)]\n",
    "\n",
    "inf = float(\"inf\")\n",
    "\n",
    "dp = [[0] + [inf]*w for _ in range(n+1)]\n",
    "dp[0] = [0]*(w+1)\n",
    "\n",
    "for i in range(1,n+1):\n",
    "    for j in range(1,w+1):\n",
    "        if j - lst[i-1][1] >= 0:\n",
    "            dp[i][j] = max(dp[i-1][j], dp[i-1][j-lst[i-1][1]] + lst[i-1][0], dp[i][j-lst[i-1][1]] + lst[i-1][0])\n",
    "        else:\n",
    "            dp[i][j] = dp[i-1][j]\n",
    "    \n",
    "print(dp[n][w])    "
   ]
  },
  {
   "cell_type": "markdown",
   "metadata": {},
   "source": [
    "# D問題"
   ]
  },
  {
   "cell_type": "code",
   "execution_count": 1,
   "metadata": {},
   "outputs": [
    {
     "name": "stdin",
     "output_type": "stream",
     "text": [
      " 5\n",
      " 5\n",
      " 1\n",
      " 3\n",
      " 2\n",
      " 4\n"
     ]
    },
    {
     "name": "stdout",
     "output_type": "stream",
     "text": [
      "3\n"
     ]
    }
   ],
   "source": [
    "import bisect\n",
    "\n",
    "n = int(input())\n",
    "lst = [int(input()) for _ in range(n)]\n",
    "\n",
    "dp = [lst[0]]\n",
    "for i in range(len(lst)):\n",
    "    if lst[i] > dp[-1]:\n",
    "        dp.append(lst[i])\n",
    "    else:\n",
    "        dp[bisect.bisect_left(dp, lst[i])] = lst[i]\n",
    "        \n",
    "print(len(dp))"
   ]
  }
 ],
 "metadata": {
  "kernelspec": {
   "display_name": "Python 3",
   "language": "python",
   "name": "python3"
  },
  "language_info": {
   "codemirror_mode": {
    "name": "ipython",
    "version": 3
   },
   "file_extension": ".py",
   "mimetype": "text/x-python",
   "name": "python",
   "nbconvert_exporter": "python",
   "pygments_lexer": "ipython3",
   "version": "3.6.5"
  }
 },
 "nbformat": 4,
 "nbformat_minor": 4
}

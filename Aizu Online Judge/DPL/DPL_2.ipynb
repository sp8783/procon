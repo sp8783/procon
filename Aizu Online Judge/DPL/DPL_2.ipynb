{
 "cells": [
  {
   "cell_type": "markdown",
   "metadata": {},
   "source": [
    "# A問題"
   ]
  },
  {
   "cell_type": "code",
   "execution_count": 18,
   "metadata": {},
   "outputs": [
    {
     "name": "stdout",
     "output_type": "stream",
     "text": [
      "16\n"
     ]
    }
   ],
   "source": [
    "V, E = map(int, input().split())\n",
    "inf = float(\"inf\")\n",
    "cost = [[inf]*V for _ in range(V)] # 頂点間に辺が存在しない場合、infで定義する（）\n",
    "for i in range(E):\n",
    "    s, t, d = map(int, input().split())\n",
    "    cost[s][t] = d\n",
    "\n",
    "dp = [[-1]*V for _ in range(2**V)]\n",
    "\n",
    "def dfs(S, v, dp):\n",
    "    if dp[S][v] != -1: # 訪問済みならメモを返す\n",
    "        return dp[S][v]\n",
    "    if S == 2**V - 1 and v == 0: # すべての頂点を訪れて頂点0に戻ってきた\n",
    "        return 0 # もう動かなくて良い\n",
    "    \n",
    "    res = inf\n",
    "    for u in range(V):\n",
    "        if S >> u & 1 == 0: # 未訪問かどうか\n",
    "            res = min(res, dfs(S|1<<u, u, dp) + cost[v][u])\n",
    "    dp[S][v] = res\n",
    "    return res\n",
    "            \n",
    "ans = dfs(0, 0, dp)\n",
    "if ans == inf:\n",
    "    print(-1)\n",
    "else:\n",
    "    print(ans)"
   ]
  }
 ],
 "metadata": {
  "kernelspec": {
   "display_name": "Python 3",
   "language": "python",
   "name": "python3"
  },
  "language_info": {
   "codemirror_mode": {
    "name": "ipython",
    "version": 3
   },
   "file_extension": ".py",
   "mimetype": "text/x-python",
   "name": "python",
   "nbconvert_exporter": "python",
   "pygments_lexer": "ipython3",
   "version": "3.6.5"
  }
 },
 "nbformat": 4,
 "nbformat_minor": 4
}

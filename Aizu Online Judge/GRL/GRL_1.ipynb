{
 "cells": [
  {
   "cell_type": "markdown",
   "metadata": {},
   "source": [
    "# A問題"
   ]
  },
  {
   "cell_type": "code",
   "execution_count": 6,
   "metadata": {},
   "outputs": [
    {
     "name": "stdout",
     "output_type": "stream",
     "text": [
      "0\n",
      "1\n",
      "2\n",
      "4\n",
      "3\n"
     ]
    }
   ],
   "source": [
    "from heapq import heappush, heappop\n",
    "\n",
    "V, E, r = map(int, input().split())\n",
    "adj = [[] for _ in range(V)]\n",
    "for _ in range(E):\n",
    "    s, t, d = map(int, input().split())\n",
    "    adj[s].append((t,d))\n",
    "\n",
    "inf = float(\"inf\")\n",
    "dp = [inf]*V\n",
    "dp[r] = 0\n",
    "hq = [(r, 0)]\n",
    "\n",
    "while hq:\n",
    "    v = heappop(hq)[0]\n",
    "    for to, cost in adj[v]:\n",
    "        if dp[v] + cost < dp[to]:\n",
    "            dp[to] = dp[v] + cost\n",
    "            heappush(hq, (to, dp[to]))\n",
    "\n",
    "for i in range(V):\n",
    "    if dp[i] == inf:\n",
    "        print(\"INF\")\n",
    "    else:\n",
    "        print(dp[i])"
   ]
  },
  {
   "cell_type": "markdown",
   "metadata": {},
   "source": [
    "# C問題"
   ]
  },
  {
   "cell_type": "code",
   "execution_count": 6,
   "metadata": {},
   "outputs": [
    {
     "name": "stdout",
     "output_type": "stream",
     "text": [
      "NEGATIVE CYCLE\n"
     ]
    }
   ],
   "source": [
    "V, E = map(int, input().split())\n",
    "\n",
    "inf = float(\"inf\")\n",
    "dist = [[inf]*V for _ in range(V)]\n",
    "\n",
    "for i in range(V):\n",
    "    dist[i][i] = 0\n",
    "\n",
    "for _ in range(E):\n",
    "    s, t, d = map(int, input().split())\n",
    "    dist[s][t] = d\n",
    "\n",
    "for k in range(V):\n",
    "    for i in range(V):\n",
    "        for j in range(V):\n",
    "            if dist[i][j] > dist[i][k] + dist[k][j]:\n",
    "                dist[i][j] = dist[i][k] + dist[k][j]\n",
    "\n",
    "flag = True\n",
    "for i in range(V):\n",
    "    if dist[i][i] < 0:\n",
    "        print(\"NEGATIVE CYCLE\")\n",
    "        flag = False\n",
    "        break\n",
    "\n",
    "if flag:\n",
    "    for i in range(V):\n",
    "        ans = []\n",
    "        for j in range(V):\n",
    "            if dist[i][j] == inf:\n",
    "                ans.append(\"INF\")\n",
    "            else:\n",
    "                ans.append(dist[i][j])\n",
    "        print(*ans)"
   ]
  }
 ],
 "metadata": {
  "kernelspec": {
   "display_name": "Python 3",
   "language": "python",
   "name": "python3"
  },
  "language_info": {
   "codemirror_mode": {
    "name": "ipython",
    "version": 3
   },
   "file_extension": ".py",
   "mimetype": "text/x-python",
   "name": "python",
   "nbconvert_exporter": "python",
   "pygments_lexer": "ipython3",
   "version": "3.6.5"
  }
 },
 "nbformat": 4,
 "nbformat_minor": 4
}

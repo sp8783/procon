{
 "cells": [
  {
   "cell_type": "markdown",
   "metadata": {},
   "source": [
    "# B問題"
   ]
  },
  {
   "cell_type": "code",
   "execution_count": 3,
   "metadata": {},
   "outputs": [
    {
     "name": "stdin",
     "output_type": "stream",
     "text": [
      " 4\n",
      " 1 1 2\n",
      " 2 1 4\n",
      " 3 0\n",
      " 4 1 3\n"
     ]
    },
    {
     "name": "stdout",
     "output_type": "stream",
     "text": [
      "1 1 8\n",
      "2 2 7\n",
      "3 4 5\n",
      "4 3 6\n"
     ]
    }
   ],
   "source": [
    "from collections import deque\n",
    "\n",
    "N = int(input())\n",
    "graph = [deque([]) for _ in range(N+1)]\n",
    "for _ in range(N):\n",
    "    u, k, *v = list(map(int, input().split()))\n",
    "    v.sort()\n",
    "    for i in v:\n",
    "        graph[u].append(i)\n",
    "\n",
    "time = 0\n",
    "start = [-1] * (N+1)\n",
    "end = [-1] * (N+1)\n",
    "\n",
    "def dfs(v):\n",
    "    global time\n",
    "    time += 1\n",
    "    stack = [v]\n",
    "    start[v] = time\n",
    "    while stack:\n",
    "        v = stack[-1]\n",
    "        if graph[v]:\n",
    "            w = graph[v].popleft()\n",
    "            if start[w] == -1:\n",
    "                time += 1\n",
    "                start[w] = time\n",
    "                stack.append(w)\n",
    "        else:\n",
    "            time += 1\n",
    "            end[v] = time\n",
    "            stack.pop()\n",
    "    return [start, end]\n",
    "\n",
    "for i in range(N):\n",
    "    if start[i + 1] == -1:\n",
    "        ans = dfs(i+1)\n",
    "\n",
    "for j in range(N):\n",
    "    tmp = [j+1, ans[0][j+1], ans[1][j+1]]\n",
    "    print(*tmp)"
   ]
  },
  {
   "cell_type": "markdown",
   "metadata": {},
   "source": [
    "# C問題"
   ]
  },
  {
   "cell_type": "code",
   "execution_count": 14,
   "metadata": {},
   "outputs": [
    {
     "name": "stdin",
     "output_type": "stream",
     "text": [
      " 4\n",
      " 1 2 2 4\n",
      " 2 1 4\n",
      " 3 0\n",
      " 4 1 3\n"
     ]
    },
    {
     "name": "stdout",
     "output_type": "stream",
     "text": [
      "1 0\n",
      "2 1\n",
      "3 2\n",
      "4 1\n"
     ]
    }
   ],
   "source": [
    "from collections import deque\n",
    "\n",
    "n = int(input())\n",
    "edge = [deque([]) for i in range(n)]\n",
    "for i in range(n):\n",
    "    u, k, *v = list(map(int,input().split()))\n",
    "    v.sort()\n",
    "    edge[u-1] = deque(list(map(lambda x: x - 1, v)))\n",
    "\n",
    "ans = [0] + [-1]*(n-1)\n",
    "\n",
    "q = deque()\n",
    "q.append(0)\n",
    "check = [False]*n\n",
    "\n",
    "while q:\n",
    "    v = q.popleft()\n",
    "    check[v] = True\n",
    "    if edge[v]:\n",
    "        for nv in edge[v]:\n",
    "            if check[nv]:\n",
    "                continue\n",
    "            else:\n",
    "                ans[nv] = ans[v] + 1 # 幅優先探索 and 更新は初回の探索のみなので、最初のansの更新が最小値となる\n",
    "                check[nv] = True\n",
    "                q.append(nv)\n",
    "\n",
    "for i in range(n):\n",
    "    print(\"{} {}\".format(i+1, ans[i]))"
   ]
  }
 ],
 "metadata": {
  "kernelspec": {
   "display_name": "Python 3",
   "language": "python",
   "name": "python3"
  },
  "language_info": {
   "codemirror_mode": {
    "name": "ipython",
    "version": 3
   },
   "file_extension": ".py",
   "mimetype": "text/x-python",
   "name": "python",
   "nbconvert_exporter": "python",
   "pygments_lexer": "ipython3",
   "version": "3.6.5"
  }
 },
 "nbformat": 4,
 "nbformat_minor": 4
}

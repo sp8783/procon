{
 "cells": [
  {
   "cell_type": "markdown",
   "metadata": {},
   "source": [
    "# A問題"
   ]
  },
  {
   "cell_type": "code",
   "execution_count": 3,
   "metadata": {},
   "outputs": [
    {
     "name": "stdin",
     "output_type": "stream",
     "text": [
      " 5\n",
      " 1 5 7 10 21\n",
      " 4\n",
      " 2 4 17 8\n"
     ]
    },
    {
     "name": "stdout",
     "output_type": "stream",
     "text": [
      "no\n",
      "no\n",
      "yes\n",
      "yes\n"
     ]
    }
   ],
   "source": [
    "n = int(input())\n",
    "A = list(map(int, input().split()))\n",
    "q = int(input())\n",
    "M = list(map(int, input().split()))\n",
    "\n",
    "ans = [False]*2000\n",
    "for i in range(2**n):\n",
    "    total = 0\n",
    "    for j in range(n):\n",
    "        if ((i >> j) & 1):\n",
    "            total += A[j]\n",
    "    ans[total-1] = True\n",
    "\n",
    "for m in M:\n",
    "    if ans[m-1]:\n",
    "        print(\"yes\")\n",
    "    else:\n",
    "        print(\"no\")"
   ]
  }
 ],
 "metadata": {
  "kernelspec": {
   "display_name": "Python 3",
   "language": "python",
   "name": "python3"
  },
  "language_info": {
   "codemirror_mode": {
    "name": "ipython",
    "version": 3
   },
   "file_extension": ".py",
   "mimetype": "text/x-python",
   "name": "python",
   "nbconvert_exporter": "python",
   "pygments_lexer": "ipython3",
   "version": "3.6.5"
  }
 },
 "nbformat": 4,
 "nbformat_minor": 4
}

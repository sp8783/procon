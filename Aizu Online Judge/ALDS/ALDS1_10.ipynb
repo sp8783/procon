{
 "cells": [
  {
   "cell_type": "markdown",
   "metadata": {},
   "source": [
    "# A問題"
   ]
  },
  {
   "cell_type": "code",
   "execution_count": 8,
   "metadata": {},
   "outputs": [
    {
     "name": "stdin",
     "output_type": "stream",
     "text": [
      " 1\n"
     ]
    },
    {
     "name": "stdout",
     "output_type": "stream",
     "text": [
      "1\n"
     ]
    }
   ],
   "source": [
    "N = int(input())\n",
    "\n",
    "dp = [0]*(N+1)\n",
    "dp[0] = 1\n",
    "dp[1] = 1\n",
    "\n",
    "def solve(n):\n",
    "    if dp[n-2] == 0:\n",
    "        solve(n-1)\n",
    "\n",
    "    if dp[n-1] == 0:\n",
    "        solve(n-1)\n",
    "    \n",
    "    if n >= 2:\n",
    "        dp[n] = dp[n-1] + dp[n-2]\n",
    "    return\n",
    "\n",
    "solve(N)\n",
    "print(dp[N])"
   ]
  },
  {
   "cell_type": "markdown",
   "metadata": {},
   "source": [
    "# C問題"
   ]
  },
  {
   "cell_type": "code",
   "execution_count": null,
   "metadata": {},
   "outputs": [],
   "source": [
    "def lcs(s1, s2):\n",
    "    dp = []\n",
    "    for s2_k in s2:\n",
    "        bgn_idx = 0\n",
    "        for i, cur_idx in enumerate(dp):\n",
    "            chr_idx = s1.find(s2_k, bgn_idx) + 1\n",
    "            if not chr_idx:\n",
    "                break\n",
    "            dp[i] = min(cur_idx, chr_idx)\n",
    "            bgn_idx = cur_idx\n",
    "        else:\n",
    "            chr_idx = s1.find(s2_k, bgn_idx) + 1\n",
    "            if chr_idx:\n",
    "                dp.append(chr_idx)\n",
    "    return len(dp)\n",
    "\n",
    "N = int(input())\n",
    "for _ in range(N):\n",
    "    x = input()\n",
    "    y = input()\n",
    "    print(lcs(x, y))"
   ]
  },
  {
   "cell_type": "markdown",
   "metadata": {},
   "source": [
    "以下はボツコード。  \n",
    "想定解法だが、python3ではTLEとなってしまう。"
   ]
  },
  {
   "cell_type": "code",
   "execution_count": 4,
   "metadata": {},
   "outputs": [
    {
     "name": "stdout",
     "output_type": "stream",
     "text": [
      "4\n",
      "3\n",
      "2\n"
     ]
    }
   ],
   "source": [
    "q = int(input())\n",
    "\n",
    "for _ in range(q):\n",
    "    X = input()\n",
    "    Y = input()\n",
    "    \n",
    "    dp = [[0]*(len(Y)+1) for _ in range(len(X)+1)]\n",
    "    \n",
    "    for i in range(1,len(X)+1):\n",
    "        for j in range(1,len(Y)+1):\n",
    "            if X[i-1] == Y[j-1]:\n",
    "                dp[i][j] = dp[i-1][j-1] + 1\n",
    "            else:\n",
    "                dp[i][j] = max(dp[i-1][j], dp[i][j-1])\n",
    "    \n",
    "    print(dp[len(X)][len(Y)])"
   ]
  }
 ],
 "metadata": {
  "kernelspec": {
   "display_name": "Python 3",
   "language": "python",
   "name": "python3"
  },
  "language_info": {
   "codemirror_mode": {
    "name": "ipython",
    "version": 3
   },
   "file_extension": ".py",
   "mimetype": "text/x-python",
   "name": "python",
   "nbconvert_exporter": "python",
   "pygments_lexer": "ipython3",
   "version": "3.6.5"
  }
 },
 "nbformat": 4,
 "nbformat_minor": 4
}

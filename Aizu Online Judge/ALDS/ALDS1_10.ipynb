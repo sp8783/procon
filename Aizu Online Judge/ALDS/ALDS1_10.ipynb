{
 "cells": [
  {
   "cell_type": "markdown",
   "metadata": {},
   "source": [
    "# A問題"
   ]
  },
  {
   "cell_type": "code",
   "execution_count": 8,
   "metadata": {},
   "outputs": [
    {
     "name": "stdin",
     "output_type": "stream",
     "text": [
      " 1\n"
     ]
    },
    {
     "name": "stdout",
     "output_type": "stream",
     "text": [
      "1\n"
     ]
    }
   ],
   "source": [
    "N = int(input())\n",
    "\n",
    "dp = [0]*(N+1)\n",
    "dp[0] = 1\n",
    "dp[1] = 1\n",
    "\n",
    "def solve(n):\n",
    "    if dp[n-2] == 0:\n",
    "        solve(n-1)\n",
    "\n",
    "    if dp[n-1] == 0:\n",
    "        solve(n-1)\n",
    "    \n",
    "    if n >= 2:\n",
    "        dp[n] = dp[n-1] + dp[n-2]\n",
    "    return\n",
    "\n",
    "solve(N)\n",
    "print(dp[N])"
   ]
  }
 ],
 "metadata": {
  "kernelspec": {
   "display_name": "Python 3",
   "language": "python",
   "name": "python3"
  },
  "language_info": {
   "codemirror_mode": {
    "name": "ipython",
    "version": 3
   },
   "file_extension": ".py",
   "mimetype": "text/x-python",
   "name": "python",
   "nbconvert_exporter": "python",
   "pygments_lexer": "ipython3",
   "version": "3.6.5"
  }
 },
 "nbformat": 4,
 "nbformat_minor": 4
}

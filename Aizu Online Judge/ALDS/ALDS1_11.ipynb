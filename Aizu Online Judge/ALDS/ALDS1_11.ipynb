{
 "cells": [
  {
   "cell_type": "markdown",
   "metadata": {},
   "source": [
    "# B問題"
   ]
  },
  {
   "cell_type": "code",
   "execution_count": 3,
   "metadata": {},
   "outputs": [
    {
     "name": "stdin",
     "output_type": "stream",
     "text": [
      " 4\n",
      " 1 1 2\n",
      " 2 1 4\n",
      " 3 0\n",
      " 4 1 3\n"
     ]
    },
    {
     "name": "stdout",
     "output_type": "stream",
     "text": [
      "1 1 8\n",
      "2 2 7\n",
      "3 4 5\n",
      "4 3 6\n"
     ]
    }
   ],
   "source": [
    "from collections import deque\n",
    "\n",
    "N = int(input())\n",
    "graph = [deque([]) for _ in range(N+1)]\n",
    "for _ in range(N):\n",
    "    u, k, *v = list(map(int, input().split()))\n",
    "    v.sort()\n",
    "    for i in v:\n",
    "        graph[u].append(i)\n",
    "\n",
    "time = 0\n",
    "start = [-1] * (N+1)\n",
    "end = [-1] * (N+1)\n",
    "\n",
    "def dfs(v):\n",
    "    global time\n",
    "    time += 1\n",
    "    stack = [v]\n",
    "    start[v] = time\n",
    "    while stack:\n",
    "        v = stack[-1]\n",
    "        if graph[v]:\n",
    "            w = graph[v].popleft()\n",
    "            if start[w] == -1:\n",
    "                time += 1\n",
    "                start[w] = time\n",
    "                stack.append(w)\n",
    "        else:\n",
    "            time += 1\n",
    "            end[v] = time\n",
    "            stack.pop()\n",
    "    return [start, end]\n",
    "\n",
    "for i in range(N):\n",
    "    if start[i + 1] == -1:\n",
    "        ans = dfs(i+1)\n",
    "\n",
    "for j in range(N):\n",
    "    tmp = [j+1, ans[0][j+1], ans[1][j+1]]\n",
    "    print(*tmp)"
   ]
  },
  {
   "cell_type": "code",
   "execution_count": 2,
   "metadata": {},
   "outputs": [
    {
     "data": {
      "text/plain": [
       "[[1], [3], [], [2]]"
      ]
     },
     "execution_count": 2,
     "metadata": {},
     "output_type": "execute_result"
    }
   ],
   "source": [
    " 4\n",
    " 1 1 2\n",
    " 2 1 4\n",
    " 3 0\n",
    " 4 1 3"
   ]
  },
  {
   "cell_type": "code",
   "execution_count": 1,
   "metadata": {},
   "outputs": [
    {
     "name": "stdout",
     "output_type": "stream",
     "text": [
      "[[], [], [], []]\n"
     ]
    }
   ],
   "source": [
    "N = 4\n",
    "print([[] for _ in range(N)])"
   ]
  },
  {
   "cell_type": "code",
   "execution_count": 19,
   "metadata": {},
   "outputs": [
    {
     "name": "stdin",
     "output_type": "stream",
     "text": [
      " 1 2 3 4\n"
     ]
    }
   ],
   "source": [
    "node_id,num,*tmp_adj = list(map(int,input().split()))"
   ]
  }
 ],
 "metadata": {
  "kernelspec": {
   "display_name": "Python 3",
   "language": "python",
   "name": "python3"
  },
  "language_info": {
   "codemirror_mode": {
    "name": "ipython",
    "version": 3
   },
   "file_extension": ".py",
   "mimetype": "text/x-python",
   "name": "python",
   "nbconvert_exporter": "python",
   "pygments_lexer": "ipython3",
   "version": "3.6.5"
  }
 },
 "nbformat": 4,
 "nbformat_minor": 4
}

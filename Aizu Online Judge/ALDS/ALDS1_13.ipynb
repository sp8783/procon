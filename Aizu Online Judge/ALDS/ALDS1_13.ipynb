{
 "cells": [
  {
   "cell_type": "markdown",
   "metadata": {},
   "source": [
    "# A問題"
   ]
  },
  {
   "cell_type": "code",
   "execution_count": 13,
   "metadata": {},
   "outputs": [
    {
     "name": "stdin",
     "output_type": "stream",
     "text": [
      " 2\n",
      " 2 2\n",
      " 5 3\n"
     ]
    },
    {
     "name": "stdout",
     "output_type": "stream",
     "text": [
      "......Q.\n",
      "Q.......\n",
      "..Q.....\n",
      ".......Q\n",
      ".....Q..\n",
      "...Q....\n",
      ".Q......\n",
      "....Q...\n"
     ]
    }
   ],
   "source": [
    "import itertools\n",
    "\n",
    "N = int(input())\n",
    "lst = [list(map(int, input().split())) for _ in range(N)]\n",
    "\n",
    "L_perm = itertools.permutations(list(range(8)), 8)\n",
    "\n",
    "for L in L_perm:\n",
    "    Q = []\n",
    "    cnt = 0\n",
    "    flag = False\n",
    "    for i, j in enumerate(list(L)):\n",
    "        if [i, j] in lst:\n",
    "            cnt += 1\n",
    "        Q.append([i, j])\n",
    "        if i >= 1:\n",
    "            for k in range(i):\n",
    "                if abs(Q[i][0] - Q[k][0]) == abs(Q[i][1] - Q[k][1]):\n",
    "                    flag = True\n",
    "                    break\n",
    "        if flag:\n",
    "            break\n",
    "    if cnt == N and not(flag):\n",
    "        ans = L\n",
    "        break\n",
    "\n",
    "for l in ans:\n",
    "    seq = [\".\"]*8\n",
    "    seq[l] = \"Q\"\n",
    "    print(\"\".join(seq))    "
   ]
  }
 ],
 "metadata": {
  "kernelspec": {
   "display_name": "Python 3",
   "language": "python",
   "name": "python3"
  },
  "language_info": {
   "codemirror_mode": {
    "name": "ipython",
    "version": 3
   },
   "file_extension": ".py",
   "mimetype": "text/x-python",
   "name": "python",
   "nbconvert_exporter": "python",
   "pygments_lexer": "ipython3",
   "version": "3.6.5"
  }
 },
 "nbformat": 4,
 "nbformat_minor": 4
}

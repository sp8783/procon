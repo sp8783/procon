{
 "cells": [
  {
   "cell_type": "markdown",
   "metadata": {},
   "source": [
    "# Vol.21 2199"
   ]
  },
  {
   "cell_type": "code",
   "execution_count": 17,
   "metadata": {},
   "outputs": [
    {
     "name": "stdout",
     "output_type": "stream",
     "text": [
      "2\n"
     ]
    }
   ],
   "source": [
    "import math\n",
    "\n",
    "def main():\n",
    "    inf = float(\"inf\")\n",
    "    \n",
    "    while True:\n",
    "        N, M = map(int, input().split())\n",
    "        if N == 0 and M == 0:\n",
    "            break\n",
    "        C = tuple(int(input()) for _ in range(M))\n",
    "        X = tuple(int(input()) for _ in range(N))\n",
    "        \n",
    "        y_tb = set((max(0, min(255, i+c)), i) for c in C for i in range(256))\n",
    "        loss_tb = tuple(tuple((i-j)**2 for j in range(256)) for i in range(256))\n",
    "        \n",
    "        dp_new = [inf]*256\n",
    "        dp_new[128] = 0\n",
    "        for x in X:\n",
    "            dp_old = dp_new[:]\n",
    "            dp_new = [inf]*256\n",
    "            X_tb = loss_tb[x]\n",
    "            for j,i in y_tb:\n",
    "                loss = dp_old[i] + X_tb[j]\n",
    "                if loss < dp_new[j]:\n",
    "                    dp_new[j] = loss\n",
    "                    \n",
    "        print(min(dp_new))\n",
    "\n",
    "if __name__ == \"__main__\":\n",
    "    main()"
   ]
  },
  {
   "cell_type": "markdown",
   "metadata": {},
   "source": [
    "regacian様のコードを参考に、高速化のため下記を取り入れた\n",
    "- 復元信号の遷移(y[i],y[i-1])・二乗誤差(x-x_r)^2のテーブルを予め作成\n",
    "- listではなくtupleを使う\n",
    "- y_tbへのアクセスをsetにする\n",
    "  \n",
    "※regacian様のコード  \n",
    "http://judge.u-aizu.ac.jp/onlinejudge/review.jsp?rid=4686458#1"
   ]
  }
 ],
 "metadata": {
  "kernelspec": {
   "display_name": "Python 3",
   "language": "python",
   "name": "python3"
  },
  "language_info": {
   "codemirror_mode": {
    "name": "ipython",
    "version": 3
   },
   "file_extension": ".py",
   "mimetype": "text/x-python",
   "name": "python",
   "nbconvert_exporter": "python",
   "pygments_lexer": "ipython3",
   "version": "3.6.5"
  }
 },
 "nbformat": 4,
 "nbformat_minor": 4
}

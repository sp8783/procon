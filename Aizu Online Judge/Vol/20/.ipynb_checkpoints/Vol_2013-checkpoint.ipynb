{
 "cells": [
  {
   "cell_type": "markdown",
   "metadata": {},
   "source": [
    "# Vol.20 2013"
   ]
  },
  {
   "cell_type": "code",
   "execution_count": 8,
   "metadata": {},
   "outputs": [
    {
     "name": "stdout",
     "output_type": "stream",
     "text": [
      "1\n",
      "3\n"
     ]
    }
   ],
   "source": [
    "from itertools import accumulate\n",
    "\n",
    "def time_to_second(s):\n",
    "    return int(s[:2])*60*60 + int(s[3:5])*60 + int(s[-2:])\n",
    "\n",
    "while True:\n",
    "    n = int(input())\n",
    "    if n == 0:\n",
    "        break\n",
    "    \n",
    "    N = 24*60*60\n",
    "    lst = [0]*N\n",
    "    for _ in range(n):\n",
    "        a, b = map(lambda x:time_to_second(x), input().split())\n",
    "        lst[a] += 1\n",
    "        lst[b] -= 1\n",
    "    \n",
    "    ans = lst[0]\n",
    "    for i in range(1,N):\n",
    "        lst[i] += lst[i-1]\n",
    "        ans = max(ans, lst[i])\n",
    "        \n",
    "    print(ans)"
   ]
  }
 ],
 "metadata": {
  "kernelspec": {
   "display_name": "Python 3",
   "language": "python",
   "name": "python3"
  },
  "language_info": {
   "codemirror_mode": {
    "name": "ipython",
    "version": 3
   },
   "file_extension": ".py",
   "mimetype": "text/x-python",
   "name": "python",
   "nbconvert_exporter": "python",
   "pygments_lexer": "ipython3",
   "version": "3.6.5"
  }
 },
 "nbformat": 4,
 "nbformat_minor": 4
}

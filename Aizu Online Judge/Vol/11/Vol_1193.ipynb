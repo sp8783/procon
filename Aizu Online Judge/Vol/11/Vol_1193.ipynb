{
 "cells": [
  {
   "cell_type": "markdown",
   "metadata": {},
   "source": [
    "# Vol.11 1193"
   ]
  },
  {
   "cell_type": "code",
   "execution_count": 40,
   "metadata": {},
   "outputs": [
    {
     "name": "stdout",
     "output_type": "stream",
     "text": [
      "36\n",
      "38\n",
      "99\n",
      "0\n",
      "72\n"
     ]
    }
   ],
   "source": [
    "while True:\n",
    "    N = int(input())\n",
    "    if N == 0:\n",
    "        break\n",
    "\n",
    "    ## 入力の2次元配列に対し、転置＆各行を逆順に並び替える\n",
    "    lst = [list(map(int, input().split())) for _ in range(N)]\n",
    "    lst = [list(x) for x in zip(*lst)]\n",
    "    for j in range(5):\n",
    "        lst[j] = lst[j][::-1]\n",
    "#     print(lst)\n",
    "        \n",
    "    ans = 0\n",
    "    flag = True # 操作の終了フラグ（Falseで終了）\n",
    "\n",
    "    # 石が消えるまで操作を繰り返す\n",
    "    while flag:\n",
    "        ## 各列に対し石が消えるかチェック、消える場合は得点加算＆消える場所は0埋め\n",
    "        tot = 0\n",
    "        for i in range(N):\n",
    "            cnt = 1 # 何個消えるか\n",
    "            for j in range(1,5):\n",
    "                # 石が消えるかチェック\n",
    "                if lst[j-1][i] == lst[j][i]:\n",
    "                    cnt += 1\n",
    "                    # チェックの終了条件\n",
    "                    if cnt >= 3 and j == 4:\n",
    "                        # 得点加算\n",
    "                        tot += lst[j-1][i]*cnt\n",
    "                        # 消える場所を0埋め\n",
    "                        for k in range(j-cnt+1,j+1):\n",
    "                            lst[k][i] = 0\n",
    "                        break\n",
    "                                            \n",
    "                else:\n",
    "                    # チェックの終了条件\n",
    "                    if cnt >= 3:\n",
    "                        # 得点加算\n",
    "                        tot += lst[j-1][i]*cnt\n",
    "                        # 消える場所を0埋め\n",
    "                        for k in range(j-cnt,j):\n",
    "                            lst[k][i] = 0\n",
    "                        break\n",
    "                    cnt = 1\n",
    "                        \n",
    "#         print(tot)\n",
    "#         print(lst)\n",
    "        \n",
    "        ans += tot\n",
    "        if tot == 0:\n",
    "            flag = False\n",
    "        \n",
    "        ## 石の落下\n",
    "        if flag: # 消える石がない場合はスキップ\n",
    "            for j in range(5):\n",
    "                tmp = []\n",
    "                cnt_0 = 0\n",
    "                for i in range(N):\n",
    "                    if lst[j][i] != 0:\n",
    "                        tmp.append(lst[j][i])\n",
    "                    else:\n",
    "                        cnt_0 += 1\n",
    "                lst[j] = tmp + [0]*cnt_0\n",
    "                \n",
    "#         print(lst)\n",
    "    \n",
    "    print(ans)"
   ]
  }
 ],
 "metadata": {
  "kernelspec": {
   "display_name": "Python 3",
   "language": "python",
   "name": "python3"
  },
  "language_info": {
   "codemirror_mode": {
    "name": "ipython",
    "version": 3
   },
   "file_extension": ".py",
   "mimetype": "text/x-python",
   "name": "python",
   "nbconvert_exporter": "python",
   "pygments_lexer": "ipython3",
   "version": "3.6.5"
  }
 },
 "nbformat": 4,
 "nbformat_minor": 4
}

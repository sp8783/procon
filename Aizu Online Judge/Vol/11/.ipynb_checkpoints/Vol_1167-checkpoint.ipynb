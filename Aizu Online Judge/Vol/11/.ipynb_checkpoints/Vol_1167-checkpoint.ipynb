{
 "cells": [
  {
   "cell_type": "markdown",
   "metadata": {},
   "source": [
    "# Vol.11 1167"
   ]
  },
  {
   "cell_type": "code",
   "execution_count": 44,
   "metadata": {},
   "outputs": [
    {
     "name": "stdout",
     "output_type": "stream",
     "text": [
      "2 6\n",
      "2 14\n",
      "2 5\n",
      "1 1\n",
      "1 18\n",
      "5 35\n",
      "4 4\n",
      "3 37\n"
     ]
    }
   ],
   "source": [
    "import time\n",
    "\n",
    "def main():\n",
    "    N = 10**6\n",
    "    dp = [10**10]*(N+1)\n",
    "    dp_odd = [10**10]*(N+1)\n",
    "    dp[0] = 0\n",
    "    dp_odd[0] = 0\n",
    "\n",
    "    for i in range(1,180):\n",
    "        n = i*(i+1)*(i+2)//6\n",
    "\n",
    "        for j in range(N - n):\n",
    "#             dp[j+n] = min(dp[j+n], dp[j] + 1) #←組み込み関数を使うと遅くなる\n",
    "            new = dp[j] + 1\n",
    "            if new < dp[j+n]:\n",
    "                dp[j+n] = new\n",
    "\n",
    "            if n % 2 == 1:\n",
    "#                 dp_odd[j+n] = min(dp_odd[j+n], dp_odd[j] + 1) #←組み込み関数を使うと遅くなる\n",
    "                new = dp_odd[j] + 1\n",
    "                if new < dp_odd[j+n]:\n",
    "                    dp_odd[j+n] = new\n",
    "\n",
    "    ans = []\n",
    "    while True:\n",
    "        num = int(input())\n",
    "        if num == 0:\n",
    "            break\n",
    "        print(\"{} {}\".format(dp[num], dp_odd[num]))\n",
    "\n",
    "if __name__ == \"__main__\":\n",
    "#     start = time.time()\n",
    "    main()\n",
    "#     elapsed_time = time.time() - start\n",
    "#     print (\"elapsed_time:{0}\".format(elapsed_time) + \"[sec]\")"
   ]
  },
  {
   "cell_type": "markdown",
   "metadata": {},
   "source": [
    "※上記コードにおける、minの取り方毎の実行時間  \n",
    "- 組み込み関数`min()`：elapsed_time:59.37606382369995[sec]  \n",
    "- 自作関数：elapsed_time:27.235025882720947[sec]"
   ]
  }
 ],
 "metadata": {
  "kernelspec": {
   "display_name": "Python 3",
   "language": "python",
   "name": "python3"
  },
  "language_info": {
   "codemirror_mode": {
    "name": "ipython",
    "version": 3
   },
   "file_extension": ".py",
   "mimetype": "text/x-python",
   "name": "python",
   "nbconvert_exporter": "python",
   "pygments_lexer": "ipython3",
   "version": "3.6.5"
  }
 },
 "nbformat": 4,
 "nbformat_minor": 4
}

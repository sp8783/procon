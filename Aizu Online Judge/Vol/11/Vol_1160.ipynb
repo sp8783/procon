{
 "cells": [
  {
   "cell_type": "markdown",
   "metadata": {},
   "source": [
    "# Vol.11 1160"
   ]
  },
  {
   "cell_type": "code",
   "execution_count": 15,
   "metadata": {},
   "outputs": [
    {
     "name": "stdin",
     "output_type": "stream",
     "text": [
      " 1 1\n",
      " 0\n"
     ]
    },
    {
     "name": "stdout",
     "output_type": "stream",
     "text": [
      "0\n"
     ]
    },
    {
     "name": "stdin",
     "output_type": "stream",
     "text": [
      " 2 2\n",
      " 0 1\n",
      " 1 0\n"
     ]
    },
    {
     "name": "stdout",
     "output_type": "stream",
     "text": [
      "1\n"
     ]
    },
    {
     "name": "stdin",
     "output_type": "stream",
     "text": [
      " 3 2\n",
      " 1 1 1\n",
      " 1 1 1\n"
     ]
    },
    {
     "name": "stdout",
     "output_type": "stream",
     "text": [
      "1\n"
     ]
    },
    {
     "name": "stdin",
     "output_type": "stream",
     "text": [
      " 5 4\n",
      " 1 0 1 0 0\n",
      " 1 0 0 0 0\n",
      " 1 0 1 0 1\n",
      " 1 0 0 1 0\n"
     ]
    },
    {
     "name": "stdout",
     "output_type": "stream",
     "text": [
      "3\n"
     ]
    },
    {
     "name": "stdin",
     "output_type": "stream",
     "text": [
      " 5 4\n",
      " 1 1 1 0 1\n",
      " 1 0 1 0 1\n",
      " 1 0 1 0 1\n",
      " 1 0 1 1 1\n"
     ]
    },
    {
     "name": "stdout",
     "output_type": "stream",
     "text": [
      "1\n"
     ]
    },
    {
     "name": "stdin",
     "output_type": "stream",
     "text": [
      " 5 5\n",
      " 1 0 1 0 1\n",
      " 0 0 0 0 0\n",
      " 1 0 1 0 1\n",
      " 0 0 0 0 0\n",
      " 1 0 1 0 1\n"
     ]
    },
    {
     "name": "stdout",
     "output_type": "stream",
     "text": [
      "9\n"
     ]
    },
    {
     "name": "stdin",
     "output_type": "stream",
     "text": [
      " 0 0\n"
     ]
    }
   ],
   "source": [
    "from collections import deque\n",
    "\n",
    "while True:\n",
    "    w, h = map(int, input().split())\n",
    "    if w == 0 and h == 0:\n",
    "        break    \n",
    "    C = [list(map(int, input().split())) for _ in range(h)]\n",
    "\n",
    "    q = deque()\n",
    "    dxy = [(1,1),(1,0),(1,-1),(0,1),(0,-1),(-1,1),(-1,0),(-1,-1)]\n",
    "    check = [[False]*w for _ in range(h)]\n",
    "    ans = 0\n",
    "\n",
    "    def dfs(x, y):\n",
    "        if C[x][y] == 0:\n",
    "            check[x][y] = True\n",
    "            return 0\n",
    "        else:\n",
    "            q.append((x, y))\n",
    "            while q:\n",
    "                i, j = q.pop()\n",
    "                check[i][j] = True\n",
    "                adj = []\n",
    "                for dx, dy in dxy:\n",
    "                    if i+dx < 0 or i+dx > h-1 or j+dy < 0 or j+dy > w-1:\n",
    "                        continue\n",
    "                    else:\n",
    "                        adj.append((i+dx, j+dy))\n",
    "                for i_dx, j_dy in adj:\n",
    "                    if check[i_dx][j_dy] == True:\n",
    "                        continue\n",
    "                    else:\n",
    "                        if C[i_dx][j_dy] == 1:\n",
    "                            q.append((i_dx, j_dy))\n",
    "            return 1\n",
    "\n",
    "    for i in range(h):\n",
    "        for j in range(w):\n",
    "            if check[i][j] == False:\n",
    "                ans += dfs(i, j)\n",
    "\n",
    "    print(ans)"
   ]
  }
 ],
 "metadata": {
  "kernelspec": {
   "display_name": "Python 3",
   "language": "python",
   "name": "python3"
  },
  "language_info": {
   "codemirror_mode": {
    "name": "ipython",
    "version": 3
   },
   "file_extension": ".py",
   "mimetype": "text/x-python",
   "name": "python",
   "nbconvert_exporter": "python",
   "pygments_lexer": "ipython3",
   "version": "3.6.5"
  }
 },
 "nbformat": 4,
 "nbformat_minor": 4
}

{
 "cells": [
  {
   "cell_type": "markdown",
   "metadata": {},
   "source": [
    "# Vol_1149"
   ]
  },
  {
   "cell_type": "code",
   "execution_count": 12,
   "metadata": {},
   "outputs": [
    {
     "name": "stdout",
     "output_type": "stream",
     "text": [
      "4 4 6 16\n",
      "1 1 1 1\n",
      "10\n"
     ]
    }
   ],
   "source": [
    "while True:\n",
    "    N, W, D = map(int, input().split())\n",
    "\n",
    "    if [N,W,D] == [0,0,0]:\n",
    "        break\n",
    "        \n",
    "    ans = [W*D]\n",
    "    lst = [[W,D]]\n",
    "    for _ in range(N):\n",
    "        p, s = map(int, input().split())\n",
    "        w, d = lst.pop(p-1)\n",
    "        S = ans.pop(p-1)\n",
    "        \n",
    "        s_i = s%((w+d)*2)\n",
    "        if 0 <= s_i%(w+d) <= w:\n",
    "            s1 = (s_i%(w+d)) * d\n",
    "            s2 = (w - s_i%(w+d)) * d\n",
    "            if s1 <= s2:\n",
    "                ans += [s1, s2]\n",
    "                lst += [[s_i%(w+d), d], [w - s_i%(w+d), d]]\n",
    "            else:\n",
    "                ans += [s2, s1]\n",
    "                lst += [[w - s_i%(w+d), d], [s_i%(w+d), d]]\n",
    "        else:\n",
    "            s1 = w * (s_i%(w+d) - w)\n",
    "            s2 = w * (w + d - s_i%(w+d))\n",
    "            if s1 <= s2:\n",
    "                ans += [s1, s2]\n",
    "                lst += [[w, s_i%(w+d) - w], [w, w + d - s_i%(w+d)]]              \n",
    "            else:\n",
    "                ans += [s2, s1]\n",
    "                lst += [[w, w + d - s_i%(w+d)], [w, s_i%(w+d) - w]]\n",
    "    print(*sorted(ans))"
   ]
  }
 ],
 "metadata": {
  "kernelspec": {
   "display_name": "Python 3",
   "language": "python",
   "name": "python3"
  },
  "language_info": {
   "codemirror_mode": {
    "name": "ipython",
    "version": 3
   },
   "file_extension": ".py",
   "mimetype": "text/x-python",
   "name": "python",
   "nbconvert_exporter": "python",
   "pygments_lexer": "ipython3",
   "version": "3.6.5"
  }
 },
 "nbformat": 4,
 "nbformat_minor": 4
}

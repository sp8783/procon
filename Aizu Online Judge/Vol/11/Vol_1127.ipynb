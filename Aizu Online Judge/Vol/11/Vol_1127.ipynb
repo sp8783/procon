{
 "cells": [
  {
   "cell_type": "markdown",
   "metadata": {},
   "source": [
    "# Vol_1127"
   ]
  },
  {
   "cell_type": "code",
   "execution_count": 15,
   "metadata": {},
   "outputs": [
    {
     "name": "stdout",
     "output_type": "stream",
     "text": [
      "20.000\n",
      "0.000\n",
      "73.834\n"
     ]
    }
   ],
   "source": [
    "# import numpy as np\n",
    "import math\n",
    "\n",
    "def calc_dist(a,b):\n",
    "    tot = 0\n",
    "    for a,b in zip(a,b):\n",
    "        tot += (a-b)**2\n",
    "    return math.sqrt(tot)\n",
    "\n",
    "class UnionFind():\n",
    "    def __init__(self, n):\n",
    "        self.n = n\n",
    "        self.parents = [-1] * n\n",
    "        # parents:\n",
    "        # 各要素の親要素の番号を格納するリスト\n",
    "        # 要素が根（ルート）の場合は-(そのグループの要素数)を格納する\n",
    "\n",
    "    # 要素xが属するグループの根を返す    \n",
    "    def find(self, x):        \n",
    "        if self.parents[x] < 0:\n",
    "            return x\n",
    "        else:\n",
    "            self.parents[x] = self.find(self.parents[x])\n",
    "            return self.parents[x]\n",
    "\n",
    "    # 要素xが属するグループと要素yが属するグループとを併合する\n",
    "    def union(self, x, y):\n",
    "        x = self.find(x)\n",
    "        y = self.find(y)\n",
    "\n",
    "        if x == y:\n",
    "            return\n",
    "\n",
    "        if self.parents[x] > self.parents[y]:\n",
    "            x, y = y, x\n",
    "\n",
    "        self.parents[x] += self.parents[y]\n",
    "        self.parents[y] = x\n",
    "\n",
    "    # 要素x, yが同じグループに属するかどうかを返す\n",
    "    def same(self, x, y):\n",
    "        return self.find(x) == self.find(y)\n",
    "\n",
    "while True:\n",
    "    N = int(input())\n",
    "    if N == 0:\n",
    "        break\n",
    "    lst = []\n",
    "    for _ in range(N):\n",
    "        x,y,z,r = list(map(float, input().split()))\n",
    "#         lst.append((np.array([x,y,z]),r))\n",
    "        lst.append(([x,y,z],r))\n",
    "    adj = []\n",
    "    for i in range(N):\n",
    "        for j in range(i+1, N):\n",
    "            if i == j:\n",
    "                continue\n",
    "            v_i, r_i = lst[i]\n",
    "            v_j, r_j = lst[j]\n",
    "#             dist = max(0, np.linalg.norm(v_i - v_j) - (r_i + r_j))\n",
    "            dist = max(0, calc_dist(v_i, v_j) - (r_i + r_j))\n",
    "            adj.append((dist, i, j))\n",
    "    adj.sort()\n",
    "    \n",
    "    uf = UnionFind(N)\n",
    "    ans = 0\n",
    "    for a in adj:\n",
    "        dist, i, j = a\n",
    "        if not uf.same(i,j):\n",
    "            ans += dist\n",
    "            uf.union(i,j)\n",
    "    ans = round(ans,3)\n",
    "    print(\"{:.3f}\".format(ans))"
   ]
  }
 ],
 "metadata": {
  "kernelspec": {
   "display_name": "Python 3",
   "language": "python",
   "name": "python3"
  },
  "language_info": {
   "codemirror_mode": {
    "name": "ipython",
    "version": 3
   },
   "file_extension": ".py",
   "mimetype": "text/x-python",
   "name": "python",
   "nbconvert_exporter": "python",
   "pygments_lexer": "ipython3",
   "version": "3.6.5"
  }
 },
 "nbformat": 4,
 "nbformat_minor": 4
}

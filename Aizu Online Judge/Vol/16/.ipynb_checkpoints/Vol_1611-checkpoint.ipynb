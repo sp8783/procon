{
 "cells": [
  {
   "cell_type": "markdown",
   "metadata": {},
   "source": [
    "# Vol.16 1611"
   ]
  },
  {
   "cell_type": "code",
   "execution_count": 2,
   "metadata": {},
   "outputs": [
    {
     "name": "stdin",
     "output_type": "stream",
     "text": [
      " 4\n",
      " 1 2 3 4\n",
      " 4\n",
      " 1 2 3 1\n",
      " 5\n",
      " 5 1 2 3 6\n",
      " 14\n",
      " 8 7 1 4 3 5 4 1 6 8 10 4 6 5\n",
      " 5\n",
      " 1 3 5 1 3\n",
      " 0\n"
     ]
    },
    {
     "name": "stdout",
     "output_type": "stream",
     "text": [
      "4\n",
      "4\n",
      "2\n",
      "12\n",
      "0\n"
     ]
    }
   ],
   "source": [
    "def main():\n",
    "    ans = []\n",
    "    while True:\n",
    "        N = int(input())\n",
    "        if N == 0:\n",
    "            break\n",
    "        W = list(map(int, input().split()))\n",
    "        \n",
    "        dp = [[0]*N for _ in range(N)]\n",
    "        \n",
    "        for d in range(1, N):\n",
    "            for i in range(N-d):\n",
    "                j = i+d\n",
    "                if d%2 == 1:\n",
    "                    if dp[i+1][j-1] == d-1:\n",
    "                        if abs(W[i] - W[j]) <= 1:\n",
    "                            dp[i][j] = d+1\n",
    "                        else:\n",
    "                            dp[i][j] = d-1\n",
    "                    for k in range(i+1, j):\n",
    "                        new = dp[i][k] + dp[k+1][j]\n",
    "                        if new > dp[i][j]:\n",
    "                            dp[i][j] = new\n",
    "                else:\n",
    "                    dp[i][j] = max(dp[i+1][j], dp[i][j-1])\n",
    "        ans.append(dp[0][-1])\n",
    "    \n",
    "    for a in ans:\n",
    "        print(a)\n",
    "\n",
    "if __name__ == \"__main__\":\n",
    "    main()"
   ]
  }
 ],
 "metadata": {
  "kernelspec": {
   "display_name": "Python 3",
   "language": "python",
   "name": "python3"
  },
  "language_info": {
   "codemirror_mode": {
    "name": "ipython",
    "version": 3
   },
   "file_extension": ".py",
   "mimetype": "text/x-python",
   "name": "python",
   "nbconvert_exporter": "python",
   "pygments_lexer": "ipython3",
   "version": "3.6.5"
  }
 },
 "nbformat": 4,
 "nbformat_minor": 4
}

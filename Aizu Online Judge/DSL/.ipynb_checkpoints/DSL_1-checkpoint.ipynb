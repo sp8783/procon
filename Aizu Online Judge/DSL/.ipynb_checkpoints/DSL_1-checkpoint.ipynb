{
 "cells": [
  {
   "cell_type": "markdown",
   "metadata": {},
   "source": [
    "# A問題"
   ]
  },
  {
   "cell_type": "code",
   "execution_count": 3,
   "metadata": {},
   "outputs": [
    {
     "name": "stdout",
     "output_type": "stream",
     "text": [
      "0\n",
      "0\n",
      "1\n",
      "1\n",
      "1\n",
      "0\n",
      "1\n",
      "1\n"
     ]
    }
   ],
   "source": [
    "from collections import defaultdict\n",
    "\n",
    "class UnionFind():\n",
    "    def __init__(self, n):\n",
    "        self.n = n\n",
    "        self.parents = [-1] * n\n",
    "        # parents:\n",
    "        # 各要素の親要素の番号を格納するリスト\n",
    "        # 要素が根（ルート）の場合は-(そのグループの要素数)を格納する\n",
    "\n",
    "    # 要素xが属するグループの根を返す    \n",
    "    def find(self, x):        \n",
    "        if self.parents[x] < 0:\n",
    "            return x\n",
    "        else:\n",
    "            self.parents[x] = self.find(self.parents[x])\n",
    "            return self.parents[x]\n",
    "\n",
    "    # 要素xが属するグループと要素yが属するグループとを併合する\n",
    "    def union(self, x, y):\n",
    "        x = self.find(x)\n",
    "        y = self.find(y)\n",
    "\n",
    "        if x == y:\n",
    "            return\n",
    "\n",
    "        if self.parents[x] > self.parents[y]:\n",
    "            x, y = y, x\n",
    "\n",
    "        self.parents[x] += self.parents[y]\n",
    "        self.parents[y] = x\n",
    "\n",
    "    # 要素xが属するグループのサイズ（要素数）を返す\n",
    "    def size(self, x):\n",
    "        return -self.parents[self.find(x)]\n",
    "\n",
    "    # 要素x, yが同じグループに属するかどうかを返す\n",
    "    def same(self, x, y):\n",
    "        return self.find(x) == self.find(y)\n",
    "\n",
    "    # 要素xが属するグループに属する要素をリストで返す\n",
    "    def members(self, x):\n",
    "        root = self.find(x)\n",
    "        return [i for i in range(self.n) if self.find(i) == root]\n",
    "\n",
    "    # すべての根の要素をリストで返す\n",
    "    def roots(self):\n",
    "        return [i for i, x in enumerate(self.parents) if x < 0]\n",
    "\n",
    "    # グループの数を返す\n",
    "    def group_count(self):\n",
    "        return len(self.roots())\n",
    "\n",
    "    # {ルート要素: [そのグループに含まれる要素のリスト], ...}のdefaultdictを返す\n",
    "    # defaultdictは辞書dictのサブクラス\n",
    "    def all_group_members(self):\n",
    "        group_members = defaultdict(list)\n",
    "        for member in range(self.n):\n",
    "            group_members[self.find(member)].append(member)\n",
    "        return group_members\n",
    "\n",
    "    # print()での表示用\n",
    "    # ルート要素: [そのグループに含まれる要素のリスト]を文字列で返す\n",
    "    def __str__(self):\n",
    "        return '\\n'.join(f'{r}: {m}' for r, m in self.all_group_members().items())\n",
    "\n",
    "    \n",
    "N, Q = map(int, input().split())\n",
    "uf = UnionFind(N)\n",
    "\n",
    "for _ in range(Q):\n",
    "    c, x, y = map(int, input().split())\n",
    "    if c == 0:\n",
    "        uf.union(x,y)\n",
    "    else:\n",
    "        if uf.same(x,y):\n",
    "            print(1)\n",
    "        else:\n",
    "            print(0)"
   ]
  }
 ],
 "metadata": {
  "kernelspec": {
   "display_name": "Python 3",
   "language": "python",
   "name": "python3"
  },
  "language_info": {
   "codemirror_mode": {
    "name": "ipython",
    "version": 3
   },
   "file_extension": ".py",
   "mimetype": "text/x-python",
   "name": "python",
   "nbconvert_exporter": "python",
   "pygments_lexer": "ipython3",
   "version": "3.6.5"
  }
 },
 "nbformat": 4,
 "nbformat_minor": 4
}

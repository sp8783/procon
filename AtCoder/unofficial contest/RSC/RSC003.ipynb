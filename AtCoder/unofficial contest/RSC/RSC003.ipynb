{
 "cells": [
  {
   "cell_type": "markdown",
   "metadata": {},
   "source": [
    "Rin Selection Contest 003 (RSC003)  \n",
    "※コンテストURL：https://kenkoooo.com/atcoder/#/contest/show/81be530a-e0a1-4a19-8fd1-9b0e9a858539"
   ]
  },
  {
   "cell_type": "markdown",
   "metadata": {},
   "source": [
    "# A. Colorful Slimes 2"
   ]
  },
  {
   "cell_type": "code",
   "execution_count": 6,
   "metadata": {},
   "outputs": [
    {
     "name": "stdin",
     "output_type": "stream",
     "text": [
      " 14\n",
      " 1 2 2 3 3 3 4 4 4 4 1 2 3 4\n"
     ]
    },
    {
     "name": "stdout",
     "output_type": "stream",
     "text": [
      "4\n"
     ]
    }
   ],
   "source": [
    "N = int(input())\n",
    "A = list(map(int,input().split()))\n",
    "\n",
    "lst = [1,2,3]\n",
    "ans = 0\n",
    "for i in range(1,N):\n",
    "    if A[i-1] == A[i]:\n",
    "        ans += 1\n",
    "        if i != N-1:\n",
    "            for l in lst:\n",
    "                if A[i-1] != l and A[i+1] != l:\n",
    "                    A[i] = l\n",
    "        \n",
    "print(ans)"
   ]
  },
  {
   "cell_type": "markdown",
   "metadata": {},
   "source": [
    "# A. Fairness"
   ]
  },
  {
   "cell_type": "code",
   "execution_count": 10,
   "metadata": {},
   "outputs": [
    {
     "name": "stdin",
     "output_type": "stream",
     "text": [
      " 1000000000 1000000000 1000000000 1000000000000000000\n"
     ]
    },
    {
     "name": "stdout",
     "output_type": "stream",
     "text": [
      "0\n"
     ]
    }
   ],
   "source": [
    "A,B,C,K = map(int, input().split())\n",
    "\n",
    "if K % 2 == 0:\n",
    "    ans = A-B\n",
    "else:\n",
    "    ans = -A+B\n",
    "    \n",
    "if ans >10**18:\n",
    "    ans = \"Unfair\"\n",
    "    \n",
    "print(ans)"
   ]
  },
  {
   "cell_type": "markdown",
   "metadata": {},
   "source": [
    "# A. Two Abbreviations"
   ]
  },
  {
   "cell_type": "code",
   "execution_count": 25,
   "metadata": {},
   "outputs": [
    {
     "data": {
      "text/plain": [
       "6"
      ]
     },
     "execution_count": 25,
     "metadata": {},
     "output_type": "execute_result"
    }
   ],
   "source": [
    "from math import gcd\n",
    "\n",
    "N, M = map(int,input().split())\n",
    "S = input()\n",
    "T = input()\n",
    "\n",
    "def lcm(a,b):\n",
    "    return a*b//gcd(a,b)\n",
    "l = lcm(N,M)\n",
    "\n",
    "ans = l\n",
    "for i in range(gcd(N,M)):\n",
    "    if S[l//M*i] != T[l//N*i]:\n",
    "        ans = -1\n",
    "        break\n",
    "\n",
    "if ans == -1:\n",
    "    print(ans)\n",
    "else:\n",
    "    print(ans)"
   ]
  },
  {
   "cell_type": "markdown",
   "metadata": {},
   "source": [
    "# A. Colorful Subsequence"
   ]
  },
  {
   "cell_type": "code",
   "execution_count": null,
   "metadata": {},
   "outputs": [],
   "source": [
    "from collections import Counter\n",
    " \n",
    "N = int(input())\n",
    "S = input()\n",
    "\n",
    "cnt = Counter(S)\n",
    "ans = 1\n",
    "MOD = 10**9 + 7\n",
    "for v in cnt.values():\n",
    "    ans = ans * (v + 1) % MOD\n",
    "ans = (ans - 1)%MOD\n",
    " \n",
    "print(ans)"
   ]
  }
 ],
 "metadata": {
  "kernelspec": {
   "display_name": "Python 3",
   "language": "python",
   "name": "python3"
  },
  "language_info": {
   "codemirror_mode": {
    "name": "ipython",
    "version": 3
   },
   "file_extension": ".py",
   "mimetype": "text/x-python",
   "name": "python",
   "nbconvert_exporter": "python",
   "pygments_lexer": "ipython3",
   "version": "3.6.5"
  }
 },
 "nbformat": 4,
 "nbformat_minor": 4
}

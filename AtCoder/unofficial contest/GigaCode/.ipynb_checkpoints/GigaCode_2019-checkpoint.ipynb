{
 "cells": [
  {
   "cell_type": "markdown",
   "metadata": {},
   "source": [
    "# D問題"
   ]
  },
  {
   "cell_type": "code",
   "execution_count": 5,
   "metadata": {},
   "outputs": [
    {
     "name": "stdout",
     "output_type": "stream",
     "text": [
      "9\n"
     ]
    }
   ],
   "source": [
    "H, W, K, V = map(int, input().split())\n",
    "A = [list(map(int, input().split())) for _ in range(H)]\n",
    "\n",
    "csum = [[0]*(W + 1) for _ in range(H + 1)]\n",
    "for h in range(1, H + 1):\n",
    "    for w in range(1, W + 1):\n",
    "        csum[h][w] += csum[h - 1][w] + csum[h][w - 1] - csum[h - 1][w - 1]\n",
    "        csum[h][w] += A[h - 1][w - 1]\n",
    "        \n",
    "ans = 0\n",
    "for a in range(1, H + 1):\n",
    "    for b in range(1, W + 1):\n",
    "        for c in range(a, H + 1):\n",
    "            for d in range(b, W + 1):\n",
    "                S = (c - a + 1) * (d - b + 1)\n",
    "                v = csum[c][d] - csum[a - 1][d] - csum[c][b - 1] + csum[a - 1][b - 1]\n",
    "                v += K * S\n",
    "                if v <= V:\n",
    "                    ans = max(ans, S)\n",
    "print(ans)"
   ]
  }
 ],
 "metadata": {
  "kernelspec": {
   "display_name": "Python 3",
   "language": "python",
   "name": "python3"
  },
  "language_info": {
   "codemirror_mode": {
    "name": "ipython",
    "version": 3
   },
   "file_extension": ".py",
   "mimetype": "text/x-python",
   "name": "python",
   "nbconvert_exporter": "python",
   "pygments_lexer": "ipython3",
   "version": "3.6.5"
  }
 },
 "nbformat": 4,
 "nbformat_minor": 4
}

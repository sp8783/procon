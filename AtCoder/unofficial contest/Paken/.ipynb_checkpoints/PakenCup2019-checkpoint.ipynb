{
 "cells": [
  {
   "cell_type": "markdown",
   "metadata": {},
   "source": [
    "※コンテストURL：https://atcoder.jp/contests/pakencamp-2019-day3"
   ]
  },
  {
   "cell_type": "markdown",
   "metadata": {},
   "source": [
    "# A問題"
   ]
  },
  {
   "cell_type": "code",
   "execution_count": 1,
   "metadata": {},
   "outputs": [
    {
     "name": "stdin",
     "output_type": "stream",
     "text": [
      " 24 27\n"
     ]
    },
    {
     "name": "stdout",
     "output_type": "stream",
     "text": [
      "4\n"
     ]
    }
   ],
   "source": [
    "A, B = map(int, input().split())\n",
    "\n",
    "print(B-A+1)"
   ]
  },
  {
   "cell_type": "markdown",
   "metadata": {},
   "source": [
    "# B問題"
   ]
  },
  {
   "cell_type": "code",
   "execution_count": null,
   "metadata": {},
   "outputs": [],
   "source": [
    "N = int(input())\n",
    "black, white = 0, 0\n",
    "\n",
    "for i in range(N):\n",
    "    S = input()\n",
    "    if S == \"black\":\n",
    "        black += 1\n",
    "    elif S == \"white\":\n",
    "        white += 1\n",
    "\n",
    "if black > white:\n",
    "    print(\"black\")\n",
    "else:\n",
    "    print(\"white\")"
   ]
  },
  {
   "cell_type": "markdown",
   "metadata": {},
   "source": [
    "# C問題"
   ]
  },
  {
   "cell_type": "code",
   "execution_count": 6,
   "metadata": {},
   "outputs": [
    {
     "name": "stdin",
     "output_type": "stream",
     "text": [
      " 3 4\n",
      " 37 29 70 41\n",
      " 85 69 76 50\n",
      " 53 10 95 100\n"
     ]
    },
    {
     "name": "stdout",
     "output_type": "stream",
     "text": [
      "250\n"
     ]
    }
   ],
   "source": [
    "import itertools\n",
    "\n",
    "N, M = map(int, input().split())\n",
    "point = [list(map(int, input().split())) for _ in range(N)]\n",
    "\n",
    "ans = 0\n",
    "L_comb = itertools.combinations(list(range(M)), 2)\n",
    "for i, j in L_comb:\n",
    "    total = 0\n",
    "    for k in range(N):\n",
    "        total += max(point[k][i], point[k][j])\n",
    "    ans = max(ans, total)\n",
    "\n",
    "print(ans)"
   ]
  }
 ],
 "metadata": {
  "kernelspec": {
   "display_name": "Python 3",
   "language": "python",
   "name": "python3"
  },
  "language_info": {
   "codemirror_mode": {
    "name": "ipython",
    "version": 3
   },
   "file_extension": ".py",
   "mimetype": "text/x-python",
   "name": "python",
   "nbconvert_exporter": "python",
   "pygments_lexer": "ipython3",
   "version": "3.6.5"
  }
 },
 "nbformat": 4,
 "nbformat_minor": 4
}

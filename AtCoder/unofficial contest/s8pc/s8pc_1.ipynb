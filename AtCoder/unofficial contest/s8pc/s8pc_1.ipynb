{
 "cells": [
  {
   "cell_type": "markdown",
   "metadata": {},
   "source": [
    "※コンテストURL：https://atcoder.jp/contests/s8pc-1"
   ]
  },
  {
   "cell_type": "markdown",
   "metadata": {},
   "source": [
    "# G問題"
   ]
  },
  {
   "cell_type": "code",
   "execution_count": 41,
   "metadata": {},
   "outputs": [
    {
     "name": "stdout",
     "output_type": "stream",
     "text": [
      "6 2\n"
     ]
    }
   ],
   "source": [
    "N, M = map(int, input().split())\n",
    "inf = float(\"inf\")\n",
    "\n",
    "cost = [[inf]*N for _ in range(N)]\n",
    "time = [[inf]*N for _ in range(N)]\n",
    "for i in range(M):\n",
    "    s, t, d, T = map(int, input().split())\n",
    "    cost[s-1][t-1] = d\n",
    "    cost[t-1][s-1] = d\n",
    "    time[s-1][t-1] = T\n",
    "    time[t-1][s-1] = T\n",
    "    \n",
    "dp = [[[inf, 0] for _ in range(N)] for _ in range(1<<N)] # dp[S][i]: 部分集合S内で巡回する＆最後に頂点iに到達する場合の　[最短時間、パターン数]\n",
    "dp[0][0] = [0,1]\n",
    "\n",
    "for S in range(1<<N):\n",
    "    for i in range(N):\n",
    "        for j in range(N):\n",
    "            res = dp[S][i][0] + cost[i][j]\n",
    "            if S >> j & 1 or res > time[i][j]: # 部分集合Sにjが含まれている場合　あるいは　頂点jに到達した時刻が橋ijの締切時刻を過ぎてしまっている場合　-> スキップ　\n",
    "                continue\n",
    "            elif res < dp[S|1<<j][j][0]: # 最短時間を更新できる場合、最短時間とパターン数を更新する\n",
    "                dp[S|1<<j][j][0] = res # 最短時間\n",
    "                dp[S|1<<j][j][1] = dp[S][i][1] # パターン数\n",
    "            elif res == dp[S|1<<j][j][0]: # 既に判明している最短時間と同様のパターンである場合、既存のパターン数に+1する\n",
    "                dp[S|1<<j][j][1] += dp[S][i][1]\n",
    "\n",
    "ans = dp[-1][0]\n",
    "if ans[0] == inf: # 経路が存在しない（更新されていない）場合\n",
    "    print(\"IMPOSSIBLE\")\n",
    "else: # 経路が存在する（更新がされている）場合\n",
    "    print(*ans)"
   ]
  }
 ],
 "metadata": {
  "kernelspec": {
   "display_name": "Python 3",
   "language": "python",
   "name": "python3"
  },
  "language_info": {
   "codemirror_mode": {
    "name": "ipython",
    "version": 3
   },
   "file_extension": ".py",
   "mimetype": "text/x-python",
   "name": "python",
   "nbconvert_exporter": "python",
   "pygments_lexer": "ipython3",
   "version": "3.6.5"
  }
 },
 "nbformat": 4,
 "nbformat_minor": 4
}

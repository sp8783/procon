{
 "cells": [
  {
   "cell_type": "markdown",
   "metadata": {},
   "source": [
    "※コンテストURL：https://atcoder.jp/contests/s8pc-6"
   ]
  },
  {
   "cell_type": "markdown",
   "metadata": {},
   "source": [
    "# A問題"
   ]
  },
  {
   "cell_type": "code",
   "execution_count": 14,
   "metadata": {},
   "outputs": [
    {
     "name": "stdin",
     "output_type": "stream",
     "text": [
      " 5\n",
      " ??\n",
      " ??\n",
      " d?\n",
      " ?e\n",
      " ?f\n",
      " zzz\n"
     ]
    },
    {
     "name": "stdout",
     "output_type": "stream",
     "text": [
      "6\n"
     ]
    }
   ],
   "source": [
    "N = int(input())\n",
    "S = [\"\"] * N\n",
    "for i in range(N):\n",
    "    S[i] = input()\n",
    "T = input()\n",
    "\n",
    "start = 1\n",
    "end = N+2\n",
    "for s in S:\n",
    "    s_a = s.replace(\"?\", \"a\")\n",
    "    s_z = s.replace(\"?\", \"z\")\n",
    "    if s_z < T:\n",
    "        start += 1\n",
    "    if T < s_a:\n",
    "        end -= 1\n",
    "\n",
    "ans = list(range(start, end))\n",
    "print(*ans)"
   ]
  },
  {
   "cell_type": "markdown",
   "metadata": {},
   "source": [
    "# B問題"
   ]
  },
  {
   "cell_type": "code",
   "execution_count": null,
   "metadata": {},
   "outputs": [],
   "source": [
    "N, K = map(int, input().split())\n",
    "A = list(map(int, input().split()))\n",
    "\n",
    "# bit列に含まれる\"1\"の数をカウントする\n",
    "def count_ones_by_bin(num):\n",
    "    bin_num = bin(num)[2:]\n",
    "    count = 0\n",
    "    for i in bin_num:\n",
    "            count += int(i)\n",
    "    return count\n",
    "\n",
    "ans = float(\"inf\")\n",
    "# 一番左のbitが\"1\"のbit列に対して全探索する\n",
    "for i in range(2**(N-1),2**N):\n",
    "    # bit列に含まれる\"1\"がK個である場合のみ調べる\n",
    "    if count_ones_by_bin(i) == K:\n",
    "        cost = 0\n",
    "        for j in range(N):\n",
    "            # bit列の左から調べていく\n",
    "            if (i >> (N - j - 1)) & 1:\n",
    "                # 建物1は必ず見えるので初期値に設定\n",
    "                if j == 0:\n",
    "                    h = A[j]\n",
    "                else:\n",
    "                    # 高さを増やさずに見える場合\n",
    "                    if h + 1 <= A[j]:\n",
    "                        h = A[j]\n",
    "                    # 高さを増やさないといけない場合\n",
    "                    else:\n",
    "                        cost += h + 1 - A[j]\n",
    "                        h += 1\n",
    "            # 「見える建物」として対象外の建物に対し、高さを更新しておく\n",
    "            else:\n",
    "                h = max(h, A[j])\n",
    "        ans = min(cost, ans)\n",
    "\n",
    "print(ans)"
   ]
  }
 ],
 "metadata": {
  "kernelspec": {
   "display_name": "Python 3",
   "language": "python",
   "name": "python3"
  },
  "language_info": {
   "codemirror_mode": {
    "name": "ipython",
    "version": 3
   },
   "file_extension": ".py",
   "mimetype": "text/x-python",
   "name": "python",
   "nbconvert_exporter": "python",
   "pygments_lexer": "ipython3",
   "version": "3.6.5"
  }
 },
 "nbformat": 4,
 "nbformat_minor": 4
}

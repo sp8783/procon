{
 "cells": [
  {
   "cell_type": "markdown",
   "metadata": {},
   "source": [
    "コンテストURL：https://kenkoooo.com/atcoder/#/contest/show/e77570b4-c6c6-4da4-bf30-d7495d2e89b8"
   ]
  },
  {
   "cell_type": "markdown",
   "metadata": {},
   "source": [
    "# A問題"
   ]
  },
  {
   "cell_type": "code",
   "execution_count": 4,
   "metadata": {},
   "outputs": [
    {
     "name": "stdin",
     "output_type": "stream",
     "text": [
      " MON\n"
     ]
    },
    {
     "name": "stdout",
     "output_type": "stream",
     "text": [
      "1\n"
     ]
    }
   ],
   "source": [
    "S = input()\n",
    "\n",
    "key = [\"MON\", \"TUE\", \"WED\", \"THU\", \"FRI\", \"SAT\", \"SUN\"]\n",
    "value = list(range(1,8))\n",
    "dic = dict(zip(key, value))\n",
    "\n",
    "ans = dic[S]\n",
    "print(ans)"
   ]
  },
  {
   "cell_type": "markdown",
   "metadata": {},
   "source": [
    "# B問題"
   ]
  },
  {
   "cell_type": "code",
   "execution_count": 6,
   "metadata": {},
   "outputs": [
    {
     "name": "stdin",
     "output_type": "stream",
     "text": [
      " 12 3 1\n"
     ]
    },
    {
     "name": "stdout",
     "output_type": "stream",
     "text": [
      "2\n"
     ]
    }
   ],
   "source": [
    "X, Y, Z = map(int, input().split())\n",
    "\n",
    "ans = (X - Z)//(Y + Z)\n",
    "\n",
    "print(ans)"
   ]
  },
  {
   "cell_type": "markdown",
   "metadata": {},
   "source": [
    "# C問題"
   ]
  },
  {
   "cell_type": "code",
   "execution_count": 10,
   "metadata": {},
   "outputs": [
    {
     "name": "stdin",
     "output_type": "stream",
     "text": [
      " 2\n",
      " 10 -10\n"
     ]
    },
    {
     "name": "stdout",
     "output_type": "stream",
     "text": [
      "20\n"
     ]
    }
   ],
   "source": [
    "from itertools import accumulate\n",
    "\n",
    "N = int(input())\n",
    "A = list(map(int, input().split()))\n",
    "\n",
    "S = list(accumulate(A))\n",
    "ans = 10**20\n",
    "\n",
    "for i in range(N-1):\n",
    "    ans = min(ans, abs(2*S[i] - S[-1]))\n",
    "\n",
    "print(ans)"
   ]
  },
  {
   "cell_type": "markdown",
   "metadata": {},
   "source": [
    "# D問題"
   ]
  },
  {
   "cell_type": "code",
   "execution_count": 41,
   "metadata": {},
   "outputs": [
    {
     "name": "stdin",
     "output_type": "stream",
     "text": [
      " 7\n",
      " 1 1 1 1 2 3 4\n"
     ]
    },
    {
     "name": "stdout",
     "output_type": "stream",
     "text": [
      "6\n"
     ]
    }
   ],
   "source": [
    "N = int(input())\n",
    "A = list(map(int, input().split()))\n",
    "\n",
    "B = []\n",
    "for i in range(N):\n",
    "    B.append((i+1)-A[i])\n",
    "B = sorted(B)\n",
    "\n",
    "if N%2 == 1:\n",
    "    a = -B[N//2]\n",
    "    S = 0\n",
    "    for i in range(N):\n",
    "        S += abs(A[i] - (a+i+1))\n",
    "    ans = S\n",
    "else:\n",
    "    a = -B[N//2 - 1]\n",
    "    b = -B[N//2]\n",
    "    S_a = 0\n",
    "    S_b = 0\n",
    "    for i in range(N):\n",
    "        S_a += abs(A[i] - (a+i+1))\n",
    "        S_b += abs(A[i] - (b+i+1))\n",
    "    ans = min(S_a, S_b)\n",
    "    \n",
    "print(ans)"
   ]
  },
  {
   "cell_type": "markdown",
   "metadata": {},
   "source": [
    "# E問題"
   ]
  },
  {
   "cell_type": "code",
   "execution_count": 12,
   "metadata": {},
   "outputs": [
    {
     "name": "stdin",
     "output_type": "stream",
     "text": [
      " 2 1 3 4\n"
     ]
    },
    {
     "name": "stdout",
     "output_type": "stream",
     "text": [
      "65\n"
     ]
    }
   ],
   "source": [
    "import sys\n",
    "import collections\n",
    "sys.setrecursionlimit(1000000) #再帰の上限変更10^^6\n",
    "#dp[i][j]:=長方形が(i,j)の時の通り数\n",
    " \n",
    "mod=998244353\n",
    " \n",
    "dp=[[0 for i in range(3002)]for i in range(3002)]\n",
    " \n",
    "a,b,c,d=map(int,input().split())\n",
    " \n",
    "for i in range(c+1):\n",
    "    for j in range(d+1):\n",
    "        if i==a and j==b:\n",
    "            dp[i][j]=1\n",
    "        else:\n",
    "            if i-1>=a:\n",
    "                dp[i][j]+=dp[i-1][j]*j%mod\n",
    "            if j-1>=b:\n",
    "                dp[i][j]+=dp[i][j-1]*i%mod\n",
    "            if i-1>=a and j-1>=b:\n",
    "                dp[i][j]-=dp[i-1][j-1]*(i-1)*(j-1)%mod\n",
    "        \n",
    "        dp[i][j]%=mod;\n",
    "        \n",
    "print(dp[c][d])  "
   ]
  },
  {
   "cell_type": "markdown",
   "metadata": {},
   "source": [
    "※ボツコード"
   ]
  },
  {
   "cell_type": "code",
   "execution_count": 9,
   "metadata": {},
   "outputs": [
    {
     "name": "stdin",
     "output_type": "stream",
     "text": [
      " 31 41 59 265\n"
     ]
    },
    {
     "name": "stdout",
     "output_type": "stream",
     "text": [
      "543127425\n"
     ]
    }
   ],
   "source": [
    "A, B, C, D = map(int, input().split())\n",
    "MOD = 998244353\n",
    "\n",
    "dp = [[0]*(D-B+1) for _ in range(C-A+1)]\n",
    "dp[0][0] = 1\n",
    "\n",
    "for i in range(A,C+1):\n",
    "    for j in range(B,D+1):\n",
    "        if i == A:\n",
    "            if j == B:\n",
    "                dp[i-A+1][j-B] = dp[i-A][j-B]*j % MOD\n",
    "            if j != D:\n",
    "                dp[i-A][j-B+1] = dp[i-A][j-B]*i % MOD\n",
    "        elif j == B and i != C:\n",
    "            dp[i-A+1][j-B] = dp[i-A][j-B]*j % MOD\n",
    "        else:\n",
    "            if j != D:\n",
    "                dp[i-A][j-B+1] = (dp[i-A][j-B]*i + dp[i-A-1][j-B+1]*(j+1) - dp[i-A-1][j-B]*(i-1)*j) % MOD\n",
    "\n",
    "ans = dp[C-A][D-B]\n",
    "print(ans)"
   ]
  }
 ],
 "metadata": {
  "kernelspec": {
   "display_name": "Python 3",
   "language": "python",
   "name": "python3"
  },
  "language_info": {
   "codemirror_mode": {
    "name": "ipython",
    "version": 3
   },
   "file_extension": ".py",
   "mimetype": "text/x-python",
   "name": "python",
   "nbconvert_exporter": "python",
   "pygments_lexer": "ipython3",
   "version": "3.6.5"
  }
 },
 "nbformat": 4,
 "nbformat_minor": 4
}

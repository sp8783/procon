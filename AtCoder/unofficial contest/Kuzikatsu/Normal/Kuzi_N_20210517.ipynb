{
 "cells": [
  {
   "cell_type": "markdown",
   "metadata": {},
   "source": [
    "# A問題"
   ]
  },
  {
   "cell_type": "code",
   "execution_count": 2,
   "metadata": {},
   "outputs": [
    {
     "name": "stdin",
     "output_type": "stream",
     "text": [
      " 15\n",
      " 13 76 46 15 50 98 93 77 31 43 84 90 6 24 14\n"
     ]
    },
    {
     "name": "stdout",
     "output_type": "stream",
     "text": [
      "3\n"
     ]
    }
   ],
   "source": [
    "N = int(input())\n",
    "A = list(map(int, input().split()))\n",
    "\n",
    "ans = 0\n",
    "for i in range(1,N+1):\n",
    "    if i%2 == 1 and A[i-1]%2 == 1:\n",
    "        ans += 1\n",
    "        \n",
    "print(ans)"
   ]
  },
  {
   "cell_type": "markdown",
   "metadata": {},
   "source": [
    "# B問題"
   ]
  },
  {
   "cell_type": "code",
   "execution_count": 7,
   "metadata": {},
   "outputs": [
    {
     "name": "stdin",
     "output_type": "stream",
     "text": [
      " 10000000019\n"
     ]
    },
    {
     "name": "stdout",
     "output_type": "stream",
     "text": [
      "10000000018\n"
     ]
    }
   ],
   "source": [
    "import math\n",
    "\n",
    "N = int(input())\n",
    "\n",
    "for i in range(1, math.floor(math.sqrt(N))+1)[::-1]:\n",
    "    if N%i == 0:\n",
    "        ans = (i-1) + (N//i-1)\n",
    "        break\n",
    "        \n",
    "print(ans)"
   ]
  },
  {
   "cell_type": "markdown",
   "metadata": {},
   "source": [
    "# C問題"
   ]
  },
  {
   "cell_type": "code",
   "execution_count": 12,
   "metadata": {},
   "outputs": [
    {
     "name": "stdin",
     "output_type": "stream",
     "text": [
      " 2 0\n",
      " \n"
     ]
    },
    {
     "name": "stdout",
     "output_type": "stream",
     "text": [
      "1\n"
     ]
    }
   ],
   "source": [
    "import math\n",
    "\n",
    "N, M = map(int, input().split())\n",
    "A = list(map(int, input().split()))\n",
    "\n",
    "A = [0] + sorted(A) + [N+1]\n",
    "k = N\n",
    "for i in range(M+1):\n",
    "    tmp = A[i+1] - A[i] - 1\n",
    "    if tmp != 0:\n",
    "        k = min(k, tmp)\n",
    "    \n",
    "ans = 0\n",
    "for i in range(M+1):\n",
    "    ans += math.ceil((A[i+1] - A[i] - 1)/k)\n",
    "\n",
    "print(ans)"
   ]
  },
  {
   "cell_type": "markdown",
   "metadata": {},
   "source": [
    "# D問題"
   ]
  },
  {
   "cell_type": "code",
   "execution_count": 36,
   "metadata": {},
   "outputs": [
    {
     "name": "stdin",
     "output_type": "stream",
     "text": [
      " 3 3 10\n",
      " 1 1 1\n",
      " 100 100 100\n"
     ]
    },
    {
     "name": "stdout",
     "output_type": "stream",
     "text": [
      "3\n"
     ]
    }
   ],
   "source": [
    "from itertools import accumulate\n",
    "\n",
    "N, M, K = map(int, input().split())\n",
    "A = list(map(int, input().split()))\n",
    "B = list(map(int, input().split()))\n",
    "\n",
    "acc_A = list(accumulate([0]+A))\n",
    "acc_B = list(accumulate([0]+B))\n",
    "B_idx = 0\n",
    "ans = 0\n",
    "\n",
    "for i in range(N+1)[::-1]:\n",
    "    if acc_A[i] <= K:\n",
    "        ans = max(ans, i + B_idx)\n",
    "        while True:\n",
    "#             print([i,B_idx])\n",
    "            if B_idx == M:\n",
    "                break\n",
    "            elif acc_B[B_idx+1] + acc_A[i] <= K:\n",
    "                ans = max(ans, i + B_idx + 1)\n",
    "                B_idx += 1\n",
    "            else:\n",
    "                break\n",
    "\n",
    "print(ans)"
   ]
  }
 ],
 "metadata": {
  "kernelspec": {
   "display_name": "Python 3",
   "language": "python",
   "name": "python3"
  },
  "language_info": {
   "codemirror_mode": {
    "name": "ipython",
    "version": 3
   },
   "file_extension": ".py",
   "mimetype": "text/x-python",
   "name": "python",
   "nbconvert_exporter": "python",
   "pygments_lexer": "ipython3",
   "version": "3.6.5"
  }
 },
 "nbformat": 4,
 "nbformat_minor": 4
}

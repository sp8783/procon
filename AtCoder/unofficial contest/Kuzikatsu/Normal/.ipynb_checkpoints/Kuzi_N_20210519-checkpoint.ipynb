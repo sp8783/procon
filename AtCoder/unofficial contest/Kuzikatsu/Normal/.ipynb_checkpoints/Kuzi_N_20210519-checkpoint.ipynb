{
 "cells": [
  {
   "cell_type": "markdown",
   "metadata": {},
   "source": [
    "コンテストURL：https://kenkoooo.com/atcoder/#/contest/show/93a50523-88fb-4a36-afdf-c66ff69c49a5"
   ]
  },
  {
   "cell_type": "markdown",
   "metadata": {},
   "source": [
    "# A問題"
   ]
  },
  {
   "cell_type": "code",
   "execution_count": 1,
   "metadata": {},
   "outputs": [
    {
     "name": "stdin",
     "output_type": "stream",
     "text": [
      " 3 4 5\n"
     ]
    },
    {
     "name": "stdout",
     "output_type": "stream",
     "text": [
      "6\n"
     ]
    }
   ],
   "source": [
    "X, Y, Z = map(int, input().split())\n",
    "\n",
    "lst = [X,Y,Z]\n",
    "lst.sort()\n",
    "\n",
    "ans = lst[0]*lst[1]//2\n",
    "\n",
    "print(ans)"
   ]
  },
  {
   "cell_type": "markdown",
   "metadata": {},
   "source": [
    "# B問題"
   ]
  },
  {
   "cell_type": "code",
   "execution_count": 4,
   "metadata": {},
   "outputs": [
    {
     "name": "stdin",
     "output_type": "stream",
     "text": [
      " 3\n",
      " 2 7 4\n"
     ]
    },
    {
     "name": "stdout",
     "output_type": "stream",
     "text": [
      "5\n"
     ]
    }
   ],
   "source": [
    "N = int(input())\n",
    "A = list(map(int, input().split()))\n",
    "\n",
    "A = sorted(A, reverse=True)\n",
    "\n",
    "ans = sum(A[::2]) - sum(A[1::2])\n",
    "\n",
    "print(ans)"
   ]
  },
  {
   "cell_type": "markdown",
   "metadata": {},
   "source": [
    "# C問題"
   ]
  },
  {
   "cell_type": "code",
   "execution_count": 7,
   "metadata": {},
   "outputs": [
    {
     "name": "stdin",
     "output_type": "stream",
     "text": [
      " 11\n"
     ]
    },
    {
     "name": "stdout",
     "output_type": "stream",
     "text": [
      "5\n"
     ]
    }
   ],
   "source": [
    "X = int(input())\n",
    "\n",
    "N = 1\n",
    "while X > N*(N+1)//2:\n",
    "    N += 1\n",
    "\n",
    "print(N)"
   ]
  },
  {
   "cell_type": "markdown",
   "metadata": {},
   "source": [
    "# D問題"
   ]
  },
  {
   "cell_type": "code",
   "execution_count": 32,
   "metadata": {},
   "outputs": [
    {
     "name": "stdin",
     "output_type": "stream",
     "text": [
      " 6\n",
      " 001001\n",
      " 001100\n"
     ]
    },
    {
     "name": "stdout",
     "output_type": "stream",
     "text": [
      "2\n"
     ]
    }
   ],
   "source": [
    "N = int(input())\n",
    "S = input()\n",
    "T = input()\n",
    "\n",
    "cnt_s0 = 0\n",
    "cnt_t0 = 0\n",
    "idx_s = []\n",
    "idx_t = []\n",
    "\n",
    "ans = 0\n",
    "\n",
    "for i in range(N):\n",
    "    if T[i] == \"0\":\n",
    "        cnt_t0 += 1    \n",
    "        idx_t.append(i)\n",
    "    if S[i] == \"0\":\n",
    "        cnt_s0 += 1\n",
    "        idx_s.append(i)\n",
    "\n",
    "if cnt_s0 != cnt_t0:\n",
    "    print(-1)\n",
    "else:\n",
    "    ans = 0\n",
    "    for s, t in zip(idx_s, idx_t):\n",
    "        if s != t:\n",
    "            ans += 1\n",
    "    print(ans)"
   ]
  }
 ],
 "metadata": {
  "kernelspec": {
   "display_name": "Python 3",
   "language": "python",
   "name": "python3"
  },
  "language_info": {
   "codemirror_mode": {
    "name": "ipython",
    "version": 3
   },
   "file_extension": ".py",
   "mimetype": "text/x-python",
   "name": "python",
   "nbconvert_exporter": "python",
   "pygments_lexer": "ipython3",
   "version": "3.6.5"
  }
 },
 "nbformat": 4,
 "nbformat_minor": 4
}

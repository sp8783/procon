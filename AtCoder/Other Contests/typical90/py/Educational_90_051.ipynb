{
 "cells": [
  {
   "cell_type": "markdown",
   "metadata": {},
   "source": [
    "# 051"
   ]
  },
  {
   "cell_type": "code",
   "execution_count": 33,
   "metadata": {},
   "outputs": [
    {
     "name": "stdout",
     "output_type": "stream",
     "text": [
      "137846528820\n"
     ]
    }
   ],
   "source": [
    "from bisect import bisect_left, bisect_right\n",
    "\n",
    "N, K, P = map(int, input().split())\n",
    "A = list(map(int, input().split()))\n",
    "B = A[:N//2]\n",
    "C = A[N//2:]\n",
    "\n",
    "dicB = dict(zip(list(range(K+1)), [[] for _ in range(K+1)]))\n",
    "dicC = dict(zip(list(range(K+1)), [[] for _ in range(K+1)]))\n",
    "dicB[0] = [0]\n",
    "dicC[0] = [0]\n",
    "\n",
    "# print(B)\n",
    "for i in range(2**len(B)):\n",
    "    tot = 0\n",
    "    cnt = 0\n",
    "    for j in range(len(B)):\n",
    "        if i >> j & 1:\n",
    "            tot += B[j]\n",
    "            cnt += 1\n",
    "    if 1 <= cnt <= K:\n",
    "        dicB[cnt].append(tot)\n",
    "# print(dicB)\n",
    "\n",
    "# print(C)\n",
    "for i in range(2**len(C)):\n",
    "    tot = 0\n",
    "    cnt = 0\n",
    "    for j in range(len(C)):\n",
    "        if i >> j & 1:\n",
    "            tot += C[j]\n",
    "            cnt += 1\n",
    "    if 1 <= cnt <= K:\n",
    "        dicC[cnt].append(tot)\n",
    "# print(dicC)\n",
    "\n",
    "ans = 0\n",
    "for i in range(K+1):\n",
    "    Bi = dicB[i]\n",
    "    Ci = sorted(dicC[K-i])\n",
    "    for b in Bi:\n",
    "        b = P-b\n",
    "        ans += bisect_right(Ci, b)\n",
    "\n",
    "print(ans)"
   ]
  }
 ],
 "metadata": {
  "kernelspec": {
   "display_name": "Python 3",
   "language": "python",
   "name": "python3"
  },
  "language_info": {
   "codemirror_mode": {
    "name": "ipython",
    "version": 3
   },
   "file_extension": ".py",
   "mimetype": "text/x-python",
   "name": "python",
   "nbconvert_exporter": "python",
   "pygments_lexer": "ipython3",
   "version": "3.6.5"
  }
 },
 "nbformat": 4,
 "nbformat_minor": 4
}

{
 "cells": [
  {
   "cell_type": "markdown",
   "metadata": {},
   "source": [
    "# 046"
   ]
  },
  {
   "cell_type": "code",
   "execution_count": 4,
   "metadata": {},
   "outputs": [
    {
     "name": "stdout",
     "output_type": "stream",
     "text": [
      "183\n"
     ]
    }
   ],
   "source": [
    "from collections import Counter\n",
    "\n",
    "N = int(input())\n",
    "A = list(map(lambda x: int(x)%46, input().split()))\n",
    "B = list(map(lambda x: int(x)%46, input().split()))\n",
    "C = list(map(lambda x: int(x)%46, input().split()))\n",
    "\n",
    "A = Counter(A)\n",
    "B = Counter(B)\n",
    "C = Counter(C)\n",
    "ans = 0\n",
    "\n",
    "for i in range(46):\n",
    "    for j in range(46):\n",
    "        for k in range(46):\n",
    "            if (i+j+k)%46 != 0:\n",
    "                continue\n",
    "            ans += A[i]*B[j]*C[k]\n",
    "\n",
    "print(ans)"
   ]
  }
 ],
 "metadata": {
  "kernelspec": {
   "display_name": "Python 3",
   "language": "python",
   "name": "python3"
  },
  "language_info": {
   "codemirror_mode": {
    "name": "ipython",
    "version": 3
   },
   "file_extension": ".py",
   "mimetype": "text/x-python",
   "name": "python",
   "nbconvert_exporter": "python",
   "pygments_lexer": "ipython3",
   "version": "3.6.5"
  }
 },
 "nbformat": 4,
 "nbformat_minor": 4
}

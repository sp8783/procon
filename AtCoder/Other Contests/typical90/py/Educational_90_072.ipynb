{
 "cells": [
  {
   "cell_type": "markdown",
   "metadata": {},
   "source": [
    "# 072"
   ]
  },
  {
   "cell_type": "code",
   "execution_count": 5,
   "metadata": {},
   "outputs": [
    {
     "name": "stdout",
     "output_type": "stream",
     "text": [
      "8\n"
     ]
    }
   ],
   "source": [
    "import sys\n",
    "sys.setrecursionlimit(500005)\n",
    "\n",
    "H, W = map(int, input().split())\n",
    "C = [list(input()) for _ in range(H)]\n",
    "\n",
    "dxy = [(1,0),(0,1),(-1,0),(0,-1)]\n",
    "dist = [[-1] * W for _ in range(H)]\n",
    "\n",
    "def dfs(y, x, cnt):\n",
    "    if dist[y][x] != -1:\n",
    "        if cnt - dist[y][x] >= 4:\n",
    "            return cnt - dist[y][x]\n",
    "        else:\n",
    "            return -1\n",
    "    \n",
    "    num = -1\n",
    "    dist[y][x] = cnt\n",
    "    for dy, dx in dxy:\n",
    "        nx = x + dx\n",
    "        ny = y + dy\n",
    "        if not (0 <= ny <= H-1 and 0 <= nx <= W-1): continue\n",
    "        if C[ny][nx] == \"#\": continue\n",
    "        num = max(num, dfs(ny, nx, cnt+1))\n",
    "    dist[y][x] = -1\n",
    "    return num\n",
    "\n",
    "ans = -1\n",
    "for i in range(H):\n",
    "    for j in range(W):\n",
    "        if C[i][j] == \"#\": continue\n",
    "        ans = max(ans, dfs(i, j, 0))\n",
    "\n",
    "print(ans)"
   ]
  }
 ],
 "metadata": {
  "kernelspec": {
   "display_name": "Python 3",
   "language": "python",
   "name": "python3"
  },
  "language_info": {
   "codemirror_mode": {
    "name": "ipython",
    "version": 3
   },
   "file_extension": ".py",
   "mimetype": "text/x-python",
   "name": "python",
   "nbconvert_exporter": "python",
   "pygments_lexer": "ipython3",
   "version": "3.6.5"
  }
 },
 "nbformat": 4,
 "nbformat_minor": 4
}

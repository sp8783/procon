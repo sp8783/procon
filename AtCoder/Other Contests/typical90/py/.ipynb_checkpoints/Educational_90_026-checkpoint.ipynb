{
 "cells": [
  {
   "cell_type": "markdown",
   "metadata": {},
   "source": [
    "# 026"
   ]
  },
  {
   "cell_type": "code",
   "execution_count": 5,
   "metadata": {},
   "outputs": [
    {
     "name": "stdin",
     "output_type": "stream",
     "text": [
      " 4\n",
      " 1 2\n",
      " 2 3\n",
      " 2 4\n"
     ]
    },
    {
     "name": "stdout",
     "output_type": "stream",
     "text": [
      "1 3\n"
     ]
    }
   ],
   "source": [
    "from collections import deque\n",
    "\n",
    "N = int(input())\n",
    "adj = [[] for _ in range(N)]\n",
    "for _ in range(N-1):\n",
    "    a,b = map(lambda x:int(x)-1, input().split())\n",
    "    adj[a].append(b)\n",
    "    adj[b].append(a)\n",
    "    \n",
    "group = [0]*N\n",
    "group[0] = 1\n",
    "q = deque()\n",
    "q.append(0)\n",
    "\n",
    "while q:\n",
    "    v = q.popleft()\n",
    "    for nv in adj[v]:\n",
    "        if group[nv] == 0:\n",
    "            group[nv] = group[v] * (-1)\n",
    "            q.append(nv)\n",
    "            \n",
    "ans_p = []\n",
    "ans_m = []\n",
    "cnt = 0\n",
    "for i in range(N):\n",
    "    if group[i] == 1:\n",
    "        ans_p.append(i+1)\n",
    "    else:\n",
    "        ans_m.append(i+1)\n",
    "    \n",
    "if len(ans_p) >= N/2:\n",
    "    print(*ans_p[:N//2])\n",
    "else:\n",
    "    print(*ans_m[:N//2])"
   ]
  }
 ],
 "metadata": {
  "kernelspec": {
   "display_name": "Python 3",
   "language": "python",
   "name": "python3"
  },
  "language_info": {
   "codemirror_mode": {
    "name": "ipython",
    "version": 3
   },
   "file_extension": ".py",
   "mimetype": "text/x-python",
   "name": "python",
   "nbconvert_exporter": "python",
   "pygments_lexer": "ipython3",
   "version": "3.6.5"
  }
 },
 "nbformat": 4,
 "nbformat_minor": 4
}

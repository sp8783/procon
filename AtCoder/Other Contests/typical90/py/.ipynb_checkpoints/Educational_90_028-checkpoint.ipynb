{
 "cells": [
  {
   "cell_type": "markdown",
   "metadata": {},
   "source": [
    "# 028"
   ]
  },
  {
   "cell_type": "code",
   "execution_count": 29,
   "metadata": {},
   "outputs": [
    {
     "name": "stdin",
     "output_type": "stream",
     "text": [
      " 1\n",
      " 1 1 3 4\n"
     ]
    },
    {
     "name": "stdout",
     "output_type": "stream",
     "text": [
      "6\n"
     ]
    }
   ],
   "source": [
    "N = int(input())\n",
    "lst = [[0]*1010 for _ in range(1010)]\n",
    "\n",
    "for _ in range(N):\n",
    "    lx, ly, rx, ry = map(int, input().split())\n",
    "    lst[ly][lx] += 1\n",
    "    lst[ly][rx] -= 1\n",
    "    lst[ry][lx] -= 1\n",
    "    lst[ry][rx] += 1\n",
    "    \n",
    "for y in range(1001):\n",
    "    for x in range(1001):\n",
    "        lst[y][x+1] += lst[y][x]\n",
    "\n",
    "for y in range(1001):\n",
    "    for x in range(1001):\n",
    "        lst[y+1][x] += lst[y][x]\n",
    "\n",
    "        \n",
    "ans = [0]*N\n",
    "for y in range(1001):\n",
    "    for x in range(1001):\n",
    "        if 1 <= lst[y][x] <= N:\n",
    "            ans[lst[y][x]-1] += 1\n",
    "\n",
    "for a in ans:\n",
    "    print(a)"
   ]
  }
 ],
 "metadata": {
  "kernelspec": {
   "display_name": "Python 3",
   "language": "python",
   "name": "python3"
  },
  "language_info": {
   "codemirror_mode": {
    "name": "ipython",
    "version": 3
   },
   "file_extension": ".py",
   "mimetype": "text/x-python",
   "name": "python",
   "nbconvert_exporter": "python",
   "pygments_lexer": "ipython3",
   "version": "3.6.5"
  }
 },
 "nbformat": 4,
 "nbformat_minor": 4
}

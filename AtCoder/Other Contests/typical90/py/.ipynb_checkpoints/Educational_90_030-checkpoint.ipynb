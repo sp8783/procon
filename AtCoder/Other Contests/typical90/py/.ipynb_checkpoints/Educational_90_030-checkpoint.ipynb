{
 "cells": [
  {
   "cell_type": "markdown",
   "metadata": {},
   "source": [
    "# 030"
   ]
  },
  {
   "cell_type": "code",
   "execution_count": 13,
   "metadata": {},
   "outputs": [
    {
     "name": "stdin",
     "output_type": "stream",
     "text": [
      " 10000000 3\n"
     ]
    },
    {
     "name": "stdout",
     "output_type": "stream",
     "text": [
      "6798027\n"
     ]
    }
   ],
   "source": [
    "N, K = map(int, input().split())\n",
    "\n",
    "c = [0]*(N+10)\n",
    "ans = 0\n",
    "\n",
    "for i in range(2,N+1):\n",
    "    if c[i] != 0:\n",
    "        if c[i] >= K:\n",
    "            ans += 1\n",
    "        continue\n",
    "\n",
    "    if K == 1:\n",
    "        ans += 1\n",
    "    j = 1\n",
    "    while i*j <= N:\n",
    "        c[i*j] += 1\n",
    "        j += 1\n",
    "\n",
    "print(ans)"
   ]
  }
 ],
 "metadata": {
  "kernelspec": {
   "display_name": "Python 3",
   "language": "python",
   "name": "python3"
  },
  "language_info": {
   "codemirror_mode": {
    "name": "ipython",
    "version": 3
   },
   "file_extension": ".py",
   "mimetype": "text/x-python",
   "name": "python",
   "nbconvert_exporter": "python",
   "pygments_lexer": "ipython3",
   "version": "3.6.5"
  }
 },
 "nbformat": 4,
 "nbformat_minor": 4
}

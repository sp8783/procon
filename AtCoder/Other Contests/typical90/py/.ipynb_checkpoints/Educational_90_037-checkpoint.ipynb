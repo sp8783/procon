{
 "cells": [
  {
   "cell_type": "markdown",
   "metadata": {},
   "source": [
    "# 037"
   ]
  },
  {
   "cell_type": "code",
   "execution_count": 3,
   "metadata": {},
   "outputs": [
    {
     "name": "stdout",
     "output_type": "stream",
     "text": [
      "5000000000\n"
     ]
    }
   ],
   "source": [
    "class SegTree:\n",
    "    \"\"\"\n",
    "    init(init_val, ide_ele): 配列init_valで初期化 O(N)\n",
    "    update(k, x): k番目の値をxに更新 O(logN)\n",
    "    query(l, r): 区間[l, r)をsegfuncしたものを返す O(logN)\n",
    "    \"\"\"\n",
    "    def __init__(self, init_val, segfunc, ide_ele):\n",
    "        \"\"\"\n",
    "        init_val: 配列の初期値\n",
    "        segfunc: 区間にしたい操作\n",
    "        ide_ele: 単位元\n",
    "        n: 要素数\n",
    "        num: n以上の最小の2のべき乗\n",
    "        tree: セグメント木(1-index)\n",
    "        \"\"\"\n",
    "        n = len(init_val)\n",
    "        self.segfunc = segfunc\n",
    "        self.ide_ele = ide_ele\n",
    "        self.num = 1 << (n - 1).bit_length()\n",
    "        self.tree = [ide_ele] * 2 * self.num\n",
    "        # 配列の値を葉にセット\n",
    "        for i in range(n):\n",
    "            self.tree[self.num + i] = init_val[i]\n",
    "        # 構築していく\n",
    "        for i in range(self.num - 1, 0, -1):\n",
    "            self.tree[i] = self.segfunc(self.tree[2 * i], self.tree[2 * i + 1])\n",
    "\n",
    "    def update(self, k, x):\n",
    "        \"\"\"\n",
    "        k番目の値をxに更新\n",
    "        k: index(0-index)\n",
    "        x: update value\n",
    "        \"\"\"\n",
    "        k += self.num\n",
    "        self.tree[k] = x\n",
    "        while k > 1:\n",
    "            self.tree[k >> 1] = self.segfunc(self.tree[k], self.tree[k ^ 1])\n",
    "            k >>= 1\n",
    "\n",
    "    def query(self, l, r):\n",
    "        \"\"\"\n",
    "        [l, r)のsegfuncしたものを得る\n",
    "        l: index(0-index)\n",
    "        r: index(0-index)\n",
    "        \"\"\"\n",
    "        res = self.ide_ele\n",
    "\n",
    "        l += self.num\n",
    "        r += self.num\n",
    "        while l < r:\n",
    "            if l & 1:\n",
    "                res = self.segfunc(res, self.tree[l])\n",
    "                l += 1\n",
    "            if r & 1:\n",
    "                res = self.segfunc(res, self.tree[r - 1])\n",
    "            l >>= 1\n",
    "            r >>= 1\n",
    "        return res\n",
    "    \n",
    "def segfunc(x, y):\n",
    "    return max(x, y)\n",
    "\n",
    "ide_ele = 0\n",
    "\n",
    "\n",
    "W, N = map(int, input().split())\n",
    "cook = [list(map(int, input().split())) for _ in range(N)]\n",
    "\n",
    "dp = [0]*(W+1)\n",
    "memo = [0]*(W+1)\n",
    "seg = SegTree(dp, segfunc, ide_ele)\n",
    "\n",
    "for l, r, v in cook:\n",
    "    for j in range(W, l - 1, -1):\n",
    "        m = seg.query(max(0, j-r), j-l+1)\n",
    "        if m != 0 or l <= j <= r:\n",
    "            seg.update(j, max(memo[j], m+v))\n",
    "            memo[j] = max(memo[j], m+v)\n",
    "\n",
    "ans = seg.query(W,W+1)\n",
    "if ans == 0:\n",
    "    print(-1)\n",
    "else:\n",
    "    print(ans)"
   ]
  }
 ],
 "metadata": {
  "kernelspec": {
   "display_name": "Python 3",
   "language": "python",
   "name": "python3"
  },
  "language_info": {
   "codemirror_mode": {
    "name": "ipython",
    "version": 3
   },
   "file_extension": ".py",
   "mimetype": "text/x-python",
   "name": "python",
   "nbconvert_exporter": "python",
   "pygments_lexer": "ipython3",
   "version": "3.6.5"
  }
 },
 "nbformat": 4,
 "nbformat_minor": 4
}

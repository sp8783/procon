{
 "cells": [
  {
   "cell_type": "markdown",
   "metadata": {},
   "source": [
    "# 058"
   ]
  },
  {
   "cell_type": "code",
   "execution_count": 11,
   "metadata": {},
   "outputs": [
    {
     "name": "stdin",
     "output_type": "stream",
     "text": [
      " 99999 1000000000000000000\n"
     ]
    },
    {
     "name": "stdout",
     "output_type": "stream",
     "text": [
      "84563\n"
     ]
    }
   ],
   "source": [
    "N, K = map(int, input().split())\n",
    "\n",
    "def func(x):\n",
    "    y = sum([int(l) for l in list(str(x))])\n",
    "    return (x + y)%10**5\n",
    "\n",
    "n = N\n",
    "lst = [n]\n",
    "flag = True\n",
    "for i in range(K):\n",
    "    n = func(n)\n",
    "    if n in set(lst):\n",
    "        idx = lst.index(n)\n",
    "        lst = lst[idx:]\n",
    "        ans = lst[(K-idx)%len(lst)]\n",
    "        flag = False\n",
    "        break\n",
    "#     print(n)\n",
    "    lst.append(n)\n",
    "\n",
    "if flag:\n",
    "    ans = n\n",
    "\n",
    "print(ans)"
   ]
  }
 ],
 "metadata": {
  "kernelspec": {
   "display_name": "Python 3",
   "language": "python",
   "name": "python3"
  },
  "language_info": {
   "codemirror_mode": {
    "name": "ipython",
    "version": 3
   },
   "file_extension": ".py",
   "mimetype": "text/x-python",
   "name": "python",
   "nbconvert_exporter": "python",
   "pygments_lexer": "ipython3",
   "version": "3.6.5"
  }
 },
 "nbformat": 4,
 "nbformat_minor": 4
}

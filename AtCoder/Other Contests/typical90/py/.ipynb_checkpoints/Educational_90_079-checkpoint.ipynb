{
 "cells": [
  {
   "cell_type": "markdown",
   "metadata": {},
   "source": [
    "# 079"
   ]
  },
  {
   "cell_type": "code",
   "execution_count": 4,
   "metadata": {},
   "outputs": [
    {
     "name": "stdout",
     "output_type": "stream",
     "text": [
      "Yes\n",
      "140\n"
     ]
    }
   ],
   "source": [
    "H, W = map(int, input().split())\n",
    "A = [list(map(int, input().split())) for _ in range(H)]\n",
    "B = [list(map(int, input().split())) for _ in range(H)]\n",
    "\n",
    "cnt = 0\n",
    "for i in range(H-1):\n",
    "    for j in range(W-1):\n",
    "        d = B[i][j] - A[i][j]\n",
    "        A[i][j] += d\n",
    "        A[i+1][j] += d\n",
    "        A[i][j+1] += d\n",
    "        A[i+1][j+1] += d        \n",
    "        cnt += abs(d)\n",
    "        \n",
    "flag = True\n",
    "for i in range(H):\n",
    "    if A[i][W-1] != B[i][W-1]:\n",
    "        flag = False\n",
    "for j in range(W):\n",
    "    if A[H-1][j] != B[H-1][j]:\n",
    "        flag = False\n",
    "\n",
    "if flag:\n",
    "    print(\"Yes\")\n",
    "    print(cnt)\n",
    "else:\n",
    "    print(\"No\")"
   ]
  }
 ],
 "metadata": {
  "kernelspec": {
   "display_name": "Python 3",
   "language": "python",
   "name": "python3"
  },
  "language_info": {
   "codemirror_mode": {
    "name": "ipython",
    "version": 3
   },
   "file_extension": ".py",
   "mimetype": "text/x-python",
   "name": "python",
   "nbconvert_exporter": "python",
   "pygments_lexer": "ipython3",
   "version": "3.6.5"
  }
 },
 "nbformat": 4,
 "nbformat_minor": 4
}

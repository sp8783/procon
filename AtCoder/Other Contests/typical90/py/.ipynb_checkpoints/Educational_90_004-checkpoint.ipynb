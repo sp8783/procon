{
 "cells": [
  {
   "cell_type": "markdown",
   "metadata": {},
   "source": [
    "# 004"
   ]
  },
  {
   "cell_type": "code",
   "execution_count": 4,
   "metadata": {},
   "outputs": [
    {
     "name": "stdin",
     "output_type": "stream",
     "text": [
      " 4 4\n",
      " 3 1 4 1\n",
      " 5 9 2 6\n",
      " 5 3 5 8\n",
      " 9 7 9 3\n"
     ]
    },
    {
     "name": "stdout",
     "output_type": "stream",
     "text": [
      "28 28 25 26\n",
      "39 33 40 34\n",
      "38 38 36 31\n",
      "41 41 39 43\n"
     ]
    }
   ],
   "source": [
    "H, W = map(int, input().split())\n",
    "A = [list(map(int, input().split())) for _ in range(H)]\n",
    "\n",
    "S_col = [0]*W\n",
    "S_row = [0]*H\n",
    "\n",
    "for h in range(H):\n",
    "    for w in range(W):\n",
    "        S_col[w] += A[h][w]\n",
    "        S_row[h] += A[h][w]\n",
    "\n",
    "for h in range(H):\n",
    "    ans = []\n",
    "    for w in range(W):\n",
    "        ans.append(S_col[w] + S_row[h] - A[h][w])\n",
    "    print(*ans)"
   ]
  },
  {
   "cell_type": "code",
   "execution_count": 2,
   "metadata": {},
   "outputs": [
    {
     "name": "stdin",
     "output_type": "stream",
     "text": [
      " 4 4\n",
      " 3 1 4 1\n",
      " 5 9 2 6\n",
      " 5 3 5 8\n",
      " 9 7 9 3\n"
     ]
    },
    {
     "name": "stdout",
     "output_type": "stream",
     "text": [
      "28 28 25 26\n",
      "39 33 40 34\n",
      "38 38 36 31\n",
      "41 41 39 43\n"
     ]
    }
   ],
   "source": [
    "H, W = map(int, input().split())\n",
    "A = [list(map(int, input().split())) for _ in range(H)]\n",
    "R = [0]*H\n",
    "C = [0]*W\n",
    "\n",
    "for i in range(H):\n",
    "    for j in range(W):\n",
    "        R[i] += A[i][j]\n",
    "        C[j] += A[i][j]\n",
    "        \n",
    "B = [[0]*W for _ in range(H)]\n",
    "for i in range(H):\n",
    "    for j in range(W):\n",
    "        B[i][j] += R[i] + C[j] - A[i][j]\n",
    "        \n",
    "for h in range(H):\n",
    "    print(*B[h])"
   ]
  }
 ],
 "metadata": {
  "kernelspec": {
   "display_name": "Python 3",
   "language": "python",
   "name": "python3"
  },
  "language_info": {
   "codemirror_mode": {
    "name": "ipython",
    "version": 3
   },
   "file_extension": ".py",
   "mimetype": "text/x-python",
   "name": "python",
   "nbconvert_exporter": "python",
   "pygments_lexer": "ipython3",
   "version": "3.6.5"
  }
 },
 "nbformat": 4,
 "nbformat_minor": 4
}

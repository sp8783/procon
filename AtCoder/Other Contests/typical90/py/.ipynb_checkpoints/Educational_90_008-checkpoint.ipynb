{
 "cells": [
  {
   "cell_type": "markdown",
   "metadata": {},
   "source": [
    "# 008"
   ]
  },
  {
   "cell_type": "code",
   "execution_count": 3,
   "metadata": {},
   "outputs": [
    {
     "name": "stdin",
     "output_type": "stream",
     "text": [
      " 10\n",
      " attcordeer\n"
     ]
    },
    {
     "name": "stdout",
     "output_type": "stream",
     "text": [
      "4\n"
     ]
    }
   ],
   "source": [
    "N=int(input())\n",
    "S=input()\n",
    "l=[0]*7\n",
    "\n",
    "for i in range(1,N+1):\n",
    "\tt=S[-i]\n",
    "\tif t==\"r\":\n",
    "\t\tl[0]+=1\n",
    "\telif t==\"e\":\n",
    "\t\tl[1]+=l[0]\n",
    "\telif t==\"d\":\n",
    "\t\tl[2]+=l[1]\n",
    "\telif t==\"o\":\n",
    "\t\tl[3]+=l[2]\n",
    "\telif t==\"c\":\n",
    "\t\tl[4]+=l[3]\n",
    "\telif t==\"t\":\n",
    "\t\tl[5]+=l[4]\n",
    "\telif t==\"a\":\n",
    "\t\tl[6]+=l[5]\n",
    "print(l[-1]%(10**9+7))"
   ]
  }
 ],
 "metadata": {
  "kernelspec": {
   "display_name": "Python 3",
   "language": "python",
   "name": "python3"
  },
  "language_info": {
   "codemirror_mode": {
    "name": "ipython",
    "version": 3
   },
   "file_extension": ".py",
   "mimetype": "text/x-python",
   "name": "python",
   "nbconvert_exporter": "python",
   "pygments_lexer": "ipython3",
   "version": "3.6.5"
  }
 },
 "nbformat": 4,
 "nbformat_minor": 4
}

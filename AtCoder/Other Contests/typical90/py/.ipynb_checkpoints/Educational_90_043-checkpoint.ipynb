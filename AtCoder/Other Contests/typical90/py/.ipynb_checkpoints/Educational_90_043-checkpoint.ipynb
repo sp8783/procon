{
 "cells": [
  {
   "cell_type": "markdown",
   "metadata": {},
   "source": [
    "# 043"
   ]
  },
  {
   "cell_type": "code",
   "execution_count": 7,
   "metadata": {},
   "outputs": [
    {
     "name": "stdout",
     "output_type": "stream",
     "text": [
      "2\n"
     ]
    }
   ],
   "source": [
    "from collections import deque\n",
    "\n",
    "H, W = map(int, input().split())\n",
    "rs, cs = map(lambda x:int(x)-1, input().split())\n",
    "rt, ct = map(lambda x:int(x)-1, input().split())\n",
    "S = [list(input()) for _ in range(H)]\n",
    "\n",
    "q = deque()\n",
    "\n",
    "# [[座標x, 座標y], 方向idx, 方向転換回数]\n",
    "q.append([[cs, rs], 0, 0])\n",
    "q.append([[cs, rs], 1, 0])\n",
    "q.append([[cs, rs], 2, 0])\n",
    "q.append([[cs, rs], 3, 0])\n",
    "\n",
    "\n",
    "dist = [[10**10]*W for _ in range(H)]\n",
    "dxy = [(1,0),(-1,0),(0,1),(0,-1)]\n",
    "\n",
    "while q:\n",
    "    v, vec, cnt = q.popleft()\n",
    "    x, y = v[0], v[1]\n",
    "#     print(\"▼[x,y],cnt = [{},{}],{}\".format(x,y,cnt))\n",
    "    if dist[y][x] < cnt:\n",
    "        continue\n",
    "    \n",
    "    for i in range(4):\n",
    "        dx, dy = dxy[i]\n",
    "        nx = x + dx\n",
    "        ny = y + dy\n",
    "        if 0 <= nx < W and 0 <= ny < H and S[ny][nx] == \".\":\n",
    "            if i == vec:\n",
    "                if dist[ny][nx] >= cnt:\n",
    "                    dist[ny][nx] = cnt\n",
    "                    q.appendleft([[nx, ny], i, cnt])\n",
    "            else:\n",
    "                if dist[ny][nx] > cnt:\n",
    "                    dist[ny][nx] = cnt + 1\n",
    "                    q.append([[nx, ny], i, cnt + 1])\n",
    "\n",
    "print(dist[rt][ct])"
   ]
  }
 ],
 "metadata": {
  "kernelspec": {
   "display_name": "Python 3",
   "language": "python",
   "name": "python3"
  },
  "language_info": {
   "codemirror_mode": {
    "name": "ipython",
    "version": 3
   },
   "file_extension": ".py",
   "mimetype": "text/x-python",
   "name": "python",
   "nbconvert_exporter": "python",
   "pygments_lexer": "ipython3",
   "version": "3.6.5"
  }
 },
 "nbformat": 4,
 "nbformat_minor": 4
}

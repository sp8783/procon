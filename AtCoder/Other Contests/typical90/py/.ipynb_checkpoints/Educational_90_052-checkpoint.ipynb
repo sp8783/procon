{
 "cells": [
  {
   "cell_type": "markdown",
   "metadata": {},
   "source": [
    "# 052"
   ]
  },
  {
   "cell_type": "code",
   "execution_count": 3,
   "metadata": {},
   "outputs": [
    {
     "name": "stdin",
     "output_type": "stream",
     "text": [
      " 2\n",
      " 1 2 3 5 7 11\n",
      " 4 6 8 9 10 12\n"
     ]
    },
    {
     "name": "stdout",
     "output_type": "stream",
     "text": [
      "1421\n"
     ]
    }
   ],
   "source": [
    "N = int(input())\n",
    "\n",
    "ans = 1\n",
    "MOD = 10**9+7\n",
    "for _ in range(N):\n",
    "    A = list(map(int, input().split()))\n",
    "    ans *= sum(A)\n",
    "    ans %= MOD\n",
    "\n",
    "print(ans)"
   ]
  }
 ],
 "metadata": {
  "kernelspec": {
   "display_name": "Python 3",
   "language": "python",
   "name": "python3"
  },
  "language_info": {
   "codemirror_mode": {
    "name": "ipython",
    "version": 3
   },
   "file_extension": ".py",
   "mimetype": "text/x-python",
   "name": "python",
   "nbconvert_exporter": "python",
   "pygments_lexer": "ipython3",
   "version": "3.6.5"
  }
 },
 "nbformat": 4,
 "nbformat_minor": 4
}

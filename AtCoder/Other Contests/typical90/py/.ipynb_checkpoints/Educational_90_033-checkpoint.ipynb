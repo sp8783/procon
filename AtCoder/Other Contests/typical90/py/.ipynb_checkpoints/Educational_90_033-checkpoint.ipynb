{
 "cells": [
  {
   "cell_type": "markdown",
   "metadata": {},
   "source": [
    "# 032"
   ]
  },
  {
   "cell_type": "code",
   "execution_count": 19,
   "metadata": {},
   "outputs": [
    {
     "name": "stdout",
     "output_type": "stream",
     "text": [
      "1341\n"
     ]
    }
   ],
   "source": [
    "import itertools\n",
    "\n",
    "N = int(input())\n",
    "A = [list(map(int, input().split())) for _ in range(N)]\n",
    "M = int(input())\n",
    "lst = [[] for _ in range(N)]\n",
    "for _ in range(M):\n",
    "    x, y = map(int, input().split())\n",
    "    lst[x-1].append(y-1)\n",
    "    lst[y-1].append(x-1)\n",
    "    \n",
    "L = itertools.permutations(range(N),N)\n",
    "\n",
    "ans = 10**10\n",
    "for l in L:\n",
    "#     print(l)\n",
    "    tot = 0\n",
    "    flag = True\n",
    "    for i in range(N):\n",
    "        if i != 0:\n",
    "            if l[i] in set(lst[l[i-1]]):\n",
    "                flag = False\n",
    "#                 print(\"break\")\n",
    "                break\n",
    "        tot += A[l[i]][i]\n",
    "    if flag:\n",
    "        ans = min(ans, tot)\n",
    "#         print(tot)\n",
    "                \n",
    "if ans == 10**10:\n",
    "    print(-1)\n",
    "else:\n",
    "    print(ans)"
   ]
  }
 ],
 "metadata": {
  "kernelspec": {
   "display_name": "Python 3",
   "language": "python",
   "name": "python3"
  },
  "language_info": {
   "codemirror_mode": {
    "name": "ipython",
    "version": 3
   },
   "file_extension": ".py",
   "mimetype": "text/x-python",
   "name": "python",
   "nbconvert_exporter": "python",
   "pygments_lexer": "ipython3",
   "version": "3.6.5"
  }
 },
 "nbformat": 4,
 "nbformat_minor": 4
}

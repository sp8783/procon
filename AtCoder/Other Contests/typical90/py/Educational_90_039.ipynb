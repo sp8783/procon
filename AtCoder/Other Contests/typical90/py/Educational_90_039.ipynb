{
 "cells": [
  {
   "cell_type": "markdown",
   "metadata": {},
   "source": [
    "# 039"
   ]
  },
  {
   "cell_type": "code",
   "execution_count": 6,
   "metadata": {},
   "outputs": [
    {
     "name": "stdout",
     "output_type": "stream",
     "text": [
      "211\n"
     ]
    }
   ],
   "source": [
    "import sys\n",
    "sys.setrecursionlimit(10**6)\n",
    "\n",
    "N = int(input())\n",
    "adj = [[] for _ in range(N)]\n",
    "for _ in range(N-1):\n",
    "    a, b = map(lambda x:int(x) -1 , input().split())\n",
    "    adj[a].append(b)\n",
    "    adj[b].append(a)\n",
    "    \n",
    "child = [0]*N\n",
    "check = [False]*N\n",
    "\n",
    "def dfs(v):\n",
    "    p = 1\n",
    "    check[v] = True\n",
    "    for nv in adj[v]:\n",
    "        if check[nv]:\n",
    "            continue\n",
    "        p += dfs(nv)\n",
    "    child[v] = p\n",
    "    return child[v]\n",
    "\n",
    "dfs(0)\n",
    "\n",
    "ans = 0\n",
    "for i in range(N):\n",
    "    ans += child[i]*(N-child[i])\n",
    "print(ans)"
   ]
  },
  {
   "cell_type": "markdown",
   "metadata": {},
   "source": [
    "※オイラーツアーver"
   ]
  },
  {
   "cell_type": "code",
   "execution_count": 7,
   "metadata": {},
   "outputs": [
    {
     "name": "stdout",
     "output_type": "stream",
     "text": [
      "211\n"
     ]
    }
   ],
   "source": [
    "def EulerTour(n, graph, start):\n",
    "    \"\"\"\n",
    "    オイラーツアー:=\n",
    "    根付きを根からDFSして、根に戻ってくる行きと戻りの経路を1次元のテーブルに記録したもの。\n",
    " \n",
    "    Returns\n",
    "        ET: Euler Tour Pathのi番目の頂点番号\n",
    "        ET1: 各頂点のStart時点の番号\n",
    "        ET2: 各頂点のEnd時点の番号\n",
    "        DE: 各頂点の深さ\n",
    "        (ET1 - ET2 は各頂点を親としたときの、子の数になる)\n",
    "    -------\n",
    "    graphは破壊してgraphとPができる\n",
    "    \"\"\"\n",
    "    P = [-1] * n\n",
    "    Q = [~start, start]\n",
    "    cnt = -1\n",
    "    ET = []\n",
    "    ET1 = [0] * n\n",
    "    ET2 = [0] * n\n",
    "    DE = [0] * n\n",
    "    depth = -1\n",
    "    while Q:\n",
    "        i = Q.pop()\n",
    "        if i < 0:\n",
    "            # ↓ 戻りも数字を足す場合はこれを使う\n",
    "            # cnt += 1\n",
    "            # ↓ 戻りもETに入れる場合はこれを使う\n",
    "            # ET.append(P[~i])\n",
    "            ET2[~i] = cnt\n",
    "            depth -= 1\n",
    "            continue\n",
    "        if i >= 0:\n",
    "            ET.append(i)\n",
    "            cnt += 1\n",
    "            if ET1[i] == 0:\n",
    "                ET1[i] = cnt\n",
    "            depth += 1\n",
    "            DE[i] = depth\n",
    "        for a in graph[i][::-1]:\n",
    "            if a != P[i]:\n",
    "                P[a] = i\n",
    "                for k in range(len(graph[a])):\n",
    "                    if graph[a][k] == i:\n",
    "                        del graph[a][k]\n",
    "                        break\n",
    "                Q.append(~a)\n",
    "                Q.append(a)\n",
    "    return (ET, ET1, ET2, DE)\n",
    " \n",
    "\n",
    "n = int(input())\n",
    "graph = [[] for _ in range(n)]\n",
    "for _ in range(n - 1):\n",
    "    a, b = map(int, input().split())\n",
    "    graph[a - 1].append(b - 1)\n",
    "    graph[b - 1].append(a - 1)\n",
    "\n",
    "ETI, ET1, ET2, DE = EulerTour(n, graph, 0)\n",
    " \n",
    "ans = 0\n",
    "for i in range(n):\n",
    "    c = ET2[i] - ET1[i] + 1\n",
    "    ans += c * (n - c)\n",
    "\n",
    "print(ans)"
   ]
  }
 ],
 "metadata": {
  "kernelspec": {
   "display_name": "Python 3",
   "language": "python",
   "name": "python3"
  },
  "language_info": {
   "codemirror_mode": {
    "name": "ipython",
    "version": 3
   },
   "file_extension": ".py",
   "mimetype": "text/x-python",
   "name": "python",
   "nbconvert_exporter": "python",
   "pygments_lexer": "ipython3",
   "version": "3.6.5"
  }
 },
 "nbformat": 4,
 "nbformat_minor": 4
}

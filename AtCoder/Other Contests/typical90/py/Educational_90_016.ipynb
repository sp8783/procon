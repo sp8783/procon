{
 "cells": [
  {
   "cell_type": "markdown",
   "metadata": {},
   "source": [
    "# 016"
   ]
  },
  {
   "cell_type": "code",
   "execution_count": 9,
   "metadata": {},
   "outputs": [
    {
     "name": "stdin",
     "output_type": "stream",
     "text": [
      " 998244353\n",
      " 314159 265358 97932\n"
     ]
    },
    {
     "name": "stdout",
     "output_type": "stream",
     "text": [
      "3333\n"
     ]
    }
   ],
   "source": [
    "N = int(input())\n",
    "coin = sorted(list(map(int, input().split())))[::-1]\n",
    "\n",
    "ans = 9999\n",
    "for i in range(10000)[::-1]:\n",
    "    if coin[0]*i > N:\n",
    "        continue\n",
    "    for j in range(10000-i)[::-1]:\n",
    "        if coin[0]*i + coin[1]*j > N:\n",
    "            continue\n",
    "        left = N - (coin[0]*i + coin[1]*j)\n",
    "        if left%coin[2] == 0:\n",
    "            ans = min(ans, i + j + left//coin[2])\n",
    "                \n",
    "print(ans)"
   ]
  }
 ],
 "metadata": {
  "kernelspec": {
   "display_name": "Python 3",
   "language": "python",
   "name": "python3"
  },
  "language_info": {
   "codemirror_mode": {
    "name": "ipython",
    "version": 3
   },
   "file_extension": ".py",
   "mimetype": "text/x-python",
   "name": "python",
   "nbconvert_exporter": "python",
   "pygments_lexer": "ipython3",
   "version": "3.6.5"
  }
 },
 "nbformat": 4,
 "nbformat_minor": 4
}

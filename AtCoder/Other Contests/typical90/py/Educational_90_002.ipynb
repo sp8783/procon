{
 "cells": [
  {
   "cell_type": "markdown",
   "metadata": {},
   "source": [
    "# 002"
   ]
  },
  {
   "cell_type": "code",
   "execution_count": 8,
   "metadata": {},
   "outputs": [
    {
     "name": "stdin",
     "output_type": "stream",
     "text": [
      " 10\n"
     ]
    },
    {
     "name": "stdout",
     "output_type": "stream",
     "text": [
      "((((()))))\n",
      "(((()())))\n",
      "(((())()))\n",
      "(((()))())\n",
      "(((())))()\n",
      "((()(())))\n",
      "((()()()))\n",
      "((()())())\n",
      "((()()))()\n",
      "((())(()))\n",
      "((())()())\n",
      "((())())()\n",
      "((()))(())\n",
      "((()))()()\n",
      "(()((())))\n",
      "(()(()()))\n",
      "(()(())())\n",
      "(()(()))()\n",
      "(()()(()))\n",
      "(()()()())\n",
      "(()()())()\n",
      "(()())(())\n",
      "(()())()()\n",
      "(())((()))\n",
      "(())(()())\n",
      "(())(())()\n",
      "(())()(())\n",
      "(())()()()\n",
      "()(((())))\n",
      "()((()()))\n",
      "()((())())\n",
      "()((()))()\n",
      "()(()(()))\n",
      "()(()()())\n",
      "()(()())()\n",
      "()(())(())\n",
      "()(())()()\n",
      "()()((()))\n",
      "()()(()())\n",
      "()()(())()\n",
      "()()()(())\n",
      "()()()()()\n"
     ]
    }
   ],
   "source": [
    "import itertools\n",
    "\n",
    "N = int(input())\n",
    "\n",
    "if N%2 == 0:\n",
    "    for L in itertools.combinations(range(N),N//2):\n",
    "        idx = 0\n",
    "        l = 0\n",
    "        r = 0\n",
    "        lst = []\n",
    "        flag = True\n",
    "        for i in range(N):\n",
    "            if idx >= N//2:\n",
    "                r += 1\n",
    "                lst.append(\")\")\n",
    "            elif i == L[idx]:\n",
    "                l += 1\n",
    "                idx += 1\n",
    "                lst.append(\"(\")\n",
    "            else:\n",
    "                r += 1\n",
    "                lst.append(\")\")\n",
    "            if l < r:\n",
    "                flag = False\n",
    "                break\n",
    "        if flag:\n",
    "            print(\"\".join(lst))"
   ]
  }
 ],
 "metadata": {
  "kernelspec": {
   "display_name": "Python 3",
   "language": "python",
   "name": "python3"
  },
  "language_info": {
   "codemirror_mode": {
    "name": "ipython",
    "version": 3
   },
   "file_extension": ".py",
   "mimetype": "text/x-python",
   "name": "python",
   "nbconvert_exporter": "python",
   "pygments_lexer": "ipython3",
   "version": "3.6.5"
  }
 },
 "nbformat": 4,
 "nbformat_minor": 4
}

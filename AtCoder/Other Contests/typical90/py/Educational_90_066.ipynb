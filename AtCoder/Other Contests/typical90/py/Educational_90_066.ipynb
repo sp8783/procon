{
 "cells": [
  {
   "cell_type": "markdown",
   "metadata": {},
   "source": [
    "# 066"
   ]
  },
  {
   "cell_type": "code",
   "execution_count": 10,
   "metadata": {},
   "outputs": [
    {
     "name": "stdout",
     "output_type": "stream",
     "text": [
      "13.696758921225832\n"
     ]
    }
   ],
   "source": [
    "N = int(input())\n",
    "LR = [list(map(int, input().split())) for _ in range(N)]\n",
    "\n",
    "ans = 0\n",
    "for i in range(N-1):\n",
    "    li, ri = LR[i]\n",
    "    for j in range(i+1, N):\n",
    "        cnt = 0\n",
    "        lj, rj = LR[j]\n",
    "        for k in range(li, ri+1):\n",
    "            cnt += max(k - lj, 0) - max(k - rj - 1, 0)\n",
    "        ans += cnt/((ri-li+1)*(rj-lj+1))\n",
    "        \n",
    "print(ans)"
   ]
  }
 ],
 "metadata": {
  "kernelspec": {
   "display_name": "Python 3",
   "language": "python",
   "name": "python3"
  },
  "language_info": {
   "codemirror_mode": {
    "name": "ipython",
    "version": 3
   },
   "file_extension": ".py",
   "mimetype": "text/x-python",
   "name": "python",
   "nbconvert_exporter": "python",
   "pygments_lexer": "ipython3",
   "version": "3.6.5"
  }
 },
 "nbformat": 4,
 "nbformat_minor": 4
}

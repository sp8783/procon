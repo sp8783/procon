{
 "cells": [
  {
   "cell_type": "markdown",
   "metadata": {},
   "source": [
    "# 067"
   ]
  },
  {
   "cell_type": "code",
   "execution_count": 18,
   "metadata": {},
   "outputs": [
    {
     "name": "stdin",
     "output_type": "stream",
     "text": [
      " 2311640221315 15\n"
     ]
    },
    {
     "name": "stdout",
     "output_type": "stream",
     "text": [
      "474547\n"
     ]
    }
   ],
   "source": [
    "def func(lst8):\n",
    "\n",
    "    return lst9\n",
    "\n",
    "N, K = map(int, input().split())\n",
    "\n",
    "lst = [int(l) for l in list(str(N))]\n",
    "for _ in range(K):\n",
    "    # 8進法を10進法に\n",
    "    tmp = 0\n",
    "    for i in range(len(lst)):\n",
    "        tmp += lst[(i+1)*(-1)]*(8**i)\n",
    "#     print(tmp)\n",
    "        \n",
    "    # 10進法を9進法に & 8⇒5に\n",
    "    lst = []\n",
    "    for i in range(20)[::-1]:\n",
    "        if tmp//(9**i) == 8:\n",
    "            lst.append(5)\n",
    "        else:\n",
    "            lst.append(tmp//(9**i))\n",
    "        tmp %= 9**i\n",
    "#     print(lst)\n",
    "\n",
    "ans = \"\" \n",
    "for l in lst:\n",
    "    ans += str(l)\n",
    "print(int(ans))"
   ]
  }
 ],
 "metadata": {
  "kernelspec": {
   "display_name": "Python 3",
   "language": "python",
   "name": "python3"
  },
  "language_info": {
   "codemirror_mode": {
    "name": "ipython",
    "version": 3
   },
   "file_extension": ".py",
   "mimetype": "text/x-python",
   "name": "python",
   "nbconvert_exporter": "python",
   "pygments_lexer": "ipython3",
   "version": "3.6.5"
  }
 },
 "nbformat": 4,
 "nbformat_minor": 4
}

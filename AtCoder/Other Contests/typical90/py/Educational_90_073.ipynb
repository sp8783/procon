{
 "cells": [
  {
   "cell_type": "markdown",
   "metadata": {},
   "source": [
    "# 073"
   ]
  },
  {
   "cell_type": "code",
   "execution_count": 3,
   "metadata": {},
   "outputs": [
    {
     "name": "stdin",
     "output_type": "stream",
     "text": [
      " 7\n",
      " b a b a b b a\n",
      " 2 1\n",
      " 3 7\n",
      " 3 2\n",
      " 3 4\n",
      " 5 4\n",
      " 4 6\n"
     ]
    },
    {
     "name": "stdout",
     "output_type": "stream",
     "text": [
      "4\n"
     ]
    }
   ],
   "source": [
    "MOD = 10**9+7\n",
    "\n",
    "def dfs(pos, pre):\n",
    "    val1 = 1; val2 = 1\n",
    "    for i in adj[pos]:\n",
    "        if i == pre: continue\n",
    "        dfs(i, pos)\n",
    "        if C[pos] == 'a':\n",
    "            val1 *= dp[i][0] + dp[i][2]\n",
    "            val2 *= dp[i][0] + dp[i][1] + 2 * dp[i][2]\n",
    "        if C[pos] == 'b':\n",
    "            val1 *= dp[i][1] + dp[i][2]\n",
    "            val2 *= dp[i][0] + dp[i][1] + 2 * dp[i][2]\n",
    "        val1 %= MOD\n",
    "        val2 %= MOD\n",
    "\n",
    "    if C[pos] == 'a':\n",
    "        dp[pos][0] = val1\n",
    "        dp[pos][2] = (val2 - val1 + MOD) % MOD\n",
    "    if C[pos] == 'b':\n",
    "        dp[pos][1] = val1\n",
    "        dp[pos][2] = (val2 - val1 + MOD) % MOD\n",
    "\n",
    "# Step #1. Input\n",
    "N = int(input())\n",
    "C = list(input().split())\n",
    "adj = [[] for _ in range(N)]\n",
    "for _ in range(N-1):\n",
    "    A,B = map(int,input().split())\n",
    "    A -= 1\n",
    "    B -= 1\n",
    "    adj[A].append(B)\n",
    "    adj[B].append(A)\n",
    "\n",
    "# Step #2. DFS\n",
    "dp = [[0] * 3 for _ in range(N)]\n",
    "dfs(0, -1)\n",
    "print(dp[0][2])"
   ]
  }
 ],
 "metadata": {
  "kernelspec": {
   "display_name": "Python 3",
   "language": "python",
   "name": "python3"
  },
  "language_info": {
   "codemirror_mode": {
    "name": "ipython",
    "version": 3
   },
   "file_extension": ".py",
   "mimetype": "text/x-python",
   "name": "python",
   "nbconvert_exporter": "python",
   "pygments_lexer": "ipython3",
   "version": "3.6.5"
  }
 },
 "nbformat": 4,
 "nbformat_minor": 4
}

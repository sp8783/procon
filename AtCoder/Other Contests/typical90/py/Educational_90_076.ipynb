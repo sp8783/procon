{
 "cells": [
  {
   "cell_type": "markdown",
   "metadata": {},
   "source": [
    "# 076"
   ]
  },
  {
   "cell_type": "code",
   "execution_count": 30,
   "metadata": {},
   "outputs": [
    {
     "name": "stdin",
     "output_type": "stream",
     "text": [
      " 4\n",
      " 1 9 1 9\n"
     ]
    },
    {
     "name": "stdout",
     "output_type": "stream",
     "text": [
      "1\n",
      "0\n",
      "1\n",
      "0\n",
      "1\n",
      "0\n",
      "1\n",
      "No\n"
     ]
    }
   ],
   "source": [
    "N = int(input())\n",
    "A = list(map(int, input().split()))\n",
    "\n",
    "S = sum(A)\n",
    "\n",
    "if S%10 != 0:\n",
    "    print(\"No\")\n",
    "else:\n",
    "    A = A + A[:-1]\n",
    "\n",
    "    left = 0\n",
    "    total = 0\n",
    "    ans = \"No\"\n",
    "\n",
    "    for right in range(2*N-1):\n",
    "        total += A[right]\n",
    "        while total > S//10:\n",
    "            total -= A[left]\n",
    "            left += 1\n",
    "        if total == S//10:\n",
    "            ans = \"Yes\"\n",
    "            break\n",
    "#         print(total)\n",
    "\n",
    "    print(ans)"
   ]
  }
 ],
 "metadata": {
  "kernelspec": {
   "display_name": "Python 3",
   "language": "python",
   "name": "python3"
  },
  "language_info": {
   "codemirror_mode": {
    "name": "ipython",
    "version": 3
   },
   "file_extension": ".py",
   "mimetype": "text/x-python",
   "name": "python",
   "nbconvert_exporter": "python",
   "pygments_lexer": "ipython3",
   "version": "3.6.5"
  }
 },
 "nbformat": 4,
 "nbformat_minor": 4
}

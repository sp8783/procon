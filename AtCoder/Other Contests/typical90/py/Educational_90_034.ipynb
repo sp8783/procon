{
 "cells": [
  {
   "cell_type": "markdown",
   "metadata": {},
   "source": [
    "# 034"
   ]
  },
  {
   "cell_type": "code",
   "execution_count": 4,
   "metadata": {},
   "outputs": [
    {
     "name": "stdin",
     "output_type": "stream",
     "text": [
      " 5 4\n",
      " 1 1 2 4 2\n"
     ]
    },
    {
     "name": "stdout",
     "output_type": "stream",
     "text": [
      "5\n"
     ]
    }
   ],
   "source": [
    "N, K = map(int, input().split())\n",
    "A = list(map(int, input().split()))\n",
    "\n",
    "cnt = dict(zip(list(set(A)), [0]*len(set(A))))\n",
    "left = 0\n",
    "ans = 0\n",
    "k = 0\n",
    "\n",
    "for right in range(N):\n",
    "    cnt[A[right]] += 1\n",
    "    if cnt[A[right]] == 1:\n",
    "        k += 1\n",
    "    while k > K:\n",
    "        cnt[A[left]] -= 1\n",
    "        if cnt[A[left]] == 0:\n",
    "            k -= 1\n",
    "        left += 1\n",
    "    ans = max(ans, right-left+1)\n",
    "\n",
    "print(ans)"
   ]
  }
 ],
 "metadata": {
  "kernelspec": {
   "display_name": "Python 3",
   "language": "python",
   "name": "python3"
  },
  "language_info": {
   "codemirror_mode": {
    "name": "ipython",
    "version": 3
   },
   "file_extension": ".py",
   "mimetype": "text/x-python",
   "name": "python",
   "nbconvert_exporter": "python",
   "pygments_lexer": "ipython3",
   "version": "3.6.5"
  }
 },
 "nbformat": 4,
 "nbformat_minor": 4
}

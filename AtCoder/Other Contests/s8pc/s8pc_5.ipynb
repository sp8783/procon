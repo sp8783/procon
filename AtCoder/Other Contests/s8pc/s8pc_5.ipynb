{
 "cells": [
  {
   "cell_type": "markdown",
   "metadata": {},
   "source": [
    "※コンテストURL：https://atcoder.jp/contests/s8pc-5"
   ]
  },
  {
   "cell_type": "markdown",
   "metadata": {},
   "source": [
    "# B問題"
   ]
  },
  {
   "cell_type": "code",
   "execution_count": 6,
   "metadata": {},
   "outputs": [
    {
     "name": "stdout",
     "output_type": "stream",
     "text": [
      "1.7082039324993694\n"
     ]
    }
   ],
   "source": [
    "import math\n",
    "\n",
    "def calc_dist(a,b):\n",
    "    tot = 0\n",
    "    for i,j in zip(a,b):\n",
    "        tot += (i-j)**2\n",
    "    return math.sqrt(tot)\n",
    "\n",
    "N, M = map(int, input().split())\n",
    "lst = []\n",
    "ans = 101\n",
    "for i in range(N):\n",
    "    x, y, r = map(int, input().split())\n",
    "    lst.append([x,y,r])\n",
    "    ans = min(ans, r)\n",
    "\n",
    "lst2 = []\n",
    "for i in range(M):\n",
    "    X, Y = map(int, input().split())\n",
    "\n",
    "    for j in range(N):\n",
    "        x, y, r = lst[j]\n",
    "        if j == 0:\n",
    "            tmp = calc_dist([x,y], [X,Y]) - r\n",
    "        else:\n",
    "            tmp = min(tmp, calc_dist([x,y], [X,Y]) - r)\n",
    "        ans = min(ans, tmp)\n",
    "    \n",
    "    for j in range(i):\n",
    "        x, y = lst2[j]\n",
    "        if j == 0:\n",
    "            tmp = calc_dist([x,y], [X,Y])/2\n",
    "        else:\n",
    "            tmp = min(tmp, calc_dist([x,y], [X,Y])/2)\n",
    "        ans = min(ans, tmp)\n",
    "    \n",
    "    lst2.append([X,Y])        \n",
    "\n",
    "print(ans)"
   ]
  }
 ],
 "metadata": {
  "kernelspec": {
   "display_name": "Python 3",
   "language": "python",
   "name": "python3"
  },
  "language_info": {
   "codemirror_mode": {
    "name": "ipython",
    "version": 3
   },
   "file_extension": ".py",
   "mimetype": "text/x-python",
   "name": "python",
   "nbconvert_exporter": "python",
   "pygments_lexer": "ipython3",
   "version": "3.6.5"
  }
 },
 "nbformat": 4,
 "nbformat_minor": 4
}

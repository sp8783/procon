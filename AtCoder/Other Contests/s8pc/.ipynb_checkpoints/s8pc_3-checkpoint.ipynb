{
 "cells": [
  {
   "cell_type": "markdown",
   "metadata": {},
   "source": [
    "※コンテストURL：https://atcoder.jp/contests/s8pc-3"
   ]
  },
  {
   "cell_type": "markdown",
   "metadata": {},
   "source": [
    "# B問題"
   ]
  },
  {
   "cell_type": "code",
   "execution_count": 2,
   "metadata": {},
   "outputs": [
    {
     "name": "stdout",
     "output_type": "stream",
     "text": [
      "2354638\n"
     ]
    }
   ],
   "source": [
    "# import numpy as np\n",
    "import copy\n",
    "\n",
    "H, W, K = map(int, input().split())\n",
    "\n",
    "## 入力の2次元配列に対し、転置＆各行を逆順に並び替える\n",
    "Lst = [list(map(int, list(input()))) for _ in range(H)]\n",
    "Lst = [list(x) for x in zip(*Lst)]\n",
    "for j in range(W):\n",
    "    Lst[j] = Lst[j][::-1]\n",
    "# print(np.array(Lst))\n",
    "\n",
    "ans_lst = []\n",
    "\n",
    "\n",
    "for h in range(H):\n",
    "    for w in range(W):\n",
    "#         print(\"▼[h,w] = [{},{}]-------------------------------\".format(h,w))\n",
    "        lst = copy.deepcopy(Lst)\n",
    "        lst[w].pop(h)\n",
    "        lst[w] += [0]\n",
    "#         print(np.array(Lst))\n",
    "#         print(np.array(lst))\n",
    "        \n",
    "        flag = True # 操作の終了フラグ（Falseで終了）\n",
    "        turn = 0\n",
    "        ans = 0\n",
    "\n",
    "        # 石が消えるまで操作を繰り返す\n",
    "        while flag:\n",
    "            ## 各列に対し石が消えるかチェック、消える場合は得点加算＆消える場所は0埋め\n",
    "            tot = 0\n",
    "            for i in range(H):\n",
    "                cnt = 1 # 何個消えるか\n",
    "                for j in range(1,W):\n",
    "                    # 石が消えるかチェック\n",
    "                    if lst[j-1][i] == lst[j][i]:\n",
    "                        cnt += 1\n",
    "                        # チェックの終了条件\n",
    "                        if cnt >= K and j == W-1:\n",
    "                            # 得点加算\n",
    "                            tot += lst[j-1][i]*cnt\n",
    "                            # 消える場所を0埋め\n",
    "                            for k in range(j-cnt+1,j+1):\n",
    "                                lst[k][i] = 0\n",
    "\n",
    "                    else:\n",
    "                        # チェックの終了条件\n",
    "                        if cnt >= K:\n",
    "                            # 得点加算\n",
    "                            tot += lst[j-1][i]*cnt\n",
    "                            # 消える場所を0埋め\n",
    "                            for k in range(j-cnt,j):\n",
    "                                lst[k][i] = 0\n",
    "                        cnt = 1\n",
    "\n",
    "#                 print(tot)\n",
    "#             print(np.array(lst))\n",
    "\n",
    "            ans += tot*(2**turn)\n",
    "            if tot == 0:\n",
    "                flag = False\n",
    "\n",
    "            ## 石の落下\n",
    "            if flag: # 消える石がない場合はスキップ\n",
    "                for j in range(W):\n",
    "                    tmp = []\n",
    "                    cnt_0 = 0\n",
    "                    for i in range(H):\n",
    "                        if lst[j][i] != 0:\n",
    "                            tmp.append(lst[j][i])\n",
    "                        else:\n",
    "                            cnt_0 += 1\n",
    "                    lst[j] = tmp + [0]*cnt_0\n",
    "\n",
    "            ## ターン数を+1\n",
    "            turn += 1\n",
    "\n",
    "#             print(np.array(lst))\n",
    "            \n",
    "        ans_lst.append(ans)\n",
    "#         print(ans_lst)\n",
    "\n",
    "print(max(ans_lst))"
   ]
  }
 ],
 "metadata": {
  "kernelspec": {
   "display_name": "Python 3",
   "language": "python",
   "name": "python3"
  },
  "language_info": {
   "codemirror_mode": {
    "name": "ipython",
    "version": 3
   },
   "file_extension": ".py",
   "mimetype": "text/x-python",
   "name": "python",
   "nbconvert_exporter": "python",
   "pygments_lexer": "ipython3",
   "version": "3.6.5"
  }
 },
 "nbformat": 4,
 "nbformat_minor": 4
}

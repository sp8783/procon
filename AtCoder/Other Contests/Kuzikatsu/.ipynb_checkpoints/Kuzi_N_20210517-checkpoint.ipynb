{
 "cells": [
  {
   "cell_type": "markdown",
   "metadata": {},
   "source": [
    "コンテストURL：https://kenkoooo.com/atcoder/#/contest/show/7240124a-e71e-43a8-99ae-3ca25e8ec14f"
   ]
  },
  {
   "cell_type": "markdown",
   "metadata": {},
   "source": [
    "# A問題"
   ]
  },
  {
   "cell_type": "code",
   "execution_count": 2,
   "metadata": {},
   "outputs": [
    {
     "name": "stdin",
     "output_type": "stream",
     "text": [
      " 15\n",
      " 13 76 46 15 50 98 93 77 31 43 84 90 6 24 14\n"
     ]
    },
    {
     "name": "stdout",
     "output_type": "stream",
     "text": [
      "3\n"
     ]
    }
   ],
   "source": [
    "N = int(input())\n",
    "A = list(map(int, input().split()))\n",
    "\n",
    "ans = 0\n",
    "for i in range(1,N+1):\n",
    "    if i%2 == 1 and A[i-1]%2 == 1:\n",
    "        ans += 1\n",
    "        \n",
    "print(ans)"
   ]
  },
  {
   "cell_type": "markdown",
   "metadata": {},
   "source": [
    "# B問題"
   ]
  },
  {
   "cell_type": "code",
   "execution_count": 7,
   "metadata": {},
   "outputs": [
    {
     "name": "stdin",
     "output_type": "stream",
     "text": [
      " 10000000019\n"
     ]
    },
    {
     "name": "stdout",
     "output_type": "stream",
     "text": [
      "10000000018\n"
     ]
    }
   ],
   "source": [
    "import math\n",
    "\n",
    "N = int(input())\n",
    "\n",
    "for i in range(1, math.floor(math.sqrt(N))+1)[::-1]:\n",
    "    if N%i == 0:\n",
    "        ans = (i-1) + (N//i-1)\n",
    "        break\n",
    "        \n",
    "print(ans)"
   ]
  },
  {
   "cell_type": "markdown",
   "metadata": {},
   "source": [
    "# C問題"
   ]
  },
  {
   "cell_type": "code",
   "execution_count": 12,
   "metadata": {},
   "outputs": [
    {
     "name": "stdin",
     "output_type": "stream",
     "text": [
      " 2 0\n",
      " \n"
     ]
    },
    {
     "name": "stdout",
     "output_type": "stream",
     "text": [
      "1\n"
     ]
    }
   ],
   "source": [
    "import math\n",
    "\n",
    "N, M = map(int, input().split())\n",
    "A = list(map(int, input().split()))\n",
    "\n",
    "A = [0] + sorted(A) + [N+1]\n",
    "k = N\n",
    "for i in range(M+1):\n",
    "    tmp = A[i+1] - A[i] - 1\n",
    "    if tmp != 0:\n",
    "        k = min(k, tmp)\n",
    "    \n",
    "ans = 0\n",
    "for i in range(M+1):\n",
    "    ans += math.ceil((A[i+1] - A[i] - 1)/k)\n",
    "\n",
    "print(ans)"
   ]
  },
  {
   "cell_type": "markdown",
   "metadata": {},
   "source": [
    "# D問題"
   ]
  },
  {
   "cell_type": "code",
   "execution_count": 36,
   "metadata": {},
   "outputs": [
    {
     "name": "stdin",
     "output_type": "stream",
     "text": [
      " 3 3 10\n",
      " 1 1 1\n",
      " 100 100 100\n"
     ]
    },
    {
     "name": "stdout",
     "output_type": "stream",
     "text": [
      "3\n"
     ]
    }
   ],
   "source": [
    "from itertools import accumulate\n",
    "\n",
    "N, M, K = map(int, input().split())\n",
    "A = list(map(int, input().split()))\n",
    "B = list(map(int, input().split()))\n",
    "\n",
    "acc_A = list(accumulate([0]+A))\n",
    "acc_B = list(accumulate([0]+B))\n",
    "B_idx = 0\n",
    "ans = 0\n",
    "\n",
    "for i in range(N+1)[::-1]:\n",
    "    if acc_A[i] <= K:\n",
    "        ans = max(ans, i + B_idx)\n",
    "        while True:\n",
    "#             print([i,B_idx])\n",
    "            if B_idx == M:\n",
    "                break\n",
    "            elif acc_B[B_idx+1] + acc_A[i] <= K:\n",
    "                ans = max(ans, i + B_idx + 1)\n",
    "                B_idx += 1\n",
    "            else:\n",
    "                break\n",
    "\n",
    "print(ans)"
   ]
  },
  {
   "cell_type": "markdown",
   "metadata": {},
   "source": [
    "# E問題"
   ]
  },
  {
   "cell_type": "code",
   "execution_count": 64,
   "metadata": {},
   "outputs": [
    {
     "name": "stdout",
     "output_type": "stream",
     "text": [
      "3\n",
      "1\n",
      "5\n"
     ]
    }
   ],
   "source": [
    "class SegTree:\n",
    "    \"\"\"\n",
    "    init(init_val, ide_ele): 配列init_valで初期化 O(N)\n",
    "    update(k, x): k番目の値をxに更新 O(logN)\n",
    "    query(l, r): 区間[l, r)をsegfuncしたものを返す O(logN)\n",
    "    \"\"\"\n",
    "    def __init__(self, init_val, segfunc, ide_ele):\n",
    "        \"\"\"\n",
    "        init_val: 配列の初期値\n",
    "        segfunc: 区間にしたい操作\n",
    "        ide_ele: 単位元\n",
    "        n: 要素数\n",
    "        num: n以上の最小の2のべき乗\n",
    "        tree: セグメント木(1-index)\n",
    "        \"\"\"\n",
    "        n = len(init_val)\n",
    "        self.segfunc = segfunc\n",
    "        self.ide_ele = ide_ele\n",
    "        self.num = 1 << (n - 1).bit_length()\n",
    "        self.tree = [ide_ele] * 2 * self.num\n",
    "        # 配列の値を葉にセット\n",
    "        for i in range(n):\n",
    "            self.tree[self.num + i] = init_val[i]\n",
    "        # 構築していく\n",
    "        for i in range(self.num - 1, 0, -1):\n",
    "            self.tree[i] = self.segfunc(self.tree[2 * i], self.tree[2 * i + 1])\n",
    "\n",
    "    def update(self, k, x):\n",
    "        \"\"\"\n",
    "        k番目の値をxに更新\n",
    "        k: index(0-index)\n",
    "        x: update value\n",
    "        \"\"\"\n",
    "        k += self.num\n",
    "        self.tree[k] = x\n",
    "        while k > 1:\n",
    "            self.tree[k >> 1] = self.segfunc(self.tree[k], self.tree[k ^ 1])\n",
    "            k >>= 1\n",
    "\n",
    "    def query(self, l, r):\n",
    "        \"\"\"\n",
    "        [l, r)のsegfuncしたものを得る\n",
    "        l: index(0-index)\n",
    "        r: index(0-index)\n",
    "        \"\"\"\n",
    "        res = self.ide_ele\n",
    "\n",
    "        l += self.num\n",
    "        r += self.num\n",
    "        while l < r:\n",
    "            if l & 1:\n",
    "                res = self.segfunc(res, self.tree[l])\n",
    "                l += 1\n",
    "            if r & 1:\n",
    "                res = self.segfunc(res, self.tree[r - 1])\n",
    "            l >>= 1\n",
    "            r >>= 1\n",
    "            \n",
    "        cnt = 0\n",
    "        for i in bin(res)[2:]:\n",
    "            cnt += int(i)\n",
    "        return cnt\n",
    "\n",
    "def segfunc(x, y):\n",
    "    return x|y\n",
    "\n",
    "ide_ele = 0\n",
    "    \n",
    "N = int(input())\n",
    "S = list(map(lambda x:2**(ord(x)-ord(\"a\")), input()))\n",
    "Q = int(input())\n",
    "\n",
    "seg = SegTree(S, segfunc, ide_ele)\n",
    "\n",
    "for _ in range(Q):\n",
    "    t, a, b = input().split()\n",
    "    if int(t) == 1:\n",
    "        a = int(a)\n",
    "        seg.update(a-1, 2**(ord(b)-ord(\"a\")))\n",
    "    else:\n",
    "        a, b = int(a), int(b)\n",
    "        print(seg.query(a-1,b))"
   ]
  },
  {
   "cell_type": "markdown",
   "metadata": {},
   "source": [
    "# F問題"
   ]
  },
  {
   "cell_type": "code",
   "execution_count": 64,
   "metadata": {},
   "outputs": [
    {
     "name": "stdout",
     "output_type": "stream",
     "text": [
      "3\n",
      "1\n",
      "5\n"
     ]
    }
   ],
   "source": [
    "from collections import defaultdict\n",
    "\n",
    "class UnionFind():\n",
    "    def __init__(self, n):\n",
    "        self.n = n\n",
    "        self.parents = [-1] * n\n",
    "        # parents:\n",
    "        # 各要素の親要素の番号を格納するリスト\n",
    "        # 要素が根（ルート）の場合は-(そのグループの要素数)を格納する\n",
    "\n",
    "    # 要素xが属するグループの根を返す    \n",
    "    def find(self, x):        \n",
    "        if self.parents[x] < 0:\n",
    "            return x\n",
    "        else:\n",
    "            self.parents[x] = self.find(self.parents[x])\n",
    "            return self.parents[x]\n",
    "\n",
    "    # 要素xが属するグループと要素yが属するグループとを併合する\n",
    "    def union(self, x, y):\n",
    "        x = self.find(x)\n",
    "        y = self.find(y)\n",
    "\n",
    "        if x == y:\n",
    "            return\n",
    "\n",
    "        if self.parents[x] > self.parents[y]:\n",
    "            x, y = y, x\n",
    "\n",
    "        self.parents[x] += self.parents[y]\n",
    "        self.parents[y] = x\n",
    "\n",
    "    # 要素x, yが同じグループに属するかどうかを返す\n",
    "    def same(self, x, y):\n",
    "        return self.find(x) == self.find(y)\n",
    "\n",
    "N = int(input())\n",
    "lst = [[i] + list(map(int, input().split())) for i in range(N)]\n",
    "\n",
    "uf = UnionFind(N)\n",
    "adj = []\n",
    "\n",
    "lst.sort(key = lambda x: x[1])\n",
    "for j in range(N-1):\n",
    "    i0, x0, _ = lst[j]\n",
    "    i1, x1, _ = lst[j+1]\n",
    "    if x0 == x1:\n",
    "        uf.union(i0, i1)\n",
    "    else:\n",
    "        adj.append((x1-x0, i0, i1))\n",
    "\n",
    "lst.sort(key = lambda x: x[2])\n",
    "for j in range(N-1):\n",
    "    i0, _, y0 = lst[j]\n",
    "    i1, _, y1 = lst[j+1]\n",
    "    if y0 == y1:\n",
    "        uf.union(i0, i1)\n",
    "    else:\n",
    "        adj.append((y1-y0, i0, i1))\n",
    "\n",
    "adj.sort()\n",
    "\n",
    "ans = 0\n",
    "for a in adj:\n",
    "    w, s, t = a\n",
    "    if not uf.same(s,t):\n",
    "        ans += w\n",
    "        uf.union(s,t)\n",
    "print(ans)"
   ]
  }
 ],
 "metadata": {
  "kernelspec": {
   "display_name": "Python 3",
   "language": "python",
   "name": "python3"
  },
  "language_info": {
   "codemirror_mode": {
    "name": "ipython",
    "version": 3
   },
   "file_extension": ".py",
   "mimetype": "text/x-python",
   "name": "python",
   "nbconvert_exporter": "python",
   "pygments_lexer": "ipython3",
   "version": "3.6.5"
  }
 },
 "nbformat": 4,
 "nbformat_minor": 4
}

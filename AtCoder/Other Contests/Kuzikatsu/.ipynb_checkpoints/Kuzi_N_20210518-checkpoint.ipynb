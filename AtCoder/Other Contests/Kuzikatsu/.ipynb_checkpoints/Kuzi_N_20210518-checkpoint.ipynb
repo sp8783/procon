{
 "cells": [
  {
   "cell_type": "markdown",
   "metadata": {},
   "source": [
    "# A問題"
   ]
  },
  {
   "cell_type": "code",
   "execution_count": 9,
   "metadata": {},
   "outputs": [
    {
     "name": "stdout",
     "output_type": "stream",
     "text": [
      "199\n"
     ]
    }
   ],
   "source": [
    "X, Y, Z = map(int, input().split())\n",
    "\n",
    "if Y*Z%X == 0:\n",
    "    ans = int(Y*Z/X-1)\n",
    "else:\n",
    "    ans = Y*Z//X\n",
    "\n",
    "print(ans)"
   ]
  },
  {
   "cell_type": "markdown",
   "metadata": {},
   "source": [
    "# B問題"
   ]
  },
  {
   "cell_type": "code",
   "execution_count": 12,
   "metadata": {},
   "outputs": [
    {
     "name": "stdout",
     "output_type": "stream",
     "text": [
      "10\n"
     ]
    }
   ],
   "source": [
    "import math\n",
    "\n",
    "N = int(input())\n",
    "S = input()\n",
    "\n",
    "ans = 1\n",
    "s = S[0]\n",
    "\n",
    "for i in range(N-1):\n",
    "    if S[i+1] == s:\n",
    "        continue\n",
    "    else:\n",
    "        ans += 1\n",
    "        s = S[i+1]\n",
    "        \n",
    "print(ans)"
   ]
  },
  {
   "cell_type": "markdown",
   "metadata": {},
   "source": [
    "# C問題"
   ]
  },
  {
   "cell_type": "code",
   "execution_count": 19,
   "metadata": {},
   "outputs": [
    {
     "name": "stdout",
     "output_type": "stream",
     "text": [
      "No\n"
     ]
    }
   ],
   "source": [
    "N = int(input())\n",
    "C = [list(map(int, input().split())) for _ in range(N)]\n",
    "\n",
    "X = []\n",
    "for c in C:\n",
    "    X.append(min(c))\n",
    "    \n",
    "Y = []\n",
    "for i in range(N):\n",
    "    Y.append(C[0][i] - X[0])\n",
    "\n",
    "flag = False\n",
    "for i in range(1,N):\n",
    "    for j in range(N):\n",
    "        if C[i][j] - X[i] == Y[j]:\n",
    "            continue\n",
    "        else:\n",
    "            flag = True\n",
    "            break\n",
    "    \n",
    "    if flag:\n",
    "        break\n",
    "    \n",
    "if flag:\n",
    "    print(\"No\")\n",
    "else:\n",
    "    print(\"Yes\")\n",
    "    print(*X)\n",
    "    print(*Y)"
   ]
  },
  {
   "cell_type": "markdown",
   "metadata": {},
   "source": [
    "# D問題"
   ]
  },
  {
   "cell_type": "code",
   "execution_count": 2,
   "metadata": {},
   "outputs": [
    {
     "name": "stdin",
     "output_type": "stream",
     "text": [
      " 15\n"
     ]
    },
    {
     "name": "stdout",
     "output_type": "stream",
     "text": [
      "0\n"
     ]
    },
    {
     "name": "stdin",
     "output_type": "stream",
     "text": [
      " M\n"
     ]
    },
    {
     "name": "stdout",
     "output_type": "stream",
     "text": [
      "14\n"
     ]
    },
    {
     "name": "stdin",
     "output_type": "stream",
     "text": [
      " M\n"
     ]
    },
    {
     "name": "stdout",
     "output_type": "stream",
     "text": [
      "7\n"
     ]
    },
    {
     "name": "stdin",
     "output_type": "stream",
     "text": [
      " W\n"
     ]
    },
    {
     "name": "stdout",
     "output_type": "stream",
     "text": [
      "11\n"
     ]
    },
    {
     "name": "stdin",
     "output_type": "stream",
     "text": [
      " W\n"
     ]
    },
    {
     "name": "stdout",
     "output_type": "stream",
     "text": [
      "13\n"
     ]
    },
    {
     "name": "stdin",
     "output_type": "stream",
     "text": [
      " W\n"
     ]
    },
    {
     "name": "stdout",
     "output_type": "stream",
     "text": [
      "14\n"
     ]
    },
    {
     "name": "stdin",
     "output_type": "stream",
     "text": [
      " Vacant\n"
     ]
    }
   ],
   "source": [
    "N = int(input())\n",
    "\n",
    "print(0, flush=True)\n",
    "s0 = input()    \n",
    "print(N-1, flush=True)\n",
    "sN = input()\n",
    "if s0 == \"Vacant\" or sN == \"Vacant\":\n",
    "    exit(0)\n",
    "\n",
    "\n",
    "l = 0\n",
    "r = N-1\n",
    "flag = False\n",
    "while l <= r:\n",
    "    m = (l+r)//2\n",
    "    print(m, flush=True)\n",
    "    s = input()\n",
    "    if s == \"Vacant\":\n",
    "        flag = True\n",
    "        break\n",
    "    elif (((m-l)%2 == 1) and (s == s0)) or (((m-l)%2 == 0) and (s != s0)):\n",
    "        r = m-1\n",
    "    else:\n",
    "        l = m+1\n",
    "        if s == s0:\n",
    "            if s == \"Male\":\n",
    "                s0 = \"Female\"\n",
    "            else:\n",
    "                s0 = \"Male\"\n",
    "if not(flag): \n",
    "    print(l)"
   ]
  }
 ],
 "metadata": {
  "kernelspec": {
   "display_name": "Python 3",
   "language": "python",
   "name": "python3"
  },
  "language_info": {
   "codemirror_mode": {
    "name": "ipython",
    "version": 3
   },
   "file_extension": ".py",
   "mimetype": "text/x-python",
   "name": "python",
   "nbconvert_exporter": "python",
   "pygments_lexer": "ipython3",
   "version": "3.6.5"
  }
 },
 "nbformat": 4,
 "nbformat_minor": 4
}

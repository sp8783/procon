{
 "cells": [
  {
   "cell_type": "markdown",
   "metadata": {},
   "source": [
    "# 086"
   ]
  },
  {
   "cell_type": "code",
   "execution_count": 1,
   "metadata": {},
   "outputs": [
    {
     "name": "stdin",
     "output_type": "stream",
     "text": [
      " 4 2\n",
      " 1 2 3 50\n",
      " 2 3 4 45\n"
     ]
    },
    {
     "name": "stdout",
     "output_type": "stream",
     "text": [
      "13\n"
     ]
    }
   ],
   "source": [
    "n,q = map(int,input().split())\n",
    "x = [0]*q\n",
    "y = [0]*q\n",
    "z = [0]*q\n",
    "w = [0]*q\n",
    "for i in range(q):\n",
    "    x[i],y[i],z[i],w[i] = map(int,input().split())\n",
    "    x[i]-=1\n",
    "    y[i]-=1\n",
    "    z[i]-=1\n",
    "\n",
    "ans=1\n",
    "mod=10**9+7\n",
    "for d in range(60):\n",
    "    res=0\n",
    "    for i in range(1<<n):\n",
    "        a=[0]*n\n",
    "        for j in range(n):\n",
    "            if (i>>j)&1:\n",
    "                a[j]=1\n",
    "        f=0\n",
    "        for j in range(q):\n",
    "            if (a[x[j]]|a[y[j]]|a[z[j]])!=((w[j]>>d)&1):\n",
    "                f=1\n",
    "                break\n",
    "        if f==0:\n",
    "            res+=1\n",
    "            res%=mod\n",
    "    ans*=res\n",
    "    ans%=mod\n",
    "print(ans)"
   ]
  }
 ],
 "metadata": {
  "kernelspec": {
   "display_name": "Python 3",
   "language": "python",
   "name": "python3"
  },
  "language_info": {
   "codemirror_mode": {
    "name": "ipython",
    "version": 3
   },
   "file_extension": ".py",
   "mimetype": "text/x-python",
   "name": "python",
   "nbconvert_exporter": "python",
   "pygments_lexer": "ipython3",
   "version": "3.6.5"
  }
 },
 "nbformat": 4,
 "nbformat_minor": 4
}

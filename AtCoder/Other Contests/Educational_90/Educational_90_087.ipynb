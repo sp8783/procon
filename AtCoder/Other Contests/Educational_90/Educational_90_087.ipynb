{
 "cells": [
  {
   "cell_type": "markdown",
   "metadata": {},
   "source": [
    "# 087"
   ]
  },
  {
   "cell_type": "code",
   "execution_count": 1,
   "metadata": {},
   "outputs": [
    {
     "name": "stdin",
     "output_type": "stream",
     "text": [
      " 4 2\n",
      " 1 2 3 50\n",
      " 2 3 4 45\n"
     ]
    },
    {
     "name": "stdout",
     "output_type": "stream",
     "text": [
      "13\n"
     ]
    }
   ],
   "source": [
    "# 二分探索でxの上限と下限を求めて、その差が答え\n",
    "# xの大小と街のペア数の大小は逆になるので注意\n",
    "\n",
    "# 交通費をxにしたときに、行き来できる街のペア数を求める\n",
    "def FloydWarshall(x):\n",
    "    cost = [x if d == -1 else d for d in a]\n",
    "    for v in range(n):\n",
    "        for u in range(n):\n",
    "            for w in range(n):\n",
    "                cur = cost[u*n+v]+cost[v*n+w]\n",
    "                if cur < cost[u*n+w]: cost[u*n+w] = cur\n",
    "    res = 0\n",
    "    for v in range(n):\n",
    "        for u in range(v):\n",
    "            res += cost[u*n+v] <= p\n",
    "    return res\n",
    "\n",
    "# 街のペア数がkになる交通費xの最小値を求める\n",
    "def nibutan(k):\n",
    "    l, r = 0, inf\n",
    "    while l+1 < r:\n",
    "        x = (l+r)//2\n",
    "        if FloydWarshall(x) > k: l = x\n",
    "        else: r = x\n",
    "    return r\n",
    "\n",
    "inf = 10**9+5\n",
    "n, p, k = map(int, input().split())\n",
    "# 高速化のため1次元に変換して読み込む\n",
    "a = [d for _ in range(n) for d in map(int, input().split())]\n",
    "\n",
    "if FloydWarshall(inf) == k:\n",
    "    print(\"Infinity\")\n",
    "    exit()\n",
    "\n",
    "min_x = nibutan(k)\n",
    "max_x = nibutan(k-1)\n",
    "print(max_x-min_x)\n"
   ]
  }
 ],
 "metadata": {
  "kernelspec": {
   "display_name": "Python 3",
   "language": "python",
   "name": "python3"
  },
  "language_info": {
   "codemirror_mode": {
    "name": "ipython",
    "version": 3
   },
   "file_extension": ".py",
   "mimetype": "text/x-python",
   "name": "python",
   "nbconvert_exporter": "python",
   "pygments_lexer": "ipython3",
   "version": "3.6.5"
  }
 },
 "nbformat": 4,
 "nbformat_minor": 4
}

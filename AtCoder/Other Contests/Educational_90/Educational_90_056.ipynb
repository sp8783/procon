{
 "cells": [
  {
   "cell_type": "markdown",
   "metadata": {},
   "source": [
    "# 056"
   ]
  },
  {
   "cell_type": "code",
   "execution_count": 5,
   "metadata": {},
   "outputs": [
    {
     "name": "stdout",
     "output_type": "stream",
     "text": [
      "BAB\n"
     ]
    }
   ],
   "source": [
    "N, S = map(int, input().split())\n",
    "AB = [list(map(int, input().split())) for _ in range(N)]\n",
    "dp = [[False]*(S+1) for _ in range(N+1)]\n",
    "dp[0][0] = True\n",
    "\n",
    "for i in range(1, N+1):\n",
    "    a, b = AB[i-1]\n",
    "    for j in range(S+1):\n",
    "        if j - a >= 0:\n",
    "            if dp[i-1][j-a] == True:\n",
    "                dp[i][j] = True\n",
    "        if j - b >= 0:\n",
    "            if dp[i-1][j-b] == True:\n",
    "                dp[i][j] = True\n",
    "\n",
    "if dp[-1][-1] == False:\n",
    "    print(\"Impossible\")\n",
    "else:\n",
    "    ans = \"\"\n",
    "    for i in range(1, N+1)[::-1]:\n",
    "        a, b = AB[i-1]\n",
    "        if S - a >= 0 and dp[i-1][S-a]:\n",
    "            ans += \"A\"\n",
    "            S -= a\n",
    "        else:\n",
    "            ans += \"B\"\n",
    "            S -= b\n",
    "        \n",
    "    print(ans[::-1])"
   ]
  }
 ],
 "metadata": {
  "kernelspec": {
   "display_name": "Python 3",
   "language": "python",
   "name": "python3"
  },
  "language_info": {
   "codemirror_mode": {
    "name": "ipython",
    "version": 3
   },
   "file_extension": ".py",
   "mimetype": "text/x-python",
   "name": "python",
   "nbconvert_exporter": "python",
   "pygments_lexer": "ipython3",
   "version": "3.6.5"
  }
 },
 "nbformat": 4,
 "nbformat_minor": 4
}

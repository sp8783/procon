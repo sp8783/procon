{
 "cells": [
  {
   "cell_type": "markdown",
   "metadata": {},
   "source": [
    "# 018"
   ]
  },
  {
   "cell_type": "code",
   "execution_count": 3,
   "metadata": {},
   "outputs": [
    {
     "name": "stdout",
     "output_type": "stream",
     "text": [
      "0.0\n",
      "24.0948425521107\n",
      "54.735610317245346\n",
      "45.00000000000001\n"
     ]
    }
   ],
   "source": [
    "import math\n",
    "\n",
    "T = int(input())\n",
    "L, X, Y = map(int, input().split())\n",
    "\n",
    "Q = int(input())\n",
    "for _ in range(Q):\n",
    "    e = int(input())\n",
    "    theta = 360*e/T\n",
    "    yi = (-L/2)*math.sin(math.radians(theta))\n",
    "    zi = (L/2)*(1 - math.cos(math.radians(theta)))\n",
    "    \n",
    "    d = (X**2 + (Y-yi)**2) ** (0.5)\n",
    "    ans = math.atan2(zi,d)\n",
    "    print(math.degrees(ans))"
   ]
  }
 ],
 "metadata": {
  "kernelspec": {
   "display_name": "Python 3",
   "language": "python",
   "name": "python3"
  },
  "language_info": {
   "codemirror_mode": {
    "name": "ipython",
    "version": 3
   },
   "file_extension": ".py",
   "mimetype": "text/x-python",
   "name": "python",
   "nbconvert_exporter": "python",
   "pygments_lexer": "ipython3",
   "version": "3.6.5"
  }
 },
 "nbformat": 4,
 "nbformat_minor": 4
}

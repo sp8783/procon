{
 "cells": [
  {
   "cell_type": "markdown",
   "metadata": {},
   "source": [
    "# 055"
   ]
  },
  {
   "cell_type": "code",
   "execution_count": 12,
   "metadata": {},
   "outputs": [
    {
     "name": "stdin",
     "output_type": "stream",
     "text": [
      " 6 7 1\n",
      " 1 2 3 4 5 6\n"
     ]
    },
    {
     "name": "stdout",
     "output_type": "stream",
     "text": [
      "1\n"
     ]
    }
   ],
   "source": [
    "N, P, Q = map(int, input().split())\n",
    "A = list(map(int, input().split()))\n",
    "\n",
    "ans = 0\n",
    "for i in range(N-4):\n",
    "    for j in range(i+1,N-3):\n",
    "        for k in range(j+1,N-2):\n",
    "            for l in range(k+1,N-1):\n",
    "                for m in range(l+1,N):\n",
    "                    if A[i]%P*A[j]%P*A[k]%P*A[l]%P*A[m]%P == Q:\n",
    "                        ans += 1\n",
    "\n",
    "print(ans)"
   ]
  }
 ],
 "metadata": {
  "kernelspec": {
   "display_name": "Python 3",
   "language": "python",
   "name": "python3"
  },
  "language_info": {
   "codemirror_mode": {
    "name": "ipython",
    "version": 3
   },
   "file_extension": ".py",
   "mimetype": "text/x-python",
   "name": "python",
   "nbconvert_exporter": "python",
   "pygments_lexer": "ipython3",
   "version": "3.6.5"
  }
 },
 "nbformat": 4,
 "nbformat_minor": 4
}

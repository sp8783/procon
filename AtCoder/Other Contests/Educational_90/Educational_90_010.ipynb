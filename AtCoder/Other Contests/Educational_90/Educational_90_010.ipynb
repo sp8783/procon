{
 "cells": [
  {
   "cell_type": "markdown",
   "metadata": {},
   "source": [
    "# 010"
   ]
  },
  {
   "cell_type": "code",
   "execution_count": 30,
   "metadata": {},
   "outputs": [
    {
     "name": "stdout",
     "output_type": "stream",
     "text": [
      "72 172\n",
      "23 172\n",
      "23 183\n",
      "63 89\n",
      "115 89\n",
      "95 261\n",
      "63 261\n",
      "138 183\n",
      "135 261\n",
      "138 261\n"
     ]
    }
   ],
   "source": [
    "from itertools import accumulate\n",
    "\n",
    "N = int(input())\n",
    "key = list(range(2))\n",
    "value = [[0]*N for _ in range(2)]\n",
    "dic = dict(zip(key, value))\n",
    "\n",
    "for i in range(N):\n",
    "    c, p = map(int, input().split())\n",
    "    dic[c-1][i] = p\n",
    "    \n",
    "value2 = []\n",
    "for i in range(2):\n",
    "    P = list(accumulate([0]+dic[i]))\n",
    "    value2.append(P)\n",
    "\n",
    "dic2 = dict(zip(key, value2))\n",
    "\n",
    "Q = int(input())\n",
    "for _ in range(Q):\n",
    "    l, r = map(int, input().split())\n",
    "    ans = []\n",
    "    for i in range(2):\n",
    "        ans.append(dic2[i][r] - dic2[i][l-1])\n",
    "    print(*ans)"
   ]
  }
 ],
 "metadata": {
  "kernelspec": {
   "display_name": "Python 3",
   "language": "python",
   "name": "python3"
  },
  "language_info": {
   "codemirror_mode": {
    "name": "ipython",
    "version": 3
   },
   "file_extension": ".py",
   "mimetype": "text/x-python",
   "name": "python",
   "nbconvert_exporter": "python",
   "pygments_lexer": "ipython3",
   "version": "3.6.5"
  }
 },
 "nbformat": 4,
 "nbformat_minor": 4
}

{
 "cells": [
  {
   "cell_type": "markdown",
   "metadata": {},
   "source": [
    "# 006"
   ]
  },
  {
   "cell_type": "code",
   "execution_count": 1,
   "metadata": {},
   "outputs": [
    {
     "name": "stdin",
     "output_type": "stream",
     "text": [
      " 7 3\n",
      " atcoder\n"
     ]
    },
    {
     "name": "stdout",
     "output_type": "stream",
     "text": [
      "acd\n"
     ]
    }
   ],
   "source": [
    "n, k = map(int, input().split())\n",
    "s = input()\n",
    "alpha = \"abcdefghijklmnopqrstuvwxyz\"\n",
    "\n",
    "substr = \"\"\n",
    "area = [0, len(s) - k + 1]\n",
    "while k > 0:\n",
    "    for i in alpha:\n",
    "        result = s[area[0]:area[1]].find(i)\n",
    "        if result != -1:\n",
    "            substr += i\n",
    "            k -= 1\n",
    "            area[0] += result + 1\n",
    "            area[1] = len(s) - k + 1\n",
    "            break\n",
    "\n",
    "print(substr)"
   ]
  }
 ],
 "metadata": {
  "kernelspec": {
   "display_name": "Python 3",
   "language": "python",
   "name": "python3"
  },
  "language_info": {
   "codemirror_mode": {
    "name": "ipython",
    "version": 3
   },
   "file_extension": ".py",
   "mimetype": "text/x-python",
   "name": "python",
   "nbconvert_exporter": "python",
   "pygments_lexer": "ipython3",
   "version": "3.6.5"
  }
 },
 "nbformat": 4,
 "nbformat_minor": 4
}

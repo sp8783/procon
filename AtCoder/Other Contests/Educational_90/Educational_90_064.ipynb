{
 "cells": [
  {
   "cell_type": "markdown",
   "metadata": {},
   "source": [
    "# 064"
   ]
  },
  {
   "cell_type": "code",
   "execution_count": 1,
   "metadata": {},
   "outputs": [
    {
     "name": "stdin",
     "output_type": "stream",
     "text": [
      " 4 6\n",
      " 1 1 1 1 1 2\n",
      " 1 2 2 2 2 2\n",
      " 1 2 2 3 2 3\n",
      " 1 2 3 2 2 3\n"
     ]
    },
    {
     "name": "stdout",
     "output_type": "stream",
     "text": [
      "6\n"
     ]
    }
   ],
   "source": [
    "n, q = map(int, input().split())\n",
    "A = [int(i) for i in input().split()]\n",
    "E = [A[i + 1] - A[i] for i in range(n - 1)]\n",
    "ans = 0\n",
    "for e in E:\n",
    "    ans += abs(e)\n",
    "\n",
    "for _ in range(q):\n",
    "    l, r, v = map(int, input().split())\n",
    "    before = 0\n",
    "    after = 0\n",
    "    if l > 1:\n",
    "        before += abs(E[l - 2])\n",
    "        E[l - 2] += v\n",
    "        after += abs(E[l - 2])\n",
    "    if r < n:\n",
    "        before += abs(E[r - 1])\n",
    "        E[r - 1] -= v\n",
    "        after += abs(E[r - 1])\n",
    "    ans += after - before\n",
    "    print(ans)"
   ]
  }
 ],
 "metadata": {
  "kernelspec": {
   "display_name": "Python 3",
   "language": "python",
   "name": "python3"
  },
  "language_info": {
   "codemirror_mode": {
    "name": "ipython",
    "version": 3
   },
   "file_extension": ".py",
   "mimetype": "text/x-python",
   "name": "python",
   "nbconvert_exporter": "python",
   "pygments_lexer": "ipython3",
   "version": "3.6.5"
  }
 },
 "nbformat": 4,
 "nbformat_minor": 4
}

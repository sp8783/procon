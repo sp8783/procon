{
 "cells": [
  {
   "cell_type": "markdown",
   "metadata": {},
   "source": [
    "# 060"
   ]
  },
  {
   "cell_type": "code",
   "execution_count": 9,
   "metadata": {},
   "outputs": [
    {
     "name": "stdin",
     "output_type": "stream",
     "text": [
      " 6\n",
      " 1 2 3 3 2 1\n"
     ]
    },
    {
     "name": "stdout",
     "output_type": "stream",
     "text": [
      "5\n"
     ]
    }
   ],
   "source": [
    "from bisect import bisect_left\n",
    "\n",
    "# Step #1. 入力\n",
    "N = int(input())\n",
    "A = list(map(int,input().split()))\n",
    "\n",
    "# Step #2. 左側の LIS を求める\n",
    "P = [0] * N\n",
    "dp = [10**18] * N\n",
    "for i in range(N):\n",
    "    pos1 = bisect_left(dp,A[i])\n",
    "    dp[pos1] = A[i]\n",
    "    P[i] = pos1 + 1\n",
    "\n",
    "# Step #3. 右側の LIS を求める\n",
    "Q = [0] * N\n",
    "dp = [10**18] * N\n",
    "for i in range(N-1,-1,-1):\n",
    "    pos1 = bisect_left(dp,A[i])\n",
    "    dp[pos1] = A[i]\n",
    "    Q[i] = pos1 + 1\n",
    "\n",
    "# Step #4. 答えを求める\n",
    "Answer = 0\n",
    "for i in range(N):\n",
    "    Answer = max(Answer, P[i] + Q[i] - 1)\n",
    "print(Answer)"
   ]
  }
 ],
 "metadata": {
  "kernelspec": {
   "display_name": "Python 3",
   "language": "python",
   "name": "python3"
  },
  "language_info": {
   "codemirror_mode": {
    "name": "ipython",
    "version": 3
   },
   "file_extension": ".py",
   "mimetype": "text/x-python",
   "name": "python",
   "nbconvert_exporter": "python",
   "pygments_lexer": "ipython3",
   "version": "3.6.5"
  }
 },
 "nbformat": 4,
 "nbformat_minor": 4
}

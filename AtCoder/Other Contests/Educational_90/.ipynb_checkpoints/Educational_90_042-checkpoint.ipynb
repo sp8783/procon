{
 "cells": [
  {
   "cell_type": "markdown",
   "metadata": {},
   "source": [
    "# 042"
   ]
  },
  {
   "cell_type": "code",
   "execution_count": 16,
   "metadata": {},
   "outputs": [
    {
     "name": "stdin",
     "output_type": "stream",
     "text": [
      " 234\n"
     ]
    },
    {
     "name": "stdout",
     "output_type": "stream",
     "text": [
      "757186539\n"
     ]
    }
   ],
   "source": [
    "K = int(input())\n",
    "\n",
    "if K%9 != 0:\n",
    "    ans = 0\n",
    "else:\n",
    "    dp = [0]*(K+1)\n",
    "    dp[0] = 1\n",
    "    MOD = 10**9+7\n",
    "    for i in range(1,K+1):\n",
    "        b = min(i,9)\n",
    "        for j in range(1, b+1):\n",
    "            dp[i] += dp[i-j]\n",
    "            dp[i] %= MOD\n",
    "    ans = dp[K]\n",
    "\n",
    "print(ans)"
   ]
  }
 ],
 "metadata": {
  "kernelspec": {
   "display_name": "Python 3",
   "language": "python",
   "name": "python3"
  },
  "language_info": {
   "codemirror_mode": {
    "name": "ipython",
    "version": 3
   },
   "file_extension": ".py",
   "mimetype": "text/x-python",
   "name": "python",
   "nbconvert_exporter": "python",
   "pygments_lexer": "ipython3",
   "version": "3.6.5"
  }
 },
 "nbformat": 4,
 "nbformat_minor": 4
}

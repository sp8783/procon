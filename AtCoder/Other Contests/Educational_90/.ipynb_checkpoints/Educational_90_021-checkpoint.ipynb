{
 "cells": [
  {
   "cell_type": "markdown",
   "metadata": {},
   "source": [
    "# 021"
   ]
  },
  {
   "cell_type": "code",
   "execution_count": 15,
   "metadata": {},
   "outputs": [
    {
     "name": "stdout",
     "output_type": "stream",
     "text": [
      "0\n"
     ]
    }
   ],
   "source": [
    "from collections import Counter\n",
    "\n",
    "import sys\n",
    "sys.setrecursionlimit(10 ** 6)  # 再帰数上限の引き上げ\n",
    "\n",
    "# 強連結成分分解(SCC): グラフGに対するSCCを行う\n",
    "# 入力: <N>: 頂点サイズ, <G>: 順方向の有向グラフ, <RG>: 逆方向の有向グラフ\n",
    "# 出力: (<ラベル数>, <各頂点のラベル番号>)\n",
    "def scc(N, G, RG):\n",
    "    order = []\n",
    "    used = [0]*N\n",
    "    group = [None]*N\n",
    "    def dfs(s):\n",
    "        used[s] = 1\n",
    "        for t in G[s]:\n",
    "            if not used[t]:\n",
    "                dfs(t)\n",
    "        order.append(s)\n",
    "    def rdfs(s, col):\n",
    "        group[s] = col\n",
    "        used[s] = 1\n",
    "        for t in RG[s]:\n",
    "            if not used[t]:\n",
    "                rdfs(t, col)\n",
    "    for i in range(N):\n",
    "        if not used[i]:\n",
    "            dfs(i)\n",
    "    used = [0]*N\n",
    "    label = 0\n",
    "    for s in reversed(order):\n",
    "        if not used[s]:\n",
    "            rdfs(s, label)\n",
    "            label += 1\n",
    "    return label, group\n",
    "\n",
    "# 縮約後のグラフを構築\n",
    "def construct(N, G, label, group):\n",
    "    G0 = [set() for i in range(label)]\n",
    "    GP = [[] for i in range(label)]\n",
    "    for v in range(N):\n",
    "        lbs = group[v]\n",
    "        for w in G[v]:\n",
    "            lbt = group[w]\n",
    "            if lbs == lbt:\n",
    "                continue\n",
    "            G0[lbs].add(lbt)\n",
    "        GP[lbs].append(v)\n",
    "    return G0, GP\n",
    "\n",
    "N, M = map(int, input().split())\n",
    "adj = [[] for _ in range(N)]\n",
    "adj_rev = [[] for _ in range(N)]\n",
    "for _ in range(M):\n",
    "    a, b = map(lambda x:int(x)-1, input().split())\n",
    "    adj[a].append(b)\n",
    "    adj_rev[b].append(a)\n",
    "    \n",
    "label, group = scc(N, adj, adj_rev)\n",
    "C = Counter(group)\n",
    "ans = 0\n",
    "for c in C.values():\n",
    "    ans += c*(c-1)//2\n",
    "print(ans)"
   ]
  }
 ],
 "metadata": {
  "kernelspec": {
   "display_name": "Python 3",
   "language": "python",
   "name": "python3"
  },
  "language_info": {
   "codemirror_mode": {
    "name": "ipython",
    "version": 3
   },
   "file_extension": ".py",
   "mimetype": "text/x-python",
   "name": "python",
   "nbconvert_exporter": "python",
   "pygments_lexer": "ipython3",
   "version": "3.6.5"
  }
 },
 "nbformat": 4,
 "nbformat_minor": 4
}

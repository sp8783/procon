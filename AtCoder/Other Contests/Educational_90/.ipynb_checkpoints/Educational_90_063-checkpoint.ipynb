{
 "cells": [
  {
   "cell_type": "markdown",
   "metadata": {},
   "source": [
    "# 063"
   ]
  },
  {
   "cell_type": "code",
   "execution_count": 15,
   "metadata": {},
   "outputs": [
    {
     "name": "stdout",
     "output_type": "stream",
     "text": [
      "15\n"
     ]
    }
   ],
   "source": [
    "from collections import Counter\n",
    "\n",
    "H,W = map(int, input().split())\n",
    "P = [list(map(int, input().split())) for _ in range(H)]\n",
    "\n",
    "ans = 0\n",
    "for i in range(2**H):\n",
    "    lst = []\n",
    "    for j in range(H):\n",
    "        if i >> j & 1:\n",
    "            lst.append(j)\n",
    "    \n",
    "    if len(lst) != 0:\n",
    "        C = []\n",
    "        for w in range(W):\n",
    "            flag = True\n",
    "            for k in range(len(lst)):\n",
    "                if k == 0:\n",
    "                    c = P[lst[k]][w]\n",
    "                else:\n",
    "                    if P[lst[k]][w] != c:\n",
    "                        flag = False\n",
    "            if flag:\n",
    "                C.append(c)\n",
    "\n",
    "        if len(C) != 0:\n",
    "            C = Counter(C)\n",
    "#             print(C)\n",
    "            ans = max(ans, len(lst)*max(C.values()))\n",
    "#     print(lst)\n",
    "#     print(ans)\n",
    "    \n",
    "print(ans)"
   ]
  }
 ],
 "metadata": {
  "kernelspec": {
   "display_name": "Python 3",
   "language": "python",
   "name": "python3"
  },
  "language_info": {
   "codemirror_mode": {
    "name": "ipython",
    "version": 3
   },
   "file_extension": ".py",
   "mimetype": "text/x-python",
   "name": "python",
   "nbconvert_exporter": "python",
   "pygments_lexer": "ipython3",
   "version": "3.6.5"
  }
 },
 "nbformat": 4,
 "nbformat_minor": 4
}

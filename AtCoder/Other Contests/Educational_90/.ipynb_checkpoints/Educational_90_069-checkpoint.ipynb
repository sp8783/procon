{
 "cells": [
  {
   "cell_type": "markdown",
   "metadata": {},
   "source": [
    "# 069"
   ]
  },
  {
   "cell_type": "code",
   "execution_count": 3,
   "metadata": {},
   "outputs": [
    {
     "name": "stdin",
     "output_type": "stream",
     "text": [
      " 2021 617\n"
     ]
    },
    {
     "name": "stdout",
     "output_type": "stream",
     "text": [
      "53731843\n"
     ]
    }
   ],
   "source": [
    "def pow_k(a,n,MOD=10**9+7):\n",
    "    x = 1\n",
    "    while n > 0:\n",
    "        if n & 1:\n",
    "            x *= a\n",
    "            x %= MOD\n",
    "        a *= a\n",
    "        a %= MOD\n",
    "        n >>= 1\n",
    "    return x\n",
    "\n",
    "\n",
    "N, K = map(int, input().split())\n",
    "MOD = 10**9+7\n",
    "if N == 1:\n",
    "    ans = K\n",
    "elif N == 2:\n",
    "    ans = K*(K-1)%MOD\n",
    "else:\n",
    "    ans = K*(K-1)%MOD*pow_k(K-2,N-2)%MOD\n",
    "print(ans)"
   ]
  }
 ],
 "metadata": {
  "kernelspec": {
   "display_name": "Python 3",
   "language": "python",
   "name": "python3"
  },
  "language_info": {
   "codemirror_mode": {
    "name": "ipython",
    "version": 3
   },
   "file_extension": ".py",
   "mimetype": "text/x-python",
   "name": "python",
   "nbconvert_exporter": "python",
   "pygments_lexer": "ipython3",
   "version": "3.6.5"
  }
 },
 "nbformat": 4,
 "nbformat_minor": 4
}

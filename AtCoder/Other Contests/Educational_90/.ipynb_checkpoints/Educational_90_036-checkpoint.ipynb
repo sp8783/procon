{
 "cells": [
  {
   "cell_type": "markdown",
   "metadata": {},
   "source": [
    "# 036"
   ]
  },
  {
   "cell_type": "code",
   "execution_count": 5,
   "metadata": {},
   "outputs": [
    {
     "name": "stdout",
     "output_type": "stream",
     "text": [
      "4000000000\n"
     ]
    }
   ],
   "source": [
    "N, Q = map(int, input().split())\n",
    "XY = [[] for _ in range(N)]\n",
    "x_min,x_max,y_min,y_max = 10**10,-10**10,10**10,-10**10\n",
    "for i in range(N):\n",
    "    x, y = map(int, input().split())\n",
    "    X, Y = x+y, x-y\n",
    "\n",
    "    x_min = min(x_min, X)\n",
    "    x_max = max(x_max, X)\n",
    "    y_min = min(y_min, Y)\n",
    "    y_max = max(y_max, Y)\n",
    "    \n",
    "    XY[i] = [X, Y]\n",
    "    \n",
    "for i in range(Q):\n",
    "    q = int(input()) - 1\n",
    "    ans = max([abs(XY[q][0] - x_min), abs(XY[q][0] - x_max), abs(XY[q][1] - y_min), abs(XY[q][1] - y_max)])\n",
    "    print(ans)"
   ]
  }
 ],
 "metadata": {
  "kernelspec": {
   "display_name": "Python 3",
   "language": "python",
   "name": "python3"
  },
  "language_info": {
   "codemirror_mode": {
    "name": "ipython",
    "version": 3
   },
   "file_extension": ".py",
   "mimetype": "text/x-python",
   "name": "python",
   "nbconvert_exporter": "python",
   "pygments_lexer": "ipython3",
   "version": "3.6.5"
  }
 },
 "nbformat": 4,
 "nbformat_minor": 4
}

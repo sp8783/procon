{
 "cells": [
  {
   "cell_type": "markdown",
   "metadata": {},
   "source": [
    "# 001"
   ]
  },
  {
   "cell_type": "code",
   "execution_count": null,
   "metadata": {},
   "outputs": [],
   "source": [
    "import numpy as np\n",
    "\n",
    "N, L = map(int, input().split())\n",
    "K = int(input())\n",
    "A = np.array([0] + list(map(int, input().split())) + [L])\n",
    "A = np.diff(A)\n",
    "\n",
    "def check(x):\n",
    "    tot = 0\n",
    "    cnt = 0\n",
    "    for a in A:\n",
    "        tot += a\n",
    "        if tot >= x:\n",
    "            tot = 0\n",
    "            cnt += 1\n",
    "    return cnt >= K+1\n",
    "\n",
    "low = -1\n",
    "high = 10**9 + 1\n",
    "while high - low > 1:\n",
    "    mid = (low + high) // 2\n",
    "    if check(mid):\n",
    "        low = mid\n",
    "    else:\n",
    "        high = mid\n",
    "        \n",
    "ans = low\n",
    "print(ans)"
   ]
  }
 ],
 "metadata": {
  "kernelspec": {
   "display_name": "Python 3",
   "language": "python",
   "name": "python3"
  },
  "language_info": {
   "codemirror_mode": {
    "name": "ipython",
    "version": 3
   },
   "file_extension": ".py",
   "mimetype": "text/x-python",
   "name": "python",
   "nbconvert_exporter": "python",
   "pygments_lexer": "ipython3",
   "version": "3.6.5"
  }
 },
 "nbformat": 4,
 "nbformat_minor": 4
}

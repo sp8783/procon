{
 "cells": [
  {
   "cell_type": "markdown",
   "metadata": {},
   "source": [
    "# 003"
   ]
  },
  {
   "cell_type": "code",
   "execution_count": 10,
   "metadata": {},
   "outputs": [
    {
     "name": "stdin",
     "output_type": "stream",
     "text": [
      " 10\n",
      " 1 2\n",
      " 1 3\n",
      " 2 4\n",
      " 4 5\n",
      " 4 6\n",
      " 3 7\n",
      " 7 8\n",
      " 8 9\n",
      " 8 10\n"
     ]
    },
    {
     "name": "stdout",
     "output_type": "stream",
     "text": [
      "8\n"
     ]
    }
   ],
   "source": [
    "class LCA(object):\n",
    "    def __init__(self, G, root=0):\n",
    "        self.G = G\n",
    "        self.root = root\n",
    "        self.n = len(G)\n",
    "        self.logn = (self.n - 1).bit_length()\n",
    "        self.depth = [-1 if i != root else 0 for i in range(self.n)]\n",
    "        self.parent = [[-1] * self.n for _ in range(self.logn)]\n",
    "        self.dfs()\n",
    "        self.doubling()\n",
    "\n",
    "    def dfs(self):\n",
    "        que = [self.root]\n",
    "        while que:\n",
    "            u = que.pop()\n",
    "            for v in self.G[u]:\n",
    "                if self.depth[v] == -1:\n",
    "                    self.depth[v] = self.depth[u] + 1\n",
    "                    self.parent[0][v] = u\n",
    "                    que += [v]\n",
    "\n",
    "    def doubling(self):\n",
    "        for i in range(1, self.logn):\n",
    "            for v in range(self.n):\n",
    "                if self.parent[i - 1][v] != -1:\n",
    "                    self.parent[i][v] = self.parent[i - 1][self.parent[i - 1][v]]\n",
    "\n",
    "    def get(self, u, v):\n",
    "        if self.depth[v] < self.depth[u]:\n",
    "            u, v = v, u\n",
    "        du = self.depth[u]\n",
    "        dv = self.depth[v]\n",
    "\n",
    "        for i in range(self.logn):  # depthの差分だけuを遡らせる\n",
    "            if (dv - du) >> i & 1:\n",
    "                v = self.parent[i][v]\n",
    "        if u == v: return u  # 高さ揃えた時点で一致してたら終わり\n",
    "\n",
    "        for i in range(self.logn - 1, -1, -1):  # そうでなければ上から二分探索\n",
    "            pu, pv = self.parent[i][u], self.parent[i][v]\n",
    "            if pu != pv:\n",
    "                u, v = pu, pv\n",
    "        return self.parent[0][u]\n",
    "\n",
    "N = int(input())\n",
    "\n",
    "adj = [[] for _ in range(N)]\n",
    "for _ in range(N-1):\n",
    "    a, b = map(int, input().split())\n",
    "    adj[a-1].append(b-1)\n",
    "    adj[b-1].append(a-1)\n",
    "    \n",
    "lca = LCA(adj)\n",
    "dist = 0\n",
    "town = 0\n",
    "for i in range(N):\n",
    "    if dist < lca.depth[i]:\n",
    "        dist = lca.depth[i]\n",
    "        town = i\n",
    "        \n",
    "ans = 0\n",
    "for i in range(N):\n",
    "    ans = max(ans, lca.depth[town] + lca.depth[i] - 2 * lca.depth[lca.get(town, i)] + 1)\n",
    "\n",
    "print(ans)"
   ]
  },
  {
   "cell_type": "code",
   "execution_count": 1,
   "metadata": {},
   "outputs": [
    {
     "name": "stdin",
     "output_type": "stream",
     "text": [
      " 3\n",
      " 1 2\n",
      " 2 3\n"
     ]
    },
    {
     "name": "stdout",
     "output_type": "stream",
     "text": [
      "3\n"
     ]
    }
   ],
   "source": [
    "class LCA(object):\n",
    "    def __init__(self, G, root=0):\n",
    "        self.G = G\n",
    "        self.root = root\n",
    "        self.n = len(G)\n",
    "        self.logn = (self.n - 1).bit_length()\n",
    "        self.depth = [-1 if i != root else 0 for i in range(self.n)]\n",
    "        self.parent = [[-1] * self.n for _ in range(self.logn)]\n",
    "        self.dfs()\n",
    "        self.doubling()\n",
    "\n",
    "    def dfs(self):\n",
    "        que = [self.root]\n",
    "        while que:\n",
    "            u = que.pop()\n",
    "            for v in self.G[u]:\n",
    "                if self.depth[v] == -1:\n",
    "                    self.depth[v] = self.depth[u] + 1\n",
    "                    self.parent[0][v] = u\n",
    "                    que += [v]\n",
    "\n",
    "    def doubling(self):\n",
    "        for i in range(1, self.logn):\n",
    "            for v in range(self.n):\n",
    "                if self.parent[i - 1][v] != -1:\n",
    "                    self.parent[i][v] = self.parent[i - 1][self.parent[i - 1][v]]\n",
    "\n",
    "    def get(self, u, v):\n",
    "        if self.depth[v] < self.depth[u]:\n",
    "            u, v = v, u\n",
    "        du = self.depth[u]\n",
    "        dv = self.depth[v]\n",
    "\n",
    "        for i in range(self.logn):  # depthの差分だけuを遡らせる\n",
    "            if (dv - du) >> i & 1:\n",
    "                v = self.parent[i][v]\n",
    "        if u == v: return u  # 高さ揃えた時点で一致してたら終わり\n",
    "\n",
    "        for i in range(self.logn - 1, -1, -1):  # そうでなければ上から二分探索\n",
    "            pu, pv = self.parent[i][u], self.parent[i][v]\n",
    "            if pu != pv:\n",
    "                u, v = pu, pv\n",
    "        return self.parent[0][u]\n",
    "    \n",
    "N = int(input())\n",
    "adj = [[] for _ in range(N)]\n",
    "for i in range(N-1):\n",
    "    a, b = map(int, input().split())\n",
    "    adj[a-1].append(b-1)\n",
    "    adj[b-1].append(a-1)\n",
    "    \n",
    "lca = LCA(adj)\n",
    "dist = 0\n",
    "town = 0\n",
    "for i in range(N):\n",
    "    if dist < lca.depth[i]:\n",
    "        dist = lca.depth[i]\n",
    "        town = i\n",
    "\n",
    "ans = 0\n",
    "for i in range(N):\n",
    "    ans = max(ans, lca.depth[town] + lca.depth[i] - 2 * lca.depth[lca.get(town, i)] + 1)\n",
    "print(ans)"
   ]
  }
 ],
 "metadata": {
  "kernelspec": {
   "display_name": "Python 3",
   "language": "python",
   "name": "python3"
  },
  "language_info": {
   "codemirror_mode": {
    "name": "ipython",
    "version": 3
   },
   "file_extension": ".py",
   "mimetype": "text/x-python",
   "name": "python",
   "nbconvert_exporter": "python",
   "pygments_lexer": "ipython3",
   "version": "3.6.5"
  }
 },
 "nbformat": 4,
 "nbformat_minor": 4
}

{
 "cells": [
  {
   "cell_type": "markdown",
   "metadata": {},
   "source": [
    "# 044"
   ]
  },
  {
   "cell_type": "code",
   "execution_count": 8,
   "metadata": {},
   "outputs": [
    {
     "name": "stdout",
     "output_type": "stream",
     "text": [
      "44\n",
      "21\n",
      "34\n",
      "63\n",
      "85\n",
      "63\n",
      "21\n",
      "34\n",
      "96\n"
     ]
    }
   ],
   "source": [
    "N, Q = map(int, input().split())\n",
    "A = list(map(int, input().split()))\n",
    "\n",
    "shift = 0\n",
    "for _ in range(Q):\n",
    "    t, x, y = map(int, input().split())\n",
    "    x = ((x-1) - shift) % N\n",
    "    y = ((y-1) - shift) % N\n",
    "    \n",
    "    if t == 1:\n",
    "        A[x], A[y] = A[y], A[x]\n",
    "        \n",
    "    elif t == 2:\n",
    "        shift += 1\n",
    "        \n",
    "    else:\n",
    "        print(A[x])"
   ]
  }
 ],
 "metadata": {
  "kernelspec": {
   "display_name": "Python 3",
   "language": "python",
   "name": "python3"
  },
  "language_info": {
   "codemirror_mode": {
    "name": "ipython",
    "version": 3
   },
   "file_extension": ".py",
   "mimetype": "text/x-python",
   "name": "python",
   "nbconvert_exporter": "python",
   "pygments_lexer": "ipython3",
   "version": "3.6.5"
  }
 },
 "nbformat": 4,
 "nbformat_minor": 4
}

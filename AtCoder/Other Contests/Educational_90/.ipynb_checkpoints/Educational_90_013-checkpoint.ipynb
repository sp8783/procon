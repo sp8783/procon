{
 "cells": [
  {
   "cell_type": "markdown",
   "metadata": {},
   "source": [
    "# 013"
   ]
  },
  {
   "cell_type": "code",
   "execution_count": 15,
   "metadata": {},
   "outputs": [
    {
     "name": "stdout",
     "output_type": "stream",
     "text": [
      "No\n",
      "No\n",
      "No\n",
      "No\n",
      "No\n",
      "No\n",
      "No\n",
      "No\n",
      "No\n",
      "No\n",
      "No\n",
      "No\n",
      "No\n",
      "No\n",
      "No\n",
      "No\n",
      "No\n",
      "No\n",
      "No\n",
      "No\n",
      "No\n",
      "No\n",
      "No\n",
      "No\n",
      "Yes\n"
     ]
    }
   ],
   "source": [
    "import heapq\n",
    "def mp():return map(int,input().split())\n",
    "\n",
    "def dijkstra(start,adj):\n",
    "    dist = [int(1e18)]*len(adj)\n",
    "    dist[start] = 0\n",
    "    q = [(start, 0)]\n",
    "    while q:\n",
    "        v, d = heapq.heappop(q)\n",
    "        if dist[v] < d:continue\n",
    "        for nv, nd in adj[v]:\n",
    "            if (dist[v]+nd) < dist[nv]:\n",
    "                dist[nv] = dist[v]+nd\n",
    "                heapq.heappush(q, (nv, dist[nv]))\n",
    "    return dist\n",
    "\n",
    "# N, M = map(int, input().split())\n",
    "N, M = mp()\n",
    "adj = [[] for _ in range(N)]\n",
    "for _ in range(M):\n",
    "    a, b, c = mp()\n",
    "    a -= 1\n",
    "    b -= 1\n",
    "    adj[a].append((b,c))\n",
    "    adj[b].append((a,c))\n",
    "\n",
    "d1 = dijkstra(0,adj)\n",
    "dn = dijkstra(N-1,adj)\n",
    "for i in range(N):\n",
    "    print(d1[i] + dn[i])"
   ]
  },
  {
   "cell_type": "code",
   "execution_count": null,
   "metadata": {},
   "outputs": [],
   "source": [
    "import heapq\n",
    "\n",
    "def dijkstra(start,adj):\n",
    "    dist = [int(1e18)]*len(adj)\n",
    "    dist[start] = 0\n",
    "    q = [(start, 0)]\n",
    "    while q:\n",
    "        v, d = heapq.heappop(q)\n",
    "        if dist[v] < d:continue\n",
    "        for nv, nd in adj[v]:\n",
    "            if (dist[v]+nd) < dist[nv]:\n",
    "                dist[nv] = dist[v]+nd\n",
    "                heapq.heappush(q, (nv, dist[nv]))\n",
    "    return dist\n",
    "\n",
    "N, M = map(int, input().split())\n",
    "adj = [[] for _ in range(N)]\n",
    "for _ in range(M):\n",
    "    a, b, c = map(int, input().split())\n",
    "    a -= 1\n",
    "    b -= 1\n",
    "    adj[a].append((b,c))\n",
    "    adj[b].append((a,c))\n",
    "\n",
    "d1 = dijkstra(0,adj)\n",
    "dn = dijkstra(N-1,adj)\n",
    "for i in range(N):\n",
    "    print(d1[i] + dn[i])"
   ]
  }
 ],
 "metadata": {
  "kernelspec": {
   "display_name": "Python 3",
   "language": "python",
   "name": "python3"
  },
  "language_info": {
   "codemirror_mode": {
    "name": "ipython",
    "version": 3
   },
   "file_extension": ".py",
   "mimetype": "text/x-python",
   "name": "python",
   "nbconvert_exporter": "python",
   "pygments_lexer": "ipython3",
   "version": "3.6.5"
  }
 },
 "nbformat": 4,
 "nbformat_minor": 4
}

{
 "cells": [
  {
   "cell_type": "markdown",
   "metadata": {},
   "source": [
    "# 029"
   ]
  },
  {
   "cell_type": "code",
   "execution_count": 18,
   "metadata": {},
   "outputs": [
    {
     "name": "stdout",
     "output_type": "stream",
     "text": [
      "1\n",
      "2\n",
      "3\n",
      "4\n",
      "5\n",
      "6\n",
      "7\n"
     ]
    }
   ],
   "source": [
    "# N: 処理する区間の長さ\n",
    "\n",
    "# 伝搬対象の区間を求める\n",
    "def gindex(l, r):\n",
    "    L = (l + N0) >> 1; R = (r + N0) >> 1\n",
    "    lc = 0 if l & 1 else (L & -L).bit_length()\n",
    "    rc = 0 if r & 1 else (R & -R).bit_length()\n",
    "    for i in range(LV):\n",
    "        if rc <= i:\n",
    "            yield R\n",
    "        if L < R and lc <= i:\n",
    "            yield L\n",
    "        L >>= 1; R >>= 1\n",
    "\n",
    "# 遅延伝搬処理\n",
    "def propagates(*ids):\n",
    "    for i in reversed(ids):\n",
    "        v = lazy[i-1]\n",
    "        if v is None:\n",
    "            continue\n",
    "        lazy[2*i-1] = data[2*i-1] = lazy[2*i] = data[2*i] = v\n",
    "        lazy[i-1] = None\n",
    "\n",
    "# 区間[l, r)をxで更新\n",
    "def update(l, r, x):\n",
    "    *ids, = gindex(l, r)\n",
    "    propagates(*ids)\n",
    "\n",
    "    L = N0 + l; R = N0 + r\n",
    "    while L < R:\n",
    "        if R & 1:\n",
    "            R -= 1\n",
    "            lazy[R-1] = data[R-1] = x\n",
    "        if L & 1:\n",
    "            lazy[L-1] = data[L-1] = x\n",
    "            L += 1\n",
    "        L >>= 1; R >>= 1\n",
    "    for i in ids:\n",
    "        data[i-1] = min(data[2*i-1], data[2*i])\n",
    "\n",
    "# 区間[l, r)内の最小値を求める\n",
    "def query(l, r):\n",
    "    propagates(*gindex(l, r))\n",
    "    L = N0 + l; R = N0 + r\n",
    "\n",
    "    s = INF\n",
    "    while L < R:\n",
    "        if R & 1:\n",
    "            R -= 1\n",
    "            s = min(s, data[R-1])\n",
    "        if L & 1:\n",
    "            s = min(s, data[L-1])\n",
    "            L += 1\n",
    "        L >>= 1; R >>= 1\n",
    "    return s\n",
    "\n",
    "W, N = map(int, input().split())\n",
    "\n",
    "INF = 0\n",
    "\n",
    "LV = (W-1).bit_length()\n",
    "N0 = 2**LV\n",
    "data = [INF]*(2*N0)\n",
    "lazy = [None]*(2*N0)\n",
    "\n",
    "ans = 0\n",
    "\n",
    "for i in range(N):\n",
    "    l, r = map(lambda x:int(x)-1, input().split())\n",
    "    tmp = query(l,r+1)-1\n",
    "    update(l,r+1,tmp)\n",
    "    \n",
    "    ans = -1 * min(ans, tmp)\n",
    "    print(ans)\n",
    "#     print(data)"
   ]
  }
 ],
 "metadata": {
  "kernelspec": {
   "display_name": "Python 3",
   "language": "python",
   "name": "python3"
  },
  "language_info": {
   "codemirror_mode": {
    "name": "ipython",
    "version": 3
   },
   "file_extension": ".py",
   "mimetype": "text/x-python",
   "name": "python",
   "nbconvert_exporter": "python",
   "pygments_lexer": "ipython3",
   "version": "3.6.5"
  }
 },
 "nbformat": 4,
 "nbformat_minor": 4
}

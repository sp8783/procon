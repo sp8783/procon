{
 "cells": [
  {
   "cell_type": "markdown",
   "metadata": {},
   "source": [
    "# 084"
   ]
  },
  {
   "cell_type": "code",
   "execution_count": 1,
   "metadata": {},
   "outputs": [
    {
     "name": "stdin",
     "output_type": "stream",
     "text": [
      " 4\n",
      " ooxo\n"
     ]
    },
    {
     "name": "stdout",
     "output_type": "stream",
     "text": [
      "5\n"
     ]
    }
   ],
   "source": [
    "N = int(input())\n",
    "S = input()\n",
    "\n",
    "all = N * (N - 1) // 2\n",
    " \n",
    "d = 0\n",
    "cnt = 0\n",
    "for i in range(N):\n",
    "    if i == 0:\n",
    "        pre = S[i]\n",
    "        cnt += 1\n",
    "        continue\n",
    "    if S[i] == pre:\n",
    "        cnt += 1\n",
    "    else:\n",
    "        if cnt >= 2:\n",
    "            d += cnt * (cnt - 1) // 2\n",
    "        cnt = 1\n",
    "    pre = S[i]\n",
    "\n",
    "if cnt >= 2:\n",
    "    d += cnt * (cnt - 1) // 2\n",
    "print(all - d)"
   ]
  }
 ],
 "metadata": {
  "kernelspec": {
   "display_name": "Python 3",
   "language": "python",
   "name": "python3"
  },
  "language_info": {
   "codemirror_mode": {
    "name": "ipython",
    "version": 3
   },
   "file_extension": ".py",
   "mimetype": "text/x-python",
   "name": "python",
   "nbconvert_exporter": "python",
   "pygments_lexer": "ipython3",
   "version": "3.6.5"
  }
 },
 "nbformat": 4,
 "nbformat_minor": 4
}

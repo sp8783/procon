{
 "cells": [
  {
   "cell_type": "markdown",
   "metadata": {},
   "source": [
    "# 081"
   ]
  },
  {
   "cell_type": "code",
   "execution_count": 13,
   "metadata": {},
   "outputs": [
    {
     "name": "stdout",
     "output_type": "stream",
     "text": [
      "2\n"
     ]
    }
   ],
   "source": [
    "N, K = map(int, input().split())\n",
    "lst = [[0]*(5000+1) for _ in range(5000+1)]\n",
    "\n",
    "for _ in range(N):\n",
    "    a, b = map(int, input().split())\n",
    "    lst[a][b] += 1\n",
    "\n",
    "for i in range(1, 5000+1):\n",
    "    for j in range(5000):\n",
    "        lst[i][j+1] += lst[i][j]\n",
    "\n",
    "for j in range(1, 5000+1):\n",
    "    for i in range(5000):\n",
    "        lst[i+1][j] += lst[i][j]\n",
    "\n",
    "ans = 0\n",
    "for i in range(1,5000+1):\n",
    "    for j in range(1,5000+1):\n",
    "        if i+K <= 5000 and j+K <= 5000:\n",
    "            tmp = lst[i+K][j+K] - lst[i-1][j+K] - lst[i+K][j-1] + lst[i-1][j-1]\n",
    "            ans = max(ans, tmp)\n",
    "        \n",
    "print(ans)"
   ]
  }
 ],
 "metadata": {
  "kernelspec": {
   "display_name": "Python 3",
   "language": "python",
   "name": "python3"
  },
  "language_info": {
   "codemirror_mode": {
    "name": "ipython",
    "version": 3
   },
   "file_extension": ".py",
   "mimetype": "text/x-python",
   "name": "python",
   "nbconvert_exporter": "python",
   "pygments_lexer": "ipython3",
   "version": "3.6.5"
  }
 },
 "nbformat": 4,
 "nbformat_minor": 4
}

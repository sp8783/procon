{
 "cells": [
  {
   "cell_type": "markdown",
   "metadata": {},
   "source": [
    "※コンテストURL：https://atcoder.jp/contests/jsc2021"
   ]
  },
  {
   "cell_type": "markdown",
   "metadata": {},
   "source": [
    "# A問題"
   ]
  },
  {
   "cell_type": "code",
   "execution_count": 7,
   "metadata": {},
   "outputs": [
    {
     "name": "stdout",
     "output_type": "stream",
     "text": [
      "0\n"
     ]
    }
   ],
   "source": [
    "import math\n",
    "\n",
    "X, Y, Z = map(int, input().split())\n",
    "\n",
    "A = Y*Z/X\n",
    "if A%1 == 0:\n",
    "    ans = int(A)-1\n",
    "else:\n",
    "    ans = math.floor(A)\n",
    "print(ans)"
   ]
  },
  {
   "cell_type": "markdown",
   "metadata": {},
   "source": [
    "# B問題"
   ]
  },
  {
   "cell_type": "code",
   "execution_count": 9,
   "metadata": {},
   "outputs": [
    {
     "name": "stdout",
     "output_type": "stream",
     "text": [
      "\n"
     ]
    }
   ],
   "source": [
    "N, M = map(int, input().split())\n",
    "A = list(map(int, input().split()))\n",
    "B = list(map(int, input().split()))\n",
    "\n",
    "S = (set(A)|set(B)) - (set(A)&set(B))\n",
    "ans = sorted(list(S))\n",
    "print(*ans)"
   ]
  },
  {
   "cell_type": "markdown",
   "metadata": {},
   "source": [
    "# C問題"
   ]
  },
  {
   "cell_type": "code",
   "execution_count": 19,
   "metadata": {},
   "outputs": [
    {
     "name": "stdout",
     "output_type": "stream",
     "text": [
      "34\n"
     ]
    }
   ],
   "source": [
    "import math\n",
    "A, B = map(int, input().split())\n",
    "\n",
    "for i in range(1,B-A+1)[::-1]:\n",
    "    if A <= math.ceil(A/i)*i <= B and A <= (math.ceil(A/i)+1)*i <= B:\n",
    "        ans = i\n",
    "        break\n",
    "\n",
    "print(ans)"
   ]
  },
  {
   "cell_type": "markdown",
   "metadata": {},
   "source": [
    "# D問題"
   ]
  },
  {
   "cell_type": "code",
   "execution_count": 22,
   "metadata": {},
   "outputs": [
    {
     "name": "stdout",
     "output_type": "stream",
     "text": [
      "224219544\n"
     ]
    }
   ],
   "source": [
    "N, P = map(int, input().split())\n",
    "\n",
    "MOD = 10**9+7\n",
    "def pow_k(a,n,MOD=10**9+7):\n",
    "    x = 1\n",
    "    while n > 0:\n",
    "        if n & 1:\n",
    "            x *= a\n",
    "            x %= MOD\n",
    "        a *= a\n",
    "        a %= MOD\n",
    "        n >>= 1\n",
    "    return x\n",
    "\n",
    "ans = ((P-1)*pow_k(P-2, N-1))%MOD\n",
    "print(ans)"
   ]
  }
 ],
 "metadata": {
  "kernelspec": {
   "display_name": "Python 3",
   "language": "python",
   "name": "python3"
  },
  "language_info": {
   "codemirror_mode": {
    "name": "ipython",
    "version": 3
   },
   "file_extension": ".py",
   "mimetype": "text/x-python",
   "name": "python",
   "nbconvert_exporter": "python",
   "pygments_lexer": "ipython3",
   "version": "3.6.5"
  }
 },
 "nbformat": 4,
 "nbformat_minor": 4
}

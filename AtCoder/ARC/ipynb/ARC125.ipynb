{
 "cells": [
  {
   "cell_type": "markdown",
   "metadata": {},
   "source": [
    "# A問題"
   ]
  },
  {
   "cell_type": "code",
   "execution_count": 1,
   "metadata": {},
   "outputs": [
    {
     "name": "stdin",
     "output_type": "stream",
     "text": [
      " 3 4\n",
      " 0 0 1\n",
      " 0 1 1 0\n"
     ]
    },
    {
     "name": "stdout",
     "output_type": "stream",
     "text": [
      "6\n"
     ]
    }
   ],
   "source": [
    "N, M = map(int, input().split())\n",
    "S = input().split()\n",
    "T = input().split()\n",
    "\n",
    "if len(set(T)) == 1 and S[0] == T[0]:\n",
    "    print(M)\n",
    "\n",
    "elif len(set(S)) == 1:\n",
    "    print(-1)\n",
    "\n",
    "else:\n",
    "    idx = 0\n",
    "    while S[idx] == S[0] and S[-idx] == S[0]:\n",
    "        idx += 1\n",
    "\n",
    "    res = M\n",
    "    for i in range(M-1):\n",
    "        if T[i] != T[i+1]:\n",
    "            res += 1\n",
    "\n",
    "    if S[0] == T[0]:\n",
    "        print(res + idx - 1)\n",
    "    else:\n",
    "        print(res + idx)"
   ]
  }
 ],
 "metadata": {
  "kernelspec": {
   "display_name": "Python 3",
   "language": "python",
   "name": "python3"
  },
  "language_info": {
   "codemirror_mode": {
    "name": "ipython",
    "version": 3
   },
   "file_extension": ".py",
   "mimetype": "text/x-python",
   "name": "python",
   "nbconvert_exporter": "python",
   "pygments_lexer": "ipython3",
   "version": "3.6.5"
  }
 },
 "nbformat": 4,
 "nbformat_minor": 4
}

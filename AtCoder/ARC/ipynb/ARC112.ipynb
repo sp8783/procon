{
 "cells": [
  {
   "cell_type": "markdown",
   "metadata": {},
   "source": [
    "# A問題"
   ]
  },
  {
   "cell_type": "code",
   "execution_count": 2,
   "metadata": {},
   "outputs": [
    {
     "name": "stdout",
     "output_type": "stream",
     "text": [
      "6\n",
      "1\n",
      "0\n",
      "933184801\n",
      "500001500001\n"
     ]
    }
   ],
   "source": [
    "T = int(input())\n",
    "\n",
    "for _ in range(T):\n",
    "    L, R = map(int, input().split())\n",
    "    if R - 2*L < 0:\n",
    "        ans = 0\n",
    "    else:\n",
    "        n = R - 2*L + 1\n",
    "        ans = n*(n+1)//2\n",
    "    print(ans)"
   ]
  },
  {
   "cell_type": "markdown",
   "metadata": {},
   "source": [
    "# B問題"
   ]
  },
  {
   "cell_type": "code",
   "execution_count": 47,
   "metadata": {},
   "outputs": [
    {
     "name": "stdout",
     "output_type": "stream",
     "text": [
      "a\n",
      "2\n"
     ]
    }
   ],
   "source": [
    "B, C = map(int, input().split())\n",
    "\n",
    "if B >= 1:\n",
    "    ans = min(C//2, B) + min((C+1)//2, B) + (C-1)//2 + max((C-2)//2, 0) + 1\n",
    "\n",
    "if B == 0:\n",
    "    ans = C//2 + (C-1)//2 + 1\n",
    "    \n",
    "if B <= -1:\n",
    "    ans = C//2 + (C+1)//2 + min((C-1)//2, -1*B) + min((C-2)//2, -1*B-1) + 1\n",
    "\n",
    "print(ans)"
   ]
  }
 ],
 "metadata": {
  "kernelspec": {
   "display_name": "Python 3",
   "language": "python",
   "name": "python3"
  },
  "language_info": {
   "codemirror_mode": {
    "name": "ipython",
    "version": 3
   },
   "file_extension": ".py",
   "mimetype": "text/x-python",
   "name": "python",
   "nbconvert_exporter": "python",
   "pygments_lexer": "ipython3",
   "version": "3.6.5"
  }
 },
 "nbformat": 4,
 "nbformat_minor": 4
}

{
 "cells": [
  {
   "cell_type": "markdown",
   "metadata": {},
   "source": [
    "# A問題"
   ]
  },
  {
   "cell_type": "code",
   "execution_count": 3,
   "metadata": {},
   "outputs": [
    {
     "name": "stdin",
     "output_type": "stream",
     "text": [
      " 10460353208\n"
     ]
    },
    {
     "name": "stdout",
     "output_type": "stream",
     "text": [
      "21 1\n"
     ]
    }
   ],
   "source": [
    "N = int(input())\n",
    "\n",
    "b = 1\n",
    "flag = False\n",
    "while 5**b < N:\n",
    "    a = 1\n",
    "    while 3**a + 5**b <= N:\n",
    "        if 3**a + 5**b == N:\n",
    "            ans = [a,b]\n",
    "            flag = True\n",
    "            break\n",
    "        else:\n",
    "            a += 1\n",
    "    b += 1\n",
    "    if flag:\n",
    "        break\n",
    "\n",
    "if flag:\n",
    "    print(*ans)\n",
    "else:\n",
    "    print(-1)"
   ]
  },
  {
   "cell_type": "markdown",
   "metadata": {},
   "source": [
    "# B問題"
   ]
  },
  {
   "cell_type": "code",
   "execution_count": 1,
   "metadata": {},
   "outputs": [
    {
     "data": {
      "application/vnd.jupyter.widget-view+json": {
       "model_id": "6e9603b74a7a48a0af333f8041a26b02",
       "version_major": 2,
       "version_minor": 0
      },
      "text/plain": [
       "Textarea(value='')"
      ]
     },
     "metadata": {},
     "output_type": "display_data"
    }
   ],
   "source": [
    "from ipywidgets import Textarea\n",
    "import io\n",
    "\n",
    "if 'open' in globals():\n",
    "    del open\n",
    "if 'input' in globals():\n",
    "    del input\n",
    "\n",
    "original_open = open\n",
    "\n",
    "class custom_open():\n",
    "    def __init__(self):\n",
    "        self.text = ''\n",
    "\n",
    "    def __call__(self, file, *args, **kwargs):\n",
    "        if file == 0:\n",
    "            return io.StringIO(self.text)\n",
    "        return original_open(file, *args, **kwargs)\n",
    "\n",
    "    def updater(self, change):\n",
    "        self.text = change[\"new\"]\n",
    "\n",
    "class custom_input():\n",
    "    def __init__(self):\n",
    "        self.__sio = io.StringIO('')\n",
    "        self.shell = get_ipython()\n",
    "        if self.shell.events.callbacks['pre_run_cell'] != []:\n",
    "            self.shell.events.callbacks['pre_run_cell'] = []\n",
    "        self.shell.events.register('pre_run_cell', self.pre_run_cell)\n",
    "\n",
    "    def __call__(self):\n",
    "        return self.__sio.readline().strip()\n",
    "\n",
    "    def pre_run_cell(self, info):\n",
    "        text = self.shell.user_ns.get('text_area', None).value\n",
    "        self.__sio = io.StringIO(text)\n",
    "\n",
    "open = custom_open()\n",
    "input = custom_input()\n",
    "\n",
    "text_area = Textarea()\n",
    "text_area.observe(open.updater, names='value')\n",
    "display(text_area)"
   ]
  },
  {
   "cell_type": "code",
   "execution_count": 9,
   "metadata": {},
   "outputs": [
    {
     "name": "stdout",
     "output_type": "stream",
     "text": [
      "Yes\n"
     ]
    }
   ],
   "source": [
    "from collections import defaultdict\n",
    "\n",
    "class UnionFind():\n",
    "    def __init__(self, n):\n",
    "        self.n = n\n",
    "        self.parents = [-1] * n\n",
    "        # parents:\n",
    "        # 各要素の親要素の番号を格納するリスト\n",
    "        # 要素が根（ルート）の場合は-(そのグループの要素数)を格納する\n",
    "\n",
    "    # 要素xが属するグループの根を返す    \n",
    "    def find(self, x):        \n",
    "        if self.parents[x] < 0:\n",
    "            return x\n",
    "        else:\n",
    "            self.parents[x] = self.find(self.parents[x])\n",
    "            return self.parents[x]\n",
    "\n",
    "    # 要素xが属するグループと要素yが属するグループとを併合する\n",
    "    def union(self, x, y):\n",
    "        x = self.find(x)\n",
    "        y = self.find(y)\n",
    "\n",
    "        if x == y:\n",
    "            return\n",
    "\n",
    "        if self.parents[x] > self.parents[y]:\n",
    "            x, y = y, x\n",
    "\n",
    "        self.parents[x] += self.parents[y]\n",
    "        self.parents[y] = x\n",
    "\n",
    "    # 要素xが属するグループのサイズ（要素数）を返す\n",
    "    def size(self, x):\n",
    "        return -self.parents[self.find(x)]\n",
    "\n",
    "    # 要素x, yが同じグループに属するかどうかを返す\n",
    "    def same(self, x, y):\n",
    "        return self.find(x) == self.find(y)\n",
    "\n",
    "    # 要素xが属するグループに属する要素をリストで返す\n",
    "    def members(self, x):\n",
    "        root = self.find(x)\n",
    "        return [i for i in range(self.n) if self.find(i) == root]\n",
    "\n",
    "    # すべての根の要素をリストで返す\n",
    "    def roots(self):\n",
    "        return [i for i, x in enumerate(self.parents) if x < 0]\n",
    "\n",
    "    # グループの数を返す\n",
    "    def group_count(self):\n",
    "        return len(self.roots())\n",
    "\n",
    "    # {ルート要素: [そのグループに含まれる要素のリスト], ...}のdefaultdictを返す\n",
    "    # defaultdictは辞書dictのサブクラス\n",
    "    def all_group_members(self):\n",
    "        group_members = defaultdict(list)\n",
    "        for member in range(self.n):\n",
    "            group_members[self.find(member)].append(member)\n",
    "        return group_members\n",
    "\n",
    "    # print()での表示用\n",
    "    # ルート要素: [そのグループに含まれる要素のリスト]を文字列で返す\n",
    "    def __str__(self):\n",
    "        return '\\n'.join(f'{r}: {m}' for r, m in self.all_group_members().items())\n",
    "\n",
    "N, M = map(int, input().split())\n",
    "A = list(map(int, input().split()))\n",
    "B = list(map(int, input().split()))\n",
    "adj = []\n",
    "for i in range(M):\n",
    "    c, d = map(int, input().split())\n",
    "    adj.append([c-1,d-1])    \n",
    "    \n",
    "uf = UnionFind(N)\n",
    "for a,b in adj:\n",
    "    uf.union(a, b)\n",
    "\n",
    "ans = \"Yes\"\n",
    "for V in uf.all_group_members().values():\n",
    "    A_sum = 0\n",
    "    B_sum = 0\n",
    "    for v in V:\n",
    "        A_sum += A[v]\n",
    "        B_sum += B[v]\n",
    "    if A_sum != B_sum:\n",
    "        ans = \"No\"\n",
    "        break\n",
    "\n",
    "print(ans)"
   ]
  }
 ],
 "metadata": {
  "kernelspec": {
   "display_name": "Python 3",
   "language": "python",
   "name": "python3"
  },
  "language_info": {
   "codemirror_mode": {
    "name": "ipython",
    "version": 3
   },
   "file_extension": ".py",
   "mimetype": "text/x-python",
   "name": "python",
   "nbconvert_exporter": "python",
   "pygments_lexer": "ipython3",
   "version": "3.6.5"
  }
 },
 "nbformat": 4,
 "nbformat_minor": 4
}

{
 "cells": [
  {
   "cell_type": "markdown",
   "metadata": {},
   "source": [
    "# A問題"
   ]
  },
  {
   "cell_type": "code",
   "execution_count": 15,
   "metadata": {},
   "outputs": [
    {
     "name": "stdin",
     "output_type": "stream",
     "text": [
      " 998984374864432412\n"
     ]
    },
    {
     "name": "stdout",
     "output_type": "stream",
     "text": [
      "2003450165\n"
     ]
    }
   ],
   "source": [
    "N = int(input())\n",
    "\n",
    "ans = 10**10\n",
    "for b in range(60)[::-1]:\n",
    "    a = N//(2**b)\n",
    "    c = N%(2**b)\n",
    "    ans = min(ans, a+b+c)\n",
    "\n",
    "print(ans)"
   ]
  },
  {
   "cell_type": "markdown",
   "metadata": {},
   "source": [
    "# B問題"
   ]
  },
  {
   "cell_type": "code",
   "execution_count": 16,
   "metadata": {},
   "outputs": [
    {
     "name": "stdin",
     "output_type": "stream",
     "text": [
      " 7\n",
      " 1110110\n",
      " 1010111\n"
     ]
    },
    {
     "name": "stdout",
     "output_type": "stream",
     "text": [
      "2\n"
     ]
    }
   ],
   "source": [
    "N = int(input())\n",
    "S = input()\n",
    "T = input()\n",
    "\n",
    "cnt_s0 = 0\n",
    "cnt_t0 = 0\n",
    "idx_s = []\n",
    "idx_t = []\n",
    "\n",
    "ans = 0\n",
    "\n",
    "for i in range(N):\n",
    "    if T[i] == \"0\":\n",
    "        cnt_t0 += 1    \n",
    "        idx_t.append(i)\n",
    "    if S[i] == \"0\":\n",
    "        cnt_s0 += 1\n",
    "        idx_s.append(i)\n",
    "\n",
    "if cnt_s0 != cnt_t0:\n",
    "    print(-1)\n",
    "else:\n",
    "    ans = 0\n",
    "    for s, t in zip(idx_s, idx_t):\n",
    "        if s != t:\n",
    "            ans += 1\n",
    "    print(ans)"
   ]
  }
 ],
 "metadata": {
  "kernelspec": {
   "display_name": "Python 3",
   "language": "python",
   "name": "python3"
  },
  "language_info": {
   "codemirror_mode": {
    "name": "ipython",
    "version": 3
   },
   "file_extension": ".py",
   "mimetype": "text/x-python",
   "name": "python",
   "nbconvert_exporter": "python",
   "pygments_lexer": "ipython3",
   "version": "3.6.5"
  }
 },
 "nbformat": 4,
 "nbformat_minor": 4
}

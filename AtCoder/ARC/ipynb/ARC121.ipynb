{
 "cells": [
  {
   "cell_type": "markdown",
   "metadata": {},
   "source": [
    "# A問題"
   ]
  },
  {
   "cell_type": "code",
   "execution_count": 2,
   "metadata": {},
   "outputs": [
    {
     "name": "stdin",
     "output_type": "stream",
     "text": [
      " 3\n",
      " 3 1 5\n"
     ]
    },
    {
     "name": "stdout",
     "output_type": "stream",
     "text": [
      "15\n"
     ]
    }
   ],
   "source": [
    "N = int(input())\n",
    "X = []\n",
    "Y = []\n",
    "for _ in range(N):\n",
    "    x, y = map(int, input().split())\n",
    "    X.append(x)\n",
    "    Y.append(y)\n",
    "X = sorted(X)\n",
    "Y = sorted(Y)\n",
    "\n",
    "\n",
    "A = list(map(int, input().split()))\n",
    "MOD = 10** 9 + 7\n",
    "\n",
    "dp = [[0] * 2 for _ in range(N)]\n",
    "dp[0][0] = 1\n",
    "\n",
    "for i in range(N-1):\n",
    "    dp[i+1][0] = dp[i][0] + dp[i][1]\n",
    "    dp[i+1][0] %= MOD\n",
    "\n",
    "    dp[i+1][1] = dp[i][0]\n",
    "    dp[i+1][1] %= MOD\n",
    "\n",
    "ans = [[0] * 2 for _ in range(N)]\n",
    "ans[0][0] = A[0]\n",
    "\n",
    "for i in range(N-1):\n",
    "    ans[i+1][0] = ans[i][0] + ans[i][1] + A[i+1]*dp[i+1][0]\n",
    "    ans[i+1][0] %= MOD\n",
    "\n",
    "    ans[i+1][1] = ans[i][0] - A[i+1]*dp[i+1][1]\n",
    "    ans[i+1][1] %= MOD\n",
    "\n",
    "\n",
    "ans = ans[N-1][0] + ans[N-1][1]\n",
    "ans %= MOD\n",
    "print(ans)"
   ]
  }
 ],
 "metadata": {
  "kernelspec": {
   "display_name": "Python 3",
   "language": "python",
   "name": "python3"
  },
  "language_info": {
   "codemirror_mode": {
    "name": "ipython",
    "version": 3
   },
   "file_extension": ".py",
   "mimetype": "text/x-python",
   "name": "python",
   "nbconvert_exporter": "python",
   "pygments_lexer": "ipython3",
   "version": "3.6.5"
  }
 },
 "nbformat": 4,
 "nbformat_minor": 4
}

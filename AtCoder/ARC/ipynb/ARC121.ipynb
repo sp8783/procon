{
 "cells": [
  {
   "cell_type": "markdown",
   "metadata": {},
   "source": [
    "# A問題"
   ]
  },
  {
   "cell_type": "code",
   "execution_count": 1,
   "metadata": {},
   "outputs": [
    {
     "name": "stdin",
     "output_type": "stream",
     "text": [
      " 3\n",
      " 0 0\n",
      " 1 2\n",
      " 4 0\n"
     ]
    },
    {
     "name": "stdout",
     "output_type": "stream",
     "text": [
      "3\n"
     ]
    }
   ],
   "source": [
    "n = int(input())\n",
    "xy = []\n",
    "x = []\n",
    "y = []\n",
    "for i in range(n):\n",
    "    t = list(map(int, input().split()))\n",
    "    x.append([t[0], i])\n",
    "    y.append([t[1], i])\n",
    "    xy.append(t)\n",
    "x.sort()\n",
    "y.sort()\n",
    "house = [x[0][1], x[1][1], x[-1][1], x[-2][1], y[0][1], y[1][1], y[-1][1], y[-2][1]]\n",
    "h = list(set(house))\n",
    "d = []\n",
    "for i in range(len(h)-1):\n",
    "    for j in range(i+1, len(h)):\n",
    "        d.append(max(abs(xy[h[i]][0] - xy[h[j]][0]), abs(xy[h[i]][1] - xy[h[j]][1])))\n",
    "d.sort()\n",
    "print(d[-2])"
   ]
  }
 ],
 "metadata": {
  "kernelspec": {
   "display_name": "Python 3",
   "language": "python",
   "name": "python3"
  },
  "language_info": {
   "codemirror_mode": {
    "name": "ipython",
    "version": 3
   },
   "file_extension": ".py",
   "mimetype": "text/x-python",
   "name": "python",
   "nbconvert_exporter": "python",
   "pygments_lexer": "ipython3",
   "version": "3.6.5"
  }
 },
 "nbformat": 4,
 "nbformat_minor": 4
}

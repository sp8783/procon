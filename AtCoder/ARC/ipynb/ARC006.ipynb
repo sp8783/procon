{
 "cells": [
  {
   "cell_type": "markdown",
   "metadata": {},
   "source": [
    "# A問題"
   ]
  },
  {
   "cell_type": "code",
   "execution_count": 1,
   "metadata": {},
   "outputs": [
    {
     "name": "stdin",
     "output_type": "stream",
     "text": [
      " 1 2 3 4 5 6\n",
      " 7\n",
      " 1 2 3 4 5 6\n"
     ]
    },
    {
     "name": "stdout",
     "output_type": "stream",
     "text": [
      "1\n"
     ]
    }
   ],
   "source": [
    "E = set(list(map(int, input().split())))\n",
    "B = int(input())\n",
    "L = list(map(int, input().split()))\n",
    "\n",
    "cnt = 0\n",
    "flag = False\n",
    "\n",
    "for l in L:\n",
    "    if l in E:\n",
    "        cnt += 1\n",
    "    elif l == B:\n",
    "        flag = True\n",
    "        \n",
    "if cnt == 6:\n",
    "    ans = 1\n",
    "elif cnt == 5:\n",
    "    if flag:\n",
    "        ans = 2\n",
    "    else:\n",
    "        ans = 3\n",
    "elif cnt == 4:\n",
    "    ans = 4\n",
    "elif cnt == 3:\n",
    "    ans = 5\n",
    "else:\n",
    "    ans = 0\n",
    "        \n",
    "print(ans)"
   ]
  }
 ],
 "metadata": {
  "kernelspec": {
   "display_name": "Python 3",
   "language": "python",
   "name": "python3"
  },
  "language_info": {
   "codemirror_mode": {
    "name": "ipython",
    "version": 3
   },
   "file_extension": ".py",
   "mimetype": "text/x-python",
   "name": "python",
   "nbconvert_exporter": "python",
   "pygments_lexer": "ipython3",
   "version": "3.6.5"
  }
 },
 "nbformat": 4,
 "nbformat_minor": 4
}

{
 "cells": [
  {
   "cell_type": "markdown",
   "metadata": {},
   "source": [
    "# A問題"
   ]
  },
  {
   "cell_type": "code",
   "execution_count": 3,
   "metadata": {},
   "outputs": [
    {
     "name": "stdin",
     "output_type": "stream",
     "text": [
      " 3 4\n",
      " 10 11 10\n",
      " 12 10 11 25\n"
     ]
    },
    {
     "name": "stdout",
     "output_type": "stream",
     "text": [
      "2\n"
     ]
    }
   ],
   "source": [
    "L, R = map(int, input().split())\n",
    "L_lst = list(map(int, input().split()))\n",
    "R_lst = list(map(int, input().split()))\n",
    "\n",
    "L_d = dict(zip(range(10,41), [0]*31))\n",
    "R_d = dict(zip(range(10,41), [0]*31))\n",
    "\n",
    "for l in L_lst:\n",
    "    L_d[l] += 1\n",
    "    \n",
    "for r in R_lst:\n",
    "    R_d[r] += 1\n",
    "    \n",
    "ans = 0\n",
    "\n",
    "for i in range(10,41):\n",
    "    ans += min(L_d[i], R_d[i])\n",
    "    \n",
    "print(ans)"
   ]
  }
 ],
 "metadata": {
  "kernelspec": {
   "display_name": "Python 3",
   "language": "python",
   "name": "python3"
  },
  "language_info": {
   "codemirror_mode": {
    "name": "ipython",
    "version": 3
   },
   "file_extension": ".py",
   "mimetype": "text/x-python",
   "name": "python",
   "nbconvert_exporter": "python",
   "pygments_lexer": "ipython3",
   "version": "3.6.5"
  }
 },
 "nbformat": 4,
 "nbformat_minor": 4
}

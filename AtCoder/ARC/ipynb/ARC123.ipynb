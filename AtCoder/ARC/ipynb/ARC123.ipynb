{
 "cells": [
  {
   "cell_type": "markdown",
   "metadata": {},
   "source": [
    "# A問題"
   ]
  },
  {
   "cell_type": "code",
   "execution_count": 2,
   "metadata": {},
   "outputs": [
    {
     "name": "stdin",
     "output_type": "stream",
     "text": [
      " 4 8 10\n"
     ]
    },
    {
     "name": "stdout",
     "output_type": "stream",
     "text": [
      "2\n"
     ]
    }
   ],
   "source": [
    "import math\n",
    "\n",
    "a,b,c = map(int, input().split())\n",
    "\n",
    "N = 2*b-a-c\n",
    "ans = N + 3*max(0, math.ceil(-N/2))\n",
    "\n",
    "print(ans)"
   ]
  },
  {
   "cell_type": "markdown",
   "metadata": {},
   "source": [
    "# B問題"
   ]
  },
  {
   "cell_type": "code",
   "execution_count": 1,
   "metadata": {},
   "outputs": [
    {
     "name": "stdin",
     "output_type": "stream",
     "text": [
      " 3\n",
      " 1 1 1\n",
      " 1 1 2\n",
      " 2 2 2\n"
     ]
    },
    {
     "name": "stdout",
     "output_type": "stream",
     "text": [
      "0\n"
     ]
    }
   ],
   "source": [
    "N = int(input())\n",
    "A = sorted(map(int, input().split()))\n",
    "B = sorted(map(int, input().split()))\n",
    "C = sorted(map(int, input().split()))\n",
    "\n",
    "i, j, k = 0, 0, 0\n",
    "ans = 0\n",
    "\n",
    "while i < N:\n",
    "    while j < N and B[j] <= A[i]:\n",
    "        j += 1\n",
    "    if j == N:\n",
    "        break\n",
    "        \n",
    "    while k < N and C[k] <= B[j]:\n",
    "        k += 1\n",
    "    if k == N:\n",
    "        break\n",
    "    \n",
    "    assert A[i] < B[j] < C[k]\n",
    "    ans += 1\n",
    "    i, j, k = i + 1, j + 1, k + 1\n",
    "    \n",
    "print(ans)"
   ]
  }
 ],
 "metadata": {
  "kernelspec": {
   "display_name": "Python 3",
   "language": "python",
   "name": "python3"
  },
  "language_info": {
   "codemirror_mode": {
    "name": "ipython",
    "version": 3
   },
   "file_extension": ".py",
   "mimetype": "text/x-python",
   "name": "python",
   "nbconvert_exporter": "python",
   "pygments_lexer": "ipython3",
   "version": "3.6.5"
  }
 },
 "nbformat": 4,
 "nbformat_minor": 4
}

{
 "cells": [
  {
   "cell_type": "markdown",
   "metadata": {},
   "source": [
    "# A問題"
   ]
  },
  {
   "cell_type": "code",
   "execution_count": 15,
   "metadata": {},
   "outputs": [
    {
     "name": "stdout",
     "output_type": "stream",
     "text": [
      "Same\n",
      "Odd\n",
      "Even\n"
     ]
    }
   ],
   "source": [
    "import math\n",
    "\n",
    "T = int(input())\n",
    "for i in range(T):\n",
    "    N = int(input())\n",
    "    if N%4 == 0:\n",
    "        ans = \"Even\"\n",
    "    elif N%2 == 1:\n",
    "        ans = \"Odd\"\n",
    "    else:\n",
    "        ans = \"Same\"\n",
    "\n",
    "    print(ans)"
   ]
  },
  {
   "cell_type": "markdown",
   "metadata": {},
   "source": [
    "# B問題"
   ]
  },
  {
   "cell_type": "code",
   "execution_count": 76,
   "metadata": {},
   "outputs": [
    {
     "name": "stdout",
     "output_type": "stream",
     "text": [
      "1\n"
     ]
    }
   ],
   "source": [
    "from itertools import accumulate\n",
    "N = int(input())\n",
    "A = list(map(int, input().split()))\n",
    "\n",
    "A = sorted(A, reverse=True)\n",
    "C = A[0]\n",
    "MOD = 998244353\n",
    "ans = A[0]**2 % MOD\n",
    "\n",
    "for i in range(1,N):\n",
    "    ans += A[i]*C + A[i]**2\n",
    "    ans %= MOD\n",
    "    C = C*2+A[i]\n",
    "    C %= MOD\n",
    "\n",
    "print(ans)"
   ]
  }
 ],
 "metadata": {
  "kernelspec": {
   "display_name": "Python 3",
   "language": "python",
   "name": "python3"
  },
  "language_info": {
   "codemirror_mode": {
    "name": "ipython",
    "version": 3
   },
   "file_extension": ".py",
   "mimetype": "text/x-python",
   "name": "python",
   "nbconvert_exporter": "python",
   "pygments_lexer": "ipython3",
   "version": "3.6.5"
  }
 },
 "nbformat": 4,
 "nbformat_minor": 4
}

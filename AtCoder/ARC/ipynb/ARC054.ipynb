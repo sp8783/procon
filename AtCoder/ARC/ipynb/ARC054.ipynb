{
 "cells": [
  {
   "cell_type": "markdown",
   "metadata": {},
   "source": [
    "# B問題"
   ]
  },
  {
   "cell_type": "markdown",
   "metadata": {},
   "source": [
    "## その1：解析的解法"
   ]
  },
  {
   "cell_type": "code",
   "execution_count": 4,
   "metadata": {},
   "outputs": [
    {
     "name": "stdin",
     "output_type": "stream",
     "text": [
      " 3.00\n"
     ]
    },
    {
     "name": "stdout",
     "output_type": "stream",
     "text": [
      "2.870893001916099\n"
     ]
    }
   ],
   "source": [
    "import math\n",
    "\n",
    "P = float(input())\n",
    "\n",
    "if P * math.log(2) >= 3/2:\n",
    "    ans = 3 / (2 * math.log(2)) + (3/ 2) * (math.log2(2 * P * math.log(2)) - math.log2(3))\n",
    "else:\n",
    "    ans = P \n",
    "\n",
    "print(ans)"
   ]
  },
  {
   "cell_type": "markdown",
   "metadata": {},
   "source": [
    "## その2：三分探索"
   ]
  },
  {
   "cell_type": "code",
   "execution_count": 15,
   "metadata": {},
   "outputs": [
    {
     "name": "stdin",
     "output_type": "stream",
     "text": [
      " 3\n"
     ]
    },
    {
     "name": "stdout",
     "output_type": "stream",
     "text": [
      "2.870893001916099\n"
     ]
    }
   ],
   "source": [
    "P = float(input())\n",
    "\n",
    "def function(x):\n",
    "    return x + P*(2**(-2*x/3))\n",
    "\n",
    "low = 0\n",
    "high = P\n",
    "\n",
    "while high - low >= 10**(-9):\n",
    "    c1 = (low*2 + high) / 3\n",
    "    c2 = (low + high*2) / 3\n",
    "    if function(c1) > function(c2):\n",
    "        low = c1\n",
    "    else:\n",
    "        high = c2\n",
    "\n",
    "ans = function(high)\n",
    "print(ans)"
   ]
  }
 ],
 "metadata": {
  "kernelspec": {
   "display_name": "Python 3",
   "language": "python",
   "name": "python3"
  },
  "language_info": {
   "codemirror_mode": {
    "name": "ipython",
    "version": 3
   },
   "file_extension": ".py",
   "mimetype": "text/x-python",
   "name": "python",
   "nbconvert_exporter": "python",
   "pygments_lexer": "ipython3",
   "version": "3.6.5"
  }
 },
 "nbformat": 4,
 "nbformat_minor": 4
}

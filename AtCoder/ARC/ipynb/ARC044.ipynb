{
 "cells": [
  {
   "cell_type": "markdown",
   "metadata": {},
   "source": [
    "# A問題"
   ]
  },
  {
   "cell_type": "code",
   "execution_count": 6,
   "metadata": {},
   "outputs": [
    {
     "name": "stdin",
     "output_type": "stream",
     "text": [
      " 1\n"
     ]
    },
    {
     "name": "stdout",
     "output_type": "stream",
     "text": [
      "Not Prime\n"
     ]
    }
   ],
   "source": [
    "N = int(input())\n",
    "\n",
    "M = min(N, 10**5)\n",
    "\n",
    "ans = \"Prime\"\n",
    "for i in range(2,M):\n",
    "    if N%i == 0:\n",
    "        ans = \"Not Prime\"\n",
    "        break\n",
    "        \n",
    "if ans == \"Not Prime\":\n",
    "    if N%10 in [1,3,7,9] and N%3 != 0:\n",
    "        ans = \"Prime\"\n",
    "        \n",
    "if N == 1:\n",
    "    ans = \"Not Prime\"\n",
    "        \n",
    "print(ans)"
   ]
  }
 ],
 "metadata": {
  "kernelspec": {
   "display_name": "Python 3",
   "language": "python",
   "name": "python3"
  },
  "language_info": {
   "codemirror_mode": {
    "name": "ipython",
    "version": 3
   },
   "file_extension": ".py",
   "mimetype": "text/x-python",
   "name": "python",
   "nbconvert_exporter": "python",
   "pygments_lexer": "ipython3",
   "version": "3.6.5"
  }
 },
 "nbformat": 4,
 "nbformat_minor": 4
}

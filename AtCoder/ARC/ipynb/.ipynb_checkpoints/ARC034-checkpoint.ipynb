{
 "cells": [
  {
   "cell_type": "markdown",
   "metadata": {},
   "source": [
    "# A問題"
   ]
  },
  {
   "cell_type": "code",
   "execution_count": 2,
   "metadata": {},
   "outputs": [
    {
     "name": "stdin",
     "output_type": "stream",
     "text": [
      " 2\n",
      " 37 54 68 66 802\n",
      " 58 108 106 103 871\n"
     ]
    },
    {
     "name": "stdout",
     "output_type": "stream",
     "text": [
      "481.4555555555555\n"
     ]
    }
   ],
   "source": [
    "N = int(input())\n",
    "lst = [list(map(int, input().split())) for _ in range(N)]\n",
    "\n",
    "ans = 0\n",
    "for i in range(N):\n",
    "    ans = max(ans, sum(lst[i]) - lst[i][-1]*790/900)    \n",
    "\n",
    "print(ans)"
   ]
  }
 ],
 "metadata": {
  "kernelspec": {
   "display_name": "Python 3",
   "language": "python",
   "name": "python3"
  },
  "language_info": {
   "codemirror_mode": {
    "name": "ipython",
    "version": 3
   },
   "file_extension": ".py",
   "mimetype": "text/x-python",
   "name": "python",
   "nbconvert_exporter": "python",
   "pygments_lexer": "ipython3",
   "version": "3.6.5"
  }
 },
 "nbformat": 4,
 "nbformat_minor": 4
}

{
 "cells": [
  {
   "cell_type": "markdown",
   "metadata": {},
   "source": [
    "# A問題"
   ]
  },
  {
   "cell_type": "code",
   "execution_count": 1,
   "metadata": {},
   "outputs": [
    {
     "name": "stdin",
     "output_type": "stream",
     "text": [
      " -1 -1 2\n",
      " 2 3 4 5\n"
     ]
    },
    {
     "name": "stdout",
     "output_type": "stream",
     "text": [
      "YES\n",
      "YES\n"
     ]
    }
   ],
   "source": [
    "x1,y1,r = map(int,input().split())\n",
    "x2,y2,x3,y3 = map(int,input().split())\n",
    "\n",
    "\n",
    "ans = \"NO\"\n",
    "if x1 + r > x3:\n",
    "    ans = \"YES\"\n",
    "elif x1 - r < x2:\n",
    "    ans = \"YES\"\n",
    "elif y1 + r > y3:\n",
    "    ans = \"YES\"\n",
    "elif y1 - r < y2:\n",
    "    ans = \"YES\"\n",
    "print(ans)\n",
    "\n",
    "\n",
    "ans = \"NO\"\n",
    "f = lambda s,t:(s-x1)**2 + (t - y1)**2 > r**2\n",
    "\n",
    "if f(x2,y2):\n",
    "    ans = \"YES\"\n",
    "elif f(x2,y3):\n",
    "    ans = \"YES\"\n",
    "elif f(x3,y2):\n",
    "    ans = \"YES\"\n",
    "elif f(x3,y3):\n",
    "    ans = \"YES\"\n",
    "\n",
    "print(ans)"
   ]
  }
 ],
 "metadata": {
  "kernelspec": {
   "display_name": "Python 3",
   "language": "python",
   "name": "python3"
  },
  "language_info": {
   "codemirror_mode": {
    "name": "ipython",
    "version": 3
   },
   "file_extension": ".py",
   "mimetype": "text/x-python",
   "name": "python",
   "nbconvert_exporter": "python",
   "pygments_lexer": "ipython3",
   "version": "3.6.5"
  }
 },
 "nbformat": 4,
 "nbformat_minor": 4
}

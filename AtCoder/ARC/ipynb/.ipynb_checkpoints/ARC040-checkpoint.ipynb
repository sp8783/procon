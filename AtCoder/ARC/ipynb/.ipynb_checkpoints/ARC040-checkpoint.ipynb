{
 "cells": [
  {
   "cell_type": "markdown",
   "metadata": {},
   "source": [
    "# A問題"
   ]
  },
  {
   "cell_type": "code",
   "execution_count": 1,
   "metadata": {},
   "outputs": [
    {
     "name": "stdin",
     "output_type": "stream",
     "text": [
      " 2\n",
      " 400 628\n"
     ]
    },
    {
     "name": "stdout",
     "output_type": "stream",
     "text": [
      "628\n"
     ]
    }
   ],
   "source": [
    "N = int(input())\n",
    "T = 0\n",
    "A = 0\n",
    "for i in range(N):\n",
    "    S = input()\n",
    "    T += S.count(\"R\")\n",
    "    A += S.count(\"B\")\n",
    "\n",
    "if T > A:\n",
    "    print(\"TAKAHASHI\")\n",
    "elif T < A:\n",
    "    print(\"AOKI\")\n",
    "else:\n",
    "    print(\"DRAW\")"
   ]
  }
 ],
 "metadata": {
  "kernelspec": {
   "display_name": "Python 3",
   "language": "python",
   "name": "python3"
  },
  "language_info": {
   "codemirror_mode": {
    "name": "ipython",
    "version": 3
   },
   "file_extension": ".py",
   "mimetype": "text/x-python",
   "name": "python",
   "nbconvert_exporter": "python",
   "pygments_lexer": "ipython3",
   "version": "3.6.5"
  }
 },
 "nbformat": 4,
 "nbformat_minor": 4
}

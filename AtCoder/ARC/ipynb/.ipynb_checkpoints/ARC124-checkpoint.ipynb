{
 "cells": [
  {
   "cell_type": "markdown",
   "metadata": {},
   "source": [
    "# A問題"
   ]
  },
  {
   "cell_type": "code",
   "execution_count": 1,
   "metadata": {},
   "outputs": [
    {
     "name": "stdin",
     "output_type": "stream",
     "text": [
      " 3 2\n",
      " L 1\n",
      " R 2\n"
     ]
    },
    {
     "name": "stdout",
     "output_type": "stream",
     "text": [
      "1\n"
     ]
    }
   ],
   "source": [
    "N, K = map(int, input().split())\n",
    "\n",
    "mod = 998244353\n",
    "cnt = [K] * N\n",
    "for _ in range(K):\n",
    "    c, k = input().split()\n",
    "    cnt[int(k)-1] = 1\n",
    "    if c == 'L':\n",
    "        for i in range(int(k)-1):\n",
    "            cnt[i] = max(cnt[i]-1, 1)\n",
    "    else:\n",
    "        for i in range(int(k), N):\n",
    "            cnt[i] = max(cnt[i]-1, 1)\n",
    "\n",
    "res = 1\n",
    "for c in cnt:\n",
    "    res = (res * c) % mod\n",
    "\n",
    "print(res)"
   ]
  }
 ],
 "metadata": {
  "kernelspec": {
   "display_name": "Python 3",
   "language": "python",
   "name": "python3"
  },
  "language_info": {
   "codemirror_mode": {
    "name": "ipython",
    "version": 3
   },
   "file_extension": ".py",
   "mimetype": "text/x-python",
   "name": "python",
   "nbconvert_exporter": "python",
   "pygments_lexer": "ipython3",
   "version": "3.6.5"
  }
 },
 "nbformat": 4,
 "nbformat_minor": 4
}

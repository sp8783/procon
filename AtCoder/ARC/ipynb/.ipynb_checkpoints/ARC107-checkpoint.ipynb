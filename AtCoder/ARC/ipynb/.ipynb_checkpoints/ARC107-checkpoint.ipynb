{
 "cells": [
  {
   "cell_type": "markdown",
   "metadata": {},
   "source": [
    "# A問題"
   ]
  },
  {
   "cell_type": "code",
   "execution_count": 3,
   "metadata": {},
   "outputs": [
    {
     "name": "stdin",
     "output_type": "stream",
     "text": [
      " 10460353208\n"
     ]
    },
    {
     "name": "stdout",
     "output_type": "stream",
     "text": [
      "21 1\n"
     ]
    }
   ],
   "source": [
    "N = int(input())\n",
    "\n",
    "b = 1\n",
    "flag = False\n",
    "while 5**b < N:\n",
    "    a = 1\n",
    "    while 3**a + 5**b <= N:\n",
    "        if 3**a + 5**b == N:\n",
    "            ans = [a,b]\n",
    "            flag = True\n",
    "            break\n",
    "        else:\n",
    "            a += 1\n",
    "    b += 1\n",
    "    if flag:\n",
    "        break\n",
    "\n",
    "if flag:\n",
    "    print(*ans)\n",
    "else:\n",
    "    print(-1)"
   ]
  }
 ],
 "metadata": {
  "kernelspec": {
   "display_name": "Python 3",
   "language": "python",
   "name": "python3"
  },
  "language_info": {
   "codemirror_mode": {
    "name": "ipython",
    "version": 3
   },
   "file_extension": ".py",
   "mimetype": "text/x-python",
   "name": "python",
   "nbconvert_exporter": "python",
   "pygments_lexer": "ipython3",
   "version": "3.6.5"
  }
 },
 "nbformat": 4,
 "nbformat_minor": 4
}

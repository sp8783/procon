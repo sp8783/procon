{
 "cells": [
  {
   "cell_type": "markdown",
   "metadata": {},
   "source": [
    "# A問題"
   ]
  },
  {
   "cell_type": "code",
   "execution_count": 1,
   "metadata": {},
   "outputs": [
    {
     "name": "stdin",
     "output_type": "stream",
     "text": [
      " MinnnahaNakayoshi\n",
      " 0 6 8 17\n"
     ]
    },
    {
     "name": "stdout",
     "output_type": "stream",
     "text": [
      "\"Minnna\"ha\"Nakayoshi\"\n"
     ]
    }
   ],
   "source": [
    "S = input()\n",
    "a,b,c,d = map(int, input().split())\n",
    "\n",
    "ans = \"\"\n",
    "for i in range(len(S)+1):\n",
    "    if i in [a,b,c,d]:\n",
    "        ans += \"\\\"\"\n",
    "    if i != len(S):\n",
    "        ans += S[i]\n",
    "    \n",
    "print(ans)"
   ]
  }
 ],
 "metadata": {
  "kernelspec": {
   "display_name": "Python 3",
   "language": "python",
   "name": "python3"
  },
  "language_info": {
   "codemirror_mode": {
    "name": "ipython",
    "version": 3
   },
   "file_extension": ".py",
   "mimetype": "text/x-python",
   "name": "python",
   "nbconvert_exporter": "python",
   "pygments_lexer": "ipython3",
   "version": "3.6.5"
  }
 },
 "nbformat": 4,
 "nbformat_minor": 4
}

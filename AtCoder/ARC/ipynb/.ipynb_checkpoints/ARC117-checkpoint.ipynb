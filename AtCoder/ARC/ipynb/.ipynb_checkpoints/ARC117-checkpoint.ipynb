{
 "cells": [
  {
   "cell_type": "markdown",
   "metadata": {},
   "source": [
    "# A問題"
   ]
  },
  {
   "cell_type": "code",
   "execution_count": 10,
   "metadata": {},
   "outputs": [
    {
     "name": "stdout",
     "output_type": "stream",
     "text": [
      "-1 -2 -3 -4 10\n"
     ]
    }
   ],
   "source": [
    "A, B = map(int, input().split())\n",
    "\n",
    "if A >= B:\n",
    "    lstA = list(range(1,A+1))\n",
    "    lstB = list(range(1, B)) + [(1+A)*A//2 - B*(B - 1)//2]\n",
    "    ans = lstA\n",
    "    for l in lstB:\n",
    "        ans.append(-l)\n",
    "else:\n",
    "    lstA = list(range(1,B+1))\n",
    "    ans = []\n",
    "    for l in lstA:\n",
    "        ans.append(-l)\n",
    "    lstB = list(range(1, A)) + [(1+B)*B//2 - A*(A - 1)//2]\n",
    "    ans += lstB\n",
    "\n",
    "print(*ans)"
   ]
  },
  {
   "cell_type": "markdown",
   "metadata": {},
   "source": [
    "# B問題"
   ]
  },
  {
   "cell_type": "code",
   "execution_count": 16,
   "metadata": {},
   "outputs": [
    {
     "name": "stdout",
     "output_type": "stream",
     "text": [
      "492018656\n"
     ]
    }
   ],
   "source": [
    "N = int(input())\n",
    "A = list(map(int, input().split()))\n",
    "\n",
    "A = sorted(list(set(A)))\n",
    "ans = A[0]+1\n",
    "MOD = 10**9+7\n",
    "\n",
    "for i in range(1,len(A)):\n",
    "    ans *= A[i]-A[i-1]+1\n",
    "    ans %= MOD\n",
    "    \n",
    "print(ans)"
   ]
  }
 ],
 "metadata": {
  "kernelspec": {
   "display_name": "Python 3",
   "language": "python",
   "name": "python3"
  },
  "language_info": {
   "codemirror_mode": {
    "name": "ipython",
    "version": 3
   },
   "file_extension": ".py",
   "mimetype": "text/x-python",
   "name": "python",
   "nbconvert_exporter": "python",
   "pygments_lexer": "ipython3",
   "version": "3.6.5"
  }
 },
 "nbformat": 4,
 "nbformat_minor": 4
}

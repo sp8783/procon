{
 "cells": [
  {
   "cell_type": "markdown",
   "metadata": {},
   "source": [
    "# A問題"
   ]
  },
  {
   "cell_type": "code",
   "execution_count": 5,
   "metadata": {},
   "outputs": [
    {
     "name": "stdout",
     "output_type": "stream",
     "text": [
      "1937281\n"
     ]
    }
   ],
   "source": [
    "K = int(input())\n",
    "\n",
    "ans = 0\n",
    "for a in range(1,K+1):\n",
    "    for b in range(1, K//a + 1):\n",
    "        ans += (K//a) // b\n",
    "print(ans)"
   ]
  },
  {
   "cell_type": "markdown",
   "metadata": {},
   "source": [
    "# B問題"
   ]
  },
  {
   "cell_type": "code",
   "execution_count": 8,
   "metadata": {},
   "outputs": [
    {
     "name": "stdout",
     "output_type": "stream",
     "text": [
      "2\n"
     ]
    }
   ],
   "source": [
    "A,B,C = map(int, input().split())\n",
    "\n",
    "a = A%10\n",
    "if a in [0,1,5,6]:\n",
    "    ans = a\n",
    "elif a in [2,3,7,8]:\n",
    "    b = B%4\n",
    "    \n",
    "    if b == 0:\n",
    "        c = 0\n",
    "    elif b == 1:\n",
    "        c = 1\n",
    "    elif b == 2:\n",
    "        if C == 1:\n",
    "            c = 2\n",
    "        else:\n",
    "            c = 0\n",
    "    elif b == 3:\n",
    "        if C%2 == 1:\n",
    "            c = 3\n",
    "        else:\n",
    "            c = 1\n",
    "    \n",
    "    dic = {2:[6,2,4,8], 3:[1,3,9,7], 7:[1,7,9,3], 8:[6,8,4,2]}\n",
    "    ans = dic[a][c]\n",
    "else:\n",
    "    if B%2 == 0:\n",
    "        if a == 4:\n",
    "            ans = 6\n",
    "        else:\n",
    "            ans = 1\n",
    "    else:\n",
    "        if a == 4:\n",
    "            ans = 4\n",
    "        else:\n",
    "            ans = 9\n",
    "            \n",
    "print(ans)"
   ]
  },
  {
   "cell_type": "markdown",
   "metadata": {},
   "source": [
    "# C問題"
   ]
  },
  {
   "cell_type": "code",
   "execution_count": 16,
   "metadata": {},
   "outputs": [
    {
     "name": "stdout",
     "output_type": "stream",
     "text": [
      "16\n"
     ]
    }
   ],
   "source": [
    "S = list(input())\n",
    "\n",
    "key = [chr(i) for i in range(97, 97+26)]\n",
    "value = [0]*26\n",
    "dic = dict(zip(key,value))\n",
    "ans = 0\n",
    "\n",
    "for i in range(2,len(S))[::-1]:\n",
    "    dic[S[i]] += 1\n",
    "    if S[i-2] == S[i-1] and S[i-2] != S[i]:\n",
    "        ans += len(S) - i - dic[S[i-1]]\n",
    "        \n",
    "        dic = dict(zip(key,value))\n",
    "        dic[S[i-1]] = len(S) - i\n",
    "\n",
    "print(ans)"
   ]
  }
 ],
 "metadata": {
  "kernelspec": {
   "display_name": "Python 3",
   "language": "python",
   "name": "python3"
  },
  "language_info": {
   "codemirror_mode": {
    "name": "ipython",
    "version": 3
   },
   "file_extension": ".py",
   "mimetype": "text/x-python",
   "name": "python",
   "nbconvert_exporter": "python",
   "pygments_lexer": "ipython3",
   "version": "3.6.5"
  }
 },
 "nbformat": 4,
 "nbformat_minor": 4
}

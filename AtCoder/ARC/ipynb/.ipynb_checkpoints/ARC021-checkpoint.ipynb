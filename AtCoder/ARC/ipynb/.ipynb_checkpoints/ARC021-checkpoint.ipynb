{
 "cells": [
  {
   "cell_type": "markdown",
   "metadata": {},
   "source": [
    "# A問題"
   ]
  },
  {
   "cell_type": "code",
   "execution_count": 1,
   "metadata": {},
   "outputs": [
    {
     "name": "stdin",
     "output_type": "stream",
     "text": [
      " 2 8 2 2\n",
      " 32 2 8 8\n",
      " 4 64 2 128\n",
      " 2 2 2 2\n"
     ]
    },
    {
     "name": "stdout",
     "output_type": "stream",
     "text": [
      "CONTINUE\n"
     ]
    }
   ],
   "source": [
    "A = [list(map(int, input().split())) for _ in range(4)]\n",
    "\n",
    "ans = \"GAMEOVER\"\n",
    "for i in range(3):\n",
    "    for j in range(3):\n",
    "        if A[i][j] == A[i][j+1] or A[i][j] == A[i+1][j]:\n",
    "            ans = \"CONTINUE\"\n",
    "\n",
    "if A[2][3] == A[3][3] or A[3][2] == A[3][3]:\n",
    "    ans = \"CONTINUE\"\n",
    "\n",
    "print(ans)"
   ]
  }
 ],
 "metadata": {
  "kernelspec": {
   "display_name": "Python 3",
   "language": "python",
   "name": "python3"
  },
  "language_info": {
   "codemirror_mode": {
    "name": "ipython",
    "version": 3
   },
   "file_extension": ".py",
   "mimetype": "text/x-python",
   "name": "python",
   "nbconvert_exporter": "python",
   "pygments_lexer": "ipython3",
   "version": "3.6.5"
  }
 },
 "nbformat": 4,
 "nbformat_minor": 4
}

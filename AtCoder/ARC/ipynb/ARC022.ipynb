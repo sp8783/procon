{
 "cells": [
  {
   "cell_type": "markdown",
   "metadata": {},
   "source": [
    "# A問題"
   ]
  },
  {
   "cell_type": "code",
   "execution_count": 3,
   "metadata": {},
   "outputs": [
    {
     "name": "stdin",
     "output_type": "stream",
     "text": [
      " InformationAndCommunicationTechnology\n"
     ]
    },
    {
     "name": "stdout",
     "output_type": "stream",
     "text": [
      "YES\n"
     ]
    }
   ],
   "source": [
    "S = input()\n",
    "f1 = False\n",
    "f2 = False\n",
    "\n",
    "ans = \"NO\"\n",
    "for i in range(len(S)):\n",
    "    if f1:\n",
    "        if f2:\n",
    "            if S[i] == \"t\" or S[i] == \"T\":\n",
    "                ans = \"YES\"\n",
    "        else:\n",
    "            if S[i] == \"c\" or S[i] == \"C\":\n",
    "                f2 = True\n",
    "    else:\n",
    "        if S[i] == \"i\" or S[i] == \"I\":\n",
    "            f1 = True\n",
    "    \n",
    "print(ans)"
   ]
  }
 ],
 "metadata": {
  "kernelspec": {
   "display_name": "Python 3",
   "language": "python",
   "name": "python3"
  },
  "language_info": {
   "codemirror_mode": {
    "name": "ipython",
    "version": 3
   },
   "file_extension": ".py",
   "mimetype": "text/x-python",
   "name": "python",
   "nbconvert_exporter": "python",
   "pygments_lexer": "ipython3",
   "version": "3.6.5"
  }
 },
 "nbformat": 4,
 "nbformat_minor": 4
}

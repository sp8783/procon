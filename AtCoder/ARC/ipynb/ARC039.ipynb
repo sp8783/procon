{
 "cells": [
  {
   "cell_type": "markdown",
   "metadata": {},
   "source": [
    "# A問題"
   ]
  },
  {
   "cell_type": "code",
   "execution_count": 1,
   "metadata": {},
   "outputs": [
    {
     "name": "stdin",
     "output_type": "stream",
     "text": [
      " 4\n",
      " R.RB\n",
      " RR.B\n",
      " BRBB\n",
      " RRB.\n"
     ]
    },
    {
     "name": "stdout",
     "output_type": "stream",
     "text": [
      "TAKAHASHI\n"
     ]
    }
   ],
   "source": [
    "A, B = map(int, input().split())\n",
    "\n",
    "S1 =900+A%100 - B\n",
    "S2 =A//100*100+90+A%10 - B\n",
    "S3 =A//10*10+9 - B\n",
    "S4 =A-100-B%100\n",
    "S5 =A-B//100*100-B%10\n",
    "S6 =A-B//10*10\n",
    "\n",
    "print(max(S1,S2,S3,S4,S5,S6))"
   ]
  }
 ],
 "metadata": {
  "kernelspec": {
   "display_name": "Python 3",
   "language": "python",
   "name": "python3"
  },
  "language_info": {
   "codemirror_mode": {
    "name": "ipython",
    "version": 3
   },
   "file_extension": ".py",
   "mimetype": "text/x-python",
   "name": "python",
   "nbconvert_exporter": "python",
   "pygments_lexer": "ipython3",
   "version": "3.6.5"
  }
 },
 "nbformat": 4,
 "nbformat_minor": 4
}

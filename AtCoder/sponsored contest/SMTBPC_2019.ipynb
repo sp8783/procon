{
 "cells": [
  {
   "cell_type": "markdown",
   "metadata": {},
   "source": [
    "※コンテストURL：https://atcoder.jp/contests/sumitrust2019"
   ]
  },
  {
   "cell_type": "markdown",
   "metadata": {},
   "source": [
    "# A問題"
   ]
  },
  {
   "cell_type": "code",
   "execution_count": 1,
   "metadata": {},
   "outputs": [
    {
     "name": "stdin",
     "output_type": "stream",
     "text": [
      " 11 16\n",
      " 11 17\n"
     ]
    },
    {
     "name": "stdout",
     "output_type": "stream",
     "text": [
      "0\n"
     ]
    }
   ],
   "source": [
    "M_1, D_1 = map(int, input().split())\n",
    "M_2, D_2 = map(int, input().split())\n",
    "\n",
    "if M_1 == M_2:\n",
    "    print(0)\n",
    "else:\n",
    "    print(1)"
   ]
  },
  {
   "cell_type": "markdown",
   "metadata": {},
   "source": [
    "# B問題"
   ]
  },
  {
   "cell_type": "code",
   "execution_count": 6,
   "metadata": {},
   "outputs": [
    {
     "name": "stdin",
     "output_type": "stream",
     "text": [
      " 432\n"
     ]
    },
    {
     "name": "stdout",
     "output_type": "stream",
     "text": [
      "400\n"
     ]
    }
   ],
   "source": [
    "import math\n",
    "N = int(input())\n",
    "\n",
    "N_floor = N * 100 // 108\n",
    "N_ceil = math.ceil(N * 100 / 108)\n",
    "\n",
    "if N == N_floor * 108 // 100:\n",
    "    print(N_floor)\n",
    "    exit()\n",
    "elif N == N_ceil * 108 // 100:\n",
    "    print(N_ceil)\n",
    "    exit()\n",
    "else:\n",
    "    print(\":(\")"
   ]
  },
  {
   "cell_type": "markdown",
   "metadata": {},
   "source": [
    "# C問題"
   ]
  },
  {
   "cell_type": "code",
   "execution_count": 2,
   "metadata": {},
   "outputs": [
    {
     "name": "stdin",
     "output_type": "stream",
     "text": [
      " 217\n"
     ]
    },
    {
     "name": "stdout",
     "output_type": "stream",
     "text": [
      "0\n"
     ]
    }
   ],
   "source": [
    "X = int(input())\n",
    "\n",
    "cnt = X // 100\n",
    "left = X - cnt * 100\n",
    "\n",
    "if left <= cnt*5:\n",
    "    ans = 1\n",
    "else:\n",
    "    ans = 0\n",
    "\n",
    "print(ans)"
   ]
  },
  {
   "cell_type": "markdown",
   "metadata": {},
   "source": [
    "# D問題"
   ]
  },
  {
   "cell_type": "code",
   "execution_count": 8,
   "metadata": {},
   "outputs": [
    {
     "name": "stdin",
     "output_type": "stream",
     "text": [
      " 19\n",
      " 3141592653589793238\n"
     ]
    },
    {
     "name": "stdout",
     "output_type": "stream",
     "text": [
      "329\n"
     ]
    }
   ],
   "source": [
    "import itertools\n",
    "\n",
    "N = int(input())\n",
    "S = list(input())\n",
    "\n",
    "ans = 0\n",
    "for i in range(1000):\n",
    "    str_i = str(i).zfill(3)\n",
    "    index = 0\n",
    "    for s in S:\n",
    "        if str_i[index] == s:\n",
    "            if index <= 1:\n",
    "                index += 1\n",
    "            elif index == 2:\n",
    "                ans += 1\n",
    "                break\n",
    "        else:\n",
    "            continue\n",
    "print(ans)"
   ]
  }
 ],
 "metadata": {
  "kernelspec": {
   "display_name": "Python 3",
   "language": "python",
   "name": "python3"
  },
  "language_info": {
   "codemirror_mode": {
    "name": "ipython",
    "version": 3
   },
   "file_extension": ".py",
   "mimetype": "text/x-python",
   "name": "python",
   "nbconvert_exporter": "python",
   "pygments_lexer": "ipython3",
   "version": "3.6.5"
  }
 },
 "nbformat": 4,
 "nbformat_minor": 4
}

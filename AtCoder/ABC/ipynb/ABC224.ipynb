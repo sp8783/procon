{
 "cells": [
  {
   "cell_type": "markdown",
   "metadata": {},
   "source": [
    "# A問題"
   ]
  },
  {
   "cell_type": "code",
   "execution_count": 1,
   "metadata": {},
   "outputs": [
    {
     "name": "stdout",
     "output_type": "stream",
     "text": [
      "er\n"
     ]
    }
   ],
   "source": [
    "S = input()\n",
    "if S[-2:] == \"er\":\n",
    "    print(\"er\")\n",
    "else:\n",
    "    print(\"ist\")"
   ]
  },
  {
   "cell_type": "markdown",
   "metadata": {},
   "source": [
    "# B問題"
   ]
  },
  {
   "cell_type": "code",
   "execution_count": 3,
   "metadata": {},
   "outputs": [
    {
     "name": "stdout",
     "output_type": "stream",
     "text": [
      "No\n"
     ]
    }
   ],
   "source": [
    "H, W = map(int, input().split())\n",
    "A = [list(map(int, input().split())) for i in range(H)]\n",
    "\n",
    "ans = \"Yes\"\n",
    "for i1 in range(W-1):\n",
    "    for i2 in range(i1+1, W):\n",
    "        for j1 in range(H-1):\n",
    "            for j2 in range(j1+1, H):\n",
    "                if A[j1][i1] + A[j2][i2] > A[j1][i2] + A[j2][i1]:\n",
    "                    ans = \"No\"\n",
    "\n",
    "print(ans)"
   ]
  },
  {
   "cell_type": "markdown",
   "metadata": {},
   "source": [
    "# C問題"
   ]
  },
  {
   "cell_type": "code",
   "execution_count": 5,
   "metadata": {},
   "outputs": [
    {
     "name": "stdout",
     "output_type": "stream",
     "text": [
      "3\n"
     ]
    }
   ],
   "source": [
    "N = int(input())\n",
    "A = [list(map(int, input().split())) for i in range(N)]\n",
    "\n",
    "ans = 0\n",
    "for i in range(N-2):\n",
    "    for j in range(i+1, N-1):\n",
    "        for k in range(j+1, N):\n",
    "            if (A[j][1]-A[i][1])*(A[k][0]-A[i][0]) != (A[k][1]-A[i][1])*(A[j][0]-A[i][0]):\n",
    "                ans += 1\n",
    "\n",
    "print(ans)"
   ]
  }
 ],
 "metadata": {
  "kernelspec": {
   "display_name": "Python 3.9.12 ('base')",
   "language": "python",
   "name": "python3"
  },
  "language_info": {
   "codemirror_mode": {
    "name": "ipython",
    "version": 3
   },
   "file_extension": ".py",
   "mimetype": "text/x-python",
   "name": "python",
   "nbconvert_exporter": "python",
   "pygments_lexer": "ipython3",
   "version": "3.9.12"
  },
  "toc": {
   "base_numbering": 1,
   "nav_menu": {},
   "number_sections": true,
   "sideBar": true,
   "skip_h1_title": false,
   "title_cell": "Table of Contents",
   "title_sidebar": "Contents",
   "toc_cell": false,
   "toc_position": {},
   "toc_section_display": true,
   "toc_window_display": false
  },
  "vscode": {
   "interpreter": {
    "hash": "36fdbd3c26c66ff09daaf14850b33bb04ac5e3c892213e56f74e8e88544aecc5"
   }
  }
 },
 "nbformat": 4,
 "nbformat_minor": 4
}

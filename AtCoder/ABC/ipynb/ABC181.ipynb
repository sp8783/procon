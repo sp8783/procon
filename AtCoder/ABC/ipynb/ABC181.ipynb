{
 "cells": [
  {
   "cell_type": "markdown",
   "metadata": {},
   "source": [
    "# A問題"
   ]
  },
  {
   "cell_type": "code",
   "execution_count": 1,
   "metadata": {},
   "outputs": [
    {
     "name": "stdout",
     "output_type": "stream",
     "text": [
      "2\n",
      "White\n"
     ]
    }
   ],
   "source": [
    "n = int(input())\n",
    "\n",
    "if n % 2 == 0:\n",
    "    ans = \"White\"\n",
    "else:\n",
    "    ans = \"Black\"\n",
    "    \n",
    "print(ans)"
   ]
  },
  {
   "cell_type": "markdown",
   "metadata": {},
   "source": [
    "# B問題"
   ]
  },
  {
   "cell_type": "code",
   "execution_count": 6,
   "metadata": {},
   "outputs": [
    {
     "name": "stdout",
     "output_type": "stream",
     "text": [
      "3\n",
      "11 13\n",
      "17 47\n",
      "359 44683\n",
      "998244353\n"
     ]
    }
   ],
   "source": [
    "n = int(input())\n",
    "lst =[list(map(int,input().split())) for i in range(n)]\n",
    "\n",
    "ans = 0\n",
    "\n",
    "for i in range(n):\n",
    "    ans += (lst[i][0] + lst[i][1]) * (lst[i][1] - lst[i][0] + 1) // 2\n",
    "\n",
    "print(ans)"
   ]
  },
  {
   "cell_type": "markdown",
   "metadata": {},
   "source": [
    "# C問題"
   ]
  },
  {
   "cell_type": "code",
   "execution_count": 9,
   "metadata": {
    "scrolled": true
   },
   "outputs": [
    {
     "name": "stdout",
     "output_type": "stream",
     "text": [
      "9\n",
      "8 2\n",
      "2 3\n",
      "1 3\n",
      "3 7\n",
      "1 0\n",
      "8 8\n",
      "5 6\n",
      "9 7\n",
      "0 1\n",
      "Yes\n"
     ]
    }
   ],
   "source": [
    "n = int(input())\n",
    "lst =[list(map(int,input().split())) for i in range(n)]\n",
    "\n",
    "flag = False\n",
    "\n",
    "for i in range(n-2):\n",
    "    for j in range(i+1,n-1):\n",
    "        for k in range(j+1,n):\n",
    "            if lst[i][0] == lst[j][0] and lst[i][0] == lst[k][0]:\n",
    "                flag = True\n",
    "                break\n",
    "            elif lst[i][0] == lst[j][0] or lst[j][0] == lst[k][0] or lst[k][0] == lst[i][0]:\n",
    "                ans = \"No\"\n",
    "            else:\n",
    "                grad_1 = (lst[i][1] - lst[j][1])/(lst[i][0] - lst[j][0])\n",
    "                grad_2 = (lst[j][1] - lst[k][1])/(lst[j][0] - lst[k][0])\n",
    "                if grad_1 == grad_2:\n",
    "                    flag = True\n",
    "                    break\n",
    "        if flag:\n",
    "            break\n",
    "    if flag:\n",
    "        break\n",
    "\n",
    "if flag:\n",
    "    ans = \"Yes\"\n",
    "else:\n",
    "    ans = \"No\"\n",
    "            \n",
    "print(ans)"
   ]
  },
  {
   "cell_type": "markdown",
   "metadata": {},
   "source": [
    "# D問題"
   ]
  },
  {
   "cell_type": "code",
   "execution_count": null,
   "metadata": {},
   "outputs": [],
   "source": [
    "from collections import Counter\n",
    "\n",
    "S = input()\n",
    "\n",
    "fill_num = min(len(S), 3)\n",
    "S_cnt = Counter(list(S.zfill(fill_num)))\n",
    "eight_cnt = []\n",
    "\n",
    "for i in range(1,10**(fill_num)):\n",
    "    if i%8 == 0:\n",
    "        i = str(i).zfill(fill_num)\n",
    "        tmp = Counter(list(i))\n",
    "        eight_cnt.append(tmp)\n",
    "    \n",
    "\n",
    "ans = \"No\"\n",
    "    \n",
    "for cnt in eight_cnt:\n",
    "    flag = True\n",
    "    for k in cnt.keys():\n",
    "        if S_cnt[k] < cnt[k]:\n",
    "            flag = False\n",
    "            break\n",
    "    \n",
    "    if flag:\n",
    "        ans = \"Yes\"\n",
    "        break\n",
    "        \n",
    "print(ans)"
   ]
  },
  {
   "cell_type": "code",
   "execution_count": 78,
   "metadata": {},
   "outputs": [
    {
     "data": {
      "text/plain": [
       "1"
      ]
     },
     "execution_count": 78,
     "metadata": {},
     "output_type": "execute_result"
    }
   ],
   "source": [
    "10**len(S)//8"
   ]
  },
  {
   "cell_type": "code",
   "execution_count": 66,
   "metadata": {},
   "outputs": [
    {
     "data": {
      "text/plain": [
       "0"
      ]
     },
     "execution_count": 66,
     "metadata": {},
     "output_type": "execute_result"
    }
   ],
   "source": [
    "S_cnt[]"
   ]
  },
  {
   "cell_type": "code",
   "execution_count": null,
   "metadata": {},
   "outputs": [],
   "source": []
  }
 ],
 "metadata": {
  "kernelspec": {
   "display_name": "Python 3",
   "language": "python",
   "name": "python3"
  },
  "language_info": {
   "codemirror_mode": {
    "name": "ipython",
    "version": 3
   },
   "file_extension": ".py",
   "mimetype": "text/x-python",
   "name": "python",
   "nbconvert_exporter": "python",
   "pygments_lexer": "ipython3",
   "version": "3.6.5"
  },
  "toc": {
   "base_numbering": 1,
   "nav_menu": {},
   "number_sections": true,
   "sideBar": true,
   "skip_h1_title": false,
   "title_cell": "Table of Contents",
   "title_sidebar": "Contents",
   "toc_cell": false,
   "toc_position": {},
   "toc_section_display": true,
   "toc_window_display": false
  }
 },
 "nbformat": 4,
 "nbformat_minor": 1
}

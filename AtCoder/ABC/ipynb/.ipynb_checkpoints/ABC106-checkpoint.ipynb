{
 "cells": [
  {
   "cell_type": "markdown",
   "metadata": {},
   "source": [
    "# A問題"
   ]
  },
  {
   "cell_type": "code",
   "execution_count": 2,
   "metadata": {},
   "outputs": [
    {
     "name": "stdin",
     "output_type": "stream",
     "text": [
      " 5 7\n"
     ]
    },
    {
     "name": "stdout",
     "output_type": "stream",
     "text": [
      "24\n"
     ]
    }
   ],
   "source": [
    "A, B = map(int, input().split())\n",
    "ans = A * B - (A + B - 1)\n",
    "print(ans)"
   ]
  },
  {
   "cell_type": "markdown",
   "metadata": {},
   "source": [
    "# B問題"
   ]
  },
  {
   "cell_type": "code",
   "execution_count": 11,
   "metadata": {},
   "outputs": [
    {
     "name": "stdin",
     "output_type": "stream",
     "text": [
      " 7\n"
     ]
    },
    {
     "name": "stdout",
     "output_type": "stream",
     "text": [
      "0\n"
     ]
    }
   ],
   "source": [
    "import math\n",
    "\n",
    "def divisor_count(n):\n",
    "    i = 1\n",
    "    cnt = 0\n",
    "    while i <= n:\n",
    "        if n % i == 0:\n",
    "            cnt += 1\n",
    "        i += 1\n",
    "    return cnt\n",
    "\n",
    "N = int(input())\n",
    "\n",
    "ans = 0\n",
    "for i in range(1,N+1,2):\n",
    "    if divisor_count(i) == 8:\n",
    "        ans += 1\n",
    "\n",
    "print(ans)"
   ]
  },
  {
   "cell_type": "markdown",
   "metadata": {},
   "source": [
    "# C問題"
   ]
  },
  {
   "cell_type": "code",
   "execution_count": 2,
   "metadata": {},
   "outputs": [
    {
     "name": "stdin",
     "output_type": "stream",
     "text": [
      " 1214\n",
      " 4\n"
     ]
    },
    {
     "name": "stdout",
     "output_type": "stream",
     "text": [
      "2\n"
     ]
    }
   ],
   "source": [
    "S = input()\n",
    "K = int(input())\n",
    "\n",
    "one_cnt = 0\n",
    "next_str = \"\"\n",
    "for i in range(len(S)):\n",
    "    if S[i] == \"1\":\n",
    "        one_cnt += 1\n",
    "    else:\n",
    "        next_str = S[i]\n",
    "        break\n",
    "\n",
    "if K <= one_cnt:\n",
    "    print(\"1\")\n",
    "else:\n",
    "    print(next_str)"
   ]
  },
  {
   "cell_type": "markdown",
   "metadata": {},
   "source": [
    "# D問題"
   ]
  },
  {
   "cell_type": "code",
   "execution_count": 13,
   "metadata": {},
   "outputs": [
    {
     "name": "stdout",
     "output_type": "stream",
     "text": [
      "3\n"
     ]
    }
   ],
   "source": [
    "from itertools import accumulate\n",
    "import numpy as np\n",
    "\n",
    "N, M, Q = map(int, input().split())\n",
    "lst = np.zeros((N,N), dtype=int)\n",
    "\n",
    "for _ in range(M):\n",
    "    l, r = map(int, input().split())\n",
    "    lst[l-1][r-1] += 1\n",
    "\n",
    "# 行方向に左から累積和を取る\n",
    "lst = np.cumsum(lst, axis=1)\n",
    "\n",
    "# 列方向に下から累積和を取る\n",
    "# 累積和は上からしか取れないため、上下反転⇒累積和を取る⇒上下反転　という操作をする\n",
    "lst = np.flipud(lst) \n",
    "lst = np.cumsum(lst, axis=0)\n",
    "lst = np.flipud(lst)\n",
    "\n",
    "for _ in range(Q):\n",
    "    p, q = map(int, input().split())\n",
    "    print(lst[p-1][q-1])"
   ]
  }
 ],
 "metadata": {
  "kernelspec": {
   "display_name": "Python 3",
   "language": "python",
   "name": "python3"
  },
  "language_info": {
   "codemirror_mode": {
    "name": "ipython",
    "version": 3
   },
   "file_extension": ".py",
   "mimetype": "text/x-python",
   "name": "python",
   "nbconvert_exporter": "python",
   "pygments_lexer": "ipython3",
   "version": "3.6.5"
  },
  "toc": {
   "base_numbering": 1,
   "nav_menu": {},
   "number_sections": true,
   "sideBar": true,
   "skip_h1_title": false,
   "title_cell": "Table of Contents",
   "title_sidebar": "Contents",
   "toc_cell": false,
   "toc_position": {},
   "toc_section_display": true,
   "toc_window_display": false
  }
 },
 "nbformat": 4,
 "nbformat_minor": 4
}

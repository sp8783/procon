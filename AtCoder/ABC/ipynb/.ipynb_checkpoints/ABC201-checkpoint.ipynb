{
 "cells": [
  {
   "cell_type": "markdown",
   "metadata": {},
   "source": [
    "# A問題"
   ]
  },
  {
   "cell_type": "code",
   "execution_count": 6,
   "metadata": {},
   "outputs": [
    {
     "name": "stdout",
     "output_type": "stream",
     "text": [
      "Yes\n"
     ]
    }
   ],
   "source": [
    "import itertools\n",
    "\n",
    "A = list(map(int, input().split()))\n",
    "L = itertools.permutations(list(range(3)), 3)\n",
    "ans = \"No\"\n",
    "for a,b,c in L:\n",
    "    if A[b] - A[a] == A[c] - A[b]:\n",
    "        ans = \"Yes\"\n",
    "        break\n",
    "print(ans)"
   ]
  },
  {
   "cell_type": "markdown",
   "metadata": {},
   "source": [
    "# B問題"
   ]
  },
  {
   "cell_type": "code",
   "execution_count": 9,
   "metadata": {},
   "outputs": [
    {
     "name": "stdout",
     "output_type": "stream",
     "text": [
      "Kita\n"
     ]
    }
   ],
   "source": [
    "N = int(input())\n",
    "H = []\n",
    "dic = dict()\n",
    "for i in range(N):\n",
    "    s, t = input().split()\n",
    "    H.append(int(t))\n",
    "    dic[t] = s\n",
    "\n",
    "H = sorted(H)\n",
    "ans = dic[str(H[-2])]\n",
    "\n",
    "print(ans)"
   ]
  },
  {
   "cell_type": "markdown",
   "metadata": {},
   "source": [
    "# C問題"
   ]
  },
  {
   "cell_type": "code",
   "execution_count": 23,
   "metadata": {},
   "outputs": [
    {
     "name": "stdout",
     "output_type": "stream",
     "text": [
      "39\n"
     ]
    }
   ],
   "source": [
    "S = list(input())\n",
    "a = S.count(\"o\")\n",
    "b = S.count(\"?\")\n",
    "\n",
    "if a == 0:\n",
    "    ans = (b+a)**4\n",
    "elif a == 1:\n",
    "    ans = 4*b**3 + 6*b**2 + 4*b + 1\n",
    "elif a == 2:\n",
    "    ans = 6*2*b**2 + 4*6*b + 14\n",
    "elif a == 3:\n",
    "    ans = 4*6*b + 36\n",
    "elif a == 4:\n",
    "    ans = 24\n",
    "else:\n",
    "    ans = 0\n",
    "    \n",
    "print(ans)"
   ]
  },
  {
   "cell_type": "markdown",
   "metadata": {},
   "source": [
    "# D問題"
   ]
  },
  {
   "cell_type": "code",
   "execution_count": 52,
   "metadata": {},
   "outputs": [
    {
     "name": "stdout",
     "output_type": "stream",
     "text": [
      "Aoki\n"
     ]
    }
   ],
   "source": [
    "H, W = map(int, input().split())\n",
    "A = [list(input()) for _ in range(H)]\n",
    "\n",
    "dp = [[None]*W for _ in range(H)]\n",
    "P = {\"+\":1, \"-\":-1}\n",
    "\n",
    "for i in range(W)[::-1]:\n",
    "    for j in range(H)[::-1]:\n",
    "        if (i+j)%2 == 0:\n",
    "            t = 0\n",
    "        else:\n",
    "            t = 1\n",
    "            \n",
    "        if [i,j] == [W-1, H-1]:\n",
    "            dp[j][i] = 0\n",
    "                \n",
    "        elif i == W-1:\n",
    "            if t == 0:\n",
    "                dp[j][i] = dp[j+1][i] + P[A[j+1][i]]\n",
    "            else:\n",
    "                dp[j][i] = dp[j+1][i] - P[A[j+1][i]]\n",
    "                \n",
    "        elif j == H-1:\n",
    "            if t == 0:\n",
    "                dp[j][i] = dp[j][i+1] + P[A[j][i+1]]\n",
    "            else:\n",
    "                dp[j][i] = dp[j][i+1] - P[A[j][i+1]]            \n",
    "\n",
    "        else:\n",
    "            if t == 0:\n",
    "                dp[j][i] = max(dp[j][i+1] + P[A[j][i+1]] , dp[j+1][i] + P[A[j+1][i]])\n",
    "            else:\n",
    "                dp[j][i] = min(dp[j][i+1] - P[A[j][i+1]] , dp[j+1][i] - P[A[j+1][i]])\n",
    "                \n",
    "if dp[0][0] >= 1:\n",
    "    ans = \"Takahashi\"\n",
    "elif dp[0][0] <= -1:\n",
    "    ans = \"Aoki\"\n",
    "else:\n",
    "    ans = \"Draw\"\n",
    "    \n",
    "if [W,H] == [1,1]:\n",
    "    ans = \"Draw\"\n",
    "    \n",
    "print(ans)"
   ]
  }
 ],
 "metadata": {
  "kernelspec": {
   "display_name": "Python 3",
   "language": "python",
   "name": "python3"
  },
  "language_info": {
   "codemirror_mode": {
    "name": "ipython",
    "version": 3
   },
   "file_extension": ".py",
   "mimetype": "text/x-python",
   "name": "python",
   "nbconvert_exporter": "python",
   "pygments_lexer": "ipython3",
   "version": "3.6.5"
  },
  "toc": {
   "base_numbering": 1,
   "nav_menu": {},
   "number_sections": true,
   "sideBar": true,
   "skip_h1_title": false,
   "title_cell": "Table of Contents",
   "title_sidebar": "Contents",
   "toc_cell": false,
   "toc_position": {},
   "toc_section_display": true,
   "toc_window_display": false
  }
 },
 "nbformat": 4,
 "nbformat_minor": 4
}

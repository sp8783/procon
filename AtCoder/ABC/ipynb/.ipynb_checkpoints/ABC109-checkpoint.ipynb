{
 "cells": [
  {
   "cell_type": "markdown",
   "metadata": {},
   "source": [
    "# A問題"
   ]
  },
  {
   "cell_type": "code",
   "execution_count": 3,
   "metadata": {},
   "outputs": [
    {
     "name": "stdin",
     "output_type": "stream",
     "text": [
      " 2 2\n"
     ]
    },
    {
     "name": "stdout",
     "output_type": "stream",
     "text": [
      "No\n"
     ]
    }
   ],
   "source": [
    "A, B = map(int, input().split())\n",
    "\n",
    "if (A*B)%2==0:\n",
    "    ans = \"No\"\n",
    "else:\n",
    "    ans = \"Yes\"\n",
    "\n",
    "print(ans)"
   ]
  },
  {
   "cell_type": "markdown",
   "metadata": {},
   "source": [
    "# B問題"
   ]
  },
  {
   "cell_type": "code",
   "execution_count": 8,
   "metadata": {},
   "outputs": [
    {
     "name": "stdout",
     "output_type": "stream",
     "text": [
      "No\n"
     ]
    }
   ],
   "source": [
    "N = int(input())\n",
    "\n",
    "lst = []\n",
    "ans = \"Yes\"\n",
    "for i in range(N):\n",
    "    S = input()\n",
    "    if i != 0:\n",
    "        if lst[-1][-1] != S[0] or S in lst:\n",
    "            ans = \"No\"\n",
    "            break\n",
    "    lst.append(S)\n",
    "\n",
    "print(ans)"
   ]
  },
  {
   "cell_type": "markdown",
   "metadata": {},
   "source": [
    "# C問題"
   ]
  },
  {
   "cell_type": "code",
   "execution_count": 11,
   "metadata": {},
   "outputs": [
    {
     "name": "stdout",
     "output_type": "stream",
     "text": [
      "999999999\n"
     ]
    }
   ],
   "source": [
    "import math\n",
    "\n",
    "N, X = map(int, input().split())\n",
    "lst = list(map(int, input().split()))\n",
    "\n",
    "ans = 0\n",
    "for i in range(N):\n",
    "    if i == 0:\n",
    "        ans = abs(lst[i] - X)\n",
    "    else:\n",
    "        ans = math.gcd(ans, abs(lst[i] - X))\n",
    "    if ans == 1:\n",
    "        break\n",
    "print(ans)"
   ]
  },
  {
   "cell_type": "markdown",
   "metadata": {},
   "source": [
    "# D問題"
   ]
  },
  {
   "cell_type": "code",
   "execution_count": 14,
   "metadata": {},
   "outputs": [
    {
     "name": "stdout",
     "output_type": "stream",
     "text": [
      "3\n",
      "1 1 2 1\n",
      "1 3 2 3\n",
      "2 1 2 2\n"
     ]
    }
   ],
   "source": [
    "H, W = map(int, input().split())\n",
    "lst = [list(map(int, input().split())) for _ in range(H)]\n",
    "\n",
    "cnt = 0\n",
    "all_op = []\n",
    "for h in range(H):\n",
    "    for w in range(W):\n",
    "        if h == H-1 and w == W-1:\n",
    "            break\n",
    "        \n",
    "        op = [h+1, w+1]\n",
    "        if lst[h][w] % 2 != 0:\n",
    "            cnt += 1\n",
    "            lst[h][w] -= 1\n",
    "            if h == H-1:\n",
    "                lst[h][w+1] += 1\n",
    "                op += [h+1, w+2]\n",
    "            elif w == W-1:\n",
    "                lst[h+1][w] += 1\n",
    "                op += [h+2, w+1]\n",
    "            elif lst[h][w+1] % 2 != 0:\n",
    "                lst[h][w+1] += 1\n",
    "                op += [h+1, w+2]\n",
    "            else:\n",
    "                lst[h+1][w] += 1\n",
    "                op += [h+2, w+1]\n",
    "            all_op.append(op)\n",
    "\n",
    "print(cnt)\n",
    "for op in all_op:\n",
    "    print(*op)"
   ]
  }
 ],
 "metadata": {
  "kernelspec": {
   "display_name": "Python 3",
   "language": "python",
   "name": "python3"
  },
  "language_info": {
   "codemirror_mode": {
    "name": "ipython",
    "version": 3
   },
   "file_extension": ".py",
   "mimetype": "text/x-python",
   "name": "python",
   "nbconvert_exporter": "python",
   "pygments_lexer": "ipython3",
   "version": "3.6.5"
  },
  "toc": {
   "base_numbering": 1,
   "nav_menu": {},
   "number_sections": true,
   "sideBar": true,
   "skip_h1_title": false,
   "title_cell": "Table of Contents",
   "title_sidebar": "Contents",
   "toc_cell": false,
   "toc_position": {},
   "toc_section_display": true,
   "toc_window_display": false
  }
 },
 "nbformat": 4,
 "nbformat_minor": 4
}

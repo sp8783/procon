{
 "cells": [
  {
   "cell_type": "markdown",
   "metadata": {},
   "source": [
    "# A問題"
   ]
  },
  {
   "cell_type": "code",
   "execution_count": 2,
   "metadata": {},
   "outputs": [
    {
     "name": "stdin",
     "output_type": "stream",
     "text": [
      " 100\n"
     ]
    },
    {
     "name": "stdout",
     "output_type": "stream",
     "text": [
      "expert\n"
     ]
    }
   ],
   "source": [
    "X = int(input())\n",
    "\n",
    "if X < 40:\n",
    "    ans = 40 - X\n",
    "elif X < 70:\n",
    "    ans = 70 - X\n",
    "elif X < 90:\n",
    "    ans = 90 - X\n",
    "else:\n",
    "    ans = \"expert\"\n",
    "    \n",
    "print(ans)"
   ]
  },
  {
   "cell_type": "markdown",
   "metadata": {},
   "source": [
    "# B問題"
   ]
  },
  {
   "cell_type": "code",
   "execution_count": 2,
   "metadata": {},
   "outputs": [
    {
     "name": "stdin",
     "output_type": "stream",
     "text": [
      " 100\n"
     ]
    },
    {
     "name": "stdout",
     "output_type": "stream",
     "text": [
      "expert\n"
     ]
    }
   ],
   "source": [
    "S = [input() for _ in range(3)]\n",
    "T = list(input())\n",
    "\n",
    "ans = \"\"\n",
    "for t in T:\n",
    "    t = int(t) - 1\n",
    "    ans += S[t]\n",
    "\n",
    "print(ans)"
   ]
  },
  {
   "cell_type": "markdown",
   "metadata": {},
   "source": [
    "# C問題"
   ]
  },
  {
   "cell_type": "code",
   "execution_count": 9,
   "metadata": {},
   "outputs": [
    {
     "name": "stdout",
     "output_type": "stream",
     "text": [
      "b\n",
      "a\n",
      "ac\n",
      "ab\n",
      "abc\n"
     ]
    }
   ],
   "source": [
    "X = list(input())\n",
    "dic_X = dict(zip(X, list(map(lambda x:chr(x), list(range(97,97+26))))))\n",
    "\n",
    "N = int(input())\n",
    "dic_S = dict()\n",
    "lst_n = []\n",
    "lst_S = []\n",
    "\n",
    "for i in range(N):\n",
    "    S = input()\n",
    "    lst_S.append(S)\n",
    "    n = \"\"\n",
    "    for i in range(len(S)):\n",
    "        n += str(dic_X[S[i]])\n",
    "    dic_S[n] = S\n",
    "    lst_n.append(n)\n",
    "\n",
    "lst_n = sorted(lst_n)\n",
    "for l in lst_n:\n",
    "    print(dic_S[l])"
   ]
  }
 ],
 "metadata": {
  "kernelspec": {
   "display_name": "Python 3",
   "language": "python",
   "name": "python3"
  },
  "language_info": {
   "codemirror_mode": {
    "name": "ipython",
    "version": 3
   },
   "file_extension": ".py",
   "mimetype": "text/x-python",
   "name": "python",
   "nbconvert_exporter": "python",
   "pygments_lexer": "ipython3",
   "version": "3.6.5"
  },
  "toc": {
   "base_numbering": 1,
   "nav_menu": {},
   "number_sections": true,
   "sideBar": true,
   "skip_h1_title": false,
   "title_cell": "Table of Contents",
   "title_sidebar": "Contents",
   "toc_cell": false,
   "toc_position": {},
   "toc_section_display": true,
   "toc_window_display": false
  }
 },
 "nbformat": 4,
 "nbformat_minor": 4
}

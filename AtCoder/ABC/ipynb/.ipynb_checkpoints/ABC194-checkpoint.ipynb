{
 "cells": [
  {
   "cell_type": "markdown",
   "metadata": {},
   "source": [
    "# A問題"
   ]
  },
  {
   "cell_type": "code",
   "execution_count": 5,
   "metadata": {},
   "outputs": [
    {
     "name": "stdout",
     "output_type": "stream",
     "text": [
      "3\n"
     ]
    }
   ],
   "source": [
    "A,B = map(int ,input().split())\n",
    "\n",
    "if A+B >= 15 and B >= 8:\n",
    "    ans = 1\n",
    "elif A+B >= 10 and B >= 3:\n",
    "    ans = 2\n",
    "elif A+B >= 3:\n",
    "    ans = 3\n",
    "else:\n",
    "    ans = 4\n",
    "print(ans)"
   ]
  },
  {
   "cell_type": "markdown",
   "metadata": {},
   "source": [
    "# B問題"
   ]
  },
  {
   "cell_type": "code",
   "execution_count": 8,
   "metadata": {},
   "outputs": [
    {
     "name": "stdout",
     "output_type": "stream",
     "text": [
      "5\n"
     ]
    }
   ],
   "source": [
    "N = int(input())\n",
    "lst = [list(map(int, input().split())) for _ in range(N)]\n",
    "ans = 10**6\n",
    "for i in range(N):\n",
    "    for j in range(N):\n",
    "        if i != j:\n",
    "            tmp = max(lst[i][0], lst[j][1])\n",
    "        else:\n",
    "            tmp = lst[i][0]+lst[j][1]\n",
    "        ans = min(ans, tmp)\n",
    "print(ans)"
   ]
  },
  {
   "cell_type": "markdown",
   "metadata": {},
   "source": [
    "# C問題"
   ]
  },
  {
   "cell_type": "code",
   "execution_count": 17,
   "metadata": {},
   "outputs": [
    {
     "name": "stdout",
     "output_type": "stream",
     "text": [
      "950\n"
     ]
    }
   ],
   "source": [
    "N = int(input())\n",
    "A = list(map(int ,input().split()))\n",
    "\n",
    "sq = 0\n",
    "a_sum = 0\n",
    "for a in A:\n",
    "    a_sum += a\n",
    "    sq += a**2\n",
    "    \n",
    "ans = N*sq - a_sum**2\n",
    "print(ans)"
   ]
  },
  {
   "cell_type": "markdown",
   "metadata": {},
   "source": [
    "# D問題"
   ]
  },
  {
   "cell_type": "code",
   "execution_count": 41,
   "metadata": {},
   "outputs": [
    {
     "name": "stdout",
     "output_type": "stream",
     "text": [
      "4.5\n"
     ]
    }
   ],
   "source": [
    "N = int(input())\n",
    "\n",
    "ans = 0\n",
    "for i in range(1,N):\n",
    "    ans += N/i\n",
    "        \n",
    "print(ans)"
   ]
  },
  {
   "cell_type": "markdown",
   "metadata": {},
   "source": [
    "# E問題"
   ]
  },
  {
   "cell_type": "code",
   "execution_count": 21,
   "metadata": {},
   "outputs": [
    {
     "name": "stdout",
     "output_type": "stream",
     "text": [
      "2\n"
     ]
    }
   ],
   "source": [
    "N, M = map(int, input().split())\n",
    "A = list(map(int, input().split()))\n",
    "\n",
    "lst = A[:M]\n",
    "cnt_lst = [0]*N\n",
    "# min_num = N\n",
    "# min_cnt = 1\n",
    "for l in lst:\n",
    "    cnt_lst[l] += 1\n",
    "#     if min_num == l:\n",
    "#         min_cnt += 1\n",
    "#     else:\n",
    "#         min_num = min(min_num, l)\n",
    "#         min_cnt = 1\n",
    "\n",
    "ans = N\n",
    "for i in range(N):\n",
    "    if cnt_lst[i] == 0:\n",
    "        ans = i\n",
    "        break\n",
    "        \n",
    "for i in range(N-M):\n",
    "    old = A[i]\n",
    "    new = A[M+i]\n",
    "    cnt_lst[old] -= 1\n",
    "    cnt_lst[new] += 1\n",
    "    if ans > old and cnt_lst[old] == 0:\n",
    "        ans = old\n",
    "\n",
    "print(ans)"
   ]
  }
 ],
 "metadata": {
  "kernelspec": {
   "display_name": "Python 3",
   "language": "python",
   "name": "python3"
  },
  "language_info": {
   "codemirror_mode": {
    "name": "ipython",
    "version": 3
   },
   "file_extension": ".py",
   "mimetype": "text/x-python",
   "name": "python",
   "nbconvert_exporter": "python",
   "pygments_lexer": "ipython3",
   "version": "3.6.5"
  },
  "toc": {
   "base_numbering": 1,
   "nav_menu": {},
   "number_sections": true,
   "sideBar": true,
   "skip_h1_title": false,
   "title_cell": "Table of Contents",
   "title_sidebar": "Contents",
   "toc_cell": false,
   "toc_position": {},
   "toc_section_display": true,
   "toc_window_display": false
  }
 },
 "nbformat": 4,
 "nbformat_minor": 4
}

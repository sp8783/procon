{
 "cells": [
  {
   "cell_type": "markdown",
   "metadata": {},
   "source": [
    "# A問題"
   ]
  },
  {
   "cell_type": "code",
   "execution_count": 6,
   "metadata": {},
   "outputs": [
    {
     "name": "stdout",
     "output_type": "stream",
     "text": [
      "-1\n"
     ]
    }
   ],
   "source": [
    "a,b,c = map(int, input().split())\n",
    "\n",
    "ans = -1\n",
    "for i in range(a,b+1):\n",
    "    if i%c == 0:\n",
    "        ans = i\n",
    "\n",
    "print(ans)"
   ]
  },
  {
   "cell_type": "markdown",
   "metadata": {},
   "source": [
    "# B問題"
   ]
  },
  {
   "cell_type": "code",
   "execution_count": 11,
   "metadata": {},
   "outputs": [
    {
     "name": "stdout",
     "output_type": "stream",
     "text": [
      "220\n"
     ]
    }
   ],
   "source": [
    "K = int(input())\n",
    "a,b = map(int, input().split())\n",
    "\n",
    "def Base_n_to_10(X,n):\n",
    "    out = 0\n",
    "    for i in range(1,len(str(X))+1):\n",
    "        out += int(X[-i])*(n**(i-1))\n",
    "    return out#int out\n",
    "        \n",
    "ans = Base_n_to_10(str(a),K) * Base_n_to_10(str(b),K)\n",
    "print(ans)"
   ]
  },
  {
   "cell_type": "markdown",
   "metadata": {},
   "source": [
    "# C問題"
   ]
  },
  {
   "cell_type": "code",
   "execution_count": 14,
   "metadata": {},
   "outputs": [
    {
     "name": "stdout",
     "output_type": "stream",
     "text": [
      "5\n"
     ]
    }
   ],
   "source": [
    "N = int(input())\n",
    "A = list(map(int, input().split()))\n",
    "X = int(input())\n",
    "\n",
    "S = sum(A)\n",
    "ans = (X//S)*N\n",
    "tot = (X//S)*S\n",
    "\n",
    "for i in range(N):\n",
    "    tot += A[i]\n",
    "    ans += 1\n",
    "    if tot > X:\n",
    "        break\n",
    "print(ans)"
   ]
  },
  {
   "cell_type": "markdown",
   "metadata": {},
   "source": [
    "# D問題"
   ]
  },
  {
   "cell_type": "code",
   "execution_count": 28,
   "metadata": {},
   "outputs": [
    {
     "name": "stdout",
     "output_type": "stream",
     "text": [
      "6\n",
      "0\n",
      "1\n",
      "1\n",
      "4\n",
      "0\n",
      "1\n",
      "1\n",
      "0\n",
      "2\n"
     ]
    }
   ],
   "source": [
    "N = int(input())\n",
    "A = list(map(int, input().split()))\n",
    "\n",
    "dp = [[0]*10 for _ in range(N)]\n",
    "dp[0][A[0]] = 1\n",
    "MOD = 998244353\n",
    "\n",
    "for i in range(N-1):\n",
    "    y = A[i+1]\n",
    "    for j in range(10):\n",
    "        f = (j+y)%10\n",
    "        g = (j*y)%10\n",
    "        dp[i+1][f] += dp[i][j]\n",
    "        dp[i+1][g] += dp[i][j]\n",
    "        \n",
    "    for j in range(10):        \n",
    "        dp[i+1][j] %= MOD        \n",
    "    \n",
    "ans = dp[-1]\n",
    "for a in ans:\n",
    "    print(a)"
   ]
  }
 ],
 "metadata": {
  "kernelspec": {
   "display_name": "Python 3",
   "language": "python",
   "name": "python3"
  },
  "language_info": {
   "codemirror_mode": {
    "name": "ipython",
    "version": 3
   },
   "file_extension": ".py",
   "mimetype": "text/x-python",
   "name": "python",
   "nbconvert_exporter": "python",
   "pygments_lexer": "ipython3",
   "version": "3.6.5"
  },
  "toc": {
   "base_numbering": 1,
   "nav_menu": {},
   "number_sections": true,
   "sideBar": true,
   "skip_h1_title": false,
   "title_cell": "Table of Contents",
   "title_sidebar": "Contents",
   "toc_cell": false,
   "toc_position": {},
   "toc_section_display": true,
   "toc_window_display": false
  }
 },
 "nbformat": 4,
 "nbformat_minor": 4
}

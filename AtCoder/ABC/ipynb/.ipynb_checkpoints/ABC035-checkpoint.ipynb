{
 "cells": [
  {
   "cell_type": "markdown",
   "metadata": {},
   "source": [
    "# A問題"
   ]
  },
  {
   "cell_type": "code",
   "execution_count": 1,
   "metadata": {},
   "outputs": [
    {
     "name": "stdin",
     "output_type": "stream",
     "text": [
      " 2 3 4\n"
     ]
    },
    {
     "name": "stdout",
     "output_type": "stream",
     "text": [
      "52\n"
     ]
    }
   ],
   "source": [
    "W, H = map(int, input().split())\n",
    "if H*100//W == 75:\n",
    "    print(\"4:3\")\n",
    "else:\n",
    "    print(\"16:9\")"
   ]
  },
  {
   "cell_type": "markdown",
   "metadata": {},
   "source": [
    "# B問題"
   ]
  },
  {
   "cell_type": "code",
   "execution_count": 1,
   "metadata": {},
   "outputs": [
    {
     "name": "stdin",
     "output_type": "stream",
     "text": [
      " UD?\n",
      " 1\n"
     ]
    },
    {
     "name": "stdout",
     "output_type": "stream",
     "text": [
      "1\n"
     ]
    }
   ],
   "source": [
    "from collections import Counter\n",
    "lst = list(input())\n",
    "T = int(input())\n",
    "\n",
    "dic = {\"L\":0, \"R\":0, \"U\":0, \"D\":0, \"?\":0}\n",
    "for l in lst:\n",
    "    dic[l] += 1\n",
    "\n",
    "ans = abs(dic[\"L\"] - dic[\"R\"]) + abs(dic[\"U\"] - dic[\"D\"])\n",
    "\n",
    "if T == 1:\n",
    "    ans += dic[\"?\"]\n",
    "else:\n",
    "    if ans >= dic[\"?\"]:\n",
    "        ans -= dic[\"?\"]\n",
    "    else:\n",
    "        if (ans - dic[\"?\"])%2 == 0:\n",
    "            ans = 0\n",
    "        else:\n",
    "            ans = 1\n",
    "\n",
    "print(ans)"
   ]
  },
  {
   "cell_type": "markdown",
   "metadata": {},
   "source": [
    "# C問題"
   ]
  },
  {
   "cell_type": "code",
   "execution_count": 5,
   "metadata": {},
   "outputs": [
    {
     "name": "stdin",
     "output_type": "stream",
     "text": [
      " 5 4\n",
      " 1 4\n",
      " 2 5\n",
      " 3 3\n",
      " 1 5\n"
     ]
    },
    {
     "name": "stdout",
     "output_type": "stream",
     "text": [
      "01010\n"
     ]
    }
   ],
   "source": [
    "N, Q = map(int, input().split())\n",
    "lst = [0]*(N+1)\n",
    "\n",
    "for _ in range(Q):\n",
    "    l, r = map(int, input().split())\n",
    "    lst[l-1] += 1\n",
    "    lst[r] -= 1\n",
    "\n",
    "lst[0] %= 2\n",
    "for i in range(N):\n",
    "    lst[i+1] += lst[i]\n",
    "    lst[i+1] %= 2\n",
    "    lst[i] = str(lst[i])\n",
    "\n",
    "ans = lst[:-1]\n",
    "print(\"\".join(ans))"
   ]
  }
 ],
 "metadata": {
  "kernelspec": {
   "display_name": "Python 3",
   "language": "python",
   "name": "python3"
  },
  "language_info": {
   "codemirror_mode": {
    "name": "ipython",
    "version": 3
   },
   "file_extension": ".py",
   "mimetype": "text/x-python",
   "name": "python",
   "nbconvert_exporter": "python",
   "pygments_lexer": "ipython3",
   "version": "3.6.5"
  },
  "toc": {
   "base_numbering": 1,
   "nav_menu": {},
   "number_sections": true,
   "sideBar": true,
   "skip_h1_title": false,
   "title_cell": "Table of Contents",
   "title_sidebar": "Contents",
   "toc_cell": false,
   "toc_position": {},
   "toc_section_display": true,
   "toc_window_display": false
  }
 },
 "nbformat": 4,
 "nbformat_minor": 4
}

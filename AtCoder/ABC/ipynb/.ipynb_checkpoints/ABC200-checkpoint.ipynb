{
 "cells": [
  {
   "cell_type": "markdown",
   "metadata": {},
   "source": [
    "# A問題"
   ]
  },
  {
   "cell_type": "code",
   "execution_count": 3,
   "metadata": {},
   "outputs": [
    {
     "name": "stdout",
     "output_type": "stream",
     "text": [
      "2\n"
     ]
    }
   ],
   "source": [
    "import math\n",
    "\n",
    "N = int(input())\n",
    "ans = math.ceil(N/100)\n",
    "\n",
    "print(ans)"
   ]
  },
  {
   "cell_type": "markdown",
   "metadata": {},
   "source": [
    "# B問題"
   ]
  },
  {
   "cell_type": "code",
   "execution_count": 4,
   "metadata": {},
   "outputs": [
    {
     "name": "stdout",
     "output_type": "stream",
     "text": [
      "50531\n"
     ]
    }
   ],
   "source": [
    "N, K = map(int, input().split())\n",
    "for _ in range(K):\n",
    "    if N%200 == 0:\n",
    "        N //= 200\n",
    "    else:\n",
    "        N = int(str(N) + \"200\")\n",
    "        \n",
    "print(N)"
   ]
  },
  {
   "cell_type": "markdown",
   "metadata": {},
   "source": [
    "# C問題"
   ]
  },
  {
   "cell_type": "code",
   "execution_count": 7,
   "metadata": {},
   "outputs": [
    {
     "name": "stdout",
     "output_type": "stream",
     "text": [
      "9\n"
     ]
    }
   ],
   "source": [
    "import math\n",
    "\n",
    "def comb(n, r):\n",
    "    nf = math.factorial(n)\n",
    "    rf = math.factorial(r)\n",
    "    nf_rf = math.factorial(n-r)\n",
    "    return (nf // (nf_rf * rf))\n",
    "\n",
    "N = int(input())\n",
    "A = list(map(lambda x:int(x)%200, input().split()))\n",
    "\n",
    "dic = dict()\n",
    "for a in A:\n",
    "    if a in dic.keys():\n",
    "        dic[a] += 1\n",
    "    else:\n",
    "        dic[a] = 1\n",
    "\n",
    "ans = 0\n",
    "for v in dic.values():\n",
    "    if v <= 1:\n",
    "        continue\n",
    "    else:\n",
    "        ans += comb(v, 2)\n",
    "\n",
    "print(ans)"
   ]
  },
  {
   "cell_type": "markdown",
   "metadata": {},
   "source": [
    "# D問題"
   ]
  },
  {
   "cell_type": "code",
   "execution_count": 43,
   "metadata": {},
   "outputs": [
    {
     "name": "stdout",
     "output_type": "stream",
     "text": [
      "Yes\n",
      "2 1 2\n",
      "3 2 3 4\n"
     ]
    }
   ],
   "source": [
    "N = int(input())\n",
    "A = list(map(int, input().split()))\n",
    "\n",
    "B = list(map(lambda x: int(x)%200, A))\n",
    "\n",
    "dp = [[] for _ in range(200)]\n",
    "dp[0] = [[0,[]]]\n",
    "\n",
    "ans = 0\n",
    "flag = False\n",
    "for i in range(N):\n",
    "    add = []\n",
    "    for j in range(200):\n",
    "        for v, lst in dp[j]:\n",
    "            if not(i+1 in lst):\n",
    "                n_lst = lst[:]\n",
    "                n_lst.append(i+1)\n",
    "                nv = (v+A[i])%200\n",
    "                dp[nv].append([nv, n_lst])\n",
    "                if len(dp[nv]) == 2 and nv != 0:\n",
    "                    ans = dp[nv]\n",
    "                    flag = True\n",
    "            if flag:\n",
    "                break\n",
    "        if flag:\n",
    "            break\n",
    "    if flag:\n",
    "        break\n",
    "            \n",
    "if ans == 0:\n",
    "    print(\"No\")\n",
    "else:\n",
    "    print(\"Yes\")\n",
    "    for i in range(2):\n",
    "        l = len(ans[i][1])\n",
    "        plt = [l] + ans[i][1]\n",
    "        print(*plt)"
   ]
  }
 ],
 "metadata": {
  "kernelspec": {
   "display_name": "Python 3",
   "language": "python",
   "name": "python3"
  },
  "language_info": {
   "codemirror_mode": {
    "name": "ipython",
    "version": 3
   },
   "file_extension": ".py",
   "mimetype": "text/x-python",
   "name": "python",
   "nbconvert_exporter": "python",
   "pygments_lexer": "ipython3",
   "version": "3.6.5"
  },
  "toc": {
   "base_numbering": 1,
   "nav_menu": {},
   "number_sections": true,
   "sideBar": true,
   "skip_h1_title": false,
   "title_cell": "Table of Contents",
   "title_sidebar": "Contents",
   "toc_cell": false,
   "toc_position": {},
   "toc_section_display": true,
   "toc_window_display": false
  }
 },
 "nbformat": 4,
 "nbformat_minor": 4
}

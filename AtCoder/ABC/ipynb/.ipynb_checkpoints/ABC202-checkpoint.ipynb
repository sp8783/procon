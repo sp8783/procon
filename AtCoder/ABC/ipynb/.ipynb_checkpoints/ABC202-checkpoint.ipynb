{
 "cells": [
  {
   "cell_type": "markdown",
   "metadata": {},
   "source": [
    "# A問題"
   ]
  },
  {
   "cell_type": "code",
   "execution_count": 6,
   "metadata": {},
   "outputs": [
    {
     "name": "stdout",
     "output_type": "stream",
     "text": [
      "Yes\n"
     ]
    }
   ],
   "source": [
    "a, b, c = map(int, input().split())\n",
    "ans = 21 - (a+b+c)\n",
    "print(ans)"
   ]
  },
  {
   "cell_type": "markdown",
   "metadata": {},
   "source": [
    "# B問題"
   ]
  },
  {
   "cell_type": "code",
   "execution_count": 1,
   "metadata": {},
   "outputs": [
    {
     "name": "stdin",
     "output_type": "stream",
     "text": [
      " 0601889\n"
     ]
    },
    {
     "name": "stdout",
     "output_type": "stream",
     "text": [
      "6881090\n"
     ]
    }
   ],
   "source": [
    "S = input()\n",
    "ans = \"\"\n",
    "for s in S[::-1]:\n",
    "    if s == \"6\":\n",
    "        s = \"9\"\n",
    "    elif s == \"9\":\n",
    "        s = \"6\"\n",
    "    ans += s\n",
    "\n",
    "print(ans)"
   ]
  },
  {
   "cell_type": "markdown",
   "metadata": {},
   "source": [
    "# C問題"
   ]
  },
  {
   "cell_type": "code",
   "execution_count": null,
   "metadata": {},
   "outputs": [],
   "source": [
    "N = int(input())\n",
    "A = list(map(int, input().split()))\n",
    "B = list(map(int, input().split()))\n",
    "C = list(map(int, input().split()))\n",
    "\n",
    "lst = []\n",
    "for c in C:\n",
    "    lst.append(B[c-1])\n",
    "    \n",
    "key = list(range(10**5+10))\n",
    "value = [0]*(10**5+10)\n",
    "dic = dict(zip(key, value))\n",
    "for a in A:\n",
    "    dic[a] += 1\n",
    "    \n",
    "ans = 0\n",
    "for l in lst:\n",
    "    ans += dic[l]\n",
    "    \n",
    "print(ans)"
   ]
  },
  {
   "cell_type": "markdown",
   "metadata": {},
   "source": [
    "# D問題"
   ]
  },
  {
   "cell_type": "code",
   "execution_count": 22,
   "metadata": {},
   "outputs": [
    {
     "name": "stdin",
     "output_type": "stream",
     "text": [
      " 2 2 4\n"
     ]
    },
    {
     "name": "stdout",
     "output_type": "stream",
     "text": [
      "[2, 2, 0]\n",
      "[2, 1, 3]\n",
      "[1, 1, 3]\n",
      "baab\n"
     ]
    }
   ],
   "source": [
    "import math\n",
    "\n",
    "A, B, K = map(int, input().split())\n",
    "\n",
    "def comb(n, r):\n",
    "    nf = math.factorial(n)\n",
    "    rf = math.factorial(r)\n",
    "    nf_rf = math.factorial(n-r)\n",
    "    return (nf // (nf_rf * rf))\n",
    "\n",
    "if A == 0 or B == 0:\n",
    "    ans = \"a\"*A + \"b\"*B\n",
    "\n",
    "else:\n",
    "    a = A\n",
    "    b = B\n",
    "    k = 0\n",
    "    ans = \"\"\n",
    "    for i in range(A+B):\n",
    "        if comb(a+b-1, a-1) + k < K:\n",
    "            k += comb(a+b-1, a-1)\n",
    "            b -= 1\n",
    "            ans += \"b\"\n",
    "        else:\n",
    "            a -= 1\n",
    "            ans += \"a\"\n",
    "            \n",
    "        if a == 0 or b == 0:\n",
    "            ans += \"a\"*a + \"b\"*b\n",
    "            break\n",
    "        \n",
    "print(ans)"
   ]
  }
 ],
 "metadata": {
  "kernelspec": {
   "display_name": "Python 3",
   "language": "python",
   "name": "python3"
  },
  "language_info": {
   "codemirror_mode": {
    "name": "ipython",
    "version": 3
   },
   "file_extension": ".py",
   "mimetype": "text/x-python",
   "name": "python",
   "nbconvert_exporter": "python",
   "pygments_lexer": "ipython3",
   "version": "3.6.5"
  },
  "toc": {
   "base_numbering": 1,
   "nav_menu": {},
   "number_sections": true,
   "sideBar": true,
   "skip_h1_title": false,
   "title_cell": "Table of Contents",
   "title_sidebar": "Contents",
   "toc_cell": false,
   "toc_position": {},
   "toc_section_display": true,
   "toc_window_display": false
  }
 },
 "nbformat": 4,
 "nbformat_minor": 4
}

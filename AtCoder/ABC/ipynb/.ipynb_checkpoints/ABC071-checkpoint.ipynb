{
 "cells": [
  {
   "cell_type": "markdown",
   "metadata": {},
   "source": [
    "# A問題"
   ]
  },
  {
   "cell_type": "code",
   "execution_count": 10,
   "metadata": {},
   "outputs": [
    {
     "name": "stdout",
     "output_type": "stream",
     "text": [
      "5\n"
     ]
    }
   ],
   "source": [
    "x,a,b = map(int, input().split())\n",
    "\n",
    "if abs(x-a) < abs(x-b):\n",
    "    ans = \"A\"\n",
    "else:\n",
    "    ans = \"B\"\n",
    "    \n",
    "print(ans)"
   ]
  },
  {
   "cell_type": "markdown",
   "metadata": {},
   "source": [
    "# B問題"
   ]
  },
  {
   "cell_type": "code",
   "execution_count": 5,
   "metadata": {},
   "outputs": [
    {
     "name": "stdin",
     "output_type": "stream",
     "text": [
      " abcdefghijklmnopqrstuvwxyz\n"
     ]
    },
    {
     "name": "stdout",
     "output_type": "stream",
     "text": [
      "None\n"
     ]
    }
   ],
   "source": [
    "S = list(input())\n",
    "\n",
    "lst = [chr(i) for i in range(97, 97+26)]\n",
    "\n",
    "keys = [chr(i) for i in range(97, 97+26)]\n",
    "values = [0]*26\n",
    "\n",
    "dic = dict(zip(keys, values))\n",
    "\n",
    "for s in S:\n",
    "    dic[s] += 1\n",
    "    \n",
    "flag = False\n",
    "for l in lst:\n",
    "    if dic[l] == 0:\n",
    "        flag = True\n",
    "        ans = l\n",
    "        break\n",
    "\n",
    "if flag:\n",
    "    print(ans)\n",
    "else:\n",
    "    print(\"None\")"
   ]
  }
 ],
 "metadata": {
  "kernelspec": {
   "display_name": "Python 3",
   "language": "python",
   "name": "python3"
  },
  "language_info": {
   "codemirror_mode": {
    "name": "ipython",
    "version": 3
   },
   "file_extension": ".py",
   "mimetype": "text/x-python",
   "name": "python",
   "nbconvert_exporter": "python",
   "pygments_lexer": "ipython3",
   "version": "3.6.5"
  },
  "toc": {
   "base_numbering": 1,
   "nav_menu": {},
   "number_sections": true,
   "sideBar": true,
   "skip_h1_title": false,
   "title_cell": "Table of Contents",
   "title_sidebar": "Contents",
   "toc_cell": false,
   "toc_position": {},
   "toc_section_display": true,
   "toc_window_display": false
  }
 },
 "nbformat": 4,
 "nbformat_minor": 4
}

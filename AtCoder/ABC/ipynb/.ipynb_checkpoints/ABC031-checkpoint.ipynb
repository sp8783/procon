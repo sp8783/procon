{
 "cells": [
  {
   "cell_type": "markdown",
   "metadata": {},
   "source": [
    "# A問題"
   ]
  },
  {
   "cell_type": "code",
   "execution_count": 4,
   "metadata": {},
   "outputs": [
    {
     "name": "stdin",
     "output_type": "stream",
     "text": [
      " 2\n",
      " 2\n",
      " 2\n"
     ]
    },
    {
     "name": "stdout",
     "output_type": "stream",
     "text": [
      "2\n"
     ]
    }
   ],
   "source": [
    "a, d = map(int, input().split())\n",
    "ans = max((a+1)*d, a*(d+1))\n",
    "print(ans)"
   ]
  },
  {
   "cell_type": "markdown",
   "metadata": {},
   "source": [
    "# B問題"
   ]
  },
  {
   "cell_type": "code",
   "execution_count": 16,
   "metadata": {},
   "outputs": [
    {
     "name": "stdin",
     "output_type": "stream",
     "text": [
      " a\n",
      " 2\n"
     ]
    },
    {
     "name": "stdout",
     "output_type": "stream",
     "text": [
      "1\n"
     ]
    }
   ],
   "source": [
    "l, h = map(int, input().split())\n",
    "N = int(input())\n",
    "for _ in range(N):\n",
    "    t = int(input())\n",
    "    if t < l:\n",
    "        print(l-t)\n",
    "    elif l <= t <= h:\n",
    "        print(0)\n",
    "    else:\n",
    "        print(-1)"
   ]
  },
  {
   "cell_type": "markdown",
   "metadata": {},
   "source": [
    "# C問題"
   ]
  },
  {
   "cell_type": "code",
   "execution_count": 19,
   "metadata": {},
   "outputs": [
    {
     "name": "stdin",
     "output_type": "stream",
     "text": [
      " 8\n",
      " -1 10 -1 2 -1 10 -1 0\n"
     ]
    },
    {
     "name": "stdout",
     "output_type": "stream",
     "text": [
      "-1\n"
     ]
    }
   ],
   "source": [
    "N = int(input())\n",
    "A = list(map(int, input().split()))\n",
    "\n",
    "ans = -51*N\n",
    "for i in range(N):\n",
    "    tot = -51*N\n",
    "    tmp_ans = -51*N\n",
    "    for j in range(N):\n",
    "        if i == j:\n",
    "            continue\n",
    "#         print([i,j])\n",
    "        a, b = min(i,j), max(i,j)\n",
    "        s = A[a:b+1]\n",
    "#         print(s)\n",
    "        tk = sum(s[::2])\n",
    "        ao = sum(s[1::2])\n",
    "        if tot < ao:\n",
    "            tot = ao\n",
    "            tmp_ans = tk\n",
    "    ans = max(ans, tmp_ans)\n",
    "\n",
    "print(ans)"
   ]
  }
 ],
 "metadata": {
  "kernelspec": {
   "display_name": "Python 3",
   "language": "python",
   "name": "python3"
  },
  "language_info": {
   "codemirror_mode": {
    "name": "ipython",
    "version": 3
   },
   "file_extension": ".py",
   "mimetype": "text/x-python",
   "name": "python",
   "nbconvert_exporter": "python",
   "pygments_lexer": "ipython3",
   "version": "3.6.5"
  },
  "toc": {
   "base_numbering": 1,
   "nav_menu": {},
   "number_sections": true,
   "sideBar": true,
   "skip_h1_title": false,
   "title_cell": "Table of Contents",
   "title_sidebar": "Contents",
   "toc_cell": false,
   "toc_position": {},
   "toc_section_display": true,
   "toc_window_display": false
  }
 },
 "nbformat": 4,
 "nbformat_minor": 4
}

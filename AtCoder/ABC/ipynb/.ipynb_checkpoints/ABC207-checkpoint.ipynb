{
 "cells": [
  {
   "cell_type": "markdown",
   "metadata": {},
   "source": [
    "# A問題"
   ]
  },
  {
   "cell_type": "code",
   "execution_count": 2,
   "metadata": {},
   "outputs": [
    {
     "name": "stdout",
     "output_type": "stream",
     "text": [
      "9\n"
     ]
    }
   ],
   "source": [
    "a,b,c = map(int, input().split())\n",
    "ans = max(a+b,b+c,c+a)\n",
    "print(ans)"
   ]
  },
  {
   "cell_type": "markdown",
   "metadata": {},
   "source": [
    "# B問題"
   ]
  },
  {
   "cell_type": "code",
   "execution_count": 7,
   "metadata": {},
   "outputs": [
    {
     "name": "stdout",
     "output_type": "stream",
     "text": [
      "-1\n"
     ]
    }
   ],
   "source": [
    "import math\n",
    "\n",
    "a,b,c,d = map(int, input().split())\n",
    "if d*c-b <= 0:\n",
    "    print(-1)\n",
    "else:\n",
    "    ans = math.ceil(a/(d*c-b))\n",
    "    print(ans)"
   ]
  },
  {
   "cell_type": "markdown",
   "metadata": {},
   "source": [
    "# C問題"
   ]
  },
  {
   "cell_type": "code",
   "execution_count": 11,
   "metadata": {},
   "outputs": [
    {
     "name": "stdout",
     "output_type": "stream",
     "text": [
      "102\n"
     ]
    }
   ],
   "source": [
    "N = int(input())\n",
    "lst = []\n",
    "for i in range(N):\n",
    "    t,l,r = map(int, input().split())\n",
    "    if t == 1:\n",
    "        tmp = [l,r]\n",
    "    elif t == 2:\n",
    "        tmp = [l, r-0.5]\n",
    "    elif t == 3:\n",
    "        tmp = [l+0.5, r]\n",
    "    elif t == 4:\n",
    "        tmp = [l+0.5, r-0.5]\n",
    "    lst.append(tmp)\n",
    "\n",
    "lst = sorted(lst, key=lambda x: x[0])\n",
    "\n",
    "ans = 0\n",
    "for i in range(N-1):\n",
    "    for j in range(i+1,N):\n",
    "        l1,r1 = lst[i]\n",
    "        l2,r2 = lst[j]\n",
    "        if r1 >= l2:\n",
    "            ans += 1\n",
    "\n",
    "print(ans)"
   ]
  }
 ],
 "metadata": {
  "kernelspec": {
   "display_name": "Python 3",
   "language": "python",
   "name": "python3"
  },
  "language_info": {
   "codemirror_mode": {
    "name": "ipython",
    "version": 3
   },
   "file_extension": ".py",
   "mimetype": "text/x-python",
   "name": "python",
   "nbconvert_exporter": "python",
   "pygments_lexer": "ipython3",
   "version": "3.6.5"
  },
  "toc": {
   "base_numbering": 1,
   "nav_menu": {},
   "number_sections": true,
   "sideBar": true,
   "skip_h1_title": false,
   "title_cell": "Table of Contents",
   "title_sidebar": "Contents",
   "toc_cell": false,
   "toc_position": {},
   "toc_section_display": true,
   "toc_window_display": false
  }
 },
 "nbformat": 4,
 "nbformat_minor": 4
}

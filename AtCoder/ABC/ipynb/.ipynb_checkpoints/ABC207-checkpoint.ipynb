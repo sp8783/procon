{
 "cells": [
  {
   "cell_type": "markdown",
   "metadata": {},
   "source": [
    "# A問題"
   ]
  },
  {
   "cell_type": "code",
   "execution_count": 2,
   "metadata": {},
   "outputs": [
    {
     "name": "stdout",
     "output_type": "stream",
     "text": [
      "9\n"
     ]
    }
   ],
   "source": [
    "a,b,c = map(int, input().split())\n",
    "ans = max(a+b,b+c,c+a)\n",
    "print(ans)"
   ]
  },
  {
   "cell_type": "markdown",
   "metadata": {},
   "source": [
    "# B問題"
   ]
  },
  {
   "cell_type": "code",
   "execution_count": 7,
   "metadata": {},
   "outputs": [
    {
     "name": "stdout",
     "output_type": "stream",
     "text": [
      "-1\n"
     ]
    }
   ],
   "source": [
    "import math\n",
    "\n",
    "a,b,c,d = map(int, input().split())\n",
    "if d*c-b <= 0:\n",
    "    print(-1)\n",
    "else:\n",
    "    ans = math.ceil(a/(d*c-b))\n",
    "    print(ans)"
   ]
  },
  {
   "cell_type": "markdown",
   "metadata": {},
   "source": [
    "# C問題"
   ]
  },
  {
   "cell_type": "code",
   "execution_count": 11,
   "metadata": {},
   "outputs": [
    {
     "name": "stdout",
     "output_type": "stream",
     "text": [
      "102\n"
     ]
    }
   ],
   "source": [
    "N = int(input())\n",
    "lst = []\n",
    "for i in range(N):\n",
    "    t,l,r = map(int, input().split())\n",
    "    if t == 1:\n",
    "        tmp = [l,r]\n",
    "    elif t == 2:\n",
    "        tmp = [l, r-0.5]\n",
    "    elif t == 3:\n",
    "        tmp = [l+0.5, r]\n",
    "    elif t == 4:\n",
    "        tmp = [l+0.5, r-0.5]\n",
    "    lst.append(tmp)\n",
    "\n",
    "lst = sorted(lst, key=lambda x: x[0])\n",
    "\n",
    "ans = 0\n",
    "for i in range(N-1):\n",
    "    for j in range(i+1,N):\n",
    "        l1,r1 = lst[i]\n",
    "        l2,r2 = lst[j]\n",
    "        if r1 >= l2:\n",
    "            ans += 1\n",
    "\n",
    "print(ans)"
   ]
  },
  {
   "cell_type": "markdown",
   "metadata": {},
   "source": [
    "# D問題"
   ]
  },
  {
   "cell_type": "code",
   "execution_count": 3,
   "metadata": {},
   "outputs": [
    {
     "name": "stdout",
     "output_type": "stream",
     "text": [
      "Yes\n"
     ]
    }
   ],
   "source": [
    "import math\n",
    "\n",
    "\n",
    "def rot(xy, arg, deg=True): # arg:回転角（度数がデフォルト）, deg:入力が度数であるかのフラグ（Trueがデフォルト、argがラジアンの場合はFalse）\n",
    "    x, y = xy\n",
    "    if deg:\n",
    "        org = math.pi * arg / 3600 * 2\n",
    "    xx = x * math.cos(org) - y * math.sin(org)\n",
    "    yy = x * math.sin(org) + y * math.cos(org)\n",
    "    return [xx, yy]\n",
    "\n",
    "\n",
    "def gacchi(AB, CD):\n",
    "    return all(ga(a,c) and ga(b, d) for (a,b), (c,d) in zip(AB, CD))\n",
    "\n",
    "\n",
    "def ga(i, j):\n",
    "    return abs(i-j) <= 0.1\n",
    "\n",
    "\n",
    "N = int(input())\n",
    "AB = [list(map(int, input().split())) for _ in range(N)]\n",
    "CD = [list(map(int, input().split())) for _ in range(N)]\n",
    "\n",
    "\n",
    "Aj = sum(a for a, _ in AB) / N\n",
    "Bj = sum(b for _, b in AB) / N\n",
    "Cj = sum(a for a, _ in CD) / N\n",
    "Dj = sum(b for _, b in CD) / N\n",
    "\n",
    "\n",
    "AB = [[a - Aj, b - Bj] for a, b in AB]\n",
    "CD = [[a - Cj, b - Dj] for a, b in CD]\n",
    "CD.sort(key=lambda x: (x[0], x[1]))\n",
    "\n",
    "flag = False\n",
    "for i in range(360 * 10):\n",
    "    AAB = [rot([a, b], i) for a, b in AB]\n",
    "    AAB.sort(key=lambda x: (x[0], x[1]))\n",
    "    if gacchi(AAB, CD):\n",
    "        flag = True\n",
    "        break\n",
    "\n",
    "if flag:\n",
    "    print(\"Yes\")\n",
    "else:\n",
    "    print(\"No\")"
   ]
  }
 ],
 "metadata": {
  "kernelspec": {
   "display_name": "Python 3",
   "language": "python",
   "name": "python3"
  },
  "language_info": {
   "codemirror_mode": {
    "name": "ipython",
    "version": 3
   },
   "file_extension": ".py",
   "mimetype": "text/x-python",
   "name": "python",
   "nbconvert_exporter": "python",
   "pygments_lexer": "ipython3",
   "version": "3.6.5"
  },
  "toc": {
   "base_numbering": 1,
   "nav_menu": {},
   "number_sections": true,
   "sideBar": true,
   "skip_h1_title": false,
   "title_cell": "Table of Contents",
   "title_sidebar": "Contents",
   "toc_cell": false,
   "toc_position": {},
   "toc_section_display": true,
   "toc_window_display": false
  }
 },
 "nbformat": 4,
 "nbformat_minor": 4
}

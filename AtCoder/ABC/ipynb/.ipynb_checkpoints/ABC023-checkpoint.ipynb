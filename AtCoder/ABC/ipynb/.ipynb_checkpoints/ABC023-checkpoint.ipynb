{
 "cells": [
  {
   "cell_type": "markdown",
   "metadata": {},
   "source": [
    "# A問題"
   ]
  },
  {
   "cell_type": "code",
   "execution_count": 3,
   "metadata": {},
   "outputs": [
    {
     "name": "stdin",
     "output_type": "stream",
     "text": [
      " 23\n"
     ]
    },
    {
     "name": "stdout",
     "output_type": "stream",
     "text": [
      "5\n"
     ]
    }
   ],
   "source": [
    "X = list(map(int, input()))\n",
    "print(sum(X))"
   ]
  },
  {
   "cell_type": "markdown",
   "metadata": {},
   "source": [
    "# B問題"
   ]
  },
  {
   "cell_type": "code",
   "execution_count": 7,
   "metadata": {},
   "outputs": [
    {
     "name": "stdin",
     "output_type": "stream",
     "text": [
      " 19\n",
      " bcabcabcabcabcabcab\n"
     ]
    },
    {
     "name": "stdout",
     "output_type": "stream",
     "text": [
      "9\n"
     ]
    }
   ],
   "source": [
    "N = int(input())\n",
    "S = input()\n",
    "\n",
    "lst = [\"b\"]\n",
    "s = lst[0]\n",
    "for i in range(1,51):\n",
    "    if i%3 == 1:\n",
    "        s = \"a\" + s + \"c\"\n",
    "    elif i%3 == 2:\n",
    "        s = \"c\" + s + \"a\"\n",
    "    elif i%3 == 0:\n",
    "        s = \"b\" + s + \"b\"\n",
    "    lst.append(s)\n",
    "    \n",
    "if S in lst:\n",
    "    ans = lst.index(S)\n",
    "else:\n",
    "    ans = -1\n",
    "\n",
    "print(ans)"
   ]
  },
  {
   "cell_type": "markdown",
   "metadata": {},
   "source": [
    "# C問題"
   ]
  },
  {
   "cell_type": "code",
   "execution_count": 9,
   "metadata": {},
   "outputs": [
    {
     "name": "stdin",
     "output_type": "stream",
     "text": [
      " 5 5 2\n",
      " 5\n",
      " 1 1\n",
      " 2 2\n",
      " 3 3\n",
      " 4 4\n",
      " 5 5\n"
     ]
    },
    {
     "name": "stdout",
     "output_type": "stream",
     "text": [
      "20\n"
     ]
    }
   ],
   "source": [
    "from collections import Counter\n",
    "\n",
    "R, C, K = map(int, input().split())\n",
    "N = int(input())\n",
    "lst = []\n",
    "R_lst = [0]*R\n",
    "C_lst = [0]*C\n",
    "for i in range(N):\n",
    "    r, c = map(lambda x: int(x) - 1, input().split())\n",
    "    lst.append([r,c])\n",
    "    R_lst[r] += 1\n",
    "    C_lst[c] += 1\n",
    "\n",
    "R_cnt = Counter(R_lst)\n",
    "C_cnt = Counter(C_lst)\n",
    "\n",
    "ans = 0\n",
    "for i in range(K+1):\n",
    "    if i in R_cnt.keys() and K-i in C_cnt.keys():\n",
    "        ans += R_cnt[i] * C_cnt[K-i]\n",
    "\n",
    "for r, c in lst:\n",
    "    if R_lst[r] + C_lst[c] == K:\n",
    "        ans -= 1\n",
    "    if R_lst[r] + C_lst[c] == K + 1:\n",
    "        ans += 1\n",
    "\n",
    "print(ans)"
   ]
  },
  {
   "cell_type": "markdown",
   "metadata": {},
   "source": [
    "# D問題"
   ]
  },
  {
   "cell_type": "code",
   "execution_count": 11,
   "metadata": {},
   "outputs": [
    {
     "name": "stdin",
     "output_type": "stream",
     "text": [
      " 4\n",
      " 5 6\n",
      " 12 4\n",
      " 14 7\n",
      " 21 2\n"
     ]
    },
    {
     "name": "stdout",
     "output_type": "stream",
     "text": [
      "23\n"
     ]
    }
   ],
   "source": [
    "N = int(input())\n",
    "HS = [list(map(int, input().split())) for _ in range(N)]\n",
    "\n",
    "def check(v):\n",
    "    # いつまでに風船を割ればよいかを調べる\n",
    "    data = [0]*N\n",
    "    for h, s in HS:\n",
    "        if v < h:\n",
    "            return False\n",
    "        t = (v - h) // s\n",
    "        if t < N:\n",
    "            data[t] += 1\n",
    "    x = 0\n",
    "    # 時間iまでにi個の風船を割れるか調べる\n",
    "    for i in range(N):\n",
    "        if x > i:\n",
    "            return False\n",
    "        x += data[i]\n",
    "    return True\n",
    "\n",
    "# 二分探索で解を調べる\n",
    "left = 0\n",
    "right = 2*10**14\n",
    "while left <= right:\n",
    "    mid = (left + right) // 2\n",
    "    if check(mid):\n",
    "        right = mid - 1\n",
    "    else:\n",
    "        left = mid + 1\n",
    "\n",
    "ans = left\n",
    "print(ans)"
   ]
  }
 ],
 "metadata": {
  "kernelspec": {
   "display_name": "Python 3",
   "language": "python",
   "name": "python3"
  },
  "language_info": {
   "codemirror_mode": {
    "name": "ipython",
    "version": 3
   },
   "file_extension": ".py",
   "mimetype": "text/x-python",
   "name": "python",
   "nbconvert_exporter": "python",
   "pygments_lexer": "ipython3",
   "version": "3.6.5"
  },
  "toc": {
   "base_numbering": 1,
   "nav_menu": {},
   "number_sections": true,
   "sideBar": true,
   "skip_h1_title": false,
   "title_cell": "Table of Contents",
   "title_sidebar": "Contents",
   "toc_cell": false,
   "toc_position": {},
   "toc_section_display": true,
   "toc_window_display": false
  }
 },
 "nbformat": 4,
 "nbformat_minor": 4
}

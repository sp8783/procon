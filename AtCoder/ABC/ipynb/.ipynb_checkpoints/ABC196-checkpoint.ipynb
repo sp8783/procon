{
 "cells": [
  {
   "cell_type": "markdown",
   "metadata": {},
   "source": [
    "# A問題"
   ]
  },
  {
   "cell_type": "code",
   "execution_count": 3,
   "metadata": {},
   "outputs": [
    {
     "name": "stdout",
     "output_type": "stream",
     "text": [
      "No\n"
     ]
    }
   ],
   "source": [
    "a,b = map(int ,input().split())\n",
    "c,d = map(int ,input().split())\n",
    "\n",
    "ans = b-c\n",
    "\n",
    "print(ans)"
   ]
  },
  {
   "cell_type": "markdown",
   "metadata": {},
   "source": [
    "# B問題"
   ]
  },
  {
   "cell_type": "code",
   "execution_count": 12,
   "metadata": {},
   "outputs": [
    {
     "name": "stdout",
     "output_type": "stream",
     "text": [
      "84939825309432908832902189\n"
     ]
    }
   ],
   "source": [
    "X = input()\n",
    "\n",
    "ans = X\n",
    "for i in range(min(len(X),200)):\n",
    "    if X[-i] == \".\":\n",
    "        ans = X[:-i]\n",
    "        break\n",
    "print(ans)"
   ]
  },
  {
   "cell_type": "markdown",
   "metadata": {},
   "source": [
    "# C問題"
   ]
  },
  {
   "cell_type": "code",
   "execution_count": 17,
   "metadata": {},
   "outputs": [
    {
     "name": "stdout",
     "output_type": "stream",
     "text": [
      "999\n"
     ]
    }
   ],
   "source": [
    "N = int(input())\n",
    "\n",
    "ans = 0\n",
    "for i in range(1,10**6):\n",
    "    x = int(str(i)+str(i))\n",
    "    if x <= N:\n",
    "        ans += 1\n",
    "    else:\n",
    "        break\n",
    "print(ans)"
   ]
  },
  {
   "cell_type": "markdown",
   "metadata": {},
   "source": [
    "# E問題"
   ]
  },
  {
   "cell_type": "code",
   "execution_count": 42,
   "metadata": {},
   "outputs": [
    {
     "name": "stdout",
     "output_type": "stream",
     "text": [
      "0\n",
      "0\n",
      "5\n",
      "10\n",
      "10\n"
     ]
    }
   ],
   "source": [
    "N = int(input())\n",
    "l = (-1)*(10**10)\n",
    "r = 10**10\n",
    "L = (-1)*(10**10)\n",
    "R = 10**10\n",
    "base = 0\n",
    "for i in range(N):\n",
    "    a, t = map(int, input().split())\n",
    "    if t == 1:\n",
    "        L += a\n",
    "        R += a\n",
    "    if t == 2:\n",
    "        l = l + (a - min(L,a))\n",
    "        L = max(L, a)\n",
    "        R = max(R, a)\n",
    "    if t == 3:\n",
    "        r = r - (max(R,a) - a)\n",
    "        L = min(L, a)\n",
    "        R = min(R, a)\n",
    "\n",
    "Q = int(input())\n",
    "X = list(map(int, input().split()))\n",
    "for x in X:\n",
    "    if L == R:\n",
    "        print(L)\n",
    "    else:\n",
    "        if x <= l:\n",
    "            print(L)\n",
    "        elif l < x < r:\n",
    "            print(L + (x-l))\n",
    "        else:\n",
    "            print(R)"
   ]
  }
 ],
 "metadata": {
  "kernelspec": {
   "display_name": "Python 3",
   "language": "python",
   "name": "python3"
  },
  "language_info": {
   "codemirror_mode": {
    "name": "ipython",
    "version": 3
   },
   "file_extension": ".py",
   "mimetype": "text/x-python",
   "name": "python",
   "nbconvert_exporter": "python",
   "pygments_lexer": "ipython3",
   "version": "3.6.5"
  },
  "toc": {
   "base_numbering": 1,
   "nav_menu": {},
   "number_sections": true,
   "sideBar": true,
   "skip_h1_title": false,
   "title_cell": "Table of Contents",
   "title_sidebar": "Contents",
   "toc_cell": false,
   "toc_position": {},
   "toc_section_display": true,
   "toc_window_display": false
  }
 },
 "nbformat": 4,
 "nbformat_minor": 4
}

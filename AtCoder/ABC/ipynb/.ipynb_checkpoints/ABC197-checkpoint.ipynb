{
 "cells": [
  {
   "cell_type": "markdown",
   "metadata": {},
   "source": [
    "# A問題"
   ]
  },
  {
   "cell_type": "code",
   "execution_count": 2,
   "metadata": {},
   "outputs": [
    {
     "name": "stdin",
     "output_type": "stream",
     "text": [
      " abc\n"
     ]
    },
    {
     "name": "stdout",
     "output_type": "stream",
     "text": [
      "bca\n"
     ]
    }
   ],
   "source": [
    "S = input()\n",
    "ans = S[1:]+S[0]\n",
    "print(ans)"
   ]
  },
  {
   "cell_type": "markdown",
   "metadata": {},
   "source": [
    "# B問題"
   ]
  },
  {
   "cell_type": "code",
   "execution_count": 15,
   "metadata": {},
   "outputs": [
    {
     "name": "stdout",
     "output_type": "stream",
     "text": [
      "3\n"
     ]
    }
   ],
   "source": [
    "H,W,X,Y = map(int, input().split())\n",
    "Y -= 1\n",
    "X -= 1\n",
    "maze = [list(input()) for i in range(H)]\n",
    "\n",
    "ans = 1\n",
    "ny = Y-1\n",
    "while ny >= 0:\n",
    "    if maze[X][ny] == \".\":\n",
    "        ans += 1\n",
    "        ny -= 1\n",
    "    else:\n",
    "        break\n",
    "ny = Y+1\n",
    "while ny <= W-1:\n",
    "    if maze[X][ny] == \".\":\n",
    "        ans += 1\n",
    "        ny += 1\n",
    "    else:\n",
    "        break\n",
    "nx = X-1\n",
    "while nx >= 0:\n",
    "    if maze[nx][Y] == \".\":\n",
    "        ans += 1\n",
    "        nx -= 1\n",
    "    else:\n",
    "        break\n",
    "nx = X+1\n",
    "while nx <= H-1:\n",
    "    if maze[nx][Y] == \".\":\n",
    "        ans += 1\n",
    "        nx += 1\n",
    "    else:\n",
    "        break\n",
    "\n",
    "print(ans)"
   ]
  },
  {
   "cell_type": "markdown",
   "metadata": {},
   "source": [
    "# C問題"
   ]
  },
  {
   "cell_type": "code",
   "execution_count": 8,
   "metadata": {},
   "outputs": [
    {
     "name": "stdin",
     "output_type": "stream",
     "text": [
      " 4\n",
      " 1 3 3 1\n"
     ]
    },
    {
     "name": "stdout",
     "output_type": "stream",
     "text": [
      "0\n"
     ]
    }
   ],
   "source": [
    "N = int(input())\n",
    "A = list(map(int, input().split()))\n",
    "\n",
    "ans = 2**40\n",
    "for i in range(2**(N-1)):\n",
    "    tot = 0\n",
    "    tmp = A[0]\n",
    "    for j in range(N-1):\n",
    "        if (i >> j) & 1:\n",
    "            tmp = tmp | A[j+1]\n",
    "        else:\n",
    "            tot = tot ^ tmp\n",
    "            tmp = A[j+1]\n",
    "    tot = tot ^ tmp\n",
    "    ans = min(ans, tot)\n",
    "    \n",
    "print(ans)"
   ]
  },
  {
   "cell_type": "markdown",
   "metadata": {},
   "source": [
    "# D問題"
   ]
  },
  {
   "cell_type": "code",
   "execution_count": 34,
   "metadata": {},
   "outputs": [
    {
     "name": "stdout",
     "output_type": "stream",
     "text": [
      "5.933012701892219 2.383974596215561\n"
     ]
    }
   ],
   "source": [
    "import numpy as np\n",
    "import math\n",
    "\n",
    "N = int(input())\n",
    "t0 = np.array(list(map(int, input().split())))\n",
    "tn = np.array(list(map(int, input().split())))\n",
    " \n",
    "def R(rad):\n",
    "    \"\"\"\n",
    "    指定したradの回転行列を返す\n",
    "    \"\"\"\n",
    "    rot = np.array([[np.cos(rad), -np.sin(rad)],\n",
    "                    [np.sin(rad), np.cos(rad)]])\n",
    "    return rot\n",
    "\n",
    "pi = math.pi\n",
    "ans = (np.sin(pi/N)/np.sin(pi/2)) * np.dot(R(pi/N-pi/2), tn - t0) + t0\n",
    "print(*ans)"
   ]
  },
  {
   "cell_type": "markdown",
   "metadata": {},
   "source": [
    "# E問題"
   ]
  },
  {
   "cell_type": "code",
   "execution_count": null,
   "metadata": {},
   "outputs": [],
   "source": [
    "N = int(input())\n",
    "color = [[float('inf'), -float('inf')] for _ in range(N+1)]\n",
    "color[0] = [0, 0]\n",
    "for _ in range(N):\n",
    "    X, C = map(int, input().split())\n",
    "    if X < color[C][0]:\n",
    "        color[C][0] = X\n",
    "    if color[C][1] < X:\n",
    "        color[C][1] = X\n",
    "\n",
    "dp = [[0, 0] for _ in range(N+1)]\n",
    "for i in range(N):\n",
    "    dp[i+1][0] = dp[i][0]\n",
    "    dp[i+1][1] = dp[i][1]\n",
    "    if color[i] != [float('inf'), -float('inf')]:\n",
    "        l1, r1 = color[i]\n",
    "    if color[i+1] != [float('inf'), -float('inf')]:\n",
    "        l2, r2 = color[i+1]\n",
    "        dp[i+1][0] = min(dp[i][0]+abs(l1-r2)+abs(l2-r2), dp[i][1]+abs(r1-r2)+abs(l2-r2))\n",
    "        dp[i+1][1] = min(dp[i][0]+abs(l1-l2)+abs(l2-r2), dp[i][1]+abs(r1-l2)+abs(l2-r2))\n",
    "\n",
    "print(min(dp[N][0]+abs(l2), dp[N][1]+abs(r2)))"
   ]
  },
  {
   "cell_type": "code",
   "execution_count": null,
   "metadata": {},
   "outputs": [],
   "source": [
    "N = int(input())\n",
    "lst = [[0, 0]] + [[10**9, -10**9] for _ in range(N)]\n",
    "for i in range(N):\n",
    "    x, c = map(int, input().split())\n",
    "    lst[c][0] = min(lst[c][0], x)\n",
    "    lst[c][1] = max(lst[c][1], x)\n",
    "    \n",
    "inf = float(\"inf\")\n",
    "dp = [[inf, inf] for _ in range(N+1)]\n",
    "dp[0] = [0,0]\n",
    "\n",
    "for i in range(N):\n",
    "    if lst[i][0] > lst[i][1]:\n",
    "        dp[i+1] = dp[i][:]\n",
    "    else:\n",
    "        # lst[i+1][0]:色i+1で最小値の座標で回収を終了する場合の更新\n",
    "        if lst[i][0] <=  lst[i+1][1]:\n",
    "            dp[i+1][0] = min(dp[i][0] + 2*lst[i+1][1] - lst[i][0], dp[i+1][0]"
   ]
  }
 ],
 "metadata": {
  "kernelspec": {
   "display_name": "Python 3",
   "language": "python",
   "name": "python3"
  },
  "language_info": {
   "codemirror_mode": {
    "name": "ipython",
    "version": 3
   },
   "file_extension": ".py",
   "mimetype": "text/x-python",
   "name": "python",
   "nbconvert_exporter": "python",
   "pygments_lexer": "ipython3",
   "version": "3.6.5"
  },
  "toc": {
   "base_numbering": 1,
   "nav_menu": {},
   "number_sections": true,
   "sideBar": true,
   "skip_h1_title": false,
   "title_cell": "Table of Contents",
   "title_sidebar": "Contents",
   "toc_cell": false,
   "toc_position": {},
   "toc_section_display": true,
   "toc_window_display": false
  }
 },
 "nbformat": 4,
 "nbformat_minor": 4
}

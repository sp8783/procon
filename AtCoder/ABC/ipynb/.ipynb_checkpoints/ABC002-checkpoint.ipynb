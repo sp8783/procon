{
 "cells": [
  {
   "cell_type": "markdown",
   "metadata": {},
   "source": [
    "# A問題"
   ]
  },
  {
   "cell_type": "code",
   "execution_count": null,
   "metadata": {},
   "outputs": [],
   "source": [
    "X, Y = map(int, input().split())\n",
    "\n",
    "print(max(X,Y))"
   ]
  },
  {
   "cell_type": "markdown",
   "metadata": {},
   "source": [
    "# B問題"
   ]
  },
  {
   "cell_type": "code",
   "execution_count": 1,
   "metadata": {},
   "outputs": [
    {
     "name": "stdin",
     "output_type": "stream",
     "text": [
      " chokudai\n"
     ]
    },
    {
     "name": "stdout",
     "output_type": "stream",
     "text": [
      "chkd\n"
     ]
    }
   ],
   "source": [
    "S = list(input())\n",
    "\n",
    "ans = []\n",
    "for s in S:\n",
    "    if s in [\"a\",\"i\",\"u\",\"e\",\"o\"]:\n",
    "        continue\n",
    "    else:\n",
    "        ans.append(s)\n",
    "\n",
    "print(''.join(ans))"
   ]
  },
  {
   "cell_type": "markdown",
   "metadata": {},
   "source": [
    "# C問題"
   ]
  },
  {
   "cell_type": "code",
   "execution_count": 2,
   "metadata": {},
   "outputs": [
    {
     "name": "stdin",
     "output_type": "stream",
     "text": [
      " 1 0 3 0 2 5\n"
     ]
    },
    {
     "name": "stdout",
     "output_type": "stream",
     "text": [
      "5.0\n"
     ]
    }
   ],
   "source": [
    "xa,ya,xb,yb,xc,yc = map(int, input().split())\n",
    "\n",
    "x1 = xb - xa\n",
    "y1 = yb - ya\n",
    "x2 = xc - xa\n",
    "y2 = yc - ya\n",
    "\n",
    "ans = abs(x1*y2 - y1*x2)/2\n",
    "print(ans)"
   ]
  },
  {
   "cell_type": "markdown",
   "metadata": {},
   "source": [
    "# D問題"
   ]
  },
  {
   "cell_type": "code",
   "execution_count": 13,
   "metadata": {},
   "outputs": [
    {
     "name": "stdin",
     "output_type": "stream",
     "text": [
      " 7 9\n",
      " 1 2\n",
      " 1 3\n",
      " 2 3\n",
      " 4 5\n",
      " 4 6\n",
      " 4 7\n",
      " 5 6\n",
      " 5 7\n",
      " 6 7\n"
     ]
    },
    {
     "name": "stdout",
     "output_type": "stream",
     "text": [
      "4\n"
     ]
    }
   ],
   "source": [
    "import itertools\n",
    "\n",
    "N, M = map(int, input().split())\n",
    "XY = [tuple(map(int, input().split())) for _ in range(M)]\n",
    "XY = set(XY)\n",
    "ans = 1\n",
    "\n",
    "for i in range(2**N):\n",
    "    S = []\n",
    "    for j in range(N):\n",
    "        if (i >> j) & 1:\n",
    "            S.append(j+1)\n",
    "    S_comb = itertools.combinations(S, 2)\n",
    "    flag = True\n",
    "    for pair in S_comb:\n",
    "        if pair in XY:\n",
    "            continue\n",
    "        else:\n",
    "            flag = False\n",
    "            break\n",
    "    if flag:\n",
    "        ans = max(len(S),ans)            \n",
    "\n",
    "print(ans)"
   ]
  }
 ],
 "metadata": {
  "kernelspec": {
   "display_name": "Python 3",
   "language": "python",
   "name": "python3"
  },
  "language_info": {
   "codemirror_mode": {
    "name": "ipython",
    "version": 3
   },
   "file_extension": ".py",
   "mimetype": "text/x-python",
   "name": "python",
   "nbconvert_exporter": "python",
   "pygments_lexer": "ipython3",
   "version": "3.6.5"
  },
  "toc": {
   "base_numbering": 1,
   "nav_menu": {},
   "number_sections": true,
   "sideBar": true,
   "skip_h1_title": false,
   "title_cell": "Table of Contents",
   "title_sidebar": "Contents",
   "toc_cell": false,
   "toc_position": {},
   "toc_section_display": true,
   "toc_window_display": false
  }
 },
 "nbformat": 4,
 "nbformat_minor": 4
}

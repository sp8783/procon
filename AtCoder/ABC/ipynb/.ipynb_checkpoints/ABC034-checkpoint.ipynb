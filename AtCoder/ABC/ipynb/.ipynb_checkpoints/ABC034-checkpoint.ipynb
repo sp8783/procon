{
 "cells": [
  {
   "cell_type": "markdown",
   "metadata": {},
   "source": [
    "# A問題"
   ]
  },
  {
   "cell_type": "code",
   "execution_count": 3,
   "metadata": {},
   "outputs": [
    {
     "name": "stdin",
     "output_type": "stream",
     "text": [
      " 23\n"
     ]
    },
    {
     "name": "stdout",
     "output_type": "stream",
     "text": [
      "5\n"
     ]
    }
   ],
   "source": [
    "x, y = map(int, input().split())\n",
    "\n",
    "if x < y:\n",
    "    ans = \"Better\"\n",
    "else:\n",
    "    ans = \"Worse\"\n",
    "\n",
    "print(ans)"
   ]
  },
  {
   "cell_type": "markdown",
   "metadata": {},
   "source": [
    "# B問題"
   ]
  },
  {
   "cell_type": "code",
   "execution_count": 3,
   "metadata": {},
   "outputs": [
    {
     "name": "stdin",
     "output_type": "stream",
     "text": [
      " 123456789\n"
     ]
    },
    {
     "name": "stdout",
     "output_type": "stream",
     "text": [
      "123456790\n"
     ]
    }
   ],
   "source": [
    "n = int(input())\n",
    "\n",
    "if n%2 == 0:\n",
    "    ans = n-1\n",
    "else:\n",
    "    ans = n+1\n",
    "\n",
    "print(ans)"
   ]
  },
  {
   "cell_type": "markdown",
   "metadata": {},
   "source": [
    "# C問題"
   ]
  },
  {
   "cell_type": "code",
   "execution_count": 1,
   "metadata": {},
   "outputs": [
    {
     "name": "stdin",
     "output_type": "stream",
     "text": [
      " 123 456\n"
     ]
    },
    {
     "name": "stdout",
     "output_type": "stream",
     "text": [
      "210368064\n"
     ]
    }
   ],
   "source": [
    "W, H = map(int, input().split())\n",
    "\n",
    "def inv(n, MOD=10**9+7):  # MODを法とした逆元\n",
    "    return pow(n, MOD-2, MOD)\n",
    "\n",
    "def comb(n, r, MOD=10**9+7, mx=10**6): # mx:求めておきたい階乗の最大値\n",
    "    fact = [1] * (mx+1) # 階乗を格納するリスト\n",
    "    for i in range(mx):\n",
    "        fact[i+1] = fact[i] * (i+1) % MOD # 階乗を計算\n",
    "    return (fact[n] * inv(fact[n-r]) * inv(fact[r])) % MOD\n",
    "\n",
    "ans = comb(W+H-2,W-1)\n",
    "print(ans)"
   ]
  },
  {
   "cell_type": "markdown",
   "metadata": {},
   "source": [
    "# D問題"
   ]
  },
  {
   "cell_type": "code",
   "execution_count": 7,
   "metadata": {},
   "outputs": [
    {
     "name": "stdout",
     "output_type": "stream",
     "text": [
      "25.0\n"
     ]
    }
   ],
   "source": [
    "N, K = map(int, input().split())\n",
    "lst = [list(map(int, input().split())) for i in range(N)]\n",
    "\n",
    "def check(x):\n",
    "    tmp = sorted([(p-x)*w for w, p in lst], reverse=True)[:K]\n",
    "    return sum(tmp) >= 0\n",
    "\n",
    "low = 0 \n",
    "high = 100\n",
    "for _ in range(100):\n",
    "    mid = (low + high) / 2\n",
    "    if check(mid):\n",
    "        low = mid\n",
    "    else:\n",
    "        high = mid\n",
    "\n",
    "print(low)"
   ]
  }
 ],
 "metadata": {
  "kernelspec": {
   "display_name": "Python 3",
   "language": "python",
   "name": "python3"
  },
  "language_info": {
   "codemirror_mode": {
    "name": "ipython",
    "version": 3
   },
   "file_extension": ".py",
   "mimetype": "text/x-python",
   "name": "python",
   "nbconvert_exporter": "python",
   "pygments_lexer": "ipython3",
   "version": "3.6.5"
  },
  "toc": {
   "base_numbering": 1,
   "nav_menu": {},
   "number_sections": true,
   "sideBar": true,
   "skip_h1_title": false,
   "title_cell": "Table of Contents",
   "title_sidebar": "Contents",
   "toc_cell": false,
   "toc_position": {},
   "toc_section_display": true,
   "toc_window_display": false
  }
 },
 "nbformat": 4,
 "nbformat_minor": 4
}

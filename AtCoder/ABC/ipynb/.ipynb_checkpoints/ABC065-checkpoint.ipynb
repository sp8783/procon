{
 "cells": [
  {
   "cell_type": "markdown",
   "metadata": {},
   "source": [
    "# A問題"
   ]
  },
  {
   "cell_type": "code",
   "execution_count": 5,
   "metadata": {},
   "outputs": [
    {
     "name": "stdout",
     "output_type": "stream",
     "text": [
      "dangerous\n"
     ]
    }
   ],
   "source": [
    "X, A, B = map(int, input().split())\n",
    "\n",
    "if A - B >= 0:\n",
    "    ans = \"delicious\"\n",
    "elif X >= B - A:\n",
    "    ans = \"safe\"\n",
    "else:\n",
    "    ans = \"dangerous\"\n",
    "    \n",
    "print(ans)"
   ]
  },
  {
   "cell_type": "markdown",
   "metadata": {},
   "source": [
    "# B問題"
   ]
  },
  {
   "cell_type": "code",
   "execution_count": 8,
   "metadata": {},
   "outputs": [
    {
     "name": "stdout",
     "output_type": "stream",
     "text": [
      "3\n"
     ]
    }
   ],
   "source": [
    "N = int(input())\n",
    "\n",
    "lst = [int(input()) - 1 for _ in range(N)]\n",
    "S = set()\n",
    "\n",
    "i = 0\n",
    "cnt = 0\n",
    "S.add(i)\n",
    "while True:\n",
    "    i = lst[i]\n",
    "    cnt += 1\n",
    "    if i == 1:\n",
    "        flag = True\n",
    "        break\n",
    "    else:\n",
    "        if i in S:\n",
    "            flag = False\n",
    "            break\n",
    "        else:\n",
    "            S.add(i)\n",
    "\n",
    "if flag:\n",
    "    ans = cnt\n",
    "else:\n",
    "    ans = -1\n",
    "print(ans)"
   ]
  },
  {
   "cell_type": "markdown",
   "metadata": {},
   "source": [
    "# C問題"
   ]
  },
  {
   "cell_type": "code",
   "execution_count": 15,
   "metadata": {},
   "outputs": [
    {
     "name": "stdout",
     "output_type": "stream",
     "text": [
      "530123477\n"
     ]
    }
   ],
   "source": [
    "N,M = map(int, input().split())\n",
    "\n",
    "MOD = 10**9+7\n",
    "if N < M:\n",
    "    N, M = M, N\n",
    "if N - M >= 2:\n",
    "    ans = 0\n",
    "else:\n",
    "    n = 1\n",
    "    m = 1\n",
    "    for i in range(1,N+1):\n",
    "        n *= i\n",
    "        if i <= M:\n",
    "            m *= i\n",
    "        n %= MOD\n",
    "        m %= MOD\n",
    "    \n",
    "    if N == M:\n",
    "        ans = (n*m*2) % MOD\n",
    "    else:\n",
    "        ans = (n*m) % MOD\n",
    "\n",
    "print(ans)"
   ]
  },
  {
   "cell_type": "markdown",
   "metadata": {},
   "source": [
    "# D問題"
   ]
  },
  {
   "cell_type": "code",
   "execution_count": 2,
   "metadata": {},
   "outputs": [
    {
     "name": "stdout",
     "output_type": "stream",
     "text": [
      "3\n"
     ]
    }
   ],
   "source": [
    "import math\n",
    "from collections import defaultdict\n",
    "\n",
    "class UnionFind():\n",
    "    def __init__(self, n):\n",
    "        self.n = n\n",
    "        self.parents = [-1] * n\n",
    "        # parents:\n",
    "        # 各要素の親要素の番号を格納するリスト\n",
    "        # 要素が根（ルート）の場合は-(そのグループの要素数)を格納する\n",
    "\n",
    "    # 要素xが属するグループの根を返す    \n",
    "    def find(self, x):        \n",
    "        if self.parents[x] < 0:\n",
    "            return x\n",
    "        else:\n",
    "            self.parents[x] = self.find(self.parents[x])\n",
    "            return self.parents[x]\n",
    "\n",
    "    # 要素xが属するグループと要素yが属するグループとを併合する\n",
    "    def union(self, x, y):\n",
    "        x = self.find(x)\n",
    "        y = self.find(y)\n",
    "\n",
    "        if x == y:\n",
    "            return\n",
    "\n",
    "        if self.parents[x] > self.parents[y]:\n",
    "            x, y = y, x\n",
    "\n",
    "        self.parents[x] += self.parents[y]\n",
    "        self.parents[y] = x\n",
    "\n",
    "    # 要素x, yが同じグループに属するかどうかを返す\n",
    "    def same(self, x, y):\n",
    "        return self.find(x) == self.find(y)\n",
    "\n",
    "N = int(input())\n",
    "lst = [[i] + list(map(int, input().split())) for i in range(N)]\n",
    "\n",
    "uf = UnionFind(N)\n",
    "adj = []\n",
    "\n",
    "lst.sort(key = lambda x: x[1])\n",
    "for i in range(N-1):\n",
    "    i_0, x_0, _ = lst[i]\n",
    "    i_1, x_1, _ = lst[i+1]\n",
    "    if x_0 == x_1:\n",
    "        uf.union(i_0, i_1)\n",
    "    elif x_0 < x_1:\n",
    "        adj.append((x_1 - x_0, i_0, i_1))\n",
    "\n",
    "lst.sort(key = lambda x: x[2])\n",
    "for i in range(N-1):\n",
    "    i_0, _, y_0 = lst[i]\n",
    "    i_1, _, y_1 = lst[i+1]\n",
    "    if y_0 == y_1:\n",
    "        uf.union(i_0, i_1)\n",
    "    elif y_0 < y_1:\n",
    "        adj.append((y_1 - y_0, i_0, i_1))\n",
    "\n",
    "adj.sort()\n",
    "\n",
    "ans = 0\n",
    "for a in adj:\n",
    "    w, s, t = a\n",
    "    if not uf.same(s,t):\n",
    "        ans += w\n",
    "        uf.union(s,t)\n",
    "print(ans)"
   ]
  }
 ],
 "metadata": {
  "kernelspec": {
   "display_name": "Python 3",
   "language": "python",
   "name": "python3"
  },
  "language_info": {
   "codemirror_mode": {
    "name": "ipython",
    "version": 3
   },
   "file_extension": ".py",
   "mimetype": "text/x-python",
   "name": "python",
   "nbconvert_exporter": "python",
   "pygments_lexer": "ipython3",
   "version": "3.6.5"
  },
  "toc": {
   "base_numbering": 1,
   "nav_menu": {},
   "number_sections": true,
   "sideBar": true,
   "skip_h1_title": false,
   "title_cell": "Table of Contents",
   "title_sidebar": "Contents",
   "toc_cell": false,
   "toc_position": {},
   "toc_section_display": true,
   "toc_window_display": false
  }
 },
 "nbformat": 4,
 "nbformat_minor": 4
}

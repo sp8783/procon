{
 "cells": [
  {
   "cell_type": "markdown",
   "metadata": {},
   "source": [
    "# A問題"
   ]
  },
  {
   "cell_type": "code",
   "execution_count": 1,
   "metadata": {},
   "outputs": [
    {
     "name": "stdin",
     "output_type": "stream",
     "text": [
      " 100 200 50 20\n",
      " 40 10\n"
     ]
    },
    {
     "name": "stdout",
     "output_type": "stream",
     "text": [
      "3500\n"
     ]
    }
   ],
   "source": [
    "A, B, C, K = map(int, input().split())\n",
    "S, T = map(int, input().split())\n",
    "\n",
    "ans = A*S + B*T\n",
    "if S+T >= K:\n",
    "    ans -= C*(S+T)\n",
    "print(ans)"
   ]
  },
  {
   "cell_type": "markdown",
   "metadata": {},
   "source": [
    "# B問題"
   ]
  },
  {
   "cell_type": "code",
   "execution_count": 2,
   "metadata": {},
   "outputs": [
    {
     "name": "stdin",
     "output_type": "stream",
     "text": [
      " 5 10\n",
      " 20\n",
      " 100\n",
      " 105\n",
      " 217\n",
      " 314\n"
     ]
    },
    {
     "name": "stdout",
     "output_type": "stream",
     "text": [
      "20\n",
      "25\n",
      "35\n",
      "45\n"
     ]
    }
   ],
   "source": [
    "N, T = map(int, input().split())\n",
    "\n",
    "A = [int(input()) for _ in range(N)]\n",
    "t = A[0]\n",
    "ans = T\n",
    "for i in range(N-1):\n",
    "    ans += min(T, A[i+1]-A[i])\n",
    "\n",
    "print(ans)"
   ]
  },
  {
   "cell_type": "markdown",
   "metadata": {},
   "source": [
    "# C問題"
   ]
  },
  {
   "cell_type": "code",
   "execution_count": 4,
   "metadata": {},
   "outputs": [
    {
     "name": "stdin",
     "output_type": "stream",
     "text": [
      " 10 10 3\n",
      " 1 5\n",
      " 3 6\n",
      " 7 10\n",
      " 5 8\n",
      " 4 4\n",
      " 1 4\n",
      " 2 9\n",
      " 1 3\n",
      " 1 1\n",
      " 4 5\n",
      " 1 6\n"
     ]
    },
    {
     "name": "stdout",
     "output_type": "stream",
     "text": [
      "2\n"
     ]
    },
    {
     "name": "stdin",
     "output_type": "stream",
     "text": [
      " 2 7\n"
     ]
    },
    {
     "name": "stdout",
     "output_type": "stream",
     "text": [
      "4\n"
     ]
    },
    {
     "name": "stdin",
     "output_type": "stream",
     "text": [
      " 10 1\n"
     ]
    },
    {
     "name": "stdout",
     "output_type": "stream",
     "text": [
      "8\n"
     ]
    }
   ],
   "source": [
    "N, D, K = map(int, input().split())\n",
    "LR = [list(map(int, input().split())) for _ in range(D)]\n",
    "for _ in range(K):\n",
    "    s, t = map(int, input().split())\n",
    "    if s > t:\n",
    "        to = 0\n",
    "    else:\n",
    "        to = 1\n",
    "    x = s\n",
    "    for d in range(D):\n",
    "        if LR[d][0] <= x <= LR[d][1]:\n",
    "            if LR[d][0] <= t <= LR[d][1]:\n",
    "                print(d+1)\n",
    "                break\n",
    "            else:\n",
    "                x = LR[d][to]"
   ]
  }
 ],
 "metadata": {
  "kernelspec": {
   "display_name": "Python 3",
   "language": "python",
   "name": "python3"
  },
  "language_info": {
   "codemirror_mode": {
    "name": "ipython",
    "version": 3
   },
   "file_extension": ".py",
   "mimetype": "text/x-python",
   "name": "python",
   "nbconvert_exporter": "python",
   "pygments_lexer": "ipython3",
   "version": "3.6.5"
  },
  "toc": {
   "base_numbering": 1,
   "nav_menu": {},
   "number_sections": true,
   "sideBar": true,
   "skip_h1_title": false,
   "title_cell": "Table of Contents",
   "title_sidebar": "Contents",
   "toc_cell": false,
   "toc_position": {},
   "toc_section_display": true,
   "toc_window_display": false
  }
 },
 "nbformat": 4,
 "nbformat_minor": 4
}

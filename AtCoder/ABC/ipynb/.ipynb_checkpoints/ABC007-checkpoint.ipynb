{
 "cells": [
  {
   "cell_type": "markdown",
   "metadata": {},
   "source": [
    "# A問題"
   ]
  },
  {
   "cell_type": "code",
   "execution_count": null,
   "metadata": {},
   "outputs": [],
   "source": [
    "n = int(input())\n",
    "\n",
    "print(n-1)"
   ]
  },
  {
   "cell_type": "markdown",
   "metadata": {},
   "source": [
    "# B問題"
   ]
  },
  {
   "cell_type": "code",
   "execution_count": 12,
   "metadata": {},
   "outputs": [
    {
     "name": "stdin",
     "output_type": "stream",
     "text": [
      " aaaaa\n"
     ]
    },
    {
     "name": "stdout",
     "output_type": "stream",
     "text": [
      "aaaa\n"
     ]
    }
   ],
   "source": [
    "S = input()\n",
    "\n",
    "if len(S) >= 2:\n",
    "    print(S[:len(S)-1])\n",
    "else:\n",
    "    if S == \"a\":\n",
    "        print(-1)\n",
    "    else:\n",
    "        print(chr(ord(S) - 1))"
   ]
  },
  {
   "cell_type": "markdown",
   "metadata": {},
   "source": [
    "# C問題"
   ]
  },
  {
   "cell_type": "code",
   "execution_count": 10,
   "metadata": {},
   "outputs": [
    {
     "name": "stdout",
     "output_type": "stream",
     "text": [
      "94\n"
     ]
    }
   ],
   "source": [
    "from collections import deque\n",
    "\n",
    "R, C = map(int, input().split())\n",
    "start = list(map(lambda x : int(x) - 1, input().split()))\n",
    "goal = list(map(lambda x : int(x) - 1, input().split()))\n",
    "maze = [list(input()) for _ in range(R)]\n",
    "\n",
    "q = deque()\n",
    "q.append(start)\n",
    "dxy = [(1,0),(0,1),(-1,0),(0,-1)]\n",
    "ans = [[-1]*C for _ in range(R)]\n",
    "ans[start[0]][start[1]] = 0\n",
    "\n",
    "while q:\n",
    "    x, y = q.popleft()\n",
    "    for dx, dy in dxy:\n",
    "        nx = x + dx\n",
    "        ny = y + dy\n",
    "        \n",
    "        if ans[nx][ny] != -1:\n",
    "            continue\n",
    "        if maze[nx][ny] == \"#\":\n",
    "            continue\n",
    "        ans[nx][ny] = ans[x][y] + 1\n",
    "        q.append([nx, ny])\n",
    "\n",
    "print(ans[goal[0]][goal[1]])"
   ]
  }
 ],
 "metadata": {
  "kernelspec": {
   "display_name": "Python 3",
   "language": "python",
   "name": "python3"
  },
  "language_info": {
   "codemirror_mode": {
    "name": "ipython",
    "version": 3
   },
   "file_extension": ".py",
   "mimetype": "text/x-python",
   "name": "python",
   "nbconvert_exporter": "python",
   "pygments_lexer": "ipython3",
   "version": "3.6.5"
  },
  "toc": {
   "base_numbering": 1,
   "nav_menu": {},
   "number_sections": true,
   "sideBar": true,
   "skip_h1_title": false,
   "title_cell": "Table of Contents",
   "title_sidebar": "Contents",
   "toc_cell": false,
   "toc_position": {},
   "toc_section_display": true,
   "toc_window_display": false
  }
 },
 "nbformat": 4,
 "nbformat_minor": 4
}

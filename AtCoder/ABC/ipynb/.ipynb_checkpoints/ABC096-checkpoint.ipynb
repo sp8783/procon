{
 "cells": [
  {
   "cell_type": "markdown",
   "metadata": {},
   "source": [
    "# A問題"
   ]
  },
  {
   "cell_type": "code",
   "execution_count": 3,
   "metadata": {},
   "outputs": [
    {
     "name": "stdin",
     "output_type": "stream",
     "text": [
      " 11 30\n"
     ]
    },
    {
     "name": "stdout",
     "output_type": "stream",
     "text": [
      "11\n"
     ]
    }
   ],
   "source": [
    "a, b= map(int, input().split())\n",
    "\n",
    "if b < a:\n",
    "    ans = a-1\n",
    "else:\n",
    "    ans = a\n",
    "\n",
    "print(ans)"
   ]
  },
  {
   "cell_type": "markdown",
   "metadata": {},
   "source": [
    "# B問題"
   ]
  },
  {
   "cell_type": "code",
   "execution_count": 7,
   "metadata": {},
   "outputs": [
    {
     "name": "stdin",
     "output_type": "stream",
     "text": [
      " 3 3 4\n",
      " 2\n"
     ]
    },
    {
     "name": "stdout",
     "output_type": "stream",
     "text": [
      "22\n"
     ]
    }
   ],
   "source": [
    "a, b, c = map(int, input().split())\n",
    "k = int(input())\n",
    "\n",
    "ans = max(a,b,c)*(2**k - 1) + a+b+c\n",
    "print(ans)"
   ]
  },
  {
   "cell_type": "markdown",
   "metadata": {},
   "source": [
    "# C問題"
   ]
  },
  {
   "cell_type": "code",
   "execution_count": 11,
   "metadata": {},
   "outputs": [
    {
     "name": "stdout",
     "output_type": "stream",
     "text": [
      "Yes\n"
     ]
    }
   ],
   "source": [
    "H, W = map(int, input().split())\n",
    "lst = [list(input()) for _ in range(H)]\n",
    "\n",
    "ans = \"Yes\"\n",
    "dxy = [(1,0), (-1,0), (0,1), (0,-1)]\n",
    "flag = False\n",
    "\n",
    "for y in range(H):\n",
    "    for x in range(W):\n",
    "        if lst[y][x] == \"#\":\n",
    "            cnt = 0\n",
    "            for dx, dy in dxy:\n",
    "                nx = x + dx\n",
    "                ny = y + dy\n",
    "                if 0 <= nx <= W-1 and 0 <= ny <= H-1:\n",
    "                    if lst[ny][nx] == \"#\":\n",
    "                        cnt += 1\n",
    "            if cnt == 0:\n",
    "                ans = \"No\"\n",
    "                flag = True\n",
    "        \n",
    "        if flag:\n",
    "            break\n",
    "    if flag:\n",
    "        break\n",
    "        \n",
    "print(ans)"
   ]
  }
 ],
 "metadata": {
  "kernelspec": {
   "display_name": "Python 3",
   "language": "python",
   "name": "python3"
  },
  "language_info": {
   "codemirror_mode": {
    "name": "ipython",
    "version": 3
   },
   "file_extension": ".py",
   "mimetype": "text/x-python",
   "name": "python",
   "nbconvert_exporter": "python",
   "pygments_lexer": "ipython3",
   "version": "3.6.5"
  },
  "toc": {
   "base_numbering": 1,
   "nav_menu": {},
   "number_sections": true,
   "sideBar": true,
   "skip_h1_title": false,
   "title_cell": "Table of Contents",
   "title_sidebar": "Contents",
   "toc_cell": false,
   "toc_position": {},
   "toc_section_display": true,
   "toc_window_display": false
  }
 },
 "nbformat": 4,
 "nbformat_minor": 4
}

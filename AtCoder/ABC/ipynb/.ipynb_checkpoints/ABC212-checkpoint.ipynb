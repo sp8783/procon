{
 "cells": [
  {
   "cell_type": "markdown",
   "metadata": {},
   "source": [
    "# A問題"
   ]
  },
  {
   "cell_type": "code",
   "execution_count": 4,
   "metadata": {},
   "outputs": [
    {
     "name": "stdin",
     "output_type": "stream",
     "text": [
      " 100 2\n"
     ]
    },
    {
     "name": "stdout",
     "output_type": "stream",
     "text": [
      "Alloy\n"
     ]
    }
   ],
   "source": [
    "a,b = map(int, input().split())\n",
    "\n",
    "if a>0 and b == 0:\n",
    "    print(\"Gold\")\n",
    "elif a == 0 and b>0:\n",
    "    print(\"Silver\")\n",
    "else:\n",
    "    print(\"Alloy\")"
   ]
  },
  {
   "cell_type": "markdown",
   "metadata": {},
   "source": [
    "# B問題"
   ]
  },
  {
   "cell_type": "code",
   "execution_count": 9,
   "metadata": {},
   "outputs": [
    {
     "name": "stdin",
     "output_type": "stream",
     "text": [
      " 9012\n"
     ]
    },
    {
     "name": "stdout",
     "output_type": "stream",
     "text": [
      "Weak\n"
     ]
    }
   ],
   "source": [
    "x = int(input())\n",
    "\n",
    "weak = [0,1111,2222,3333,4444,5555,6666,7777,8888,9999,1234,2345,3456,4567,5678,6789,7890,8901,9012,123]\n",
    "if x in weak:\n",
    "    print(\"Weak\")\n",
    "else:\n",
    "    print(\"Strong\")"
   ]
  },
  {
   "cell_type": "markdown",
   "metadata": {},
   "source": [
    "# C問題"
   ]
  },
  {
   "cell_type": "code",
   "execution_count": 13,
   "metadata": {},
   "outputs": [
    {
     "name": "stdout",
     "output_type": "stream",
     "text": [
      "3\n"
     ]
    }
   ],
   "source": [
    "from bisect import bisect_left, bisect_right\n",
    "\n",
    "N, M = map(int, input().split())\n",
    "A = list(map(int, input().split()))\n",
    "B = list(map(int, input().split()))\n",
    "\n",
    "A = [-1*(10**10)]+ sorted(A) + [10**10]\n",
    "\n",
    "ans = 10**10\n",
    "for b in B:\n",
    "    tmp = min(abs(b - A[bisect_left(A, b)-1]), abs(b - A[bisect_left(A, b)]))\n",
    "    ans = min(ans, tmp)\n",
    "print(ans)"
   ]
  },
  {
   "cell_type": "markdown",
   "metadata": {},
   "source": [
    "# D問題"
   ]
  },
  {
   "cell_type": "code",
   "execution_count": 15,
   "metadata": {},
   "outputs": [
    {
     "name": "stdout",
     "output_type": "stream",
     "text": [
      "5000000000\n"
     ]
    }
   ],
   "source": [
    "import heapq\n",
    "\n",
    "Q = int(input())\n",
    "lst = []\n",
    "heapq.heapify(lst)\n",
    "cum = 0\n",
    "\n",
    "for _ in range(Q):\n",
    "    q = list(map(int, input().split()))\n",
    "    if q[0] == 1:\n",
    "        heapq.heappush(lst, q[1] - cum)\n",
    "    elif q[0] == 2:\n",
    "        cum += q[1]\n",
    "    else:\n",
    "        ans = heapq.heappop(lst) + cum\n",
    "        print(ans)"
   ]
  },
  {
   "cell_type": "markdown",
   "metadata": {},
   "source": [
    "# E問題"
   ]
  },
  {
   "cell_type": "code",
   "execution_count": 6,
   "metadata": {},
   "outputs": [
    {
     "name": "stdout",
     "output_type": "stream",
     "text": [
      "428417047\n"
     ]
    }
   ],
   "source": [
    "N, M, K = map(int, input().split())\n",
    "adj = [[i,i] for i in range(N)]\n",
    "for _ in range(M):\n",
    "    u, v = map(lambda x:int(x)-1, input().split())\n",
    "    adj.append([u, v])\n",
    "    adj.append([v, u])\n",
    "    \n",
    "\n",
    "ans = 0\n",
    "dp = [0]*N\n",
    "dp[0] = 1\n",
    "MOD = 998244353\n",
    "\n",
    "for k in range(K):\n",
    "    tot = sum(dp)\n",
    "    memo = [tot]*N\n",
    "    for From, To in adj:\n",
    "        memo[To] -= dp[From]\n",
    "        memo[To] %= MOD\n",
    "    dp = memo[:]\n",
    "    \n",
    "ans = dp[0]\n",
    "print(ans)"
   ]
  }
 ],
 "metadata": {
  "kernelspec": {
   "display_name": "Python 3",
   "language": "python",
   "name": "python3"
  },
  "language_info": {
   "codemirror_mode": {
    "name": "ipython",
    "version": 3
   },
   "file_extension": ".py",
   "mimetype": "text/x-python",
   "name": "python",
   "nbconvert_exporter": "python",
   "pygments_lexer": "ipython3",
   "version": "3.6.5"
  },
  "toc": {
   "base_numbering": 1,
   "nav_menu": {},
   "number_sections": true,
   "sideBar": true,
   "skip_h1_title": false,
   "title_cell": "Table of Contents",
   "title_sidebar": "Contents",
   "toc_cell": false,
   "toc_position": {},
   "toc_section_display": true,
   "toc_window_display": false
  }
 },
 "nbformat": 4,
 "nbformat_minor": 4
}

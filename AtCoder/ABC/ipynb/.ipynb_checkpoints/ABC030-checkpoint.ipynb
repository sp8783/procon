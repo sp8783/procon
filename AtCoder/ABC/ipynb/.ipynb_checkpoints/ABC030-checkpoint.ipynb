{
 "cells": [
  {
   "cell_type": "markdown",
   "metadata": {},
   "source": [
    "# A問題"
   ]
  },
  {
   "cell_type": "code",
   "execution_count": 3,
   "metadata": {},
   "outputs": [
    {
     "name": "stdin",
     "output_type": "stream",
     "text": [
      " 66 30 55 25\n"
     ]
    },
    {
     "name": "stdout",
     "output_type": "stream",
     "text": [
      "DRAW\n"
     ]
    }
   ],
   "source": [
    "a,b,c,d = map(int, input().split())\n",
    "\n",
    "if b/a > d/c:\n",
    "    print(\"TAKAHASHI\")\n",
    "elif b/a < d/c:\n",
    "    print(\"AOKI\")\n",
    "else:\n",
    "    print(\"DRAW\")"
   ]
  },
  {
   "cell_type": "markdown",
   "metadata": {},
   "source": [
    "# B問題"
   ]
  },
  {
   "cell_type": "code",
   "execution_count": 10,
   "metadata": {},
   "outputs": [
    {
     "name": "stdin",
     "output_type": "stream",
     "text": [
      " 23 59\n"
     ]
    },
    {
     "name": "stdout",
     "output_type": "stream",
     "text": [
      "5.5\n"
     ]
    }
   ],
   "source": [
    "n, m = map(int, input().split())\n",
    "\n",
    "s = (n%12)*30 + 0.5*m\n",
    "l = m*6\n",
    "\n",
    "ans = abs(l-s)\n",
    "if ans > 180:\n",
    "    ans = 360 - ans\n",
    "print(ans)"
   ]
  },
  {
   "cell_type": "markdown",
   "metadata": {},
   "source": [
    "# C問題"
   ]
  },
  {
   "cell_type": "code",
   "execution_count": 16,
   "metadata": {},
   "outputs": [
    {
     "name": "stdin",
     "output_type": "stream",
     "text": [
      " 6 7\n",
      " 5 3\n",
      " 1 7 12 19 20 26\n",
      " 4 9 15 23 24 31 33\n"
     ]
    },
    {
     "name": "stdout",
     "output_type": "stream",
     "text": [
      "3\n"
     ]
    }
   ],
   "source": [
    "N, M = map(int, input().split())\n",
    "X, Y = map(int, input().split())\n",
    "A = list(map(int, input().split()))\n",
    "B = list(map(int, input().split()))\n",
    "\n",
    "t = 0\n",
    "now = \"A\"\n",
    "cnt = 0\n",
    "idx = {\"A\":0, \"B\":0}\n",
    "max_idx = {\"A\":N, \"B\":M}\n",
    "T = {\"A\":X, \"B\":Y}\n",
    "\n",
    "flag = False\n",
    "while True:\n",
    "    if now == \"A\":\n",
    "        lst = A\n",
    "    else:\n",
    "        lst = B\n",
    "    \n",
    "    while True:\n",
    "        if idx[now] == max_idx[now]:\n",
    "            flag = True\n",
    "            break\n",
    "        \n",
    "        if lst[idx[now]] < t:\n",
    "            idx[now] += 1\n",
    "        else:\n",
    "            t = lst[idx[now]] + T[now]\n",
    "            cnt += 1\n",
    "            break\n",
    "    \n",
    "    if now == \"A\":\n",
    "        now = \"B\"\n",
    "    else:\n",
    "        now = \"A\"\n",
    "        \n",
    "    if flag:\n",
    "        break\n",
    "\n",
    "ans = cnt//2\n",
    "print(ans)"
   ]
  }
 ],
 "metadata": {
  "kernelspec": {
   "display_name": "Python 3",
   "language": "python",
   "name": "python3"
  },
  "language_info": {
   "codemirror_mode": {
    "name": "ipython",
    "version": 3
   },
   "file_extension": ".py",
   "mimetype": "text/x-python",
   "name": "python",
   "nbconvert_exporter": "python",
   "pygments_lexer": "ipython3",
   "version": "3.6.5"
  },
  "toc": {
   "base_numbering": 1,
   "nav_menu": {},
   "number_sections": true,
   "sideBar": true,
   "skip_h1_title": false,
   "title_cell": "Table of Contents",
   "title_sidebar": "Contents",
   "toc_cell": false,
   "toc_position": {},
   "toc_section_display": true,
   "toc_window_display": false
  }
 },
 "nbformat": 4,
 "nbformat_minor": 4
}

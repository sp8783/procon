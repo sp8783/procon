{
 "cells": [
  {
   "cell_type": "markdown",
   "metadata": {},
   "source": [
    "# A問題"
   ]
  },
  {
   "cell_type": "code",
   "execution_count": 4,
   "metadata": {},
   "outputs": [
    {
     "name": "stdin",
     "output_type": "stream",
     "text": [
      " 12 3 7\n"
     ]
    },
    {
     "name": "stdout",
     "output_type": "stream",
     "text": [
      "0\n"
     ]
    }
   ],
   "source": [
    "a, b, c = map(int, input().split())\n",
    "\n",
    "ans = max(c - (a - b), 0)\n",
    "\n",
    "print(ans)"
   ]
  },
  {
   "cell_type": "markdown",
   "metadata": {},
   "source": [
    "# B問題"
   ]
  },
  {
   "cell_type": "code",
   "execution_count": 6,
   "metadata": {},
   "outputs": [
    {
     "name": "stdin",
     "output_type": "stream",
     "text": [
      " 100000\n"
     ]
    },
    {
     "name": "stdout",
     "output_type": "stream",
     "text": [
      "90909\n"
     ]
    }
   ],
   "source": [
    "N = int(input())\n",
    "\n",
    "ans = 0\n",
    "\n",
    "for i in range(1,N+1):\n",
    "    s = str(i)\n",
    "    if len(s)%2 != 0:\n",
    "        ans += 1\n",
    "\n",
    "print(ans)"
   ]
  },
  {
   "cell_type": "markdown",
   "metadata": {},
   "source": [
    "# C問題"
   ]
  },
  {
   "cell_type": "code",
   "execution_count": 17,
   "metadata": {},
   "outputs": [
    {
     "name": "stdin",
     "output_type": "stream",
     "text": [
      " 5\n",
      " 1 2 1 1 3\n"
     ]
    },
    {
     "name": "stdout",
     "output_type": "stream",
     "text": [
      "Yes\n"
     ]
    }
   ],
   "source": [
    "N = int(input())\n",
    "H = list(map(int, input().split()))\n",
    "\n",
    "H = H[::-1]\n",
    "\n",
    "ans = \"Yes\"\n",
    "\n",
    "for i in range(len(H)-1):\n",
    "    if H[i] - H[i+1] <= -2:\n",
    "        ans = \"No\"\n",
    "        break\n",
    "    elif H[i] - H[i+1] == -1:\n",
    "        H[i+1] -= 1\n",
    "    else:\n",
    "        continue\n",
    "\n",
    "print(ans)"
   ]
  },
  {
   "cell_type": "markdown",
   "metadata": {},
   "source": [
    "# D問題"
   ]
  },
  {
   "cell_type": "code",
   "execution_count": 42,
   "metadata": {},
   "outputs": [
    {
     "name": "stdin",
     "output_type": "stream",
     "text": [
      " RRLLLLRLRRLL\n"
     ]
    },
    {
     "name": "stdout",
     "output_type": "stream",
     "text": [
      "0 3 3 0 0 0 1 1 0 2 2 0\n"
     ]
    }
   ],
   "source": [
    "def simulate_move(dic):\n",
    "    r = dic[\"R\"]\n",
    "    l = dic[\"L\"]\n",
    "    lst = [0]*(r+l)\n",
    "    if (r + l) % 2 == 0:\n",
    "        lst[r-1] = (r+l)//2\n",
    "        lst[r] = (r+l)//2\n",
    "    else:\n",
    "        if r % 2 == 0:\n",
    "            lst[r-1] = (r+l)//2\n",
    "            lst[r] = (r+l)//2 + 1\n",
    "        else:\n",
    "            lst[r-1] = (r+l)//2 + 1\n",
    "            lst[r] = (r+l)//2\n",
    "    return lst\n",
    "\n",
    "S = list(input())\n",
    "dic = {\"R\" : 0, \"L\" : 0}\n",
    "ans = []\n",
    "\n",
    "for i in range(len(S)):\n",
    "    s = S[i]\n",
    "    if s == \"R\" and dic[\"L\"] != 0:\n",
    "            ans += simulate_move(dic)            \n",
    "            dic = {\"R\" : 1, \"L\" : 0}            \n",
    "            continue\n",
    "    dic[s] += 1\n",
    "    if i == len(S) - 1:\n",
    "        ans += simulate_move(dic)\n",
    "\n",
    "print(*ans)"
   ]
  }
 ],
 "metadata": {
  "kernelspec": {
   "display_name": "Python 3",
   "language": "python",
   "name": "python3"
  },
  "language_info": {
   "codemirror_mode": {
    "name": "ipython",
    "version": 3
   },
   "file_extension": ".py",
   "mimetype": "text/x-python",
   "name": "python",
   "nbconvert_exporter": "python",
   "pygments_lexer": "ipython3",
   "version": "3.6.5"
  },
  "toc": {
   "base_numbering": 1,
   "nav_menu": {},
   "number_sections": true,
   "sideBar": true,
   "skip_h1_title": false,
   "title_cell": "Table of Contents",
   "title_sidebar": "Contents",
   "toc_cell": false,
   "toc_position": {},
   "toc_section_display": true,
   "toc_window_display": false
  }
 },
 "nbformat": 4,
 "nbformat_minor": 4
}

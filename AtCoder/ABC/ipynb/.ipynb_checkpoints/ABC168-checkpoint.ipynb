{
 "cells": [
  {
   "cell_type": "markdown",
   "metadata": {},
   "source": [
    "# A問題"
   ]
  },
  {
   "cell_type": "code",
   "execution_count": 5,
   "metadata": {},
   "outputs": [
    {
     "name": "stdout",
     "output_type": "stream",
     "text": [
      "183\n",
      "bon\n"
     ]
    }
   ],
   "source": [
    "N = input()\n",
    "\n",
    "ans = \"\"\n",
    "\n",
    "if N[-1] in [\"2\",\"4\",\"5\",\"7\",\"9\"]:\n",
    "    ans = \"hon\"\n",
    "elif N[-1] in [\"3\"]:\n",
    "    ans = \"bon\"\n",
    "else:\n",
    "    ans = \"pon\"\n",
    "\n",
    "print(ans)"
   ]
  },
  {
   "cell_type": "markdown",
   "metadata": {},
   "source": [
    "# B問題"
   ]
  },
  {
   "cell_type": "code",
   "execution_count": 7,
   "metadata": {},
   "outputs": [
    {
     "name": "stdout",
     "output_type": "stream",
     "text": [
      "40\n",
      "ferelibenterhominesidquodvoluntcredunt\n",
      "ferelibenterhominesidquodvoluntcredunt\n"
     ]
    }
   ],
   "source": [
    "k = int(input())\n",
    "s = input()\n",
    "\n",
    "ans = \"\"\n",
    "\n",
    "if len(s) <= k:\n",
    "    ans = s\n",
    "else:\n",
    "    ans = s[:k] + \"...\"\n",
    "\n",
    "print(ans)"
   ]
  },
  {
   "cell_type": "markdown",
   "metadata": {},
   "source": [
    "# C問題"
   ]
  },
  {
   "cell_type": "code",
   "execution_count": 22,
   "metadata": {},
   "outputs": [
    {
     "name": "stdout",
     "output_type": "stream",
     "text": [
      "3 4 10 40\n",
      "4.564257194330056\n"
     ]
    }
   ],
   "source": [
    "import math\n",
    "\n",
    "a,b,h,m =map(int,input().split())\n",
    "\n",
    "def sin(x):\n",
    "    return math.sin(math.radians(x))\n",
    "def cos(x):\n",
    "    return math.cos(math.radians(x))\n",
    "\n",
    "hx = a*cos(90-(30*h+0.5*m))\n",
    "hy = a*sin(90-(30*h+0.5*m))\n",
    "mx = b*cos(90-(6*m))\n",
    "my = b*sin(90-(6*m))\n",
    "\n",
    "ans = math.sqrt((hx-mx)**2 + (hy-my)**2)\n",
    "\n",
    "print(ans)"
   ]
  },
  {
   "cell_type": "markdown",
   "metadata": {},
   "source": [
    "# D問題"
   ]
  },
  {
   "cell_type": "code",
   "execution_count": 4,
   "metadata": {},
   "outputs": [
    {
     "name": "stdin",
     "output_type": "stream",
     "text": [
      " 6 9\n",
      " 3 4\n",
      " 6 1\n",
      " 2 4\n",
      " 5 3\n",
      " 4 6\n",
      " 1 5\n",
      " 6 2\n",
      " 4 5\n",
      " 5 6\n"
     ]
    },
    {
     "name": "stdout",
     "output_type": "stream",
     "text": [
      "Yes\n",
      "6\n",
      "5\n",
      "6\n",
      "1\n",
      "1\n"
     ]
    }
   ],
   "source": [
    "from collections import deque\n",
    "\n",
    "N, M = map(int, input().split())\n",
    "adj = [[] for _ in range(N)]\n",
    "for _ in range(M):\n",
    "    a, b = map(int, input().split())\n",
    "    adj[a-1].append(b-1)\n",
    "    adj[b-1].append(a-1)\n",
    "\n",
    "inf = float(\"inf\")\n",
    "dist = [inf]*N\n",
    "dist[0] = 0\n",
    "check = [False]*N\n",
    "check[0] = True\n",
    "pre = [N+1]*N\n",
    "\n",
    "q = deque()\n",
    "q.append(0)\n",
    "\n",
    "while q:\n",
    "    v = q.popleft()\n",
    "    for nv in adj[v]:\n",
    "        if check[nv] == False:\n",
    "            check[nv] = True\n",
    "            dist[nv] = dist[v] + 1\n",
    "            pre[nv] = v\n",
    "            q.append(nv)\n",
    "\n",
    "if False in check:\n",
    "    print(\"No\")\n",
    "else:\n",
    "    print(\"Yes\")\n",
    "    for i in range(1,N):\n",
    "        print(pre[i]+1)\n"
   ]
  }
 ],
 "metadata": {
  "kernelspec": {
   "display_name": "Python 3",
   "language": "python",
   "name": "python3"
  },
  "language_info": {
   "codemirror_mode": {
    "name": "ipython",
    "version": 3
   },
   "file_extension": ".py",
   "mimetype": "text/x-python",
   "name": "python",
   "nbconvert_exporter": "python",
   "pygments_lexer": "ipython3",
   "version": "3.6.5"
  },
  "toc": {
   "base_numbering": 1,
   "nav_menu": {},
   "number_sections": true,
   "sideBar": true,
   "skip_h1_title": false,
   "title_cell": "Table of Contents",
   "title_sidebar": "Contents",
   "toc_cell": false,
   "toc_position": {},
   "toc_section_display": true,
   "toc_window_display": false
  }
 },
 "nbformat": 4,
 "nbformat_minor": 4
}

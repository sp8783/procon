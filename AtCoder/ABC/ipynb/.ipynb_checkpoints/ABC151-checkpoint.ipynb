{
 "cells": [
  {
   "cell_type": "markdown",
   "metadata": {},
   "source": [
    "# A問題"
   ]
  },
  {
   "cell_type": "code",
   "execution_count": 3,
   "metadata": {},
   "outputs": [
    {
     "name": "stdout",
     "output_type": "stream",
     "text": [
      "z\n",
      "{\n"
     ]
    }
   ],
   "source": [
    "c = input()\n",
    "print(chr(ord(c)+1))"
   ]
  },
  {
   "cell_type": "markdown",
   "metadata": {},
   "source": [
    "# B問題"
   ]
  },
  {
   "cell_type": "code",
   "execution_count": 6,
   "metadata": {},
   "outputs": [
    {
     "name": "stdout",
     "output_type": "stream",
     "text": [
      "4 100 60\n",
      "0 0 0\n",
      "-1\n"
     ]
    }
   ],
   "source": [
    "n,k,m = map(int,input().split())\n",
    "lst = list(map(int,input().split()))\n",
    "ans = 0\n",
    "tmp = n*m-sum(lst)\n",
    "if tmp>k:\n",
    "    ans = -1\n",
    "else:\n",
    "    ans = max(0,tmp)\n",
    "print(ans)"
   ]
  },
  {
   "cell_type": "markdown",
   "metadata": {},
   "source": [
    "# C問題"
   ]
  },
  {
   "cell_type": "code",
   "execution_count": 10,
   "metadata": {},
   "outputs": [
    {
     "name": "stdout",
     "output_type": "stream",
     "text": [
      "2 2\n"
     ]
    }
   ],
   "source": [
    "N, M = map(int, input().split())\n",
    "\n",
    "check = [False]*N\n",
    "WA = [0]*N\n",
    "P = 0\n",
    "\n",
    "for _ in range(M):\n",
    "    p, S = input().split()\n",
    "    p = int(p) - 1\n",
    "    if S == \"AC\":\n",
    "        if check[p] == False:\n",
    "            check[p] = True\n",
    "            P += WA[p]\n",
    "    else:\n",
    "        WA[p] += 1\n",
    "        \n",
    "ans = [sum(check), P]  \n",
    "print(*ans)"
   ]
  }
 ],
 "metadata": {
  "kernelspec": {
   "display_name": "Python 3",
   "language": "python",
   "name": "python3"
  },
  "language_info": {
   "codemirror_mode": {
    "name": "ipython",
    "version": 3
   },
   "file_extension": ".py",
   "mimetype": "text/x-python",
   "name": "python",
   "nbconvert_exporter": "python",
   "pygments_lexer": "ipython3",
   "version": "3.6.5"
  }
 },
 "nbformat": 4,
 "nbformat_minor": 4
}

{
 "cells": [
  {
   "cell_type": "markdown",
   "metadata": {},
   "source": [
    "# A問題"
   ]
  },
  {
   "cell_type": "code",
   "execution_count": 2,
   "metadata": {},
   "outputs": [
    {
     "name": "stdin",
     "output_type": "stream",
     "text": [
      " abcde\n",
      " 8\n"
     ]
    },
    {
     "name": "stdout",
     "output_type": "stream",
     "text": [
      "bc\n"
     ]
    }
   ],
   "source": [
    "import itertools\n",
    "\n",
    "S = input()\n",
    "N = int(input())\n",
    "\n",
    "L = list(itertools.product(S, repeat=2))\n",
    "print(\"\".join(L[N-1]))"
   ]
  },
  {
   "cell_type": "markdown",
   "metadata": {},
   "source": [
    "# B問題"
   ]
  },
  {
   "cell_type": "code",
   "execution_count": 4,
   "metadata": {},
   "outputs": [
    {
     "name": "stdin",
     "output_type": "stream",
     "text": [
      " 3 5 10\n",
      " East 7\n",
      " West 3\n",
      " West 11\n"
     ]
    },
    {
     "name": "stdout",
     "output_type": "stream",
     "text": [
      "West 8\n"
     ]
    }
   ],
   "source": [
    "N, A, B = map(int, input().split())\n",
    "t = 0\n",
    "\n",
    "for i in range(N):\n",
    "    s, d = input().split()\n",
    "    d = max(A, min(B, int(d)))\n",
    "    if s == \"East\":\n",
    "        t += d\n",
    "    else:\n",
    "        t -= d\n",
    "\n",
    "if t == 0:\n",
    "    print(0)\n",
    "else:\n",
    "    if t > 0:\n",
    "        v = \"East\"\n",
    "    else:\n",
    "        v = \"West\"\n",
    "    print(\"{} {}\".format(v, abs(t)))"
   ]
  }
 ],
 "metadata": {
  "kernelspec": {
   "display_name": "Python 3",
   "language": "python",
   "name": "python3"
  },
  "language_info": {
   "codemirror_mode": {
    "name": "ipython",
    "version": 3
   },
   "file_extension": ".py",
   "mimetype": "text/x-python",
   "name": "python",
   "nbconvert_exporter": "python",
   "pygments_lexer": "ipython3",
   "version": "3.6.5"
  },
  "toc": {
   "base_numbering": 1,
   "nav_menu": {},
   "number_sections": true,
   "sideBar": true,
   "skip_h1_title": false,
   "title_cell": "Table of Contents",
   "title_sidebar": "Contents",
   "toc_cell": false,
   "toc_position": {},
   "toc_section_display": true,
   "toc_window_display": false
  }
 },
 "nbformat": 4,
 "nbformat_minor": 4
}

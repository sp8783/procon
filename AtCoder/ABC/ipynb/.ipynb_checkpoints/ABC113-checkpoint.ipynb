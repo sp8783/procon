{
 "cells": [
  {
   "cell_type": "markdown",
   "metadata": {},
   "source": [
    "# A問題"
   ]
  },
  {
   "cell_type": "code",
   "execution_count": 2,
   "metadata": {},
   "outputs": [
    {
     "name": "stdin",
     "output_type": "stream",
     "text": [
      " 81 58\n"
     ]
    },
    {
     "name": "stdout",
     "output_type": "stream",
     "text": [
      "110\n"
     ]
    }
   ],
   "source": [
    "X, Y = map(int, input().split())\n",
    "ans = X+Y//2\n",
    "print(ans)"
   ]
  },
  {
   "cell_type": "markdown",
   "metadata": {},
   "source": [
    "# B問題"
   ]
  },
  {
   "cell_type": "code",
   "execution_count": 6,
   "metadata": {},
   "outputs": [
    {
     "name": "stdout",
     "output_type": "stream",
     "text": [
      "3\n"
     ]
    }
   ],
   "source": [
    "N = int(input())\n",
    "T, A = map(int, input().split())\n",
    "H = list(map(int, input().split()))\n",
    "\n",
    "ans = 0\n",
    "d = 10**10\n",
    "\n",
    "for i in range(N):\n",
    "    t = 1000*T - 6*H[i]\n",
    "    if d > abs(t - 1000*A):\n",
    "        d = abs(t - 1000*A)\n",
    "        ans = i+1\n",
    "\n",
    "print(ans)"
   ]
  },
  {
   "cell_type": "markdown",
   "metadata": {},
   "source": [
    "# C問題"
   ]
  },
  {
   "cell_type": "code",
   "execution_count": 16,
   "metadata": {},
   "outputs": [
    {
     "name": "stdout",
     "output_type": "stream",
     "text": [
      "000001000002\n",
      "000002000001\n",
      "000003000001\n",
      "000001000001\n"
     ]
    }
   ],
   "source": [
    "N, M = map(int, input().split())\n",
    "lst = []\n",
    "for i in range(M):\n",
    "    p, y = map(int, input().split())\n",
    "    lst.append([i, p, y])\n",
    "lst = sorted(lst, key=lambda x: x[2])\n",
    "lst = sorted(lst, key=lambda x: x[1])\n",
    "\n",
    "for i in range(M):\n",
    "    idx, p, y = lst[i]\n",
    "    if i == 0:\n",
    "        pi = 1\n",
    "        p_pre = p\n",
    "    else:\n",
    "        if p_pre == p:\n",
    "            pi += 1\n",
    "        else:\n",
    "            pi = 1\n",
    "            p_pre = p\n",
    "    num = str(p).zfill(6) + str(pi).zfill(6)\n",
    "    lst[i].append(num)\n",
    "\n",
    "lst = sorted(lst, key=lambda x: x[0])\n",
    "for l in lst:\n",
    "    print(l[-1])"
   ]
  }
 ],
 "metadata": {
  "kernelspec": {
   "display_name": "Python 3",
   "language": "python",
   "name": "python3"
  },
  "language_info": {
   "codemirror_mode": {
    "name": "ipython",
    "version": 3
   },
   "file_extension": ".py",
   "mimetype": "text/x-python",
   "name": "python",
   "nbconvert_exporter": "python",
   "pygments_lexer": "ipython3",
   "version": "3.6.5"
  },
  "toc": {
   "base_numbering": 1,
   "nav_menu": {},
   "number_sections": true,
   "sideBar": true,
   "skip_h1_title": false,
   "title_cell": "Table of Contents",
   "title_sidebar": "Contents",
   "toc_cell": false,
   "toc_position": {},
   "toc_section_display": true,
   "toc_window_display": false
  }
 },
 "nbformat": 4,
 "nbformat_minor": 4
}

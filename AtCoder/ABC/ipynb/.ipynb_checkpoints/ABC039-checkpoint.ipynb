{
 "cells": [
  {
   "cell_type": "markdown",
   "metadata": {},
   "source": [
    "# A問題"
   ]
  },
  {
   "cell_type": "code",
   "execution_count": 1,
   "metadata": {},
   "outputs": [
    {
     "name": "stdin",
     "output_type": "stream",
     "text": [
      " 2 3 4\n"
     ]
    },
    {
     "name": "stdout",
     "output_type": "stream",
     "text": [
      "52\n"
     ]
    }
   ],
   "source": [
    "a, b, c = map(int, input().split())\n",
    "ans = 2*(a*b+b*c+c*a)\n",
    "print(ans)"
   ]
  },
  {
   "cell_type": "markdown",
   "metadata": {},
   "source": [
    "# B問題"
   ]
  },
  {
   "cell_type": "code",
   "execution_count": 2,
   "metadata": {},
   "outputs": [
    {
     "name": "stdin",
     "output_type": "stream",
     "text": [
      " 981506241\n"
     ]
    },
    {
     "name": "stdout",
     "output_type": "stream",
     "text": [
      "177\n"
     ]
    }
   ],
   "source": [
    "X = int(input())\n",
    "\n",
    "for i in range(1000):\n",
    "    if i**4 == X:\n",
    "        ans = i\n",
    "        break\n",
    "        \n",
    "print(ans)"
   ]
  },
  {
   "cell_type": "markdown",
   "metadata": {},
   "source": [
    "# C問題"
   ]
  },
  {
   "cell_type": "code",
   "execution_count": 3,
   "metadata": {},
   "outputs": [
    {
     "name": "stdin",
     "output_type": "stream",
     "text": [
      " WBWBWWBWBWBWWBWBWWBW\n"
     ]
    },
    {
     "name": "stdout",
     "output_type": "stream",
     "text": [
      "Do\n"
     ]
    }
   ],
   "source": [
    "S = input()\n",
    "s = S[:12]\n",
    "\n",
    "if s == \"WBWBWWBWBWBW\":\n",
    "    print(\"Do\")\n",
    "elif s == \"WBWWBWBWBWWB\":\n",
    "    print(\"Re\")\n",
    "elif s == \"WWBWBWBWWBWB\":\n",
    "    print(\"Mi\")\n",
    "elif s == \"WBWBWBWWBWBW\":\n",
    "    print(\"Fa\")\n",
    "elif s == \"WBWBWWBWBWWB\":\n",
    "    print(\"So\")\n",
    "elif s == \"WBWWBWBWWBWB\":\n",
    "    print(\"La\")\n",
    "else:\n",
    "    print(\"Si\")"
   ]
  }
 ],
 "metadata": {
  "kernelspec": {
   "display_name": "Python 3",
   "language": "python",
   "name": "python3"
  },
  "language_info": {
   "codemirror_mode": {
    "name": "ipython",
    "version": 3
   },
   "file_extension": ".py",
   "mimetype": "text/x-python",
   "name": "python",
   "nbconvert_exporter": "python",
   "pygments_lexer": "ipython3",
   "version": "3.6.5"
  },
  "toc": {
   "base_numbering": 1,
   "nav_menu": {},
   "number_sections": true,
   "sideBar": true,
   "skip_h1_title": false,
   "title_cell": "Table of Contents",
   "title_sidebar": "Contents",
   "toc_cell": false,
   "toc_position": {},
   "toc_section_display": true,
   "toc_window_display": false
  }
 },
 "nbformat": 4,
 "nbformat_minor": 4
}

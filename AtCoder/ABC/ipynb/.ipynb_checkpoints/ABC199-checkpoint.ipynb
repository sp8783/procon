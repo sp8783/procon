{
 "cells": [
  {
   "cell_type": "markdown",
   "metadata": {},
   "source": [
    "# A問題"
   ]
  },
  {
   "cell_type": "code",
   "execution_count": 3,
   "metadata": {},
   "outputs": [
    {
     "name": "stdout",
     "output_type": "stream",
     "text": [
      "Yes\n"
     ]
    }
   ],
   "source": [
    "A,B,C = map(int, input().split())\n",
    "if A**2 + B**2 < C**2:\n",
    "    print(\"Yes\")\n",
    "else:\n",
    "    print(\"No\")"
   ]
  },
  {
   "cell_type": "markdown",
   "metadata": {},
   "source": [
    "# B問題"
   ]
  },
  {
   "cell_type": "code",
   "execution_count": 8,
   "metadata": {},
   "outputs": [
    {
     "name": "stdout",
     "output_type": "stream",
     "text": [
      "2\n"
     ]
    }
   ],
   "source": [
    "N = int(input())\n",
    "A = list(map(int, input().split()))\n",
    "B = list(map(int, input().split()))\n",
    "\n",
    "ans = max(min(B) - max(A) + 1, 0)\n",
    "print(ans)"
   ]
  },
  {
   "cell_type": "markdown",
   "metadata": {},
   "source": [
    "# C問題"
   ]
  },
  {
   "cell_type": "code",
   "execution_count": 87,
   "metadata": {},
   "outputs": [
    {
     "name": "stdout",
     "output_type": "stream",
     "text": [
      "ILPF\n"
     ]
    }
   ],
   "source": [
    "N = int(input())\n",
    "S = list(input())\n",
    "Q = int(input())\n",
    "\n",
    "flag = 1\n",
    "for _ in range(Q):\n",
    "    t, a, b = map(int, input().split())\n",
    "    if t == 1:\n",
    "        if flag == -1:\n",
    "            if a <= N:\n",
    "                a += N\n",
    "            else:\n",
    "                a -= N\n",
    "            if b <= N:\n",
    "                b += N\n",
    "            else:\n",
    "                b -= N\n",
    "        S[a-1], S[b-1] = S[b-1], S[a-1]  \n",
    "    else:\n",
    "        flag *= -1\n",
    "if flag == -1:\n",
    "    S = S[N:] + S[:N]\n",
    "\n",
    "print(\"\".join(S))"
   ]
  },
  {
   "cell_type": "markdown",
   "metadata": {},
   "source": [
    "# D問題"
   ]
  },
  {
   "cell_type": "code",
   "execution_count": 10,
   "metadata": {},
   "outputs": [
    {
     "name": "stdout",
     "output_type": "stream",
     "text": [
      "6\n"
     ]
    }
   ],
   "source": [
    "from itertools import product\n",
    "\n",
    "class UnionFind():\n",
    "    def __init__(self, n):\n",
    "        self.n = n\n",
    "        self.parents = [-1] * n\n",
    "        # parents:\n",
    "        # 各要素の親要素の番号を格納するリスト\n",
    "        # 要素が根（ルート）の場合は-(そのグループの要素数)を格納する\n",
    "\n",
    "    # 要素xが属するグループの根を返す    \n",
    "    def find(self, x):        \n",
    "        if self.parents[x] < 0:\n",
    "            return x\n",
    "        else:\n",
    "            self.parents[x] = self.find(self.parents[x])\n",
    "            return self.parents[x]\n",
    "\n",
    "    # 要素xが属するグループと要素yが属するグループとを併合する\n",
    "    def union(self, x, y):\n",
    "        x = self.find(x)\n",
    "        y = self.find(y)\n",
    "\n",
    "        if x == y:\n",
    "            return\n",
    "\n",
    "        if self.parents[x] > self.parents[y]:\n",
    "            x, y = y, x\n",
    "\n",
    "        self.parents[x] += self.parents[y]\n",
    "        self.parents[y] = x\n",
    "\n",
    "    # 要素xが属するグループのサイズ（要素数）を返す\n",
    "    def size(self, x):\n",
    "        return -self.parents[self.find(x)]\n",
    "\n",
    "    # 要素x, yが同じグループに属するかどうかを返す\n",
    "    def same(self, x, y):\n",
    "        return self.find(x) == self.find(y)\n",
    "\n",
    "    # 要素xが属するグループに属する要素をリストで返す\n",
    "    def members(self, x):\n",
    "        root = self.find(x)\n",
    "        return [i for i in range(self.n) if self.find(i) == root]\n",
    "\n",
    "    # すべての根の要素をリストで返す\n",
    "    def roots(self):\n",
    "        return [i for i, x in enumerate(self.parents) if x < 0]\n",
    "    \n",
    "    # グループの数を返す\n",
    "    def group_count(self):\n",
    "        return len(self.roots())\n",
    "\n",
    "N, M = map(int, input().split())\n",
    "lst = [list(map(lambda x: int(x)-1, input().split())) for _ in range(M)]\n",
    "ans = 0\n",
    "for bit in product([0,1], repeat=N):\n",
    "    uf = UnionFind(2*N)\n",
    "    for a,b in lst:\n",
    "        if bit[a] == 0 and bit[b] == 0:\n",
    "            break\n",
    "        elif bit[a] == 1 and bit[b] == 1:\n",
    "            uf.union(a,b+N)\n",
    "            uf.union(b,a+N)\n",
    "    else:\n",
    "        for i in range(N):\n",
    "            if uf.same(i, i+N):\n",
    "                break\n",
    "        else:\n",
    "            ans += 2**(uf.group_count()//2 - (N-sum(bit)))\n",
    "\n",
    "print(ans)"
   ]
  }
 ],
 "metadata": {
  "kernelspec": {
   "display_name": "Python 3",
   "language": "python",
   "name": "python3"
  },
  "language_info": {
   "codemirror_mode": {
    "name": "ipython",
    "version": 3
   },
   "file_extension": ".py",
   "mimetype": "text/x-python",
   "name": "python",
   "nbconvert_exporter": "python",
   "pygments_lexer": "ipython3",
   "version": "3.6.5"
  },
  "toc": {
   "base_numbering": 1,
   "nav_menu": {},
   "number_sections": true,
   "sideBar": true,
   "skip_h1_title": false,
   "title_cell": "Table of Contents",
   "title_sidebar": "Contents",
   "toc_cell": false,
   "toc_position": {},
   "toc_section_display": true,
   "toc_window_display": false
  }
 },
 "nbformat": 4,
 "nbformat_minor": 4
}

{
 "cells": [
  {
   "cell_type": "markdown",
   "metadata": {},
   "source": [
    "# A問題"
   ]
  },
  {
   "cell_type": "code",
   "execution_count": 3,
   "metadata": {},
   "outputs": [
    {
     "name": "stdout",
     "output_type": "stream",
     "text": [
      "No\n"
     ]
    }
   ],
   "source": [
    "M, H = map(int ,input().split())\n",
    "if H%M == 0:\n",
    "    ans = \"Yes\"\n",
    "else:\n",
    "    ans = \"No\"\n",
    "print(ans)"
   ]
  },
  {
   "cell_type": "markdown",
   "metadata": {},
   "source": [
    "# B問題"
   ]
  },
  {
   "cell_type": "code",
   "execution_count": 50,
   "metadata": {},
   "outputs": [
    {
     "name": "stdout",
     "output_type": "stream",
     "text": [
      "14 16\n"
     ]
    }
   ],
   "source": [
    "A, B, W = map(int, input().split())\n",
    "W *= 1000\n",
    "\n",
    "lst = []\n",
    "for i in range(1,W//A+1):\n",
    "    if W-A*i <= (B-A)*i:\n",
    "        lst.append(i)\n",
    "\n",
    "if len(lst) == 0:\n",
    "    print(\"UNSATISFIABLE\")\n",
    "else:\n",
    "    lst = sorted(lst)\n",
    "    ans = [lst[0], lst[-1]]\n",
    "    print(*ans)"
   ]
  },
  {
   "cell_type": "markdown",
   "metadata": {},
   "source": [
    "# C問題"
   ]
  },
  {
   "cell_type": "code",
   "execution_count": 36,
   "metadata": {},
   "outputs": [
    {
     "name": "stdout",
     "output_type": "stream",
     "text": [
      "107730272137364\n"
     ]
    }
   ],
   "source": [
    "N = int(input())\n",
    "\n",
    "l = len(str(N))\n",
    "ans = 0\n",
    "\n",
    "if 4 <= l:\n",
    "    ans += max(N - 999, 0)\n",
    "if 7 <= l:\n",
    "    ans += max((N - 999999), 0)\n",
    "if 10 <= l:\n",
    "    ans += max((N - 999999999), 0)\n",
    "if 13 <= l:\n",
    "    ans += max((N - 999999999999), 0)\n",
    "if l == 16:\n",
    "    ans += 1\n",
    "\n",
    "\n",
    "\n",
    "\n",
    "# if 4 <= l:\n",
    "#     ans += min(N - 999, 10**6-10**3)\n",
    "# if 7 <= l:\n",
    "#     ans += min((N - 999999), 10**9-10**6)\n",
    "# if 10 <= l:\n",
    "#     ans += min((N - 999999999), 10**12-10**9)\n",
    "# if 13 <= l:\n",
    "#     ans += min((N - 999999999999), 10**15-10**12)\n",
    "# if l == 16:\n",
    "#     ans += 5\n",
    "    \n",
    "print(ans)"
   ]
  }
 ],
 "metadata": {
  "kernelspec": {
   "display_name": "Python 3",
   "language": "python",
   "name": "python3"
  },
  "language_info": {
   "codemirror_mode": {
    "name": "ipython",
    "version": 3
   },
   "file_extension": ".py",
   "mimetype": "text/x-python",
   "name": "python",
   "nbconvert_exporter": "python",
   "pygments_lexer": "ipython3",
   "version": "3.6.5"
  },
  "toc": {
   "base_numbering": 1,
   "nav_menu": {},
   "number_sections": true,
   "sideBar": true,
   "skip_h1_title": false,
   "title_cell": "Table of Contents",
   "title_sidebar": "Contents",
   "toc_cell": false,
   "toc_position": {},
   "toc_section_display": true,
   "toc_window_display": false
  }
 },
 "nbformat": 4,
 "nbformat_minor": 4
}

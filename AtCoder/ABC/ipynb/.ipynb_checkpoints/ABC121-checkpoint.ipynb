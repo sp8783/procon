{
 "cells": [
  {
   "cell_type": "markdown",
   "metadata": {},
   "source": [
    "# A問題"
   ]
  },
  {
   "cell_type": "code",
   "execution_count": 1,
   "metadata": {},
   "outputs": [
    {
     "name": "stdin",
     "output_type": "stream",
     "text": [
      " 3 2\n",
      " 2 1\n"
     ]
    },
    {
     "name": "stdout",
     "output_type": "stream",
     "text": [
      "1\n"
     ]
    }
   ],
   "source": [
    "H, W = map(int, input().split())\n",
    "h, w = map(int, input().split())\n",
    "\n",
    "ans = (H-h)*(W-w)\n",
    "print(ans)"
   ]
  },
  {
   "cell_type": "markdown",
   "metadata": {},
   "source": [
    "# B問題"
   ]
  },
  {
   "cell_type": "code",
   "execution_count": 2,
   "metadata": {},
   "outputs": [
    {
     "name": "stdin",
     "output_type": "stream",
     "text": [
      " 2 3 -10\n",
      " 1 2 3\n",
      " 3 2 1\n",
      " 1 2 2\n"
     ]
    },
    {
     "name": "stdout",
     "output_type": "stream",
     "text": [
      "1\n"
     ]
    }
   ],
   "source": [
    "N, M, C = map(int, input().split())\n",
    "\n",
    "B = list(map(int, input().split()))\n",
    "ans = 0\n",
    "\n",
    "for _ in range(N):\n",
    "    A = list(map(int, input().split()))\n",
    "    tot = C\n",
    "    for a,b in zip(A,B):\n",
    "        tot += a*b\n",
    "    if tot > 0:\n",
    "        ans += 1\n",
    "\n",
    "print(ans)"
   ]
  },
  {
   "cell_type": "markdown",
   "metadata": {},
   "source": [
    "# C問題"
   ]
  },
  {
   "cell_type": "code",
   "execution_count": 6,
   "metadata": {},
   "outputs": [
    {
     "name": "stdout",
     "output_type": "stream",
     "text": [
      "100000000000000\n"
     ]
    }
   ],
   "source": [
    "N, M = map(int, input().split())\n",
    "lst = [list(map(int, input().split())) for _ in range(N)]\n",
    "\n",
    "lst = sorted(lst, key=lambda x: x[0])\n",
    "m = M\n",
    "ans = 0\n",
    "for a, b in lst:\n",
    "    ans += a*min(b, m)\n",
    "    m -= b\n",
    "    if m <= 0:\n",
    "        break\n",
    "\n",
    "print(ans)"
   ]
  },
  {
   "cell_type": "markdown",
   "metadata": {},
   "source": [
    "# D問題"
   ]
  },
  {
   "cell_type": "code",
   "execution_count": 13,
   "metadata": {},
   "outputs": [
    {
     "name": "stdout",
     "output_type": "stream",
     "text": [
      "435\n"
     ]
    }
   ],
   "source": [
    "A, B = map(int, input().split())\n",
    "\n",
    "def func(n):\n",
    "    if (n+1)%4 == 0:\n",
    "        return 0\n",
    "    elif (n+1)%4 == 1:\n",
    "        return n\n",
    "    elif (n+1)%4 == 2:\n",
    "        return 1\n",
    "    else:\n",
    "        return n+1\n",
    "    \n",
    "ans = func(B) ^ func(A-1)\n",
    "print(ans)"
   ]
  }
 ],
 "metadata": {
  "kernelspec": {
   "display_name": "Python 3",
   "language": "python",
   "name": "python3"
  },
  "language_info": {
   "codemirror_mode": {
    "name": "ipython",
    "version": 3
   },
   "file_extension": ".py",
   "mimetype": "text/x-python",
   "name": "python",
   "nbconvert_exporter": "python",
   "pygments_lexer": "ipython3",
   "version": "3.6.5"
  },
  "toc": {
   "base_numbering": 1,
   "nav_menu": {},
   "number_sections": true,
   "sideBar": true,
   "skip_h1_title": false,
   "title_cell": "Table of Contents",
   "title_sidebar": "Contents",
   "toc_cell": false,
   "toc_position": {},
   "toc_section_display": true,
   "toc_window_display": false
  }
 },
 "nbformat": 4,
 "nbformat_minor": 4
}

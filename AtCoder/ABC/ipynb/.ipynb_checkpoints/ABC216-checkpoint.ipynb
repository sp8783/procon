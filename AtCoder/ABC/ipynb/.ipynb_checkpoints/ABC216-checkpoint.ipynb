{
 "cells": [
  {
   "cell_type": "markdown",
   "metadata": {},
   "source": [
    "# A問題"
   ]
  },
  {
   "cell_type": "code",
   "execution_count": 8,
   "metadata": {},
   "outputs": [
    {
     "name": "stdin",
     "output_type": "stream",
     "text": [
      " 1.0\n"
     ]
    },
    {
     "name": "stdout",
     "output_type": "stream",
     "text": [
      "1-\n"
     ]
    }
   ],
   "source": [
    "a = input()\n",
    "X = a[:-2]\n",
    "Y = int(a[-1])\n",
    "\n",
    "if 0<=Y<=2:\n",
    "    ans = X + \"-\"\n",
    "elif 7<=Y<=9:\n",
    "    ans = X + \"+\"\n",
    "else:\n",
    "    ans = X\n",
    "\n",
    "print(ans)"
   ]
  },
  {
   "cell_type": "markdown",
   "metadata": {},
   "source": [
    "# B問題"
   ]
  },
  {
   "cell_type": "code",
   "execution_count": 9,
   "metadata": {},
   "outputs": [
    {
     "name": "stdin",
     "output_type": "stream",
     "text": [
      " 3\n",
      " tanaka taro\n",
      " sato hanako\n",
      " tanaka taro\n"
     ]
    },
    {
     "name": "stdout",
     "output_type": "stream",
     "text": [
      "Yes\n"
     ]
    }
   ],
   "source": [
    "N = int(input())\n",
    "S = set()\n",
    "for i in range(N):\n",
    "    s, t = input().split()\n",
    "    S.add(s+\" \"+t)\n",
    "\n",
    "if len(S) == N:\n",
    "    ans = \"No\"\n",
    "else:\n",
    "    ans = \"Yes\"\n",
    "print(ans)"
   ]
  },
  {
   "cell_type": "markdown",
   "metadata": {},
   "source": [
    "# C問題"
   ]
  },
  {
   "cell_type": "code",
   "execution_count": 11,
   "metadata": {},
   "outputs": [
    {
     "name": "stdin",
     "output_type": "stream",
     "text": [
      " 14\n"
     ]
    },
    {
     "name": "stdout",
     "output_type": "stream",
     "text": [
      "ABABAB\n"
     ]
    }
   ],
   "source": [
    "N = int(input())\n",
    "ans = \"\"\n",
    "\n",
    "while N > 0:\n",
    "    if N%2 == 0:\n",
    "        N //= 2\n",
    "        ans = \"B\"+ans\n",
    "    else:\n",
    "        N -= 1\n",
    "        ans = \"A\"+ans\n",
    "\n",
    "print(ans)"
   ]
  }
 ],
 "metadata": {
  "kernelspec": {
   "display_name": "Python 3",
   "language": "python",
   "name": "python3"
  },
  "language_info": {
   "codemirror_mode": {
    "name": "ipython",
    "version": 3
   },
   "file_extension": ".py",
   "mimetype": "text/x-python",
   "name": "python",
   "nbconvert_exporter": "python",
   "pygments_lexer": "ipython3",
   "version": "3.6.5"
  },
  "toc": {
   "base_numbering": 1,
   "nav_menu": {},
   "number_sections": true,
   "sideBar": true,
   "skip_h1_title": false,
   "title_cell": "Table of Contents",
   "title_sidebar": "Contents",
   "toc_cell": false,
   "toc_position": {},
   "toc_section_display": true,
   "toc_window_display": false
  }
 },
 "nbformat": 4,
 "nbformat_minor": 4
}

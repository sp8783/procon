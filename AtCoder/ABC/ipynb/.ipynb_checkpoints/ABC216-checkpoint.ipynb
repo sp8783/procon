{
 "cells": [
  {
   "cell_type": "markdown",
   "metadata": {},
   "source": [
    "# A問題"
   ]
  },
  {
   "cell_type": "code",
   "execution_count": 8,
   "metadata": {},
   "outputs": [
    {
     "name": "stdin",
     "output_type": "stream",
     "text": [
      " 1.0\n"
     ]
    },
    {
     "name": "stdout",
     "output_type": "stream",
     "text": [
      "1-\n"
     ]
    }
   ],
   "source": [
    "a = input()\n",
    "X = a[:-2]\n",
    "Y = int(a[-1])\n",
    "\n",
    "if 0<=Y<=2:\n",
    "    ans = X + \"-\"\n",
    "elif 7<=Y<=9:\n",
    "    ans = X + \"+\"\n",
    "else:\n",
    "    ans = X\n",
    "\n",
    "print(ans)"
   ]
  },
  {
   "cell_type": "markdown",
   "metadata": {},
   "source": [
    "# B問題"
   ]
  },
  {
   "cell_type": "code",
   "execution_count": 9,
   "metadata": {},
   "outputs": [
    {
     "name": "stdin",
     "output_type": "stream",
     "text": [
      " 3\n",
      " tanaka taro\n",
      " sato hanako\n",
      " tanaka taro\n"
     ]
    },
    {
     "name": "stdout",
     "output_type": "stream",
     "text": [
      "Yes\n"
     ]
    }
   ],
   "source": [
    "N = int(input())\n",
    "S = set()\n",
    "for i in range(N):\n",
    "    s, t = input().split()\n",
    "    S.add(s+\" \"+t)\n",
    "\n",
    "if len(S) == N:\n",
    "    ans = \"No\"\n",
    "else:\n",
    "    ans = \"Yes\"\n",
    "print(ans)"
   ]
  },
  {
   "cell_type": "markdown",
   "metadata": {},
   "source": [
    "# C問題"
   ]
  },
  {
   "cell_type": "code",
   "execution_count": 12,
   "metadata": {},
   "outputs": [
    {
     "name": "stdin",
     "output_type": "stream",
     "text": [
      " 10\n"
     ]
    },
    {
     "name": "stdout",
     "output_type": "stream",
     "text": [
      "ABBAB\n"
     ]
    }
   ],
   "source": [
    "N = int(input())\n",
    "ans = \"\"\n",
    "\n",
    "while N > 0:\n",
    "    if N%2 == 0:\n",
    "        N //= 2\n",
    "        ans = \"B\"+ans\n",
    "    else:\n",
    "        N -= 1\n",
    "        ans = \"A\"+ans\n",
    "\n",
    "print(ans)"
   ]
  },
  {
   "cell_type": "markdown",
   "metadata": {},
   "source": [
    "# D問題"
   ]
  },
  {
   "cell_type": "code",
   "execution_count": 1,
   "metadata": {},
   "outputs": [
    {
     "name": "stdin",
     "output_type": "stream",
     "text": [
      " 2 2\n",
      " 2\n",
      " 1 2\n",
      " 2\n",
      " 1 2\n"
     ]
    },
    {
     "name": "stdout",
     "output_type": "stream",
     "text": [
      "Yes\n"
     ]
    }
   ],
   "source": [
    "from collections import deque\n",
    "\n",
    "n, m = map(int, input().split())\n",
    "\n",
    "t, q, a, b = [], deque(), [[] for _ in range(n)], 0\n",
    "\n",
    "for i in range(m):\n",
    "    k = int(input())\n",
    "    qq = deque(map(lambda s: int(s) - 1, input().split()))\n",
    "    t.append(qq)\n",
    "    a[qq[0]].append(i)\n",
    "    if len(a[qq[0]]) == 2:\n",
    "        q.append(qq[0])\n",
    "\n",
    "while q:\n",
    "    x = q.popleft()\n",
    "    b += 1\n",
    "    for i in a[x]:\n",
    "        c = t[i]\n",
    "        c.popleft()\n",
    "        if len(c) >= 1:\n",
    "            a[c[0]].append(i)\n",
    "            if len(a[c[0]]) == 2:\n",
    "                q.append(c[0])\n",
    "\n",
    "if b == n:\n",
    "    print(\"Yes\")\n",
    "else:\n",
    "    print(\"No\")\n"
   ]
  },
  {
   "cell_type": "markdown",
   "metadata": {},
   "source": [
    "# E問題"
   ]
  },
  {
   "cell_type": "code",
   "execution_count": 6,
   "metadata": {},
   "outputs": [
    {
     "name": "stdin",
     "output_type": "stream",
     "text": [
      " 2 2021\n",
      " 2 3\n"
     ]
    },
    {
     "name": "stdout",
     "output_type": "stream",
     "text": [
      "[3, 2020]\n",
      "[9, 2016]\n",
      "9\n"
     ]
    }
   ],
   "source": [
    "from collections import deque\n",
    "\n",
    "N, K = map(int, input().split())\n",
    "A = list(map(int, input().split()))\n",
    "\n",
    "A = sorted(A)[::-1] + [0]\n",
    "ans = 0\n",
    "cnt = K\n",
    "\n",
    "for i in range(N):\n",
    "    n = (A[i]-A[i+1])\n",
    "    if cnt - n*(i+1) >= 0:\n",
    "        cnt -= n*(i+1)\n",
    "        ans += n*(2*A[i] - n + 1)*(i + 1)//2\n",
    "#         print([ans, cnt])\n",
    "    else:\n",
    "        n1 = cnt//(i+1)\n",
    "        n2 = cnt%(i+1)\n",
    "        ans += n1*(2*A[i] - n1 + 1)*(i + 1)//2 + (A[i]-n1)*n2\n",
    "        cnt = 0\n",
    "#         print([ans, cnt])\n",
    "        break\n",
    "\n",
    "print(ans)"
   ]
  }
 ],
 "metadata": {
  "kernelspec": {
   "display_name": "Python 3",
   "language": "python",
   "name": "python3"
  },
  "language_info": {
   "codemirror_mode": {
    "name": "ipython",
    "version": 3
   },
   "file_extension": ".py",
   "mimetype": "text/x-python",
   "name": "python",
   "nbconvert_exporter": "python",
   "pygments_lexer": "ipython3",
   "version": "3.6.5"
  },
  "toc": {
   "base_numbering": 1,
   "nav_menu": {},
   "number_sections": true,
   "sideBar": true,
   "skip_h1_title": false,
   "title_cell": "Table of Contents",
   "title_sidebar": "Contents",
   "toc_cell": false,
   "toc_position": {},
   "toc_section_display": true,
   "toc_window_display": false
  }
 },
 "nbformat": 4,
 "nbformat_minor": 4
}

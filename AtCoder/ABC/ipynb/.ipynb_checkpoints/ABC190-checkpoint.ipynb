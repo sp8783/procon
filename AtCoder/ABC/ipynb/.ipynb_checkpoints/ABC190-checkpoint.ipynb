{
 "cells": [
  {
   "cell_type": "markdown",
   "metadata": {},
   "source": [
    "# A問題"
   ]
  },
  {
   "cell_type": "code",
   "execution_count": 3,
   "metadata": {},
   "outputs": [
    {
     "name": "stdin",
     "output_type": "stream",
     "text": [
      " 2 2 1\n"
     ]
    },
    {
     "name": "stdout",
     "output_type": "stream",
     "text": [
      "Takahashi\n"
     ]
    }
   ],
   "source": [
    "A, B, C = map(int, input().split())\n",
    "\n",
    "if A > B or (A == B and C == 1):\n",
    "    ans = \"Takahashi\"\n",
    "elif A < B or (A == B and C == 0):\n",
    "    ans = \"Aoki\"\n",
    "\n",
    "print(ans)"
   ]
  },
  {
   "cell_type": "markdown",
   "metadata": {},
   "source": [
    "# B問題"
   ]
  },
  {
   "cell_type": "code",
   "execution_count": 5,
   "metadata": {},
   "outputs": [
    {
     "name": "stdin",
     "output_type": "stream",
     "text": [
      " 3 691 273\n",
      " 691 997\n",
      " 593 273\n",
      " 691 273\n"
     ]
    },
    {
     "name": "stdout",
     "output_type": "stream",
     "text": [
      "No\n"
     ]
    }
   ],
   "source": [
    "N, S, D = map(int, input().split())\n",
    "lst = [list(map(int, input().split())) for _ in range(N)]\n",
    "\n",
    "ans = \"No\"\n",
    "for s, d in lst:\n",
    "    if s < S and d > D:\n",
    "        ans = \"Yes\"\n",
    "        break\n",
    "\n",
    "print(ans)"
   ]
  },
  {
   "cell_type": "markdown",
   "metadata": {},
   "source": [
    "# C問題"
   ]
  },
  {
   "cell_type": "code",
   "execution_count": 8,
   "metadata": {},
   "outputs": [
    {
     "name": "stdin",
     "output_type": "stream",
     "text": [
      " 4 4\n",
      " 1 2\n",
      " 1 3\n",
      " 2 4\n",
      " 3 4\n",
      " 4\n",
      " 3 4\n",
      " 1 2\n",
      " 2 4\n",
      " 2 4\n"
     ]
    },
    {
     "name": "stdout",
     "output_type": "stream",
     "text": [
      "4\n"
     ]
    }
   ],
   "source": [
    "N, M = map(int, input().split())\n",
    "AB = [list(map(int, input().split())) for _ in range(M)]\n",
    "K = int(input())\n",
    "CD = [list(map(int, input().split())) for _ in range(K)]\n",
    "\n",
    "ans = 0\n",
    "for i in range(2**K):\n",
    "    dish = [0]*N\n",
    "    cnt = 0\n",
    "    for j in range(K):\n",
    "        if i >> j & 1:\n",
    "            dish[CD[j][0]-1] += 1\n",
    "        else:\n",
    "            dish[CD[j][1]-1] += 1\n",
    "    \n",
    "    for a, b in AB:\n",
    "        a -= 1\n",
    "        b -= 1\n",
    "        if dish[a] >= 1 and dish[b] >= 1:\n",
    "            cnt += 1\n",
    "    \n",
    "    ans = max(cnt, ans)\n",
    "    \n",
    "print(ans)"
   ]
  },
  {
   "cell_type": "markdown",
   "metadata": {},
   "source": [
    "# D問題"
   ]
  },
  {
   "cell_type": "code",
   "execution_count": 13,
   "metadata": {},
   "outputs": [
    {
     "name": "stdin",
     "output_type": "stream",
     "text": [
      " 963761198400\n"
     ]
    },
    {
     "name": "stdout",
     "output_type": "stream",
     "text": [
      "1920\n"
     ]
    }
   ],
   "source": [
    "N = int(input())\n",
    "\n",
    "def divisor(n): \n",
    "    i = 1\n",
    "    table = []\n",
    "    while i * i <= n:\n",
    "        if n%i == 0:\n",
    "            table.append(i)\n",
    "            table.append(n//i)\n",
    "        i += 1\n",
    "    table = list(set(table))\n",
    "    return table\n",
    "\n",
    "divisor_lst = divisor(2*N)\n",
    "ans = 0\n",
    "for n in divisor_lst:\n",
    "    if (2*N - n**2 + n) % (2*n) == 0:\n",
    "        ans += 1\n",
    "        \n",
    "print(ans)"
   ]
  },
  {
   "cell_type": "markdown",
   "metadata": {},
   "source": [
    "# E問題"
   ]
  },
  {
   "cell_type": "markdown",
   "metadata": {},
   "source": [
    "# F問題"
   ]
  },
  {
   "cell_type": "code",
   "execution_count": 35,
   "metadata": {},
   "outputs": [
    {
     "name": "stdin",
     "output_type": "stream",
     "text": [
      " 10\n",
      " 0 3 1 5 4 2 9 6 8 7\n"
     ]
    },
    {
     "name": "stdout",
     "output_type": "stream",
     "text": [
      "9\n",
      "18\n",
      "21\n",
      "28\n",
      "27\n",
      "28\n",
      "33\n",
      "24\n",
      "21\n",
      "14\n"
     ]
    }
   ],
   "source": [
    "class Bit:\n",
    "    def __init__(self, n):\n",
    "        self.size = n\n",
    "        self.tree = [0]*(n+1)\n",
    "\n",
    "    def __iter__(self):\n",
    "        psum = 0\n",
    "        for i in range(self.size):\n",
    "            csum = self.sum(i+1)\n",
    "            yield csum - psum\n",
    "            psum = csum\n",
    "        raise StopIteration()\n",
    "\n",
    "    def __str__(self):  # O(nlogn)\n",
    "        return str(list(self))\n",
    "\n",
    "    def sum(self, i):\n",
    "        # [0, i) の要素の総和を返す\n",
    "        if not (0 <= i <= self.size): raise ValueError(\"error!\")\n",
    "        s = 0\n",
    "        while i>0:\n",
    "            s += self.tree[i]\n",
    "            i -= i & -i\n",
    "        return s\n",
    "\n",
    "    def add(self, i, x):\n",
    "        if not (0 <= i < self.size): raise ValueError(\"error!\")\n",
    "        i += 1\n",
    "        while i <= self.size:\n",
    "            self.tree[i] += x\n",
    "            i += i & -i\n",
    "\n",
    "    def __getitem__(self, key):\n",
    "        if not (0 <= key < self.size): raise IndexError(\"error!\")\n",
    "        return self.sum(key+1) - self.sum(key)\n",
    "\n",
    "    def __setitem__(self, key, value):\n",
    "        # 足し算と引き算にはaddを使うべき\n",
    "        if not (0 <= key < self.size): raise IndexError(\"error!\")\n",
    "        self.add(key, value - self[key])\n",
    "        \n",
    "        \n",
    "\n",
    "N = int(input())\n",
    "A = list(map(int, input().split()))\n",
    "\n",
    "bit = Bit(max(A)+1)\n",
    "ans = 0\n",
    "for i, a in enumerate(A):\n",
    "    ans += i - bit.sum(a+1)\n",
    "    bit.add(a, 1)\n",
    "\n",
    "for i in range(N):\n",
    "    if i == 0:\n",
    "        print(ans)\n",
    "    else:\n",
    "        ans += N - 1 - 2*A[i-1]\n",
    "        print(ans)"
   ]
  },
  {
   "cell_type": "code",
   "execution_count": null,
   "metadata": {},
   "outputs": [],
   "source": []
  }
 ],
 "metadata": {
  "kernelspec": {
   "display_name": "Python 3",
   "language": "python",
   "name": "python3"
  },
  "language_info": {
   "codemirror_mode": {
    "name": "ipython",
    "version": 3
   },
   "file_extension": ".py",
   "mimetype": "text/x-python",
   "name": "python",
   "nbconvert_exporter": "python",
   "pygments_lexer": "ipython3",
   "version": "3.6.5"
  },
  "toc": {
   "base_numbering": 1,
   "nav_menu": {},
   "number_sections": true,
   "sideBar": true,
   "skip_h1_title": false,
   "title_cell": "Table of Contents",
   "title_sidebar": "Contents",
   "toc_cell": false,
   "toc_position": {},
   "toc_section_display": true,
   "toc_window_display": false
  }
 },
 "nbformat": 4,
 "nbformat_minor": 4
}

{
 "cells": [
  {
   "cell_type": "markdown",
   "metadata": {},
   "source": [
    "# A問題"
   ]
  },
  {
   "cell_type": "code",
   "execution_count": 3,
   "metadata": {},
   "outputs": [
    {
     "name": "stdout",
     "output_type": "stream",
     "text": [
      "a\n",
      "aa\n",
      "Yes\n"
     ]
    }
   ],
   "source": [
    "s = input()\n",
    "t = input()\n",
    "\n",
    "s = s + t[-1]\n",
    "\n",
    "if s == t:\n",
    "    ans = \"Yes\"\n",
    "else:\n",
    "    ans = \"No\"\n",
    "\n",
    "print(ans)"
   ]
  },
  {
   "cell_type": "markdown",
   "metadata": {},
   "source": [
    "# B問題"
   ]
  },
  {
   "cell_type": "code",
   "execution_count": null,
   "metadata": {},
   "outputs": [],
   "source": [
    "a,b,c,k =map(int,input().split())\n",
    "\n",
    "if(a>=k):\n",
    "    print(k)\n",
    "elif(a+b>=k):\n",
    "    print(a)\n",
    "else:\n",
    "    print(a+(-1)*(k-(a+b)))"
   ]
  },
  {
   "cell_type": "markdown",
   "metadata": {},
   "source": [
    "# C問題"
   ]
  },
  {
   "cell_type": "code",
   "execution_count": 11,
   "metadata": {},
   "outputs": [
    {
     "name": "stdout",
     "output_type": "stream",
     "text": [
      "8 5 22\n",
      "100 3 7 5 3 1\n",
      "164 4 5 2 7 8\n",
      "334 7 2 7 2 9\n",
      "234 4 7 2 8 2\n",
      "541 5 4 3 3 6\n",
      "235 4 8 6 9 7\n",
      "394 3 6 1 6 2\n",
      "872 8 4 3 7 2\n",
      "1067\n"
     ]
    }
   ],
   "source": [
    "import math\n",
    "\n",
    "n,m,x =map(int,input().split())\n",
    "lst = [list(map(int,input().split())) for i in range(n)]\n",
    "\n",
    "com = [0]*(m+1)\n",
    "for i in range(n):\n",
    "    com = [x+y for (x,y) in zip(com,lst[i])]\n",
    "\n",
    "if min(com[1:]) < x:\n",
    "    ans = -1\n",
    "else:\n",
    "    ans = com[0]\n",
    "    for i in range(2 ** n):\n",
    "        tmp_lst = [0]*(m+1)\n",
    "        for j in range(n):\n",
    "            if ((i >> j) & 1):\n",
    "                tmp_lst = [x+y for (x,y) in zip(tmp_lst,lst[j])]\n",
    "        if tmp_lst[0] <= ans and min(tmp_lst[1:]) >= x:\n",
    "            ans = tmp_lst[0]\n",
    "\n",
    "print(ans)"
   ]
  },
  {
   "cell_type": "markdown",
   "metadata": {},
   "source": [
    "# D問題"
   ]
  },
  {
   "cell_type": "code",
   "execution_count": 14,
   "metadata": {},
   "outputs": [
    {
     "name": "stdin",
     "output_type": "stream",
     "text": [
      " 6 727202214173249351\n",
      " 6 5 2 5 3 2\n"
     ]
    },
    {
     "name": "stdout",
     "output_type": "stream",
     "text": [
      "2\n"
     ]
    }
   ],
   "source": [
    "import math\n",
    "\n",
    "N, K = map(int, input().split())\n",
    "A = list(map(int, input().split()))\n",
    "\n",
    "key = list(range(1,N+1))\n",
    "dic = dict(zip(key, A))\n",
    "\n",
    "p = 1\n",
    "if N >= K:\n",
    "    for _ in range(K):\n",
    "        p = dic[p]\n",
    "    ans = p\n",
    "else:\n",
    "    S = set([1])\n",
    "    L = len(S)\n",
    "    cnt = 0\n",
    "    for i in range(N):\n",
    "        p = dic[p]\n",
    "        S.add(p)\n",
    "        if L == len(S):\n",
    "            P = p\n",
    "            K -= i+1\n",
    "            break\n",
    "        else:\n",
    "            L = len(S)\n",
    "    for i in range(N):\n",
    "        p = dic[p]\n",
    "        cnt += 1\n",
    "        if p == P:\n",
    "            break\n",
    "    k = K%cnt\n",
    "    for _ in range(k):\n",
    "        p = dic[p]\n",
    "    ans = p\n",
    "\n",
    "print(ans)"
   ]
  }
 ],
 "metadata": {
  "kernelspec": {
   "display_name": "Python 3",
   "language": "python",
   "name": "python3"
  },
  "language_info": {
   "codemirror_mode": {
    "name": "ipython",
    "version": 3
   },
   "file_extension": ".py",
   "mimetype": "text/x-python",
   "name": "python",
   "nbconvert_exporter": "python",
   "pygments_lexer": "ipython3",
   "version": "3.6.5"
  },
  "toc": {
   "base_numbering": 1,
   "nav_menu": {},
   "number_sections": true,
   "sideBar": true,
   "skip_h1_title": false,
   "title_cell": "Table of Contents",
   "title_sidebar": "Contents",
   "toc_cell": false,
   "toc_position": {},
   "toc_section_display": true,
   "toc_window_display": false
  }
 },
 "nbformat": 4,
 "nbformat_minor": 4
}

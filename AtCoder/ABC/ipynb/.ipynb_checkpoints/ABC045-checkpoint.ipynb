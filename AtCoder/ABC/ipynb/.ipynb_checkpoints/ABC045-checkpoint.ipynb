{
 "cells": [
  {
   "cell_type": "markdown",
   "metadata": {},
   "source": [
    "# A問題"
   ]
  },
  {
   "cell_type": "code",
   "execution_count": 3,
   "metadata": {},
   "outputs": [
    {
     "name": "stdin",
     "output_type": "stream",
     "text": [
      " 56 25 31\n"
     ]
    },
    {
     "name": "stdout",
     "output_type": "stream",
     "text": [
      "Yes\n"
     ]
    }
   ],
   "source": [
    "a = int(input())\n",
    "b = int(input())\n",
    "h = int(input())\n",
    "ans = (a+b)*h//2\n",
    "print(ans)"
   ]
  },
  {
   "cell_type": "markdown",
   "metadata": {},
   "source": [
    "# B問題"
   ]
  },
  {
   "cell_type": "code",
   "execution_count": 24,
   "metadata": {},
   "outputs": [
    {
     "name": "stdin",
     "output_type": "stream",
     "text": [
      " aaaa\n",
      " bbbb\n",
      " cccc\n"
     ]
    },
    {
     "name": "stdout",
     "output_type": "stream",
     "text": [
      "A\n"
     ]
    }
   ],
   "source": [
    "s_a = input()\n",
    "s_b = input()\n",
    "s_c = input()\n",
    "player = \"a\"\n",
    "while True:\n",
    "    if player == \"a\":\n",
    "        if len(s_a) == 0:\n",
    "            break\n",
    "        else:\n",
    "            player = s_a[0]\n",
    "        s_a = s_a[1:]\n",
    "    elif player == \"b\":\n",
    "        if len(s_b) == 0:\n",
    "            break\n",
    "        else:\n",
    "            player = s_b[0]\n",
    "            s_b = s_b[1:]\n",
    "    elif player == \"c\":\n",
    "        if len(s_c) == 0:\n",
    "            break\n",
    "        else:\n",
    "            player = s_c[0]\n",
    "            s_c = s_c[1:]\n",
    "            \n",
    "print(player.upper())"
   ]
  },
  {
   "cell_type": "markdown",
   "metadata": {},
   "source": [
    "# C問題"
   ]
  },
  {
   "cell_type": "code",
   "execution_count": 26,
   "metadata": {},
   "outputs": [
    {
     "name": "stdin",
     "output_type": "stream",
     "text": [
      " 125\n"
     ]
    },
    {
     "name": "stdout",
     "output_type": "stream",
     "text": [
      "176\n"
     ]
    }
   ],
   "source": [
    "s = list(input())\n",
    "ans = 0\n",
    "for bit in range(1 << len(s)):\n",
    "    st = 0\n",
    "    temp_ans = 0\n",
    "    num = '0'\n",
    "    for i in range(len(s)):\n",
    "        if bit & 1 << i:\n",
    "            temp_ans += int(num)\n",
    "            num = '0'\n",
    "        else:\n",
    "            num += str(s[i])\n",
    "    temp_ans += int(num)\n",
    "    ans += temp_ans\n",
    "print(ans)"
   ]
  }
 ],
 "metadata": {
  "kernelspec": {
   "display_name": "Python 3",
   "language": "python",
   "name": "python3"
  },
  "language_info": {
   "codemirror_mode": {
    "name": "ipython",
    "version": 3
   },
   "file_extension": ".py",
   "mimetype": "text/x-python",
   "name": "python",
   "nbconvert_exporter": "python",
   "pygments_lexer": "ipython3",
   "version": "3.6.5"
  },
  "toc": {
   "base_numbering": 1,
   "nav_menu": {},
   "number_sections": true,
   "sideBar": true,
   "skip_h1_title": false,
   "title_cell": "Table of Contents",
   "title_sidebar": "Contents",
   "toc_cell": false,
   "toc_position": {},
   "toc_section_display": true,
   "toc_window_display": false
  }
 },
 "nbformat": 4,
 "nbformat_minor": 4
}

{
 "cells": [
  {
   "cell_type": "markdown",
   "metadata": {},
   "source": [
    "# A問題"
   ]
  },
  {
   "cell_type": "code",
   "execution_count": 2,
   "metadata": {},
   "outputs": [
    {
     "name": "stdin",
     "output_type": "stream",
     "text": [
      " 6\n"
     ]
    },
    {
     "name": "stdout",
     "output_type": "stream",
     "text": [
      "35000\n"
     ]
    }
   ],
   "source": [
    "a = int(input())\n",
    "b = int(input())\n",
    "print(a-b)"
   ]
  },
  {
   "cell_type": "markdown",
   "metadata": {},
   "source": [
    "# B問題"
   ]
  },
  {
   "cell_type": "code",
   "execution_count": 5,
   "metadata": {},
   "outputs": [
    {
     "name": "stdin",
     "output_type": "stream",
     "text": [
      " 200\n"
     ]
    },
    {
     "name": "stdout",
     "output_type": "stream",
     "text": [
      "02\n"
     ]
    }
   ],
   "source": [
    "m = int(input())\n",
    "m = m/1000\n",
    "\n",
    "ans = \"00\"\n",
    "\n",
    "if m<0.1:\n",
    "    ans = \"00\"\n",
    "if m>=0.1 and m<=5:\n",
    "    ans = str(m).replace('.','')[:2]\n",
    "if m>=6 and m<=30:\n",
    "    ans = str(int(m + 50))\n",
    "if m>=35 and m<=70:\n",
    "    ans = (m - 30) / 5 + 80\n",
    "    ans = str(int(ans))\n",
    "if m>70:\n",
    "    ans = \"89\"\n",
    "    \n",
    "print(ans)"
   ]
  },
  {
   "cell_type": "markdown",
   "metadata": {},
   "source": [
    "# C問題"
   ]
  },
  {
   "cell_type": "code",
   "execution_count": 7,
   "metadata": {},
   "outputs": [
    {
     "name": "stdin",
     "output_type": "stream",
     "text": [
      " 2750 628\n"
     ]
    },
    {
     "name": "stdout",
     "output_type": "stream",
     "text": [
      "W 5\n"
     ]
    }
   ],
   "source": [
    "from decimal import Decimal, ROUND_HALF_UP, ROUND_HALF_EVEN\n",
    "\n",
    "a,b = map(int,input().split())\n",
    "\n",
    "Dir = \"N\"\n",
    "W = \"\"\n",
    "\n",
    "Dir_list = [\"NNE\",\"NE\",\"ENE\",\"E\",\"ESE\",\"SE\",\"SSE\",\"S\",\"SSW\",\"SW\",\"WSW\",\"W\",\"WNW\",\"NW\",\"NNW\"]\n",
    "for i in range(15):\n",
    "    if 11.25 + i*22.5 <= a/10 and 33.75 + i*22.5 > a/10:\n",
    "        Dir = Dir_list[i]\n",
    "        break\n",
    "\n",
    "\n",
    "b = float(Decimal(str(b/60)).quantize(Decimal('0.1'), rounding=ROUND_HALF_UP))\n",
    "if b >= 0.0 and b <= 0.2:\n",
    "    W = 0\n",
    "if b >= 0.3 and b <= 1.5:\n",
    "    W = 1\n",
    "if b >= 1.6 and b <= 3.3:\n",
    "    W = 2\n",
    "if b >= 3.4 and b <= 5.4:\n",
    "    W = 3\n",
    "if b >= 5.5 and b <= 7.9:\n",
    "    W = 4\n",
    "if b >= 8.0 and b <= 10.7:\n",
    "    W = 5\n",
    "if b >= 10.8 and b <= 13.8:\n",
    "    W = 6\n",
    "if b >= 13.9 and b <= 17.1:\n",
    "    W = 7\n",
    "if b >= 17.2 and b <= 20.7:\n",
    "    W = 8\n",
    "if b >= 20.8 and b <= 24.4:\n",
    "    W = 9\n",
    "if b >= 24.5 and b <= 28.4:\n",
    "    W = 10\n",
    "if b >= 28.5 and b <= 32.6:\n",
    "    W = 11\n",
    "if b >= 32.7:\n",
    "    W = 12\n",
    "    \n",
    "if W == 0:\n",
    "    Dir = \"C\"\n",
    "\n",
    "print(str(Dir) + \" \" + str(W))"
   ]
  }
 ],
 "metadata": {
  "kernelspec": {
   "display_name": "Python 3",
   "language": "python",
   "name": "python3"
  },
  "language_info": {
   "codemirror_mode": {
    "name": "ipython",
    "version": 3
   },
   "file_extension": ".py",
   "mimetype": "text/x-python",
   "name": "python",
   "nbconvert_exporter": "python",
   "pygments_lexer": "ipython3",
   "version": "3.6.5"
  },
  "toc": {
   "base_numbering": 1,
   "nav_menu": {},
   "number_sections": true,
   "sideBar": true,
   "skip_h1_title": false,
   "title_cell": "Table of Contents",
   "title_sidebar": "Contents",
   "toc_cell": false,
   "toc_position": {},
   "toc_section_display": true,
   "toc_window_display": false
  }
 },
 "nbformat": 4,
 "nbformat_minor": 4
}

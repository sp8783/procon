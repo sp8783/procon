{
 "cells": [
  {
   "cell_type": "markdown",
   "metadata": {},
   "source": [
    "# A問題"
   ]
  },
  {
   "cell_type": "code",
   "execution_count": 3,
   "metadata": {},
   "outputs": [
    {
     "name": "stdout",
     "output_type": "stream",
     "text": [
      "1000\n"
     ]
    }
   ],
   "source": [
    "N,A,X,Y = map(int, input().split())\n",
    "\n",
    "if N <= A:\n",
    "    ans = N*X\n",
    "else:\n",
    "    ans = A*X + (N-A)*Y\n",
    "print(ans)"
   ]
  },
  {
   "cell_type": "markdown",
   "metadata": {},
   "source": [
    "# B問題"
   ]
  },
  {
   "cell_type": "code",
   "execution_count": 14,
   "metadata": {},
   "outputs": [
    {
     "name": "stdout",
     "output_type": "stream",
     "text": [
      "Aoki\n"
     ]
    }
   ],
   "source": [
    "N = int(input())\n",
    "S = input()\n",
    "\n",
    "for i in range(N):\n",
    "    if S[i] == \"1\":\n",
    "        if i%2 == 0:\n",
    "            print(\"Takahashi\")\n",
    "            break\n",
    "        else:\n",
    "            print(\"Aoki\")\n",
    "            break"
   ]
  },
  {
   "cell_type": "markdown",
   "metadata": {},
   "source": [
    "# C問題"
   ]
  },
  {
   "cell_type": "code",
   "execution_count": 10,
   "metadata": {},
   "outputs": [
    {
     "name": "stdout",
     "output_type": "stream",
     "text": [
      "4\n"
     ]
    }
   ],
   "source": [
    "N, K = map(int, input().split())\n",
    "C = list(map(int, input().split()))\n",
    "\n",
    "SS = set(C)\n",
    "key = list(SS)\n",
    "value = [0]*(len(SS))\n",
    "dic = dict(zip(key, value))\n",
    "S = set()\n",
    "for i in range(K):\n",
    "    dic[C[i]] += 1\n",
    "    S.add(C[i])\n",
    "\n",
    "ans = len(S)\n",
    "tmp = ans\n",
    "for i in range(K,N):\n",
    "    dic[C[i-K]] -= 1\n",
    "    if dic[C[i-K]] == 0:\n",
    "        tmp -= 1\n",
    "    dic[C[i]] += 1\n",
    "    if dic[C[i]] == 1:\n",
    "        tmp += 1    \n",
    "    ans = max(ans, tmp)\n",
    "\n",
    "print(ans)"
   ]
  }
 ],
 "metadata": {
  "kernelspec": {
   "display_name": "Python 3",
   "language": "python",
   "name": "python3"
  },
  "language_info": {
   "codemirror_mode": {
    "name": "ipython",
    "version": 3
   },
   "file_extension": ".py",
   "mimetype": "text/x-python",
   "name": "python",
   "nbconvert_exporter": "python",
   "pygments_lexer": "ipython3",
   "version": "3.6.5"
  },
  "toc": {
   "base_numbering": 1,
   "nav_menu": {},
   "number_sections": true,
   "sideBar": true,
   "skip_h1_title": false,
   "title_cell": "Table of Contents",
   "title_sidebar": "Contents",
   "toc_cell": false,
   "toc_position": {},
   "toc_section_display": true,
   "toc_window_display": false
  }
 },
 "nbformat": 4,
 "nbformat_minor": 4
}

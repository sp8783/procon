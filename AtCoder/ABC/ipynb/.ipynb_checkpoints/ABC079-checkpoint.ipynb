{
 "cells": [
  {
   "cell_type": "markdown",
   "metadata": {},
   "source": [
    "# A問題"
   ]
  },
  {
   "cell_type": "code",
   "execution_count": 8,
   "metadata": {},
   "outputs": [
    {
     "name": "stdout",
     "output_type": "stream",
     "text": [
      "No\n"
     ]
    }
   ],
   "source": [
    "N = list(input())\n",
    "\n",
    "cnt = 0\n",
    "ans = \"No\"\n",
    "for i in range(len(N)-1):\n",
    "    if N[i] == N[i+1]:\n",
    "        cnt += 1\n",
    "        if cnt == 2:\n",
    "            ans = \"Yes\"\n",
    "            break\n",
    "    else:\n",
    "        cnt = 0\n",
    "\n",
    "print(ans)"
   ]
  },
  {
   "cell_type": "markdown",
   "metadata": {},
   "source": [
    "# B問題"
   ]
  },
  {
   "cell_type": "code",
   "execution_count": 10,
   "metadata": {},
   "outputs": [
    {
     "name": "stdout",
     "output_type": "stream",
     "text": [
      "939587134549734843\n"
     ]
    }
   ],
   "source": [
    "N = int(input())\n",
    "\n",
    "lst = [0]*87\n",
    "lst[0] = 2\n",
    "lst[1] = 1\n",
    "\n",
    "for i in range(2,N+1):\n",
    "    lst[i] = lst[i-2] + lst[i-1]\n",
    "\n",
    "ans = lst[N]\n",
    "print(ans)"
   ]
  },
  {
   "cell_type": "markdown",
   "metadata": {},
   "source": [
    "# C問題"
   ]
  },
  {
   "cell_type": "code",
   "execution_count": 15,
   "metadata": {},
   "outputs": [
    {
     "name": "stdout",
     "output_type": "stream",
     "text": [
      "3+2+4-2=7\n"
     ]
    }
   ],
   "source": [
    "N = list(input())\n",
    "\n",
    "for i in range(2**3):\n",
    "    tot = int(N[0])\n",
    "    lst = []\n",
    "    for j in range(3):\n",
    "        if i >> j & 1:\n",
    "            tot += int(N[j+1])\n",
    "            lst.append(\"+\")\n",
    "        else:\n",
    "            tot -= int(N[j+1])\n",
    "            lst.append(\"-\")\n",
    "    if tot == 7:\n",
    "        break\n",
    "\n",
    "ans = N[0]\n",
    "for i in range(3):\n",
    "    ans += lst[i]\n",
    "    ans += N[i+1]\n",
    "ans += \"=7\"\n",
    "print(ans)"
   ]
  },
  {
   "cell_type": "markdown",
   "metadata": {},
   "source": [
    "# D問題"
   ]
  },
  {
   "cell_type": "code",
   "execution_count": 4,
   "metadata": {},
   "outputs": [
    {
     "name": "stdout",
     "output_type": "stream",
     "text": [
      "47\n"
     ]
    }
   ],
   "source": [
    "H, W = map(int, input().split())\n",
    "\n",
    "dist = [[] for _ in range(10)]\n",
    "for i in range(10):\n",
    "    dist[i] = list(map(int, input().split()))\n",
    "\n",
    "for k in range(10):\n",
    "    for i in range(10):\n",
    "        for j in range(10):\n",
    "            if dist[i][j] > dist[i][k] + dist[k][j]:\n",
    "                dist[i][j] = dist[i][k] + dist[k][j]\n",
    "\n",
    "wall = [list(map(int, input().split())) for _ in range(H)]\n",
    "ans = 0\n",
    "for h in range(H):\n",
    "    for w in range(W):\n",
    "        if wall[h][w] != -1:\n",
    "            ans += dist[wall[h][w]][1]\n",
    "print(ans)"
   ]
  }
 ],
 "metadata": {
  "kernelspec": {
   "display_name": "Python 3",
   "language": "python",
   "name": "python3"
  },
  "language_info": {
   "codemirror_mode": {
    "name": "ipython",
    "version": 3
   },
   "file_extension": ".py",
   "mimetype": "text/x-python",
   "name": "python",
   "nbconvert_exporter": "python",
   "pygments_lexer": "ipython3",
   "version": "3.6.5"
  },
  "toc": {
   "base_numbering": 1,
   "nav_menu": {},
   "number_sections": true,
   "sideBar": true,
   "skip_h1_title": false,
   "title_cell": "Table of Contents",
   "title_sidebar": "Contents",
   "toc_cell": false,
   "toc_position": {},
   "toc_section_display": true,
   "toc_window_display": false
  }
 },
 "nbformat": 4,
 "nbformat_minor": 4
}

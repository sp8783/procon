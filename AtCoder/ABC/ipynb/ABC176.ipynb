{
 "cells": [
  {
   "cell_type": "markdown",
   "metadata": {},
   "source": [
    "# A問題"
   ]
  },
  {
   "cell_type": "code",
   "execution_count": 9,
   "metadata": {},
   "outputs": [
    {
     "name": "stdout",
     "output_type": "stream",
     "text": [
      "20 12 6\n",
      "12\n"
     ]
    }
   ],
   "source": [
    "import math\n",
    "\n",
    "n, x, t = map(int,input().split())\n",
    "\n",
    "print(math.ceil(n/x)*t)"
   ]
  },
  {
   "cell_type": "markdown",
   "metadata": {},
   "source": [
    "# B問題"
   ]
  },
  {
   "cell_type": "code",
   "execution_count": 12,
   "metadata": {},
   "outputs": [
    {
     "name": "stdout",
     "output_type": "stream",
     "text": [
      "31415926535897932384626433832795028841971693993751058209749445923078164062862089986280\n",
      "No\n"
     ]
    }
   ],
   "source": [
    "lst = list(map(int,input().split()))\n",
    "\n",
    "S = sum(lst)\n",
    "\n",
    "if S%9 == 0:\n",
    "    print(\"Yes\")\n",
    "else:\n",
    "    print(\"No\")"
   ]
  },
  {
   "cell_type": "markdown",
   "metadata": {},
   "source": [
    "# C問題"
   ]
  },
  {
   "cell_type": "code",
   "execution_count": 14,
   "metadata": {},
   "outputs": [
    {
     "name": "stdout",
     "output_type": "stream",
     "text": [
      "5\n",
      "3 3 3 3 3\n",
      "0\n"
     ]
    }
   ],
   "source": [
    "n = int(input())\n",
    "lst = list(map(int,input().split()))\n",
    "\n",
    "max_tmp = 0\n",
    "ans = 0\n",
    "\n",
    "for i in range(n):\n",
    "    max_tmp = max(max_tmp, lst[i])\n",
    "    ans = ans + (max_tmp - lst[i])\n",
    "\n",
    "print(ans)"
   ]
  },
  {
   "cell_type": "markdown",
   "metadata": {},
   "source": [
    "# D問題"
   ]
  },
  {
   "cell_type": "code",
   "execution_count": 7,
   "metadata": {},
   "outputs": [
    {
     "name": "stdin",
     "output_type": "stream",
     "text": [
      " 4 4\n",
      " 1 4\n",
      " 4 1\n",
      " .##.\n",
      " ####\n",
      " ####\n",
      " .##.\n"
     ]
    },
    {
     "name": "stdout",
     "output_type": "stream",
     "text": [
      "-1\n"
     ]
    }
   ],
   "source": [
    "from collections import deque\n",
    "\n",
    "h, w = map(int,input().split())\n",
    "Ch, Cw = map(lambda x: int(x) - 1, input().split())\n",
    "Dh, Dw = map(lambda x: int(x) - 1, input().split())\n",
    "S = [list(input()) for _ in range(h)]\n",
    "\n",
    "inf = float(\"inf\")\n",
    "path = [[inf]*w for _ in range(h)]\n",
    "\n",
    "move_A = [(0, 1), (0, -1), (1, 0), (-1, 0)]\n",
    "move_B = [(i, j) for i in range(-2, 3) for j in range(-2, 3) if (i, j) not in [(0, 0)] + move_A]\n",
    "\n",
    "q = deque()\n",
    "path[Ch][Cw] = 0\n",
    "q.append((Ch, Cw, 0))\n",
    "\n",
    "while q:\n",
    "    x, y, s = q.popleft()\n",
    "    for dx, dy in move_A:\n",
    "        nx = x + dx\n",
    "        ny = y + dy\n",
    "        if 0 <= nx < h and 0 <= ny < w and S[nx][ny] == \".\" and path[nx][ny] > s:\n",
    "            path[nx][ny] = s\n",
    "            q.appendleft((nx, ny, s))\n",
    "    for dx, dy in move_B:\n",
    "        nx = x + dx\n",
    "        ny = y + dy\n",
    "        if 0 <= nx < h and 0 <= ny < w and S[nx][ny] == \".\" and path[nx][ny] > s + 1:\n",
    "            path[nx][ny] = s + 1\n",
    "            q.append((nx, ny, s + 1))\n",
    "\n",
    "ans = path[Dh][Dw] if path[Dh][Dw] < inf else '-1'\n",
    "print(ans)"
   ]
  }
 ],
 "metadata": {
  "kernelspec": {
   "display_name": "Python 3",
   "language": "python",
   "name": "python3"
  },
  "language_info": {
   "codemirror_mode": {
    "name": "ipython",
    "version": 3
   },
   "file_extension": ".py",
   "mimetype": "text/x-python",
   "name": "python",
   "nbconvert_exporter": "python",
   "pygments_lexer": "ipython3",
   "version": "3.6.5"
  },
  "toc": {
   "base_numbering": 1,
   "nav_menu": {},
   "number_sections": true,
   "sideBar": true,
   "skip_h1_title": false,
   "title_cell": "Table of Contents",
   "title_sidebar": "Contents",
   "toc_cell": false,
   "toc_position": {},
   "toc_section_display": true,
   "toc_window_display": false
  }
 },
 "nbformat": 4,
 "nbformat_minor": 4
}

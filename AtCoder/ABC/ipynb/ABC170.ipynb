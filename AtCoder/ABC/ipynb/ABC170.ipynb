{
 "cells": [
  {
   "cell_type": "markdown",
   "metadata": {},
   "source": [
    "# A問題"
   ]
  },
  {
   "cell_type": "code",
   "execution_count": 2,
   "metadata": {},
   "outputs": [
    {
     "name": "stdout",
     "output_type": "stream",
     "text": [
      "1 2 0 4 5\n",
      "3\n"
     ]
    }
   ],
   "source": [
    "lst = list(map(int, input().split()))\n",
    "\n",
    "print(list(range(1,6))[lst.index(0)])"
   ]
  },
  {
   "cell_type": "markdown",
   "metadata": {},
   "source": [
    "# B問題"
   ]
  },
  {
   "cell_type": "code",
   "execution_count": 10,
   "metadata": {},
   "outputs": [
    {
     "name": "stdout",
     "output_type": "stream",
     "text": [
      "1 2\n",
      "Yes\n"
     ]
    }
   ],
   "source": [
    "X, Y = map(int,input().split())\n",
    "\n",
    "x = (4*X-Y)/2\n",
    "y = (-2*X+Y)/2\n",
    "\n",
    "if x.is_integer() and y.is_integer() and x>=0 and y>= 0:\n",
    "    ans = \"Yes\"\n",
    "else:\n",
    "    ans = \"No\"\n",
    "\n",
    "print(ans)"
   ]
  },
  {
   "cell_type": "markdown",
   "metadata": {},
   "source": [
    "# C問題"
   ]
  },
  {
   "cell_type": "code",
   "execution_count": 19,
   "metadata": {},
   "outputs": [
    {
     "name": "stdout",
     "output_type": "stream",
     "text": [
      "100 0\n",
      "\n",
      "100\n"
     ]
    }
   ],
   "source": [
    "X,n = map(int, input().split())\n",
    "lst = list(map(int, input().split()))\n",
    "\n",
    "if n == 0:\n",
    "    ans = X\n",
    "else:\n",
    "    lst = list(set(list(range(0,102))) - set(lst))\n",
    "    lst_diff = list(map(lambda x : abs(X - x), lst))\n",
    "    ans = lst[lst_diff.index(min(lst_diff))]\n",
    "    \n",
    "print(ans)"
   ]
  },
  {
   "cell_type": "markdown",
   "metadata": {},
   "source": [
    "# D問題"
   ]
  },
  {
   "cell_type": "code",
   "execution_count": 1,
   "metadata": {},
   "outputs": [],
   "source": [
    "def get_sieve_of_eratosthenes(n):\n",
    "    import math\n",
    "    prime = []\n",
    "    limit = math.sqrt(n)\n",
    "    data = [i + 1 for i in range(1, n)]\n",
    "    while True:\n",
    "        p = data[0]\n",
    "        if limit <= p:\n",
    "            return prime + data\n",
    "        prime.append(p)\n",
    "        data = [e for e in data if e % p != 0]"
   ]
  },
  {
   "cell_type": "code",
   "execution_count": 2,
   "metadata": {},
   "outputs": [
    {
     "name": "stdin",
     "output_type": "stream",
     "text": [
      " 5\n",
      " 24 11 8 3 16\n"
     ]
    },
    {
     "name": "stdout",
     "output_type": "stream",
     "text": [
      "3\n"
     ]
    }
   ],
   "source": [
    "from collections import Counter\n",
    "\n",
    "n = int(input())\n",
    "A = list(map(int,input().split()))\n",
    "\n",
    "B = Counter(A)\n",
    "Key = list(B.keys())\n",
    "Key.sort()\n",
    "M = Key[-1]\n",
    "\n",
    "lst = [1]*(M+1)\n",
    "ans = 0\n",
    "\n",
    "for k in Key:\n",
    "    if B[k] == 1 and lst[k] == 1:\n",
    "        ans += 1\n",
    "\n",
    "    for i in range(M+1):\n",
    "        if k * i > M:\n",
    "            break\n",
    "        else:\n",
    "            lst[k * i] = 0\n",
    "            \n",
    "print(ans)"
   ]
  }
 ],
 "metadata": {
  "kernelspec": {
   "display_name": "Python 3",
   "language": "python",
   "name": "python3"
  },
  "language_info": {
   "codemirror_mode": {
    "name": "ipython",
    "version": 3
   },
   "file_extension": ".py",
   "mimetype": "text/x-python",
   "name": "python",
   "nbconvert_exporter": "python",
   "pygments_lexer": "ipython3",
   "version": "3.6.5"
  },
  "toc": {
   "base_numbering": 1,
   "nav_menu": {},
   "number_sections": true,
   "sideBar": true,
   "skip_h1_title": false,
   "title_cell": "Table of Contents",
   "title_sidebar": "Contents",
   "toc_cell": false,
   "toc_position": {},
   "toc_section_display": true,
   "toc_window_display": false
  }
 },
 "nbformat": 4,
 "nbformat_minor": 4
}

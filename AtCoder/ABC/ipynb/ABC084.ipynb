{
 "cells": [
  {
   "cell_type": "markdown",
   "metadata": {},
   "source": [
    "# A問題"
   ]
  },
  {
   "cell_type": "code",
   "execution_count": 18,
   "metadata": {},
   "outputs": [
    {
     "name": "stdout",
     "output_type": "stream",
     "text": [
      "42\n"
     ]
    }
   ],
   "source": [
    "M = int(input())\n",
    "ans = 48-M\n",
    "print(ans)"
   ]
  },
  {
   "cell_type": "markdown",
   "metadata": {},
   "source": [
    "# B問題"
   ]
  },
  {
   "cell_type": "code",
   "execution_count": 21,
   "metadata": {},
   "outputs": [
    {
     "name": "stdout",
     "output_type": "stream",
     "text": [
      "No\n"
     ]
    }
   ],
   "source": [
    "A, B = map(int, input().split())\n",
    "S = list(input())\n",
    "\n",
    "num_lst = [\"0\",\"1\",\"2\",\"3\",\"4\",\"5\",\"6\",\"7\",\"8\",\"9\"]\n",
    "flag = True\n",
    "for i in range(len(S)):\n",
    "    if i == A :\n",
    "        if S[i] == \"-\":\n",
    "            continue\n",
    "        else:\n",
    "            flag = False\n",
    "    else:\n",
    "        if S[i] in num_lst:\n",
    "            continue\n",
    "        else:\n",
    "            flag = False\n",
    "\n",
    "if flag:\n",
    "    ans = \"Yes\"\n",
    "else:\n",
    "    ans = \"No\"\n",
    "print(ans)\n"
   ]
  },
  {
   "cell_type": "markdown",
   "metadata": {},
   "source": [
    "# C問題"
   ]
  },
  {
   "cell_type": "code",
   "execution_count": 29,
   "metadata": {},
   "outputs": [
    {
     "name": "stdout",
     "output_type": "stream",
     "text": [
      "4162\n",
      "4162\n",
      "4162\n",
      "0\n"
     ]
    }
   ],
   "source": [
    "N = int(input())\n",
    "lst = [list(map(int, input().split())) for _ in range(N-1)]\n",
    "\n",
    "def solve(List):\n",
    "    ans = 0\n",
    "    for lst_i in List:\n",
    "        C, S, F = lst_i\n",
    "\n",
    "        # 列車に乗る時刻\n",
    "        if ans%F != 0:\n",
    "            ans += F - ans%F\n",
    "        if ans < S:\n",
    "            ans = S\n",
    "\n",
    "        # 次の駅に到着する時刻\n",
    "        ans += C\n",
    "    return ans\n",
    "\n",
    "for i in range(N-1):\n",
    "    print(solve(lst[i:]))\n",
    "print(0)"
   ]
  },
  {
   "cell_type": "markdown",
   "metadata": {},
   "source": [
    "# D問題"
   ]
  },
  {
   "cell_type": "code",
   "execution_count": 17,
   "metadata": {},
   "outputs": [
    {
     "name": "stdout",
     "output_type": "stream",
     "text": [
      "4\n",
      "4\n",
      "1\n",
      "1\n",
      "1\n",
      "2\n"
     ]
    }
   ],
   "source": [
    "from itertools import accumulate\n",
    "\n",
    "def sieve_eratosthenes(n):\n",
    "    primes = [0, 1] * (n // 2 + 1)\n",
    "    if n % 2 == 0:\n",
    "        primes.pop()\n",
    "    primes[1] = 0\n",
    "    primes[2] = 1\n",
    "    for p in range(3, int(n ** 0.5) + 1, 2):\n",
    "        if primes[p]:\n",
    "            for q in range(p * p, n + 1, 2 * p):\n",
    "                primes[q] = 0\n",
    "    return primes\n",
    "\n",
    "N = 10**5+1\n",
    "lst = sieve_eratosthenes(N)\n",
    "lst2 = [0]*(N+1)\n",
    "for i in range(len(lst)):\n",
    "    if i <= 2:\n",
    "        continue\n",
    "    else:\n",
    "        if i%2 == 1 and lst[i] == 1 and lst[(i+1)//2] == 1:\n",
    "            lst2[i] = 1\n",
    "            \n",
    "acc_lst2 = list(accumulate(lst2))\n",
    "\n",
    "Q = int(input())\n",
    "for _ in range(Q):\n",
    "    l, r = map(int, input().split())\n",
    "    print(acc_lst2[r]-acc_lst2[l-1])"
   ]
  }
 ],
 "metadata": {
  "kernelspec": {
   "display_name": "Python 3",
   "language": "python",
   "name": "python3"
  },
  "language_info": {
   "codemirror_mode": {
    "name": "ipython",
    "version": 3
   },
   "file_extension": ".py",
   "mimetype": "text/x-python",
   "name": "python",
   "nbconvert_exporter": "python",
   "pygments_lexer": "ipython3",
   "version": "3.6.5"
  },
  "toc": {
   "base_numbering": 1,
   "nav_menu": {},
   "number_sections": true,
   "sideBar": true,
   "skip_h1_title": false,
   "title_cell": "Table of Contents",
   "title_sidebar": "Contents",
   "toc_cell": false,
   "toc_position": {},
   "toc_section_display": true,
   "toc_window_display": false
  }
 },
 "nbformat": 4,
 "nbformat_minor": 4
}

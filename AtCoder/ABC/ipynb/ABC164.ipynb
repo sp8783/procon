{
 "cells": [
  {
   "cell_type": "markdown",
   "metadata": {},
   "source": [
    "# A問題"
   ]
  },
  {
   "cell_type": "code",
   "execution_count": 3,
   "metadata": {},
   "outputs": [
    {
     "name": "stdout",
     "output_type": "stream",
     "text": [
      "10 10\n",
      "unsafe\n"
     ]
    }
   ],
   "source": [
    "s,w = map(int,input().split())\n",
    "\n",
    "if s<=w:\n",
    "    ans = \"unsafe\"\n",
    "else:\n",
    "    ans = \"safe\"\n",
    "    \n",
    "print(ans)"
   ]
  },
  {
   "cell_type": "markdown",
   "metadata": {},
   "source": [
    "# B問題"
   ]
  },
  {
   "cell_type": "code",
   "execution_count": 6,
   "metadata": {},
   "outputs": [
    {
     "name": "stdout",
     "output_type": "stream",
     "text": [
      "46 4 40 5\n",
      "Yes\n"
     ]
    }
   ],
   "source": [
    "import math\n",
    "\n",
    "a,b,c,d = map(int,input().split())\n",
    "\n",
    "flag_t = False\n",
    "flag_a = False\n",
    "ans = \"No\"\n",
    "\n",
    "while True:\n",
    "    c = c - b\n",
    "    if c <= 0:\n",
    "        flag_t = True\n",
    "        break\n",
    "    a = a - d\n",
    "    if a <= 0:\n",
    "        break\n",
    "    \n",
    "if flag_t:\n",
    "    ans = \"Yes\"\n",
    "    \n",
    "print(ans)"
   ]
  },
  {
   "cell_type": "markdown",
   "metadata": {},
   "source": [
    "# C問題"
   ]
  },
  {
   "cell_type": "code",
   "execution_count": 40,
   "metadata": {},
   "outputs": [
    {
     "name": "stdout",
     "output_type": "stream",
     "text": [
      "4 6 10\n",
      "2 4 1 86568\n",
      "1 4 0 90629\n",
      "2 3 0 90310\n",
      "3 4 1 29211\n",
      "3 4 3 78537\n",
      "3 4 2 8580\n",
      "1 2 1 96263\n",
      "1 4 2 2156\n",
      "1 2 0 94325\n",
      "1 4 3 94328\n",
      "357500\n"
     ]
    }
   ],
   "source": [
    "n=int(input())\n",
    "lst=[input() for i in range(n)]\n",
    "\n",
    "print(set(lst))"
   ]
  }
 ],
 "metadata": {
  "kernelspec": {
   "display_name": "Python 3",
   "language": "python",
   "name": "python3"
  },
  "language_info": {
   "codemirror_mode": {
    "name": "ipython",
    "version": 3
   },
   "file_extension": ".py",
   "mimetype": "text/x-python",
   "name": "python",
   "nbconvert_exporter": "python",
   "pygments_lexer": "ipython3",
   "version": "3.6.5"
  },
  "toc": {
   "base_numbering": 1,
   "nav_menu": {},
   "number_sections": true,
   "sideBar": true,
   "skip_h1_title": false,
   "title_cell": "Table of Contents",
   "title_sidebar": "Contents",
   "toc_cell": false,
   "toc_position": {},
   "toc_section_display": true,
   "toc_window_display": false
  }
 },
 "nbformat": 4,
 "nbformat_minor": 4
}

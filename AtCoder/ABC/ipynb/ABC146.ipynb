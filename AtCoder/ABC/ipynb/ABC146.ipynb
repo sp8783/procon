{
 "cells": [
  {
   "cell_type": "markdown",
   "metadata": {},
   "source": [
    "# A問題"
   ]
  },
  {
   "cell_type": "code",
   "execution_count": null,
   "metadata": {},
   "outputs": [],
   "source": [
    "a = input()\n",
    "b = {\n",
    "    \"SUN\":7,\n",
    "    \"MON\":6,\n",
    "    \"TUE\":5,\n",
    "    \"WED\":4,\n",
    "    \"THU\":3,\n",
    "    \"FRI\":2,\n",
    "    \"SAT\":1\n",
    "    }\n",
    "print(b[a]"
   ]
  },
  {
   "cell_type": "markdown",
   "metadata": {},
   "source": [
    "# B問題"
   ]
  },
  {
   "cell_type": "code",
   "execution_count": null,
   "metadata": {},
   "outputs": [],
   "source": [
    "n = int(input())\n",
    "s = input()\n",
    "list = []\n",
    "\n",
    "for i in s:\n",
    "    if ord(i)+n > 90:\n",
    "        list.append(chr(ord(i)+n-26))\n",
    "    else:\n",
    "        list.append(chr(ord(i)+n))\n",
    "        \n",
    "ans = \"\".join(list)\n",
    "print(ans)"
   ]
  },
  {
   "cell_type": "markdown",
   "metadata": {},
   "source": [
    "# C問題"
   ]
  },
  {
   "cell_type": "code",
   "execution_count": null,
   "metadata": {},
   "outputs": [],
   "source": [
    "A, B, X = map(int, input().split())\n",
    "\n",
    "def test(N):\n",
    "    L = len(str(N))\n",
    "    return A*N + B*L <= X:\n",
    "\n",
    "left = 0\n",
    "right = 10**30\n",
    "while left + 1 < right:\n",
    "    x = (right + left) // 2\n",
    "    if test(x):\n",
    "        left = x\n",
    "    else:\n",
    "        right = x\n",
    "ans = left\n",
    "if ans > 10**9:\n",
    "    ans = 10**9\n",
    "print(ans)"
   ]
  },
  {
   "cell_type": "markdown",
   "metadata": {},
   "source": [
    "# D問題"
   ]
  },
  {
   "cell_type": "code",
   "execution_count": 2,
   "metadata": {},
   "outputs": [
    {
     "name": "stdin",
     "output_type": "stream",
     "text": [
      " 8\n",
      " 1 2\n",
      " 2 3\n",
      " 2 4\n",
      " 2 5\n",
      " 4 7\n",
      " 5 6\n",
      " 6 8\n"
     ]
    },
    {
     "name": "stdout",
     "output_type": "stream",
     "text": [
      "4\n",
      "1\n",
      "2\n",
      "3\n",
      "4\n",
      "1\n",
      "1\n",
      "2\n"
     ]
    }
   ],
   "source": [
    "from collections import deque\n",
    "\n",
    "N = int(input())\n",
    "x = [[] for _ in range(N)]\n",
    "for i in range(N-1):\n",
    "    a, b = map(int, input().split())\n",
    "    a -= 1\n",
    "    b -= 1\n",
    "    x[a].append((b, i))\n",
    "    x[b].append((a, i))\n",
    "\n",
    "edge = [0] * (N-1)\n",
    "parent = [-1] * N\n",
    "num_color = 0\n",
    "\n",
    "q = deque()\n",
    "q.append(0)\n",
    "while q:\n",
    "    now = q.popleft()\n",
    "    color = 1\n",
    "    ng_color = parent[now]\n",
    "    for v, e in x[now]:\n",
    "        if edge[e] == 0:\n",
    "            if color == ng_color:\n",
    "                color += 1\n",
    "            num_color = max(num_color, color)\n",
    "            edge[e] = color\n",
    "            parent[v] = color\n",
    "            color += 1\n",
    "            q.append(v)\n",
    "\n",
    "print(num_color)\n",
    "for i in range(N-1):\n",
    "    print(edge[i])"
   ]
  }
 ],
 "metadata": {
  "kernelspec": {
   "display_name": "Python 3",
   "language": "python",
   "name": "python3"
  },
  "language_info": {
   "codemirror_mode": {
    "name": "ipython",
    "version": 3
   },
   "file_extension": ".py",
   "mimetype": "text/x-python",
   "name": "python",
   "nbconvert_exporter": "python",
   "pygments_lexer": "ipython3",
   "version": "3.6.5"
  }
 },
 "nbformat": 4,
 "nbformat_minor": 4
}

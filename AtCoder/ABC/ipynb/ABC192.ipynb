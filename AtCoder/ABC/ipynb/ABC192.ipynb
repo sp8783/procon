{
 "cells": [
  {
   "cell_type": "markdown",
   "metadata": {},
   "source": [
    "# A問題"
   ]
  },
  {
   "cell_type": "code",
   "execution_count": 5,
   "metadata": {},
   "outputs": [
    {
     "name": "stdout",
     "output_type": "stream",
     "text": [
      "100\n"
     ]
    }
   ],
   "source": [
    "X = int(input())\n",
    "\n",
    "print(100 - X%100)"
   ]
  },
  {
   "cell_type": "markdown",
   "metadata": {},
   "source": [
    "# B問題"
   ]
  },
  {
   "cell_type": "code",
   "execution_count": 9,
   "metadata": {},
   "outputs": [
    {
     "name": "stdout",
     "output_type": "stream",
     "text": [
      "Yes\n"
     ]
    }
   ],
   "source": [
    "S = input()\n",
    "\n",
    "if len(S) >= 2:\n",
    "    if S[1::2].isupper() and S[::2].islower():\n",
    "        ans = \"Yes\"\n",
    "    else:\n",
    "        ans = \"No\"\n",
    "else:\n",
    "    if S.islower():\n",
    "        ans = \"Yes\"\n",
    "    else:\n",
    "        ans = \"No\"\n",
    "\n",
    "print(ans)"
   ]
  },
  {
   "cell_type": "markdown",
   "metadata": {},
   "source": [
    "# C問題"
   ]
  },
  {
   "cell_type": "code",
   "execution_count": 36,
   "metadata": {},
   "outputs": [
    {
     "name": "stdout",
     "output_type": "stream",
     "text": [
      "999999999\n"
     ]
    }
   ],
   "source": [
    "N, K = map(int, input().split())\n",
    "\n",
    "f = N\n",
    "for _ in range(K):\n",
    "    f = str(f)\n",
    "    g1 = int(\"\".join(sorted(f, reverse=True)))\n",
    "    g2 = int(\"\".join(sorted(f)))\n",
    "    f = g1 - g2\n",
    "\n",
    "print(f)"
   ]
  },
  {
   "cell_type": "markdown",
   "metadata": {},
   "source": [
    "# D問題"
   ]
  },
  {
   "cell_type": "code",
   "execution_count": 99,
   "metadata": {},
   "outputs": [
    {
     "name": "stdout",
     "output_type": "stream",
     "text": [
      "0\n"
     ]
    }
   ],
   "source": [
    "X = list(map(int, input()))\n",
    "M = int(input())\n",
    "\n",
    "d = max(X)\n",
    "\n",
    "def calc(n,X):\n",
    "    res = 0\n",
    "    for i in range(len(X)):\n",
    "        res += X[i] * (n ** (len(X)-i-1))\n",
    "    return res\n",
    "\n",
    "if len(X) == 1:\n",
    "    if d <= M:\n",
    "        ans = 1\n",
    "    else:\n",
    "        ans = 0\n",
    "\n",
    "else:\n",
    "    low = d\n",
    "    high = M+1\n",
    "\n",
    "    while low + 1 < high:\n",
    "        mid = (low + high) // 2\n",
    "#         print(\"mid:{}, calc:{}\".format(mid,calc(mid, X)))\n",
    "        if M < calc(mid, X):\n",
    "            high = mid\n",
    "        else:\n",
    "            low = mid\n",
    "\n",
    "    ans = low - d\n",
    "print(ans)"
   ]
  },
  {
   "cell_type": "code",
   "execution_count": 111,
   "metadata": {},
   "outputs": [
    {
     "name": "stdout",
     "output_type": "stream",
     "text": [
      "3\n"
     ]
    }
   ],
   "source": [
    "# X = list(map(int, input()))\n",
    "# M = int(input())\n",
    "\n",
    "# d = max(X)\n",
    "\n",
    "# def calc(n,X):\n",
    "#     res = 0\n",
    "#     for i in range(len(X)):\n",
    "#         res += X[i] * (n ** (len(X)-i-1))\n",
    "#     return res\n",
    "\n",
    "# if len(X) == 1:\n",
    "#     if d <= M:\n",
    "#         ans = 1\n",
    "#     else:\n",
    "#         ans = 0\n",
    "\n",
    "# else:\n",
    "#     low = d\n",
    "#     high = 10**8+1\n",
    "\n",
    "#     while low <= high:\n",
    "#         mid = (low + high) // 2\n",
    "# #         print(\"mid:{}, calc:{}\".format(mid,calc(mid, X)))\n",
    "#         if M == calc(mid, X):\n",
    "#             break\n",
    "#         elif M < calc(mid, X):\n",
    "#             high = mid - 1\n",
    "#         else:\n",
    "#             low = mid + 1\n",
    "\n",
    "#     if M < calc(mid,X) and M > calc(mid-1, X):\n",
    "#         mid -= 1\n",
    "\n",
    "#     ans = mid - d\n",
    "# print(ans)"
   ]
  },
  {
   "cell_type": "markdown",
   "metadata": {},
   "source": [
    "# E問題"
   ]
  },
  {
   "cell_type": "code",
   "execution_count": 110,
   "metadata": {},
   "outputs": [
    {
     "name": "stdout",
     "output_type": "stream",
     "text": [
      "26\n"
     ]
    }
   ],
   "source": [
    "from heapq import heappush, heappop\n",
    "import math\n",
    "\n",
    "N, M, X, Y = map(int, input().split())\n",
    "adj = [[] for _ in range(N)]\n",
    "for _ in range(M):\n",
    "    a, b, t, k = map(int, input().split())\n",
    "    adj[a-1].append([b-1,t,k])\n",
    "    adj[b-1].append([a-1,t,k])\n",
    "\n",
    "inf = float(\"inf\")\n",
    "dp = [inf]*N # 各頂点に対する、始点からの最短距離\n",
    "dp[X-1] = 0\n",
    "hq = [(X-1, 0)] # heapqには(更新対象の頂点, その頂点までの最短距離の候補)を格納\n",
    "\n",
    "\n",
    "while hq:\n",
    "    v, now = heappop(hq) #hqから更新対象の頂点を取り出す\n",
    "    for to, cost, k in adj[v]: # 更新対象の頂点の隣接している頂点を更新\n",
    "#         if now % k != 0:\n",
    "#             cost += k - now%k\n",
    "#         if dp[v] + cost < dp[to]: # 現在のdpから更新できる場合\n",
    "        if math.ceil(dp[v]/k) * k + cost  < dp[to]: # 現在のdpから更新できる場合\n",
    "            dp[to] = math.ceil(dp[v]/k) * k + cost # dpを更新\n",
    "            heappush(hq, (to, dp[to])) # hqに更新した頂点を格納\n",
    "\n",
    "if dp[Y-1] == inf:\n",
    "    ans = -1\n",
    "else:\n",
    "    ans = dp[Y-1]\n",
    "\n",
    "print(ans)"
   ]
  }
 ],
 "metadata": {
  "kernelspec": {
   "display_name": "Python 3",
   "language": "python",
   "name": "python3"
  },
  "language_info": {
   "codemirror_mode": {
    "name": "ipython",
    "version": 3
   },
   "file_extension": ".py",
   "mimetype": "text/x-python",
   "name": "python",
   "nbconvert_exporter": "python",
   "pygments_lexer": "ipython3",
   "version": "3.6.5"
  },
  "toc": {
   "base_numbering": 1,
   "nav_menu": {},
   "number_sections": true,
   "sideBar": true,
   "skip_h1_title": false,
   "title_cell": "Table of Contents",
   "title_sidebar": "Contents",
   "toc_cell": false,
   "toc_position": {},
   "toc_section_display": true,
   "toc_window_display": false
  }
 },
 "nbformat": 4,
 "nbformat_minor": 4
}

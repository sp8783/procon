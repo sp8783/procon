{
 "cells": [
  {
   "cell_type": "markdown",
   "metadata": {},
   "source": [
    "# A問題"
   ]
  },
  {
   "cell_type": "code",
   "execution_count": 4,
   "metadata": {},
   "outputs": [
    {
     "name": "stdin",
     "output_type": "stream",
     "text": [
      " 3 1\n",
      " ABC\n"
     ]
    },
    {
     "name": "stdout",
     "output_type": "stream",
     "text": [
      "aBC\n"
     ]
    }
   ],
   "source": [
    "N, K = map(int,input().split())\n",
    "S = list(input())\n",
    "S[K-1] = S[K-1].lower()\n",
    "\n",
    "print(''.join(S))"
   ]
  },
  {
   "cell_type": "markdown",
   "metadata": {},
   "source": [
    "# B問題"
   ]
  },
  {
   "cell_type": "code",
   "execution_count": 13,
   "metadata": {},
   "outputs": [
    {
     "name": "stdin",
     "output_type": "stream",
     "text": [
      " 1700\n"
     ]
    },
    {
     "name": "stdout",
     "output_type": "stream",
     "text": [
      "NA\n"
     ]
    }
   ],
   "source": [
    "S = input()\n",
    "\n",
    "S_first = int(S[:2])\n",
    "S_latter = int(S[2:])\n",
    "\n",
    "MM_flag_first = False\n",
    "MM_flag_latter = False\n",
    "\n",
    "if 1 <= S_first <= 12:\n",
    "    MM_flag_first = True\n",
    "if 1 <= S_latter <= 12:\n",
    "    MM_flag_latter = True\n",
    "\n",
    "if MM_flag_first:\n",
    "    if MM_flag_latter:\n",
    "        ans = \"AMBIGUOUS\"\n",
    "    else:\n",
    "        ans = \"MMYY\"\n",
    "else:\n",
    "    if MM_flag_latter:\n",
    "        ans = \"YYMM\"\n",
    "    else:\n",
    "        ans = \"NA\"\n",
    "\n",
    "print(ans)"
   ]
  },
  {
   "cell_type": "markdown",
   "metadata": {},
   "source": [
    "# C問題"
   ]
  },
  {
   "cell_type": "code",
   "execution_count": 21,
   "metadata": {},
   "outputs": [
    {
     "name": "stdin",
     "output_type": "stream",
     "text": [
      " 100000 5\n"
     ]
    },
    {
     "name": "stdout",
     "output_type": "stream",
     "text": [
      "0.9999737499980839\n"
     ]
    }
   ],
   "source": [
    "import math\n",
    "\n",
    "n, k = map(int, input().split())\n",
    "\n",
    "ans = 0\n",
    "for i in range(1,n+1):\n",
    "    if i >= k:\n",
    "        ans += 1/n\n",
    "    else:\n",
    "        ans += 1/n*0.5**(math.ceil(math.log2(k/i)))\n",
    "\n",
    "print(ans)"
   ]
  },
  {
   "cell_type": "markdown",
   "metadata": {},
   "source": [
    "# D問題"
   ]
  },
  {
   "cell_type": "code",
   "execution_count": 24,
   "metadata": {},
   "outputs": [
    {
     "name": "stdin",
     "output_type": "stream",
     "text": [
      " 5\n",
      " 2 5 2\n",
      " 2 3 10\n",
      " 1 3 8\n",
      " 3 4 2\n"
     ]
    },
    {
     "name": "stdout",
     "output_type": "stream",
     "text": [
      "0\n",
      "0\n",
      "0\n",
      "0\n",
      "0\n"
     ]
    }
   ],
   "source": [
    "from collections import deque\n",
    "\n",
    "N = int(input())\n",
    "E = [list(map(int, input().split())) for _ in range(N-1)]\n",
    "edge = [[] for _ in range(N)]\n",
    "for u, v, w in E:\n",
    "    edge[u-1].append([v-1, w])\n",
    "    edge[v-1].append([u-1, w])\n",
    "    \n",
    "lst = [0] * N\n",
    "q = deque()\n",
    "q.append([0, 0])\n",
    "S = set()\n",
    "\n",
    "while q:\n",
    "    q_ = deque()\n",
    "    while q:\n",
    "        v1, w1 = q.popleft()\n",
    "        lst[v1] = w1\n",
    "        S.add(v1)\n",
    "        \n",
    "        for v2, w2 in edge[v1]:\n",
    "            if v2 in S:\n",
    "                continue    \n",
    "            q_.append([v2, w1 + w2])\n",
    "        \n",
    "    q = q_\n",
    "\n",
    "for l in lst:\n",
    "    print(l%2)"
   ]
  }
 ],
 "metadata": {
  "kernelspec": {
   "display_name": "Python 3",
   "language": "python",
   "name": "python3"
  },
  "language_info": {
   "codemirror_mode": {
    "name": "ipython",
    "version": 3
   },
   "file_extension": ".py",
   "mimetype": "text/x-python",
   "name": "python",
   "nbconvert_exporter": "python",
   "pygments_lexer": "ipython3",
   "version": "3.6.5"
  },
  "toc": {
   "base_numbering": 1,
   "nav_menu": {},
   "number_sections": true,
   "sideBar": true,
   "skip_h1_title": false,
   "title_cell": "Table of Contents",
   "title_sidebar": "Contents",
   "toc_cell": false,
   "toc_position": {},
   "toc_section_display": true,
   "toc_window_display": false
  }
 },
 "nbformat": 4,
 "nbformat_minor": 4
}

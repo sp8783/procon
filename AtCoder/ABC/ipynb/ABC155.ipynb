{
 "cells": [
  {
   "cell_type": "markdown",
   "metadata": {},
   "source": [
    "# A問題"
   ]
  },
  {
   "cell_type": "code",
   "execution_count": 3,
   "metadata": {},
   "outputs": [
    {
     "name": "stdout",
     "output_type": "stream",
     "text": [
      "1 2 3\n",
      "No\n"
     ]
    }
   ],
   "source": [
    "a,b,c = map(int,input().split())\n",
    "\n",
    "if (a != b and b != c and c != a) or (a == b and b == c):\n",
    "    ans = \"No\"\n",
    "else:\n",
    "    ans = \"Yes\"\n",
    "\n",
    "print(ans)"
   ]
  },
  {
   "cell_type": "markdown",
   "metadata": {},
   "source": [
    "# B問題"
   ]
  },
  {
   "cell_type": "code",
   "execution_count": 6,
   "metadata": {},
   "outputs": [
    {
     "name": "stdout",
     "output_type": "stream",
     "text": [
      "3\n",
      "28 27 24\n",
      "DENIED\n"
     ]
    }
   ],
   "source": [
    "n = int(input())\n",
    "lst = list(map(int, input().split()))\n",
    "\n",
    "ans = \"APPROVED\"\n",
    "for i in lst:\n",
    "    if i%2 == 0:\n",
    "        if i%3 != 0 and i%5 != 0:\n",
    "            ans = \"DENIED\"\n",
    "            break\n",
    "\n",
    "print(ans)"
   ]
  },
  {
   "cell_type": "markdown",
   "metadata": {},
   "source": [
    "# C問題"
   ]
  },
  {
   "cell_type": "code",
   "execution_count": 33,
   "metadata": {},
   "outputs": [
    {
     "name": "stdout",
     "output_type": "stream",
     "text": [
      "4\n",
      "ushi\n",
      "tapu\n",
      "nichia\n",
      "kun\n",
      "kun\n",
      "nichia\n",
      "tapu\n",
      "ushi\n"
     ]
    }
   ],
   "source": [
    "import collections\n",
    "\n",
    "n = int(input())\n",
    "words = [input() for _ in range(n)]\n",
    "\n",
    "counter = collections.Counter(words)\n",
    "max_num = max(counter.values())\n",
    "\n",
    "ans = []\n",
    "for value, count in counter.items():\n",
    "    if count == max_num:\n",
    "        ans.append(value)\n",
    "\n",
    "ans.sort()\n",
    "[print(s) for s in ans]"
   ]
  }
 ],
 "metadata": {
  "kernelspec": {
   "display_name": "Python 3",
   "language": "python",
   "name": "python3"
  },
  "language_info": {
   "codemirror_mode": {
    "name": "ipython",
    "version": 3
   },
   "file_extension": ".py",
   "mimetype": "text/x-python",
   "name": "python",
   "nbconvert_exporter": "python",
   "pygments_lexer": "ipython3",
   "version": "3.6.5"
  },
  "toc": {
   "base_numbering": 1,
   "nav_menu": {},
   "number_sections": true,
   "sideBar": true,
   "skip_h1_title": false,
   "title_cell": "Table of Contents",
   "title_sidebar": "Contents",
   "toc_cell": false,
   "toc_position": {},
   "toc_section_display": true,
   "toc_window_display": false
  }
 },
 "nbformat": 4,
 "nbformat_minor": 4
}

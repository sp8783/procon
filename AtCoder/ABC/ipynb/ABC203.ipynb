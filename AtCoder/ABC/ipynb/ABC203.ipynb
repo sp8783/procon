{
 "cells": [
  {
   "cell_type": "markdown",
   "metadata": {},
   "source": [
    "# A問題"
   ]
  },
  {
   "cell_type": "code",
   "execution_count": 6,
   "metadata": {},
   "outputs": [
    {
     "name": "stdout",
     "output_type": "stream",
     "text": [
      "Yes\n"
     ]
    }
   ],
   "source": [
    "a, b, c = map(int, input().split())\n",
    "\n",
    "if a == b:\n",
    "    print(c)\n",
    "elif b == c:\n",
    "    print(a)\n",
    "elif c == a:\n",
    "    print(b)\n",
    "else:\n",
    "    print(0)"
   ]
  },
  {
   "cell_type": "markdown",
   "metadata": {},
   "source": [
    "# B問題"
   ]
  },
  {
   "cell_type": "code",
   "execution_count": 1,
   "metadata": {},
   "outputs": [
    {
     "name": "stdin",
     "output_type": "stream",
     "text": [
      " 1 2\n"
     ]
    },
    {
     "name": "stdout",
     "output_type": "stream",
     "text": [
      "203\n"
     ]
    }
   ],
   "source": [
    "N, K = map(int, input().split())\n",
    "\n",
    "ans = 0\n",
    "for i in range(1,N+1):\n",
    "    for j in range(1,K+1):\n",
    "        ans += 100*i+j\n",
    "\n",
    "print(ans)"
   ]
  },
  {
   "cell_type": "markdown",
   "metadata": {},
   "source": [
    "# C問題"
   ]
  },
  {
   "cell_type": "code",
   "execution_count": 11,
   "metadata": {},
   "outputs": [
    {
     "name": "stdin",
     "output_type": "stream",
     "text": [
      " 3 2\n",
      " 5 5\n",
      " 2 1\n",
      " 2 2\n"
     ]
    },
    {
     "name": "stdout",
     "output_type": "stream",
     "text": [
      "0\n",
      "[2, 1]\n",
      "1\n",
      "[2, 3]\n",
      "0\n",
      "[5, 5]\n",
      "10\n"
     ]
    }
   ],
   "source": [
    "N, K = map(int, input().split())\n",
    "ab = [list(map(int, input().split())) for _ in range(N)]\n",
    "\n",
    "ab = sorted(ab, key=lambda x:x[0])\n",
    "money = K\n",
    "P = 0\n",
    "\n",
    "for i in range(N):\n",
    "#     print(money - (ab[i][0] - P))\n",
    "    if money - (ab[i][0] - P) < 0:\n",
    "#         print([P, money])\n",
    "        break\n",
    "    else:\n",
    "        money = money - (ab[i][0] - P) + ab[i][1]\n",
    "        P = ab[i][0]\n",
    "#         print([P, money])\n",
    "\n",
    "P += money\n",
    "print(P)"
   ]
  }
 ],
 "metadata": {
  "kernelspec": {
   "display_name": "Python 3",
   "language": "python",
   "name": "python3"
  },
  "language_info": {
   "codemirror_mode": {
    "name": "ipython",
    "version": 3
   },
   "file_extension": ".py",
   "mimetype": "text/x-python",
   "name": "python",
   "nbconvert_exporter": "python",
   "pygments_lexer": "ipython3",
   "version": "3.6.5"
  },
  "toc": {
   "base_numbering": 1,
   "nav_menu": {},
   "number_sections": true,
   "sideBar": true,
   "skip_h1_title": false,
   "title_cell": "Table of Contents",
   "title_sidebar": "Contents",
   "toc_cell": false,
   "toc_position": {},
   "toc_section_display": true,
   "toc_window_display": false
  }
 },
 "nbformat": 4,
 "nbformat_minor": 4
}

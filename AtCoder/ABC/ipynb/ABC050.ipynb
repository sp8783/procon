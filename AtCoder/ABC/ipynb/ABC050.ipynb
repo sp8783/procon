{
 "cells": [
  {
   "cell_type": "markdown",
   "metadata": {},
   "source": [
    "# A問題"
   ]
  },
  {
   "cell_type": "code",
   "execution_count": 1,
   "metadata": {},
   "outputs": [
    {
     "name": "stdin",
     "output_type": "stream",
     "text": [
      " 1 + 2\n"
     ]
    },
    {
     "name": "stdout",
     "output_type": "stream",
     "text": [
      "3\n"
     ]
    }
   ],
   "source": [
    "a, op, b = input().split()\n",
    "if op == \"+\":\n",
    "    ans = int(a) + int(b)\n",
    "else:\n",
    "    ans = int(a) - int(b)\n",
    "print(ans)"
   ]
  },
  {
   "cell_type": "markdown",
   "metadata": {},
   "source": [
    "# B問題"
   ]
  },
  {
   "cell_type": "code",
   "execution_count": 4,
   "metadata": {},
   "outputs": [
    {
     "name": "stdin",
     "output_type": "stream",
     "text": [
      " 3\n",
      " 2 1 4\n",
      " 2\n",
      " 1 1\n",
      " 2 3\n"
     ]
    },
    {
     "name": "stdout",
     "output_type": "stream",
     "text": [
      "6\n",
      "9\n"
     ]
    }
   ],
   "source": [
    "N = int(input())\n",
    "T = list(map(int, input().split()))\n",
    "M = int(input())\n",
    "lst = []\n",
    "\n",
    "for _ in range(M):\n",
    "    p, x = map(int, input().split())\n",
    "    lst.append(x - T[p-1])\n",
    "    \n",
    "S = sum(T)\n",
    "\n",
    "for l in lst:\n",
    "    print(S+l)"
   ]
  },
  {
   "cell_type": "markdown",
   "metadata": {},
   "source": [
    "# C問題"
   ]
  },
  {
   "cell_type": "code",
   "execution_count": 8,
   "metadata": {},
   "outputs": [
    {
     "name": "stdin",
     "output_type": "stream",
     "text": [
      " 8\n",
      " 7 5 1 1 7 3 5 3\n"
     ]
    },
    {
     "name": "stdout",
     "output_type": "stream",
     "text": [
      "16\n"
     ]
    }
   ],
   "source": [
    "from collections import Counter\n",
    "\n",
    "def pow_k(a,n,MOD=10**9+7):\n",
    "    x = 1\n",
    "    while n > 0:\n",
    "        if n & 1:\n",
    "            x *= a\n",
    "            x %= MOD\n",
    "        a *= a\n",
    "        a %= MOD\n",
    "        n >>= 1\n",
    "    return x\n",
    "\n",
    "N = int(input())\n",
    "A = list(map(int, input().split()))\n",
    "\n",
    "C = Counter(A)\n",
    "flag = False\n",
    "for k in C.keys():\n",
    "    if N%2 == 0:\n",
    "        if k%2 == 0:\n",
    "            flag = True\n",
    "            break\n",
    "        else:\n",
    "            if C[k] != 2:\n",
    "                flag = True\n",
    "                break\n",
    "                \n",
    "    else:\n",
    "        if k%2 == 1:\n",
    "            flag = True\n",
    "            break\n",
    "        elif k == 0:\n",
    "            if C[k] != 1:\n",
    "                flag = True\n",
    "                break\n",
    "        else:\n",
    "            if C[k] != 2:\n",
    "                flag = True\n",
    "                break\n",
    "                \n",
    "if flag:\n",
    "    ans = 0\n",
    "else:\n",
    "    ans = pow_k(2,N//2)\n",
    "            \n",
    "print(ans)"
   ]
  }
 ],
 "metadata": {
  "kernelspec": {
   "display_name": "Python 3",
   "language": "python",
   "name": "python3"
  },
  "language_info": {
   "codemirror_mode": {
    "name": "ipython",
    "version": 3
   },
   "file_extension": ".py",
   "mimetype": "text/x-python",
   "name": "python",
   "nbconvert_exporter": "python",
   "pygments_lexer": "ipython3",
   "version": "3.6.5"
  },
  "toc": {
   "base_numbering": 1,
   "nav_menu": {},
   "number_sections": true,
   "sideBar": true,
   "skip_h1_title": false,
   "title_cell": "Table of Contents",
   "title_sidebar": "Contents",
   "toc_cell": false,
   "toc_position": {},
   "toc_section_display": true,
   "toc_window_display": false
  }
 },
 "nbformat": 4,
 "nbformat_minor": 4
}

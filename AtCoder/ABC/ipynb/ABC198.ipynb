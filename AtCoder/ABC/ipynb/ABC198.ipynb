{
 "cells": [
  {
   "cell_type": "markdown",
   "metadata": {},
   "source": [
    "# A問題"
   ]
  },
  {
   "cell_type": "code",
   "execution_count": 2,
   "metadata": {},
   "outputs": [
    {
     "name": "stdin",
     "output_type": "stream",
     "text": [
      " abc\n"
     ]
    },
    {
     "name": "stdout",
     "output_type": "stream",
     "text": [
      "bca\n"
     ]
    }
   ],
   "source": [
    "N = int(input())\n",
    "print(N-1)"
   ]
  },
  {
   "cell_type": "markdown",
   "metadata": {},
   "source": [
    "# B問題"
   ]
  },
  {
   "cell_type": "code",
   "execution_count": 53,
   "metadata": {},
   "outputs": [
    {
     "name": "stdout",
     "output_type": "stream",
     "text": [
      "Yes\n"
     ]
    }
   ],
   "source": [
    "S = input()\n",
    "S = str(int(S[::-1]))\n",
    "ans = \"No\"\n",
    "if len(S) == 1:\n",
    "    ans = \"Yes\"\n",
    "else:\n",
    "    if len(S)%2 == 0:\n",
    "        if S[:len(S)//2] == S[-len(S)//2:][::-1]:\n",
    "            ans = \"Yes\"\n",
    "    else:\n",
    "        if S[:len(S)//2] == S[-len(S)//2+1:][::-1]:\n",
    "            ans = \"Yes\"\n",
    "print(ans)"
   ]
  },
  {
   "cell_type": "markdown",
   "metadata": {},
   "source": [
    "# C問題"
   ]
  },
  {
   "cell_type": "code",
   "execution_count": 60,
   "metadata": {},
   "outputs": [
    {
     "name": "stdout",
     "output_type": "stream",
     "text": [
      "2\n"
     ]
    }
   ],
   "source": [
    "import math\n",
    "R, X, Y = map(int, input().split())\n",
    "\n",
    "def calc_dist(a,b):\n",
    "    tot = 0\n",
    "    for i,j in zip(a,b):\n",
    "        tot += (i-j)**2\n",
    "    return math.sqrt(tot)\n",
    "\n",
    "dist = calc_dist([0,0],[X,Y])\n",
    "\n",
    "if dist%R == 0:\n",
    "    ans = dist//R\n",
    "else:\n",
    "    if dist/R < 1:\n",
    "        ans = 2\n",
    "    else:\n",
    "        ans = dist//R + 1\n",
    "    \n",
    "print(int(ans))"
   ]
  },
  {
   "cell_type": "markdown",
   "metadata": {},
   "source": [
    "# D問題"
   ]
  },
  {
   "cell_type": "code",
   "execution_count": 20,
   "metadata": {},
   "outputs": [
    {
     "name": "stdin",
     "output_type": "stream",
     "text": [
      " send\n",
      " more\n",
      " money\n"
     ]
    },
    {
     "name": "stdout",
     "output_type": "stream",
     "text": [
      "9567\n",
      "1085\n",
      "10652\n"
     ]
    }
   ],
   "source": [
    "import itertools\n",
    "\n",
    "S1 = list(input())\n",
    "S2 = list(input())\n",
    "S3 = list(input())\n",
    "\n",
    "S = set(S1)|set(S2)|set(S3)\n",
    "N = len(S)\n",
    "if N >= 11:\n",
    "    print(\"UNSOLVABLE\")\n",
    "else:\n",
    "    key = list(S)    \n",
    "    flag = False\n",
    "    \n",
    "    for L in itertools.permutations(list(range(10)),N):\n",
    "        dic = dict(zip(key, L))\n",
    "        \n",
    "        if dic[S1[0]] == 0 or dic[S2[0]] == 0 or dic[S3[0]] == 0:\n",
    "            continue\n",
    "        else:\n",
    "            N1 = 0\n",
    "            for i in range(len(S1)):\n",
    "                N1 += dic[S1[i]]*(10**(len(S1)-i-1))\n",
    "            N2 = 0\n",
    "            for i in range(len(S2)):\n",
    "                N2 += dic[S2[i]]*(10**(len(S2)-i-1))\n",
    "            N3 = 0\n",
    "            for i in range(len(S3)):\n",
    "                N3 += dic[S3[i]]*(10**(len(S3)-i-1))\n",
    "            \n",
    "            if N1 + N2 == N3:\n",
    "                flag = True\n",
    "                break\n",
    "            \n",
    "    if flag:\n",
    "        print(N1)\n",
    "        print(N2)\n",
    "        print(N3)\n",
    "    else:\n",
    "        print(\"UNSOLVABLE\")"
   ]
  },
  {
   "cell_type": "markdown",
   "metadata": {},
   "source": [
    "# E問題"
   ]
  },
  {
   "cell_type": "code",
   "execution_count": 15,
   "metadata": {},
   "outputs": [
    {
     "name": "stdin",
     "output_type": "stream",
     "text": [
      " 6\n",
      " 2 7 1 8 2 8\n",
      " 1 2\n",
      " 3 6\n",
      " 3 2\n",
      " 4 3\n",
      " 2 5\n"
     ]
    },
    {
     "name": "stdout",
     "output_type": "stream",
     "text": [
      "1\n",
      "2\n",
      "3\n",
      "4\n",
      "6\n"
     ]
    }
   ],
   "source": [
    "from collections import deque\n",
    "\n",
    "N = int(input())\n",
    "col = list(map(int, input().split()))\n",
    "adj = [[] for _ in range(N)]\n",
    "for _ in range(N-1):\n",
    "    a, b = map(int, input().split())\n",
    "    adj[a-1].append(b-1)\n",
    "    adj[b-1].append(a-1)\n",
    "    \n",
    "check = [False]*N\n",
    "check[0] = True\n",
    "S = [set([0]) for _ in range(N)]\n",
    "\n",
    "q = deque()\n",
    "q.append(0)\n",
    "ans = [1]\n",
    "\n",
    "while q:\n",
    "    v = q.popleft()\n",
    "        \n",
    "    for nv in adj[v]:\n",
    "        if check[nv] == False:\n",
    "            check[nv] = True\n",
    "            \n",
    "            if not(col[nv] in S[v]):\n",
    "                ans.append(nv+1)\n",
    "\n",
    "            S[nv] = S[v] | set([col[v]])\n",
    "            q.append(nv)\n",
    "            \n",
    "ans = sorted(ans)\n",
    "for a in ans:\n",
    "    print(a)"
   ]
  },
  {
   "cell_type": "code",
   "execution_count": 16,
   "metadata": {},
   "outputs": [
    {
     "name": "stdin",
     "output_type": "stream",
     "text": [
      " 6\n",
      " 2 7 1 8 2 8\n",
      " 1 2\n",
      " 3 6\n",
      " 3 2\n",
      " 4 3\n",
      " 2 5\n"
     ]
    },
    {
     "name": "stdout",
     "output_type": "stream",
     "text": [
      "1\n",
      "2\n",
      "3\n",
      "4\n",
      "6\n"
     ]
    }
   ],
   "source": [
    "import sys\n",
    "sys.setrecursionlimit(10 ** 5)  # 再帰上限を大きくしないとREになります\n",
    "def main():\n",
    "    from collections import Counter\n",
    "\n",
    "    def dfs(u, parent):\n",
    "        color: int = C[u]\n",
    "        if color_count[color] == 0:\n",
    "            # 良い頂点です\n",
    "            good[u] = True\n",
    "\n",
    "        color_count[color] += 1  # 頂点uの色のカウントを1増やします\n",
    "        for v in edge[u]:\n",
    "            if v == parent:\n",
    "                continue  # すでに見た親に逆流しないようにします\n",
    "            dfs(v, u)\n",
    "        color_count[color] -= 1  # 帰りがけ時に頂点uの色のカウントを1減らします\n",
    "\n",
    "    N = int(input())\n",
    "    C = [-1] + [*map(int, input().split())]\n",
    "\n",
    "    edge: List[List[int]] = [[] for _ in range(N + 1)]\n",
    "\n",
    "    for _ in range(N - 1):\n",
    "        a, b = map(int, input().split())\n",
    "        edge[a].append(b)\n",
    "        edge[b].append(a)\n",
    "\n",
    "    color_count = Counter()  # 今のパス上にどの色の頂点がいくつあるか記録しておきます\n",
    "    good = [False] * (N + 1)  # よい頂点ならTrueです\n",
    "\n",
    "    dfs(u=1, parent=-1)\n",
    "\n",
    "    for i, is_good in enumerate(good):\n",
    "        if is_good:\n",
    "            print(i)\n",
    "\n",
    "\n",
    "if __name__ == '__main__':\n",
    "    import sys\n",
    "\n",
    "    sys.setrecursionlimit(10 ** 5)  # 再帰上限を大きくしないとREになります\n",
    "    main()"
   ]
  }
 ],
 "metadata": {
  "kernelspec": {
   "display_name": "Python 3",
   "language": "python",
   "name": "python3"
  },
  "language_info": {
   "codemirror_mode": {
    "name": "ipython",
    "version": 3
   },
   "file_extension": ".py",
   "mimetype": "text/x-python",
   "name": "python",
   "nbconvert_exporter": "python",
   "pygments_lexer": "ipython3",
   "version": "3.6.5"
  },
  "toc": {
   "base_numbering": 1,
   "nav_menu": {},
   "number_sections": true,
   "sideBar": true,
   "skip_h1_title": false,
   "title_cell": "Table of Contents",
   "title_sidebar": "Contents",
   "toc_cell": false,
   "toc_position": {},
   "toc_section_display": true,
   "toc_window_display": false
  }
 },
 "nbformat": 4,
 "nbformat_minor": 4
}

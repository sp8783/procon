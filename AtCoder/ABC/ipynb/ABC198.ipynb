{
 "cells": [
  {
   "cell_type": "markdown",
   "metadata": {},
   "source": [
    "# A問題"
   ]
  },
  {
   "cell_type": "code",
   "execution_count": 2,
   "metadata": {},
   "outputs": [
    {
     "name": "stdin",
     "output_type": "stream",
     "text": [
      " abc\n"
     ]
    },
    {
     "name": "stdout",
     "output_type": "stream",
     "text": [
      "bca\n"
     ]
    }
   ],
   "source": [
    "N = int(input())\n",
    "print(N-1)"
   ]
  },
  {
   "cell_type": "markdown",
   "metadata": {},
   "source": [
    "# B問題"
   ]
  },
  {
   "cell_type": "code",
   "execution_count": 53,
   "metadata": {},
   "outputs": [
    {
     "name": "stdout",
     "output_type": "stream",
     "text": [
      "Yes\n"
     ]
    }
   ],
   "source": [
    "S = input()\n",
    "S = str(int(S[::-1]))\n",
    "ans = \"No\"\n",
    "if len(S) == 1:\n",
    "    ans = \"Yes\"\n",
    "else:\n",
    "    if len(S)%2 == 0:\n",
    "        if S[:len(S)//2] == S[-len(S)//2:][::-1]:\n",
    "            ans = \"Yes\"\n",
    "    else:\n",
    "        if S[:len(S)//2] == S[-len(S)//2+1:][::-1]:\n",
    "            ans = \"Yes\"\n",
    "print(ans)"
   ]
  },
  {
   "cell_type": "markdown",
   "metadata": {},
   "source": [
    "# C問題"
   ]
  },
  {
   "cell_type": "code",
   "execution_count": 60,
   "metadata": {},
   "outputs": [
    {
     "name": "stdout",
     "output_type": "stream",
     "text": [
      "2\n"
     ]
    }
   ],
   "source": [
    "import math\n",
    "R, X, Y = map(int, input().split())\n",
    "\n",
    "def calc_dist(a,b):\n",
    "    tot = 0\n",
    "    for i,j in zip(a,b):\n",
    "        tot += (i-j)**2\n",
    "    return math.sqrt(tot)\n",
    "\n",
    "dist = calc_dist([0,0],[X,Y])\n",
    "\n",
    "if dist%R == 0:\n",
    "    ans = dist//R\n",
    "else:\n",
    "    if dist/R < 1:\n",
    "        ans = 2\n",
    "    else:\n",
    "        ans = dist//R + 1\n",
    "    \n",
    "print(int(ans))"
   ]
  },
  {
   "cell_type": "markdown",
   "metadata": {},
   "source": [
    "# D問題"
   ]
  },
  {
   "cell_type": "code",
   "execution_count": 20,
   "metadata": {},
   "outputs": [
    {
     "name": "stdin",
     "output_type": "stream",
     "text": [
      " send\n",
      " more\n",
      " money\n"
     ]
    },
    {
     "name": "stdout",
     "output_type": "stream",
     "text": [
      "9567\n",
      "1085\n",
      "10652\n"
     ]
    }
   ],
   "source": [
    "import itertools\n",
    "\n",
    "S1 = list(input())\n",
    "S2 = list(input())\n",
    "S3 = list(input())\n",
    "\n",
    "S = set(S1)|set(S2)|set(S3)\n",
    "N = len(S)\n",
    "if N >= 11:\n",
    "    print(\"UNSOLVABLE\")\n",
    "else:\n",
    "    key = list(S)    \n",
    "    flag = False\n",
    "    \n",
    "    for L in itertools.permutations(list(range(10)),N):\n",
    "        dic = dict(zip(key, L))\n",
    "        \n",
    "        if dic[S1[0]] == 0 or dic[S2[0]] == 0 or dic[S3[0]] == 0:\n",
    "            continue\n",
    "        else:\n",
    "            N1 = 0\n",
    "            for i in range(len(S1)):\n",
    "                N1 += dic[S1[i]]*(10**(len(S1)-i-1))\n",
    "            N2 = 0\n",
    "            for i in range(len(S2)):\n",
    "                N2 += dic[S2[i]]*(10**(len(S2)-i-1))\n",
    "            N3 = 0\n",
    "            for i in range(len(S3)):\n",
    "                N3 += dic[S3[i]]*(10**(len(S3)-i-1))\n",
    "            \n",
    "            if N1 + N2 == N3:\n",
    "                flag = True\n",
    "                break\n",
    "            \n",
    "    if flag:\n",
    "        print(N1)\n",
    "        print(N2)\n",
    "        print(N3)\n",
    "    else:\n",
    "        print(\"UNSOLVABLE\")"
   ]
  }
 ],
 "metadata": {
  "kernelspec": {
   "display_name": "Python 3",
   "language": "python",
   "name": "python3"
  },
  "language_info": {
   "codemirror_mode": {
    "name": "ipython",
    "version": 3
   },
   "file_extension": ".py",
   "mimetype": "text/x-python",
   "name": "python",
   "nbconvert_exporter": "python",
   "pygments_lexer": "ipython3",
   "version": "3.6.5"
  },
  "toc": {
   "base_numbering": 1,
   "nav_menu": {},
   "number_sections": true,
   "sideBar": true,
   "skip_h1_title": false,
   "title_cell": "Table of Contents",
   "title_sidebar": "Contents",
   "toc_cell": false,
   "toc_position": {},
   "toc_section_display": true,
   "toc_window_display": false
  }
 },
 "nbformat": 4,
 "nbformat_minor": 4
}

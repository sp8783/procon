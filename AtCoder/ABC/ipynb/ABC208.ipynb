{
 "cells": [
  {
   "cell_type": "markdown",
   "metadata": {},
   "source": [
    "# A問題"
   ]
  },
  {
   "cell_type": "code",
   "execution_count": 2,
   "metadata": {},
   "outputs": [
    {
     "name": "stdout",
     "output_type": "stream",
     "text": [
      "No\n"
     ]
    }
   ],
   "source": [
    "a,b = map(int, input().split())\n",
    "if a*1 <= b <= a*6:\n",
    "    ans = \"Yes\"\n",
    "else:\n",
    "    ans = \"No\"\n",
    "print(ans)"
   ]
  },
  {
   "cell_type": "markdown",
   "metadata": {},
   "source": [
    "# B問題"
   ]
  },
  {
   "cell_type": "code",
   "execution_count": 11,
   "metadata": {},
   "outputs": [
    {
     "name": "stdout",
     "output_type": "stream",
     "text": [
      "3\n"
     ]
    }
   ],
   "source": [
    "P = int(input())\n",
    "lst = []\n",
    "a = 1\n",
    "for i in range(10):\n",
    "    a *= i+1\n",
    "    lst.append(a)\n",
    "\n",
    "cnt = 0\n",
    "for i in range(10)[::-1]:\n",
    "    while P > 0:\n",
    "        if P - lst[i] >= 0:\n",
    "            P -= lst[i]\n",
    "            cnt += 1\n",
    "        else:\n",
    "            break\n",
    "    \n",
    "print(cnt)"
   ]
  },
  {
   "cell_type": "markdown",
   "metadata": {},
   "source": [
    "# C問題"
   ]
  },
  {
   "cell_type": "code",
   "execution_count": 14,
   "metadata": {},
   "outputs": [
    {
     "name": "stdout",
     "output_type": "stream",
     "text": [
      "142857142857\n",
      "142857142857\n",
      "142857142858\n",
      "142857142857\n",
      "142857142857\n",
      "142857142857\n",
      "142857142857\n"
     ]
    }
   ],
   "source": [
    "N, K = map(int, input().split())\n",
    "A = list(map(int, input().split()))\n",
    "\n",
    "B = list(range(N))\n",
    "dic = dict(zip(A,B)) # 国民番号⇒i番目\n",
    "\n",
    "lst = [K//N]*N # \n",
    "candy = K%N\n",
    "\n",
    "A_s = sorted(A)\n",
    "for i in range(candy):\n",
    "    lst[dic[A_s[i]]] += 1\n",
    "    \n",
    "for l in lst:\n",
    "    print(l)"
   ]
  },
  {
   "cell_type": "markdown",
   "metadata": {},
   "source": [
    "# D問題"
   ]
  },
  {
   "cell_type": "code",
   "execution_count": 25,
   "metadata": {},
   "outputs": [
    {
     "name": "stdout",
     "output_type": "stream",
     "text": [
      "517\n"
     ]
    }
   ],
   "source": [
    "V, E = map(int, input().split())\n",
    "\n",
    "# ---distの初期化---\n",
    " # dist[i][j]:頂点iから頂点jに移動する場合の最小距離\n",
    " # 基本infで初期化\n",
    "inf = float(\"inf\")\n",
    "dist = [[inf]*V for _ in range(V)]\n",
    "\n",
    " # 対角成分は0に初期化\n",
    "for i in range(V):\n",
    "    dist[i][i] = 0\n",
    "\n",
    "for _ in range(E):\n",
    "    s, t, d = map(int, input().split())\n",
    "    dist[s-1][t-1] = d\n",
    "\n",
    "# ---distの更新---\n",
    " # i:始点、j:終点、k:中継地点\n",
    " # i⇒jと移動する際、「直接行く」より「kを中継したほうが近い」場合、dist[i][j]を更新する\n",
    "ans = 0\n",
    "for k in range(V):\n",
    "    for i in range(V):\n",
    "        for j in range(V):\n",
    "            if dist[i][j] > dist[i][k] + dist[k][j]:\n",
    "                dist[i][j] = dist[i][k] + dist[k][j]\n",
    "            \n",
    "            if dist[i][j] < 0 or dist[i][j] == inf:\n",
    "                continue\n",
    "            else:\n",
    "                ans += dist[i][j]\n",
    "            \n",
    "#             print(dist)\n",
    "\n",
    "# ---出力---\n",
    " # 負の閉路がある場合\n",
    " # dist[i][i]の値が負となっている場合は負の閉路である\n",
    "# ans = 0\n",
    "# for i in range(V):\n",
    "#     for j in range(V):\n",
    "#         if dist[i][j] < 0 or dist[i][j] == inf:\n",
    "#             continue\n",
    "#         else:\n",
    "#             ans += dist[i][j]\n",
    "\n",
    "print(ans)"
   ]
  }
 ],
 "metadata": {
  "kernelspec": {
   "display_name": "Python 3",
   "language": "python",
   "name": "python3"
  },
  "language_info": {
   "codemirror_mode": {
    "name": "ipython",
    "version": 3
   },
   "file_extension": ".py",
   "mimetype": "text/x-python",
   "name": "python",
   "nbconvert_exporter": "python",
   "pygments_lexer": "ipython3",
   "version": "3.6.5"
  },
  "toc": {
   "base_numbering": 1,
   "nav_menu": {},
   "number_sections": true,
   "sideBar": true,
   "skip_h1_title": false,
   "title_cell": "Table of Contents",
   "title_sidebar": "Contents",
   "toc_cell": false,
   "toc_position": {},
   "toc_section_display": true,
   "toc_window_display": false
  }
 },
 "nbformat": 4,
 "nbformat_minor": 4
}

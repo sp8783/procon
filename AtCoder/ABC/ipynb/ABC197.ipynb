{
 "cells": [
  {
   "cell_type": "markdown",
   "metadata": {},
   "source": [
    "# A問題"
   ]
  },
  {
   "cell_type": "code",
   "execution_count": 2,
   "metadata": {},
   "outputs": [
    {
     "name": "stdin",
     "output_type": "stream",
     "text": [
      " abc\n"
     ]
    },
    {
     "name": "stdout",
     "output_type": "stream",
     "text": [
      "bca\n"
     ]
    }
   ],
   "source": [
    "S = input()\n",
    "ans = S[1:]+S[0]\n",
    "print(ans)"
   ]
  },
  {
   "cell_type": "markdown",
   "metadata": {},
   "source": [
    "# B問題"
   ]
  },
  {
   "cell_type": "code",
   "execution_count": 15,
   "metadata": {},
   "outputs": [
    {
     "name": "stdout",
     "output_type": "stream",
     "text": [
      "3\n"
     ]
    }
   ],
   "source": [
    "H,W,X,Y = map(int, input().split())\n",
    "Y -= 1\n",
    "X -= 1\n",
    "maze = [list(input()) for i in range(H)]\n",
    "\n",
    "ans = 1\n",
    "ny = Y-1\n",
    "while ny >= 0:\n",
    "    if maze[X][ny] == \".\":\n",
    "        ans += 1\n",
    "        ny -= 1\n",
    "    else:\n",
    "        break\n",
    "ny = Y+1\n",
    "while ny <= W-1:\n",
    "    if maze[X][ny] == \".\":\n",
    "        ans += 1\n",
    "        ny += 1\n",
    "    else:\n",
    "        break\n",
    "nx = X-1\n",
    "while nx >= 0:\n",
    "    if maze[nx][Y] == \".\":\n",
    "        ans += 1\n",
    "        nx -= 1\n",
    "    else:\n",
    "        break\n",
    "nx = X+1\n",
    "while nx <= H-1:\n",
    "    if maze[nx][Y] == \".\":\n",
    "        ans += 1\n",
    "        nx += 1\n",
    "    else:\n",
    "        break\n",
    "\n",
    "print(ans)"
   ]
  },
  {
   "cell_type": "markdown",
   "metadata": {},
   "source": [
    "# D問題"
   ]
  },
  {
   "cell_type": "code",
   "execution_count": 34,
   "metadata": {},
   "outputs": [
    {
     "name": "stdout",
     "output_type": "stream",
     "text": [
      "5.933012701892219 2.383974596215561\n"
     ]
    }
   ],
   "source": [
    "import numpy as np\n",
    "import math\n",
    "\n",
    "N = int(input())\n",
    "t0 = np.array(list(map(int, input().split())))\n",
    "tn = np.array(list(map(int, input().split())))\n",
    " \n",
    "def R(rad):\n",
    "    \"\"\"\n",
    "    指定したradの回転行列を返す\n",
    "    \"\"\"\n",
    "    rot = np.array([[np.cos(rad), -np.sin(rad)],\n",
    "                    [np.sin(rad), np.cos(rad)]])\n",
    "    return rot\n",
    "\n",
    "pi = math.pi\n",
    "ans = (np.sin(pi/N)/np.sin(pi/2)) * np.dot(R(pi/N-pi/2), tn - t0) + t0\n",
    "print(*ans)"
   ]
  }
 ],
 "metadata": {
  "kernelspec": {
   "display_name": "Python 3",
   "language": "python",
   "name": "python3"
  },
  "language_info": {
   "codemirror_mode": {
    "name": "ipython",
    "version": 3
   },
   "file_extension": ".py",
   "mimetype": "text/x-python",
   "name": "python",
   "nbconvert_exporter": "python",
   "pygments_lexer": "ipython3",
   "version": "3.6.5"
  },
  "toc": {
   "base_numbering": 1,
   "nav_menu": {},
   "number_sections": true,
   "sideBar": true,
   "skip_h1_title": false,
   "title_cell": "Table of Contents",
   "title_sidebar": "Contents",
   "toc_cell": false,
   "toc_position": {},
   "toc_section_display": true,
   "toc_window_display": false
  }
 },
 "nbformat": 4,
 "nbformat_minor": 4
}

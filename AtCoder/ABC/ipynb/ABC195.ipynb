{
 "cells": [
  {
   "cell_type": "markdown",
   "metadata": {},
   "source": [
    "# A問題"
   ]
  },
  {
   "cell_type": "code",
   "execution_count": 3,
   "metadata": {},
   "outputs": [
    {
     "name": "stdout",
     "output_type": "stream",
     "text": [
      "No\n"
     ]
    }
   ],
   "source": [
    "M, H = map(int ,input().split())\n",
    "if H%M == 0:\n",
    "    ans = \"Yes\"\n",
    "else:\n",
    "    ans = \"No\"\n",
    "print(ans)"
   ]
  },
  {
   "cell_type": "markdown",
   "metadata": {},
   "source": [
    "# B問題"
   ]
  },
  {
   "cell_type": "code",
   "execution_count": 50,
   "metadata": {},
   "outputs": [
    {
     "name": "stdout",
     "output_type": "stream",
     "text": [
      "14 16\n"
     ]
    }
   ],
   "source": [
    "A, B, W = map(int, input().split())\n",
    "W *= 1000\n",
    "\n",
    "lst = []\n",
    "for i in range(1,W//A+1):\n",
    "    if W-A*i <= (B-A)*i:\n",
    "        lst.append(i)\n",
    "\n",
    "if len(lst) == 0:\n",
    "    print(\"UNSATISFIABLE\")\n",
    "else:\n",
    "    lst = sorted(lst)\n",
    "    ans = [lst[0], lst[-1]]\n",
    "    print(*ans)"
   ]
  },
  {
   "cell_type": "markdown",
   "metadata": {},
   "source": [
    "# C問題"
   ]
  },
  {
   "cell_type": "code",
   "execution_count": 36,
   "metadata": {},
   "outputs": [
    {
     "name": "stdout",
     "output_type": "stream",
     "text": [
      "107730272137364\n"
     ]
    }
   ],
   "source": [
    "N = int(input())\n",
    "\n",
    "l = len(str(N))\n",
    "ans = 0\n",
    "\n",
    "if 4 <= l:\n",
    "    ans += max(N - 999, 0)\n",
    "if 7 <= l:\n",
    "    ans += max((N - 999999), 0)\n",
    "if 10 <= l:\n",
    "    ans += max((N - 999999999), 0)\n",
    "if 13 <= l:\n",
    "    ans += max((N - 999999999999), 0)\n",
    "if l == 16:\n",
    "    ans += 1\n",
    "\n",
    "\n",
    "\n",
    "\n",
    "# if 4 <= l:\n",
    "#     ans += min(N - 999, 10**6-10**3)\n",
    "# if 7 <= l:\n",
    "#     ans += min((N - 999999), 10**9-10**6)\n",
    "# if 10 <= l:\n",
    "#     ans += min((N - 999999999), 10**12-10**9)\n",
    "# if 13 <= l:\n",
    "#     ans += min((N - 999999999999), 10**15-10**12)\n",
    "# if l == 16:\n",
    "#     ans += 5\n",
    "    \n",
    "print(ans)"
   ]
  },
  {
   "cell_type": "markdown",
   "metadata": {},
   "source": [
    "# D問題"
   ]
  },
  {
   "cell_type": "code",
   "execution_count": 7,
   "metadata": {},
   "outputs": [
    {
     "name": "stdout",
     "output_type": "stream",
     "text": [
      "20\n",
      "0\n",
      "9\n"
     ]
    }
   ],
   "source": [
    "N, M, Q = map(int, input().split())\n",
    "lst = [list(map(int, input().split())) for _ in range(N)]\n",
    "lst = sorted(lst, key=lambda x: -x[1])\n",
    "X = list(map(int, input().split()))\n",
    "\n",
    "for _ in range(Q):\n",
    "    l, r = map(lambda x:int(x)-1, input().split())\n",
    "    X_q = X[:l] + X[r+1:]\n",
    "    ans_lst = [0]*len(X_q)\n",
    "    ans = 0\n",
    "    \n",
    "    for l in lst:\n",
    "        l_x = 10**6+1\n",
    "        l_idx = 0\n",
    "        for i in range(len(X_q)):\n",
    "            w, v = l\n",
    "            if w <= X_q[i] and v > ans_lst[i]:\n",
    "                if l_x == 10**6+1:\n",
    "                    ans_lst[i] = v\n",
    "                    l_x = X_q[i]\n",
    "                    l_idx = i\n",
    "                elif l_x > w:\n",
    "                    ans_lst[i], ans_lst[l_idx] = ans_lst[l_idx], ans_lst[i]\n",
    "                    l_x = X_q[i]\n",
    "                    l_idx = i\n",
    "        \n",
    "        ans = max(ans, sum(ans_lst))\n",
    "    print(ans)"
   ]
  },
  {
   "cell_type": "code",
   "execution_count": 8,
   "metadata": {},
   "outputs": [
    {
     "name": "stdout",
     "output_type": "stream",
     "text": [
      "27\n",
      "0\n",
      "9\n"
     ]
    }
   ],
   "source": [
    "N, M, Q = map(int, input().split())\n",
    "lst = [list(map(int, input().split())) for _ in range(N)]\n",
    "lst = sorted(lst, key=lambda x: x[0])\n",
    "lst = sorted(lst, key=lambda x: -x[1])\n",
    "X = list(map(int, input().split()))\n",
    "\n",
    "for _ in range(Q):\n",
    "    l, r = map(lambda x:int(x)-1, input().split())\n",
    "    X_q = X[:l] + X[r+1:]\n",
    "    X_q = sorted(X_q)\n",
    "    ans_lst = [0]*len(X_q)\n",
    "    ans = 0\n",
    "    \n",
    "    for l in lst:\n",
    "        w, v = l\n",
    "        for i in range(len(X_q)):\n",
    "            if w <= X_q[i] and ans_lst[i] == 0:\n",
    "                ans_lst[i] = v\n",
    "        ans = max(ans, sum(ans_lst))\n",
    "    print(ans)"
   ]
  },
  {
   "cell_type": "code",
   "execution_count": 9,
   "metadata": {},
   "outputs": [
    {
     "data": {
      "text/plain": [
       "[[1, 9], [7, 8], [5, 3]]"
      ]
     },
     "execution_count": 9,
     "metadata": {},
     "output_type": "execute_result"
    }
   ],
   "source": [
    "lst"
   ]
  },
  {
   "cell_type": "code",
   "execution_count": 4,
   "metadata": {
    "jupyter": {
     "source_hidden": true
    }
   },
   "outputs": [
    {
     "data": {
      "application/vnd.jupyter.widget-view+json": {
       "model_id": "e94d1899326747e79cba54c2deb7003d",
       "version_major": 2,
       "version_minor": 0
      },
      "text/plain": [
       "Textarea(value='')"
      ]
     },
     "metadata": {},
     "output_type": "display_data"
    }
   ],
   "source": [
    "from ipywidgets import Textarea\n",
    "import io\n",
    "\n",
    "if 'open' in globals():\n",
    "    del open\n",
    "if 'input' in globals():\n",
    "    del input\n",
    "\n",
    "original_open = open\n",
    "\n",
    "class custom_open():\n",
    "    def __init__(self):\n",
    "        self.text = ''\n",
    "\n",
    "    def __call__(self, file, *args, **kwargs):\n",
    "        if file == 0:\n",
    "            return io.StringIO(self.text)\n",
    "        return original_open(file, *args, **kwargs)\n",
    "\n",
    "    def updater(self, change):\n",
    "        self.text = change[\"new\"]\n",
    "\n",
    "class custom_input():\n",
    "    def __init__(self):\n",
    "        self.__sio = io.StringIO('')\n",
    "        self.shell = get_ipython()\n",
    "        if self.shell.events.callbacks['pre_run_cell'] != []:\n",
    "            self.shell.events.callbacks['pre_run_cell'] = []\n",
    "        self.shell.events.register('pre_run_cell', self.pre_run_cell)\n",
    "\n",
    "    def __call__(self):\n",
    "        return self.__sio.readline().strip()\n",
    "\n",
    "    def pre_run_cell(self, info):\n",
    "        text = self.shell.user_ns.get('text_area', None).value\n",
    "        self.__sio = io.StringIO(text)\n",
    "\n",
    "open = custom_open()\n",
    "input = custom_input()\n",
    "\n",
    "text_area = Textarea()\n",
    "text_area.observe(open.updater, names='value')\n",
    "display(text_area)"
   ]
  }
 ],
 "metadata": {
  "kernelspec": {
   "display_name": "Python 3",
   "language": "python",
   "name": "python3"
  },
  "language_info": {
   "codemirror_mode": {
    "name": "ipython",
    "version": 3
   },
   "file_extension": ".py",
   "mimetype": "text/x-python",
   "name": "python",
   "nbconvert_exporter": "python",
   "pygments_lexer": "ipython3",
   "version": "3.6.5"
  },
  "toc": {
   "base_numbering": 1,
   "nav_menu": {},
   "number_sections": true,
   "sideBar": true,
   "skip_h1_title": false,
   "title_cell": "Table of Contents",
   "title_sidebar": "Contents",
   "toc_cell": false,
   "toc_position": {},
   "toc_section_display": true,
   "toc_window_display": false
  }
 },
 "nbformat": 4,
 "nbformat_minor": 4
}

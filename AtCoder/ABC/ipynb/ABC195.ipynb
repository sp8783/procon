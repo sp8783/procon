{
 "cells": [
  {
   "cell_type": "markdown",
   "metadata": {},
   "source": [
    "# A問題"
   ]
  },
  {
   "cell_type": "code",
   "execution_count": 3,
   "metadata": {},
   "outputs": [
    {
     "name": "stdout",
     "output_type": "stream",
     "text": [
      "No\n"
     ]
    }
   ],
   "source": [
    "M, H = map(int ,input().split())\n",
    "if H%M == 0:\n",
    "    ans = \"Yes\"\n",
    "else:\n",
    "    ans = \"No\"\n",
    "print(ans)"
   ]
  },
  {
   "cell_type": "markdown",
   "metadata": {},
   "source": [
    "# B問題"
   ]
  },
  {
   "cell_type": "code",
   "execution_count": 50,
   "metadata": {},
   "outputs": [
    {
     "name": "stdout",
     "output_type": "stream",
     "text": [
      "14 16\n"
     ]
    }
   ],
   "source": [
    "A, B, W = map(int, input().split())\n",
    "W *= 1000\n",
    "\n",
    "lst = []\n",
    "for i in range(1,W//A+1):\n",
    "    if W-A*i <= (B-A)*i:\n",
    "        lst.append(i)\n",
    "\n",
    "if len(lst) == 0:\n",
    "    print(\"UNSATISFIABLE\")\n",
    "else:\n",
    "    lst = sorted(lst)\n",
    "    ans = [lst[0], lst[-1]]\n",
    "    print(*ans)"
   ]
  },
  {
   "cell_type": "markdown",
   "metadata": {},
   "source": [
    "# C問題"
   ]
  },
  {
   "cell_type": "code",
   "execution_count": 36,
   "metadata": {},
   "outputs": [
    {
     "name": "stdout",
     "output_type": "stream",
     "text": [
      "107730272137364\n"
     ]
    }
   ],
   "source": [
    "N = int(input())\n",
    "\n",
    "l = len(str(N))\n",
    "ans = 0\n",
    "\n",
    "if 4 <= l:\n",
    "    ans += max(N - 999, 0)\n",
    "if 7 <= l:\n",
    "    ans += max((N - 999999), 0)\n",
    "if 10 <= l:\n",
    "    ans += max((N - 999999999), 0)\n",
    "if 13 <= l:\n",
    "    ans += max((N - 999999999999), 0)\n",
    "if l == 16:\n",
    "    ans += 1\n",
    "\n",
    "\n",
    "\n",
    "\n",
    "# if 4 <= l:\n",
    "#     ans += min(N - 999, 10**6-10**3)\n",
    "# if 7 <= l:\n",
    "#     ans += min((N - 999999), 10**9-10**6)\n",
    "# if 10 <= l:\n",
    "#     ans += min((N - 999999999), 10**12-10**9)\n",
    "# if 13 <= l:\n",
    "#     ans += min((N - 999999999999), 10**15-10**12)\n",
    "# if l == 16:\n",
    "#     ans += 5\n",
    "    \n",
    "print(ans)"
   ]
  },
  {
   "cell_type": "markdown",
   "metadata": {},
   "source": [
    "# D問題"
   ]
  },
  {
   "cell_type": "code",
   "execution_count": 12,
   "metadata": {},
   "outputs": [
    {
     "name": "stdout",
     "output_type": "stream",
     "text": [
      "20\n",
      "0\n",
      "9\n"
     ]
    }
   ],
   "source": [
    "N, M, Q = map(int, input().split())\n",
    "lst = [list(map(int, input().split())) for _ in range(N)]\n",
    "lst = sorted(lst, key=lambda x: x[0])\n",
    "lst = sorted(lst, key=lambda x: -x[1])\n",
    "X = list(map(int, input().split()))\n",
    "\n",
    "for _ in range(Q):\n",
    "    l, r = map(lambda x:int(x)-1, input().split())\n",
    "    X_q = X[:l] + X[r+1:]\n",
    "    X_q = sorted(X_q)\n",
    "    ans_lst = [0]*len(X_q)\n",
    "    ans = 0\n",
    "    \n",
    "    for l in lst:\n",
    "        w, v = l\n",
    "        for i in range(len(X_q)):\n",
    "            if w <= X_q[i] and ans_lst[i] == 0:\n",
    "                ans_lst[i] = v\n",
    "                break\n",
    "        ans = max(ans, sum(ans_lst))\n",
    "    print(ans)"
   ]
  }
 ],
 "metadata": {
  "kernelspec": {
   "display_name": "Python 3",
   "language": "python",
   "name": "python3"
  },
  "language_info": {
   "codemirror_mode": {
    "name": "ipython",
    "version": 3
   },
   "file_extension": ".py",
   "mimetype": "text/x-python",
   "name": "python",
   "nbconvert_exporter": "python",
   "pygments_lexer": "ipython3",
   "version": "3.6.5"
  },
  "toc": {
   "base_numbering": 1,
   "nav_menu": {},
   "number_sections": true,
   "sideBar": true,
   "skip_h1_title": false,
   "title_cell": "Table of Contents",
   "title_sidebar": "Contents",
   "toc_cell": false,
   "toc_position": {},
   "toc_section_display": true,
   "toc_window_display": false
  }
 },
 "nbformat": 4,
 "nbformat_minor": 4
}

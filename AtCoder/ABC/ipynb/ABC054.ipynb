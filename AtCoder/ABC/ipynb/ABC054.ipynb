{
 "cells": [
  {
   "cell_type": "markdown",
   "metadata": {},
   "source": [
    "# A問題"
   ]
  },
  {
   "cell_type": "code",
   "execution_count": 6,
   "metadata": {},
   "outputs": [
    {
     "name": "stdin",
     "output_type": "stream",
     "text": [
      " 6 1\n"
     ]
    },
    {
     "name": "stdout",
     "output_type": "stream",
     "text": [
      "Bob\n"
     ]
    }
   ],
   "source": [
    "a,b = map(int, input().split())\n",
    "if a == b:\n",
    "    print(\"Draw\")\n",
    "else:\n",
    "    if a == 1:\n",
    "        print(\"Alice\")\n",
    "    elif b == 1:\n",
    "        print(\"Bob\")\n",
    "    elif a > b:\n",
    "        print(\"Alice\")\n",
    "    else:\n",
    "        print(\"Bob\")"
   ]
  },
  {
   "cell_type": "markdown",
   "metadata": {},
   "source": [
    "# B問題"
   ]
  },
  {
   "cell_type": "code",
   "execution_count": 10,
   "metadata": {},
   "outputs": [
    {
     "name": "stdout",
     "output_type": "stream",
     "text": [
      "No\n"
     ]
    }
   ],
   "source": [
    "N, M = map(int, input().split())\n",
    "A = [list(input()) for _ in range(N)]\n",
    "B = [list(input()) for _ in range(M)]\n",
    "\n",
    "ans = \"No\"\n",
    "for i in range(N-M+1):\n",
    "    for j in range(N-M+1):\n",
    "        flag = True\n",
    "        for k in range(M):\n",
    "            for l in range(M):\n",
    "                if A[i+k][j+l] == B[k][l]:\n",
    "                    continue\n",
    "                else:\n",
    "                    flag = False\n",
    "                    break\n",
    "            \n",
    "            if flag == False:\n",
    "                break\n",
    "        \n",
    "        if flag == True:\n",
    "            ans = \"Yes\"\n",
    "            break\n",
    "    \n",
    "    if flag == True:\n",
    "        break\n",
    "                \n",
    "print(ans)"
   ]
  }
 ],
 "metadata": {
  "kernelspec": {
   "display_name": "Python 3",
   "language": "python",
   "name": "python3"
  },
  "language_info": {
   "codemirror_mode": {
    "name": "ipython",
    "version": 3
   },
   "file_extension": ".py",
   "mimetype": "text/x-python",
   "name": "python",
   "nbconvert_exporter": "python",
   "pygments_lexer": "ipython3",
   "version": "3.6.5"
  },
  "toc": {
   "base_numbering": 1,
   "nav_menu": {},
   "number_sections": true,
   "sideBar": true,
   "skip_h1_title": false,
   "title_cell": "Table of Contents",
   "title_sidebar": "Contents",
   "toc_cell": false,
   "toc_position": {},
   "toc_section_display": true,
   "toc_window_display": false
  }
 },
 "nbformat": 4,
 "nbformat_minor": 4
}

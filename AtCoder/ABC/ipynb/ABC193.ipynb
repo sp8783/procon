{
 "cells": [
  {
   "cell_type": "markdown",
   "metadata": {},
   "source": [
    "# A問題"
   ]
  },
  {
   "cell_type": "code",
   "execution_count": 3,
   "metadata": {},
   "outputs": [
    {
     "name": "stdout",
     "output_type": "stream",
     "text": [
      "20.0\n"
     ]
    }
   ],
   "source": [
    "a,b = map(int, input().split())\n",
    "ans = 100*(a-b)/a\n",
    "\n",
    "print(ans)"
   ]
  },
  {
   "cell_type": "markdown",
   "metadata": {},
   "source": [
    "# B問題"
   ]
  },
  {
   "cell_type": "code",
   "execution_count": 6,
   "metadata": {},
   "outputs": [
    {
     "name": "stdout",
     "output_type": "stream",
     "text": [
      "861648772\n"
     ]
    }
   ],
   "source": [
    "N = int(input())\n",
    "lst = [list(map(int, input().split())) for _ in range(N)]\n",
    "\n",
    "ans = 10**10\n",
    "for l in lst:\n",
    "    a, p, x = l\n",
    "    if x > a:\n",
    "        ans = min(ans, p)\n",
    "    \n",
    "if ans == 10**10:\n",
    "    print(-1)\n",
    "else:\n",
    "    print(ans)"
   ]
  },
  {
   "cell_type": "markdown",
   "metadata": {},
   "source": [
    "# C問題"
   ]
  },
  {
   "cell_type": "code",
   "execution_count": 80,
   "metadata": {},
   "outputs": [
    {
     "name": "stdout",
     "output_type": "stream",
     "text": [
      "99634\n"
     ]
    }
   ],
   "source": [
    "import math\n",
    "\n",
    "N = int(input())\n",
    "\n",
    "cnt = 0\n",
    "a = 2\n",
    "S = set()\n",
    "\n",
    "while N >= a**2:\n",
    "#     print(\"a={}\".format(a))\n",
    "    if not a in S:\n",
    "        cnt += math.floor(math.log(N,a)) - 1\n",
    "    \n",
    "    s = [a**i for i in range(2,17) if a**i <= 10**5]\n",
    "    S = S | set(s)\n",
    "    a += 1\n",
    "#     print(\"cnt={}\".format(cnt))\n",
    "    \n",
    "ans = N - cnt\n",
    "print(ans)"
   ]
  },
  {
   "cell_type": "markdown",
   "metadata": {},
   "source": [
    "# D問題"
   ]
  },
  {
   "cell_type": "code",
   "execution_count": 63,
   "metadata": {},
   "outputs": [
    {
     "name": "stdout",
     "output_type": "stream",
     "text": [
      "0.6296297942426156\n"
     ]
    }
   ],
   "source": [
    "import itertools\n",
    "from collections import Counter\n",
    "\n",
    "K = int(input())\n",
    "S = list(input())\n",
    "T = list(input())\n",
    "\n",
    "S_cnt = Counter(S)\n",
    "T_cnt = Counter(T)\n",
    "card_lst = []\n",
    "card_cnt_dic = dict(zip(list(range(1,10)), [0]*9))\n",
    "\n",
    "for i in range(1,10):\n",
    "    card_cnt = K - (S_cnt[str(i)] + T_cnt[str(i)])\n",
    "    card_lst += [i]*(min(card_cnt,2))\n",
    "    card_cnt_dic[i] += card_cnt\n",
    "\n",
    "card_comb = itertools.permutations(card_lst,2)\n",
    "cnt = 0\n",
    "cnt_all = 0\n",
    "\n",
    "for a,b in set(card_comb):\n",
    "    s = S[:]\n",
    "    t = T[:]\n",
    "    s[4] = str(a)\n",
    "    t[4] = str(b)\n",
    "    \n",
    "    c_s = Counter(s)\n",
    "    c_t = Counter(t)\n",
    "    \n",
    "    point = [0,0]\n",
    "    \n",
    "    for i in range(1,10):\n",
    "        idx = str(i)\n",
    "        point[0] += i * (10**c_s[idx])\n",
    "        point[1] += i * (10**c_t[idx])\n",
    "        \n",
    "    if point[0] > point[1]:\n",
    "        if a != b:\n",
    "            tmp = card_cnt_dic[a]*card_cnt_dic[b]\n",
    "        else:\n",
    "            tmp = card_cnt_dic[a]*(card_cnt_dic[a]-1)\n",
    "        cnt += tmp\n",
    "    if a != b:\n",
    "        tmp = card_cnt_dic[a]*card_cnt_dic[b]\n",
    "    else:\n",
    "        tmp = card_cnt_dic[a]*(card_cnt_dic[a]-1)\n",
    "    cnt_all += tmp\n",
    "\n",
    "ans = cnt/cnt_all\n",
    "print(ans)"
   ]
  }
 ],
 "metadata": {
  "kernelspec": {
   "display_name": "Python 3",
   "language": "python",
   "name": "python3"
  },
  "language_info": {
   "codemirror_mode": {
    "name": "ipython",
    "version": 3
   },
   "file_extension": ".py",
   "mimetype": "text/x-python",
   "name": "python",
   "nbconvert_exporter": "python",
   "pygments_lexer": "ipython3",
   "version": "3.6.5"
  },
  "toc": {
   "base_numbering": 1,
   "nav_menu": {},
   "number_sections": true,
   "sideBar": true,
   "skip_h1_title": false,
   "title_cell": "Table of Contents",
   "title_sidebar": "Contents",
   "toc_cell": false,
   "toc_position": {},
   "toc_section_display": true,
   "toc_window_display": false
  }
 },
 "nbformat": 4,
 "nbformat_minor": 4
}

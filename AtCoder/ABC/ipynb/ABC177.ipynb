{
 "cells": [
  {
   "cell_type": "markdown",
   "metadata": {},
   "source": [
    "# A問題"
   ]
  },
  {
   "cell_type": "code",
   "execution_count": 3,
   "metadata": {},
   "outputs": [
    {
     "name": "stdout",
     "output_type": "stream",
     "text": [
      "10000 1 1\n",
      "No\n"
     ]
    }
   ],
   "source": [
    "d, t, s = map(int,input().split())\n",
    "\n",
    "if d <= t*s:\n",
    "    print(\"Yes\")\n",
    "else:\n",
    "    print(\"No\")"
   ]
  },
  {
   "cell_type": "markdown",
   "metadata": {},
   "source": [
    "# B問題"
   ]
  },
  {
   "cell_type": "code",
   "execution_count": 32,
   "metadata": {},
   "outputs": [
    {
     "name": "stdout",
     "output_type": "stream",
     "text": [
      "codeforce\n",
      "atcoder\n",
      "6\n"
     ]
    }
   ],
   "source": [
    "import numpy as np\n",
    "\n",
    "s=np.array(list(input()))\n",
    "t=np.array(list(input()))\n",
    "\n",
    "ans = len(t)\n",
    "\n",
    "for i in range(len(s)-len(t)+1):\n",
    "    tmp = sum(s[i:i+len(t)] == t)\n",
    "    if ans > len(t) - tmp:\n",
    "        ans = len(t) - tmp\n",
    "\n",
    "print(ans)"
   ]
  },
  {
   "cell_type": "markdown",
   "metadata": {},
   "source": [
    "# C問題"
   ]
  },
  {
   "cell_type": "code",
   "execution_count": 3,
   "metadata": {},
   "outputs": [
    {
     "name": "stdout",
     "output_type": "stream",
     "text": [
      "4\n",
      "141421356 17320508 22360679 244949\n",
      "437235829\n"
     ]
    }
   ],
   "source": [
    "n = int(input())\n",
    "lst = list(map(int,input().split()))\n",
    "mod = 10 ** 9 + 7\n",
    "\n",
    "ans = 0\n",
    "S = sum(lst)\n",
    "\n",
    "for i in range(n-1):\n",
    "    S = S - lst[i]\n",
    "    tmp = lst[i] * S\n",
    "    ans = (ans + tmp) % mod\n",
    "\n",
    "print(ans)"
   ]
  },
  {
   "cell_type": "markdown",
   "metadata": {},
   "source": [
    "# D問題"
   ]
  },
  {
   "cell_type": "code",
   "execution_count": 1,
   "metadata": {},
   "outputs": [
    {
     "name": "stdin",
     "output_type": "stream",
     "text": [
      " 5 3\n",
      " 1 2\n",
      " 3 4\n",
      " 5 1\n"
     ]
    },
    {
     "name": "stdout",
     "output_type": "stream",
     "text": [
      "3\n"
     ]
    }
   ],
   "source": [
    "from collections import defaultdict\n",
    "\n",
    "class UnionFind():\n",
    "    def __init__(self, n):\n",
    "        self.n = n\n",
    "        self.parents = [-1] * n\n",
    "\n",
    "    def find(self, x):        \n",
    "        if self.parents[x] < 0:\n",
    "            return x\n",
    "        else:\n",
    "            self.parents[x] = self.find(self.parents[x])\n",
    "            return self.parents[x]\n",
    "\n",
    "    def union(self, x, y):\n",
    "        x = self.find(x)\n",
    "        y = self.find(y)\n",
    "\n",
    "        if x == y:\n",
    "            return\n",
    "\n",
    "        if self.parents[x] > self.parents[y]:\n",
    "            x, y = y, x\n",
    "\n",
    "        self.parents[x] += self.parents[y]\n",
    "        self.parents[y] = x\n",
    "\n",
    "    def size(self, x):\n",
    "        return -self.parents[self.find(x)]\n",
    "\n",
    "\n",
    "n, m = map(int, input().split())\n",
    "\n",
    "uf = UnionFind(n)\n",
    "for i in range(m):\n",
    "    a, b = map(int,input().split())\n",
    "    a -= 1\n",
    "    b -= 1\n",
    "    uf.union(a, b)\n",
    "\n",
    "ans = 0\n",
    "for i in range(n):\n",
    "    ans = max(ans, uf.size(i))\n",
    "\n",
    "print(ans) "
   ]
  }
 ],
 "metadata": {
  "kernelspec": {
   "display_name": "Python 3",
   "language": "python",
   "name": "python3"
  },
  "language_info": {
   "codemirror_mode": {
    "name": "ipython",
    "version": 3
   },
   "file_extension": ".py",
   "mimetype": "text/x-python",
   "name": "python",
   "nbconvert_exporter": "python",
   "pygments_lexer": "ipython3",
   "version": "3.6.5"
  },
  "toc": {
   "base_numbering": 1,
   "nav_menu": {},
   "number_sections": true,
   "sideBar": true,
   "skip_h1_title": false,
   "title_cell": "Table of Contents",
   "title_sidebar": "Contents",
   "toc_cell": false,
   "toc_position": {},
   "toc_section_display": true,
   "toc_window_display": false
  }
 },
 "nbformat": 4,
 "nbformat_minor": 4
}

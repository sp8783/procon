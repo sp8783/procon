{
 "cells": [
  {
   "cell_type": "markdown",
   "metadata": {},
   "source": [
    "# A問題"
   ]
  },
  {
   "cell_type": "code",
   "execution_count": 4,
   "metadata": {},
   "outputs": [
    {
     "name": "stdin",
     "output_type": "stream",
     "text": [
      " FREE\n"
     ]
    },
    {
     "name": "stdout",
     "output_type": "stream",
     "text": [
      "No\n"
     ]
    }
   ],
   "source": [
    "from collections import Counter\n",
    "\n",
    "S = list(input())\n",
    "S = Counter(S)\n",
    "\n",
    "if all(s == 2 for s in S.values()):\n",
    "    ans = \"Yes\"\n",
    "else:\n",
    "    ans = \"No\"\n",
    "\n",
    "print(ans)"
   ]
  },
  {
   "cell_type": "markdown",
   "metadata": {},
   "source": [
    "# B問題"
   ]
  },
  {
   "cell_type": "code",
   "execution_count": 7,
   "metadata": {},
   "outputs": [
    {
     "name": "stdin",
     "output_type": "stream",
     "text": [
      " 9\n",
      " 9 6 3 2 5 8 7 4 1\n"
     ]
    },
    {
     "name": "stdout",
     "output_type": "stream",
     "text": [
      "5\n"
     ]
    }
   ],
   "source": [
    "n = int(input())\n",
    "P = list(map(int, input().split()))\n",
    "\n",
    "ans = 0\n",
    "for i in range(n-2):\n",
    "    if P[i+1] != max(P[i:i+3]) and P[i+1] != min(P[i:i+3]):\n",
    "        ans += 1\n",
    "    \n",
    "print(ans)"
   ]
  },
  {
   "cell_type": "markdown",
   "metadata": {},
   "source": [
    "# C問題"
   ]
  },
  {
   "cell_type": "code",
   "execution_count": 18,
   "metadata": {},
   "outputs": [
    {
     "name": "stdin",
     "output_type": "stream",
     "text": [
      " 14\n",
      " 99592 10342 29105 78532 83018 11639 92015 77204 30914 21912 34519 80835 100000 1\n"
     ]
    },
    {
     "name": "stdout",
     "output_type": "stream",
     "text": [
      "42685\n"
     ]
    }
   ],
   "source": [
    "N = int(input())\n",
    "D = list(map(int, input().split()))\n",
    "\n",
    "D = sorted(D)\n",
    "ans = D[len(D)//2] - D[(len(D)//2) - 1] \n",
    "\n",
    "print(ans)"
   ]
  },
  {
   "cell_type": "markdown",
   "metadata": {},
   "source": [
    "# D問題"
   ]
  },
  {
   "cell_type": "code",
   "execution_count": 43,
   "metadata": {},
   "outputs": [
    {
     "name": "stdin",
     "output_type": "stream",
     "text": [
      " 4 3\n"
     ]
    },
    {
     "name": "stdout",
     "output_type": "stream",
     "text": [
      "2\n",
      "2\n",
      "0\n"
     ]
    }
   ],
   "source": [
    "import math\n",
    "\n",
    "def comb(n, r, mod=10**9+7):\n",
    "    nf = math.factorial(n)\n",
    "    rf = math.factorial(r)\n",
    "    nf_rf = math.factorial(n-r)\n",
    "    return (nf // (nf_rf * rf)) % mod\n",
    "\n",
    "N, K = map(int, input().split())\n",
    "mod = 10**9+7\n",
    "\n",
    "if N != K:\n",
    "    for i in range(1, K+1):\n",
    "        if i - (N-K) <= 1:\n",
    "            ans = comb(N-K+1, i) * comb(K-1, i-1) % mod\n",
    "        else:\n",
    "            ans = 0\n",
    "        print(ans)\n",
    "else:\n",
    "    for i in range(1, K+1):\n",
    "        if i == 1:\n",
    "            ans = 1\n",
    "        else:\n",
    "            ans = 0\n",
    "        print(ans)"
   ]
  }
 ],
 "metadata": {
  "kernelspec": {
   "display_name": "Python 3",
   "language": "python",
   "name": "python3"
  },
  "language_info": {
   "codemirror_mode": {
    "name": "ipython",
    "version": 3
   },
   "file_extension": ".py",
   "mimetype": "text/x-python",
   "name": "python",
   "nbconvert_exporter": "python",
   "pygments_lexer": "ipython3",
   "version": "3.6.5"
  },
  "toc": {
   "base_numbering": 1,
   "nav_menu": {},
   "number_sections": true,
   "sideBar": true,
   "skip_h1_title": false,
   "title_cell": "Table of Contents",
   "title_sidebar": "Contents",
   "toc_cell": false,
   "toc_position": {},
   "toc_section_display": true,
   "toc_window_display": false
  }
 },
 "nbformat": 4,
 "nbformat_minor": 4
}

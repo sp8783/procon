{
 "cells": [
  {
   "cell_type": "markdown",
   "metadata": {},
   "source": [
    "# A問題"
   ]
  },
  {
   "cell_type": "code",
   "execution_count": 8,
   "metadata": {},
   "outputs": [
    {
     "name": "stdout",
     "output_type": "stream",
     "text": [
      "23\n"
     ]
    }
   ],
   "source": [
    "a,b = map(int, input().split())\n",
    "ans = max(b-a+1, 0)\n",
    "print(ans)"
   ]
  },
  {
   "cell_type": "markdown",
   "metadata": {},
   "source": [
    "# B問題"
   ]
  },
  {
   "cell_type": "code",
   "execution_count": 9,
   "metadata": {},
   "outputs": [
    {
     "name": "stdout",
     "output_type": "stream",
     "text": [
      "Yes\n"
     ]
    }
   ],
   "source": [
    "N,X = map(int, input().split())\n",
    "A = list(map(int, input().split()))\n",
    "\n",
    "if X >= sum(A) - N//2:\n",
    "    print(\"Yes\")\n",
    "else:\n",
    "    print(\"No\")"
   ]
  },
  {
   "cell_type": "markdown",
   "metadata": {},
   "source": [
    "# C問題"
   ]
  },
  {
   "cell_type": "code",
   "execution_count": 13,
   "metadata": {},
   "outputs": [
    {
     "name": "stdout",
     "output_type": "stream",
     "text": [
      "405924645\n"
     ]
    }
   ],
   "source": [
    "N = int(input())\n",
    "C = list(map(int, input().split()))\n",
    "\n",
    "C = sorted(C)\n",
    "\n",
    "ans = 1\n",
    "MOD = 10**9+7\n",
    "for i in range(N):\n",
    "    ans *= C[i]-i\n",
    "    ans %= MOD\n",
    "    \n",
    "print(ans)"
   ]
  },
  {
   "cell_type": "markdown",
   "metadata": {},
   "source": [
    "# D問題"
   ]
  },
  {
   "cell_type": "code",
   "execution_count": 18,
   "metadata": {},
   "outputs": [
    {
     "name": "stdout",
     "output_type": "stream",
     "text": [
      "Town\n",
      "Road\n",
      "Town\n",
      "Town\n",
      "Town\n",
      "Town\n",
      "Road\n",
      "Road\n",
      "Road\n"
     ]
    }
   ],
   "source": [
    "class LCA(object):\n",
    "    def __init__(self, G, root=0):\n",
    "        self.G = G\n",
    "        self.root = root\n",
    "        self.n = len(G)\n",
    "        self.logn = (self.n - 1).bit_length()\n",
    "        self.depth = [-1 if i != root else 0 for i in range(self.n)]\n",
    "        self.parent = [[-1] * self.n for _ in range(self.logn)]\n",
    "        self.dfs()\n",
    "        self.doubling()\n",
    "\n",
    "    def dfs(self):\n",
    "        que = [self.root]\n",
    "        while que:\n",
    "            u = que.pop()\n",
    "            for v in self.G[u]:\n",
    "                if self.depth[v] == -1:\n",
    "                    self.depth[v] = self.depth[u] + 1\n",
    "                    self.parent[0][v] = u\n",
    "                    que += [v]\n",
    "\n",
    "    def doubling(self):\n",
    "        for i in range(1, self.logn):\n",
    "            for v in range(self.n):\n",
    "                if self.parent[i - 1][v] != -1:\n",
    "                    self.parent[i][v] = self.parent[i - 1][self.parent[i - 1][v]]\n",
    "\n",
    "    def get(self, u, v):\n",
    "        if self.depth[v] < self.depth[u]:\n",
    "            u, v = v, u\n",
    "        du = self.depth[u]\n",
    "        dv = self.depth[v]\n",
    "\n",
    "        for i in range(self.logn):  # depthの差分だけuを遡らせる\n",
    "            if (dv - du) >> i & 1:\n",
    "                v = self.parent[i][v]\n",
    "        if u == v: return u  # 高さ揃えた時点で一致してたら終わり\n",
    "\n",
    "        for i in range(self.logn - 1, -1, -1):  # そうでなければ上から二分探索\n",
    "            pu, pv = self.parent[i][u], self.parent[i][v]\n",
    "            if pu != pv:\n",
    "                u, v = pu, pv\n",
    "        return self.parent[0][u]\n",
    "\n",
    "N, Q = map(int, input().split())\n",
    "adj = [[] for _ in range(N)]\n",
    "for _ in range(N-1):\n",
    "    a, b = map(int, input().split())\n",
    "    adj[a-1].append(b-1)\n",
    "    adj[b-1].append(a-1)\n",
    "    \n",
    "lca = LCA(adj)\n",
    "for _ in range(Q):\n",
    "    c, d = map(int, input().split())\n",
    "    c -= 1\n",
    "    d -= 1\n",
    "    dist = lca.depth[c] + lca.depth[d] - 2 * lca.depth[lca.get(c, d)] + 1\n",
    "    if dist%2 == 1:\n",
    "        print(\"Town\")\n",
    "    else:\n",
    "        print(\"Road\")"
   ]
  }
 ],
 "metadata": {
  "kernelspec": {
   "display_name": "Python 3",
   "language": "python",
   "name": "python3"
  },
  "language_info": {
   "codemirror_mode": {
    "name": "ipython",
    "version": 3
   },
   "file_extension": ".py",
   "mimetype": "text/x-python",
   "name": "python",
   "nbconvert_exporter": "python",
   "pygments_lexer": "ipython3",
   "version": "3.6.5"
  },
  "toc": {
   "base_numbering": 1,
   "nav_menu": {},
   "number_sections": true,
   "sideBar": true,
   "skip_h1_title": false,
   "title_cell": "Table of Contents",
   "title_sidebar": "Contents",
   "toc_cell": false,
   "toc_position": {},
   "toc_section_display": true,
   "toc_window_display": false
  }
 },
 "nbformat": 4,
 "nbformat_minor": 4
}

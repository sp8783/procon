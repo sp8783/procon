{
 "cells": [
  {
   "cell_type": "markdown",
   "metadata": {},
   "source": [
    "# A問題"
   ]
  },
  {
   "cell_type": "code",
   "execution_count": 1,
   "metadata": {},
   "outputs": [
    {
     "name": "stdin",
     "output_type": "stream",
     "text": [
      " 22\n"
     ]
    },
    {
     "name": "stdout",
     "output_type": "stream",
     "text": [
      "Christmas Eve Eve Eve\n"
     ]
    }
   ],
   "source": [
    "D= int(input())\n",
    "\n",
    "ans = \"Christmas\" + \" Eve\"*(25-D)\n",
    "\n",
    "print(ans)"
   ]
  },
  {
   "cell_type": "markdown",
   "metadata": {},
   "source": [
    "# B問題"
   ]
  },
  {
   "cell_type": "code",
   "execution_count": 13,
   "metadata": {},
   "outputs": [
    {
     "name": "stdout",
     "output_type": "stream",
     "text": [
      "15950\n"
     ]
    }
   ],
   "source": [
    "N = int(input())\n",
    "lst = []\n",
    "Max = 0\n",
    "for i in range(N):\n",
    "    p = int(input())\n",
    "    if p > Max:\n",
    "        Max = p\n",
    "        lst.append(Max)\n",
    "    else:\n",
    "        lst.append(p)\n",
    "\n",
    "ans = sum(lst) - Max//2\n",
    "print(ans)"
   ]
  },
  {
   "cell_type": "markdown",
   "metadata": {},
   "source": [
    "# C問題"
   ]
  },
  {
   "cell_type": "code",
   "execution_count": 17,
   "metadata": {},
   "outputs": [
    {
     "name": "stdout",
     "output_type": "stream",
     "text": [
      "0\n"
     ]
    }
   ],
   "source": [
    "N, K = map(int, input().split())\n",
    "H = [int(input()) for _ in range(N)]\n",
    "\n",
    "H = sorted(H)\n",
    "ans = 10**9\n",
    "\n",
    "for i in range(N-K+1):\n",
    "    ans = min(H[i+K-1] - H[i], ans)\n",
    "\n",
    "print(ans)"
   ]
  },
  {
   "cell_type": "markdown",
   "metadata": {},
   "source": [
    "# D問題"
   ]
  },
  {
   "cell_type": "code",
   "execution_count": 18,
   "metadata": {},
   "outputs": [
    {
     "name": "stdout",
     "output_type": "stream",
     "text": [
      "4\n"
     ]
    }
   ],
   "source": [
    "N, X = map(int, input().split())\n",
    "\n",
    "A = [1]\n",
    "P = [1]\n",
    "for i in range(N):\n",
    "    A.append(A[i]*2+3)\n",
    "    P.append(P[i]*2+1)\n",
    "\n",
    "def f(N, X):\n",
    "    if N == 0:\n",
    "        if X <= 0:\n",
    "            return 0\n",
    "        else:\n",
    "            return 1\n",
    "    elif X <= 1 + A[N-1]:\n",
    "        return f(N-1, X-1)\n",
    "    else:\n",
    "        return P[N-1] + 1 + f(N-1, X - 2 - A[N-1])\n",
    "\n",
    "print(f(N, X))"
   ]
  }
 ],
 "metadata": {
  "kernelspec": {
   "display_name": "Python 3",
   "language": "python",
   "name": "python3"
  },
  "language_info": {
   "codemirror_mode": {
    "name": "ipython",
    "version": 3
   },
   "file_extension": ".py",
   "mimetype": "text/x-python",
   "name": "python",
   "nbconvert_exporter": "python",
   "pygments_lexer": "ipython3",
   "version": "3.6.5"
  },
  "toc": {
   "base_numbering": 1,
   "nav_menu": {},
   "number_sections": true,
   "sideBar": true,
   "skip_h1_title": false,
   "title_cell": "Table of Contents",
   "title_sidebar": "Contents",
   "toc_cell": false,
   "toc_position": {},
   "toc_section_display": true,
   "toc_window_display": false
  }
 },
 "nbformat": 4,
 "nbformat_minor": 4
}

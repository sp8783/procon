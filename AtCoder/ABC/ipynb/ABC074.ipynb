{
 "cells": [
  {
   "cell_type": "markdown",
   "metadata": {},
   "source": [
    "# A問題"
   ]
  },
  {
   "cell_type": "code",
   "execution_count": 10,
   "metadata": {},
   "outputs": [
    {
     "name": "stdout",
     "output_type": "stream",
     "text": [
      "5\n"
     ]
    }
   ],
   "source": [
    "N = int(input())\n",
    "A = int(input())\n",
    "\n",
    "ans = N**2 - A\n",
    "print(ans)"
   ]
  },
  {
   "cell_type": "markdown",
   "metadata": {},
   "source": [
    "# B問題"
   ]
  },
  {
   "cell_type": "code",
   "execution_count": 14,
   "metadata": {},
   "outputs": [
    {
     "name": "stdout",
     "output_type": "stream",
     "text": [
      "74\n"
     ]
    }
   ],
   "source": [
    "N = int(input())\n",
    "K = int(input())\n",
    "X = list(map(int ,input().split()))\n",
    "\n",
    "ans = 0\n",
    "for x in X:\n",
    "    ans += 2*min(x, K-x)\n",
    "print(ans)"
   ]
  },
  {
   "cell_type": "markdown",
   "metadata": {},
   "source": [
    "# C問題"
   ]
  },
  {
   "cell_type": "code",
   "execution_count": 26,
   "metadata": {},
   "outputs": [
    {
     "name": "stdout",
     "output_type": "stream",
     "text": [
      "110 10\n"
     ]
    }
   ],
   "source": [
    "a, b, c, d, e, f = list(map(int, input().split()))\n",
    "water_max = float(100 * a)\n",
    "suger_max = 0.0\n",
    "\n",
    "\n",
    "def concentration(x, y):\n",
    "    if x + y == 0 or x == 0:\n",
    "        result = 0\n",
    "    else:\n",
    "        result = x / (x + y)\n",
    "    return result\n",
    "\n",
    "\n",
    "for i in range(31):\n",
    "    for j in range(31):\n",
    "        for k in range(100):\n",
    "            for l in range(100):\n",
    "                water = 100 * a * i + 100 * b * j\n",
    "                suger = c * k + d * l\n",
    "                if water == 0:\n",
    "                    break\n",
    "                if suger > e * (a * i + b * j):\n",
    "                    break\n",
    "                if water + suger > f:\n",
    "                    break\n",
    "                if concentration(float(suger), float(water)) > concentration(suger_max, water_max):\n",
    "                    water_max = float(water)\n",
    "                    suger_max = float(suger)\n",
    "print(int(water_max + suger_max), int(suger_max))"
   ]
  },
  {
   "cell_type": "markdown",
   "metadata": {},
   "source": [
    "# D問題"
   ]
  },
  {
   "cell_type": "code",
   "execution_count": 9,
   "metadata": {},
   "outputs": [
    {
     "name": "stdout",
     "output_type": "stream",
     "text": [
      "3000000000\n"
     ]
    }
   ],
   "source": [
    "N = int(input())\n",
    "\n",
    "dist = [list(map(int, input().split())) for _ in range(N)]\n",
    "inf = float(\"inf\")\n",
    "for i in range(N):\n",
    "    dist[i][i] = inf\n",
    "\n",
    "ans = 0\n",
    "flag = False\n",
    "for i in range(N):\n",
    "    for j in range(i+1,N):\n",
    "        mn = inf\n",
    "        for k in range(N):\n",
    "            mn = min(mn, dist[i][k] + dist[k][j])\n",
    "        if dist[i][j] > mn:\n",
    "            ans = -1\n",
    "            flag = True\n",
    "            break\n",
    "        if dist[i][j] < mn:\n",
    "            ans += dist[i][j]\n",
    "    if flag:\n",
    "        break\n",
    "\n",
    "print(ans)"
   ]
  }
 ],
 "metadata": {
  "kernelspec": {
   "display_name": "Python 3",
   "language": "python",
   "name": "python3"
  },
  "language_info": {
   "codemirror_mode": {
    "name": "ipython",
    "version": 3
   },
   "file_extension": ".py",
   "mimetype": "text/x-python",
   "name": "python",
   "nbconvert_exporter": "python",
   "pygments_lexer": "ipython3",
   "version": "3.6.5"
  },
  "toc": {
   "base_numbering": 1,
   "nav_menu": {},
   "number_sections": true,
   "sideBar": true,
   "skip_h1_title": false,
   "title_cell": "Table of Contents",
   "title_sidebar": "Contents",
   "toc_cell": false,
   "toc_position": {},
   "toc_section_display": true,
   "toc_window_display": false
  }
 },
 "nbformat": 4,
 "nbformat_minor": 4
}

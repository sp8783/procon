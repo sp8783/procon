{
 "cells": [
  {
   "cell_type": "markdown",
   "metadata": {},
   "source": [
    "# A問題"
   ]
  },
  {
   "cell_type": "code",
   "execution_count": 3,
   "metadata": {},
   "outputs": [
    {
     "name": "stdin",
     "output_type": "stream",
     "text": [
      " happy,newyear,enjoy\n"
     ]
    },
    {
     "name": "stdout",
     "output_type": "stream",
     "text": [
      "happy newyear enjoy\n"
     ]
    }
   ],
   "source": [
    "s = list(input())\n",
    "ans = [\" \" if i == \",\" else i for i in s]\n",
    "print(\"\".join(ans))"
   ]
  },
  {
   "cell_type": "markdown",
   "metadata": {},
   "source": [
    "# B問題"
   ]
  },
  {
   "cell_type": "code",
   "execution_count": 8,
   "metadata": {},
   "outputs": [
    {
     "name": "stdin",
     "output_type": "stream",
     "text": [
      " 5 15\n"
     ]
    },
    {
     "name": "stdout",
     "output_type": "stream",
     "text": [
      "1\n"
     ]
    }
   ],
   "source": [
    "K, S = map(int, input().split())\n",
    "\n",
    "ans = 0\n",
    "\n",
    "for i in range(K+1):\n",
    "    for j in range(K+1):\n",
    "        if 0 <= S-i-j <= K:\n",
    "            ans += 1\n",
    "        \n",
    "print(ans)"
   ]
  },
  {
   "cell_type": "markdown",
   "metadata": {},
   "source": [
    "# C問題"
   ]
  },
  {
   "cell_type": "code",
   "execution_count": 9,
   "metadata": {},
   "outputs": [
    {
     "name": "stdin",
     "output_type": "stream",
     "text": [
      " 0 0 1 2\n"
     ]
    },
    {
     "name": "stdout",
     "output_type": "stream",
     "text": [
      "RUULDDDRRUUULULLDDDR\n"
     ]
    }
   ],
   "source": [
    "sx, sy, tx, ty = map(int, input().split())\n",
    "\n",
    "ans = \"\"\n",
    "\n",
    "ans += \"R\"*(tx-sx) + \"U\"*(ty-sy)\n",
    "ans += \"L\"*(tx-sx) + \"D\"*(ty-sy)\n",
    "ans += \"D\" + \"R\"*(tx-sx+1) + \"U\"*(ty-sy+1) + \"L\"\n",
    "ans += \"U\" + \"L\"*(tx-sx+1) + \"D\"*(ty-sy+1) + \"R\"\n",
    "    \n",
    "print(ans)"
   ]
  }
 ],
 "metadata": {
  "kernelspec": {
   "display_name": "Python 3",
   "language": "python",
   "name": "python3"
  },
  "language_info": {
   "codemirror_mode": {
    "name": "ipython",
    "version": 3
   },
   "file_extension": ".py",
   "mimetype": "text/x-python",
   "name": "python",
   "nbconvert_exporter": "python",
   "pygments_lexer": "ipython3",
   "version": "3.6.5"
  },
  "toc": {
   "base_numbering": 1,
   "nav_menu": {},
   "number_sections": true,
   "sideBar": true,
   "skip_h1_title": false,
   "title_cell": "Table of Contents",
   "title_sidebar": "Contents",
   "toc_cell": false,
   "toc_position": {},
   "toc_section_display": true,
   "toc_window_display": false
  }
 },
 "nbformat": 4,
 "nbformat_minor": 4
}

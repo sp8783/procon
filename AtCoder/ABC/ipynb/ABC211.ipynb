{
 "cells": [
  {
   "cell_type": "markdown",
   "metadata": {},
   "source": [
    "# A問題"
   ]
  },
  {
   "cell_type": "code",
   "execution_count": 4,
   "metadata": {},
   "outputs": [
    {
     "name": "stdout",
     "output_type": "stream",
     "text": [
      "110.0\n"
     ]
    }
   ],
   "source": [
    "a,b = map(int, input().split())\n",
    "\n",
    "ans = (a+2*b)/3\n",
    "print(ans)"
   ]
  },
  {
   "cell_type": "markdown",
   "metadata": {},
   "source": [
    "# B問題"
   ]
  },
  {
   "cell_type": "code",
   "execution_count": 6,
   "metadata": {},
   "outputs": [
    {
     "name": "stdout",
     "output_type": "stream",
     "text": [
      "No\n"
     ]
    }
   ],
   "source": [
    "S = [input() for _ in range(4)]\n",
    "S = set(S)\n",
    "if S == set([\"H\",\"2B\",\"3B\",\"HR\"]):\n",
    "    print(\"Yes\")\n",
    "else:\n",
    "    print(\"No\")\n"
   ]
  },
  {
   "cell_type": "markdown",
   "metadata": {},
   "source": [
    "# C問題"
   ]
  },
  {
   "cell_type": "code",
   "execution_count": 23,
   "metadata": {},
   "outputs": [
    {
     "name": "stdout",
     "output_type": "stream",
     "text": [
      "45\n"
     ]
    }
   ],
   "source": [
    "S=input()\n",
    "l=[0]*8\n",
    "\n",
    "for i in range(1,len(S)+1):\n",
    "    t=S[-i]\n",
    "    if t==\"i\":\n",
    "        l[0]+=1\n",
    "    elif t==\"a\":\n",
    "        l[1]+=l[0]\n",
    "    elif t==\"d\":\n",
    "        l[2]+=l[1]\n",
    "    elif t==\"u\":\n",
    "        l[3]+=l[2]\n",
    "    elif t==\"k\":\n",
    "        l[4]+=l[3]\n",
    "    elif t==\"o\":\n",
    "        l[5]+=l[4]\n",
    "    elif t==\"h\":\n",
    "        l[6]+=l[5]\n",
    "    elif t==\"c\":\n",
    "        l[7]+=l[6]\n",
    "print(l[-1]%(10**9+7))"
   ]
  },
  {
   "cell_type": "markdown",
   "metadata": {},
   "source": [
    "# D問題"
   ]
  },
  {
   "cell_type": "code",
   "execution_count": 34,
   "metadata": {},
   "outputs": [
    {
     "name": "stdout",
     "output_type": "stream",
     "text": [
      "0\n"
     ]
    }
   ],
   "source": [
    "from collections import deque\n",
    "\n",
    "N, M = map(int, input().split())\n",
    "adj = [[] for _ in range(N)]\n",
    "for _ in range(M):\n",
    "    a,b = map(lambda x: int(x) - 1, input().split())\n",
    "    adj[a].append(b)\n",
    "    adj[b].append(a)\n",
    "\n",
    "dist = [-1]*N\n",
    "dist[0] = 0\n",
    "cnt = [0]*N\n",
    "cnt[0] = 1\n",
    "MOD = 10**9+7\n",
    "\n",
    "q = deque() # 調べる頂点群\n",
    "q.append(0) # 頂点0を根としてBFSを実行\n",
    "\n",
    "while q:\n",
    "    v = q.popleft() # v:調べる頂点\n",
    "    for nv in adj[v]: # nv:頂点vに隣接している頂点群の内の1つ\n",
    "        if dist[nv] == -1:  # nvがvの親ではない => nvはvの子\n",
    "            dist[nv] = dist[v] + 1\n",
    "            cnt[nv] += cnt[v]\n",
    "            cnt[nv] %= MOD\n",
    "            q.append(nv) # 子であるnvをqueに入れる\n",
    "        elif dist[nv] == dist[v] + 1:\n",
    "            cnt[nv] += cnt[v]\n",
    "            cnt[nv] %= MOD\n",
    "ans = cnt[-1]\n",
    "print(ans)"
   ]
  }
 ],
 "metadata": {
  "kernelspec": {
   "display_name": "Python 3",
   "language": "python",
   "name": "python3"
  },
  "language_info": {
   "codemirror_mode": {
    "name": "ipython",
    "version": 3
   },
   "file_extension": ".py",
   "mimetype": "text/x-python",
   "name": "python",
   "nbconvert_exporter": "python",
   "pygments_lexer": "ipython3",
   "version": "3.6.5"
  },
  "toc": {
   "base_numbering": 1,
   "nav_menu": {},
   "number_sections": true,
   "sideBar": true,
   "skip_h1_title": false,
   "title_cell": "Table of Contents",
   "title_sidebar": "Contents",
   "toc_cell": false,
   "toc_position": {},
   "toc_section_display": true,
   "toc_window_display": false
  }
 },
 "nbformat": 4,
 "nbformat_minor": 4
}

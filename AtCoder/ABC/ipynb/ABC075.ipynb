{
 "cells": [
  {
   "cell_type": "markdown",
   "metadata": {},
   "source": [
    "# A問題"
   ]
  },
  {
   "cell_type": "code",
   "execution_count": 3,
   "metadata": {},
   "outputs": [
    {
     "name": "stdin",
     "output_type": "stream",
     "text": [
      " 1 1 7\n"
     ]
    },
    {
     "name": "stdout",
     "output_type": "stream",
     "text": [
      "7\n"
     ]
    }
   ],
   "source": [
    "a, b, c = map(int, input().split())\n",
    "if a == b:\n",
    "    print(c)\n",
    "elif b == c:\n",
    "    print(a)\n",
    "else:\n",
    "    print(b)"
   ]
  },
  {
   "cell_type": "markdown",
   "metadata": {},
   "source": [
    "# B問題"
   ]
  },
  {
   "cell_type": "code",
   "execution_count": 8,
   "metadata": {},
   "outputs": [
    {
     "name": "stdout",
     "output_type": "stream",
     "text": [
      "#####3\n",
      "#8#7##\n",
      "####5#\n",
      "4#65#2\n",
      "#5##21\n",
      "#4#310\n"
     ]
    }
   ],
   "source": [
    "H, W = map(int, input().split())\n",
    "lst = [list(input()) for _ in range(H)]\n",
    "\n",
    "dxy = [(1,0),(-1,0),(0,1),(0,-1),(1,1),(1,-1),(-1,1),(-1,-1)]\n",
    "\n",
    "for y in range(H):\n",
    "    for x in range(W):\n",
    "        if lst[y][x] == \"#\":\n",
    "            continue\n",
    "        cnt = 0\n",
    "        for dx, dy in dxy:\n",
    "            nx = x + dx\n",
    "            ny = y + dy\n",
    "            if 0 <= nx <= W-1 and 0 <= ny <= H-1:\n",
    "                if lst[ny][nx] == \"#\":\n",
    "                    cnt += 1        \n",
    "        lst[y][x] = str(cnt)\n",
    "\n",
    "for h in range(H):\n",
    "    print(\"\".join(lst[h]))"
   ]
  },
  {
   "cell_type": "markdown",
   "metadata": {},
   "source": [
    "# C問題"
   ]
  },
  {
   "cell_type": "code",
   "execution_count": 13,
   "metadata": {},
   "outputs": [
    {
     "name": "stdout",
     "output_type": "stream",
     "text": [
      "5\n"
     ]
    }
   ],
   "source": [
    "from collections import defaultdict\n",
    "\n",
    "class UnionFind():\n",
    "    def __init__(self, n):\n",
    "        self.n = n\n",
    "        self.parents = [-1] * n\n",
    "        # parents:\n",
    "        # 各要素の親要素の番号を格納するリスト\n",
    "        # 要素が根（ルート）の場合は-(そのグループの要素数)を格納する\n",
    "\n",
    "    # 要素xが属するグループの根を返す    \n",
    "    def find(self, x):        \n",
    "        if self.parents[x] < 0:\n",
    "            return x\n",
    "        else:\n",
    "            self.parents[x] = self.find(self.parents[x])\n",
    "            return self.parents[x]\n",
    "\n",
    "    # 要素xが属するグループと要素yが属するグループとを併合する\n",
    "    def union(self, x, y):\n",
    "        x = self.find(x)\n",
    "        y = self.find(y)\n",
    "\n",
    "        if x == y:\n",
    "            return\n",
    "\n",
    "        if self.parents[x] > self.parents[y]:\n",
    "            x, y = y, x\n",
    "\n",
    "        self.parents[x] += self.parents[y]\n",
    "        self.parents[y] = x\n",
    "\n",
    "    # 要素xが属するグループのサイズ（要素数）を返す\n",
    "    def size(self, x):\n",
    "        return -self.parents[self.find(x)]\n",
    "\n",
    "    # 要素x, yが同じグループに属するかどうかを返す\n",
    "    def same(self, x, y):\n",
    "        return self.find(x) == self.find(y)\n",
    "\n",
    "    # 要素xが属するグループに属する要素をリストで返す\n",
    "    def members(self, x):\n",
    "        root = self.find(x)\n",
    "        return [i for i in range(self.n) if self.find(i) == root]\n",
    "\n",
    "    # すべての根の要素をリストで返す\n",
    "    def roots(self):\n",
    "        return [i for i, x in enumerate(self.parents) if x < 0]\n",
    "\n",
    "    # グループの数を返す\n",
    "    def group_count(self):\n",
    "        return len(self.roots())\n",
    "\n",
    "    # {ルート要素: [そのグループに含まれる要素のリスト], ...}のdefaultdictを返す\n",
    "    # defaultdictは辞書dictのサブクラス\n",
    "    def all_group_members(self):\n",
    "        group_members = defaultdict(list)\n",
    "        for member in range(self.n):\n",
    "            group_members[self.find(member)].append(member)\n",
    "        return group_members\n",
    "\n",
    "    # print()での表示用\n",
    "    # ルート要素: [そのグループに含まれる要素のリスト]を文字列で返す\n",
    "    def __str__(self):\n",
    "        return '\\n'.join(f'{r}: {m}' for r, m in self.all_group_members().items())\n",
    "\n",
    "\n",
    "N, M = map(int, input().split())\n",
    "edge = [list(map(lambda x:int(x)-1, input().split())) for _ in range(M)]\n",
    "\n",
    "ans = 0\n",
    "for m in range(M):\n",
    "    uf = UnionFind(N)\n",
    "    for i in range(M):\n",
    "        if i == m:\n",
    "            continue\n",
    "        uf.union(edge[i][0], edge[i][1])\n",
    "    if uf.group_count() != 1:\n",
    "        ans += 1\n",
    "\n",
    "print(ans)"
   ]
  }
 ],
 "metadata": {
  "kernelspec": {
   "display_name": "Python 3",
   "language": "python",
   "name": "python3"
  },
  "language_info": {
   "codemirror_mode": {
    "name": "ipython",
    "version": 3
   },
   "file_extension": ".py",
   "mimetype": "text/x-python",
   "name": "python",
   "nbconvert_exporter": "python",
   "pygments_lexer": "ipython3",
   "version": "3.6.5"
  },
  "toc": {
   "base_numbering": 1,
   "nav_menu": {},
   "number_sections": true,
   "sideBar": true,
   "skip_h1_title": false,
   "title_cell": "Table of Contents",
   "title_sidebar": "Contents",
   "toc_cell": false,
   "toc_position": {},
   "toc_section_display": true,
   "toc_window_display": false
  }
 },
 "nbformat": 4,
 "nbformat_minor": 4
}

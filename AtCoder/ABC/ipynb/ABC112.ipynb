{
 "cells": [
  {
   "cell_type": "markdown",
   "metadata": {},
   "source": [
    "# A問題"
   ]
  },
  {
   "cell_type": "code",
   "execution_count": 3,
   "metadata": {},
   "outputs": [
    {
     "name": "stdin",
     "output_type": "stream",
     "text": [
      " 119\n"
     ]
    },
    {
     "name": "stdout",
     "output_type": "stream",
     "text": [
      "991\n"
     ]
    }
   ],
   "source": [
    "n = int(input())\n",
    "if n == 1:\n",
    "    print(\"Hello World\")\n",
    "else:\n",
    "    a = int(input())\n",
    "    b = int(input())\n",
    "    print(a+b)"
   ]
  },
  {
   "cell_type": "markdown",
   "metadata": {},
   "source": [
    "# B問題"
   ]
  },
  {
   "cell_type": "code",
   "execution_count": 5,
   "metadata": {},
   "outputs": [
    {
     "name": "stdin",
     "output_type": "stream",
     "text": [
      " 112\n"
     ]
    },
    {
     "name": "stdout",
     "output_type": "stream",
     "text": [
      "222\n"
     ]
    }
   ],
   "source": [
    "N, T = map(int, input().split())\n",
    "ans = 1001\n",
    "for _ in range(N):\n",
    "    c, t = map(int, input().split())\n",
    "    if t <= T:\n",
    "        ans = min(ans, c)\n",
    "if ans == 1001:\n",
    "    ans = \"TLE\"\n",
    "print(ans)"
   ]
  },
  {
   "cell_type": "markdown",
   "metadata": {},
   "source": [
    "# C問題"
   ]
  },
  {
   "cell_type": "code",
   "execution_count": 7,
   "metadata": {},
   "outputs": [
    {
     "name": "stdin",
     "output_type": "stream",
     "text": [
      " 4\n",
      " 3 1 3 2\n"
     ]
    },
    {
     "name": "stdout",
     "output_type": "stream",
     "text": [
      "1\n"
     ]
    }
   ],
   "source": [
    "import collections\n",
    " \n",
    "n = int(input())\n",
    "V = list(map(int, input().split()))\n",
    " \n",
    "odd = V[::2]\n",
    "even = V[1::2]\n",
    " \n",
    "even_c = collections.Counter(even).most_common()\n",
    "odd_c = collections.Counter(odd).most_common()\n",
    " \n",
    "if even_c[0] != odd_c[0]:\n",
    "    ans = n - (even_c[0][1] + odd_c[0][1])\n",
    "elif len(even_c) == 1 and len(odd_c) == 1:\n",
    "    ans = n//2\n",
    "else:\n",
    "    change_e = n - (even_c[1][1] + odd_c[0][1])\n",
    "    change_o = n - (even_c[0][1] + odd_c[1][1])\n",
    "    ans = min(change_e, change_o)\n",
    "\n",
    "print(ans)"
   ]
  }
 ],
 "metadata": {
  "kernelspec": {
   "display_name": "Python 3",
   "language": "python",
   "name": "python3"
  },
  "language_info": {
   "codemirror_mode": {
    "name": "ipython",
    "version": 3
   },
   "file_extension": ".py",
   "mimetype": "text/x-python",
   "name": "python",
   "nbconvert_exporter": "python",
   "pygments_lexer": "ipython3",
   "version": "3.6.5"
  },
  "toc": {
   "base_numbering": 1,
   "nav_menu": {},
   "number_sections": true,
   "sideBar": true,
   "skip_h1_title": false,
   "title_cell": "Table of Contents",
   "title_sidebar": "Contents",
   "toc_cell": false,
   "toc_position": {},
   "toc_section_display": true,
   "toc_window_display": false
  }
 },
 "nbformat": 4,
 "nbformat_minor": 4
}

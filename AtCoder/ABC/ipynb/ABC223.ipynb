{
 "cells": [
  {
   "cell_type": "markdown",
   "metadata": {},
   "source": [
    "# A問題"
   ]
  },
  {
   "cell_type": "code",
   "execution_count": 4,
   "metadata": {},
   "outputs": [
    {
     "name": "stdout",
     "output_type": "stream",
     "text": [
      "No\n"
     ]
    }
   ],
   "source": [
    "n = int(input())\n",
    "if n%100 == 0 and n != 0:\n",
    "    print(\"Yes\")\n",
    "else:\n",
    "    print(\"No\")"
   ]
  },
  {
   "cell_type": "markdown",
   "metadata": {},
   "source": [
    "# B問題"
   ]
  },
  {
   "cell_type": "code",
   "execution_count": 12,
   "metadata": {},
   "outputs": [
    {
     "name": "stdout",
     "output_type": "stream",
     "text": [
      "z\n",
      "z\n"
     ]
    }
   ],
   "source": [
    "S = input()\n",
    "S_M = S\n",
    "S_m = S\n",
    "\n",
    "for i in range(1, len(S)):\n",
    "    s = S[i:] + S[:i]\n",
    "    if S_M < s:\n",
    "        S_M = s\n",
    "    if S_m > s:\n",
    "        S_m = s\n",
    "\n",
    "print(S_m)\n",
    "print(S_M)"
   ]
  },
  {
   "cell_type": "markdown",
   "metadata": {},
   "source": [
    "# C問題"
   ]
  },
  {
   "cell_type": "code",
   "execution_count": 18,
   "metadata": {},
   "outputs": [
    {
     "name": "stdout",
     "output_type": "stream",
     "text": [
      "8.916666666666666\n"
     ]
    }
   ],
   "source": [
    "N = int(input())\n",
    "D = [list(map(int, input().split())) for i in range(N)]\n",
    "\n",
    "T = 0\n",
    "for a,b in D:\n",
    "    T += a/b\n",
    "t = 0\n",
    "s = 0\n",
    "\n",
    "for i in range(N):\n",
    "    a, b = D[i]\n",
    "    if t+a/b >= T/2:\n",
    "        s += (T/2-t)*b\n",
    "        break\n",
    "    else:\n",
    "        t += a/b\n",
    "        s += a\n",
    "\n",
    "print(s)"
   ]
  }
 ],
 "metadata": {
  "kernelspec": {
   "display_name": "Python 3.9.12 ('base')",
   "language": "python",
   "name": "python3"
  },
  "language_info": {
   "codemirror_mode": {
    "name": "ipython",
    "version": 3
   },
   "file_extension": ".py",
   "mimetype": "text/x-python",
   "name": "python",
   "nbconvert_exporter": "python",
   "pygments_lexer": "ipython3",
   "version": "3.9.12"
  },
  "toc": {
   "base_numbering": 1,
   "nav_menu": {},
   "number_sections": true,
   "sideBar": true,
   "skip_h1_title": false,
   "title_cell": "Table of Contents",
   "title_sidebar": "Contents",
   "toc_cell": false,
   "toc_position": {},
   "toc_section_display": true,
   "toc_window_display": false
  },
  "vscode": {
   "interpreter": {
    "hash": "36fdbd3c26c66ff09daaf14850b33bb04ac5e3c892213e56f74e8e88544aecc5"
   }
  }
 },
 "nbformat": 4,
 "nbformat_minor": 4
}

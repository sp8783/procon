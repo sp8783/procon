{
 "cells": [
  {
   "cell_type": "markdown",
   "metadata": {},
   "source": [
    "# A問題"
   ]
  },
  {
   "cell_type": "code",
   "execution_count": 11,
   "metadata": {},
   "outputs": [
    {
     "name": "stdout",
     "output_type": "stream",
     "text": [
      "2 1\n"
     ]
    }
   ],
   "source": [
    "a, b = map(int, input().split())\n",
    "ans = [b,a]\n",
    "print(*ans)"
   ]
  },
  {
   "cell_type": "markdown",
   "metadata": {},
   "source": [
    "# B問題"
   ]
  },
  {
   "cell_type": "code",
   "execution_count": 19,
   "metadata": {},
   "outputs": [
    {
     "name": "stdout",
     "output_type": "stream",
     "text": [
      "23:59:59\n"
     ]
    }
   ],
   "source": [
    "N = int(input())\n",
    "\n",
    "h = N//3600\n",
    "m = (N%3600)//60\n",
    "s = N%60\n",
    "\n",
    "print(\"{}:{}:{}\".format(str(h).zfill(2), str(m).zfill(2), str(s).zfill(2)))"
   ]
  },
  {
   "cell_type": "markdown",
   "metadata": {},
   "source": [
    "# C問題"
   ]
  },
  {
   "cell_type": "code",
   "execution_count": 22,
   "metadata": {},
   "outputs": [
    {
     "name": "stdout",
     "output_type": "stream",
     "text": [
      "2 x 6\n",
      "3 x 4\n",
      "4 x 3\n",
      "6 x 2\n"
     ]
    }
   ],
   "source": [
    "N = int(input())\n",
    "\n",
    "M = 2025 - N\n",
    "ans = []\n",
    "for i in range(1,10):\n",
    "    if M%i == 0 and M//i <= 9:\n",
    "        ans.append([i, M//i])\n",
    "\n",
    "for a,b in ans:\n",
    "    print(\"{} x {}\".format(a,b))"
   ]
  },
  {
   "cell_type": "markdown",
   "metadata": {},
   "source": [
    "# D問題"
   ]
  },
  {
   "cell_type": "code",
   "execution_count": 6,
   "metadata": {},
   "outputs": [
    {
     "name": "stdout",
     "output_type": "stream",
     "text": [
      "1\n"
     ]
    }
   ],
   "source": [
    "N, M = map(int, input().split())\n",
    "\n",
    "inf = float(\"inf\")\n",
    "dist = [[inf]*N for _ in range(N)]\n",
    "for i in range(N):\n",
    "    dist[i][i] = 0\n",
    "for _ in range(M):\n",
    "    a, b, t = map(int, input().split())\n",
    "    dist[a-1][b-1] = t\n",
    "    dist[b-1][a-1] = t\n",
    "\n",
    "for k in range(N):\n",
    "    for i in range(N):\n",
    "        for j in range(N):\n",
    "            if dist[i][j] > dist[i][k] + dist[k][j]:\n",
    "                dist[i][j] = dist[i][k] + dist[k][j]\n",
    "\n",
    "ans = inf\n",
    "for i in range(N):\n",
    "    S = set(dist[i])\n",
    "    if inf in S:\n",
    "        S.remove(inf)\n",
    "    ans = min(ans, max(S))\n",
    "print(ans)"
   ]
  }
 ],
 "metadata": {
  "kernelspec": {
   "display_name": "Python 3",
   "language": "python",
   "name": "python3"
  },
  "language_info": {
   "codemirror_mode": {
    "name": "ipython",
    "version": 3
   },
   "file_extension": ".py",
   "mimetype": "text/x-python",
   "name": "python",
   "nbconvert_exporter": "python",
   "pygments_lexer": "ipython3",
   "version": "3.6.5"
  },
  "toc": {
   "base_numbering": 1,
   "nav_menu": {},
   "number_sections": true,
   "sideBar": true,
   "skip_h1_title": false,
   "title_cell": "Table of Contents",
   "title_sidebar": "Contents",
   "toc_cell": false,
   "toc_position": {},
   "toc_section_display": true,
   "toc_window_display": false
  }
 },
 "nbformat": 4,
 "nbformat_minor": 4
}

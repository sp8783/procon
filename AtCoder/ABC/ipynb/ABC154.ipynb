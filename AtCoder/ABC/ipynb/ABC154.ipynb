{
 "cells": [
  {
   "cell_type": "markdown",
   "metadata": {},
   "source": [
    "# A問題"
   ]
  },
  {
   "cell_type": "code",
   "execution_count": 1,
   "metadata": {},
   "outputs": [
    {
     "name": "stdout",
     "output_type": "stream",
     "text": [
      "red blue\n",
      "3 4\n",
      "red\n",
      "2 4\n"
     ]
    }
   ],
   "source": [
    "s,t = map(str, input().split())\n",
    "a,b = map(int, input().split())\n",
    "u = input()\n",
    "\n",
    "if s == u:\n",
    "    a -= 1\n",
    "else:\n",
    "    b -= 1\n",
    "\n",
    "print(\"{} {}\".format(a,b))"
   ]
  },
  {
   "cell_type": "markdown",
   "metadata": {},
   "source": [
    "# B問題"
   ]
  },
  {
   "cell_type": "code",
   "execution_count": 3,
   "metadata": {},
   "outputs": [
    {
     "name": "stdout",
     "output_type": "stream",
     "text": [
      "sardine\n",
      "xxxxxxx\n"
     ]
    }
   ],
   "source": [
    "S = input()\n",
    "\n",
    "ans = [\"x\"]*len(S)\n",
    "\n",
    "print(''.join(ans))"
   ]
  },
  {
   "cell_type": "markdown",
   "metadata": {},
   "source": [
    "# C問題"
   ]
  },
  {
   "cell_type": "code",
   "execution_count": 6,
   "metadata": {},
   "outputs": [
    {
     "name": "stdout",
     "output_type": "stream",
     "text": [
      "6\n",
      "4 1 3 1 6 2\n",
      "NO\n"
     ]
    }
   ],
   "source": [
    "n = int(input())\n",
    "lst = list(map(int, input().split()))\n",
    "\n",
    "if n == len(set(lst)):\n",
    "    ans = \"YES\"\n",
    "else:\n",
    "    ans = \"NO\"\n",
    "\n",
    "print(ans)"
   ]
  }
 ],
 "metadata": {
  "kernelspec": {
   "display_name": "Python 3",
   "language": "python",
   "name": "python3"
  },
  "language_info": {
   "codemirror_mode": {
    "name": "ipython",
    "version": 3
   },
   "file_extension": ".py",
   "mimetype": "text/x-python",
   "name": "python",
   "nbconvert_exporter": "python",
   "pygments_lexer": "ipython3",
   "version": "3.6.5"
  },
  "toc": {
   "base_numbering": 1,
   "nav_menu": {},
   "number_sections": true,
   "sideBar": true,
   "skip_h1_title": false,
   "title_cell": "Table of Contents",
   "title_sidebar": "Contents",
   "toc_cell": false,
   "toc_position": {},
   "toc_section_display": true,
   "toc_window_display": false
  }
 },
 "nbformat": 4,
 "nbformat_minor": 4
}

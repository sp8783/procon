{
 "cells": [
  {
   "cell_type": "markdown",
   "metadata": {},
   "source": [
    "# A問題"
   ]
  },
  {
   "cell_type": "code",
   "execution_count": 2,
   "metadata": {},
   "outputs": [
    {
     "name": "stdin",
     "output_type": "stream",
     "text": [
      " 2763\n",
      " 0\n"
     ]
    },
    {
     "name": "stdout",
     "output_type": "stream",
     "text": [
      "NO\n"
     ]
    }
   ],
   "source": [
    "N = int(input())\n",
    "A = int(input())\n",
    "\n",
    "if N%500 <= A:\n",
    "    print(\"Yes\")\n",
    "else:\n",
    "    print(\"No\")"
   ]
  },
  {
   "cell_type": "markdown",
   "metadata": {},
   "source": [
    "# B問題"
   ]
  },
  {
   "cell_type": "code",
   "execution_count": 4,
   "metadata": {},
   "outputs": [
    {
     "name": "stdin",
     "output_type": "stream",
     "text": [
      " 3\n",
      " 2 7 4\n"
     ]
    },
    {
     "name": "stdout",
     "output_type": "stream",
     "text": [
      "5\n"
     ]
    }
   ],
   "source": [
    "N = int(input())\n",
    "A = list(map(int, input().split()))\n",
    "\n",
    "A = sorted(A)[::-1]\n",
    "\n",
    "ans = sum(A[::2]) - sum(A[1::2])\n",
    "\n",
    "print(ans)"
   ]
  },
  {
   "cell_type": "markdown",
   "metadata": {},
   "source": [
    "# C問題"
   ]
  },
  {
   "cell_type": "code",
   "execution_count": 20,
   "metadata": {},
   "outputs": [
    {
     "name": "stdout",
     "output_type": "stream",
     "text": [
      "Yes\n"
     ]
    }
   ],
   "source": [
    "C = [list(map(int, input().split())) for _ in range(3)]\n",
    "\n",
    "flag = True\n",
    "\n",
    "for i in range(2):\n",
    "    for j in range(2):\n",
    "        if C[i+1][j] - C[i][j] != C[i+1][j+1] - C[i][j+1]:\n",
    "            flag = False\n",
    "            break\n",
    "        if C[i][j+1] - C[i][j] != C[i+1][j+1] - C[i+1][j]:\n",
    "            flag = False\n",
    "            break\n",
    "    if flag == False:\n",
    "        break\n",
    "\n",
    "if flag:\n",
    "    print(\"Yes\")\n",
    "else:\n",
    "    print(\"No\")"
   ]
  },
  {
   "cell_type": "markdown",
   "metadata": {},
   "source": [
    "# D問題"
   ]
  },
  {
   "cell_type": "code",
   "execution_count": 27,
   "metadata": {},
   "outputs": [
    {
     "name": "stdout",
     "output_type": "stream",
     "text": [
      "209\n"
     ]
    }
   ],
   "source": [
    "from collections import deque\n",
    "\n",
    "h, w = map(int, input().split())\n",
    "maze = []\n",
    "dot_cnt = 0\n",
    "for _ in range(h):\n",
    "    lst = list(input())\n",
    "    dot_cnt += lst.count(\".\")\n",
    "    maze.append(lst)\n",
    "\n",
    "q = deque()\n",
    "q.append([0, 0])\n",
    "check = [[-1]*w for _ in range(h)]\n",
    "check[0][0] = 1\n",
    "dxy = [(0,1), (1,0), (0,-1), (-1,0)]\n",
    "\n",
    "while q:\n",
    "    x, y = q.popleft()\n",
    "    if x == w-1 and y == h-1:\n",
    "        break\n",
    "    \n",
    "    for dx, dy in dxy:\n",
    "        nx = x + dx\n",
    "        ny = y + dy\n",
    "        \n",
    "        if nx < 0 or nx > w-1 or ny < 0 or ny > h-1:\n",
    "            continue\n",
    "        if check[ny][nx] != -1:\n",
    "            continue\n",
    "        if maze[ny][nx] == \"#\":\n",
    "            continue\n",
    "        \n",
    "        check[ny][nx] = check[y][x] + 1\n",
    "        q.append([nx, ny])\n",
    "\n",
    "if check[h-1][w-1] == -1:\n",
    "    ans = -1\n",
    "else:\n",
    "    ans = dot_cnt - check[h-1][w-1]\n",
    "print(ans)"
   ]
  }
 ],
 "metadata": {
  "kernelspec": {
   "display_name": "Python 3",
   "language": "python",
   "name": "python3"
  },
  "language_info": {
   "codemirror_mode": {
    "name": "ipython",
    "version": 3
   },
   "file_extension": ".py",
   "mimetype": "text/x-python",
   "name": "python",
   "nbconvert_exporter": "python",
   "pygments_lexer": "ipython3",
   "version": "3.6.5"
  },
  "toc": {
   "base_numbering": 1,
   "nav_menu": {},
   "number_sections": true,
   "sideBar": true,
   "skip_h1_title": false,
   "title_cell": "Table of Contents",
   "title_sidebar": "Contents",
   "toc_cell": false,
   "toc_position": {},
   "toc_section_display": true,
   "toc_window_display": false
  }
 },
 "nbformat": 4,
 "nbformat_minor": 4
}

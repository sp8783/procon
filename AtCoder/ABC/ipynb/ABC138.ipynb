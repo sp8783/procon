{
 "cells": [
  {
   "cell_type": "markdown",
   "metadata": {},
   "source": [
    "# A問題"
   ]
  },
  {
   "cell_type": "code",
   "execution_count": 1,
   "metadata": {},
   "outputs": [
    {
     "name": "stdin",
     "output_type": "stream",
     "text": [
      " 3200\n",
      " pink\n"
     ]
    },
    {
     "name": "stdout",
     "output_type": "stream",
     "text": [
      "pink\n"
     ]
    }
   ],
   "source": [
    "a = int(input())\n",
    "s = input()\n",
    "\n",
    "if a >= 3200:\n",
    "    ans = s\n",
    "else:\n",
    "    ans = \"red\"\n",
    "\n",
    "print(ans)"
   ]
  },
  {
   "cell_type": "markdown",
   "metadata": {},
   "source": [
    "# B問題"
   ]
  },
  {
   "cell_type": "code",
   "execution_count": 4,
   "metadata": {},
   "outputs": [
    {
     "name": "stdin",
     "output_type": "stream",
     "text": [
      " 1\n",
      " 1000\n"
     ]
    },
    {
     "name": "stdout",
     "output_type": "stream",
     "text": [
      "1000.0\n"
     ]
    }
   ],
   "source": [
    "N = int(input())\n",
    "A = list(map(int, input().split()))\n",
    "\n",
    "denom = 0\n",
    "for a in A:\n",
    "    denom += 1/a\n",
    "ans = 1/denom\n",
    "\n",
    "print(ans)"
   ]
  },
  {
   "cell_type": "markdown",
   "metadata": {},
   "source": [
    "# C問題"
   ]
  },
  {
   "cell_type": "code",
   "execution_count": 6,
   "metadata": {},
   "outputs": [
    {
     "name": "stdin",
     "output_type": "stream",
     "text": [
      " 3\n",
      " 500 300 200\n"
     ]
    },
    {
     "name": "stdout",
     "output_type": "stream",
     "text": [
      "375.0\n"
     ]
    }
   ],
   "source": [
    "N = int(input())\n",
    "values = list(map(int, input().split()))\n",
    "\n",
    "values = sorted(values)\n",
    "ans = values[0]\n",
    "for i in range(1,N):\n",
    "    ans = (ans + values[i]) / 2\n",
    "\n",
    "print(ans)"
   ]
  },
  {
   "cell_type": "markdown",
   "metadata": {},
   "source": [
    "# D問題"
   ]
  },
  {
   "cell_type": "code",
   "execution_count": null,
   "metadata": {},
   "outputs": [],
   "source": [
    "import sys\n",
    "from collections import deque\n",
    " \n",
    "input = sys.stdin.readline\n",
    " \n",
    "N, Q = map(int, input().split())\n",
    "edge = [[] for _ in range(N)]\n",
    "for i in range(N-1):\n",
    "    a, b = map(int, input().split())\n",
    "    a -= 1; b -= 1\n",
    "    edge[a].append(b)\n",
    "    edge[b].append(a)\n",
    "\n",
    "ans = [0] * N\n",
    "for i in range(Q):\n",
    "    p, x = map(int, input().split())\n",
    "    ans[p-1] += x\n",
    "\n",
    "q = deque()\n",
    "q.append(0)\n",
    "check = [False] * N\n",
    " \n",
    "while q:\n",
    "    v = q.pop()\n",
    "    check[v] = True\n",
    "    for u in edge[v]:\n",
    "        if check[u] == True:\n",
    "            continue\n",
    "        ans[u] += ans[v]\n",
    "        q.append(u)\n",
    "\n",
    "print(*ans)"
   ]
  }
 ],
 "metadata": {
  "kernelspec": {
   "display_name": "Python 3",
   "language": "python",
   "name": "python3"
  },
  "language_info": {
   "codemirror_mode": {
    "name": "ipython",
    "version": 3
   },
   "file_extension": ".py",
   "mimetype": "text/x-python",
   "name": "python",
   "nbconvert_exporter": "python",
   "pygments_lexer": "ipython3",
   "version": "3.6.5"
  },
  "toc": {
   "base_numbering": 1,
   "nav_menu": {},
   "number_sections": true,
   "sideBar": true,
   "skip_h1_title": false,
   "title_cell": "Table of Contents",
   "title_sidebar": "Contents",
   "toc_cell": false,
   "toc_position": {},
   "toc_section_display": true,
   "toc_window_display": false
  }
 },
 "nbformat": 4,
 "nbformat_minor": 4
}

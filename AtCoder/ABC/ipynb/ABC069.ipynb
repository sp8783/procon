{
 "cells": [
  {
   "cell_type": "markdown",
   "metadata": {},
   "source": [
    "# A問題"
   ]
  },
  {
   "cell_type": "code",
   "execution_count": 10,
   "metadata": {},
   "outputs": [
    {
     "name": "stdout",
     "output_type": "stream",
     "text": [
      "5\n"
     ]
    }
   ],
   "source": [
    "S = input()\n",
    "\n",
    "ans = S[0] + str(len(S) - 2) + S[-1]\n",
    "\n",
    "print(ans)"
   ]
  },
  {
   "cell_type": "markdown",
   "metadata": {},
   "source": [
    "# B問題"
   ]
  },
  {
   "cell_type": "code",
   "execution_count": null,
   "metadata": {},
   "outputs": [],
   "source": [
    "S = input()\n",
    "\n",
    "ans = S[0] + str(len(S) - 2) + S[-1]\n",
    "\n",
    "print(ans)"
   ]
  },
  {
   "cell_type": "markdown",
   "metadata": {},
   "source": [
    "# C問題"
   ]
  },
  {
   "cell_type": "code",
   "execution_count": 19,
   "metadata": {},
   "outputs": [
    {
     "name": "stdin",
     "output_type": "stream",
     "text": [
      " 6\n",
      " 2 7 1 8 2 8\n"
     ]
    },
    {
     "name": "stdout",
     "output_type": "stream",
     "text": [
      "Yes\n"
     ]
    }
   ],
   "source": [
    "import math\n",
    "\n",
    "N = int(input())\n",
    "A = list(map(int, input().split()))\n",
    "\n",
    "cnt_4 = 0\n",
    "cnt_odd = 0\n",
    "\n",
    "for a in A:\n",
    "    if a%4 == 0:\n",
    "        cnt_4 += 1\n",
    "    elif a%2 == 1:\n",
    "        cnt_odd += 1\n",
    "        \n",
    "cnt_even = N - cnt_4 - cnt_odd\n",
    "        \n",
    "if cnt_odd + cnt_even%2 <= cnt_4+1:\n",
    "    ans = \"Yes\"\n",
    "else:\n",
    "    ans = \"No\"\n",
    "    \n",
    "print(ans)"
   ]
  },
  {
   "cell_type": "markdown",
   "metadata": {},
   "source": [
    "# D問題"
   ]
  },
  {
   "cell_type": "code",
   "execution_count": 10,
   "metadata": {},
   "outputs": [
    {
     "name": "stdin",
     "output_type": "stream",
     "text": [
      " 1 1\n",
      " 1\n",
      " 1\n"
     ]
    },
    {
     "name": "stdout",
     "output_type": "stream",
     "text": [
      "[1]\n",
      "1\n"
     ]
    }
   ],
   "source": [
    "H, W = map(int, input().split())\n",
    "N = int(input())\n",
    "A = list(map(int, input().split()))\n",
    "\n",
    "C = []\n",
    "\n",
    "for i in range(N):\n",
    "    C += [i+1]*A[i]\n",
    "\n",
    "ans = [[None]*W for _ in range(H)]\n",
    "check = [[False]*W for _ in range(H)]\n",
    "\n",
    "dxy = [(0,1),(1,0),(0,-1),(-1,0)]\n",
    "x,y = 0,0\n",
    "\n",
    "for _ in range(H*W):\n",
    "    c = C.pop(0)\n",
    "    ans[y][x] = c\n",
    "    check[y][x] = True\n",
    "    for dx, dy in dxy:\n",
    "        nx = x+dx\n",
    "        ny = y+dy\n",
    "        if nx < 0 or W-1 < nx or ny < 0 or H-1 < ny:\n",
    "            continue\n",
    "        else:\n",
    "            if check[ny][nx] == False:\n",
    "                x = nx\n",
    "                y = ny\n",
    "                break\n",
    "                \n",
    "for l in ans:\n",
    "    print(*l)"
   ]
  }
 ],
 "metadata": {
  "kernelspec": {
   "display_name": "Python 3",
   "language": "python",
   "name": "python3"
  },
  "language_info": {
   "codemirror_mode": {
    "name": "ipython",
    "version": 3
   },
   "file_extension": ".py",
   "mimetype": "text/x-python",
   "name": "python",
   "nbconvert_exporter": "python",
   "pygments_lexer": "ipython3",
   "version": "3.6.5"
  },
  "toc": {
   "base_numbering": 1,
   "nav_menu": {},
   "number_sections": true,
   "sideBar": true,
   "skip_h1_title": false,
   "title_cell": "Table of Contents",
   "title_sidebar": "Contents",
   "toc_cell": false,
   "toc_position": {},
   "toc_section_display": true,
   "toc_window_display": false
  }
 },
 "nbformat": 4,
 "nbformat_minor": 4
}

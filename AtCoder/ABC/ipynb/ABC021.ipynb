{
 "cells": [
  {
   "cell_type": "markdown",
   "metadata": {},
   "source": [
    "# A問題"
   ]
  },
  {
   "cell_type": "code",
   "execution_count": 3,
   "metadata": {},
   "outputs": [
    {
     "name": "stdout",
     "output_type": "stream",
     "text": [
      "5\n",
      "1\n",
      "1\n",
      "1\n",
      "1\n",
      "1\n"
     ]
    }
   ],
   "source": [
    "N = int(input())\n",
    "\n",
    "print(N)\n",
    "for _ in range(N):\n",
    "    print(1)"
   ]
  },
  {
   "cell_type": "markdown",
   "metadata": {},
   "source": [
    "# B問題"
   ]
  },
  {
   "cell_type": "code",
   "execution_count": 12,
   "metadata": {},
   "outputs": [
    {
     "name": "stdout",
     "output_type": "stream",
     "text": [
      "NO\n"
     ]
    }
   ],
   "source": [
    "N = int(input())\n",
    "a, b = map(int, input().split())\n",
    "K = int(input())\n",
    "P = list(map(int, input().split()))\n",
    "\n",
    "P_set = set(P)\n",
    "\n",
    "if a in P or b in P or len(P) != len(P_set):\n",
    "    ans = \"NO\"\n",
    "else:\n",
    "    ans = \"YES\"\n",
    "\n",
    "print(ans)"
   ]
  },
  {
   "cell_type": "markdown",
   "metadata": {},
   "source": [
    "# C問題"
   ]
  },
  {
   "cell_type": "code",
   "execution_count": 37,
   "metadata": {},
   "outputs": [
    {
     "name": "stdout",
     "output_type": "stream",
     "text": [
      "1\n"
     ]
    }
   ],
   "source": [
    "from collections import deque\n",
    "\n",
    "N = int(input())\n",
    "a, b = map(lambda x:int(x)-1, input().split())\n",
    "M = int(input())\n",
    "adj = [[] for _ in range(N)]\n",
    "for _ in range(M):\n",
    "    x, y = map(int, input().split())\n",
    "    adj[x-1].append(y-1)\n",
    "    adj[y-1].append(x-1)\n",
    "\n",
    "inf = float(\"inf\")\n",
    "MOD = 10**9+7\n",
    "    \n",
    "q = deque()\n",
    "q.append(a)\n",
    "check = [False] * N\n",
    "cnt = [[inf,0] for _ in range(N)]\n",
    "cnt[a] = [0,1]\n",
    "\n",
    "while q:\n",
    "    v = q.popleft()\n",
    "    if check[v] == False:\n",
    "        check[v] = True\n",
    "        for nv in adj[v]:\n",
    "            if check[nv] == True:\n",
    "                continue\n",
    "            \n",
    "            if cnt[nv][0] < cnt[v][0] + 1:\n",
    "                continue\n",
    "                \n",
    "            cnt[nv][0] = cnt[v][0] + 1\n",
    "            cnt[nv][1] += cnt[v][1]\n",
    "            cnt[nv][1] %= MOD\n",
    "            q.append(nv)\n",
    "        \n",
    "print(cnt[b][1])"
   ]
  },
  {
   "cell_type": "markdown",
   "metadata": {},
   "source": [
    "# D問題"
   ]
  },
  {
   "cell_type": "code",
   "execution_count": 2,
   "metadata": {},
   "outputs": [
    {
     "name": "stdout",
     "output_type": "stream",
     "text": [
      "55\n"
     ]
    }
   ],
   "source": [
    "N = int(input())\n",
    "K = int(input())\n",
    "\n",
    "def inv(n, MOD=10**9+7):  # MODを法とした逆元\n",
    "    return pow(n, MOD-2, MOD)\n",
    "\n",
    "def comb(n, r, MOD=10**9+7, mx=10**6): # mx:求めておきたい階乗の最大値\n",
    "    fact = [1] * (mx+1) # 階乗を格納するリスト\n",
    "    for i in range(mx):\n",
    "        fact[i+1] = fact[i] * (i+1) % MOD # 階乗を計算\n",
    "    return (fact[n] * inv(fact[n-r]) * inv(fact[r])) % MOD\n",
    "\n",
    "ans = comb(N+K-1, K)\n",
    "print(ans)"
   ]
  }
 ],
 "metadata": {
  "kernelspec": {
   "display_name": "Python 3",
   "language": "python",
   "name": "python3"
  },
  "language_info": {
   "codemirror_mode": {
    "name": "ipython",
    "version": 3
   },
   "file_extension": ".py",
   "mimetype": "text/x-python",
   "name": "python",
   "nbconvert_exporter": "python",
   "pygments_lexer": "ipython3",
   "version": "3.6.5"
  },
  "toc": {
   "base_numbering": 1,
   "nav_menu": {},
   "number_sections": true,
   "sideBar": true,
   "skip_h1_title": false,
   "title_cell": "Table of Contents",
   "title_sidebar": "Contents",
   "toc_cell": false,
   "toc_position": {},
   "toc_section_display": true,
   "toc_window_display": false
  }
 },
 "nbformat": 4,
 "nbformat_minor": 4
}

{
 "cells": [
  {
   "cell_type": "markdown",
   "metadata": {},
   "source": [
    "# A問題"
   ]
  },
  {
   "cell_type": "code",
   "execution_count": 4,
   "metadata": {},
   "outputs": [
    {
     "name": "stdout",
     "output_type": "stream",
     "text": [
      "53\n"
     ]
    }
   ],
   "source": [
    "lst = list(map(int, input().split()))\n",
    "\n",
    "lst = sorted(lst)\n",
    "ans = int(str(lst[2])+str(lst[1])) + lst[0]\n",
    "print(ans)"
   ]
  },
  {
   "cell_type": "markdown",
   "metadata": {},
   "source": [
    "# B問題"
   ]
  },
  {
   "cell_type": "code",
   "execution_count": 9,
   "metadata": {},
   "outputs": [
    {
     "name": "stdout",
     "output_type": "stream",
     "text": [
      "War\n"
     ]
    }
   ],
   "source": [
    "N, M, X, Y = map(int, input().split())\n",
    "X_lst = list(map(int, input().split()))\n",
    "Y_lst = list(map(int, input().split()))\n",
    "\n",
    "X_max = max(X_lst)\n",
    "Y_min = min(Y_lst)\n",
    "\n",
    "ans = \"War\"\n",
    "if X_max+1 <= Y_min:\n",
    "    for i in range(X_max+1, Y_min+1):\n",
    "        if X < i and i <= Y:\n",
    "            ans = \"No War\"\n",
    "            break\n",
    "\n",
    "print(ans)"
   ]
  },
  {
   "cell_type": "markdown",
   "metadata": {},
   "source": [
    "# C問題"
   ]
  },
  {
   "cell_type": "code",
   "execution_count": 15,
   "metadata": {},
   "outputs": [
    {
     "name": "stdout",
     "output_type": "stream",
     "text": [
      "Yes\n"
     ]
    }
   ],
   "source": [
    "S = list(input())\n",
    "T = list(input())\n",
    "\n",
    "keys = list(\"abcdefghijklmnopqrstuvwxyz\")\n",
    "values = [0]*26\n",
    "dic_s = dict(zip(keys, values))\n",
    "dic_t = dict(zip(keys, values))\n",
    "ans = \"Yes\"\n",
    "\n",
    "for s, t in zip(S, T):\n",
    "    if dic_s[s] == 0:\n",
    "        dic_s[s] = t\n",
    "    else:\n",
    "        if dic_s[s] != t:\n",
    "            ans = \"No\"\n",
    "            break\n",
    "            \n",
    "    if dic_t[t] == 0:\n",
    "        dic_t[t] = s\n",
    "    else:\n",
    "        if dic_t[t] != s:\n",
    "            ans = \"No\"\n",
    "            break        \n",
    "    \n",
    "print(ans)"
   ]
  }
 ],
 "metadata": {
  "kernelspec": {
   "display_name": "Python 3",
   "language": "python",
   "name": "python3"
  },
  "language_info": {
   "codemirror_mode": {
    "name": "ipython",
    "version": 3
   },
   "file_extension": ".py",
   "mimetype": "text/x-python",
   "name": "python",
   "nbconvert_exporter": "python",
   "pygments_lexer": "ipython3",
   "version": "3.6.5"
  },
  "toc": {
   "base_numbering": 1,
   "nav_menu": {},
   "number_sections": true,
   "sideBar": true,
   "skip_h1_title": false,
   "title_cell": "Table of Contents",
   "title_sidebar": "Contents",
   "toc_cell": false,
   "toc_position": {},
   "toc_section_display": true,
   "toc_window_display": false
  }
 },
 "nbformat": 4,
 "nbformat_minor": 4
}

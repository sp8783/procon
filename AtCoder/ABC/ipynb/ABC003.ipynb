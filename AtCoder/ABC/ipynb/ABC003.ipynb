{
 "cells": [
  {
   "cell_type": "markdown",
   "metadata": {},
   "source": [
    "# A問題"
   ]
  },
  {
   "cell_type": "code",
   "execution_count": 2,
   "metadata": {},
   "outputs": [
    {
     "name": "stdin",
     "output_type": "stream",
     "text": [
      " 6\n"
     ]
    },
    {
     "name": "stdout",
     "output_type": "stream",
     "text": [
      "35000\n"
     ]
    }
   ],
   "source": [
    "N = int(input())\n",
    "ans = 10000*(N+1)//2\n",
    "print(ans)"
   ]
  },
  {
   "cell_type": "markdown",
   "metadata": {},
   "source": [
    "# B問題"
   ]
  },
  {
   "cell_type": "code",
   "execution_count": 3,
   "metadata": {},
   "outputs": [
    {
     "name": "stdin",
     "output_type": "stream",
     "text": [
      " ch@ku@ai\n",
      " choku@@i\n"
     ]
    },
    {
     "name": "stdout",
     "output_type": "stream",
     "text": [
      "You can win\n"
     ]
    }
   ],
   "source": [
    "S = list(input())\n",
    "T = list(input())\n",
    "\n",
    "ans = \"You can win\"\n",
    "for i in range(len(S)):\n",
    "    if S[i] == T[i]:\n",
    "        continue\n",
    "    else:\n",
    "        if \"@\" in [S[i],T[i]] and (S[i] in [\"a\",\"t\",\"c\",\"o\",\"d\",\"e\",\"r\"] or T[i] in [\"a\",\"t\",\"c\",\"o\",\"d\",\"e\",\"r\"]):\n",
    "            continue\n",
    "        else:\n",
    "            ans = \"You will lose\"\n",
    "\n",
    "print(ans)"
   ]
  },
  {
   "cell_type": "markdown",
   "metadata": {},
   "source": [
    "# C問題"
   ]
  },
  {
   "cell_type": "code",
   "execution_count": 6,
   "metadata": {},
   "outputs": [
    {
     "name": "stdin",
     "output_type": "stream",
     "text": [
      " 10 5\n",
      " 2604 2281 3204 2264 2200 2650 2229 2461 2439 2211\n"
     ]
    },
    {
     "name": "stdout",
     "output_type": "stream",
     "text": [
      "2820.03125\n"
     ]
    }
   ],
   "source": [
    "N, K = map(int, input().split())\n",
    "R = list(map(int, input().split()))\n",
    "\n",
    "R = sorted(R)[-K:]\n",
    "ans = 0\n",
    "for r in R:\n",
    "    ans = (ans + r)/2\n",
    "\n",
    "print(ans)"
   ]
  }
 ],
 "metadata": {
  "kernelspec": {
   "display_name": "Python 3",
   "language": "python",
   "name": "python3"
  },
  "language_info": {
   "codemirror_mode": {
    "name": "ipython",
    "version": 3
   },
   "file_extension": ".py",
   "mimetype": "text/x-python",
   "name": "python",
   "nbconvert_exporter": "python",
   "pygments_lexer": "ipython3",
   "version": "3.6.5"
  },
  "toc": {
   "base_numbering": 1,
   "nav_menu": {},
   "number_sections": true,
   "sideBar": true,
   "skip_h1_title": false,
   "title_cell": "Table of Contents",
   "title_sidebar": "Contents",
   "toc_cell": false,
   "toc_position": {},
   "toc_section_display": true,
   "toc_window_display": false
  }
 },
 "nbformat": 4,
 "nbformat_minor": 4
}

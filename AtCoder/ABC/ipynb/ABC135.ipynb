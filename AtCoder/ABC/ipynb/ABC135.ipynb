{
 "cells": [
  {
   "cell_type": "markdown",
   "metadata": {},
   "source": [
    "# A問題"
   ]
  },
  {
   "cell_type": "code",
   "execution_count": 3,
   "metadata": {},
   "outputs": [
    {
     "name": "stdin",
     "output_type": "stream",
     "text": [
      " 998244353 99824435\n"
     ]
    },
    {
     "name": "stdout",
     "output_type": "stream",
     "text": [
      "549034394\n"
     ]
    }
   ],
   "source": [
    "a, b = map(int, input().split())\n",
    "\n",
    "c = max(a,b) - min(a,b)\n",
    "if c%2 == 0:\n",
    "    ans = c//2 + min(a,b)\n",
    "else:\n",
    "    ans = \"IMPOSSIBLE\"\n",
    "\n",
    "print(ans)"
   ]
  },
  {
   "cell_type": "markdown",
   "metadata": {},
   "source": [
    "# B問題"
   ]
  },
  {
   "cell_type": "code",
   "execution_count": 5,
   "metadata": {},
   "outputs": [
    {
     "name": "stdin",
     "output_type": "stream",
     "text": [
      " 5\n",
      " 2 4 3 5 1\n"
     ]
    },
    {
     "name": "stdout",
     "output_type": "stream",
     "text": [
      "NO\n"
     ]
    }
   ],
   "source": [
    "N = int(input())\n",
    "P = list(map(int, input().split()))\n",
    "\n",
    "cnt = 0\n",
    "for i, p in enumerate(P):\n",
    "    if i+1 != p:\n",
    "        cnt += 1\n",
    "\n",
    "if cnt <= 2:\n",
    "    ans = \"YES\"\n",
    "else:\n",
    "    ans = \"NO\"\n",
    "\n",
    "print(ans)"
   ]
  },
  {
   "cell_type": "markdown",
   "metadata": {},
   "source": [
    "# C問題"
   ]
  },
  {
   "cell_type": "code",
   "execution_count": 7,
   "metadata": {},
   "outputs": [
    {
     "name": "stdin",
     "output_type": "stream",
     "text": [
      " 3\n",
      " 5 6 3 8\n",
      " 5 100 8\n"
     ]
    },
    {
     "name": "stdout",
     "output_type": "stream",
     "text": [
      "22\n"
     ]
    }
   ],
   "source": [
    "N = int(input())\n",
    "A = list(map(int, input().split()))\n",
    "B = list(map(int, input().split()))\n",
    "\n",
    "ans = 0\n",
    "\n",
    "for i in range(N):\n",
    "    if A[i] >= B[i]:\n",
    "        ans += B[i]\n",
    "    else:\n",
    "        ans += A[i] + min(A[i+1], B[i] - A[i])\n",
    "        A[i+1] = max(A[i+1] - (B[i] - A[i]), 0)\n",
    "\n",
    "print(ans)"
   ]
  },
  {
   "cell_type": "markdown",
   "metadata": {},
   "source": [
    "# D問題"
   ]
  },
  {
   "cell_type": "code",
   "execution_count": 12,
   "metadata": {},
   "outputs": [
    {
     "name": "stdin",
     "output_type": "stream",
     "text": [
      " ??2??5\n"
     ]
    },
    {
     "name": "stdout",
     "output_type": "stream",
     "text": [
      "768\n"
     ]
    }
   ],
   "source": [
    "S = list(input())\n",
    "mod = 10**9+7\n",
    "\n",
    "dp = [[0]*13 for _ in range(len(S)+1)]\n",
    "dp[0][0] = 1\n",
    "\n",
    "for i in range(len(S)):\n",
    "    if S[i] == \"?\":\n",
    "        for j in range(13):\n",
    "            for k in range(10):\n",
    "                dp[i+1][(j*10 + k) % 13] += dp[i][j] % mod\n",
    "    else:\n",
    "        for j in range(13):\n",
    "            dp[i+1][(j*10 + int(S[i])) % 13] += dp[i][j] % mod\n",
    "\n",
    "ans = dp[-1][5] % mod\n",
    "print(ans)"
   ]
  }
 ],
 "metadata": {
  "kernelspec": {
   "display_name": "Python 3",
   "language": "python",
   "name": "python3"
  },
  "language_info": {
   "codemirror_mode": {
    "name": "ipython",
    "version": 3
   },
   "file_extension": ".py",
   "mimetype": "text/x-python",
   "name": "python",
   "nbconvert_exporter": "python",
   "pygments_lexer": "ipython3",
   "version": "3.6.5"
  },
  "toc": {
   "base_numbering": 1,
   "nav_menu": {},
   "number_sections": true,
   "sideBar": true,
   "skip_h1_title": false,
   "title_cell": "Table of Contents",
   "title_sidebar": "Contents",
   "toc_cell": false,
   "toc_position": {},
   "toc_section_display": true,
   "toc_window_display": false
  }
 },
 "nbformat": 4,
 "nbformat_minor": 4
}

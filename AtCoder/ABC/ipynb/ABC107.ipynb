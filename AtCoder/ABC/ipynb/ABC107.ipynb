{
 "cells": [
  {
   "cell_type": "markdown",
   "metadata": {},
   "source": [
    "# A問題"
   ]
  },
  {
   "cell_type": "code",
   "execution_count": 2,
   "metadata": {},
   "outputs": [
    {
     "name": "stdin",
     "output_type": "stream",
     "text": [
      " 5 7\n"
     ]
    },
    {
     "name": "stdout",
     "output_type": "stream",
     "text": [
      "24\n"
     ]
    }
   ],
   "source": [
    "N, i = map(int, input().split())\n",
    "ans = N+1-i\n",
    "print(ans)"
   ]
  },
  {
   "cell_type": "markdown",
   "metadata": {},
   "source": [
    "# B問題"
   ]
  },
  {
   "cell_type": "code",
   "execution_count": 11,
   "metadata": {},
   "outputs": [
    {
     "name": "stdin",
     "output_type": "stream",
     "text": [
      " 7\n"
     ]
    },
    {
     "name": "stdout",
     "output_type": "stream",
     "text": [
      "0\n"
     ]
    }
   ],
   "source": [
    "h, w = map(int, input().split())\n",
    "a = [''] * h\n",
    "for i in range(h):\n",
    "\ta[i] = input()\n",
    "\n",
    "row = [False] * h\n",
    "col = [False] * w\n",
    "for i in range(h):\n",
    "\tfor j in range(w):\n",
    "\t\tif a[i][j] == '#':\n",
    "\t\t\trow[i] = True\n",
    "\t\t\tcol[j] = True\n",
    "\n",
    "for i in range(h):\n",
    "\tif row[i]:\n",
    "\t\tfor j in range(w):\n",
    "\t\t\tif col[j]:\n",
    "\t\t\t\tprint(a[i][j], end = '')\n",
    "\t\tprint()"
   ]
  },
  {
   "cell_type": "markdown",
   "metadata": {},
   "source": [
    "# C問題"
   ]
  },
  {
   "cell_type": "code",
   "execution_count": 5,
   "metadata": {},
   "outputs": [
    {
     "name": "stdin",
     "output_type": "stream",
     "text": [
      " 5 3\n",
      " -30 -10 10 20 50\n"
     ]
    },
    {
     "name": "stdout",
     "output_type": "stream",
     "text": [
      "40\n"
     ]
    }
   ],
   "source": [
    "N, K = map(int, input().split())\n",
    "X = list(map(int, input().split()))\n",
    "\n",
    "ans = 10**16\n",
    "for i in range(N-K+1):\n",
    "    l, r = X[i], X[i+K-1]\n",
    "    tmp = min(abs(l) + abs(r-l), abs(r) + abs(r-l))\n",
    "    ans = min(ans, tmp)\n",
    "print(ans)"
   ]
  }
 ],
 "metadata": {
  "kernelspec": {
   "display_name": "Python 3",
   "language": "python",
   "name": "python3"
  },
  "language_info": {
   "codemirror_mode": {
    "name": "ipython",
    "version": 3
   },
   "file_extension": ".py",
   "mimetype": "text/x-python",
   "name": "python",
   "nbconvert_exporter": "python",
   "pygments_lexer": "ipython3",
   "version": "3.6.5"
  },
  "toc": {
   "base_numbering": 1,
   "nav_menu": {},
   "number_sections": true,
   "sideBar": true,
   "skip_h1_title": false,
   "title_cell": "Table of Contents",
   "title_sidebar": "Contents",
   "toc_cell": false,
   "toc_position": {},
   "toc_section_display": true,
   "toc_window_display": false
  }
 },
 "nbformat": 4,
 "nbformat_minor": 4
}

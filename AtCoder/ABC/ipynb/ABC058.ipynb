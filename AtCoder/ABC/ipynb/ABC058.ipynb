{
 "cells": [
  {
   "cell_type": "markdown",
   "metadata": {},
   "source": [
    "# A問題"
   ]
  },
  {
   "cell_type": "code",
   "execution_count": 1,
   "metadata": {},
   "outputs": [
    {
     "name": "stdin",
     "output_type": "stream",
     "text": [
      " rng gorilla apple\n"
     ]
    },
    {
     "name": "stdout",
     "output_type": "stream",
     "text": [
      "YES\n"
     ]
    }
   ],
   "source": [
    "a, b, c = map(int, input().split())\n",
    "\n",
    "if b-a == c-b:\n",
    "    print(\"YES\")\n",
    "else:\n",
    "    print(\"NO\")"
   ]
  },
  {
   "cell_type": "markdown",
   "metadata": {},
   "source": [
    "# B問題"
   ]
  },
  {
   "cell_type": "code",
   "execution_count": 1,
   "metadata": {},
   "outputs": [
    {
     "name": "stdin",
     "output_type": "stream",
     "text": [
      " xyz\n",
      " abc\n"
     ]
    },
    {
     "name": "stdout",
     "output_type": "stream",
     "text": [
      "xaybzc\n"
     ]
    }
   ],
   "source": [
    "o = input()\n",
    "e = input()\n",
    "\n",
    "ans = \"\"\n",
    "o_idx = 0\n",
    "e_idx = 0\n",
    "\n",
    "for i in range(len(o)+len(e)):\n",
    "    if i%2 == 0:\n",
    "        ans += o[o_idx]\n",
    "        o_idx += 1\n",
    "    else:\n",
    "        ans += e[e_idx]\n",
    "        e_idx += 1\n",
    "        \n",
    "print(ans)"
   ]
  },
  {
   "cell_type": "markdown",
   "metadata": {},
   "source": [
    "# C問題"
   ]
  },
  {
   "cell_type": "code",
   "execution_count": 5,
   "metadata": {},
   "outputs": [
    {
     "name": "stdin",
     "output_type": "stream",
     "text": [
      " 3\n",
      " cbaa\n",
      " daacc\n",
      " acacac\n"
     ]
    },
    {
     "name": "stdout",
     "output_type": "stream",
     "text": [
      "aac\n"
     ]
    }
   ],
   "source": [
    "n = int(input())\n",
    "\n",
    "abc = list(map(lambda x:chr(x), list(range(97,97+26))))\n",
    "values = [0]*26\n",
    "dic = dict(zip(abc, values))\n",
    "\n",
    "for i in range(n):\n",
    "    S = list(input())\n",
    "    tmp = dict(zip(abc, values))\n",
    "    for s in S:\n",
    "        tmp[s] += 1\n",
    "    \n",
    "    if i == 0:\n",
    "        dic = tmp\n",
    "    else:\n",
    "        for s in abc:\n",
    "            dic[s] = min(dic[s], tmp[s])\n",
    "\n",
    "ans = \"\"\n",
    "for s in abc:\n",
    "    ans += s*dic[s]\n",
    "print(ans)"
   ]
  }
 ],
 "metadata": {
  "kernelspec": {
   "display_name": "Python 3",
   "language": "python",
   "name": "python3"
  },
  "language_info": {
   "codemirror_mode": {
    "name": "ipython",
    "version": 3
   },
   "file_extension": ".py",
   "mimetype": "text/x-python",
   "name": "python",
   "nbconvert_exporter": "python",
   "pygments_lexer": "ipython3",
   "version": "3.6.5"
  },
  "toc": {
   "base_numbering": 1,
   "nav_menu": {},
   "number_sections": true,
   "sideBar": true,
   "skip_h1_title": false,
   "title_cell": "Table of Contents",
   "title_sidebar": "Contents",
   "toc_cell": false,
   "toc_position": {},
   "toc_section_display": true,
   "toc_window_display": false
  }
 },
 "nbformat": 4,
 "nbformat_minor": 4
}

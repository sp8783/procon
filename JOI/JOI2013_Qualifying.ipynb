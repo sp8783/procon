{
 "cells": [
  {
   "cell_type": "markdown",
   "metadata": {},
   "source": [
    "※コンテストURL：https://atcoder.jp/contests/joi2013yo"
   ]
  },
  {
   "cell_type": "markdown",
   "metadata": {},
   "source": [
    "# D問題"
   ]
  },
  {
   "cell_type": "code",
   "execution_count": 24,
   "metadata": {},
   "outputs": [
    {
     "name": "stdout",
     "output_type": "stream",
     "text": [
      "300\n"
     ]
    }
   ],
   "source": [
    "import itertools\n",
    "\n",
    "D, N = map(int, input().split())\n",
    "T = [int(input()) for _ in range(D)]\n",
    "clothes = [list(map(int, input().split())) for _ in range(N)]\n",
    "\n",
    "# dp[i][j][k]:i日目にclothes[j]を選んだ場合における、\n",
    "#  k=0 : i日目までに得られるf(C)の最大値\n",
    "#  k=1 : i日目に選んだ服のC\n",
    "dp = [[[0,0] for _ in range(N)] for _ in range(D)]\n",
    "\n",
    "for i in range(D):\n",
    "    t = T[i] # i日目の最高気温\n",
    "    \n",
    "    for j_0 in range(N):  # j_0:i日目に選ぶ服\n",
    "        a, b, c = clothes[j_0]\n",
    "        \n",
    "        # i日目の最高気温が服に適しているか\n",
    "        if t < a or b < t:\n",
    "            dp[i][j_0] = [-1,c]    \n",
    "        else:\n",
    "            if i == 0:\n",
    "                dp[i][j_0] = [0,c]\n",
    "            else:                \n",
    "                value_max = 0\n",
    "                for j_1 in range(N):  # j_1:i-1日前に選ぶ服\n",
    "                    if dp[i-1][j_1][0] == -1:\n",
    "                        continue\n",
    "                    else:\n",
    "                        value = dp[i-1][j_1][0] + abs(c - dp[i-1][j_1][1])\n",
    "                        if value_max <= value:\n",
    "                            dp[i][j_0] = [value, c]\n",
    "                            value_max = value\n",
    "        \n",
    "ans = max(dp[D-1], key = lambda x:x[0])[0]\n",
    "print(ans)"
   ]
  }
 ],
 "metadata": {
  "kernelspec": {
   "display_name": "Python 3",
   "language": "python",
   "name": "python3"
  },
  "language_info": {
   "codemirror_mode": {
    "name": "ipython",
    "version": 3
   },
   "file_extension": ".py",
   "mimetype": "text/x-python",
   "name": "python",
   "nbconvert_exporter": "python",
   "pygments_lexer": "ipython3",
   "version": "3.6.5"
  }
 },
 "nbformat": 4,
 "nbformat_minor": 4
}

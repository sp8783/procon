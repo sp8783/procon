{
 "cells": [
  {
   "cell_type": "markdown",
   "metadata": {},
   "source": [
    "※コンテストURL：https://atcoder.jp/contests/joi2009ho"
   ]
  },
  {
   "cell_type": "markdown",
   "metadata": {},
   "source": [
    "# B問題"
   ]
  },
  {
   "cell_type": "code",
   "execution_count": 12,
   "metadata": {},
   "outputs": [
    {
     "name": "stdin",
     "output_type": "stream",
     "text": [
      " 20\n",
      " 4\n",
      " 4\n",
      " 12\n",
      " 8\n",
      " 16\n",
      " 7\n",
      " 7\n",
      " 11\n",
      " 8\n"
     ]
    },
    {
     "name": "stdout",
     "output_type": "stream",
     "text": [
      "3\n"
     ]
    }
   ],
   "source": [
    "from bisect import bisect_left, bisect_right\n",
    "\n",
    "d = int(input())\n",
    "n = int(input())\n",
    "m = int(input())\n",
    "D = [int(input()) for _ in range(n-1)] + [0,d]\n",
    "M = [int(input()) for _ in range(m)]\n",
    "\n",
    "D = sorted(D)\n",
    "ans = 0\n",
    "for k in M:\n",
    "    index = bisect_left(D, k)\n",
    "    if k == 0:\n",
    "        continue\n",
    "    else:\n",
    "        ans += min(k - D[index-1], D[index] - k)\n",
    "print(ans)"
   ]
  }
 ],
 "metadata": {
  "kernelspec": {
   "display_name": "Python 3",
   "language": "python",
   "name": "python3"
  },
  "language_info": {
   "codemirror_mode": {
    "name": "ipython",
    "version": 3
   },
   "file_extension": ".py",
   "mimetype": "text/x-python",
   "name": "python",
   "nbconvert_exporter": "python",
   "pygments_lexer": "ipython3",
   "version": "3.6.5"
  }
 },
 "nbformat": 4,
 "nbformat_minor": 4
}

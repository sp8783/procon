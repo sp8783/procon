{
 "cells": [
  {
   "cell_type": "markdown",
   "metadata": {},
   "source": [
    "※コンテストURL：https://atcoder.jp/contests/joi2012ho"
   ]
  },
  {
   "cell_type": "markdown",
   "metadata": {},
   "source": [
    "# D問題"
   ]
  },
  {
   "cell_type": "code",
   "execution_count": 2,
   "metadata": {},
   "outputs": [
    {
     "name": "stdout",
     "output_type": "stream",
     "text": [
      "12\n"
     ]
    }
   ],
   "source": [
    "N, M = map(int, input().split())\n",
    "plot = [[0]*(N + 10) for _ in range(N + 10)]\n",
    "for _ in range(M):\n",
    "    A, B, X = map(int, input().split())\n",
    "    plot[A][B] += 1\n",
    "    plot[A][B + 1] -= 1\n",
    "    plot[A + X + 1][B] -= 1\n",
    "    plot[A + X + 2][B + 1] += 1\n",
    "    plot[A + X + 1][B + X + 2] += 1\n",
    "    plot[A + X + 2][B + X + 2] -= 1\n",
    "\n",
    "for a in range(1, N + 10):\n",
    "    for b in range(1, N + 10):\n",
    "        plot[a][b] += plot[a][b - 1]\n",
    "\n",
    "for b in range(1, N + 10):\n",
    "    for a in range(1, N + 10):\n",
    "        plot[a][b] += plot[a - 1][b]\n",
    "\n",
    "for a in range(N + 10):\n",
    "    for c in range(1, N + 10 - a):\n",
    "        plot[a + c][c] += plot[a + c - 1][c - 1]\n",
    "\n",
    "ans = 0\n",
    "for a in range(N + 10):\n",
    "    for b in range(N + 10):\n",
    "        if plot[a][b]:\n",
    "            ans += 1\n",
    "\n",
    "print(ans)"
   ]
  }
 ],
 "metadata": {
  "kernelspec": {
   "display_name": "Python 3",
   "language": "python",
   "name": "python3"
  },
  "language_info": {
   "codemirror_mode": {
    "name": "ipython",
    "version": 3
   },
   "file_extension": ".py",
   "mimetype": "text/x-python",
   "name": "python",
   "nbconvert_exporter": "python",
   "pygments_lexer": "ipython3",
   "version": "3.6.5"
  }
 },
 "nbformat": 4,
 "nbformat_minor": 4
}

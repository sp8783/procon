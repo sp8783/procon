{
 "cells": [
  {
   "cell_type": "markdown",
   "metadata": {},
   "source": [
    "※コンテストURL：https://atcoder.jp/contests/joi2012yo"
   ]
  },
  {
   "cell_type": "markdown",
   "metadata": {},
   "source": [
    "# D問題"
   ]
  },
  {
   "cell_type": "code",
   "execution_count": 90,
   "metadata": {},
   "outputs": [
    {
     "name": "stdout",
     "output_type": "stream",
     "text": [
      "2640\n"
     ]
    }
   ],
   "source": [
    "import itertools\n",
    "\n",
    "N, K = map(int, input().split())\n",
    "dic = {}\n",
    "for _ in range(K):\n",
    "    a, b = map(int,input().split())\n",
    "    a -= 1\n",
    "    dic[a] = b-1\n",
    "\n",
    "dp = [[[0 for _ in range(3)] for _ in range(3)] for _ in range(N)]\n",
    "B = [0,1,2]\n",
    "B_prod = itertools.product(B,B,B)\n",
    "mod = 10**4\n",
    "\n",
    "for i in range(N):\n",
    "    B_prod = itertools.product(B,B,B)\n",
    "    \n",
    "    # 条件より、i日目に食べるパスタが決まっている場合はリストを更新\n",
    "    S = [0,1,2]\n",
    "    if i in dic.keys():\n",
    "        S = [dic[i]]\n",
    "    \n",
    "    # dpテーブル更新\n",
    "    if i == 0:\n",
    "        for b_0 in S:\n",
    "            dp[0][b_0] = [1,0,0]\n",
    "    else:\n",
    "        for b_0, b_1, b_2 in B_prod:\n",
    "            # 選んだパスタがリストに含まれているか\n",
    "            if b_0 in S:\n",
    "                # 「3日連続同じパスタではない」あるいは「2日目である（3連続になることがないので）」\n",
    "                if not(b_0 == b_1 and b_1 == b_2) or i == 1:\n",
    "                    dp[i][b_0][b_1] += dp[i-1][b_1][b_2]\n",
    "                    dp[i][b_0][b_1] %= mod\n",
    "                    \n",
    "            # 選んだパスタがリストに含まれていない場合は、条件を満たさないので 0\n",
    "            else:\n",
    "                dp[i][b_0][b_1] = 0\n",
    "        \n",
    "ans = 0\n",
    "for b in B:\n",
    "    ans += sum(dp[N-1][b])\n",
    "    ans %= mod\n",
    "\n",
    "print(ans)"
   ]
  },
  {
   "cell_type": "markdown",
   "metadata": {},
   "source": [
    "# E問題"
   ]
  },
  {
   "cell_type": "code",
   "execution_count": 13,
   "metadata": {},
   "outputs": [
    {
     "name": "stdout",
     "output_type": "stream",
     "text": [
      "56\n"
     ]
    }
   ],
   "source": [
    "from collections import deque\n",
    "\n",
    "W, H = map(int, input().split())\n",
    "mp = []\n",
    "mp.append([0]*(W+2))\n",
    "for _ in range(H):\n",
    "    lst = list(map(int, input().split()))\n",
    "    mp.append([0] + lst + [0])\n",
    "mp.append([0]*(W+2))\n",
    "\n",
    "dxy_odd = [(0, -1), (1, -1), (-1, 0), (1, 0), (0, 1), (1, 1)]\n",
    "dxy_even = [(-1, -1), (0, -1), (-1, 0), (1, 0), (-1, 1), (0, 1)]\n",
    "\n",
    "check = [[0]*(W+2) for _ in range(H+2)]\n",
    "ans = 0\n",
    "\n",
    "q = deque()\n",
    "q.append([0,0])\n",
    "\n",
    "while q:\n",
    "    x, y = q.popleft()\n",
    "    if check[y][x] == 1:\n",
    "        continue\n",
    "    \n",
    "    # dxyをy座標の偶奇で場合分けする\n",
    "    if y%2 == 0:\n",
    "        dxy = dxy_even\n",
    "    else:\n",
    "        dxy = dxy_odd\n",
    "    for dx, dy in dxy:\n",
    "        nx = x + dx\n",
    "        ny = y + dy\n",
    "\n",
    "        # 座標の範囲を超える場合はpass\n",
    "        if nx < 0 or nx > W + 1 or ny < 0 or ny > H + 1:\n",
    "            continue\n",
    "                \n",
    "        # 移動先に建物がある場合 -> カウントする\n",
    "        if mp[ny][nx] == 1:\n",
    "            ans += 1\n",
    "        # 移動先に建物がない場合 -> キューに追加する\n",
    "        else:\n",
    "            q.append([nx, ny])\n",
    "            \n",
    "    check[y][x] = 1\n",
    "    \n",
    "print(ans)"
   ]
  }
 ],
 "metadata": {
  "kernelspec": {
   "display_name": "Python 3",
   "language": "python",
   "name": "python3"
  },
  "language_info": {
   "codemirror_mode": {
    "name": "ipython",
    "version": 3
   },
   "file_extension": ".py",
   "mimetype": "text/x-python",
   "name": "python",
   "nbconvert_exporter": "python",
   "pygments_lexer": "ipython3",
   "version": "3.6.5"
  }
 },
 "nbformat": 4,
 "nbformat_minor": 4
}

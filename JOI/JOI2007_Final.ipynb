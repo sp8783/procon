{
 "cells": [
  {
   "cell_type": "markdown",
   "metadata": {},
   "source": [
    "# 問題3"
   ]
  },
  {
   "cell_type": "code",
   "execution_count": 52,
   "metadata": {},
   "outputs": [
    {
     "name": "stdin",
     "output_type": "stream",
     "text": [
      " 10\n",
      " 9 4\n",
      " 4 3\n",
      " 1 1\n",
      " 4 2\n",
      " 2 4\n",
      " 5 8\n",
      " 4 0\n",
      " 5 3\n",
      " 0 5\n",
      " 5 2\n"
     ]
    },
    {
     "name": "stdout",
     "output_type": "stream",
     "text": [
      "10\n"
     ]
    }
   ],
   "source": [
    "N = int(input())\n",
    "point = [tuple(map(int,input().split())) for _ in range(N)]\n",
    "point_set = set(point)\n",
    "ans = 0\n",
    "for i in range(N-1):\n",
    "    a, b = point[i]\n",
    "    for j in range(i+1,N):\n",
    "        c, d = point[j]\n",
    "        vec_x, vec_y = c-a, d-b\n",
    "        if (a - vec_y, b + vec_x) in point_set and (c - vec_y, d + vec_x) in point_set:\n",
    "            ans = max(ans, vec_x**2 + vec_y**2)\n",
    "print(ans)"
   ]
  }
 ],
 "metadata": {
  "kernelspec": {
   "display_name": "Python 3",
   "language": "python",
   "name": "python3"
  },
  "language_info": {
   "codemirror_mode": {
    "name": "ipython",
    "version": 3
   },
   "file_extension": ".py",
   "mimetype": "text/x-python",
   "name": "python",
   "nbconvert_exporter": "python",
   "pygments_lexer": "ipython3",
   "version": "3.6.5"
  }
 },
 "nbformat": 4,
 "nbformat_minor": 4
}

{
 "cells": [
  {
   "cell_type": "markdown",
   "metadata": {},
   "source": [
    "※コンテストURL：https://atcoder.jp/contests/joi2015ho"
   ]
  },
  {
   "cell_type": "markdown",
   "metadata": {},
   "source": [
    "# B問題"
   ]
  },
  {
   "cell_type": "code",
   "execution_count": null,
   "metadata": {},
   "outputs": [],
   "source": [
    "import sys\n",
    "\n",
    "N = int(input())\n",
    "A = []\n",
    "\n",
    "for n in range(N):\n",
    "    A.append(int(sys.stdin.readline().strip()))\n",
    "\n",
    "# dp 初期化 -------------\n",
    "# dp は [l, r) の区間が残っているときに JOI がとりえる最大のケーキの面積とする\n",
    "dp = [[0] * N for _ in range(N)]\n",
    "\n",
    "if N % 2 == 1:\n",
    "    for n in range(N):\n",
    "        dp[n][(n + 1) % N] = A[n]\n",
    "\n",
    "# dp 更新 -----------------\n",
    "for remain in range(2, N + 1):  # 残っているケーキの量で探索をかける\n",
    "    for l in range(N):\n",
    "        r = l + remain  # [l, r)\n",
    "\n",
    "        if remain % 2 == N % 2:  # JOI のターン\n",
    "            dp[l][r % N] = max(dp[l][(r - 1) % N] + A[(r - 1) % N],\n",
    "                               dp[(l + 1) % N][r % N] + A[l])\n",
    "        else:  # IOI のターン\n",
    "            if A[(r - 1) % N] > A[l]:\n",
    "                dp[l][r % N] = dp[l][(r - 1) % N]\n",
    "            else:\n",
    "                dp[l][r % N] = dp[(l + 1) % N][r % N]\n",
    "\n",
    "ans = 0\n",
    "for i in range(N):\n",
    "    if ans < dp[i][i]:\n",
    "        ans = dp[i][i]\n",
    "\n",
    "print(ans)"
   ]
  }
 ],
 "metadata": {
  "kernelspec": {
   "display_name": "Python 3",
   "language": "python",
   "name": "python3"
  },
  "language_info": {
   "codemirror_mode": {
    "name": "ipython",
    "version": 3
   },
   "file_extension": ".py",
   "mimetype": "text/x-python",
   "name": "python",
   "nbconvert_exporter": "python",
   "pygments_lexer": "ipython3",
   "version": "3.6.5"
  }
 },
 "nbformat": 4,
 "nbformat_minor": 4
}

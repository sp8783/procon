{
 "cells": [
  {
   "cell_type": "markdown",
   "metadata": {},
   "source": [
    "※コンテストURL：https://atcoder.jp/contests/joi2011yo"
   ]
  },
  {
   "cell_type": "markdown",
   "metadata": {},
   "source": [
    "# E問題"
   ]
  },
  {
   "cell_type": "code",
   "execution_count": 33,
   "metadata": {},
   "outputs": [
    {
     "name": "stdout",
     "output_type": "stream",
     "text": [
      "91\n"
     ]
    }
   ],
   "source": [
    "from collections import deque\n",
    "\n",
    "H, W, N = map(int, input().split())\n",
    "town = []\n",
    "point = dict()\n",
    "for i in range(H):\n",
    "    lst = list(input())\n",
    "    town.append(lst)\n",
    "    \n",
    "    # 巣、工場の座標を記録する\n",
    "    S = set(lst) - {\".\", \"X\"}\n",
    "    for s in S:\n",
    "        point[s] = [lst.index(s), i]\n",
    "\n",
    "dxy = [(0,1),(1,0),(0,-1),(-1,0)]\n",
    "check_point = [\"S\"] + list(map(lambda x: str(x), list(range(1,N+1))))\n",
    "ans = 0\n",
    "\n",
    "for p in range(len(check_point) - 1):\n",
    "    start = point[check_point[p]]\n",
    "    goal = point[check_point[p+1]]\n",
    "\n",
    "    length = [[-1]*W for _ in range(H)]\n",
    "    length[start[1]][start[0]] = 0\n",
    "\n",
    "    q = deque()\n",
    "    q.append(start)\n",
    "    \n",
    "    while q:\n",
    "        x, y = q.popleft()\n",
    "        for dx, dy in dxy:\n",
    "            nx = x + dx\n",
    "            ny = y + dy\n",
    "            \n",
    "            # 移動できない・する必要がない場合はpassする\n",
    "            # 座標の範囲を超える場合\n",
    "            if nx < 0 or nx > W - 1 or ny < 0 or ny > H - 1:\n",
    "                continue\n",
    "            # 既に最短距離が判明している場合\n",
    "            if length[ny][nx] != -1:\n",
    "                continue\n",
    "            # 移動先に障害物がある場合\n",
    "            if town[ny][nx] == \"X\":\n",
    "                continue\n",
    "                \n",
    "            length[ny][nx] = length[y][x] + 1\n",
    "            if [nx, ny] == goal:\n",
    "                break\n",
    "            q.append([nx, ny])\n",
    "    \n",
    "    ans += length[goal[1]][goal[0]]\n",
    "\n",
    "print(ans)"
   ]
  }
 ],
 "metadata": {
  "kernelspec": {
   "display_name": "Python 3",
   "language": "python",
   "name": "python3"
  },
  "language_info": {
   "codemirror_mode": {
    "name": "ipython",
    "version": 3
   },
   "file_extension": ".py",
   "mimetype": "text/x-python",
   "name": "python",
   "nbconvert_exporter": "python",
   "pygments_lexer": "ipython3",
   "version": "3.6.5"
  }
 },
 "nbformat": 4,
 "nbformat_minor": 4
}

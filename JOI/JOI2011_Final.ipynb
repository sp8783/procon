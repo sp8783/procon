{
 "cells": [
  {
   "cell_type": "markdown",
   "metadata": {},
   "source": [
    "※コンテストURL：https://atcoder.jp/contests/joi2011ho"
   ]
  },
  {
   "cell_type": "code",
   "execution_count": 1,
   "metadata": {
    "jupyter": {
     "source_hidden": true
    }
   },
   "outputs": [
    {
     "data": {
      "application/vnd.jupyter.widget-view+json": {
       "model_id": "68a83f9b344548e9a7abfd2103caf6ef",
       "version_major": 2,
       "version_minor": 0
      },
      "text/plain": [
       "Textarea(value='')"
      ]
     },
     "metadata": {},
     "output_type": "display_data"
    }
   ],
   "source": [
    "from ipywidgets import Textarea\n",
    "import io\n",
    "\n",
    "if 'open' in globals():\n",
    "    del open\n",
    "if 'input' in globals():\n",
    "    del input\n",
    "\n",
    "original_open = open\n",
    "\n",
    "class custom_open():\n",
    "    def __init__(self):\n",
    "        self.text = ''\n",
    "\n",
    "    def __call__(self, file, *args, **kwargs):\n",
    "        if file == 0:\n",
    "            return io.StringIO(self.text)\n",
    "        return original_open(file, *args, **kwargs)\n",
    "\n",
    "    def updater(self, change):\n",
    "        self.text = change[\"new\"]\n",
    "\n",
    "class custom_input():\n",
    "    def __init__(self):\n",
    "        self.__sio = io.StringIO('')\n",
    "        self.shell = get_ipython()\n",
    "        if self.shell.events.callbacks['pre_run_cell'] != []:\n",
    "            self.shell.events.callbacks['pre_run_cell'] = []\n",
    "        self.shell.events.register('pre_run_cell', self.pre_run_cell)\n",
    "\n",
    "    def __call__(self):\n",
    "        return self.__sio.readline().strip()\n",
    "\n",
    "    def pre_run_cell(self, info):\n",
    "        text = self.shell.user_ns.get('text_area', None).value\n",
    "        self.__sio = io.StringIO(text)\n",
    "\n",
    "open = custom_open()\n",
    "input = custom_input()\n",
    "\n",
    "text_area = Textarea()\n",
    "text_area.observe(open.updater, names='value')\n",
    "display(text_area)"
   ]
  },
  {
   "cell_type": "markdown",
   "metadata": {},
   "source": [
    "# A問題"
   ]
  },
  {
   "cell_type": "code",
   "execution_count": 9,
   "metadata": {},
   "outputs": [
    {
     "name": "stdout",
     "output_type": "stream",
     "text": [
      "1 3 2\n",
      "3 5 2\n",
      "0 1 0\n",
      "10 11 7\n"
     ]
    }
   ],
   "source": [
    "from itertools import accumulate\n",
    "import numpy as np\n",
    "\n",
    "M, N = map(int, input().split())\n",
    "K = int(input())\n",
    "field = [list(input()) for _ in range(M)]\n",
    "\n",
    "S = [[np.zeros(3, dtype=int) for _ in range(N+1)] for _ in range(M+1)]\n",
    "dic = {\"J\":0, \"O\":1, \"I\":2}\n",
    "\n",
    "for i in range(M):\n",
    "    for j in range(N):\n",
    "        t = dic[field[i][j]]\n",
    "        S[i+1][j+1] = S[i][j+1] + S[i+1][j] - S[i][j]\n",
    "        S[i+1][j+1][t] += 1\n",
    "                \n",
    "for _ in range(K):\n",
    "    a,b,c,d = map(int, input().split())\n",
    "    ans = S[c][d] - S[c][b-1] - S[a-1][d] + S[a-1][b-1]\n",
    "    print(*ans)"
   ]
  },
  {
   "cell_type": "markdown",
   "metadata": {},
   "source": [
    "上のコードだとpythonだと間に合わない（C++だと同様の実装でいける）らしい？　供養。  \n",
    "以下、pythonでも通るコード。"
   ]
  },
  {
   "cell_type": "code",
   "execution_count": 27,
   "metadata": {},
   "outputs": [
    {
     "name": "stdout",
     "output_type": "stream",
     "text": [
      "\n"
     ]
    }
   ],
   "source": [
    "import sys\n",
    "import numpy as np\n",
    "read = sys.stdin.buffer.read\n",
    "readline = sys.stdin.buffer.readline\n",
    "readlines = sys.stdin.buffer.readlines\n",
    "\n",
    "H, W = map(int, readline().split())\n",
    "K = int(readline())\n",
    "grid = np.zeros((H+1, W+1), 'S1')\n",
    "for i in range(1, H+1):\n",
    "    grid[i, 1:] = np.frombuffer(readline().rstrip(), 'S1')\n",
    "Q = np.array(read().split(), np.int32)\n",
    "\n",
    "J = (grid == b'J').cumsum(axis=0).cumsum(axis=1)\n",
    "O = (grid == b'O').cumsum(axis=0).cumsum(axis=1)\n",
    "\n",
    "del grid\n",
    "\n",
    "A = Q[::4] - 1\n",
    "B = Q[1::4] - 1\n",
    "C = Q[2::4]\n",
    "D = Q[3::4]\n",
    "\n",
    "J = J[C, D] + J[A, B] - J[C, B] - J[A, D]\n",
    "O = O[C, D] + O[A, B] - O[C, B] - O[A, D]\n",
    "I = (C-A) * (D-B) - J - O\n",
    "\n",
    "del Q, A, B, C, D\n",
    "\n",
    "print('\\n'.join('{} {} {}'.format(j, o, i) for j, o, i in zip(J, O, I)))\n"
   ]
  }
 ],
 "metadata": {
  "kernelspec": {
   "display_name": "Python 3",
   "language": "python",
   "name": "python3"
  },
  "language_info": {
   "codemirror_mode": {
    "name": "ipython",
    "version": 3
   },
   "file_extension": ".py",
   "mimetype": "text/x-python",
   "name": "python",
   "nbconvert_exporter": "python",
   "pygments_lexer": "ipython3",
   "version": "3.6.5"
  }
 },
 "nbformat": 4,
 "nbformat_minor": 4
}

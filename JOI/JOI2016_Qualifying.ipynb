{
 "cells": [
  {
   "cell_type": "markdown",
   "metadata": {},
   "source": [
    "※コンテストURL：https://atcoder.jp/contests/joi2016yo"
   ]
  },
  {
   "cell_type": "markdown",
   "metadata": {},
   "source": [
    "# D問題"
   ]
  },
  {
   "cell_type": "code",
   "execution_count": 18,
   "metadata": {},
   "outputs": [
    {
     "name": "stdout",
     "output_type": "stream",
     "text": [
      "31589\n"
     ]
    }
   ],
   "source": [
    "import itertools\n",
    "\n",
    "N, M = map(int, input().split())\n",
    "D = [int(input()) for _ in range(N)]\n",
    "C = [int(input()) for _ in range(M)]\n",
    "\n",
    "inf = float(\"inf\")\n",
    "# dp[i][j]:i日目に都市jにいる場合の最小の疲労度\n",
    "dp = [[inf]*(N+1) for _ in range(M+1)]\n",
    "dp[0][0] = 0\n",
    "\n",
    "for i in range(1,M+1):\n",
    "    for j in range(N+1):\n",
    "        dp[i][j] = min(dp[i-1][j], dp[i-1][j-1] + D[j-1]*C[i-1])\n",
    "\n",
    "ans = dp[M][N]\n",
    "print(ans)"
   ]
  },
  {
   "cell_type": "markdown",
   "metadata": {},
   "source": [
    "# E問題"
   ]
  },
  {
   "cell_type": "code",
   "execution_count": 9,
   "metadata": {},
   "outputs": [
    {
     "name": "stdout",
     "output_type": "stream",
     "text": [
      "11000\n"
     ]
    }
   ],
   "source": [
    "from collections import deque\n",
    "import heapq\n",
    "\n",
    "N, M, K, S = map(int, input().split())\n",
    "P, Q = map(int, input().split())\n",
    "Z = set()\n",
    "for _ in range(K):\n",
    "    Z.add(int(input())-1)\n",
    "adj = [[] for _ in range(N)]\n",
    "for _ in range(M):\n",
    "    a, b = map(int, input().split())\n",
    "    adj[a-1].append(b-1)\n",
    "    adj[b-1].append(a-1)\n",
    "\n",
    "# 危険な街を見つける\n",
    "inf = float(\"inf\")\n",
    "check = [inf]*N\n",
    "q = deque()\n",
    "for z in Z:\n",
    "    q.append(z)\n",
    "    check[z] = 0\n",
    "    \n",
    "while q:\n",
    "    v = q.popleft()\n",
    "    for u in adj[v]:\n",
    "        if check[u] != inf:\n",
    "            continue\n",
    "        q.append(u)\n",
    "        check[u] = check[v] + 1\n",
    "\n",
    "D = set()\n",
    "for i in range(N):\n",
    "    if check[i] <= S:\n",
    "        D.add(i)\n",
    "    \n",
    "# 最短距離を探索\n",
    "dp = [inf]*N\n",
    "check2 = [-1]*N\n",
    "dp[0] = 0\n",
    "h = [(0,0)]\n",
    "ans = 0\n",
    "while h:\n",
    "    cost, s = heapq.heappop(h)\n",
    "    if check2[s] == 1:\n",
    "        continue\n",
    "    if s in Z:\n",
    "        continue\n",
    "    check2[s] = 1\n",
    "    \n",
    "    for u in adj[s]:\n",
    "        if u in D:\n",
    "            cost = Q\n",
    "        else:\n",
    "            cost = P\n",
    "        \n",
    "        if dp[u] > dp[s] + cost:\n",
    "            dp[u] = dp[s] + cost\n",
    "            heapq.heappush(h, (dp[u], u))\n",
    "        \n",
    "        if u == N-1:\n",
    "            ans = dp[s]\n",
    "            break\n",
    "    \n",
    "    if ans != 0:\n",
    "        break\n",
    "        \n",
    "print(ans)"
   ]
  }
 ],
 "metadata": {
  "kernelspec": {
   "display_name": "Python 3",
   "language": "python",
   "name": "python3"
  },
  "language_info": {
   "codemirror_mode": {
    "name": "ipython",
    "version": 3
   },
   "file_extension": ".py",
   "mimetype": "text/x-python",
   "name": "python",
   "nbconvert_exporter": "python",
   "pygments_lexer": "ipython3",
   "version": "3.6.5"
  }
 },
 "nbformat": 4,
 "nbformat_minor": 4
}

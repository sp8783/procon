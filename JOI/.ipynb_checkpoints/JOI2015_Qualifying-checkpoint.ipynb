{
 "cells": [
  {
   "cell_type": "markdown",
   "metadata": {},
   "source": [
    "※コンテストURL：https://atcoder.jp/contests/joi2015yo"
   ]
  },
  {
   "cell_type": "markdown",
   "metadata": {},
   "source": [
    "# D問題"
   ]
  },
  {
   "cell_type": "code",
   "execution_count": 18,
   "metadata": {},
   "outputs": [
    {
     "name": "stdout",
     "output_type": "stream",
     "text": [
      "31589\n"
     ]
    }
   ],
   "source": [
    "import itertools\n",
    "\n",
    "N, M = map(int, input().split())\n",
    "D = [int(input()) for _ in range(N)]\n",
    "C = [int(input()) for _ in range(M)]\n",
    "\n",
    "inf = float(\"inf\")\n",
    "# dp[i][j]:i日目に都市jにいる場合の最小の疲労度\n",
    "dp = [[inf]*(N+1) for _ in range(M+1)]\n",
    "dp[0][0] = 0\n",
    "\n",
    "for i in range(1,M+1):\n",
    "    for j in range(N+1):\n",
    "        dp[i][j] = min(dp[i-1][j], dp[i-1][j-1] + D[j-1]*C[i-1])\n",
    "\n",
    "ans = dp[M][N]\n",
    "print(ans)"
   ]
  }
 ],
 "metadata": {
  "kernelspec": {
   "display_name": "Python 3",
   "language": "python",
   "name": "python3"
  },
  "language_info": {
   "codemirror_mode": {
    "name": "ipython",
    "version": 3
   },
   "file_extension": ".py",
   "mimetype": "text/x-python",
   "name": "python",
   "nbconvert_exporter": "python",
   "pygments_lexer": "ipython3",
   "version": "3.6.5"
  }
 },
 "nbformat": 4,
 "nbformat_minor": 4
}

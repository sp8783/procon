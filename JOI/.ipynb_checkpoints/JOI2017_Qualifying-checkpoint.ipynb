{
 "cells": [
  {
   "cell_type": "markdown",
   "metadata": {},
   "source": [
    "※コンテストURL：https://atcoder.jp/contests/joi2017yo"
   ]
  },
  {
   "cell_type": "markdown",
   "metadata": {},
   "source": [
    "# D問題"
   ]
  },
  {
   "cell_type": "code",
   "execution_count": 10,
   "metadata": {},
   "outputs": [
    {
     "name": "stdout",
     "output_type": "stream",
     "text": [
      "2\n"
     ]
    }
   ],
   "source": [
    "N, M = map(int, input().split())\n",
    "csum = [[0]*(N+1) for _ in range(M)]\n",
    "for i in range(N):\n",
    "    k = int(input()) - 1\n",
    "    csum[k][i+1] = 1\n",
    "for k in range(M):\n",
    "    for i in range(1, N+1):\n",
    "        csum[k][i] += csum[k][i-1]\n",
    "num  = [csum[k][-1] for k in range(M)]\n",
    "\n",
    "inf = float(\"inf\")\n",
    "dp = [inf]*(2**M)\n",
    "dp[0] = 0\n",
    "\n",
    "for S in range(2**M):\n",
    "    tot = 0\n",
    "    for x in range(M):\n",
    "        if S & 1 << x:\n",
    "            tot += num[x]\n",
    "    # 既知の集合Sから種類xのぬいぐるみを足した集合S∨xの場合の数を更新\n",
    "    for x in range(M):\n",
    "        if not S & 1 << x:\n",
    "            dp[S ^ 1 << x] = min(dp[S ^ 1 << x], dp[S] + num[x] - csum[x][tot + num[x]] + csum[x][tot]) \n",
    "\n",
    "print(dp[-1])"
   ]
  },
  {
   "cell_type": "markdown",
   "metadata": {},
   "source": [
    "※line23のメモ  \n",
    " - `num[x]`：種類xのぬいぐるみの数\n",
    " - `tot`：部分集合Sに含まれる種類全てのぬいぐるみの個数\n",
    " - `csum[x][tot]`：棚の左端から`tot`番目までに置いてある種類xのぬいぐるみの個数\n",
    " - `csum[x][tot + num[x]]`：左から数えて棚の`tot`番目から`tot+num[x]`番目までに置いてある種類xのぬいぐるみの個数  \n",
    " - `csum[x][tot + num[x]] - csum[x][tot]`：区間（`tot`, `tot+num[x]`]に**置いてある**種類xのぬいぐるみの個数\n",
    " - `num[x] - (csum[x][tot + num[x]] - csum[x][tot])`：区間（`tot`, `tot+num[x]`]に**置いていない**種類xのぬいぐるみの個数"
   ]
  }
 ],
 "metadata": {
  "kernelspec": {
   "display_name": "Python 3",
   "language": "python",
   "name": "python3"
  },
  "language_info": {
   "codemirror_mode": {
    "name": "ipython",
    "version": 3
   },
   "file_extension": ".py",
   "mimetype": "text/x-python",
   "name": "python",
   "nbconvert_exporter": "python",
   "pygments_lexer": "ipython3",
   "version": "3.6.5"
  }
 },
 "nbformat": 4,
 "nbformat_minor": 4
}

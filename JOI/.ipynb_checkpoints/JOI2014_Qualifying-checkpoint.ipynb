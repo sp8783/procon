{
 "cells": [
  {
   "cell_type": "markdown",
   "metadata": {},
   "source": [
    "※コンテストURL：https://atcoder.jp/contests/joi2014yo"
   ]
  },
  {
   "cell_type": "markdown",
   "metadata": {},
   "source": [
    "# D問題"
   ]
  },
  {
   "cell_type": "code",
   "execution_count": 19,
   "metadata": {},
   "outputs": [
    {
     "name": "stdout",
     "output_type": "stream",
     "text": [
      "4976\n"
     ]
    }
   ],
   "source": [
    "N = int(input())\n",
    "lst = list(input())\n",
    "\n",
    "dic = {\"J\":0, \"O\":1, \"I\":2}\n",
    "MOD = 10**4 + 7\n",
    "dp = [[0]*(2**3) for _ in range(N)]\n",
    "\n",
    "for i in range(N):\n",
    "    dic_i = dic[lst[i]]\n",
    "    for S in range(2**3):\n",
    "        if i == 0:\n",
    "            if S >> dic_i & 1 and S >> 0 & 1:\n",
    "                dp[i][S] += 1\n",
    "        else:\n",
    "            if S >> dic_i & 1:\n",
    "                for T in range(2**3):\n",
    "                    if (S >> 0 & 1 and T >> 0 & 1) or (S >> 1 & 1 and T >> 1 & 1) or (S >> 2 & 1 and T >> 2 & 1):\n",
    "                        dp[i][S] += dp[i-1][T]\n",
    "                        dp[i][S] %= MOD\n",
    "\n",
    "ans = sum(dp[N-1])%MOD\n",
    "print(ans)"
   ]
  }
 ],
 "metadata": {
  "kernelspec": {
   "display_name": "Python 3",
   "language": "python",
   "name": "python3"
  },
  "language_info": {
   "codemirror_mode": {
    "name": "ipython",
    "version": 3
   },
   "file_extension": ".py",
   "mimetype": "text/x-python",
   "name": "python",
   "nbconvert_exporter": "python",
   "pygments_lexer": "ipython3",
   "version": "3.6.5"
  }
 },
 "nbformat": 4,
 "nbformat_minor": 4
}

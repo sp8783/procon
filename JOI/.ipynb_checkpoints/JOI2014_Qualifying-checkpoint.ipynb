{
 "cells": [
  {
   "cell_type": "markdown",
   "metadata": {},
   "source": [
    "※コンテストURL：https://atcoder.jp/contests/joi2014yo"
   ]
  },
  {
   "cell_type": "markdown",
   "metadata": {},
   "source": [
    "# D問題"
   ]
  },
  {
   "cell_type": "code",
   "execution_count": 19,
   "metadata": {},
   "outputs": [
    {
     "name": "stdout",
     "output_type": "stream",
     "text": [
      "4976\n"
     ]
    }
   ],
   "source": [
    "N = int(input())\n",
    "lst = list(input())\n",
    "\n",
    "dic = {\"J\":0, \"O\":1, \"I\":2}\n",
    "MOD = 10**4 + 7\n",
    "dp = [[0]*(2**3) for _ in range(N)]\n",
    "\n",
    "for i in range(N):\n",
    "    dic_i = dic[lst[i]]\n",
    "    for S in range(2**3):\n",
    "        if i == 0:\n",
    "            if S >> dic_i & 1 and S >> 0 & 1:\n",
    "                dp[i][S] += 1\n",
    "        else:\n",
    "            if S >> dic_i & 1:\n",
    "                for T in range(2**3):\n",
    "                    if (S >> 0 & 1 and T >> 0 & 1) or (S >> 1 & 1 and T >> 1 & 1) or (S >> 2 & 1 and T >> 2 & 1):\n",
    "                        dp[i][S] += dp[i-1][T]\n",
    "                        dp[i][S] %= MOD\n",
    "\n",
    "ans = sum(dp[N-1])%MOD\n",
    "print(ans)"
   ]
  },
  {
   "cell_type": "markdown",
   "metadata": {},
   "source": [
    "# E問題"
   ]
  },
  {
   "cell_type": "code",
   "execution_count": 10,
   "metadata": {},
   "outputs": [
    {
     "ename": "ValueError",
     "evalue": "not enough values to unpack (expected 2, got 0)",
     "output_type": "error",
     "traceback": [
      "\u001b[1;31m---------------------------------------------------------------------------\u001b[0m",
      "\u001b[1;31mValueError\u001b[0m                                Traceback (most recent call last)",
      "\u001b[1;32m<ipython-input-10-6e3685ab8d26>\u001b[0m in \u001b[0;36m<module>\u001b[1;34m\u001b[0m\n\u001b[0;32m      6\u001b[0m \u001b[0minf\u001b[0m \u001b[1;33m=\u001b[0m \u001b[1;36m10\u001b[0m\u001b[1;33m**\u001b[0m\u001b[1;36m18\u001b[0m\u001b[1;33m\u001b[0m\u001b[0m\n\u001b[0;32m      7\u001b[0m \u001b[1;33m\u001b[0m\u001b[0m\n\u001b[1;32m----> 8\u001b[1;33m \u001b[0mn\u001b[0m\u001b[1;33m,\u001b[0m\u001b[0mk\u001b[0m \u001b[1;33m=\u001b[0m \u001b[0mmap\u001b[0m\u001b[1;33m(\u001b[0m\u001b[0mint\u001b[0m\u001b[1;33m,\u001b[0m\u001b[0minput\u001b[0m\u001b[1;33m(\u001b[0m\u001b[1;33m)\u001b[0m\u001b[1;33m.\u001b[0m\u001b[0msplit\u001b[0m\u001b[1;33m(\u001b[0m\u001b[1;33m)\u001b[0m\u001b[1;33m)\u001b[0m\u001b[1;33m\u001b[0m\u001b[0m\n\u001b[0m\u001b[0;32m      9\u001b[0m \u001b[0mcp\u001b[0m \u001b[1;33m=\u001b[0m \u001b[1;33m[\u001b[0m\u001b[0mlist\u001b[0m\u001b[1;33m(\u001b[0m\u001b[0mmap\u001b[0m\u001b[1;33m(\u001b[0m\u001b[0mint\u001b[0m\u001b[1;33m,\u001b[0m\u001b[0minput\u001b[0m\u001b[1;33m(\u001b[0m\u001b[1;33m)\u001b[0m\u001b[1;33m.\u001b[0m\u001b[0msplit\u001b[0m\u001b[1;33m(\u001b[0m\u001b[1;33m)\u001b[0m\u001b[1;33m)\u001b[0m\u001b[1;33m)\u001b[0m \u001b[1;32mfor\u001b[0m \u001b[0m_\u001b[0m \u001b[1;32min\u001b[0m \u001b[0mrange\u001b[0m\u001b[1;33m(\u001b[0m\u001b[0mn\u001b[0m\u001b[1;33m)\u001b[0m\u001b[1;33m]\u001b[0m\u001b[1;33m\u001b[0m\u001b[0m\n\u001b[0;32m     10\u001b[0m \u001b[1;33m\u001b[0m\u001b[0m\n",
      "\u001b[1;31mValueError\u001b[0m: not enough values to unpack (expected 2, got 0)"
     ]
    }
   ],
   "source": [
    "import sys\n",
    "from heapq import *\n",
    "from collections import deque    \n",
    "\n",
    "input = sys.stdin.readline\n",
    "inf = 10**18\n",
    " \n",
    "n,k = map(int,input().split())\n",
    "cp = [list(map(int,input().split())) for _ in range(n)]\n",
    " \n",
    "e = [list() for _ in range(n)]\n",
    "for i in range(k):\n",
    "    a,b = map(int,input().split())\n",
    "    e[b-1].append(a-1)\n",
    "    e[a-1].append(b-1)\n",
    "\n",
    "def bfs(s):\n",
    "    res = []\n",
    "    lim = cp[s][1]\n",
    "    dist = [inf]*n\n",
    "    queue = deque()\n",
    "    queue.append((s,0))\n",
    "    dist[s] = 0\n",
    " \n",
    "    while queue:\n",
    "        v,di = queue.popleft()\n",
    "        res.append(v)\n",
    "        for nv in e[v]:\n",
    "            if dist[nv] == inf and di+1<=lim:\n",
    "                dist[nv] = di+1\n",
    "                queue.append((nv,di+1))\n",
    "    return res\n",
    " \n",
    "di_e = []\n",
    "for i in range(n):\n",
    "    di_e.append(bfs(i))\n",
    "\n",
    "def dijkstra(s):\n",
    "    hq = [(0,s)]\n",
    "    heapify(hq)\n",
    "    cost = [inf]*n\n",
    "    cost[s] = 0\n",
    "    while hq:\n",
    "        c,v = heappop(hq)\n",
    "        if c >cost[v]:\n",
    "            continue\n",
    "        for u in di_e[v]:\n",
    "            tmp = cost[v] + cp[v][0]\n",
    "            if tmp<cost[u]:\n",
    "                cost[u] = tmp\n",
    "                heappush(hq,(tmp,u))\n",
    "    return cost\n",
    " \n",
    "print(dijkstra(0)[n-1])"
   ]
  }
 ],
 "metadata": {
  "kernelspec": {
   "display_name": "Python 3",
   "language": "python",
   "name": "python3"
  },
  "language_info": {
   "codemirror_mode": {
    "name": "ipython",
    "version": 3
   },
   "file_extension": ".py",
   "mimetype": "text/x-python",
   "name": "python",
   "nbconvert_exporter": "python",
   "pygments_lexer": "ipython3",
   "version": "3.6.5"
  }
 },
 "nbformat": 4,
 "nbformat_minor": 4
}

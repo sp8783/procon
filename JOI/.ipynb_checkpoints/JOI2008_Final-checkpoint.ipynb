{
 "cells": [
  {
   "cell_type": "markdown",
   "metadata": {},
   "source": [
    "※コンテストURL：https://atcoder.jp/contests/joi2008ho"
   ]
  },
  {
   "cell_type": "markdown",
   "metadata": {},
   "source": [
    "# C問題"
   ]
  },
  {
   "cell_type": "code",
   "execution_count": 6,
   "metadata": {},
   "outputs": [
    {
     "name": "stdin",
     "output_type": "stream",
     "text": [
      " 4 50\n",
      " 3\n",
      " 14\n",
      " 15\n",
      " 9\n"
     ]
    },
    {
     "name": "stdout",
     "output_type": "stream",
     "text": [
      "48\n"
     ]
    }
   ],
   "source": [
    "from bisect import bisect_left\n",
    "\n",
    "N, M = map(int,input().split())\n",
    "P = [0]*N\n",
    "for i in range(N):\n",
    "    P[i] = int(input())\n",
    "\n",
    "P.append(0)\n",
    "Q = []\n",
    "for i in range(N+1):\n",
    "    for j in range(N+1):\n",
    "        Q.append(P[i] + P[j])\n",
    "Q = sorted(Q)\n",
    "ans = 0\n",
    "\n",
    "for q in Q:\n",
    "    M_q = M - q\n",
    "    if M_q < 0:\n",
    "        break\n",
    "    else:\n",
    "        ans = max(ans, Q[bisect_left(Q, M_q) - 1] + q)\n",
    "\n",
    "print(ans)"
   ]
  },
  {
   "cell_type": "code",
   "execution_count": 8,
   "metadata": {},
   "outputs": [
    {
     "name": "stdin",
     "output_type": "stream",
     "text": [
      " 4 50\n",
      " 3\n",
      " 14\n",
      " 15\n",
      " 9\n"
     ]
    },
    {
     "name": "stdout",
     "output_type": "stream",
     "text": [
      "48\n"
     ]
    }
   ],
   "source": [
    "# ボツ（なぜTLEになるのかわからず・・・）\n",
    "\n",
    "N, M = map(int,input().split())\n",
    "P = [0]*N\n",
    "for i in range(N):\n",
    "    P[i] = int(input())\n",
    "\n",
    "P.append(0)\n",
    "Q = []\n",
    "for i in range(N+1):\n",
    "    for j in range(N+1):\n",
    "        Q.append(P[i] + P[j])\n",
    "Q = sorted(Q)\n",
    "ans = 0\n",
    "\n",
    "for q in Q:\n",
    "    M_q = M - q\n",
    "    if M_q < 0:\n",
    "        break\n",
    "    else:\n",
    "        low = 0\n",
    "        high = len(Q) - 1\n",
    "        while low <= high:\n",
    "            mid = (high + low)//2\n",
    "            guess = Q[mid]\n",
    "            if guess == M_q:\n",
    "                ans = M\n",
    "                break\n",
    "            elif guess > M_q:\n",
    "                high = mid - 1\n",
    "            else:\n",
    "                low = mid + 1\n",
    "        ans = max(ans, q + Q[high])\n",
    "\n",
    "print(ans)"
   ]
  }
 ],
 "metadata": {
  "kernelspec": {
   "display_name": "Python 3",
   "language": "python",
   "name": "python3"
  },
  "language_info": {
   "codemirror_mode": {
    "name": "ipython",
    "version": 3
   },
   "file_extension": ".py",
   "mimetype": "text/x-python",
   "name": "python",
   "nbconvert_exporter": "python",
   "pygments_lexer": "ipython3",
   "version": "3.6.5"
  },
  "toc-autonumbering": false,
  "toc-showcode": false,
  "toc-showmarkdowntxt": true
 },
 "nbformat": 4,
 "nbformat_minor": 4
}

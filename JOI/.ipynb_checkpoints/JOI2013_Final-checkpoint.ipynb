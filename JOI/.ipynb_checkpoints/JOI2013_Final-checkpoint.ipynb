{
 "cells": [
  {
   "cell_type": "markdown",
   "metadata": {},
   "source": [
    "※コンテストURL：https://atcoder.jp/contests/joi2013ho"
   ]
  },
  {
   "cell_type": "markdown",
   "metadata": {},
   "source": [
    "# A問題"
   ]
  },
  {
   "cell_type": "code",
   "execution_count": 12,
   "metadata": {},
   "outputs": [
    {
     "name": "stdout",
     "output_type": "stream",
     "text": [
      "3\n"
     ]
    }
   ],
   "source": [
    "N = int(input())\n",
    "light = list(map(int, input().split()))\n",
    "\n",
    "ans = 0\n",
    "lst = []\n",
    "lst_tmp = []\n",
    "\n",
    "for i in range(N):\n",
    "    l = light[i]\n",
    "    if i == 0:\n",
    "        lst_tmp.append(l)\n",
    "        continue\n",
    "\n",
    "    if lst_tmp[-1] != l:\n",
    "        lst_tmp.append(l)        \n",
    "    else:\n",
    "        lst.append(len(lst_tmp))\n",
    "        lst_tmp = [l]\n",
    "        if len(lst) >= 3:\n",
    "            ans = max(ans, sum(lst[-3:]))\n",
    "    \n",
    "    if i == N-1:\n",
    "        lst.append(len(lst_tmp))\n",
    "        if len(lst) >= 3:\n",
    "            ans = max(ans, sum(lst[-3:]))\n",
    "        else:\n",
    "            ans = N\n",
    "\n",
    "print(ans)"
   ]
  }
 ],
 "metadata": {
  "kernelspec": {
   "display_name": "Python 3",
   "language": "python",
   "name": "python3"
  },
  "language_info": {
   "codemirror_mode": {
    "name": "ipython",
    "version": 3
   },
   "file_extension": ".py",
   "mimetype": "text/x-python",
   "name": "python",
   "nbconvert_exporter": "python",
   "pygments_lexer": "ipython3",
   "version": "3.6.5"
  }
 },
 "nbformat": 4,
 "nbformat_minor": 4
}

{
 "cells": [
  {
   "cell_type": "markdown",
   "metadata": {},
   "source": [
    "※コンテストURL：https://atcoder.jp/contests/joi2009yo"
   ]
  },
  {
   "cell_type": "markdown",
   "metadata": {},
   "source": [
    "# D問題"
   ]
  },
  {
   "cell_type": "code",
   "execution_count": 58,
   "metadata": {},
   "outputs": [
    {
     "name": "stdin",
     "output_type": "stream",
     "text": [
      " 5\n",
      " 3\n",
      " 1 1 1 0 1\n",
      " 1 1 0 0 0\n",
      " 1 0 0 0 1\n"
     ]
    },
    {
     "name": "stdout",
     "output_type": "stream",
     "text": [
      "5\n"
     ]
    }
   ],
   "source": [
    "m = int(input())\n",
    "n = int(input())\n",
    "ice = [list(map(int, input().split())) for _ in range(n)]\n",
    "\n",
    "dxy = [(0,1),(1,0),(0,-1),(-1,0)]\n",
    "ans = 0\n",
    "\n",
    "def dfs(x, y, now_length):\n",
    "    global length\n",
    "    ice[x][y] = 0\n",
    "    \n",
    "    if now_length > length:\n",
    "        length += 1\n",
    "    \n",
    "    for dx, dy in dxy:\n",
    "        nx = x+dx\n",
    "        ny = y+dy    \n",
    "        if nx < 0 or nx > n-1 or ny < 0 or ny > m-1:\n",
    "            continue\n",
    "        else:\n",
    "            if ice[nx][ny] == 1:\n",
    "                dfs(nx, ny, now_length + 1)\n",
    "    ice[x][y] = 1\n",
    "\n",
    "for i in range(n):\n",
    "    for j in range(m):\n",
    "        if ice[i][j] == 0:\n",
    "            continue\n",
    "        \n",
    "        length = 0\n",
    "        dfs(i,j,1)\n",
    "        \n",
    "        ans = max(ans, length)\n",
    "print(ans)"
   ]
  }
 ],
 "metadata": {
  "kernelspec": {
   "display_name": "Python 3",
   "language": "python",
   "name": "python3"
  },
  "language_info": {
   "codemirror_mode": {
    "name": "ipython",
    "version": 3
   },
   "file_extension": ".py",
   "mimetype": "text/x-python",
   "name": "python",
   "nbconvert_exporter": "python",
   "pygments_lexer": "ipython3",
   "version": "3.6.5"
  }
 },
 "nbformat": 4,
 "nbformat_minor": 4
}

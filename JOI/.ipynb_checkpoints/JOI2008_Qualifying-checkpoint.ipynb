{
 "cells": [
  {
   "cell_type": "markdown",
   "metadata": {},
   "source": [
    "※コンテストURL：https://atcoder.jp/contests/joi2008yo"
   ]
  },
  {
   "cell_type": "markdown",
   "metadata": {},
   "source": [
    "# D問題"
   ]
  },
  {
   "cell_type": "code",
   "execution_count": 5,
   "metadata": {},
   "outputs": [
    {
     "name": "stdin",
     "output_type": "stream",
     "text": [
      " 5\n",
      " 904207 809784\n",
      " 845370 244806\n",
      " 499091 59863\n",
      " 638406 182509\n",
      " 435076 362268\n",
      " 10\n",
      " 757559 866424\n",
      " 114810 239537\n",
      " 519926 989458\n",
      " 461089 424480\n",
      " 674361 448440\n",
      " 81851 150384\n",
      " 459107 795405\n",
      " 299682 6700\n",
      " 254125 362183\n",
      " 50795 541942\n"
     ]
    },
    {
     "name": "stdout",
     "output_type": "stream",
     "text": [
      "-384281 179674\n"
     ]
    }
   ],
   "source": [
    "N = int(input())\n",
    "stars = [tuple(map(int,input().split())) for _ in range(N)]\n",
    "M = int(input()) \n",
    "lst = [tuple(map(int,input().split())) for _ in range(M)]\n",
    "\n",
    "stars = sorted(stars)\n",
    "stars_zerobase = [None]*N\n",
    "x0, y0 = stars[0]\n",
    "for i in range(N):\n",
    "    x, y = stars[i]\n",
    "    stars_zerobase[i] = (x - x0, y - y0)\n",
    "stars_zerobase = set(stars_zerobase)\n",
    "    \n",
    "lst = sorted(lst)\n",
    "\n",
    "ans = 0\n",
    "flag = False\n",
    "for i in range(M):\n",
    "    xi, yi = lst[i]\n",
    "    cnt = 1\n",
    "    for j in range(M):\n",
    "        if i == j:\n",
    "            continue\n",
    "        else:\n",
    "            xj, yj = lst[j]\n",
    "            if (xj - xi, yj - yi) in stars_zerobase:\n",
    "                cnt += 1\n",
    "                if cnt == N:\n",
    "                    ans = [xi - x0, yi - y0]\n",
    "                    flag = True\n",
    "        if flag:\n",
    "            break\n",
    "    if flag:\n",
    "        break\n",
    "                    \n",
    "print(*ans)"
   ]
  },
  {
   "cell_type": "markdown",
   "metadata": {},
   "source": [
    "# E問題"
   ]
  },
  {
   "cell_type": "code",
   "execution_count": 37,
   "metadata": {},
   "outputs": [
    {
     "name": "stdin",
     "output_type": "stream",
     "text": [
      " 3 6\n",
      " 1 0 0 0 1 0\n",
      " 1 1 1 0 1 0\n",
      " 1 0 1 1 0 1\n"
     ]
    },
    {
     "name": "stdout",
     "output_type": "stream",
     "text": [
      "15\n"
     ]
    }
   ],
   "source": [
    "import numpy as np\n",
    "\n",
    "R, C = map(int, input().split())\n",
    "senbei = [np.array(list((map(int, input().split())))) for _ in range(R)]\n",
    "\n",
    "ans = 0\n",
    "for i in range(2**R):\n",
    "    S = [[None] for _ in range(R)]\n",
    "    for j in range(R):\n",
    "        if (i >> j) & 1:\n",
    "            S[j] = np.logical_not(senbei[j]) & [1]*C\n",
    "        else:\n",
    "            S[j] = senbei[j]\n",
    "    S_sum = np.sum(S, axis=0)\n",
    "    total = sum(list(map(lambda s: max(s, R-s), S_sum)))\n",
    "    ans = max(ans, total)\n",
    "    \n",
    "print(ans)"
   ]
  }
 ],
 "metadata": {
  "kernelspec": {
   "display_name": "Python 3",
   "language": "python",
   "name": "python3"
  },
  "language_info": {
   "codemirror_mode": {
    "name": "ipython",
    "version": 3
   },
   "file_extension": ".py",
   "mimetype": "text/x-python",
   "name": "python",
   "nbconvert_exporter": "python",
   "pygments_lexer": "ipython3",
   "version": "3.6.5"
  }
 },
 "nbformat": 4,
 "nbformat_minor": 4
}

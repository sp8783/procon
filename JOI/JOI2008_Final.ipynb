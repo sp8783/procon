{
 "cells": [
  {
   "cell_type": "markdown",
   "metadata": {},
   "source": [
    "※コンテストURL：https://atcoder.jp/contests/joi2008ho"
   ]
  },
  {
   "cell_type": "markdown",
   "metadata": {},
   "source": [
    "# A問題"
   ]
  },
  {
   "cell_type": "code",
   "execution_count": 13,
   "metadata": {},
   "outputs": [
    {
     "name": "stdout",
     "output_type": "stream",
     "text": [
      "2\n"
     ]
    }
   ],
   "source": [
    "N = int(input())\n",
    "\n",
    "ans = 0\n",
    "last_col = 0\n",
    "lst = []\n",
    "for i in range(N):\n",
    "    col = int(input())\n",
    "    if i == 0:\n",
    "        lst.append([col,1])\n",
    "        if col == 0:\n",
    "            ans += 1\n",
    "        \n",
    "    elif (i+1)%2 == 1:\n",
    "        if lst[-1][0] == col:\n",
    "            lst[-1][1] += 1\n",
    "        else:\n",
    "            lst.append([col,1])\n",
    "        if col == 0:\n",
    "            ans += 1\n",
    "                \n",
    "    else:\n",
    "        if lst[-1][0] == col:\n",
    "            lst[-1][1] += 1\n",
    "            if col == 0:\n",
    "                ans += 1\n",
    "        else:\n",
    "            l = lst.pop(-1)\n",
    "            if len(lst) >= 1:\n",
    "                lst[-1][1] += l[1] + 1\n",
    "            else:\n",
    "                lst = [[col, l[1] + 1]]\n",
    "            if col == 1:\n",
    "                ans -= l[1]\n",
    "            else:\n",
    "                ans += l[1] + 1\n",
    "\n",
    "                \n",
    "print(ans)"
   ]
  },
  {
   "cell_type": "markdown",
   "metadata": {},
   "source": [
    "# C問題"
   ]
  },
  {
   "cell_type": "code",
   "execution_count": 6,
   "metadata": {},
   "outputs": [
    {
     "name": "stdin",
     "output_type": "stream",
     "text": [
      " 4 50\n",
      " 3\n",
      " 14\n",
      " 15\n",
      " 9\n"
     ]
    },
    {
     "name": "stdout",
     "output_type": "stream",
     "text": [
      "48\n"
     ]
    }
   ],
   "source": [
    "from bisect import bisect_left\n",
    "\n",
    "N, M = map(int,input().split())\n",
    "P = [0]*N\n",
    "for i in range(N):\n",
    "    P[i] = int(input())\n",
    "\n",
    "P.append(0)\n",
    "Q = []\n",
    "for i in range(N+1):\n",
    "    for j in range(N+1):\n",
    "        Q.append(P[i] + P[j])\n",
    "Q = sorted(Q)\n",
    "ans = 0\n",
    "\n",
    "for q in Q:\n",
    "    M_q = M - q\n",
    "    if M_q < 0:\n",
    "        break\n",
    "    else:\n",
    "        ans = max(ans, Q[bisect_left(Q, M_q) - 1] + q)\n",
    "\n",
    "print(ans)"
   ]
  },
  {
   "cell_type": "code",
   "execution_count": 8,
   "metadata": {},
   "outputs": [
    {
     "name": "stdin",
     "output_type": "stream",
     "text": [
      " 4 50\n",
      " 3\n",
      " 14\n",
      " 15\n",
      " 9\n"
     ]
    },
    {
     "name": "stdout",
     "output_type": "stream",
     "text": [
      "48\n"
     ]
    }
   ],
   "source": [
    "# ボツ（なぜTLEになるのかわからず・・・）\n",
    "\n",
    "N, M = map(int,input().split())\n",
    "P = [0]*N\n",
    "for i in range(N):\n",
    "    P[i] = int(input())\n",
    "\n",
    "P.append(0)\n",
    "Q = []\n",
    "for i in range(N+1):\n",
    "    for j in range(N+1):\n",
    "        Q.append(P[i] + P[j])\n",
    "Q = sorted(Q)\n",
    "ans = 0\n",
    "\n",
    "for q in Q:\n",
    "    M_q = M - q\n",
    "    if M_q < 0:\n",
    "        break\n",
    "    else:\n",
    "        low = 0\n",
    "        high = len(Q) - 1\n",
    "        while low <= high:\n",
    "            mid = (high + low)//2\n",
    "            guess = Q[mid]\n",
    "            if guess == M_q:\n",
    "                ans = M\n",
    "                break\n",
    "            elif guess > M_q:\n",
    "                high = mid - 1\n",
    "            else:\n",
    "                low = mid + 1\n",
    "        ans = max(ans, q + Q[high])\n",
    "\n",
    "print(ans)"
   ]
  }
 ],
 "metadata": {
  "kernelspec": {
   "display_name": "Python 3",
   "language": "python",
   "name": "python3"
  },
  "language_info": {
   "codemirror_mode": {
    "name": "ipython",
    "version": 3
   },
   "file_extension": ".py",
   "mimetype": "text/x-python",
   "name": "python",
   "nbconvert_exporter": "python",
   "pygments_lexer": "ipython3",
   "version": "3.6.5"
  },
  "toc-autonumbering": false,
  "toc-showcode": false,
  "toc-showmarkdowntxt": true
 },
 "nbformat": 4,
 "nbformat_minor": 4
}

{
 "cells": [
  {
   "cell_type": "markdown",
   "metadata": {},
   "source": [
    "※コンテストURL：https://atcoder.jp/contests/dp"
   ]
  },
  {
   "cell_type": "code",
   "execution_count": null,
   "metadata": {},
   "outputs": [],
   "source": [
    "def chmin(a, b):\n",
    "    if a > b:\n",
    "        return b\n",
    "    else:\n",
    "        return a\n",
    "\n",
    "def chmax(a, b):\n",
    "    if a < b:\n",
    "        return b\n",
    "    else:\n",
    "        return a"
   ]
  },
  {
   "cell_type": "markdown",
   "metadata": {},
   "source": [
    "# A問題"
   ]
  },
  {
   "cell_type": "markdown",
   "metadata": {},
   "source": [
    "## 貰うDP"
   ]
  },
  {
   "cell_type": "markdown",
   "metadata": {},
   "source": [
    "i=1,2,...で、d[i-2],d[i-1]を使ってdp[i]を更新する"
   ]
  },
  {
   "cell_type": "code",
   "execution_count": 18,
   "metadata": {},
   "outputs": [
    {
     "name": "stdout",
     "output_type": "stream",
     "text": [
      "6\n",
      "30 10 60 10 60 50\n",
      "40\n"
     ]
    }
   ],
   "source": [
    "N = int(input())\n",
    "lst = list(map(int,input().split()))\n",
    "\n",
    "inf = float(\"inf\")\n",
    "dp = [inf]*100010\n",
    "\n",
    "dp[0] = 0\n",
    "\n",
    "for i in range(1,N):\n",
    "    if i == 1:\n",
    "        dp[i] = dp[i-1] + abs(lst[i]-lst[i-1])\n",
    "    else:\n",
    "        dp[i] = min(dp[i-1] + abs(lst[i]-lst[i-1]), dp[i-2] + abs(lst[i]-lst[i-2]))\n",
    "\n",
    "print(dp[N-1])"
   ]
  },
  {
   "cell_type": "markdown",
   "metadata": {},
   "source": [
    "## 配るDP"
   ]
  },
  {
   "cell_type": "markdown",
   "metadata": {},
   "source": [
    "i=1,2,...で、d[i]を使ってdp[i+1],d[i+2]を更新する"
   ]
  },
  {
   "cell_type": "code",
   "execution_count": 25,
   "metadata": {},
   "outputs": [
    {
     "name": "stdout",
     "output_type": "stream",
     "text": [
      "4\n",
      "10 30 40 20\n",
      "30\n"
     ]
    }
   ],
   "source": [
    "N = int(input())\n",
    "lst = list(map(int,input().split()))\n",
    "\n",
    "inf = float(\"inf\")\n",
    "dp = [inf]*100010\n",
    "\n",
    "dp[0] = 0\n",
    "\n",
    "for i in range(N-1):\n",
    "    if i == 0:\n",
    "        dp[i+1] = dp[i] + abs(lst[i+1]-lst[i])\n",
    "    else:\n",
    "        dp[i+1] = min(dp[i] + abs(lst[i+1]-lst[i]), dp[i+1])\n",
    "        if i+2 < N:\n",
    "            dp[i+2] = min(dp[i] + abs(lst[i+2]-lst[i]), dp[i+2]) \n",
    "\n",
    "print(dp[N-1])"
   ]
  },
  {
   "cell_type": "markdown",
   "metadata": {},
   "source": [
    "## メモ化再帰"
   ]
  },
  {
   "cell_type": "code",
   "execution_count": 1,
   "metadata": {},
   "outputs": [
    {
     "name": "stdout",
     "output_type": "stream",
     "text": [
      "4\n",
      "10 30 40 20\n",
      "30\n"
     ]
    }
   ],
   "source": [
    "# 再帰処理の回数上限を設定\n",
    "import sys\n",
    "sys.setrecursionlimit(10**5+10)\n",
    "\n",
    "N = int(input())\n",
    "lst = list(map(int,input().split()))\n",
    "\n",
    "inf = float(\"inf\")\n",
    "dp = [inf]*(10**5+10)\n",
    "\n",
    "def chmin(a, b):\n",
    "    if a > b:\n",
    "        return b\n",
    "    else:\n",
    "        return a\n",
    "\n",
    "# メモ化再帰関数を定義\n",
    "def rec(i):\n",
    "    # 既にメモ化されているのであればその値を返す\n",
    "    if dp[i] < inf:\n",
    "        return dp[i]\n",
    "    \n",
    "    # 再帰関数の終了条件　足場0のコストは0\n",
    "    if i == 0:\n",
    "        return 0\n",
    "    \n",
    "    # i-1,i-2を再帰\n",
    "    res = inf    \n",
    "    # i-1から来た場合\n",
    "    res = chmin(res,rec(i-1) + abs(lst[i] - lst[i-1]))\n",
    "    # i-2から来た場合\n",
    "    if i > 1:\n",
    "        res = chmin(res,rec(i-2) + abs(lst[i] - lst[i-2]))\n",
    "    # 結果をメモ\n",
    "    dp[i] = res\n",
    "    return res\n",
    "\n",
    "ans = rec(N-1)\n",
    "\n",
    "print(ans)"
   ]
  },
  {
   "cell_type": "markdown",
   "metadata": {},
   "source": [
    "# B問題"
   ]
  },
  {
   "cell_type": "code",
   "execution_count": 4,
   "metadata": {},
   "outputs": [
    {
     "name": "stdout",
     "output_type": "stream",
     "text": [
      "10 4\n",
      "40 10 20 70 80 10 20 70 80 60\n",
      "40\n"
     ]
    }
   ],
   "source": [
    "n,k = map(int,input().split())\n",
    "lst = list(map(int, input().split()))\n",
    "\n",
    "inf = float(\"inf\")\n",
    "dp = [inf]*n\n",
    "\n",
    "dp[0] = 0\n",
    "\n",
    "for i in range(1,n):\n",
    "    for j in range(1,k+1):\n",
    "        if i - j < 0:\n",
    "            continue\n",
    "        else:\n",
    "            dp[i] = min(dp[i], dp[i-j] + abs(lst[i] - lst[i-j]))\n",
    "ans = dp[n-1]\n",
    "print(ans)"
   ]
  },
  {
   "cell_type": "markdown",
   "metadata": {},
   "source": [
    "# C問題"
   ]
  },
  {
   "cell_type": "code",
   "execution_count": 12,
   "metadata": {},
   "outputs": [
    {
     "name": "stdout",
     "output_type": "stream",
     "text": [
      "7\n",
      "6 7 8\n",
      "8 8 3\n",
      "2 5 2\n",
      "7 8 6\n",
      "4 6 8\n",
      "2 3 4\n",
      "7 5 1\n",
      "46\n"
     ]
    }
   ],
   "source": [
    "n = int(input())\n",
    "lst = [list(map(int,input().split())) for i in range(n)]\n",
    "dp = [[0,0,0] for i in range(n+1)]\n",
    "\n",
    "for i in range(n):\n",
    "    for j in range(3):\n",
    "        for k in range(3):\n",
    "            if j != k:\n",
    "                dp[i+1][k] = max(dp[i+1][k], dp[i][j] + lst[i][k])\n",
    "\n",
    "ans = max(dp[n])\n",
    "print(ans)"
   ]
  },
  {
   "cell_type": "markdown",
   "metadata": {},
   "source": [
    "# D問題"
   ]
  },
  {
   "cell_type": "code",
   "execution_count": 27,
   "metadata": {},
   "outputs": [
    {
     "name": "stdout",
     "output_type": "stream",
     "text": [
      "3 8\n",
      "3 30\n",
      "4 50\n",
      "5 60\n",
      "90\n"
     ]
    }
   ],
   "source": [
    "N, W = map(int,input().split())\n",
    "w = [0]*(N+1)\n",
    "v = [0]*(N+1)\n",
    "for i in range(1,N+1):\n",
    "    w[i], v[i] = map(int,input().split())\n",
    "    \n",
    "dp = [[0]*(W+1) for i in range(N+1)]\n",
    "\n",
    "# i番目の荷物までの最高価値dp[i][j]を調べる\n",
    "for i in range(N+1):\n",
    "    # 制限重量jまでの最高価値dp[i][j]を調べる\n",
    "    for j in range(W+1):\n",
    "        # i番目の荷物の重量w[i]が制限重量jを超えない場合\n",
    "        if j >= w[i]:\n",
    "            dp[i][j] = max(dp[i-1][j], dp[i-1][j-w[i]]+v[i])\n",
    "        else:\n",
    "            dp[i][j] = dp[i-1][j]\n",
    "\n",
    "ans = dp[N][W]\n",
    "print(ans)"
   ]
  },
  {
   "cell_type": "markdown",
   "metadata": {},
   "source": [
    "# E問題"
   ]
  },
  {
   "cell_type": "code",
   "execution_count": 30,
   "metadata": {},
   "outputs": [
    {
     "name": "stdout",
     "output_type": "stream",
     "text": [
      "6 15\n",
      "6 5\n",
      "5 6\n",
      "6 4\n",
      "6 6\n",
      "3 5\n",
      "7 2\n",
      "17\n"
     ]
    }
   ],
   "source": [
    "N, W = map(int,input().split())\n",
    "w = [0]*(N+1)\n",
    "v = [0]*(N+1)\n",
    "for i in range(1,N+1):\n",
    "    w[i], v[i] = map(int,input().split())\n",
    "\n",
    "# 「品物i * 価値v」のDPテーブルを作り、各セル(i,v)における最小重量を求めていく\n",
    "inf = float(\"inf\")\n",
    "V = sum(v)\n",
    "dp = [[inf]*(V+1) for i in range(N+1)]\n",
    "dp[0][0] = 0\n",
    "\n",
    "# i番目の荷物までの最小重量dp[i][j]を調べる\n",
    "for i in range(1,N+1):\n",
    "    # 価値vを満たす最小重量dp[i][j]を調べる\n",
    "    for j in range(V+1):\n",
    "        # i番目の荷物の価値v[i]が価値jを超えない場合\n",
    "        if j >= v[i]:\n",
    "            dp[i][j] = min(dp[i-1][j], dp[i-1][j-v[i]]+w[i])\n",
    "        else:\n",
    "            dp[i][j] = dp[i-1][j]\n",
    "\n",
    "# 最適値の出力\n",
    "ans = 0\n",
    "for value in range(V+1):\n",
    "    if dp[N][value] <= W:\n",
    "        ans = value\n",
    "\n",
    "print(ans)"
   ]
  }
 ],
 "metadata": {
  "kernelspec": {
   "display_name": "Python 3",
   "language": "python",
   "name": "python3"
  },
  "language_info": {
   "codemirror_mode": {
    "name": "ipython",
    "version": 3
   },
   "file_extension": ".py",
   "mimetype": "text/x-python",
   "name": "python",
   "nbconvert_exporter": "python",
   "pygments_lexer": "ipython3",
   "version": "3.6.5"
  },
  "toc": {
   "base_numbering": 1,
   "nav_menu": {},
   "number_sections": true,
   "sideBar": true,
   "skip_h1_title": false,
   "title_cell": "Table of Contents",
   "title_sidebar": "Contents",
   "toc_cell": false,
   "toc_position": {},
   "toc_section_display": true,
   "toc_window_display": false
  }
 },
 "nbformat": 4,
 "nbformat_minor": 2
}
